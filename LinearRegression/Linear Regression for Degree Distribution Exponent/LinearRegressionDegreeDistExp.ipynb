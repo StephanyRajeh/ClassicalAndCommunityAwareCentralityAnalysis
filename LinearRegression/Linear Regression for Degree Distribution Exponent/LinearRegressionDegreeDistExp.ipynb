{
 "cells": [
  {
   "cell_type": "markdown",
   "metadata": {},
   "source": [
    "# Read dependent variables: Mean$_L$ and Mean$_G$ of Kendall's Tau Correlations $\\alpha, \\beta$"
   ]
  },
  {
   "cell_type": "code",
   "execution_count": 1,
   "metadata": {},
   "outputs": [],
   "source": [
    "# Animals - Dolphins xx\n",
    "dolphins_feature_vector = [0.597 , 0.386]"
   ]
  },
  {
   "cell_type": "code",
   "execution_count": 2,
   "metadata": {},
   "outputs": [],
   "source": [
    "# Animals - Reptiles xx\n",
    "reptiles_feature_vector = [0.549 , 0.354]"
   ]
  },
  {
   "cell_type": "code",
   "execution_count": 3,
   "metadata": {},
   "outputs": [],
   "source": [
    "# Bio - Ecoli xx\n",
    "ecoli_feature_vector = [0.3 , 0.441]"
   ]
  },
  {
   "cell_type": "code",
   "execution_count": 4,
   "metadata": {},
   "outputs": [],
   "source": [
    "# Bio - Human Protein xx\n",
    "humanprotein_feature_vector = [0.369 , 0.472]"
   ]
  },
  {
   "cell_type": "code",
   "execution_count": 5,
   "metadata": {},
   "outputs": [],
   "source": [
    "# Bio - Mouse Visual Cortex xx\n",
    "mousevisualcortex_feature_vector = [0.151 , 0.493]"
   ]
  },
  {
   "cell_type": "code",
   "execution_count": 6,
   "metadata": {},
   "outputs": [],
   "source": [
    "# Bio - Yeast Protein xx\n",
    "yeastprotein_feature_vector = [0.388 , 0.437]"
   ]
  },
  {
   "cell_type": "code",
   "execution_count": 7,
   "metadata": {},
   "outputs": [],
   "source": [
    "# Collab - AstroPh xx\n",
    "astroph_feature_vector = [0.59 , 0.52]"
   ]
  },
  {
   "cell_type": "code",
   "execution_count": 8,
   "metadata": {},
   "outputs": [],
   "source": [
    "# Collab - CS PhD xx\n",
    "csphd_feature_vector = [0.345 , 0.354]"
   ]
  },
  {
   "cell_type": "code",
   "execution_count": 9,
   "metadata": {},
   "outputs": [],
   "source": [
    "# Collab - GrQc xx\n",
    "grqc_feature_vector = [0.501 , 0.411]"
   ]
  },
  {
   "cell_type": "code",
   "execution_count": 10,
   "metadata": {},
   "outputs": [],
   "source": [
    "# Collab - NetSci xx\n",
    "netsci_feature_vector = [0.511 , 0.365]"
   ]
  },
  {
   "cell_type": "code",
   "execution_count": 11,
   "metadata": {},
   "outputs": [],
   "source": [
    "# Human Social - Adolescent Health xx\n",
    "adolescenthealth_feature_vector = [0.528 , 0.366]"
   ]
  },
  {
   "cell_type": "code",
   "execution_count": 12,
   "metadata": {},
   "outputs": [],
   "source": [
    "# Human Social - Jazz xx\n",
    "jazz_feature_vector = [0.644 , 0.445]"
   ]
  },
  {
   "cell_type": "code",
   "execution_count": 13,
   "metadata": {},
   "outputs": [],
   "source": [
    "# Human Social - Karate xx\n",
    "karate_feature_vector = [0.596 , 0.434]"
   ]
  },
  {
   "cell_type": "code",
   "execution_count": 14,
   "metadata": {},
   "outputs": [],
   "source": [
    "# Human Social - Madrid Train Bombings xx\n",
    "madridtrainbombings_feature_vector = [0.585 , 0.246]"
   ]
  },
  {
   "cell_type": "code",
   "execution_count": 15,
   "metadata": {},
   "outputs": [],
   "source": [
    "# Infra - EuroRoad xx\n",
    "euroroad_feature_vector = [0.372 , 0.374]"
   ]
  },
  {
   "cell_type": "code",
   "execution_count": 16,
   "metadata": {},
   "outputs": [],
   "source": [
    "# Infra - US Airports x\n",
    "usairports_feature_vector = [0.515 , 0.264]"
   ]
  },
  {
   "cell_type": "code",
   "execution_count": 17,
   "metadata": {},
   "outputs": [],
   "source": [
    "# Infra - US Power Grids xx\n",
    "uspowergrids_feature_vector = [0.46 , 0.349]"
   ]
  },
  {
   "cell_type": "code",
   "execution_count": 18,
   "metadata": {},
   "outputs": [],
   "source": [
    "# Infra - US States xx\n",
    "usstates_feature_vector = [0.452 , 0.436]"
   ]
  },
  {
   "cell_type": "code",
   "execution_count": 19,
   "metadata": {},
   "outputs": [],
   "source": [
    "# Misc - Football xx\n",
    "football_feature_vector = [0.126 , 0.206]"
   ]
  },
  {
   "cell_type": "code",
   "execution_count": 20,
   "metadata": {},
   "outputs": [],
   "source": [
    "# Misc - Internet Autonomous Systems xx\n",
    "internetas_feature_vector = [0.183 , 0.412]"
   ]
  },
  {
   "cell_type": "code",
   "execution_count": 21,
   "metadata": {},
   "outputs": [],
   "source": [
    "# Misc - Les Mis xx\n",
    "lesmis_feature_vector = [0.614 , 0.541]"
   ]
  },
  {
   "cell_type": "code",
   "execution_count": 22,
   "metadata": {},
   "outputs": [],
   "source": [
    "# Misc - PolBooks xx\n",
    "polbooks_feature_vector = [0.526 , 0.233]"
   ]
  },
  {
   "cell_type": "code",
   "execution_count": 23,
   "metadata": {},
   "outputs": [],
   "source": [
    "# OSN - DeezerEU xx\n",
    "deezereu_feature_vector = [0.44 , 0.509]"
   ]
  },
  {
   "cell_type": "code",
   "execution_count": 24,
   "metadata": {},
   "outputs": [],
   "source": [
    "# OSN - Ego Facebook xx\n",
    "egofacebook_feature_vector = [0.53 , 0.253]"
   ]
  },
  {
   "cell_type": "code",
   "execution_count": 25,
   "metadata": {},
   "outputs": [],
   "source": [
    "# OSN - FB Caltech xx\n",
    "caltech_feature_vector = [0.643 , 0.59]"
   ]
  },
  {
   "cell_type": "code",
   "execution_count": 26,
   "metadata": {},
   "outputs": [],
   "source": [
    "# OSN - FB Politician Pages xx\n",
    "fbpoliticianpages_feature_vector = [0.515 , 0.315]  "
   ]
  },
  {
   "cell_type": "code",
   "execution_count": 27,
   "metadata": {},
   "outputs": [],
   "source": [
    "# OSN - Hamsterster xx\n",
    "hamsterster_feature_vector = [0.514 , 0.438]"
   ]
  },
  {
   "cell_type": "code",
   "execution_count": 28,
   "metadata": {},
   "outputs": [],
   "source": [
    "# OSN - PGP xx\n",
    "pgp_feature_vector = [0.477 , 0.389]"
   ]
  },
  {
   "cell_type": "code",
   "execution_count": 29,
   "metadata": {},
   "outputs": [],
   "source": [
    "# OSN - FB Princeton xx\n",
    "princeton_feature_vector = [0.552 , 0.608]"
   ]
  },
  {
   "cell_type": "code",
   "execution_count": 30,
   "metadata": {},
   "outputs": [],
   "source": [
    "# OSN - Twitter xx\n",
    "twitter_feature_vector = [0.402 , 0.473]"
   ]
  },
  {
   "cell_type": "code",
   "execution_count": 31,
   "metadata": {},
   "outputs": [],
   "source": [
    "# Bio - BlumenauDrug xx\n",
    "blumenaudrug_feature_vector = [0.53 , 0.52]"
   ]
  },
  {
   "cell_type": "code",
   "execution_count": 32,
   "metadata": {},
   "outputs": [],
   "source": [
    "# Bio - BudapestConnectome xx\n",
    "budapestconnectome_feature_vector = [0.649 , 0.331]"
   ]
  },
  {
   "cell_type": "code",
   "execution_count": 33,
   "metadata": {},
   "outputs": [],
   "source": [
    "# Bio - YeastCollins xx\n",
    "yeastcollins_feature_vector = [0.536 , 0.33]"
   ]
  },
  {
   "cell_type": "code",
   "execution_count": 34,
   "metadata": {},
   "outputs": [],
   "source": [
    "# Bio - InteractomeVidal xx\n",
    "interactomevidal_feature_vector = [0.405 , 0.498]"
   ]
  },
  {
   "cell_type": "code",
   "execution_count": 35,
   "metadata": {},
   "outputs": [],
   "source": [
    "# Bio - MalariaGenes xx\n",
    "malariagenes_feature_vector = [0.51 , 0.219]"
   ]
  },
  {
   "cell_type": "code",
   "execution_count": 36,
   "metadata": {},
   "outputs": [],
   "source": [
    "# Bio - KeggMetabolic xx\n",
    "keggmetabolic_feature_vector = [0.296 , 0.405]"
   ]
  },
  {
   "cell_type": "code",
   "execution_count": 37,
   "metadata": {},
   "outputs": [],
   "source": [
    "# Collab - NewZealand xx\n",
    "newzealand_feature_vector = [0.24 , 0.569]"
   ]
  },
  {
   "cell_type": "code",
   "execution_count": 38,
   "metadata": {},
   "outputs": [],
   "source": [
    "# Infra - EUAirlines xx\n",
    "euairlines_feature_vector = [0.731 , 0.367]"
   ]
  },
  {
   "cell_type": "code",
   "execution_count": 39,
   "metadata": {},
   "outputs": [],
   "source": [
    "# Infra - InternetTopCogentco x\n",
    "internettopcogentco_feature_vector = [0.31 , 0.336]"
   ]
  },
  {
   "cell_type": "code",
   "execution_count": 40,
   "metadata": {},
   "outputs": [],
   "source": [
    "# Infra - LondonTransport xx\n",
    "londontransport_feature_vector = [0.259 , 0.36] "
   ]
  },
  {
   "cell_type": "code",
   "execution_count": 41,
   "metadata": {},
   "outputs": [],
   "source": [
    "# Misc - 911AllWords xx\n",
    "allwords911_feature_vector = [0.492 , 0.348] "
   ]
  },
  {
   "cell_type": "code",
   "execution_count": 42,
   "metadata": {},
   "outputs": [],
   "source": [
    "# Misc - MovieGalaxies xx\n",
    "moviegalaxies_feature_vector = [0.458 , 0.527]"
   ]
  },
  {
   "cell_type": "code",
   "execution_count": 43,
   "metadata": {},
   "outputs": [],
   "source": [
    "# Misc - BibleNouns xx\n",
    "biblenouns_feature_vector = [0.448 , 0.542] "
   ]
  },
  {
   "cell_type": "code",
   "execution_count": 44,
   "metadata": {},
   "outputs": [],
   "source": [
    "# Misc- BoardDirectors xx\n",
    "boarddirectors_feature_vector = [0.467 , 0.28] "
   ]
  },
  {
   "cell_type": "code",
   "execution_count": 45,
   "metadata": {},
   "outputs": [],
   "source": [
    "# Misc - DNCEmails xx\n",
    "dncemails_feature_vector = [0.523 , 0.575]"
   ]
  },
  {
   "cell_type": "code",
   "execution_count": 46,
   "metadata": {},
   "outputs": [],
   "source": [
    "# Misc - GoT xx\n",
    "got_feature_vector = [0.571 , 0.515]"
   ]
  },
  {
   "cell_type": "code",
   "execution_count": 47,
   "metadata": {},
   "outputs": [],
   "source": [
    "# Misc - MarvelPartnerships xx\n",
    "marvelpartnerships_feature_vector = [0.498 , 0.364]"
   ]
  },
  {
   "cell_type": "code",
   "execution_count": 48,
   "metadata": {},
   "outputs": [],
   "source": [
    "# OSN - FacebookFriends xx\n",
    "facebookfriends_feature_vector = [0.567 , 0.224]"
   ]
  },
  {
   "cell_type": "code",
   "execution_count": 49,
   "metadata": {},
   "outputs": [],
   "source": [
    "# OSN - FacebookOrganizations xx\n",
    "facebookorganizations_feature_vector = [0.415 , 0.427]"
   ]
  },
  {
   "cell_type": "code",
   "execution_count": 50,
   "metadata": {},
   "outputs": [],
   "source": [
    "# Cite - DBLPCite xx\n",
    "dblpcite_feature_vector = [0.511 , 0.581]"
   ]
  },
  {
   "cell_type": "code",
   "execution_count": null,
   "metadata": {},
   "outputs": [],
   "source": []
  },
  {
   "cell_type": "code",
   "execution_count": 51,
   "metadata": {},
   "outputs": [],
   "source": [
    "labels = [\"Dolphins\", \n",
    "          \"Reptiles\", \n",
    "          \"E. coli Trans\", \n",
    "          \"Human Protein\",  \n",
    "          \"Mouse Visual Cortex\", \n",
    "          \"Yeast Protein\",\n",
    "          \"AstroPh\",\n",
    "          \"CS PhD\",\n",
    "          \"GrQc\",\n",
    "          \"NetSci\",\n",
    "          \"Adolescent Health\",\n",
    "          \"Jazz\",\n",
    "          \"Zachary Karate Club\",\n",
    "          \"Madrid Train Bombings\",\n",
    "          \"EuroRoads\",\n",
    "          \"US Airports\",\n",
    "          \"US Power Grids\",\n",
    "          \"US States\",\n",
    "          \"Football\",\n",
    "          \"Internet AS.\",\n",
    "          \"Les Misérables\",\n",
    "          \"Pol. Books\",\n",
    "          \"Deezer EU\",\n",
    "          \"Ego Facebook\",\n",
    "          \"Caltech\",\n",
    "          \"Facebook Pol. Pages\",\n",
    "          \"Hamsterster\",\n",
    "          \"PGP\",\n",
    "          \"Princeton\",\n",
    "          \"Retweets\",\n",
    "          \"BlumenauDrug\",\n",
    "          \"BudapestConnectome\",\n",
    "          \"YeastCollins\",\n",
    "          \"InteractomeVidal\",\n",
    "          \"MalariaGenes\",\n",
    "          \"KeggMetabolic\",\n",
    "          \"NewZealand\",\n",
    "          \"EUAirlines\",\n",
    "          \"InternetTopCogentco\",\n",
    "          \"LondonTransport\",\n",
    "          \"911AllWords\",\n",
    "          \"MovieGalaxies\",\n",
    "          \"BibleNouns\",\n",
    "          \"BoardDirectors\",\n",
    "          \"DNCEmails\",\n",
    "          \"GoT\",\n",
    "          \"MarvelPartnerships\",\n",
    "          \"FacebookFriends\",\n",
    "          \"FacebookOrganizations\",\n",
    "          \"DBLPCite\"\n",
    "         ]"
   ]
  },
  {
   "cell_type": "code",
   "execution_count": 52,
   "metadata": {},
   "outputs": [
    {
     "data": {
      "text/plain": [
       "50"
      ]
     },
     "execution_count": 52,
     "metadata": {},
     "output_type": "execute_result"
    }
   ],
   "source": [
    "len(labels)"
   ]
  },
  {
   "cell_type": "code",
   "execution_count": 53,
   "metadata": {},
   "outputs": [],
   "source": [
    "import pandas as pd"
   ]
  },
  {
   "cell_type": "code",
   "execution_count": 54,
   "metadata": {},
   "outputs": [],
   "source": [
    "d1 = dolphins_feature_vector\n",
    "d2 = reptiles_feature_vector\n",
    "d3 = ecoli_feature_vector\n",
    "d4 = humanprotein_feature_vector\n",
    "d5 = mousevisualcortex_feature_vector\n",
    "d6 = yeastprotein_feature_vector\n",
    "d7 = astroph_feature_vector\n",
    "d8 = csphd_feature_vector\n",
    "d9 = grqc_feature_vector\n",
    "d10 = netsci_feature_vector\n",
    "d11 = adolescenthealth_feature_vector\n",
    "d12 = jazz_feature_vector\n",
    "d13 = karate_feature_vector\n",
    "d14 = madridtrainbombings_feature_vector\n",
    "d15 = euroroad_feature_vector\n",
    "d16 = usairports_feature_vector\n",
    "d17 = uspowergrids_feature_vector\n",
    "d18 = usstates_feature_vector\n",
    "d19 = football_feature_vector\n",
    "d20 = internetas_feature_vector\n",
    "d21 = lesmis_feature_vector\n",
    "d22 = polbooks_feature_vector\n",
    "d23 = deezereu_feature_vector\n",
    "d24 = egofacebook_feature_vector\n",
    "d25 = caltech_feature_vector\n",
    "d26 = fbpoliticianpages_feature_vector\n",
    "d27 = hamsterster_feature_vector\n",
    "d28 = pgp_feature_vector\n",
    "d29 = princeton_feature_vector\n",
    "d30 = twitter_feature_vector\n",
    "d31 = blumenaudrug_feature_vector\n",
    "d32 = budapestconnectome_feature_vector\n",
    "d33 = yeastcollins_feature_vector\n",
    "d34 = interactomevidal_feature_vector\n",
    "d35 = malariagenes_feature_vector\n",
    "d36 = keggmetabolic_feature_vector\n",
    "d37 = newzealand_feature_vector\n",
    "d38 = euairlines_feature_vector\n",
    "d39 = internettopcogentco_feature_vector\n",
    "d40 = londontransport_feature_vector\n",
    "d41 = allwords911_feature_vector\n",
    "d42 = moviegalaxies_feature_vector\n",
    "d43 = biblenouns_feature_vector\n",
    "d44 = boarddirectors_feature_vector\n",
    "d45 = dncemails_feature_vector\n",
    "d46 = got_feature_vector\n",
    "d47 = marvelpartnerships_feature_vector\n",
    "d48 = facebookfriends_feature_vector\n",
    "d49 = facebookorganizations_feature_vector\n",
    "d50 = dblpcite_feature_vector\n",
    "\n",
    "df = pd.DataFrame([d1, d2, d3, d4, d5, d6, d7, d8, d9, d10, d11, d12, d13, d14, d15, d16, d17, d18, d19, d20, d21, d22, d23,\n",
    "                  d24, d25, d26, d27, d28, d29, d30, d31, d32, d33, d34, d35, d36, d37, d38, d39, d40, d41, d42,\n",
    "                  d43, d44, d45, d46, d47, d48, d49, d50])"
   ]
  },
  {
   "cell_type": "code",
   "execution_count": 55,
   "metadata": {
    "scrolled": false
   },
   "outputs": [
    {
     "data": {
      "text/html": [
       "<div>\n",
       "<style scoped>\n",
       "    .dataframe tbody tr th:only-of-type {\n",
       "        vertical-align: middle;\n",
       "    }\n",
       "\n",
       "    .dataframe tbody tr th {\n",
       "        vertical-align: top;\n",
       "    }\n",
       "\n",
       "    .dataframe thead th {\n",
       "        text-align: right;\n",
       "    }\n",
       "</style>\n",
       "<table border=\"1\" class=\"dataframe\">\n",
       "  <thead>\n",
       "    <tr style=\"text-align: right;\">\n",
       "      <th></th>\n",
       "      <th>Mean-LocalComponent</th>\n",
       "      <th>Mean-GlobalComponent</th>\n",
       "    </tr>\n",
       "  </thead>\n",
       "  <tbody>\n",
       "    <tr>\n",
       "      <th>Dolphins</th>\n",
       "      <td>0.597</td>\n",
       "      <td>0.386</td>\n",
       "    </tr>\n",
       "    <tr>\n",
       "      <th>Reptiles</th>\n",
       "      <td>0.549</td>\n",
       "      <td>0.354</td>\n",
       "    </tr>\n",
       "    <tr>\n",
       "      <th>E. coli Trans</th>\n",
       "      <td>0.300</td>\n",
       "      <td>0.441</td>\n",
       "    </tr>\n",
       "    <tr>\n",
       "      <th>Human Protein</th>\n",
       "      <td>0.369</td>\n",
       "      <td>0.472</td>\n",
       "    </tr>\n",
       "    <tr>\n",
       "      <th>Mouse Visual Cortex</th>\n",
       "      <td>0.151</td>\n",
       "      <td>0.493</td>\n",
       "    </tr>\n",
       "    <tr>\n",
       "      <th>Yeast Protein</th>\n",
       "      <td>0.388</td>\n",
       "      <td>0.437</td>\n",
       "    </tr>\n",
       "    <tr>\n",
       "      <th>AstroPh</th>\n",
       "      <td>0.590</td>\n",
       "      <td>0.520</td>\n",
       "    </tr>\n",
       "    <tr>\n",
       "      <th>CS PhD</th>\n",
       "      <td>0.345</td>\n",
       "      <td>0.354</td>\n",
       "    </tr>\n",
       "    <tr>\n",
       "      <th>GrQc</th>\n",
       "      <td>0.501</td>\n",
       "      <td>0.411</td>\n",
       "    </tr>\n",
       "    <tr>\n",
       "      <th>NetSci</th>\n",
       "      <td>0.511</td>\n",
       "      <td>0.365</td>\n",
       "    </tr>\n",
       "    <tr>\n",
       "      <th>Adolescent Health</th>\n",
       "      <td>0.528</td>\n",
       "      <td>0.366</td>\n",
       "    </tr>\n",
       "    <tr>\n",
       "      <th>Jazz</th>\n",
       "      <td>0.644</td>\n",
       "      <td>0.445</td>\n",
       "    </tr>\n",
       "    <tr>\n",
       "      <th>Zachary Karate Club</th>\n",
       "      <td>0.596</td>\n",
       "      <td>0.434</td>\n",
       "    </tr>\n",
       "    <tr>\n",
       "      <th>Madrid Train Bombings</th>\n",
       "      <td>0.585</td>\n",
       "      <td>0.246</td>\n",
       "    </tr>\n",
       "    <tr>\n",
       "      <th>EuroRoads</th>\n",
       "      <td>0.372</td>\n",
       "      <td>0.374</td>\n",
       "    </tr>\n",
       "    <tr>\n",
       "      <th>US Airports</th>\n",
       "      <td>0.515</td>\n",
       "      <td>0.264</td>\n",
       "    </tr>\n",
       "    <tr>\n",
       "      <th>US Power Grids</th>\n",
       "      <td>0.460</td>\n",
       "      <td>0.349</td>\n",
       "    </tr>\n",
       "    <tr>\n",
       "      <th>US States</th>\n",
       "      <td>0.452</td>\n",
       "      <td>0.436</td>\n",
       "    </tr>\n",
       "    <tr>\n",
       "      <th>Football</th>\n",
       "      <td>0.126</td>\n",
       "      <td>0.206</td>\n",
       "    </tr>\n",
       "    <tr>\n",
       "      <th>Internet AS.</th>\n",
       "      <td>0.183</td>\n",
       "      <td>0.412</td>\n",
       "    </tr>\n",
       "    <tr>\n",
       "      <th>Les Misérables</th>\n",
       "      <td>0.614</td>\n",
       "      <td>0.541</td>\n",
       "    </tr>\n",
       "    <tr>\n",
       "      <th>Pol. Books</th>\n",
       "      <td>0.526</td>\n",
       "      <td>0.233</td>\n",
       "    </tr>\n",
       "    <tr>\n",
       "      <th>Deezer EU</th>\n",
       "      <td>0.440</td>\n",
       "      <td>0.509</td>\n",
       "    </tr>\n",
       "    <tr>\n",
       "      <th>Ego Facebook</th>\n",
       "      <td>0.530</td>\n",
       "      <td>0.253</td>\n",
       "    </tr>\n",
       "    <tr>\n",
       "      <th>Caltech</th>\n",
       "      <td>0.643</td>\n",
       "      <td>0.590</td>\n",
       "    </tr>\n",
       "    <tr>\n",
       "      <th>Facebook Pol. Pages</th>\n",
       "      <td>0.515</td>\n",
       "      <td>0.315</td>\n",
       "    </tr>\n",
       "    <tr>\n",
       "      <th>Hamsterster</th>\n",
       "      <td>0.514</td>\n",
       "      <td>0.438</td>\n",
       "    </tr>\n",
       "    <tr>\n",
       "      <th>PGP</th>\n",
       "      <td>0.477</td>\n",
       "      <td>0.389</td>\n",
       "    </tr>\n",
       "    <tr>\n",
       "      <th>Princeton</th>\n",
       "      <td>0.552</td>\n",
       "      <td>0.608</td>\n",
       "    </tr>\n",
       "    <tr>\n",
       "      <th>Retweets</th>\n",
       "      <td>0.402</td>\n",
       "      <td>0.473</td>\n",
       "    </tr>\n",
       "    <tr>\n",
       "      <th>BlumenauDrug</th>\n",
       "      <td>0.530</td>\n",
       "      <td>0.520</td>\n",
       "    </tr>\n",
       "    <tr>\n",
       "      <th>BudapestConnectome</th>\n",
       "      <td>0.649</td>\n",
       "      <td>0.331</td>\n",
       "    </tr>\n",
       "    <tr>\n",
       "      <th>YeastCollins</th>\n",
       "      <td>0.536</td>\n",
       "      <td>0.330</td>\n",
       "    </tr>\n",
       "    <tr>\n",
       "      <th>InteractomeVidal</th>\n",
       "      <td>0.405</td>\n",
       "      <td>0.498</td>\n",
       "    </tr>\n",
       "    <tr>\n",
       "      <th>MalariaGenes</th>\n",
       "      <td>0.510</td>\n",
       "      <td>0.219</td>\n",
       "    </tr>\n",
       "    <tr>\n",
       "      <th>KeggMetabolic</th>\n",
       "      <td>0.296</td>\n",
       "      <td>0.405</td>\n",
       "    </tr>\n",
       "    <tr>\n",
       "      <th>NewZealand</th>\n",
       "      <td>0.240</td>\n",
       "      <td>0.569</td>\n",
       "    </tr>\n",
       "    <tr>\n",
       "      <th>EUAirlines</th>\n",
       "      <td>0.731</td>\n",
       "      <td>0.367</td>\n",
       "    </tr>\n",
       "    <tr>\n",
       "      <th>InternetTopCogentco</th>\n",
       "      <td>0.310</td>\n",
       "      <td>0.336</td>\n",
       "    </tr>\n",
       "    <tr>\n",
       "      <th>LondonTransport</th>\n",
       "      <td>0.259</td>\n",
       "      <td>0.360</td>\n",
       "    </tr>\n",
       "    <tr>\n",
       "      <th>911AllWords</th>\n",
       "      <td>0.492</td>\n",
       "      <td>0.348</td>\n",
       "    </tr>\n",
       "    <tr>\n",
       "      <th>MovieGalaxies</th>\n",
       "      <td>0.458</td>\n",
       "      <td>0.527</td>\n",
       "    </tr>\n",
       "    <tr>\n",
       "      <th>BibleNouns</th>\n",
       "      <td>0.448</td>\n",
       "      <td>0.542</td>\n",
       "    </tr>\n",
       "    <tr>\n",
       "      <th>BoardDirectors</th>\n",
       "      <td>0.467</td>\n",
       "      <td>0.280</td>\n",
       "    </tr>\n",
       "    <tr>\n",
       "      <th>DNCEmails</th>\n",
       "      <td>0.523</td>\n",
       "      <td>0.575</td>\n",
       "    </tr>\n",
       "    <tr>\n",
       "      <th>GoT</th>\n",
       "      <td>0.571</td>\n",
       "      <td>0.515</td>\n",
       "    </tr>\n",
       "    <tr>\n",
       "      <th>MarvelPartnerships</th>\n",
       "      <td>0.498</td>\n",
       "      <td>0.364</td>\n",
       "    </tr>\n",
       "    <tr>\n",
       "      <th>FacebookFriends</th>\n",
       "      <td>0.567</td>\n",
       "      <td>0.224</td>\n",
       "    </tr>\n",
       "    <tr>\n",
       "      <th>FacebookOrganizations</th>\n",
       "      <td>0.415</td>\n",
       "      <td>0.427</td>\n",
       "    </tr>\n",
       "    <tr>\n",
       "      <th>DBLPCite</th>\n",
       "      <td>0.511</td>\n",
       "      <td>0.581</td>\n",
       "    </tr>\n",
       "  </tbody>\n",
       "</table>\n",
       "</div>"
      ],
      "text/plain": [
       "                       Mean-LocalComponent  Mean-GlobalComponent\n",
       "Dolphins                             0.597                 0.386\n",
       "Reptiles                             0.549                 0.354\n",
       "E. coli Trans                        0.300                 0.441\n",
       "Human Protein                        0.369                 0.472\n",
       "Mouse Visual Cortex                  0.151                 0.493\n",
       "Yeast Protein                        0.388                 0.437\n",
       "AstroPh                              0.590                 0.520\n",
       "CS PhD                               0.345                 0.354\n",
       "GrQc                                 0.501                 0.411\n",
       "NetSci                               0.511                 0.365\n",
       "Adolescent Health                    0.528                 0.366\n",
       "Jazz                                 0.644                 0.445\n",
       "Zachary Karate Club                  0.596                 0.434\n",
       "Madrid Train Bombings                0.585                 0.246\n",
       "EuroRoads                            0.372                 0.374\n",
       "US Airports                          0.515                 0.264\n",
       "US Power Grids                       0.460                 0.349\n",
       "US States                            0.452                 0.436\n",
       "Football                             0.126                 0.206\n",
       "Internet AS.                         0.183                 0.412\n",
       "Les Misérables                       0.614                 0.541\n",
       "Pol. Books                           0.526                 0.233\n",
       "Deezer EU                            0.440                 0.509\n",
       "Ego Facebook                         0.530                 0.253\n",
       "Caltech                              0.643                 0.590\n",
       "Facebook Pol. Pages                  0.515                 0.315\n",
       "Hamsterster                          0.514                 0.438\n",
       "PGP                                  0.477                 0.389\n",
       "Princeton                            0.552                 0.608\n",
       "Retweets                             0.402                 0.473\n",
       "BlumenauDrug                         0.530                 0.520\n",
       "BudapestConnectome                   0.649                 0.331\n",
       "YeastCollins                         0.536                 0.330\n",
       "InteractomeVidal                     0.405                 0.498\n",
       "MalariaGenes                         0.510                 0.219\n",
       "KeggMetabolic                        0.296                 0.405\n",
       "NewZealand                           0.240                 0.569\n",
       "EUAirlines                           0.731                 0.367\n",
       "InternetTopCogentco                  0.310                 0.336\n",
       "LondonTransport                      0.259                 0.360\n",
       "911AllWords                          0.492                 0.348\n",
       "MovieGalaxies                        0.458                 0.527\n",
       "BibleNouns                           0.448                 0.542\n",
       "BoardDirectors                       0.467                 0.280\n",
       "DNCEmails                            0.523                 0.575\n",
       "GoT                                  0.571                 0.515\n",
       "MarvelPartnerships                   0.498                 0.364\n",
       "FacebookFriends                      0.567                 0.224\n",
       "FacebookOrganizations                0.415                 0.427\n",
       "DBLPCite                             0.511                 0.581"
      ]
     },
     "execution_count": 55,
     "metadata": {},
     "output_type": "execute_result"
    }
   ],
   "source": [
    "df.rename(index={\n",
    "          0:\"Dolphins\", \n",
    "          1:\"Reptiles\", \n",
    "          2:\"E. coli Trans\", \n",
    "          3:\"Human Protein\",  \n",
    "          4:\"Mouse Visual Cortex\", \n",
    "          5:\"Yeast Protein\",\n",
    "          6:\"AstroPh\",\n",
    "          7:\"CS PhD\",\n",
    "          8:\"GrQc\",\n",
    "          9:\"NetSci\",\n",
    "          10:\"Adolescent Health\",\n",
    "          11:\"Jazz\",\n",
    "          12:\"Zachary Karate Club\",\n",
    "          13: \"Madrid Train Bombings\",\n",
    "          14:\"EuroRoads\",\n",
    "          15:\"US Airports\",\n",
    "          16:\"US Power Grids\",\n",
    "          17:\"US States\",\n",
    "          18:\"Football\",\n",
    "          19:\"Internet AS.\",\n",
    "          20:\"Les Misérables\",\n",
    "          21:\"Pol. Books\",\n",
    "          22:\"Deezer EU\",\n",
    "          23:\"Ego Facebook\",\n",
    "          24:\"Caltech\",\n",
    "          25:\"Facebook Pol. Pages\",\n",
    "          26:\"Hamsterster\",\n",
    "          27:\"PGP\",\n",
    "          28:\"Princeton\",\n",
    "          29:\"Retweets\", \n",
    "          30: \"BlumenauDrug\",\n",
    "          31:\"BudapestConnectome\",\n",
    "          32: \"YeastCollins\",\n",
    "          33: \"InteractomeVidal\",\n",
    "          34: \"MalariaGenes\",\n",
    "          35: \"KeggMetabolic\",\n",
    "          36: \"NewZealand\",\n",
    "          37: \"EUAirlines\",\n",
    "          38: \"InternetTopCogentco\",\n",
    "          39: \"LondonTransport\",\n",
    "          40: \"911AllWords\",\n",
    "          41: \"MovieGalaxies\",\n",
    "          42: \"BibleNouns\",\n",
    "          43: \"BoardDirectors\",\n",
    "          44: \"DNCEmails\",\n",
    "          45: \"GoT\",\n",
    "          46: \"MarvelPartnerships\",\n",
    "          47: \"FacebookFriends\",\n",
    "          48: \"FacebookOrganizations\",\n",
    "          49: \"DBLPCite\"},\n",
    "          inplace=True)\n",
    "\n",
    "df.rename(columns={\n",
    "    0: 'Mean-LocalComponent',\n",
    "    1: 'Mean-GlobalComponent',\n",
    "  }, inplace=True)\n",
    "df"
   ]
  },
  {
   "cell_type": "code",
   "execution_count": 56,
   "metadata": {
    "scrolled": false
   },
   "outputs": [
    {
     "data": {
      "text/html": [
       "<div>\n",
       "<style scoped>\n",
       "    .dataframe tbody tr th:only-of-type {\n",
       "        vertical-align: middle;\n",
       "    }\n",
       "\n",
       "    .dataframe tbody tr th {\n",
       "        vertical-align: top;\n",
       "    }\n",
       "\n",
       "    .dataframe thead th {\n",
       "        text-align: right;\n",
       "    }\n",
       "</style>\n",
       "<table border=\"1\" class=\"dataframe\">\n",
       "  <thead>\n",
       "    <tr style=\"text-align: right;\">\n",
       "      <th></th>\n",
       "      <th>Mean-LocalComponent</th>\n",
       "      <th>Mean-GlobalComponent</th>\n",
       "    </tr>\n",
       "  </thead>\n",
       "  <tbody>\n",
       "    <tr>\n",
       "      <th>Dolphins</th>\n",
       "      <td>0.597</td>\n",
       "      <td>0.386</td>\n",
       "    </tr>\n",
       "    <tr>\n",
       "      <th>Reptiles</th>\n",
       "      <td>0.549</td>\n",
       "      <td>0.354</td>\n",
       "    </tr>\n",
       "    <tr>\n",
       "      <th>E. coli Trans</th>\n",
       "      <td>0.300</td>\n",
       "      <td>0.441</td>\n",
       "    </tr>\n",
       "    <tr>\n",
       "      <th>Human Protein</th>\n",
       "      <td>0.369</td>\n",
       "      <td>0.472</td>\n",
       "    </tr>\n",
       "    <tr>\n",
       "      <th>Mouse Visual Cortex</th>\n",
       "      <td>0.151</td>\n",
       "      <td>0.493</td>\n",
       "    </tr>\n",
       "    <tr>\n",
       "      <th>Yeast Protein</th>\n",
       "      <td>0.388</td>\n",
       "      <td>0.437</td>\n",
       "    </tr>\n",
       "    <tr>\n",
       "      <th>AstroPh</th>\n",
       "      <td>0.590</td>\n",
       "      <td>0.520</td>\n",
       "    </tr>\n",
       "    <tr>\n",
       "      <th>CS PhD</th>\n",
       "      <td>0.345</td>\n",
       "      <td>0.354</td>\n",
       "    </tr>\n",
       "    <tr>\n",
       "      <th>GrQc</th>\n",
       "      <td>0.501</td>\n",
       "      <td>0.411</td>\n",
       "    </tr>\n",
       "    <tr>\n",
       "      <th>NetSci</th>\n",
       "      <td>0.511</td>\n",
       "      <td>0.365</td>\n",
       "    </tr>\n",
       "    <tr>\n",
       "      <th>Adolescent Health</th>\n",
       "      <td>0.528</td>\n",
       "      <td>0.366</td>\n",
       "    </tr>\n",
       "    <tr>\n",
       "      <th>Jazz</th>\n",
       "      <td>0.644</td>\n",
       "      <td>0.445</td>\n",
       "    </tr>\n",
       "    <tr>\n",
       "      <th>Zachary Karate Club</th>\n",
       "      <td>0.596</td>\n",
       "      <td>0.434</td>\n",
       "    </tr>\n",
       "    <tr>\n",
       "      <th>Madrid Train Bombings</th>\n",
       "      <td>0.585</td>\n",
       "      <td>0.246</td>\n",
       "    </tr>\n",
       "    <tr>\n",
       "      <th>EuroRoads</th>\n",
       "      <td>0.372</td>\n",
       "      <td>0.374</td>\n",
       "    </tr>\n",
       "    <tr>\n",
       "      <th>US Airports</th>\n",
       "      <td>0.515</td>\n",
       "      <td>0.264</td>\n",
       "    </tr>\n",
       "    <tr>\n",
       "      <th>US Power Grids</th>\n",
       "      <td>0.460</td>\n",
       "      <td>0.349</td>\n",
       "    </tr>\n",
       "    <tr>\n",
       "      <th>US States</th>\n",
       "      <td>0.452</td>\n",
       "      <td>0.436</td>\n",
       "    </tr>\n",
       "    <tr>\n",
       "      <th>Football</th>\n",
       "      <td>0.126</td>\n",
       "      <td>0.206</td>\n",
       "    </tr>\n",
       "    <tr>\n",
       "      <th>Internet AS.</th>\n",
       "      <td>0.183</td>\n",
       "      <td>0.412</td>\n",
       "    </tr>\n",
       "    <tr>\n",
       "      <th>Les Misérables</th>\n",
       "      <td>0.614</td>\n",
       "      <td>0.541</td>\n",
       "    </tr>\n",
       "    <tr>\n",
       "      <th>Pol. Books</th>\n",
       "      <td>0.526</td>\n",
       "      <td>0.233</td>\n",
       "    </tr>\n",
       "    <tr>\n",
       "      <th>Deezer EU</th>\n",
       "      <td>0.440</td>\n",
       "      <td>0.509</td>\n",
       "    </tr>\n",
       "    <tr>\n",
       "      <th>Ego Facebook</th>\n",
       "      <td>0.530</td>\n",
       "      <td>0.253</td>\n",
       "    </tr>\n",
       "    <tr>\n",
       "      <th>Caltech</th>\n",
       "      <td>0.643</td>\n",
       "      <td>0.590</td>\n",
       "    </tr>\n",
       "    <tr>\n",
       "      <th>Facebook Pol. Pages</th>\n",
       "      <td>0.515</td>\n",
       "      <td>0.315</td>\n",
       "    </tr>\n",
       "    <tr>\n",
       "      <th>Hamsterster</th>\n",
       "      <td>0.514</td>\n",
       "      <td>0.438</td>\n",
       "    </tr>\n",
       "    <tr>\n",
       "      <th>PGP</th>\n",
       "      <td>0.477</td>\n",
       "      <td>0.389</td>\n",
       "    </tr>\n",
       "    <tr>\n",
       "      <th>Princeton</th>\n",
       "      <td>0.552</td>\n",
       "      <td>0.608</td>\n",
       "    </tr>\n",
       "    <tr>\n",
       "      <th>Retweets</th>\n",
       "      <td>0.402</td>\n",
       "      <td>0.473</td>\n",
       "    </tr>\n",
       "    <tr>\n",
       "      <th>BlumenauDrug</th>\n",
       "      <td>0.530</td>\n",
       "      <td>0.520</td>\n",
       "    </tr>\n",
       "    <tr>\n",
       "      <th>BudapestConnectome</th>\n",
       "      <td>0.649</td>\n",
       "      <td>0.331</td>\n",
       "    </tr>\n",
       "    <tr>\n",
       "      <th>YeastCollins</th>\n",
       "      <td>0.536</td>\n",
       "      <td>0.330</td>\n",
       "    </tr>\n",
       "    <tr>\n",
       "      <th>InteractomeVidal</th>\n",
       "      <td>0.405</td>\n",
       "      <td>0.498</td>\n",
       "    </tr>\n",
       "    <tr>\n",
       "      <th>MalariaGenes</th>\n",
       "      <td>0.510</td>\n",
       "      <td>0.219</td>\n",
       "    </tr>\n",
       "    <tr>\n",
       "      <th>KeggMetabolic</th>\n",
       "      <td>0.296</td>\n",
       "      <td>0.405</td>\n",
       "    </tr>\n",
       "    <tr>\n",
       "      <th>NewZealand</th>\n",
       "      <td>0.240</td>\n",
       "      <td>0.569</td>\n",
       "    </tr>\n",
       "    <tr>\n",
       "      <th>EUAirlines</th>\n",
       "      <td>0.731</td>\n",
       "      <td>0.367</td>\n",
       "    </tr>\n",
       "    <tr>\n",
       "      <th>InternetTopCogentco</th>\n",
       "      <td>0.310</td>\n",
       "      <td>0.336</td>\n",
       "    </tr>\n",
       "    <tr>\n",
       "      <th>LondonTransport</th>\n",
       "      <td>0.259</td>\n",
       "      <td>0.360</td>\n",
       "    </tr>\n",
       "    <tr>\n",
       "      <th>911AllWords</th>\n",
       "      <td>0.492</td>\n",
       "      <td>0.348</td>\n",
       "    </tr>\n",
       "    <tr>\n",
       "      <th>MovieGalaxies</th>\n",
       "      <td>0.458</td>\n",
       "      <td>0.527</td>\n",
       "    </tr>\n",
       "    <tr>\n",
       "      <th>BibleNouns</th>\n",
       "      <td>0.448</td>\n",
       "      <td>0.542</td>\n",
       "    </tr>\n",
       "    <tr>\n",
       "      <th>BoardDirectors</th>\n",
       "      <td>0.467</td>\n",
       "      <td>0.280</td>\n",
       "    </tr>\n",
       "    <tr>\n",
       "      <th>DNCEmails</th>\n",
       "      <td>0.523</td>\n",
       "      <td>0.575</td>\n",
       "    </tr>\n",
       "    <tr>\n",
       "      <th>GoT</th>\n",
       "      <td>0.571</td>\n",
       "      <td>0.515</td>\n",
       "    </tr>\n",
       "    <tr>\n",
       "      <th>MarvelPartnerships</th>\n",
       "      <td>0.498</td>\n",
       "      <td>0.364</td>\n",
       "    </tr>\n",
       "    <tr>\n",
       "      <th>FacebookFriends</th>\n",
       "      <td>0.567</td>\n",
       "      <td>0.224</td>\n",
       "    </tr>\n",
       "    <tr>\n",
       "      <th>FacebookOrganizations</th>\n",
       "      <td>0.415</td>\n",
       "      <td>0.427</td>\n",
       "    </tr>\n",
       "    <tr>\n",
       "      <th>DBLPCite</th>\n",
       "      <td>0.511</td>\n",
       "      <td>0.581</td>\n",
       "    </tr>\n",
       "  </tbody>\n",
       "</table>\n",
       "</div>"
      ],
      "text/plain": [
       "                       Mean-LocalComponent  Mean-GlobalComponent\n",
       "Dolphins                             0.597                 0.386\n",
       "Reptiles                             0.549                 0.354\n",
       "E. coli Trans                        0.300                 0.441\n",
       "Human Protein                        0.369                 0.472\n",
       "Mouse Visual Cortex                  0.151                 0.493\n",
       "Yeast Protein                        0.388                 0.437\n",
       "AstroPh                              0.590                 0.520\n",
       "CS PhD                               0.345                 0.354\n",
       "GrQc                                 0.501                 0.411\n",
       "NetSci                               0.511                 0.365\n",
       "Adolescent Health                    0.528                 0.366\n",
       "Jazz                                 0.644                 0.445\n",
       "Zachary Karate Club                  0.596                 0.434\n",
       "Madrid Train Bombings                0.585                 0.246\n",
       "EuroRoads                            0.372                 0.374\n",
       "US Airports                          0.515                 0.264\n",
       "US Power Grids                       0.460                 0.349\n",
       "US States                            0.452                 0.436\n",
       "Football                             0.126                 0.206\n",
       "Internet AS.                         0.183                 0.412\n",
       "Les Misérables                       0.614                 0.541\n",
       "Pol. Books                           0.526                 0.233\n",
       "Deezer EU                            0.440                 0.509\n",
       "Ego Facebook                         0.530                 0.253\n",
       "Caltech                              0.643                 0.590\n",
       "Facebook Pol. Pages                  0.515                 0.315\n",
       "Hamsterster                          0.514                 0.438\n",
       "PGP                                  0.477                 0.389\n",
       "Princeton                            0.552                 0.608\n",
       "Retweets                             0.402                 0.473\n",
       "BlumenauDrug                         0.530                 0.520\n",
       "BudapestConnectome                   0.649                 0.331\n",
       "YeastCollins                         0.536                 0.330\n",
       "InteractomeVidal                     0.405                 0.498\n",
       "MalariaGenes                         0.510                 0.219\n",
       "KeggMetabolic                        0.296                 0.405\n",
       "NewZealand                           0.240                 0.569\n",
       "EUAirlines                           0.731                 0.367\n",
       "InternetTopCogentco                  0.310                 0.336\n",
       "LondonTransport                      0.259                 0.360\n",
       "911AllWords                          0.492                 0.348\n",
       "MovieGalaxies                        0.458                 0.527\n",
       "BibleNouns                           0.448                 0.542\n",
       "BoardDirectors                       0.467                 0.280\n",
       "DNCEmails                            0.523                 0.575\n",
       "GoT                                  0.571                 0.515\n",
       "MarvelPartnerships                   0.498                 0.364\n",
       "FacebookFriends                      0.567                 0.224\n",
       "FacebookOrganizations                0.415                 0.427\n",
       "DBLPCite                             0.511                 0.581"
      ]
     },
     "execution_count": 56,
     "metadata": {},
     "output_type": "execute_result"
    }
   ],
   "source": [
    "df_dependent_variables = df[['Mean-LocalComponent', 'Mean-GlobalComponent']].copy()\n",
    "df_dependent_variables"
   ]
  },
  {
   "cell_type": "code",
   "execution_count": 57,
   "metadata": {},
   "outputs": [],
   "source": [
    "import matplotlib.pyplot as plt\n",
    "import numpy as np\n",
    "import seaborn as sns"
   ]
  },
  {
   "cell_type": "markdown",
   "metadata": {},
   "source": [
    "# Read independent variable: Degree Distribution Exponent"
   ]
  },
  {
   "cell_type": "code",
   "execution_count": 58,
   "metadata": {},
   "outputs": [
    {
     "data": {
      "text/html": [
       "<div>\n",
       "<style scoped>\n",
       "    .dataframe tbody tr th:only-of-type {\n",
       "        vertical-align: middle;\n",
       "    }\n",
       "\n",
       "    .dataframe tbody tr th {\n",
       "        vertical-align: top;\n",
       "    }\n",
       "\n",
       "    .dataframe thead th {\n",
       "        text-align: right;\n",
       "    }\n",
       "</style>\n",
       "<table border=\"1\" class=\"dataframe\">\n",
       "  <thead>\n",
       "    <tr style=\"text-align: right;\">\n",
       "      <th></th>\n",
       "      <th>Degree Distribution Exponent</th>\n",
       "    </tr>\n",
       "  </thead>\n",
       "  <tbody>\n",
       "    <tr>\n",
       "      <th>Dolphins</th>\n",
       "      <td>1.470</td>\n",
       "    </tr>\n",
       "    <tr>\n",
       "      <th>Reptiles</th>\n",
       "      <td>2.120</td>\n",
       "    </tr>\n",
       "    <tr>\n",
       "      <th>E. coli Trans</th>\n",
       "      <td>2.295</td>\n",
       "    </tr>\n",
       "    <tr>\n",
       "      <th>Human Protein</th>\n",
       "      <td>2.240</td>\n",
       "    </tr>\n",
       "    <tr>\n",
       "      <th>Mouse Visual Cortex</th>\n",
       "      <td>2.060</td>\n",
       "    </tr>\n",
       "    <tr>\n",
       "      <th>Yeast Protein</th>\n",
       "      <td>2.185</td>\n",
       "    </tr>\n",
       "    <tr>\n",
       "      <th>AstroPh</th>\n",
       "      <td>2.891</td>\n",
       "    </tr>\n",
       "    <tr>\n",
       "      <th>CS PhD</th>\n",
       "      <td>1.928</td>\n",
       "    </tr>\n",
       "    <tr>\n",
       "      <th>GrQc</th>\n",
       "      <td>2.042</td>\n",
       "    </tr>\n",
       "    <tr>\n",
       "      <th>NetSci</th>\n",
       "      <td>2.386</td>\n",
       "    </tr>\n",
       "    <tr>\n",
       "      <th>Adolescent Health</th>\n",
       "      <td>1.876</td>\n",
       "    </tr>\n",
       "    <tr>\n",
       "      <th>Jazz</th>\n",
       "      <td>1.447</td>\n",
       "    </tr>\n",
       "    <tr>\n",
       "      <th>Zachary Karate Club</th>\n",
       "      <td>2.094</td>\n",
       "    </tr>\n",
       "    <tr>\n",
       "      <th>Madrid Train Bombings</th>\n",
       "      <td>1.425</td>\n",
       "    </tr>\n",
       "    <tr>\n",
       "      <th>EuroRoads</th>\n",
       "      <td>1.660</td>\n",
       "    </tr>\n",
       "    <tr>\n",
       "      <th>US Airports</th>\n",
       "      <td>1.702</td>\n",
       "    </tr>\n",
       "    <tr>\n",
       "      <th>US Power Grids</th>\n",
       "      <td>1.669</td>\n",
       "    </tr>\n",
       "    <tr>\n",
       "      <th>US States</th>\n",
       "      <td>1.478</td>\n",
       "    </tr>\n",
       "    <tr>\n",
       "      <th>Football</th>\n",
       "      <td>1.327</td>\n",
       "    </tr>\n",
       "    <tr>\n",
       "      <th>Internet AS.</th>\n",
       "      <td>2.356</td>\n",
       "    </tr>\n",
       "    <tr>\n",
       "      <th>Les Misérables</th>\n",
       "      <td>1.689</td>\n",
       "    </tr>\n",
       "    <tr>\n",
       "      <th>Pol. Books</th>\n",
       "      <td>2.600</td>\n",
       "    </tr>\n",
       "    <tr>\n",
       "      <th>Deezer EU</th>\n",
       "      <td>2.273</td>\n",
       "    </tr>\n",
       "    <tr>\n",
       "      <th>Ego Facebook</th>\n",
       "      <td>2.291</td>\n",
       "    </tr>\n",
       "    <tr>\n",
       "      <th>Caltech</th>\n",
       "      <td>3.005</td>\n",
       "    </tr>\n",
       "    <tr>\n",
       "      <th>Facebook Pol. Pages</th>\n",
       "      <td>2.664</td>\n",
       "    </tr>\n",
       "    <tr>\n",
       "      <th>Hamsterster</th>\n",
       "      <td>1.868</td>\n",
       "    </tr>\n",
       "    <tr>\n",
       "      <th>PGP</th>\n",
       "      <td>2.804</td>\n",
       "    </tr>\n",
       "    <tr>\n",
       "      <th>Princeton</th>\n",
       "      <td>3.046</td>\n",
       "    </tr>\n",
       "    <tr>\n",
       "      <th>Retweets</th>\n",
       "      <td>2.178</td>\n",
       "    </tr>\n",
       "    <tr>\n",
       "      <th>BlumenauDrug</th>\n",
       "      <td>2.437</td>\n",
       "    </tr>\n",
       "    <tr>\n",
       "      <th>BudapestConnectome</th>\n",
       "      <td>1.696</td>\n",
       "    </tr>\n",
       "    <tr>\n",
       "      <th>YeastCollins</th>\n",
       "      <td>2.120</td>\n",
       "    </tr>\n",
       "    <tr>\n",
       "      <th>InteractomeVidal</th>\n",
       "      <td>2.192</td>\n",
       "    </tr>\n",
       "    <tr>\n",
       "      <th>MalariaGenes</th>\n",
       "      <td>2.443</td>\n",
       "    </tr>\n",
       "    <tr>\n",
       "      <th>KeggMetabolic</th>\n",
       "      <td>2.331</td>\n",
       "    </tr>\n",
       "    <tr>\n",
       "      <th>NewZealand</th>\n",
       "      <td>2.112</td>\n",
       "    </tr>\n",
       "    <tr>\n",
       "      <th>EUAirlines</th>\n",
       "      <td>2.061</td>\n",
       "    </tr>\n",
       "    <tr>\n",
       "      <th>InternetTopCogentco</th>\n",
       "      <td>1.660</td>\n",
       "    </tr>\n",
       "    <tr>\n",
       "      <th>LondonTransport</th>\n",
       "      <td>1.682</td>\n",
       "    </tr>\n",
       "    <tr>\n",
       "      <th>911AllWords</th>\n",
       "      <td>2.023</td>\n",
       "    </tr>\n",
       "    <tr>\n",
       "      <th>MovieGalaxies</th>\n",
       "      <td>2.392</td>\n",
       "    </tr>\n",
       "    <tr>\n",
       "      <th>BibleNouns</th>\n",
       "      <td>2.134</td>\n",
       "    </tr>\n",
       "    <tr>\n",
       "      <th>BoardDirectors</th>\n",
       "      <td>2.150</td>\n",
       "    </tr>\n",
       "    <tr>\n",
       "      <th>DNCEmails</th>\n",
       "      <td>1.417</td>\n",
       "    </tr>\n",
       "    <tr>\n",
       "      <th>GoT</th>\n",
       "      <td>2.022</td>\n",
       "    </tr>\n",
       "    <tr>\n",
       "      <th>MarvelPartnerships</th>\n",
       "      <td>1.724</td>\n",
       "    </tr>\n",
       "    <tr>\n",
       "      <th>FacebookFriends</th>\n",
       "      <td>2.015</td>\n",
       "    </tr>\n",
       "    <tr>\n",
       "      <th>FacebookOrganizations</th>\n",
       "      <td>2.279</td>\n",
       "    </tr>\n",
       "    <tr>\n",
       "      <th>DBLPCite</th>\n",
       "      <td>2.324</td>\n",
       "    </tr>\n",
       "  </tbody>\n",
       "</table>\n",
       "</div>"
      ],
      "text/plain": [
       "                       Degree Distribution Exponent\n",
       "Dolphins                                      1.470\n",
       "Reptiles                                      2.120\n",
       "E. coli Trans                                 2.295\n",
       "Human Protein                                 2.240\n",
       "Mouse Visual Cortex                           2.060\n",
       "Yeast Protein                                 2.185\n",
       "AstroPh                                       2.891\n",
       "CS PhD                                        1.928\n",
       "GrQc                                          2.042\n",
       "NetSci                                        2.386\n",
       "Adolescent Health                             1.876\n",
       "Jazz                                          1.447\n",
       "Zachary Karate Club                           2.094\n",
       "Madrid Train Bombings                         1.425\n",
       "EuroRoads                                     1.660\n",
       "US Airports                                   1.702\n",
       "US Power Grids                                1.669\n",
       "US States                                     1.478\n",
       "Football                                      1.327\n",
       "Internet AS.                                  2.356\n",
       "Les Misérables                                1.689\n",
       "Pol. Books                                    2.600\n",
       "Deezer EU                                     2.273\n",
       "Ego Facebook                                  2.291\n",
       "Caltech                                       3.005\n",
       "Facebook Pol. Pages                           2.664\n",
       "Hamsterster                                   1.868\n",
       "PGP                                           2.804\n",
       "Princeton                                     3.046\n",
       "Retweets                                      2.178\n",
       "BlumenauDrug                                  2.437\n",
       "BudapestConnectome                            1.696\n",
       "YeastCollins                                  2.120\n",
       "InteractomeVidal                              2.192\n",
       "MalariaGenes                                  2.443\n",
       "KeggMetabolic                                 2.331\n",
       "NewZealand                                    2.112\n",
       "EUAirlines                                    2.061\n",
       "InternetTopCogentco                           1.660\n",
       "LondonTransport                               1.682\n",
       "911AllWords                                   2.023\n",
       "MovieGalaxies                                 2.392\n",
       "BibleNouns                                    2.134\n",
       "BoardDirectors                                2.150\n",
       "DNCEmails                                     1.417\n",
       "GoT                                           2.022\n",
       "MarvelPartnerships                            1.724\n",
       "FacebookFriends                               2.015\n",
       "FacebookOrganizations                         2.279\n",
       "DBLPCite                                      2.324"
      ]
     },
     "execution_count": 58,
     "metadata": {},
     "output_type": "execute_result"
    }
   ],
   "source": [
    "# Animals - Dolphins\n",
    "dolphins_feature_vector = [1.470]\n",
    "                           \n",
    "# Animals - Reptiles\n",
    "reptiles_feature_vector = [2.12]\n",
    "\n",
    "# Bio - Ecoli\n",
    "ecoli_feature_vector = [2.295]\n",
    "\n",
    "# Bio - Human Protein\n",
    "humanprotein_feature_vector = [2.240]\n",
    "\n",
    "# Bio - Mouse Visual Cortex\n",
    "mousevisualcortex_feature_vector = [2.06]\n",
    "\n",
    "# Bio - Yeast Protein\n",
    "yeastprotein_feature_vector = [2.185]\n",
    "\n",
    "# Collab - AstroPh\n",
    "astroph_feature_vector = [2.891]\n",
    "\n",
    "# Collab - CS PhD\n",
    "csphd_feature_vector = [1.928]\n",
    "\n",
    "# Collab - GrQc\n",
    "grqc_feature_vector = [2.042]\n",
    "\n",
    "# Collab - NetSci\n",
    "netsci_feature_vector = [2.386]\n",
    "\n",
    "# Human Social - Adolescent Health\n",
    "adolescenthealth_feature_vector = [1.876]\n",
    "\n",
    "# Human Social - Jazz\n",
    "jazz_feature_vector = [1.447]\n",
    "\n",
    "# Human Social - Karate\n",
    "karate_feature_vector = [2.094]\n",
    "\n",
    "# Human Social - Madrid Train Bombings\n",
    "madridtrainbombings_feature_vector = [1.425]\n",
    "\n",
    "# Infra - EuroRoad\n",
    "euroroad_feature_vector = [1.660]\n",
    "\n",
    "# Infra - US Airports\n",
    "usairports_feature_vector = [1.702]\n",
    "\n",
    "# Infra - US Power Grids\n",
    "uspowergrids_feature_vector = [1.669]\n",
    "\n",
    "# Infra - US States\n",
    "usstates_feature_vector = [1.478]\n",
    "\n",
    "# Misc - Football\n",
    "football_feature_vector = [1.327]\n",
    "\n",
    "# Misc - Internet Autonomous Systems\n",
    "internetas_feature_vector = [2.356]\n",
    "\n",
    "# Misc - Les Mis\n",
    "lesmis_feature_vector = [1.689]\n",
    "\n",
    "# Misc - PolBooks\n",
    "polbooks_feature_vector = [2.60]\n",
    "\n",
    "# OSN - DeezerEU\n",
    "deezereu_feature_vector = [2.273]\n",
    "\n",
    "# OSN - Ego Facebook\n",
    "egofacebook_feature_vector = [2.291]\n",
    "\n",
    "# OSN - FB Caltech\n",
    "caltech_feature_vector = [3.005]\n",
    "\n",
    "# OSN - FB Politician Pages\n",
    "fbpoliticianpages_feature_vector = [2.664]\n",
    "\n",
    "# OSN - Hamsterster\n",
    "hamsterster_feature_vector = [1.868]\n",
    "\n",
    "# OSN - PGP\n",
    "pgp_feature_vector = [2.804]\n",
    "\n",
    "# OSN - FB Princeton\n",
    "princeton_feature_vector = [3.046]\n",
    "\n",
    "# OSN - Twitter\n",
    "twitter_feature_vector = [2.178]\n",
    "\n",
    "# Additions Credibility\n",
    "# Bio - BlumenauDrug\n",
    "blumenaudrug_feature_vector = [2.437]\n",
    "\n",
    "# Bio - BudapestConnectome\n",
    "budapestconnectome_feature_vector = [1.696]\n",
    "\n",
    "# Bio - YeastCollins\n",
    "yeastcollins_feature_vector = [2.120]\n",
    "\n",
    "# Bio - InteractomeVidal\n",
    "interactomevidal_feature_vector = [2.192]\n",
    "\n",
    "# Bio - MalariaGenes\n",
    "malariagenes_feature_vector = [2.443]\n",
    "\n",
    "\n",
    "# Bio - KeggMetabolic\n",
    "keggmetabolic_feature_vector = [2.331]\n",
    "\n",
    "# Collab - NewZealand\n",
    "newzealand_feature_vector = [2.112]\n",
    "\n",
    "# Infra - EUAirlines\n",
    "euairlines_feature_vector = [2.061]\n",
    "\n",
    "# Infra - InternetTopCogentco\n",
    "internettopcogentco_feature_vector = [1.660]\n",
    "\n",
    "# Infra - LondonTransport\n",
    "londontransport_feature_vector = [1.682]\n",
    "\n",
    "# Misc - 911AllWords\n",
    "allwords911_feature_vector = [2.023]\n",
    "\n",
    "# Misc - MovieGalaxies\n",
    "moviegalaxies_feature_vector = [2.392]\n",
    "\n",
    "# Misc - BibleNouns\n",
    "biblenouns_feature_vector = [2.134]\n",
    "\n",
    "# Misc- BoardDirectors\n",
    "boarddirectors_feature_vector = [2.150]\n",
    "\n",
    "# Misc - DNCEmails\n",
    "dncemails_feature_vector = [1.417]\n",
    "\n",
    "# Misc - GoT\n",
    "got_feature_vector = [2.022]\n",
    "\n",
    "# Misc - MarvelPartnerships\n",
    "marvelpartnerships_feature_vector = [1.724]\n",
    "\n",
    "# OSN - FacebookFriends\n",
    "facebookfriends_feature_vector = [2.015]\n",
    "\n",
    "# OSN - FacebookOrganizations\n",
    "facebookorganizations_feature_vector = [2.279]\n",
    "\n",
    "# Cite - DBLPCite\n",
    "dblpcite_feature_vector = [2.324]\n",
    "\n",
    "\n",
    "labels = [\"Dolphins\", \n",
    "          \"Reptiles\", \n",
    "          \"E. coli Trans\", \n",
    "          \"Human Protein\",  \n",
    "          \"Mouse Visual Cortex\", \n",
    "          \"Yeast Protein\",\n",
    "          \"AstroPh\",\n",
    "          \"CS PhD\",\n",
    "          \"GrQc\",\n",
    "          \"NetSci\",\n",
    "          \"Adolescent Health\",\n",
    "          \"Jazz\",\n",
    "          \"Zachary Karate Club\",\n",
    "          \"Madrid Train Bombings\",\n",
    "          \"EuroRoads\",\n",
    "          \"US Airports\",\n",
    "          \"US Power Grids\",\n",
    "          \"US States\",\n",
    "          \"Football\",\n",
    "          \"Internet AS.\",\n",
    "          \"Les Misérables\",\n",
    "          \"Pol. Books\",\n",
    "          \"Deezer EU\",\n",
    "          \"Ego Facebook\",\n",
    "          \"Caltech\",\n",
    "          \"Facebook Pol. Pages\",\n",
    "          \"Hamsterster\",\n",
    "          \"PGP\",\n",
    "          \"Princeton\",\n",
    "          \"Retweets\",\n",
    "          \"BlumenauDrug\",\n",
    "          \"BudapestConnectome\",\n",
    "          \"YeastCollins\",\n",
    "          \"InteractomeVidal\",\n",
    "          \"MalariaGenes\",\n",
    "          \"KeggMetabolic\",\n",
    "          \"NewZealand\",\n",
    "          \"EUAirlines\",\n",
    "          \"InternetTopCogentco\",\n",
    "          \"LondonTransport\",\n",
    "          \"911AllWords\",\n",
    "          \"MovieGalaxies\",\n",
    "          \"BibleNouns\",\n",
    "          \"BoardDirectors\",\n",
    "          \"DNCEmails\",\n",
    "          \"GoT\",\n",
    "          \"MarvelPartnerships\",\n",
    "          \"FacebookFriends\",\n",
    "          \"FacebookOrganizations\",\n",
    "          \"DBLPCite\"\n",
    "         ]\n",
    "\n",
    "len(labels)\n",
    "\n",
    "import pandas as pd\n",
    "\n",
    "d1 = dolphins_feature_vector\n",
    "d2 = reptiles_feature_vector\n",
    "d3 = ecoli_feature_vector\n",
    "d4 = humanprotein_feature_vector\n",
    "d5 = mousevisualcortex_feature_vector\n",
    "d6 = yeastprotein_feature_vector\n",
    "d7 = astroph_feature_vector\n",
    "d8 = csphd_feature_vector\n",
    "d9 = grqc_feature_vector\n",
    "d10 = netsci_feature_vector\n",
    "d11 = adolescenthealth_feature_vector\n",
    "d12 = jazz_feature_vector\n",
    "d13 = karate_feature_vector\n",
    "d14 = madridtrainbombings_feature_vector\n",
    "d15 = euroroad_feature_vector\n",
    "d16 = usairports_feature_vector\n",
    "d17 = uspowergrids_feature_vector\n",
    "d18 = usstates_feature_vector\n",
    "d19 = football_feature_vector\n",
    "d20 = internetas_feature_vector\n",
    "d21 = lesmis_feature_vector\n",
    "d22 = polbooks_feature_vector\n",
    "d23 = deezereu_feature_vector\n",
    "d24 = egofacebook_feature_vector\n",
    "d25 = caltech_feature_vector\n",
    "d26 = fbpoliticianpages_feature_vector\n",
    "d27 = hamsterster_feature_vector\n",
    "d28 = pgp_feature_vector\n",
    "d29 = princeton_feature_vector\n",
    "d30 = twitter_feature_vector\n",
    "d31 = blumenaudrug_feature_vector\n",
    "d32 = budapestconnectome_feature_vector\n",
    "d33 = yeastcollins_feature_vector\n",
    "d34 = interactomevidal_feature_vector\n",
    "d35 = malariagenes_feature_vector\n",
    "d36 = keggmetabolic_feature_vector\n",
    "d37 = newzealand_feature_vector\n",
    "d38 = euairlines_feature_vector\n",
    "d39 = internettopcogentco_feature_vector\n",
    "d40 = londontransport_feature_vector\n",
    "d41 = allwords911_feature_vector\n",
    "d42 = moviegalaxies_feature_vector\n",
    "d43 = biblenouns_feature_vector\n",
    "d44 = boarddirectors_feature_vector\n",
    "d45 = dncemails_feature_vector\n",
    "d46 = got_feature_vector\n",
    "d47 = marvelpartnerships_feature_vector\n",
    "d48 = facebookfriends_feature_vector\n",
    "d49 = facebookorganizations_feature_vector\n",
    "d50 = dblpcite_feature_vector\n",
    "\n",
    "df_macro = pd.DataFrame([d1, d2, d3, d4, d5, d6, d7, d8, d9, d10, d11, d12, d13, d14, d15, d16, d17, d18, d19, d20, d21, d22, d23,\n",
    "                  d24, d25, d26, d27, d28, d29, d30, d31, d32, d33, d34, d35,\n",
    "                         d36, d37, d38, d39, d40, d41, d42, d43, d44, \n",
    "                         d45, d46, d47, d48, d49, d50],\n",
    "                 columns = [\"Degree Distribution Exponent\"])\n",
    "\n",
    "df_macro.rename(index={\n",
    "          0:\"Dolphins\", \n",
    "          1:\"Reptiles\", \n",
    "          2:\"E. coli Trans\", \n",
    "          3:\"Human Protein\",  \n",
    "          4:\"Mouse Visual Cortex\", \n",
    "          5:\"Yeast Protein\",\n",
    "          6:\"AstroPh\",\n",
    "          7:\"CS PhD\",\n",
    "          8:\"GrQc\",\n",
    "          9:\"NetSci\",\n",
    "          10:\"Adolescent Health\",\n",
    "          11:\"Jazz\",\n",
    "          12:\"Zachary Karate Club\",\n",
    "          13: \"Madrid Train Bombings\",\n",
    "          14:\"EuroRoads\",\n",
    "          15:\"US Airports\",\n",
    "          16:\"US Power Grids\",\n",
    "          17:\"US States\",\n",
    "          18:\"Football\",\n",
    "          19:\"Internet AS.\",\n",
    "          20:\"Les Misérables\",\n",
    "          21:\"Pol. Books\",\n",
    "          22:\"Deezer EU\",\n",
    "          23:\"Ego Facebook\",\n",
    "          24:\"Caltech\",\n",
    "          25:\"Facebook Pol. Pages\",\n",
    "          26:\"Hamsterster\",\n",
    "          27:\"PGP\",\n",
    "          28:\"Princeton\",\n",
    "          29:\"Retweets\",\n",
    "          30:\"BlumenauDrug\",\n",
    "          31: \"BudapestConnectome\",\n",
    "          32: \"YeastCollins\",\n",
    "          33: \"InteractomeVidal\", \n",
    "          34: \"MalariaGenes\",\n",
    "          35: \"KeggMetabolic\",\n",
    "          36: \"NewZealand\",\n",
    "          37: \"EUAirlines\",\n",
    "          38: \"InternetTopCogentco\",\n",
    "          39: \"LondonTransport\",\n",
    "          40: \"911AllWords\",\n",
    "          41: \"MovieGalaxies\",\n",
    "          42: \"BibleNouns\",\n",
    "          43: \"BoardDirectors\",\n",
    "          44: \"DNCEmails\",\n",
    "          45: \"GoT\",\n",
    "          46: \"MarvelPartnerships\",\n",
    "          47: \"FacebookFriends\",\n",
    "          48: \"FacebookOrganizations\",\n",
    "          49: \"DBLPCite\"},\n",
    "          inplace=True)\n",
    "df_macro"
   ]
  },
  {
   "cell_type": "markdown",
   "metadata": {},
   "source": [
    "# Performing Simple Linear Regression without football network\n",
    "We may use both `sklearn` and `statsmodels` to get the regression results. Both methods provide the same estimates with the latter being more comprenehnsive."
   ]
  },
  {
   "cell_type": "code",
   "execution_count": 59,
   "metadata": {},
   "outputs": [],
   "source": [
    "from sklearn.linear_model import LinearRegression\n",
    "import statsmodels.api as sm"
   ]
  },
  {
   "cell_type": "code",
   "execution_count": 60,
   "metadata": {
    "scrolled": true
   },
   "outputs": [
    {
     "data": {
      "text/plain": [
       "(49, 1)"
      ]
     },
     "execution_count": 60,
     "metadata": {},
     "output_type": "execute_result"
    }
   ],
   "source": [
    "df_macro_without_football = df_macro.drop('Football')\n",
    "df_macro_without_football.shape"
   ]
  },
  {
   "cell_type": "code",
   "execution_count": 61,
   "metadata": {},
   "outputs": [
    {
     "data": {
      "text/plain": [
       "(49, 2)"
      ]
     },
     "execution_count": 61,
     "metadata": {},
     "output_type": "execute_result"
    }
   ],
   "source": [
    "df_dependent_variables_without_football = df_dependent_variables.drop(\"Football\")\n",
    "df_dependent_variables_without_football.shape"
   ]
  },
  {
   "cell_type": "markdown",
   "metadata": {},
   "source": [
    "## Dependent variable: Local component"
   ]
  },
  {
   "cell_type": "markdown",
   "metadata": {},
   "source": [
    "### Independent variable:  Degree Distributiion Exponent"
   ]
  },
  {
   "cell_type": "code",
   "execution_count": 62,
   "metadata": {},
   "outputs": [],
   "source": [
    "X = df_macro_without_football[['Degree Distribution Exponent']]"
   ]
  },
  {
   "cell_type": "code",
   "execution_count": 63,
   "metadata": {},
   "outputs": [],
   "source": [
    "df_macro_without_football.to_csv(\"df_macro_without_football.csv\", header=True, index=True)"
   ]
  },
  {
   "cell_type": "code",
   "execution_count": 64,
   "metadata": {
    "scrolled": false
   },
   "outputs": [],
   "source": [
    "Y = df_dependent_variables_without_football['Mean-LocalComponent']"
   ]
  },
  {
   "cell_type": "code",
   "execution_count": 65,
   "metadata": {},
   "outputs": [],
   "source": [
    "df_dependent_variables_without_football.to_csv(\"df_dependent_variables_without_football.csv\", header=True, index=True)"
   ]
  },
  {
   "cell_type": "markdown",
   "metadata": {},
   "source": [
    "#### with `sklearn`"
   ]
  },
  {
   "cell_type": "code",
   "execution_count": 66,
   "metadata": {},
   "outputs": [
    {
     "data": {
      "text/plain": [
       "LinearRegression(copy_X=True, fit_intercept=True, n_jobs=None, normalize=False)"
      ]
     },
     "execution_count": 66,
     "metadata": {},
     "output_type": "execute_result"
    }
   ],
   "source": [
    "regr = LinearRegression()\n",
    "regr.fit(X, Y)"
   ]
  },
  {
   "cell_type": "code",
   "execution_count": 67,
   "metadata": {},
   "outputs": [
    {
     "name": "stdout",
     "output_type": "stream",
     "text": [
      "Intercept: \n",
      " 0.4787597211383078\n",
      "Coefficients: \n",
      " [-0.0018865]\n"
     ]
    }
   ],
   "source": [
    "print('Intercept: \\n', regr.intercept_)\n",
    "print('Coefficients: \\n', regr.coef_)"
   ]
  },
  {
   "cell_type": "markdown",
   "metadata": {},
   "source": [
    "#### Plot "
   ]
  },
  {
   "cell_type": "code",
   "execution_count": 68,
   "metadata": {
    "scrolled": false
   },
   "outputs": [
    {
     "data": {
      "image/png": "[encoded data removed]",
      "text/plain": [
       "<Figure size 432x288 with 1 Axes>"
      ]
     },
     "metadata": {
      "needs_background": "light"
     },
     "output_type": "display_data"
    }
   ],
   "source": [
    "predictions = regr.predict(X)\n",
    "#plt.figure(figsize=(16, 8))\n",
    "plt.scatter(\n",
    "    df_macro_without_football['Degree Distribution Exponent'],\n",
    "    df_dependent_variables_without_football['Mean-LocalComponent'],\n",
    "    c='red'\n",
    ")\n",
    "plt.plot(\n",
    "    df_macro_without_football['Degree Distribution Exponent'],\n",
    "    predictions,\n",
    "    c='black',\n",
    "    linewidth=2\n",
    ")\n",
    "plt.xlabel(\"Degree Distribution Exponent\")\n",
    "plt.ylabel(\"Mean-LocalComponent\")\n",
    "plt.show()"
   ]
  },
  {
   "cell_type": "markdown",
   "metadata": {},
   "source": [
    "#### with `statsmodels`"
   ]
  },
  {
   "cell_type": "code",
   "execution_count": 69,
   "metadata": {
    "scrolled": false
   },
   "outputs": [
    {
     "data": {
      "text/html": [
       "<table class=\"simpletable\">\n",
       "<caption>OLS Regression Results</caption>\n",
       "<tr>\n",
       "  <th>Dep. Variable:</th>    <td>Mean-LocalComponent</td> <th>  R-squared:         </th> <td>   0.000</td>\n",
       "</tr>\n",
       "<tr>\n",
       "  <th>Model:</th>                    <td>OLS</td>         <th>  Adj. R-squared:    </th> <td>  -0.021</td>\n",
       "</tr>\n",
       "<tr>\n",
       "  <th>Method:</th>              <td>Least Squares</td>    <th>  F-statistic:       </th> <td>0.001796</td>\n",
       "</tr>\n",
       "<tr>\n",
       "  <th>Date:</th>              <td>Sun, 28 Feb 2021</td>   <th>  Prob (F-statistic):</th>  <td> 0.966</td> \n",
       "</tr>\n",
       "<tr>\n",
       "  <th>Time:</th>                  <td>02:54:07</td>       <th>  Log-Likelihood:    </th> <td>  33.580</td>\n",
       "</tr>\n",
       "<tr>\n",
       "  <th>No. Observations:</th>       <td>    49</td>        <th>  AIC:               </th> <td>  -63.16</td>\n",
       "</tr>\n",
       "<tr>\n",
       "  <th>Df Residuals:</th>           <td>    47</td>        <th>  BIC:               </th> <td>  -59.38</td>\n",
       "</tr>\n",
       "<tr>\n",
       "  <th>Df Model:</th>               <td>     1</td>        <th>                     </th>     <td> </td>   \n",
       "</tr>\n",
       "<tr>\n",
       "  <th>Covariance Type:</th>       <td>nonrobust</td>      <th>                     </th>     <td> </td>   \n",
       "</tr>\n",
       "</table>\n",
       "<table class=\"simpletable\">\n",
       "<tr>\n",
       "                <td></td>                  <th>coef</th>     <th>std err</th>      <th>t</th>      <th>P>|t|</th>  <th>[0.025</th>    <th>0.975]</th>  \n",
       "</tr>\n",
       "<tr>\n",
       "  <th>const</th>                        <td>    0.4788</td> <td>    0.095</td> <td>    5.029</td> <td> 0.000</td> <td>    0.287</td> <td>    0.670</td>\n",
       "</tr>\n",
       "<tr>\n",
       "  <th>Degree Distribution Exponent</th> <td>   -0.0019</td> <td>    0.045</td> <td>   -0.042</td> <td> 0.966</td> <td>   -0.091</td> <td>    0.088</td>\n",
       "</tr>\n",
       "</table>\n",
       "<table class=\"simpletable\">\n",
       "<tr>\n",
       "  <th>Omnibus:</th>       <td> 4.540</td> <th>  Durbin-Watson:     </th> <td>   1.878</td>\n",
       "</tr>\n",
       "<tr>\n",
       "  <th>Prob(Omnibus):</th> <td> 0.103</td> <th>  Jarque-Bera (JB):  </th> <td>   3.692</td>\n",
       "</tr>\n",
       "<tr>\n",
       "  <th>Skew:</th>          <td>-0.662</td> <th>  Prob(JB):          </th> <td>   0.158</td>\n",
       "</tr>\n",
       "<tr>\n",
       "  <th>Kurtosis:</th>      <td> 3.234</td> <th>  Cond. No.          </th> <td>    13.9</td>\n",
       "</tr>\n",
       "</table><br/><br/>Warnings:<br/>[1] Standard Errors assume that the covariance matrix of the errors is correctly specified."
      ],
      "text/plain": [
       "<class 'statsmodels.iolib.summary.Summary'>\n",
       "\"\"\"\n",
       "                             OLS Regression Results                            \n",
       "===============================================================================\n",
       "Dep. Variable:     Mean-LocalComponent   R-squared:                       0.000\n",
       "Model:                             OLS   Adj. R-squared:                 -0.021\n",
       "Method:                  Least Squares   F-statistic:                  0.001796\n",
       "Date:                 Sun, 28 Feb 2021   Prob (F-statistic):              0.966\n",
       "Time:                         02:54:07   Log-Likelihood:                 33.580\n",
       "No. Observations:                   49   AIC:                            -63.16\n",
       "Df Residuals:                       47   BIC:                            -59.38\n",
       "Df Model:                            1                                         \n",
       "Covariance Type:             nonrobust                                         \n",
       "================================================================================================\n",
       "                                   coef    std err          t      P>|t|      [0.025      0.975]\n",
       "------------------------------------------------------------------------------------------------\n",
       "const                            0.4788      0.095      5.029      0.000       0.287       0.670\n",
       "Degree Distribution Exponent    -0.0019      0.045     -0.042      0.966      -0.091       0.088\n",
       "==============================================================================\n",
       "Omnibus:                        4.540   Durbin-Watson:                   1.878\n",
       "Prob(Omnibus):                  0.103   Jarque-Bera (JB):                3.692\n",
       "Skew:                          -0.662   Prob(JB):                        0.158\n",
       "Kurtosis:                       3.234   Cond. No.                         13.9\n",
       "==============================================================================\n",
       "\n",
       "Warnings:\n",
       "[1] Standard Errors assume that the covariance matrix of the errors is correctly specified.\n",
       "\"\"\""
      ]
     },
     "execution_count": 69,
     "metadata": {},
     "output_type": "execute_result"
    }
   ],
   "source": [
    "X = sm.add_constant(X) # adding a constant\n",
    " \n",
    "model = sm.OLS(Y, X).fit()\n",
    "predictions = model.predict(X) \n",
    " \n",
    "print_model = model.summary()\n",
    "print_model"
   ]
  },
  {
   "cell_type": "code",
   "execution_count": 70,
   "metadata": {
    "scrolled": false
   },
   "outputs": [
    {
     "data": {
      "text/plain": [
       "const    0.000008\n",
       "dtype: float64"
      ]
     },
     "execution_count": 70,
     "metadata": {},
     "output_type": "execute_result"
    }
   ],
   "source": [
    "model.pvalues[model.pvalues < 0.05]"
   ]
  },
  {
   "cell_type": "code",
   "execution_count": 71,
   "metadata": {
    "scrolled": true
   },
   "outputs": [
    {
     "data": {
      "text/plain": [
       "const    0.000008\n",
       "dtype: float64"
      ]
     },
     "execution_count": 71,
     "metadata": {},
     "output_type": "execute_result"
    }
   ],
   "source": [
    "model.pvalues[model.pvalues < 0.01]"
   ]
  },
  {
   "cell_type": "markdown",
   "metadata": {},
   "source": [
    "## Dependent variable: Global component"
   ]
  },
  {
   "cell_type": "markdown",
   "metadata": {},
   "source": [
    "### Independent variable: Average Degree"
   ]
  },
  {
   "cell_type": "code",
   "execution_count": 72,
   "metadata": {},
   "outputs": [],
   "source": [
    "X = df_macro_without_football[['Degree Distribution Exponent']]"
   ]
  },
  {
   "cell_type": "code",
   "execution_count": 73,
   "metadata": {
    "scrolled": false
   },
   "outputs": [],
   "source": [
    "Y = df_dependent_variables_without_football['Mean-GlobalComponent']"
   ]
  },
  {
   "cell_type": "markdown",
   "metadata": {},
   "source": [
    "#### with `sklearn`"
   ]
  },
  {
   "cell_type": "code",
   "execution_count": 74,
   "metadata": {},
   "outputs": [
    {
     "data": {
      "text/plain": [
       "LinearRegression(copy_X=True, fit_intercept=True, n_jobs=None, normalize=False)"
      ]
     },
     "execution_count": 74,
     "metadata": {},
     "output_type": "execute_result"
    }
   ],
   "source": [
    "regr = LinearRegression()\n",
    "regr.fit(X, Y)"
   ]
  },
  {
   "cell_type": "code",
   "execution_count": 75,
   "metadata": {},
   "outputs": [
    {
     "name": "stdout",
     "output_type": "stream",
     "text": [
      "Intercept: \n",
      " 0.28527045118844463\n",
      "Coefficients: \n",
      " [0.06068367]\n"
     ]
    }
   ],
   "source": [
    "print('Intercept: \\n', regr.intercept_)\n",
    "print('Coefficients: \\n', regr.coef_)"
   ]
  },
  {
   "cell_type": "markdown",
   "metadata": {},
   "source": [
    "#### Plot "
   ]
  },
  {
   "cell_type": "code",
   "execution_count": 76,
   "metadata": {
    "scrolled": false
   },
   "outputs": [
    {
     "data": {
      "image/png": "[encoded data removed]",
      "text/plain": [
       "<Figure size 432x288 with 1 Axes>"
      ]
     },
     "metadata": {
      "needs_background": "light"
     },
     "output_type": "display_data"
    }
   ],
   "source": [
    "predictions = regr.predict(X)\n",
    "#plt.figure(figsize=(16, 8))\n",
    "plt.scatter(\n",
    "    df_macro_without_football['Degree Distribution Exponent'],\n",
    "    df_dependent_variables_without_football['Mean-GlobalComponent'],\n",
    "    c='red'\n",
    ")\n",
    "plt.plot(\n",
    "    df_macro_without_football['Degree Distribution Exponent'],\n",
    "    predictions,\n",
    "    c='black',\n",
    "    linewidth=2\n",
    ")\n",
    "plt.xlabel(\"Degree Distribution Exponent\")\n",
    "plt.ylabel(\"Mean-GlobalComponent\")\n",
    "plt.show()"
   ]
  },
  {
   "cell_type": "markdown",
   "metadata": {},
   "source": [
    "#### with `statsmodels`"
   ]
  },
  {
   "cell_type": "code",
   "execution_count": 77,
   "metadata": {
    "scrolled": false
   },
   "outputs": [
    {
     "data": {
      "text/html": [
       "<table class=\"simpletable\">\n",
       "<caption>OLS Regression Results</caption>\n",
       "<tr>\n",
       "  <th>Dep. Variable:</th>    <td>Mean-GlobalComponent</td> <th>  R-squared:         </th> <td>   0.055</td>\n",
       "</tr>\n",
       "<tr>\n",
       "  <th>Model:</th>                     <td>OLS</td>         <th>  Adj. R-squared:    </th> <td>   0.035</td>\n",
       "</tr>\n",
       "<tr>\n",
       "  <th>Method:</th>               <td>Least Squares</td>    <th>  F-statistic:       </th> <td>   2.758</td>\n",
       "</tr>\n",
       "<tr>\n",
       "  <th>Date:</th>               <td>Sun, 28 Feb 2021</td>   <th>  Prob (F-statistic):</th>  <td> 0.103</td> \n",
       "</tr>\n",
       "<tr>\n",
       "  <th>Time:</th>                   <td>02:54:07</td>       <th>  Log-Likelihood:    </th> <td>  43.246</td>\n",
       "</tr>\n",
       "<tr>\n",
       "  <th>No. Observations:</th>        <td>    49</td>        <th>  AIC:               </th> <td>  -82.49</td>\n",
       "</tr>\n",
       "<tr>\n",
       "  <th>Df Residuals:</th>            <td>    47</td>        <th>  BIC:               </th> <td>  -78.71</td>\n",
       "</tr>\n",
       "<tr>\n",
       "  <th>Df Model:</th>                <td>     1</td>        <th>                     </th>     <td> </td>   \n",
       "</tr>\n",
       "<tr>\n",
       "  <th>Covariance Type:</th>        <td>nonrobust</td>      <th>                     </th>     <td> </td>   \n",
       "</tr>\n",
       "</table>\n",
       "<table class=\"simpletable\">\n",
       "<tr>\n",
       "                <td></td>                  <th>coef</th>     <th>std err</th>      <th>t</th>      <th>P>|t|</th>  <th>[0.025</th>    <th>0.975]</th>  \n",
       "</tr>\n",
       "<tr>\n",
       "  <th>const</th>                        <td>    0.2853</td> <td>    0.078</td> <td>    3.650</td> <td> 0.001</td> <td>    0.128</td> <td>    0.443</td>\n",
       "</tr>\n",
       "<tr>\n",
       "  <th>Degree Distribution Exponent</th> <td>    0.0607</td> <td>    0.037</td> <td>    1.661</td> <td> 0.103</td> <td>   -0.013</td> <td>    0.134</td>\n",
       "</tr>\n",
       "</table>\n",
       "<table class=\"simpletable\">\n",
       "<tr>\n",
       "  <th>Omnibus:</th>       <td> 0.851</td> <th>  Durbin-Watson:     </th> <td>   2.529</td>\n",
       "</tr>\n",
       "<tr>\n",
       "  <th>Prob(Omnibus):</th> <td> 0.654</td> <th>  Jarque-Bera (JB):  </th> <td>   0.906</td>\n",
       "</tr>\n",
       "<tr>\n",
       "  <th>Skew:</th>          <td>-0.195</td> <th>  Prob(JB):          </th> <td>   0.636</td>\n",
       "</tr>\n",
       "<tr>\n",
       "  <th>Kurtosis:</th>      <td> 2.460</td> <th>  Cond. No.          </th> <td>    13.9</td>\n",
       "</tr>\n",
       "</table><br/><br/>Warnings:<br/>[1] Standard Errors assume that the covariance matrix of the errors is correctly specified."
      ],
      "text/plain": [
       "<class 'statsmodels.iolib.summary.Summary'>\n",
       "\"\"\"\n",
       "                             OLS Regression Results                             \n",
       "================================================================================\n",
       "Dep. Variable:     Mean-GlobalComponent   R-squared:                       0.055\n",
       "Model:                              OLS   Adj. R-squared:                  0.035\n",
       "Method:                   Least Squares   F-statistic:                     2.758\n",
       "Date:                  Sun, 28 Feb 2021   Prob (F-statistic):              0.103\n",
       "Time:                          02:54:07   Log-Likelihood:                 43.246\n",
       "No. Observations:                    49   AIC:                            -82.49\n",
       "Df Residuals:                        47   BIC:                            -78.71\n",
       "Df Model:                             1                                         \n",
       "Covariance Type:              nonrobust                                         \n",
       "================================================================================================\n",
       "                                   coef    std err          t      P>|t|      [0.025      0.975]\n",
       "------------------------------------------------------------------------------------------------\n",
       "const                            0.2853      0.078      3.650      0.001       0.128       0.443\n",
       "Degree Distribution Exponent     0.0607      0.037      1.661      0.103      -0.013       0.134\n",
       "==============================================================================\n",
       "Omnibus:                        0.851   Durbin-Watson:                   2.529\n",
       "Prob(Omnibus):                  0.654   Jarque-Bera (JB):                0.906\n",
       "Skew:                          -0.195   Prob(JB):                        0.636\n",
       "Kurtosis:                       2.460   Cond. No.                         13.9\n",
       "==============================================================================\n",
       "\n",
       "Warnings:\n",
       "[1] Standard Errors assume that the covariance matrix of the errors is correctly specified.\n",
       "\"\"\""
      ]
     },
     "execution_count": 77,
     "metadata": {},
     "output_type": "execute_result"
    }
   ],
   "source": [
    "X = sm.add_constant(X) # adding a constant\n",
    " \n",
    "model = sm.OLS(Y, X).fit()\n",
    "predictions = model.predict(X) \n",
    " \n",
    "print_model = model.summary()\n",
    "print_model"
   ]
  },
  {
   "cell_type": "code",
   "execution_count": 78,
   "metadata": {
    "scrolled": false
   },
   "outputs": [
    {
     "data": {
      "text/plain": [
       "const    0.000657\n",
       "dtype: float64"
      ]
     },
     "execution_count": 78,
     "metadata": {},
     "output_type": "execute_result"
    }
   ],
   "source": [
    "model.pvalues[model.pvalues < 0.05]"
   ]
  },
  {
   "cell_type": "code",
   "execution_count": 79,
   "metadata": {},
   "outputs": [
    {
     "data": {
      "text/plain": [
       "const    0.000657\n",
       "dtype: float64"
      ]
     },
     "execution_count": 79,
     "metadata": {},
     "output_type": "execute_result"
    }
   ],
   "source": [
    "model.pvalues[model.pvalues < 0.01]"
   ]
  },
  {
   "cell_type": "code",
   "execution_count": null,
   "metadata": {},
   "outputs": [],
   "source": []
  },
  {
   "cell_type": "code",
   "execution_count": null,
   "metadata": {},
   "outputs": [],
   "source": []
  }
 ],
 "metadata": {
  "kernelspec": {
   "display_name": "Python 3",
   "language": "python",
   "name": "python3"
  },
  "language_info": {
   "codemirror_mode": {
    "name": "ipython",
    "version": 3
   },
   "file_extension": ".py",
   "mimetype": "text/x-python",
   "name": "python",
   "nbconvert_exporter": "python",
   "pygments_lexer": "ipython3",
   "version": "3.7.3"
  },
  "toc": {
   "base_numbering": 1,
   "nav_menu": {},
   "number_sections": true,
   "sideBar": true,
   "skip_h1_title": false,
   "title_cell": "Table of Contents",
   "title_sidebar": "Contents",
   "toc_cell": false,
   "toc_position": {
    "height": "723px",
    "left": "544px",
    "top": "110px",
    "width": "256px"
   },
   "toc_section_display": true,
   "toc_window_display": true
  }
 },
 "nbformat": 4,
 "nbformat_minor": 4
}

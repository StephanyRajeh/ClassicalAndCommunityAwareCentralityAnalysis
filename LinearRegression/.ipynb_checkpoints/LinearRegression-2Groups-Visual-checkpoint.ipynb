{
 "cells": [
  {
   "cell_type": "markdown",
   "metadata": {},
   "source": [
    "# Read dependent variables: MLC and MGC of Kendall's Tau Correlations $\\alpha, \\beta$"
   ]
  },
  {
   "cell_type": "code",
   "execution_count": 72,
   "metadata": {},
   "outputs": [],
   "source": [
    "# Animals - Dolphins\n",
    "dolphins_feature_vector = [0.613 , 0.378]"
   ]
  },
  {
   "cell_type": "code",
   "execution_count": 73,
   "metadata": {},
   "outputs": [],
   "source": [
    "# Animals - Reptiles\n",
    "reptiles_feature_vector = [0.564 , 0.357]"
   ]
  },
  {
   "cell_type": "code",
   "execution_count": 74,
   "metadata": {},
   "outputs": [],
   "source": [
    "# Bio - Ecoli\n",
    "ecoli_feature_vector = [0.293 , 0.467]"
   ]
  },
  {
   "cell_type": "code",
   "execution_count": 75,
   "metadata": {},
   "outputs": [],
   "source": [
    "# Bio - Human Protein\n",
    "humanprotein_feature_vector = [0.387 , 0.493]"
   ]
  },
  {
   "cell_type": "code",
   "execution_count": 76,
   "metadata": {},
   "outputs": [],
   "source": [
    "# Bio - Mouse Visual Cortex\n",
    "mousevisualcortex_feature_vector = [0.194 , 0.511]"
   ]
  },
  {
   "cell_type": "code",
   "execution_count": 77,
   "metadata": {},
   "outputs": [],
   "source": [
    "# Bio - Yeast Protein\n",
    "yeastprotein_feature_vector = [0.383 , 0.462]"
   ]
  },
  {
   "cell_type": "code",
   "execution_count": 78,
   "metadata": {},
   "outputs": [],
   "source": [
    "# Collab - AstroPh\n",
    "astroph_feature_vector = [0.541 , 0.575]"
   ]
  },
  {
   "cell_type": "code",
   "execution_count": 79,
   "metadata": {},
   "outputs": [],
   "source": [
    "# Collab - CS PhD\n",
    "csphd_feature_vector = [0.375 , 0.318]"
   ]
  },
  {
   "cell_type": "code",
   "execution_count": 80,
   "metadata": {},
   "outputs": [],
   "source": [
    "# Collab - GrQc\n",
    "grqc_feature_vector = [0.521 , 0.414]"
   ]
  },
  {
   "cell_type": "code",
   "execution_count": 81,
   "metadata": {},
   "outputs": [],
   "source": [
    "# Collab - NetSci\n",
    "netsci_feature_vector = [0.514 , 0.358]"
   ]
  },
  {
   "cell_type": "code",
   "execution_count": 82,
   "metadata": {},
   "outputs": [],
   "source": [
    "# Human Social - Adolescent Health\n",
    "adolescenthealth_feature_vector = [0.537 , 0.387]"
   ]
  },
  {
   "cell_type": "code",
   "execution_count": 83,
   "metadata": {},
   "outputs": [],
   "source": [
    "# Human Social - Jazz\n",
    "jazz_feature_vector = [0.613 , 0.443]"
   ]
  },
  {
   "cell_type": "code",
   "execution_count": 84,
   "metadata": {},
   "outputs": [],
   "source": [
    "# Human Social - Karate\n",
    "karate_feature_vector = [0.594 , 0.411]"
   ]
  },
  {
   "cell_type": "code",
   "execution_count": 85,
   "metadata": {},
   "outputs": [],
   "source": [
    "# Human Social - Madrid Train Bombings\n",
    "madridtrainbombings_feature_vector = [0.61 , 0.24]"
   ]
  },
  {
   "cell_type": "code",
   "execution_count": 86,
   "metadata": {},
   "outputs": [],
   "source": [
    "# Infra - EuroRoad\n",
    "euroroad_feature_vector = [0.362 , 0.403]"
   ]
  },
  {
   "cell_type": "code",
   "execution_count": 87,
   "metadata": {},
   "outputs": [],
   "source": [
    "# Infra - US Airports\n",
    "usairports_feature_vector = [0.543 , 0.251]"
   ]
  },
  {
   "cell_type": "code",
   "execution_count": 88,
   "metadata": {},
   "outputs": [],
   "source": [
    "# Infra - US Power Grids\n",
    "uspowergrids_feature_vector = [0.472 , 0.35]"
   ]
  },
  {
   "cell_type": "code",
   "execution_count": 89,
   "metadata": {},
   "outputs": [],
   "source": [
    "# Infra - US States\n",
    "usstates_feature_vector = [0.452 , 0.466]"
   ]
  },
  {
   "cell_type": "code",
   "execution_count": 90,
   "metadata": {},
   "outputs": [],
   "source": [
    "# Misc - Football\n",
    "football_feature_vector = [0.145 , 0.236]"
   ]
  },
  {
   "cell_type": "code",
   "execution_count": 91,
   "metadata": {},
   "outputs": [],
   "source": [
    "# Misc - Internet Autonomous Systems\n",
    "internetas_feature_vector = [0.19 , 0.444]"
   ]
  },
  {
   "cell_type": "code",
   "execution_count": 92,
   "metadata": {},
   "outputs": [],
   "source": [
    "# Misc - Les Mis\n",
    "lesmis_feature_vector = [0.641 , 0.529]"
   ]
  },
  {
   "cell_type": "code",
   "execution_count": 93,
   "metadata": {},
   "outputs": [],
   "source": [
    "# Misc - PolBooks\n",
    "polbooks_feature_vector = [0.539 , 0.233]"
   ]
  },
  {
   "cell_type": "code",
   "execution_count": 94,
   "metadata": {},
   "outputs": [],
   "source": [
    "# OSN - DeezerEU\n",
    "deezereu_feature_vector = [0.433 , 0.546]"
   ]
  },
  {
   "cell_type": "code",
   "execution_count": 95,
   "metadata": {},
   "outputs": [],
   "source": [
    "# OSN - Ego Facebook\n",
    "egofacebook_feature_vector = [0.544 , 0.237]"
   ]
  },
  {
   "cell_type": "code",
   "execution_count": 96,
   "metadata": {},
   "outputs": [],
   "source": [
    "# OSN - FB Caltech\n",
    "caltech_feature_vector = [0.574 , 0.663]"
   ]
  },
  {
   "cell_type": "code",
   "execution_count": 97,
   "metadata": {},
   "outputs": [],
   "source": [
    "# OSN - FB Politician Pages\n",
    "fbpoliticianpages_feature_vector = [0.531 , 0.31]  "
   ]
  },
  {
   "cell_type": "code",
   "execution_count": 98,
   "metadata": {},
   "outputs": [],
   "source": [
    "# OSN - Hamsterster\n",
    "hamsterster_feature_vector = [0.461 , 0.477]"
   ]
  },
  {
   "cell_type": "code",
   "execution_count": 99,
   "metadata": {},
   "outputs": [],
   "source": [
    "# OSN - PGP\n",
    "pgp_feature_vector = [0.491 , 0.383]"
   ]
  },
  {
   "cell_type": "code",
   "execution_count": 100,
   "metadata": {},
   "outputs": [],
   "source": [
    "# OSN - FB Princeton\n",
    "princeton_feature_vector = [0.472 , 0.685]"
   ]
  },
  {
   "cell_type": "code",
   "execution_count": 101,
   "metadata": {},
   "outputs": [],
   "source": [
    "# OSN - Twitter\n",
    "twitter_feature_vector = [0.396 , 0.495]"
   ]
  },
  {
   "cell_type": "code",
   "execution_count": 102,
   "metadata": {},
   "outputs": [],
   "source": [
    "# Bio - BlumenauDrug\n",
    "blumenaudrug_feature_vector = [0.518 , 0.57]"
   ]
  },
  {
   "cell_type": "code",
   "execution_count": 103,
   "metadata": {},
   "outputs": [],
   "source": [
    "# Bio - BudapestConnectome\n",
    "budapestconnectome_feature_vector = [0.643 , 0.314]"
   ]
  },
  {
   "cell_type": "code",
   "execution_count": 104,
   "metadata": {},
   "outputs": [],
   "source": [
    "# Bio - YeastCollins\n",
    "yeastcollins_feature_vector = [0.551 , 0.333]"
   ]
  },
  {
   "cell_type": "code",
   "execution_count": 105,
   "metadata": {},
   "outputs": [],
   "source": [
    "# Bio - InteractomeVidal\n",
    "interactomevidal_feature_vector = [0.396 , 0.529]"
   ]
  },
  {
   "cell_type": "code",
   "execution_count": 106,
   "metadata": {},
   "outputs": [],
   "source": [
    "# Bio - MalariaGenes\n",
    "malariagenes_feature_vector = [0.529 , 0.229]"
   ]
  },
  {
   "cell_type": "code",
   "execution_count": 107,
   "metadata": {},
   "outputs": [],
   "source": [
    "# Bio - KeggMetabolic\n",
    "keggmetabolic_feature_vector = [0.28 , 0.452]"
   ]
  },
  {
   "cell_type": "code",
   "execution_count": 108,
   "metadata": {},
   "outputs": [],
   "source": [
    "# Collab - NewZealand\n",
    "newzealand_feature_vector = [0.268 , 0.602]"
   ]
  },
  {
   "cell_type": "code",
   "execution_count": 109,
   "metadata": {},
   "outputs": [],
   "source": [
    "# Infra - EUAirlines\n",
    "euairlines_feature_vector = [0.732 , 0.339]"
   ]
  },
  {
   "cell_type": "code",
   "execution_count": 110,
   "metadata": {},
   "outputs": [],
   "source": [
    "# Infra - InternetTopCogentco\n",
    "internettopcogentco_feature_vector = [0.306 , 0.362]"
   ]
  },
  {
   "cell_type": "code",
   "execution_count": 111,
   "metadata": {},
   "outputs": [],
   "source": [
    "# Infra - LondonTransport\n",
    "londontransport_feature_vector = [0.26 , 0.386] "
   ]
  },
  {
   "cell_type": "code",
   "execution_count": 112,
   "metadata": {},
   "outputs": [],
   "source": [
    "# Misc - 911AllWords\n",
    "allwords911_feature_vector = [0.534 , 0.315] "
   ]
  },
  {
   "cell_type": "code",
   "execution_count": 113,
   "metadata": {},
   "outputs": [],
   "source": [
    "# Misc - MovieGalaxies\n",
    "moviegalaxies_feature_vector = [0.421 , 0.571]"
   ]
  },
  {
   "cell_type": "code",
   "execution_count": 114,
   "metadata": {},
   "outputs": [],
   "source": [
    "# Misc - BibleNouns\n",
    "biblenouns_feature_vector = [0.444 , 0.566]"
   ]
  },
  {
   "cell_type": "code",
   "execution_count": 115,
   "metadata": {},
   "outputs": [],
   "source": [
    "# Misc- BoardDirectors\n",
    "boarddirectors_feature_vector = [0.487 , 0.273] "
   ]
  },
  {
   "cell_type": "code",
   "execution_count": 116,
   "metadata": {},
   "outputs": [],
   "source": [
    "# Misc - DNCEmails\n",
    "dncemails_feature_vector = [0.481 , 0.607]"
   ]
  },
  {
   "cell_type": "code",
   "execution_count": 117,
   "metadata": {},
   "outputs": [],
   "source": [
    "# Misc - GoT\n",
    "got_feature_vector = [0.602 , 0.511]"
   ]
  },
  {
   "cell_type": "code",
   "execution_count": 118,
   "metadata": {},
   "outputs": [],
   "source": [
    "# Misc - MarvelPartnerships\n",
    "marvelpartnerships_feature_vector = [0.498 , 0.352 , 0.442]"
   ]
  },
  {
   "cell_type": "code",
   "execution_count": 119,
   "metadata": {},
   "outputs": [],
   "source": [
    "# OSN - FacebookFriends\n",
    "facebookfriends_feature_vector = [0.584 , 0.234]"
   ]
  },
  {
   "cell_type": "code",
   "execution_count": 120,
   "metadata": {},
   "outputs": [],
   "source": [
    "# OSN - FacebookOrganizations\n",
    "facebookorganizations_feature_vector = [0.401 , 0.47]"
   ]
  },
  {
   "cell_type": "code",
   "execution_count": 121,
   "metadata": {},
   "outputs": [],
   "source": [
    "# Cite - DBLPCite\n",
    "dblpcite_feature_vector = [0.496 , 0.612]"
   ]
  },
  {
   "cell_type": "code",
   "execution_count": 122,
   "metadata": {},
   "outputs": [],
   "source": [
    "labels = [\"Dolphins\", \n",
    "          \"Reptiles\", \n",
    "          \"E. coli Trans\", \n",
    "          \"Human Protein\",  \n",
    "          \"Mouse Visual Cortex\", \n",
    "          \"Yeast Protein\",\n",
    "          \"AstroPh\",\n",
    "          \"CS PhD\",\n",
    "          \"GrQc\",\n",
    "          \"NetSci\",\n",
    "          \"Adolescent Health\",\n",
    "          \"Jazz\",\n",
    "          \"Zachary Karate Club\",\n",
    "          \"Madrid Train Bombings\",\n",
    "          \"EuroRoads\",\n",
    "          \"US Airports\",\n",
    "          \"US Power Grids\",\n",
    "          \"US States\",\n",
    "          \"Football\",\n",
    "          \"Internet AS.\",\n",
    "          \"Les Misérables\",\n",
    "          \"Pol. Books\",\n",
    "          \"Deezer EU\",\n",
    "          \"Ego Facebook\",\n",
    "          \"Caltech\",\n",
    "          \"Facebook Pol. Pages\",\n",
    "          \"Hamsterster\",\n",
    "          \"PGP\",\n",
    "          \"Princeton\",\n",
    "          \"Retweets\",\n",
    "          \"BlumenauDrug\",\n",
    "          \"BudapestConnectome\",\n",
    "          \"YeastCollins\",\n",
    "          \"InteractomeVidal\",\n",
    "          \"MalariaGenes\",\n",
    "          \"KeggMetabolic\",\n",
    "          \"NewZealand\",\n",
    "          \"EUAirlines\",\n",
    "          \"InternetTopCogentco\",\n",
    "          \"LondonTransport\",\n",
    "          \"911AllWords\",\n",
    "          \"MovieGalaxies\",\n",
    "          \"BibleNouns\",\n",
    "          \"BoardDirectors\",\n",
    "          \"DNCEmails\",\n",
    "          \"GoT\",\n",
    "          \"MarvelPartnerships\",\n",
    "          \"FacebookFriends\",\n",
    "          \"FacebookOrganizations\",\n",
    "          \"DBLPCite\"\n",
    "         ]"
   ]
  },
  {
   "cell_type": "code",
   "execution_count": 123,
   "metadata": {},
   "outputs": [
    {
     "data": {
      "text/plain": [
       "50"
      ]
     },
     "execution_count": 123,
     "metadata": {},
     "output_type": "execute_result"
    }
   ],
   "source": [
    "len(labels)"
   ]
  },
  {
   "cell_type": "code",
   "execution_count": 124,
   "metadata": {},
   "outputs": [],
   "source": [
    "import pandas as pd"
   ]
  },
  {
   "cell_type": "code",
   "execution_count": 125,
   "metadata": {},
   "outputs": [],
   "source": [
    "d1 = dolphins_feature_vector\n",
    "d2 = reptiles_feature_vector\n",
    "d3 = ecoli_feature_vector\n",
    "d4 = humanprotein_feature_vector\n",
    "d5 = mousevisualcortex_feature_vector\n",
    "d6 = yeastprotein_feature_vector\n",
    "d7 = astroph_feature_vector\n",
    "d8 = csphd_feature_vector\n",
    "d9 = grqc_feature_vector\n",
    "d10 = netsci_feature_vector\n",
    "d11 = adolescenthealth_feature_vector\n",
    "d12 = jazz_feature_vector\n",
    "d13 = karate_feature_vector\n",
    "d14 = madridtrainbombings_feature_vector\n",
    "d15 = euroroad_feature_vector\n",
    "d16 = usairports_feature_vector\n",
    "d17 = uspowergrids_feature_vector\n",
    "d18 = usstates_feature_vector\n",
    "d19 = football_feature_vector\n",
    "d20 = internetas_feature_vector\n",
    "d21 = lesmis_feature_vector\n",
    "d22 = polbooks_feature_vector\n",
    "d23 = deezereu_feature_vector\n",
    "d24 = egofacebook_feature_vector\n",
    "d25 = caltech_feature_vector\n",
    "d26 = fbpoliticianpages_feature_vector\n",
    "d27 = hamsterster_feature_vector\n",
    "d28 = pgp_feature_vector\n",
    "d29 = princeton_feature_vector\n",
    "d30 = twitter_feature_vector\n",
    "d31 = blumenaudrug_feature_vector\n",
    "d32 = budapestconnectome_feature_vector\n",
    "d33 = yeastcollins_feature_vector\n",
    "d34 = interactomevidal_feature_vector\n",
    "d35 = malariagenes_feature_vector\n",
    "d36 = keggmetabolic_feature_vector\n",
    "d37 = newzealand_feature_vector\n",
    "d38 = euairlines_feature_vector\n",
    "d39 = internettopcogentco_feature_vector\n",
    "d40 = londontransport_feature_vector\n",
    "d41 = allwords911_feature_vector\n",
    "d42 = moviegalaxies_feature_vector\n",
    "d43 = biblenouns_feature_vector\n",
    "d44 = boarddirectors_feature_vector\n",
    "d45 = dncemails_feature_vector\n",
    "d46 = got_feature_vector\n",
    "d47 = marvelpartnerships_feature_vector\n",
    "d48 = facebookfriends_feature_vector\n",
    "d49 = facebookorganizations_feature_vector\n",
    "d50 = dblpcite_feature_vector\n",
    "\n",
    "df = pd.DataFrame([d1, d2, d3, d4, d5, d6, d7, d8, d9, d10, d11, d12, d13, d14, d15, d16, d17, d18, d19, d20, d21, d22, d23,\n",
    "                  d24, d25, d26, d27, d28, d29, d30, d31, d32, d33, d34, d35, d36, d37, d38, d39, d40, d41, d42,\n",
    "                  d43, d44, d45, d46, d47, d48, d49, d50])"
   ]
  },
  {
   "cell_type": "code",
   "execution_count": 126,
   "metadata": {
    "scrolled": false
   },
   "outputs": [
    {
     "data": {
      "text/html": [
       "<div>\n",
       "<style scoped>\n",
       "    .dataframe tbody tr th:only-of-type {\n",
       "        vertical-align: middle;\n",
       "    }\n",
       "\n",
       "    .dataframe tbody tr th {\n",
       "        vertical-align: top;\n",
       "    }\n",
       "\n",
       "    .dataframe thead th {\n",
       "        text-align: right;\n",
       "    }\n",
       "</style>\n",
       "<table border=\"1\" class=\"dataframe\">\n",
       "  <thead>\n",
       "    <tr style=\"text-align: right;\">\n",
       "      <th></th>\n",
       "      <th>Mean-LocalComponent</th>\n",
       "      <th>Mean-GlobalComponent</th>\n",
       "      <th>2</th>\n",
       "    </tr>\n",
       "  </thead>\n",
       "  <tbody>\n",
       "    <tr>\n",
       "      <th>Dolphins</th>\n",
       "      <td>0.613</td>\n",
       "      <td>0.378</td>\n",
       "      <td>NaN</td>\n",
       "    </tr>\n",
       "    <tr>\n",
       "      <th>Reptiles</th>\n",
       "      <td>0.564</td>\n",
       "      <td>0.357</td>\n",
       "      <td>NaN</td>\n",
       "    </tr>\n",
       "    <tr>\n",
       "      <th>E. coli Trans</th>\n",
       "      <td>0.293</td>\n",
       "      <td>0.467</td>\n",
       "      <td>NaN</td>\n",
       "    </tr>\n",
       "    <tr>\n",
       "      <th>Human Protein</th>\n",
       "      <td>0.387</td>\n",
       "      <td>0.493</td>\n",
       "      <td>NaN</td>\n",
       "    </tr>\n",
       "    <tr>\n",
       "      <th>Mouse Visual Cortex</th>\n",
       "      <td>0.194</td>\n",
       "      <td>0.511</td>\n",
       "      <td>NaN</td>\n",
       "    </tr>\n",
       "    <tr>\n",
       "      <th>Yeast Protein</th>\n",
       "      <td>0.383</td>\n",
       "      <td>0.462</td>\n",
       "      <td>NaN</td>\n",
       "    </tr>\n",
       "    <tr>\n",
       "      <th>AstroPh</th>\n",
       "      <td>0.541</td>\n",
       "      <td>0.575</td>\n",
       "      <td>NaN</td>\n",
       "    </tr>\n",
       "    <tr>\n",
       "      <th>CS PhD</th>\n",
       "      <td>0.375</td>\n",
       "      <td>0.318</td>\n",
       "      <td>NaN</td>\n",
       "    </tr>\n",
       "    <tr>\n",
       "      <th>GrQc</th>\n",
       "      <td>0.521</td>\n",
       "      <td>0.414</td>\n",
       "      <td>NaN</td>\n",
       "    </tr>\n",
       "    <tr>\n",
       "      <th>NetSci</th>\n",
       "      <td>0.514</td>\n",
       "      <td>0.358</td>\n",
       "      <td>NaN</td>\n",
       "    </tr>\n",
       "    <tr>\n",
       "      <th>Adolescent Health</th>\n",
       "      <td>0.537</td>\n",
       "      <td>0.387</td>\n",
       "      <td>NaN</td>\n",
       "    </tr>\n",
       "    <tr>\n",
       "      <th>Jazz</th>\n",
       "      <td>0.613</td>\n",
       "      <td>0.443</td>\n",
       "      <td>NaN</td>\n",
       "    </tr>\n",
       "    <tr>\n",
       "      <th>Zachary Karate Club</th>\n",
       "      <td>0.594</td>\n",
       "      <td>0.411</td>\n",
       "      <td>NaN</td>\n",
       "    </tr>\n",
       "    <tr>\n",
       "      <th>Madrid Train Bombings</th>\n",
       "      <td>0.610</td>\n",
       "      <td>0.240</td>\n",
       "      <td>NaN</td>\n",
       "    </tr>\n",
       "    <tr>\n",
       "      <th>EuroRoads</th>\n",
       "      <td>0.362</td>\n",
       "      <td>0.403</td>\n",
       "      <td>NaN</td>\n",
       "    </tr>\n",
       "    <tr>\n",
       "      <th>US Airports</th>\n",
       "      <td>0.543</td>\n",
       "      <td>0.251</td>\n",
       "      <td>NaN</td>\n",
       "    </tr>\n",
       "    <tr>\n",
       "      <th>US Power Grids</th>\n",
       "      <td>0.472</td>\n",
       "      <td>0.350</td>\n",
       "      <td>NaN</td>\n",
       "    </tr>\n",
       "    <tr>\n",
       "      <th>US States</th>\n",
       "      <td>0.452</td>\n",
       "      <td>0.466</td>\n",
       "      <td>NaN</td>\n",
       "    </tr>\n",
       "    <tr>\n",
       "      <th>Football</th>\n",
       "      <td>0.145</td>\n",
       "      <td>0.236</td>\n",
       "      <td>NaN</td>\n",
       "    </tr>\n",
       "    <tr>\n",
       "      <th>Internet AS.</th>\n",
       "      <td>0.190</td>\n",
       "      <td>0.444</td>\n",
       "      <td>NaN</td>\n",
       "    </tr>\n",
       "    <tr>\n",
       "      <th>Les Misérables</th>\n",
       "      <td>0.641</td>\n",
       "      <td>0.529</td>\n",
       "      <td>NaN</td>\n",
       "    </tr>\n",
       "    <tr>\n",
       "      <th>Pol. Books</th>\n",
       "      <td>0.539</td>\n",
       "      <td>0.233</td>\n",
       "      <td>NaN</td>\n",
       "    </tr>\n",
       "    <tr>\n",
       "      <th>Deezer EU</th>\n",
       "      <td>0.433</td>\n",
       "      <td>0.546</td>\n",
       "      <td>NaN</td>\n",
       "    </tr>\n",
       "    <tr>\n",
       "      <th>Ego Facebook</th>\n",
       "      <td>0.544</td>\n",
       "      <td>0.237</td>\n",
       "      <td>NaN</td>\n",
       "    </tr>\n",
       "    <tr>\n",
       "      <th>Caltech</th>\n",
       "      <td>0.574</td>\n",
       "      <td>0.663</td>\n",
       "      <td>NaN</td>\n",
       "    </tr>\n",
       "    <tr>\n",
       "      <th>Facebook Pol. Pages</th>\n",
       "      <td>0.531</td>\n",
       "      <td>0.310</td>\n",
       "      <td>NaN</td>\n",
       "    </tr>\n",
       "    <tr>\n",
       "      <th>Hamsterster</th>\n",
       "      <td>0.461</td>\n",
       "      <td>0.477</td>\n",
       "      <td>NaN</td>\n",
       "    </tr>\n",
       "    <tr>\n",
       "      <th>PGP</th>\n",
       "      <td>0.491</td>\n",
       "      <td>0.383</td>\n",
       "      <td>NaN</td>\n",
       "    </tr>\n",
       "    <tr>\n",
       "      <th>Princeton</th>\n",
       "      <td>0.472</td>\n",
       "      <td>0.685</td>\n",
       "      <td>NaN</td>\n",
       "    </tr>\n",
       "    <tr>\n",
       "      <th>Retweets</th>\n",
       "      <td>0.396</td>\n",
       "      <td>0.495</td>\n",
       "      <td>NaN</td>\n",
       "    </tr>\n",
       "    <tr>\n",
       "      <th>BlumenauDrug</th>\n",
       "      <td>0.518</td>\n",
       "      <td>0.570</td>\n",
       "      <td>NaN</td>\n",
       "    </tr>\n",
       "    <tr>\n",
       "      <th>BudapestConnectome</th>\n",
       "      <td>0.643</td>\n",
       "      <td>0.314</td>\n",
       "      <td>NaN</td>\n",
       "    </tr>\n",
       "    <tr>\n",
       "      <th>YeastCollins</th>\n",
       "      <td>0.551</td>\n",
       "      <td>0.333</td>\n",
       "      <td>NaN</td>\n",
       "    </tr>\n",
       "    <tr>\n",
       "      <th>InteractomeVidal</th>\n",
       "      <td>0.396</td>\n",
       "      <td>0.529</td>\n",
       "      <td>NaN</td>\n",
       "    </tr>\n",
       "    <tr>\n",
       "      <th>MalariaGenes</th>\n",
       "      <td>0.529</td>\n",
       "      <td>0.229</td>\n",
       "      <td>NaN</td>\n",
       "    </tr>\n",
       "    <tr>\n",
       "      <th>KeggMetabolic</th>\n",
       "      <td>0.280</td>\n",
       "      <td>0.452</td>\n",
       "      <td>NaN</td>\n",
       "    </tr>\n",
       "    <tr>\n",
       "      <th>NewZealand</th>\n",
       "      <td>0.268</td>\n",
       "      <td>0.602</td>\n",
       "      <td>NaN</td>\n",
       "    </tr>\n",
       "    <tr>\n",
       "      <th>EUAirlines</th>\n",
       "      <td>0.732</td>\n",
       "      <td>0.339</td>\n",
       "      <td>NaN</td>\n",
       "    </tr>\n",
       "    <tr>\n",
       "      <th>InternetTopCogentco</th>\n",
       "      <td>0.306</td>\n",
       "      <td>0.362</td>\n",
       "      <td>NaN</td>\n",
       "    </tr>\n",
       "    <tr>\n",
       "      <th>LondonTransport</th>\n",
       "      <td>0.260</td>\n",
       "      <td>0.386</td>\n",
       "      <td>NaN</td>\n",
       "    </tr>\n",
       "    <tr>\n",
       "      <th>911AllWords</th>\n",
       "      <td>0.534</td>\n",
       "      <td>0.315</td>\n",
       "      <td>NaN</td>\n",
       "    </tr>\n",
       "    <tr>\n",
       "      <th>MovieGalaxies</th>\n",
       "      <td>0.421</td>\n",
       "      <td>0.571</td>\n",
       "      <td>NaN</td>\n",
       "    </tr>\n",
       "    <tr>\n",
       "      <th>BibleNouns</th>\n",
       "      <td>0.444</td>\n",
       "      <td>0.566</td>\n",
       "      <td>NaN</td>\n",
       "    </tr>\n",
       "    <tr>\n",
       "      <th>BoardDirectors</th>\n",
       "      <td>0.487</td>\n",
       "      <td>0.273</td>\n",
       "      <td>NaN</td>\n",
       "    </tr>\n",
       "    <tr>\n",
       "      <th>DNCEmails</th>\n",
       "      <td>0.481</td>\n",
       "      <td>0.607</td>\n",
       "      <td>NaN</td>\n",
       "    </tr>\n",
       "    <tr>\n",
       "      <th>GoT</th>\n",
       "      <td>0.602</td>\n",
       "      <td>0.511</td>\n",
       "      <td>NaN</td>\n",
       "    </tr>\n",
       "    <tr>\n",
       "      <th>MarvelPartnerships</th>\n",
       "      <td>0.498</td>\n",
       "      <td>0.352</td>\n",
       "      <td>0.442</td>\n",
       "    </tr>\n",
       "    <tr>\n",
       "      <th>FacebookFriends</th>\n",
       "      <td>0.584</td>\n",
       "      <td>0.234</td>\n",
       "      <td>NaN</td>\n",
       "    </tr>\n",
       "    <tr>\n",
       "      <th>FacebookOrganizations</th>\n",
       "      <td>0.401</td>\n",
       "      <td>0.470</td>\n",
       "      <td>NaN</td>\n",
       "    </tr>\n",
       "    <tr>\n",
       "      <th>DBLPCite</th>\n",
       "      <td>0.496</td>\n",
       "      <td>0.612</td>\n",
       "      <td>NaN</td>\n",
       "    </tr>\n",
       "  </tbody>\n",
       "</table>\n",
       "</div>"
      ],
      "text/plain": [
       "                       Mean-LocalComponent  Mean-GlobalComponent      2\n",
       "Dolphins                             0.613                 0.378    NaN\n",
       "Reptiles                             0.564                 0.357    NaN\n",
       "E. coli Trans                        0.293                 0.467    NaN\n",
       "Human Protein                        0.387                 0.493    NaN\n",
       "Mouse Visual Cortex                  0.194                 0.511    NaN\n",
       "Yeast Protein                        0.383                 0.462    NaN\n",
       "AstroPh                              0.541                 0.575    NaN\n",
       "CS PhD                               0.375                 0.318    NaN\n",
       "GrQc                                 0.521                 0.414    NaN\n",
       "NetSci                               0.514                 0.358    NaN\n",
       "Adolescent Health                    0.537                 0.387    NaN\n",
       "Jazz                                 0.613                 0.443    NaN\n",
       "Zachary Karate Club                  0.594                 0.411    NaN\n",
       "Madrid Train Bombings                0.610                 0.240    NaN\n",
       "EuroRoads                            0.362                 0.403    NaN\n",
       "US Airports                          0.543                 0.251    NaN\n",
       "US Power Grids                       0.472                 0.350    NaN\n",
       "US States                            0.452                 0.466    NaN\n",
       "Football                             0.145                 0.236    NaN\n",
       "Internet AS.                         0.190                 0.444    NaN\n",
       "Les Misérables                       0.641                 0.529    NaN\n",
       "Pol. Books                           0.539                 0.233    NaN\n",
       "Deezer EU                            0.433                 0.546    NaN\n",
       "Ego Facebook                         0.544                 0.237    NaN\n",
       "Caltech                              0.574                 0.663    NaN\n",
       "Facebook Pol. Pages                  0.531                 0.310    NaN\n",
       "Hamsterster                          0.461                 0.477    NaN\n",
       "PGP                                  0.491                 0.383    NaN\n",
       "Princeton                            0.472                 0.685    NaN\n",
       "Retweets                             0.396                 0.495    NaN\n",
       "BlumenauDrug                         0.518                 0.570    NaN\n",
       "BudapestConnectome                   0.643                 0.314    NaN\n",
       "YeastCollins                         0.551                 0.333    NaN\n",
       "InteractomeVidal                     0.396                 0.529    NaN\n",
       "MalariaGenes                         0.529                 0.229    NaN\n",
       "KeggMetabolic                        0.280                 0.452    NaN\n",
       "NewZealand                           0.268                 0.602    NaN\n",
       "EUAirlines                           0.732                 0.339    NaN\n",
       "InternetTopCogentco                  0.306                 0.362    NaN\n",
       "LondonTransport                      0.260                 0.386    NaN\n",
       "911AllWords                          0.534                 0.315    NaN\n",
       "MovieGalaxies                        0.421                 0.571    NaN\n",
       "BibleNouns                           0.444                 0.566    NaN\n",
       "BoardDirectors                       0.487                 0.273    NaN\n",
       "DNCEmails                            0.481                 0.607    NaN\n",
       "GoT                                  0.602                 0.511    NaN\n",
       "MarvelPartnerships                   0.498                 0.352  0.442\n",
       "FacebookFriends                      0.584                 0.234    NaN\n",
       "FacebookOrganizations                0.401                 0.470    NaN\n",
       "DBLPCite                             0.496                 0.612    NaN"
      ]
     },
     "execution_count": 126,
     "metadata": {},
     "output_type": "execute_result"
    }
   ],
   "source": [
    "df.rename(index={\n",
    "          0:\"Dolphins\", \n",
    "          1:\"Reptiles\", \n",
    "          2:\"E. coli Trans\", \n",
    "          3:\"Human Protein\",  \n",
    "          4:\"Mouse Visual Cortex\", \n",
    "          5:\"Yeast Protein\",\n",
    "          6:\"AstroPh\",\n",
    "          7:\"CS PhD\",\n",
    "          8:\"GrQc\",\n",
    "          9:\"NetSci\",\n",
    "          10:\"Adolescent Health\",\n",
    "          11:\"Jazz\",\n",
    "          12:\"Zachary Karate Club\",\n",
    "          13: \"Madrid Train Bombings\",\n",
    "          14:\"EuroRoads\",\n",
    "          15:\"US Airports\",\n",
    "          16:\"US Power Grids\",\n",
    "          17:\"US States\",\n",
    "          18:\"Football\",\n",
    "          19:\"Internet AS.\",\n",
    "          20:\"Les Misérables\",\n",
    "          21:\"Pol. Books\",\n",
    "          22:\"Deezer EU\",\n",
    "          23:\"Ego Facebook\",\n",
    "          24:\"Caltech\",\n",
    "          25:\"Facebook Pol. Pages\",\n",
    "          26:\"Hamsterster\",\n",
    "          27:\"PGP\",\n",
    "          28:\"Princeton\",\n",
    "          29:\"Retweets\", \n",
    "          30: \"BlumenauDrug\",\n",
    "          31:\"BudapestConnectome\",\n",
    "          32: \"YeastCollins\",\n",
    "          33: \"InteractomeVidal\",\n",
    "          34: \"MalariaGenes\",\n",
    "          35: \"KeggMetabolic\",\n",
    "          36: \"NewZealand\",\n",
    "          37: \"EUAirlines\",\n",
    "          38: \"InternetTopCogentco\",\n",
    "          39: \"LondonTransport\",\n",
    "          40: \"911AllWords\",\n",
    "          41: \"MovieGalaxies\",\n",
    "          42: \"BibleNouns\",\n",
    "          43: \"BoardDirectors\",\n",
    "          44: \"DNCEmails\",\n",
    "          45: \"GoT\",\n",
    "          46: \"MarvelPartnerships\",\n",
    "          47: \"FacebookFriends\",\n",
    "          48: \"FacebookOrganizations\",\n",
    "          49: \"DBLPCite\"},\n",
    "          inplace=True)\n",
    "\n",
    "df.rename(columns={\n",
    "    0: 'Mean-LocalComponent',\n",
    "    1: 'Mean-GlobalComponent',\n",
    "  }, inplace=True)\n",
    "df"
   ]
  },
  {
   "cell_type": "code",
   "execution_count": 127,
   "metadata": {
    "scrolled": true
   },
   "outputs": [
    {
     "data": {
      "text/html": [
       "<div>\n",
       "<style scoped>\n",
       "    .dataframe tbody tr th:only-of-type {\n",
       "        vertical-align: middle;\n",
       "    }\n",
       "\n",
       "    .dataframe tbody tr th {\n",
       "        vertical-align: top;\n",
       "    }\n",
       "\n",
       "    .dataframe thead th {\n",
       "        text-align: right;\n",
       "    }\n",
       "</style>\n",
       "<table border=\"1\" class=\"dataframe\">\n",
       "  <thead>\n",
       "    <tr style=\"text-align: right;\">\n",
       "      <th></th>\n",
       "      <th>Mean-LocalComponent</th>\n",
       "      <th>Mean-GlobalComponent</th>\n",
       "    </tr>\n",
       "  </thead>\n",
       "  <tbody>\n",
       "    <tr>\n",
       "      <th>Dolphins</th>\n",
       "      <td>0.613</td>\n",
       "      <td>0.378</td>\n",
       "    </tr>\n",
       "    <tr>\n",
       "      <th>Reptiles</th>\n",
       "      <td>0.564</td>\n",
       "      <td>0.357</td>\n",
       "    </tr>\n",
       "    <tr>\n",
       "      <th>E. coli Trans</th>\n",
       "      <td>0.293</td>\n",
       "      <td>0.467</td>\n",
       "    </tr>\n",
       "    <tr>\n",
       "      <th>Human Protein</th>\n",
       "      <td>0.387</td>\n",
       "      <td>0.493</td>\n",
       "    </tr>\n",
       "    <tr>\n",
       "      <th>Mouse Visual Cortex</th>\n",
       "      <td>0.194</td>\n",
       "      <td>0.511</td>\n",
       "    </tr>\n",
       "    <tr>\n",
       "      <th>Yeast Protein</th>\n",
       "      <td>0.383</td>\n",
       "      <td>0.462</td>\n",
       "    </tr>\n",
       "    <tr>\n",
       "      <th>AstroPh</th>\n",
       "      <td>0.541</td>\n",
       "      <td>0.575</td>\n",
       "    </tr>\n",
       "    <tr>\n",
       "      <th>CS PhD</th>\n",
       "      <td>0.375</td>\n",
       "      <td>0.318</td>\n",
       "    </tr>\n",
       "    <tr>\n",
       "      <th>GrQc</th>\n",
       "      <td>0.521</td>\n",
       "      <td>0.414</td>\n",
       "    </tr>\n",
       "    <tr>\n",
       "      <th>NetSci</th>\n",
       "      <td>0.514</td>\n",
       "      <td>0.358</td>\n",
       "    </tr>\n",
       "    <tr>\n",
       "      <th>Adolescent Health</th>\n",
       "      <td>0.537</td>\n",
       "      <td>0.387</td>\n",
       "    </tr>\n",
       "    <tr>\n",
       "      <th>Jazz</th>\n",
       "      <td>0.613</td>\n",
       "      <td>0.443</td>\n",
       "    </tr>\n",
       "    <tr>\n",
       "      <th>Zachary Karate Club</th>\n",
       "      <td>0.594</td>\n",
       "      <td>0.411</td>\n",
       "    </tr>\n",
       "    <tr>\n",
       "      <th>Madrid Train Bombings</th>\n",
       "      <td>0.610</td>\n",
       "      <td>0.240</td>\n",
       "    </tr>\n",
       "    <tr>\n",
       "      <th>EuroRoads</th>\n",
       "      <td>0.362</td>\n",
       "      <td>0.403</td>\n",
       "    </tr>\n",
       "    <tr>\n",
       "      <th>US Airports</th>\n",
       "      <td>0.543</td>\n",
       "      <td>0.251</td>\n",
       "    </tr>\n",
       "    <tr>\n",
       "      <th>US Power Grids</th>\n",
       "      <td>0.472</td>\n",
       "      <td>0.350</td>\n",
       "    </tr>\n",
       "    <tr>\n",
       "      <th>US States</th>\n",
       "      <td>0.452</td>\n",
       "      <td>0.466</td>\n",
       "    </tr>\n",
       "    <tr>\n",
       "      <th>Football</th>\n",
       "      <td>0.145</td>\n",
       "      <td>0.236</td>\n",
       "    </tr>\n",
       "    <tr>\n",
       "      <th>Internet AS.</th>\n",
       "      <td>0.190</td>\n",
       "      <td>0.444</td>\n",
       "    </tr>\n",
       "    <tr>\n",
       "      <th>Les Misérables</th>\n",
       "      <td>0.641</td>\n",
       "      <td>0.529</td>\n",
       "    </tr>\n",
       "    <tr>\n",
       "      <th>Pol. Books</th>\n",
       "      <td>0.539</td>\n",
       "      <td>0.233</td>\n",
       "    </tr>\n",
       "    <tr>\n",
       "      <th>Deezer EU</th>\n",
       "      <td>0.433</td>\n",
       "      <td>0.546</td>\n",
       "    </tr>\n",
       "    <tr>\n",
       "      <th>Ego Facebook</th>\n",
       "      <td>0.544</td>\n",
       "      <td>0.237</td>\n",
       "    </tr>\n",
       "    <tr>\n",
       "      <th>Caltech</th>\n",
       "      <td>0.574</td>\n",
       "      <td>0.663</td>\n",
       "    </tr>\n",
       "    <tr>\n",
       "      <th>Facebook Pol. Pages</th>\n",
       "      <td>0.531</td>\n",
       "      <td>0.310</td>\n",
       "    </tr>\n",
       "    <tr>\n",
       "      <th>Hamsterster</th>\n",
       "      <td>0.461</td>\n",
       "      <td>0.477</td>\n",
       "    </tr>\n",
       "    <tr>\n",
       "      <th>PGP</th>\n",
       "      <td>0.491</td>\n",
       "      <td>0.383</td>\n",
       "    </tr>\n",
       "    <tr>\n",
       "      <th>Princeton</th>\n",
       "      <td>0.472</td>\n",
       "      <td>0.685</td>\n",
       "    </tr>\n",
       "    <tr>\n",
       "      <th>Retweets</th>\n",
       "      <td>0.396</td>\n",
       "      <td>0.495</td>\n",
       "    </tr>\n",
       "    <tr>\n",
       "      <th>BlumenauDrug</th>\n",
       "      <td>0.518</td>\n",
       "      <td>0.570</td>\n",
       "    </tr>\n",
       "    <tr>\n",
       "      <th>BudapestConnectome</th>\n",
       "      <td>0.643</td>\n",
       "      <td>0.314</td>\n",
       "    </tr>\n",
       "    <tr>\n",
       "      <th>YeastCollins</th>\n",
       "      <td>0.551</td>\n",
       "      <td>0.333</td>\n",
       "    </tr>\n",
       "    <tr>\n",
       "      <th>InteractomeVidal</th>\n",
       "      <td>0.396</td>\n",
       "      <td>0.529</td>\n",
       "    </tr>\n",
       "    <tr>\n",
       "      <th>MalariaGenes</th>\n",
       "      <td>0.529</td>\n",
       "      <td>0.229</td>\n",
       "    </tr>\n",
       "    <tr>\n",
       "      <th>KeggMetabolic</th>\n",
       "      <td>0.280</td>\n",
       "      <td>0.452</td>\n",
       "    </tr>\n",
       "    <tr>\n",
       "      <th>NewZealand</th>\n",
       "      <td>0.268</td>\n",
       "      <td>0.602</td>\n",
       "    </tr>\n",
       "    <tr>\n",
       "      <th>EUAirlines</th>\n",
       "      <td>0.732</td>\n",
       "      <td>0.339</td>\n",
       "    </tr>\n",
       "    <tr>\n",
       "      <th>InternetTopCogentco</th>\n",
       "      <td>0.306</td>\n",
       "      <td>0.362</td>\n",
       "    </tr>\n",
       "    <tr>\n",
       "      <th>LondonTransport</th>\n",
       "      <td>0.260</td>\n",
       "      <td>0.386</td>\n",
       "    </tr>\n",
       "    <tr>\n",
       "      <th>911AllWords</th>\n",
       "      <td>0.534</td>\n",
       "      <td>0.315</td>\n",
       "    </tr>\n",
       "    <tr>\n",
       "      <th>MovieGalaxies</th>\n",
       "      <td>0.421</td>\n",
       "      <td>0.571</td>\n",
       "    </tr>\n",
       "    <tr>\n",
       "      <th>BibleNouns</th>\n",
       "      <td>0.444</td>\n",
       "      <td>0.566</td>\n",
       "    </tr>\n",
       "    <tr>\n",
       "      <th>BoardDirectors</th>\n",
       "      <td>0.487</td>\n",
       "      <td>0.273</td>\n",
       "    </tr>\n",
       "    <tr>\n",
       "      <th>DNCEmails</th>\n",
       "      <td>0.481</td>\n",
       "      <td>0.607</td>\n",
       "    </tr>\n",
       "    <tr>\n",
       "      <th>GoT</th>\n",
       "      <td>0.602</td>\n",
       "      <td>0.511</td>\n",
       "    </tr>\n",
       "    <tr>\n",
       "      <th>MarvelPartnerships</th>\n",
       "      <td>0.498</td>\n",
       "      <td>0.352</td>\n",
       "    </tr>\n",
       "    <tr>\n",
       "      <th>FacebookFriends</th>\n",
       "      <td>0.584</td>\n",
       "      <td>0.234</td>\n",
       "    </tr>\n",
       "    <tr>\n",
       "      <th>FacebookOrganizations</th>\n",
       "      <td>0.401</td>\n",
       "      <td>0.470</td>\n",
       "    </tr>\n",
       "    <tr>\n",
       "      <th>DBLPCite</th>\n",
       "      <td>0.496</td>\n",
       "      <td>0.612</td>\n",
       "    </tr>\n",
       "  </tbody>\n",
       "</table>\n",
       "</div>"
      ],
      "text/plain": [
       "                       Mean-LocalComponent  Mean-GlobalComponent\n",
       "Dolphins                             0.613                 0.378\n",
       "Reptiles                             0.564                 0.357\n",
       "E. coli Trans                        0.293                 0.467\n",
       "Human Protein                        0.387                 0.493\n",
       "Mouse Visual Cortex                  0.194                 0.511\n",
       "Yeast Protein                        0.383                 0.462\n",
       "AstroPh                              0.541                 0.575\n",
       "CS PhD                               0.375                 0.318\n",
       "GrQc                                 0.521                 0.414\n",
       "NetSci                               0.514                 0.358\n",
       "Adolescent Health                    0.537                 0.387\n",
       "Jazz                                 0.613                 0.443\n",
       "Zachary Karate Club                  0.594                 0.411\n",
       "Madrid Train Bombings                0.610                 0.240\n",
       "EuroRoads                            0.362                 0.403\n",
       "US Airports                          0.543                 0.251\n",
       "US Power Grids                       0.472                 0.350\n",
       "US States                            0.452                 0.466\n",
       "Football                             0.145                 0.236\n",
       "Internet AS.                         0.190                 0.444\n",
       "Les Misérables                       0.641                 0.529\n",
       "Pol. Books                           0.539                 0.233\n",
       "Deezer EU                            0.433                 0.546\n",
       "Ego Facebook                         0.544                 0.237\n",
       "Caltech                              0.574                 0.663\n",
       "Facebook Pol. Pages                  0.531                 0.310\n",
       "Hamsterster                          0.461                 0.477\n",
       "PGP                                  0.491                 0.383\n",
       "Princeton                            0.472                 0.685\n",
       "Retweets                             0.396                 0.495\n",
       "BlumenauDrug                         0.518                 0.570\n",
       "BudapestConnectome                   0.643                 0.314\n",
       "YeastCollins                         0.551                 0.333\n",
       "InteractomeVidal                     0.396                 0.529\n",
       "MalariaGenes                         0.529                 0.229\n",
       "KeggMetabolic                        0.280                 0.452\n",
       "NewZealand                           0.268                 0.602\n",
       "EUAirlines                           0.732                 0.339\n",
       "InternetTopCogentco                  0.306                 0.362\n",
       "LondonTransport                      0.260                 0.386\n",
       "911AllWords                          0.534                 0.315\n",
       "MovieGalaxies                        0.421                 0.571\n",
       "BibleNouns                           0.444                 0.566\n",
       "BoardDirectors                       0.487                 0.273\n",
       "DNCEmails                            0.481                 0.607\n",
       "GoT                                  0.602                 0.511\n",
       "MarvelPartnerships                   0.498                 0.352\n",
       "FacebookFriends                      0.584                 0.234\n",
       "FacebookOrganizations                0.401                 0.470\n",
       "DBLPCite                             0.496                 0.612"
      ]
     },
     "execution_count": 127,
     "metadata": {},
     "output_type": "execute_result"
    }
   ],
   "source": [
    "# Get only the s\n",
    "df_dependent_variables = df[['Mean-LocalComponent', 'Mean-GlobalComponent']].copy()\n",
    "df_dependent_variables"
   ]
  },
  {
   "cell_type": "code",
   "execution_count": 128,
   "metadata": {
    "scrolled": false
   },
   "outputs": [
    {
     "data": {
      "text/html": [
       "<div>\n",
       "<style scoped>\n",
       "    .dataframe tbody tr th:only-of-type {\n",
       "        vertical-align: middle;\n",
       "    }\n",
       "\n",
       "    .dataframe tbody tr th {\n",
       "        vertical-align: top;\n",
       "    }\n",
       "\n",
       "    .dataframe thead th {\n",
       "        text-align: right;\n",
       "    }\n",
       "</style>\n",
       "<table border=\"1\" class=\"dataframe\">\n",
       "  <thead>\n",
       "    <tr style=\"text-align: right;\">\n",
       "      <th></th>\n",
       "      <th>Mean-LocalComponent</th>\n",
       "      <th>Mean-GlobalComponent</th>\n",
       "    </tr>\n",
       "  </thead>\n",
       "  <tbody>\n",
       "    <tr>\n",
       "      <th>Mean-LocalComponent</th>\n",
       "      <td>1.000000</td>\n",
       "      <td>-0.173068</td>\n",
       "    </tr>\n",
       "    <tr>\n",
       "      <th>Mean-GlobalComponent</th>\n",
       "      <td>-0.173068</td>\n",
       "      <td>1.000000</td>\n",
       "    </tr>\n",
       "  </tbody>\n",
       "</table>\n",
       "</div>"
      ],
      "text/plain": [
       "                      Mean-LocalComponent  Mean-GlobalComponent\n",
       "Mean-LocalComponent              1.000000             -0.173068\n",
       "Mean-GlobalComponent            -0.173068              1.000000"
      ]
     },
     "execution_count": 128,
     "metadata": {},
     "output_type": "execute_result"
    }
   ],
   "source": [
    "df_dependent_variables.corr(method='pearson')"
   ]
  },
  {
   "cell_type": "code",
   "execution_count": 129,
   "metadata": {},
   "outputs": [],
   "source": [
    "import matplotlib.pyplot as plt\n",
    "import numpy as np\n",
    "import seaborn as sns"
   ]
  },
  {
   "cell_type": "code",
   "execution_count": 130,
   "metadata": {},
   "outputs": [
    {
     "data": {
      "text/plain": [
       "<AxesSubplot:>"
      ]
     },
     "execution_count": 130,
     "metadata": {},
     "output_type": "execute_result"
    },
    {
     "data": {
      "image/png": "[encoded data removed]",
      "text/plain": [
       "<Figure size 360x360 with 2 Axes>"
      ]
     },
     "metadata": {
      "needs_background": "light"
     },
     "output_type": "display_data"
    }
   ],
   "source": [
    "fig, ax = plt.subplots(figsize=(5, 5)) \n",
    "mask = np.zeros_like(df_dependent_variables.corr(method='pearson'))\n",
    "mask[np.triu_indices_from(mask)] = 1\n",
    "sns.heatmap(df_dependent_variables.corr(method='pearson'), mask= mask, ax= ax, annot= True)"
   ]
  },
  {
   "cell_type": "markdown",
   "metadata": {},
   "source": [
    "# Read independent variables: Macroscopic and mesoscopic topological characteristics"
   ]
  },
  {
   "cell_type": "markdown",
   "metadata": {},
   "source": [
    "## Add the macroscopic features"
   ]
  },
  {
   "cell_type": "code",
   "execution_count": 131,
   "metadata": {},
   "outputs": [
    {
     "data": {
      "text/html": [
       "<div>\n",
       "<style scoped>\n",
       "    .dataframe tbody tr th:only-of-type {\n",
       "        vertical-align: middle;\n",
       "    }\n",
       "\n",
       "    .dataframe tbody tr th {\n",
       "        vertical-align: top;\n",
       "    }\n",
       "\n",
       "    .dataframe thead th {\n",
       "        text-align: right;\n",
       "    }\n",
       "</style>\n",
       "<table border=\"1\" class=\"dataframe\">\n",
       "  <thead>\n",
       "    <tr style=\"text-align: right;\">\n",
       "      <th></th>\n",
       "      <th>Average Degree</th>\n",
       "      <th>Average Distance</th>\n",
       "      <th>Density</th>\n",
       "      <th>Transitivity</th>\n",
       "      <th>Assortativity</th>\n",
       "      <th>Diameter</th>\n",
       "      <th>Efficiency</th>\n",
       "    </tr>\n",
       "  </thead>\n",
       "  <tbody>\n",
       "    <tr>\n",
       "      <th>Dolphins</th>\n",
       "      <td>5.12</td>\n",
       "      <td>3.350</td>\n",
       "      <td>0.0840</td>\n",
       "      <td>0.308</td>\n",
       "      <td>-0.043</td>\n",
       "      <td>8</td>\n",
       "      <td>0.3790</td>\n",
       "    </tr>\n",
       "    <tr>\n",
       "      <th>Reptiles</th>\n",
       "      <td>3.96</td>\n",
       "      <td>7.930</td>\n",
       "      <td>0.0080</td>\n",
       "      <td>0.419</td>\n",
       "      <td>0.345</td>\n",
       "      <td>21</td>\n",
       "      <td>0.1550</td>\n",
       "    </tr>\n",
       "    <tr>\n",
       "      <th>E. coli Trans</th>\n",
       "      <td>2.77</td>\n",
       "      <td>4.840</td>\n",
       "      <td>0.0080</td>\n",
       "      <td>0.023</td>\n",
       "      <td>-0.263</td>\n",
       "      <td>13</td>\n",
       "      <td>0.2450</td>\n",
       "    </tr>\n",
       "    <tr>\n",
       "      <th>Human Protein</th>\n",
       "      <td>5.78</td>\n",
       "      <td>3.840</td>\n",
       "      <td>0.0020</td>\n",
       "      <td>0.007</td>\n",
       "      <td>-0.331</td>\n",
       "      <td>10</td>\n",
       "      <td>0.2810</td>\n",
       "    </tr>\n",
       "    <tr>\n",
       "      <th>Mouse Visual Cortex</th>\n",
       "      <td>2.21</td>\n",
       "      <td>4.270</td>\n",
       "      <td>0.0150</td>\n",
       "      <td>0.004</td>\n",
       "      <td>-0.844</td>\n",
       "      <td>8</td>\n",
       "      <td>0.2710</td>\n",
       "    </tr>\n",
       "    <tr>\n",
       "      <th>Yeast Protein</th>\n",
       "      <td>2.73</td>\n",
       "      <td>6.810</td>\n",
       "      <td>0.0010</td>\n",
       "      <td>0.051</td>\n",
       "      <td>-0.207</td>\n",
       "      <td>19</td>\n",
       "      <td>0.1630</td>\n",
       "    </tr>\n",
       "    <tr>\n",
       "      <th>AstroPh</th>\n",
       "      <td>22.00</td>\n",
       "      <td>4.180</td>\n",
       "      <td>0.0010</td>\n",
       "      <td>0.317</td>\n",
       "      <td>0.201</td>\n",
       "      <td>14</td>\n",
       "      <td>0.2550</td>\n",
       "    </tr>\n",
       "    <tr>\n",
       "      <th>CS PhD</th>\n",
       "      <td>2.03</td>\n",
       "      <td>11.740</td>\n",
       "      <td>0.0010</td>\n",
       "      <td>0.002</td>\n",
       "      <td>-0.253</td>\n",
       "      <td>28</td>\n",
       "      <td>0.1050</td>\n",
       "    </tr>\n",
       "    <tr>\n",
       "      <th>GrQc</th>\n",
       "      <td>6.45</td>\n",
       "      <td>6.040</td>\n",
       "      <td>0.0010</td>\n",
       "      <td>0.628</td>\n",
       "      <td>0.639</td>\n",
       "      <td>17</td>\n",
       "      <td>0.1790</td>\n",
       "    </tr>\n",
       "    <tr>\n",
       "      <th>NetSci</th>\n",
       "      <td>4.83</td>\n",
       "      <td>6.040</td>\n",
       "      <td>0.0120</td>\n",
       "      <td>0.430</td>\n",
       "      <td>-0.081</td>\n",
       "      <td>17</td>\n",
       "      <td>0.2030</td>\n",
       "    </tr>\n",
       "    <tr>\n",
       "      <th>Adolescent Health</th>\n",
       "      <td>8.23</td>\n",
       "      <td>4.550</td>\n",
       "      <td>0.0030</td>\n",
       "      <td>0.141</td>\n",
       "      <td>0.251</td>\n",
       "      <td>10</td>\n",
       "      <td>0.2340</td>\n",
       "    </tr>\n",
       "    <tr>\n",
       "      <th>Jazz</th>\n",
       "      <td>27.69</td>\n",
       "      <td>2.230</td>\n",
       "      <td>0.1400</td>\n",
       "      <td>0.520</td>\n",
       "      <td>0.020</td>\n",
       "      <td>6</td>\n",
       "      <td>0.5130</td>\n",
       "    </tr>\n",
       "    <tr>\n",
       "      <th>Zachary Karate Club</th>\n",
       "      <td>4.58</td>\n",
       "      <td>2.400</td>\n",
       "      <td>0.1390</td>\n",
       "      <td>0.255</td>\n",
       "      <td>-0.475</td>\n",
       "      <td>5</td>\n",
       "      <td>0.4920</td>\n",
       "    </tr>\n",
       "    <tr>\n",
       "      <th>Madrid Train Bombings</th>\n",
       "      <td>7.59</td>\n",
       "      <td>2.690</td>\n",
       "      <td>0.1200</td>\n",
       "      <td>0.561</td>\n",
       "      <td>0.029</td>\n",
       "      <td>6</td>\n",
       "      <td>0.4480</td>\n",
       "    </tr>\n",
       "    <tr>\n",
       "      <th>EuroRoads</th>\n",
       "      <td>2.51</td>\n",
       "      <td>18.390</td>\n",
       "      <td>0.0020</td>\n",
       "      <td>0.035</td>\n",
       "      <td>0.090</td>\n",
       "      <td>62</td>\n",
       "      <td>0.0700</td>\n",
       "    </tr>\n",
       "    <tr>\n",
       "      <th>US Airports</th>\n",
       "      <td>11.92</td>\n",
       "      <td>2.990</td>\n",
       "      <td>0.0230</td>\n",
       "      <td>0.351</td>\n",
       "      <td>-0.267</td>\n",
       "      <td>7</td>\n",
       "      <td>0.3710</td>\n",
       "    </tr>\n",
       "    <tr>\n",
       "      <th>US Power Grids</th>\n",
       "      <td>2.66</td>\n",
       "      <td>18.980</td>\n",
       "      <td>0.0050</td>\n",
       "      <td>0.103</td>\n",
       "      <td>0.003</td>\n",
       "      <td>46</td>\n",
       "      <td>0.0620</td>\n",
       "    </tr>\n",
       "    <tr>\n",
       "      <th>US States</th>\n",
       "      <td>4.36</td>\n",
       "      <td>4.160</td>\n",
       "      <td>0.0900</td>\n",
       "      <td>0.406</td>\n",
       "      <td>0.233</td>\n",
       "      <td>11</td>\n",
       "      <td>0.3380</td>\n",
       "    </tr>\n",
       "    <tr>\n",
       "      <th>Football</th>\n",
       "      <td>10.66</td>\n",
       "      <td>2.500</td>\n",
       "      <td>0.0930</td>\n",
       "      <td>0.407</td>\n",
       "      <td>0.162</td>\n",
       "      <td>4</td>\n",
       "      <td>0.4500</td>\n",
       "    </tr>\n",
       "    <tr>\n",
       "      <th>Internet AS.</th>\n",
       "      <td>3.88</td>\n",
       "      <td>3.700</td>\n",
       "      <td>0.0006</td>\n",
       "      <td>0.009</td>\n",
       "      <td>-0.181</td>\n",
       "      <td>9</td>\n",
       "      <td>0.2900</td>\n",
       "    </tr>\n",
       "    <tr>\n",
       "      <th>Les Misérables</th>\n",
       "      <td>6.59</td>\n",
       "      <td>2.640</td>\n",
       "      <td>0.0860</td>\n",
       "      <td>0.498</td>\n",
       "      <td>-0.165</td>\n",
       "      <td>5</td>\n",
       "      <td>0.4350</td>\n",
       "    </tr>\n",
       "    <tr>\n",
       "      <th>Pol. Books</th>\n",
       "      <td>8.40</td>\n",
       "      <td>3.070</td>\n",
       "      <td>0.0800</td>\n",
       "      <td>0.348</td>\n",
       "      <td>-0.127</td>\n",
       "      <td>7</td>\n",
       "      <td>0.3970</td>\n",
       "    </tr>\n",
       "    <tr>\n",
       "      <th>Deezer EU</th>\n",
       "      <td>6.55</td>\n",
       "      <td>6.440</td>\n",
       "      <td>0.0020</td>\n",
       "      <td>0.095</td>\n",
       "      <td>0.104</td>\n",
       "      <td>21</td>\n",
       "      <td>0.1690</td>\n",
       "    </tr>\n",
       "    <tr>\n",
       "      <th>Ego Facebook</th>\n",
       "      <td>43.69</td>\n",
       "      <td>3.690</td>\n",
       "      <td>0.0100</td>\n",
       "      <td>0.519</td>\n",
       "      <td>0.063</td>\n",
       "      <td>8</td>\n",
       "      <td>0.3060</td>\n",
       "    </tr>\n",
       "    <tr>\n",
       "      <th>Caltech</th>\n",
       "      <td>43.70</td>\n",
       "      <td>2.230</td>\n",
       "      <td>0.0570</td>\n",
       "      <td>0.291</td>\n",
       "      <td>-0.066</td>\n",
       "      <td>6</td>\n",
       "      <td>0.4610</td>\n",
       "    </tr>\n",
       "    <tr>\n",
       "      <th>Facebook Pol. Pages</th>\n",
       "      <td>14.12</td>\n",
       "      <td>4.660</td>\n",
       "      <td>0.0020</td>\n",
       "      <td>0.301</td>\n",
       "      <td>0.018</td>\n",
       "      <td>14</td>\n",
       "      <td>0.2310</td>\n",
       "    </tr>\n",
       "    <tr>\n",
       "      <th>Hamsterster</th>\n",
       "      <td>13.49</td>\n",
       "      <td>3.450</td>\n",
       "      <td>0.0070</td>\n",
       "      <td>0.090</td>\n",
       "      <td>-0.088</td>\n",
       "      <td>14</td>\n",
       "      <td>0.3170</td>\n",
       "    </tr>\n",
       "    <tr>\n",
       "      <th>PGP</th>\n",
       "      <td>4.55</td>\n",
       "      <td>7.480</td>\n",
       "      <td>0.0004</td>\n",
       "      <td>0.378</td>\n",
       "      <td>0.238</td>\n",
       "      <td>24</td>\n",
       "      <td>0.1470</td>\n",
       "    </tr>\n",
       "    <tr>\n",
       "      <th>Princeton</th>\n",
       "      <td>89.21</td>\n",
       "      <td>2.670</td>\n",
       "      <td>0.0130</td>\n",
       "      <td>0.163</td>\n",
       "      <td>0.090</td>\n",
       "      <td>9</td>\n",
       "      <td>0.4000</td>\n",
       "    </tr>\n",
       "    <tr>\n",
       "      <th>Retweets</th>\n",
       "      <td>2.70</td>\n",
       "      <td>5.350</td>\n",
       "      <td>0.0030</td>\n",
       "      <td>0.060</td>\n",
       "      <td>-0.099</td>\n",
       "      <td>14</td>\n",
       "      <td>0.2080</td>\n",
       "    </tr>\n",
       "    <tr>\n",
       "      <th>BlumenauDrug</th>\n",
       "      <td>4.83</td>\n",
       "      <td>2.810</td>\n",
       "      <td>0.0650</td>\n",
       "      <td>0.108</td>\n",
       "      <td>-0.314</td>\n",
       "      <td>6</td>\n",
       "      <td>0.4060</td>\n",
       "    </tr>\n",
       "    <tr>\n",
       "      <th>BudapestConnectome</th>\n",
       "      <td>139.22</td>\n",
       "      <td>2.218</td>\n",
       "      <td>0.1370</td>\n",
       "      <td>0.557</td>\n",
       "      <td>0.215</td>\n",
       "      <td>5</td>\n",
       "      <td>0.5001</td>\n",
       "    </tr>\n",
       "    <tr>\n",
       "      <th>YeastCollins</th>\n",
       "      <td>16.57</td>\n",
       "      <td>5.550</td>\n",
       "      <td>0.0160</td>\n",
       "      <td>0.617</td>\n",
       "      <td>0.556</td>\n",
       "      <td>15</td>\n",
       "      <td>0.2200</td>\n",
       "    </tr>\n",
       "    <tr>\n",
       "      <th>InteractomeVidal</th>\n",
       "      <td>4.32</td>\n",
       "      <td>4.830</td>\n",
       "      <td>0.0015</td>\n",
       "      <td>0.035</td>\n",
       "      <td>-0.136</td>\n",
       "      <td>13</td>\n",
       "      <td>0.2220</td>\n",
       "    </tr>\n",
       "    <tr>\n",
       "      <th>MalariaGenes</th>\n",
       "      <td>18.31</td>\n",
       "      <td>3.510</td>\n",
       "      <td>0.0590</td>\n",
       "      <td>0.586</td>\n",
       "      <td>0.599</td>\n",
       "      <td>8</td>\n",
       "      <td>0.3480</td>\n",
       "    </tr>\n",
       "    <tr>\n",
       "      <th>KeggMetabolic</th>\n",
       "      <td>6.18</td>\n",
       "      <td>3.110</td>\n",
       "      <td>0.0030</td>\n",
       "      <td>0.029</td>\n",
       "      <td>-0.224</td>\n",
       "      <td>8</td>\n",
       "      <td>0.3420</td>\n",
       "    </tr>\n",
       "    <tr>\n",
       "      <th>NewZealand</th>\n",
       "      <td>5.80</td>\n",
       "      <td>2.750</td>\n",
       "      <td>0.0040</td>\n",
       "      <td>0.063</td>\n",
       "      <td>-0.339</td>\n",
       "      <td>6</td>\n",
       "      <td>0.3810</td>\n",
       "    </tr>\n",
       "    <tr>\n",
       "      <th>EUAirlines</th>\n",
       "      <td>14.16</td>\n",
       "      <td>2.760</td>\n",
       "      <td>0.0340</td>\n",
       "      <td>0.303</td>\n",
       "      <td>-0.151</td>\n",
       "      <td>7</td>\n",
       "      <td>0.4000</td>\n",
       "    </tr>\n",
       "    <tr>\n",
       "      <th>InternetTopCogentco</th>\n",
       "      <td>2.46</td>\n",
       "      <td>10.510</td>\n",
       "      <td>0.0120</td>\n",
       "      <td>0.019</td>\n",
       "      <td>0.027</td>\n",
       "      <td>28</td>\n",
       "      <td>0.1370</td>\n",
       "    </tr>\n",
       "    <tr>\n",
       "      <th>LondonTransport</th>\n",
       "      <td>2.33</td>\n",
       "      <td>13.730</td>\n",
       "      <td>0.0060</td>\n",
       "      <td>0.051</td>\n",
       "      <td>0.137</td>\n",
       "      <td>39</td>\n",
       "      <td>0.1010</td>\n",
       "    </tr>\n",
       "    <tr>\n",
       "      <th>911AllWords</th>\n",
       "      <td>22.24</td>\n",
       "      <td>3.124</td>\n",
       "      <td>0.0016</td>\n",
       "      <td>0.106</td>\n",
       "      <td>-0.108</td>\n",
       "      <td>10</td>\n",
       "      <td>0.3340</td>\n",
       "    </tr>\n",
       "    <tr>\n",
       "      <th>MovieGalaxies</th>\n",
       "      <td>5.98</td>\n",
       "      <td>2.060</td>\n",
       "      <td>0.0550</td>\n",
       "      <td>0.162</td>\n",
       "      <td>-0.359</td>\n",
       "      <td>3</td>\n",
       "      <td>0.5080</td>\n",
       "    </tr>\n",
       "    <tr>\n",
       "      <th>BibleNouns</th>\n",
       "      <td>10.61</td>\n",
       "      <td>3.375</td>\n",
       "      <td>0.0060</td>\n",
       "      <td>0.162</td>\n",
       "      <td>-0.051</td>\n",
       "      <td>8</td>\n",
       "      <td>0.3190</td>\n",
       "    </tr>\n",
       "    <tr>\n",
       "      <th>BoardDirectors</th>\n",
       "      <td>6.43</td>\n",
       "      <td>6.670</td>\n",
       "      <td>0.0070</td>\n",
       "      <td>0.624</td>\n",
       "      <td>0.051</td>\n",
       "      <td>17</td>\n",
       "      <td>0.1760</td>\n",
       "    </tr>\n",
       "    <tr>\n",
       "      <th>DNCEmails</th>\n",
       "      <td>24.46</td>\n",
       "      <td>2.760</td>\n",
       "      <td>0.0280</td>\n",
       "      <td>0.548</td>\n",
       "      <td>-0.133</td>\n",
       "      <td>8</td>\n",
       "      <td>0.3990</td>\n",
       "    </tr>\n",
       "    <tr>\n",
       "      <th>GoT</th>\n",
       "      <td>6.58</td>\n",
       "      <td>2.900</td>\n",
       "      <td>0.0620</td>\n",
       "      <td>0.328</td>\n",
       "      <td>-0.130</td>\n",
       "      <td>6</td>\n",
       "      <td>0.3980</td>\n",
       "    </tr>\n",
       "    <tr>\n",
       "      <th>MarvelPartnerships</th>\n",
       "      <td>2.47</td>\n",
       "      <td>7.920</td>\n",
       "      <td>0.0130</td>\n",
       "      <td>0.216</td>\n",
       "      <td>-0.206</td>\n",
       "      <td>21</td>\n",
       "      <td>0.1670</td>\n",
       "    </tr>\n",
       "    <tr>\n",
       "      <th>FacebookFriends</th>\n",
       "      <td>11.87</td>\n",
       "      <td>3.580</td>\n",
       "      <td>0.0360</td>\n",
       "      <td>0.512</td>\n",
       "      <td>0.073</td>\n",
       "      <td>9</td>\n",
       "      <td>0.3260</td>\n",
       "    </tr>\n",
       "    <tr>\n",
       "      <th>FacebookOrganizations</th>\n",
       "      <td>34.11</td>\n",
       "      <td>3.500</td>\n",
       "      <td>0.0060</td>\n",
       "      <td>0.222</td>\n",
       "      <td>0.103</td>\n",
       "      <td>9</td>\n",
       "      <td>0.3120</td>\n",
       "    </tr>\n",
       "    <tr>\n",
       "      <th>DBLPCite</th>\n",
       "      <td>7.93</td>\n",
       "      <td>4.210</td>\n",
       "      <td>0.0006</td>\n",
       "      <td>0.062</td>\n",
       "      <td>-0.046</td>\n",
       "      <td>10</td>\n",
       "      <td>0.2400</td>\n",
       "    </tr>\n",
       "  </tbody>\n",
       "</table>\n",
       "</div>"
      ],
      "text/plain": [
       "                       Average Degree  Average Distance  Density  \\\n",
       "Dolphins                         5.12             3.350   0.0840   \n",
       "Reptiles                         3.96             7.930   0.0080   \n",
       "E. coli Trans                    2.77             4.840   0.0080   \n",
       "Human Protein                    5.78             3.840   0.0020   \n",
       "Mouse Visual Cortex              2.21             4.270   0.0150   \n",
       "Yeast Protein                    2.73             6.810   0.0010   \n",
       "AstroPh                         22.00             4.180   0.0010   \n",
       "CS PhD                           2.03            11.740   0.0010   \n",
       "GrQc                             6.45             6.040   0.0010   \n",
       "NetSci                           4.83             6.040   0.0120   \n",
       "Adolescent Health                8.23             4.550   0.0030   \n",
       "Jazz                            27.69             2.230   0.1400   \n",
       "Zachary Karate Club              4.58             2.400   0.1390   \n",
       "Madrid Train Bombings            7.59             2.690   0.1200   \n",
       "EuroRoads                        2.51            18.390   0.0020   \n",
       "US Airports                     11.92             2.990   0.0230   \n",
       "US Power Grids                   2.66            18.980   0.0050   \n",
       "US States                        4.36             4.160   0.0900   \n",
       "Football                        10.66             2.500   0.0930   \n",
       "Internet AS.                     3.88             3.700   0.0006   \n",
       "Les Misérables                   6.59             2.640   0.0860   \n",
       "Pol. Books                       8.40             3.070   0.0800   \n",
       "Deezer EU                        6.55             6.440   0.0020   \n",
       "Ego Facebook                    43.69             3.690   0.0100   \n",
       "Caltech                         43.70             2.230   0.0570   \n",
       "Facebook Pol. Pages             14.12             4.660   0.0020   \n",
       "Hamsterster                     13.49             3.450   0.0070   \n",
       "PGP                              4.55             7.480   0.0004   \n",
       "Princeton                       89.21             2.670   0.0130   \n",
       "Retweets                         2.70             5.350   0.0030   \n",
       "BlumenauDrug                     4.83             2.810   0.0650   \n",
       "BudapestConnectome             139.22             2.218   0.1370   \n",
       "YeastCollins                    16.57             5.550   0.0160   \n",
       "InteractomeVidal                 4.32             4.830   0.0015   \n",
       "MalariaGenes                    18.31             3.510   0.0590   \n",
       "KeggMetabolic                    6.18             3.110   0.0030   \n",
       "NewZealand                       5.80             2.750   0.0040   \n",
       "EUAirlines                      14.16             2.760   0.0340   \n",
       "InternetTopCogentco              2.46            10.510   0.0120   \n",
       "LondonTransport                  2.33            13.730   0.0060   \n",
       "911AllWords                     22.24             3.124   0.0016   \n",
       "MovieGalaxies                    5.98             2.060   0.0550   \n",
       "BibleNouns                      10.61             3.375   0.0060   \n",
       "BoardDirectors                   6.43             6.670   0.0070   \n",
       "DNCEmails                       24.46             2.760   0.0280   \n",
       "GoT                              6.58             2.900   0.0620   \n",
       "MarvelPartnerships               2.47             7.920   0.0130   \n",
       "FacebookFriends                 11.87             3.580   0.0360   \n",
       "FacebookOrganizations           34.11             3.500   0.0060   \n",
       "DBLPCite                         7.93             4.210   0.0006   \n",
       "\n",
       "                       Transitivity  Assortativity  Diameter  Efficiency  \n",
       "Dolphins                      0.308         -0.043         8      0.3790  \n",
       "Reptiles                      0.419          0.345        21      0.1550  \n",
       "E. coli Trans                 0.023         -0.263        13      0.2450  \n",
       "Human Protein                 0.007         -0.331        10      0.2810  \n",
       "Mouse Visual Cortex           0.004         -0.844         8      0.2710  \n",
       "Yeast Protein                 0.051         -0.207        19      0.1630  \n",
       "AstroPh                       0.317          0.201        14      0.2550  \n",
       "CS PhD                        0.002         -0.253        28      0.1050  \n",
       "GrQc                          0.628          0.639        17      0.1790  \n",
       "NetSci                        0.430         -0.081        17      0.2030  \n",
       "Adolescent Health             0.141          0.251        10      0.2340  \n",
       "Jazz                          0.520          0.020         6      0.5130  \n",
       "Zachary Karate Club           0.255         -0.475         5      0.4920  \n",
       "Madrid Train Bombings         0.561          0.029         6      0.4480  \n",
       "EuroRoads                     0.035          0.090        62      0.0700  \n",
       "US Airports                   0.351         -0.267         7      0.3710  \n",
       "US Power Grids                0.103          0.003        46      0.0620  \n",
       "US States                     0.406          0.233        11      0.3380  \n",
       "Football                      0.407          0.162         4      0.4500  \n",
       "Internet AS.                  0.009         -0.181         9      0.2900  \n",
       "Les Misérables                0.498         -0.165         5      0.4350  \n",
       "Pol. Books                    0.348         -0.127         7      0.3970  \n",
       "Deezer EU                     0.095          0.104        21      0.1690  \n",
       "Ego Facebook                  0.519          0.063         8      0.3060  \n",
       "Caltech                       0.291         -0.066         6      0.4610  \n",
       "Facebook Pol. Pages           0.301          0.018        14      0.2310  \n",
       "Hamsterster                   0.090         -0.088        14      0.3170  \n",
       "PGP                           0.378          0.238        24      0.1470  \n",
       "Princeton                     0.163          0.090         9      0.4000  \n",
       "Retweets                      0.060         -0.099        14      0.2080  \n",
       "BlumenauDrug                  0.108         -0.314         6      0.4060  \n",
       "BudapestConnectome            0.557          0.215         5      0.5001  \n",
       "YeastCollins                  0.617          0.556        15      0.2200  \n",
       "InteractomeVidal              0.035         -0.136        13      0.2220  \n",
       "MalariaGenes                  0.586          0.599         8      0.3480  \n",
       "KeggMetabolic                 0.029         -0.224         8      0.3420  \n",
       "NewZealand                    0.063         -0.339         6      0.3810  \n",
       "EUAirlines                    0.303         -0.151         7      0.4000  \n",
       "InternetTopCogentco           0.019          0.027        28      0.1370  \n",
       "LondonTransport               0.051          0.137        39      0.1010  \n",
       "911AllWords                   0.106         -0.108        10      0.3340  \n",
       "MovieGalaxies                 0.162         -0.359         3      0.5080  \n",
       "BibleNouns                    0.162         -0.051         8      0.3190  \n",
       "BoardDirectors                0.624          0.051        17      0.1760  \n",
       "DNCEmails                     0.548         -0.133         8      0.3990  \n",
       "GoT                           0.328         -0.130         6      0.3980  \n",
       "MarvelPartnerships            0.216         -0.206        21      0.1670  \n",
       "FacebookFriends               0.512          0.073         9      0.3260  \n",
       "FacebookOrganizations         0.222          0.103         9      0.3120  \n",
       "DBLPCite                      0.062         -0.046        10      0.2400  "
      ]
     },
     "execution_count": 131,
     "metadata": {},
     "output_type": "execute_result"
    }
   ],
   "source": [
    "# Animals - Dolphins\n",
    "dolphins_feature_vector = [5.12,\n",
    "                           3.35,\n",
    "                           0.084,\n",
    "                           0.308,\n",
    "                           -0.043,\n",
    "                           8,\n",
    "                           0.379\n",
    "                          ]\n",
    "                           \n",
    "\n",
    "# Animals - Reptiles\n",
    "reptiles_feature_vector = [3.96,\n",
    "                          7.93,\n",
    "                          0.008,\n",
    "                          0.419,\n",
    "                          0.345,\n",
    "                          21,\n",
    "                          0.155]\n",
    "\n",
    "# Bio - Ecoli\n",
    "ecoli_feature_vector = [2.77,\n",
    "                       4.84,\n",
    "                       0.008,\n",
    "                       0.023,\n",
    "                       -0.263,\n",
    "                       13,\n",
    "                       0.245]\n",
    "\n",
    "# Bio - Human Protein\n",
    "humanprotein_feature_vector = [5.78,\n",
    "                              3.84,\n",
    "                              0.002,\n",
    "                              0.007,\n",
    "                              -0.331,\n",
    "                              10,\n",
    "                              0.281]\n",
    "\n",
    "# Bio - Mouse Visual Cortex\n",
    "mousevisualcortex_feature_vector = [2.21,\n",
    "                                   4.27,\n",
    "                                   0.015,\n",
    "                                   0.004,\n",
    "                                   -0.844,\n",
    "                                   8,\n",
    "                                   0.271]\n",
    "\n",
    "# Bio - Yeast Protein\n",
    "yeastprotein_feature_vector = [2.73,\n",
    "                              6.81,\n",
    "                              0.001,\n",
    "                              0.051,\n",
    "                              -0.207,\n",
    "                              19,\n",
    "                              0.163]\n",
    "\n",
    "# Collab - AstroPh\n",
    "astroph_feature_vector = [22,\n",
    "                         4.18,\n",
    "                         0.001,\n",
    "                         0.317,\n",
    "                         0.201,\n",
    "                         14,\n",
    "                         0.255]\n",
    "\n",
    "# Collab - CS PhD\n",
    "csphd_feature_vector = [2.03,\n",
    "                       11.74,\n",
    "                       0.001,\n",
    "                       0.002,\n",
    "                       -0.253,\n",
    "                       28,\n",
    "                       0.105]\n",
    "\n",
    "# Collab - GrQc\n",
    "grqc_feature_vector = [6.45, \n",
    "                      6.04,\n",
    "                      0.001,\n",
    "                      0.628,\n",
    "                      0.639,\n",
    "                      17,\n",
    "                      0.179]\n",
    "\n",
    "# Collab - NetSci\n",
    "netsci_feature_vector = [4.83,\n",
    "                        6.04,\n",
    "                        0.012,\n",
    "                        0.430,\n",
    "                        -0.081,\n",
    "                        17,\n",
    "                        0.203]\n",
    "\n",
    "# Human Social - Adolescent Health\n",
    "adolescenthealth_feature_vector = [8.23,\n",
    "                                  4.55,\n",
    "                                  0.003,\n",
    "                                  0.141,\n",
    "                                  0.251,\n",
    "                                  10,\n",
    "                                  0.234]\n",
    "\n",
    "# Human Social - Jazz\n",
    "jazz_feature_vector = [27.69,\n",
    "                      2.23,\n",
    "                      0.140,\n",
    "                      0.520,\n",
    "                      0.020,\n",
    "                      6,\n",
    "                      0.513]\n",
    "\n",
    "# Human Social - Karate\n",
    "karate_feature_vector = [4.58,\n",
    "                        2.40,\n",
    "                        0.139,\n",
    "                        0.255,\n",
    "                        -0.475,\n",
    "                        5,\n",
    "                        0.492]\n",
    "\n",
    "# Human Social - Madrid Train Bombings\n",
    "madridtrainbombings_feature_vector = [7.59,\n",
    "                                     2.69,\n",
    "                                     0.120,\n",
    "                                     0.561,\n",
    "                                     0.029,\n",
    "                                     6,\n",
    "                                     0.448]\n",
    "\n",
    "# Infra - EuroRoad\n",
    "euroroad_feature_vector = [2.51,\n",
    "                          18.39,\n",
    "                          0.002,\n",
    "                          0.035,\n",
    "                          0.090,\n",
    "                          62,\n",
    "                          0.07]\n",
    "\n",
    "# Infra - US Airports\n",
    "usairports_feature_vector = [11.92,\n",
    "                            2.99,\n",
    "                            0.023,\n",
    "                            0.351,\n",
    "                            -0.267,\n",
    "                            7,\n",
    "                            0.371]\n",
    "\n",
    "# Infra - US Power Grids\n",
    "uspowergrids_feature_vector = [2.66,\n",
    "                              18.98,\n",
    "                              0.005,\n",
    "                              0.103,\n",
    "                              0.003,\n",
    "                              46,\n",
    "                              0.062]\n",
    "\n",
    "# Infra - US States\n",
    "usstates_feature_vector = [4.36,\n",
    "                          4.16,\n",
    "                          0.090,\n",
    "                          0.406,\n",
    "                          0.233,\n",
    "                          11,\n",
    "                          0.338]\n",
    "\n",
    "# Misc - Football\n",
    "football_feature_vector = [10.66,\n",
    "                          2.50,\n",
    "                          0.093,\n",
    "                          0.407,\n",
    "                          0.162,\n",
    "                          4,\n",
    "                          0.450]\n",
    "\n",
    "# Misc - Internet Autonomous Systems\n",
    "internetas_feature_vector = [3.88,\n",
    "                            3.7,\n",
    "                            0.0006,\n",
    "                            0.009,\n",
    "                            -0.181,\n",
    "                            9,\n",
    "                            0.290]\n",
    "\n",
    "# Misc - Les Mis\n",
    "lesmis_feature_vector = [6.59,\n",
    "                        2.64,\n",
    "                        0.086,\n",
    "                        0.498,\n",
    "                        -0.165,\n",
    "                        5,\n",
    "                        0.435]\n",
    "\n",
    "# Misc - PolBooks\n",
    "polbooks_feature_vector = [8.40, \n",
    "                           3.07, \n",
    "                           0.080,\n",
    "                          0.348,\n",
    "                          -0.127,\n",
    "                          7,\n",
    "                          0.397]\n",
    "\n",
    "# OSN - DeezerEU\n",
    "deezereu_feature_vector = [6.55,\n",
    "                          6.44,\n",
    "                          0.002,\n",
    "                          0.095,\n",
    "                          0.104,\n",
    "                          21,\n",
    "                          0.169]\n",
    "\n",
    "# OSN - Ego Facebook\n",
    "egofacebook_feature_vector = [43.69,\n",
    "                             3.69,\n",
    "                             0.010,\n",
    "                             0.519,\n",
    "                             0.063,\n",
    "                             8,\n",
    "                             0.306]\n",
    "\n",
    "# OSN - FB Caltech\n",
    "caltech_feature_vector = [43.70,\n",
    "                         2.23,\n",
    "                         0.057,\n",
    "                         0.291,\n",
    "                         -0.066,\n",
    "                         6,\n",
    "                         0.461]\n",
    "\n",
    "# OSN - FB Politician Pages\n",
    "fbpoliticianpages_feature_vector = [14.12,\n",
    "                                   4.66,\n",
    "                                   0.002,\n",
    "                                   0.301,\n",
    "                                   0.018,\n",
    "                                   14,\n",
    "                                   0.231]\n",
    "\n",
    "# OSN - Hamsterster\n",
    "hamsterster_feature_vector = [13.49,\n",
    "                             3.45,\n",
    "                             0.007,\n",
    "                             0.090,\n",
    "                             -0.088,\n",
    "                             14,\n",
    "                             0.317]\n",
    "\n",
    "# OSN - PGP\n",
    "pgp_feature_vector = [4.55,\n",
    "                     7.48,\n",
    "                     0.0004,\n",
    "                     0.378,\n",
    "                     0.238,\n",
    "                     24,\n",
    "                     0.147]\n",
    "\n",
    "# OSN - FB Princeton\n",
    "princeton_feature_vector = [89.21,\n",
    "                           2.67,\n",
    "                           0.013,\n",
    "                           0.163,\n",
    "                           0.090,\n",
    "                           9,\n",
    "                           0.4]\n",
    "\n",
    "# OSN - Twitter\n",
    "twitter_feature_vector = [2.7, \n",
    "                          5.35, \n",
    "                          0.003, \n",
    "                          0.060, \n",
    "                          -0.099, \n",
    "                          14, \n",
    "                          0.208]\n",
    "\n",
    "# Additions Credibility\n",
    "# Bio - BlumenauDrug\n",
    "blumenaudrug_feature_vector = [4.83,\n",
    "                              2.81,\n",
    "                              0.065,\n",
    "                              0.108,\n",
    "                              -0.314,\n",
    "                              6,\n",
    "                              0.406]\n",
    "\n",
    "# Bio - BudapestConnectome\n",
    "budapestconnectome_feature_vector = [139.22,\n",
    "                                    2.218,\n",
    "                                    0.137,\n",
    "                                    0.557,\n",
    "                                    0.215,\n",
    "                                    5,\n",
    "                                    0.5001]\n",
    "\n",
    "# Bio - YeastCollins\n",
    "yeastcollins_feature_vector = [16.57,\n",
    "                              5.55,\n",
    "                              0.016,\n",
    "                              0.617,\n",
    "                              0.556,\n",
    "                              15,\n",
    "                            0.220\n",
    "                              ]\n",
    "\n",
    "# Bio - InteractomeVidal\n",
    "interactomevidal_feature_vector = [4.32,\n",
    "                                  4.83,\n",
    "                                  0.0015,\n",
    "                                  0.035,\n",
    "                                  -0.136,\n",
    "                                  13,\n",
    "                                  0.222]\n",
    "\n",
    "# Bio - MalariaGenes\n",
    "malariagenes_feature_vector = [18.31,\n",
    "                              3.51,\n",
    "                              0.059,\n",
    "                              0.586,\n",
    "                              0.599,\n",
    "                              8,\n",
    "                              0.348]\n",
    "\n",
    "\n",
    "# Bio - KeggMetabolic\n",
    "keggmetabolic_feature_vector = [6.18,\n",
    "                               3.11,\n",
    "                               0.003,\n",
    "                               0.029,\n",
    "                               -0.224,\n",
    "                               8,\n",
    "                               0.342]\n",
    "\n",
    "# Collab - NewZealand\n",
    "newzealand_feature_vector = [5.80,\n",
    "                            2.75,\n",
    "                            0.004,\n",
    "                            0.063,\n",
    "                            -0.339,\n",
    "                            6,\n",
    "                            0.381]\n",
    "\n",
    "\n",
    "# Infra - EUAirlines\n",
    "euairlines_feature_vector = [14.16,\n",
    "                            2.76,\n",
    "                            0.034,\n",
    "                            0.303,\n",
    "                            -0.151,\n",
    "                            7,\n",
    "                            0.400]\n",
    "\n",
    "# Infra - InternetTopCogentco\n",
    "internettopcogentco_feature_vector = [2.46,\n",
    "                                     10.51,\n",
    "                                     0.012,\n",
    "                                     0.019,\n",
    "                                     0.027,\n",
    "                                     28,\n",
    "                                     0.137]\n",
    "\n",
    "# Infra - LondonTransport\n",
    "londontransport_feature_vector = [2.33,\n",
    "                                 13.73,\n",
    "                                 0.006,\n",
    "                                 0.051,\n",
    "                                 0.137,\n",
    "                                 39,\n",
    "                                 0.101]\n",
    "\n",
    "# Misc - 911AllWords\n",
    "allwords911_feature_vector = [22.24,\n",
    "                             3.124,\n",
    "                             0.0016,\n",
    "                             0.106,\n",
    "                             -0.108,\n",
    "                             10,\n",
    "                             0.334]\n",
    "\n",
    "# Misc - MovieGalaxies\n",
    "moviegalaxies_feature_vector = [5.98,\n",
    "                               2.06,\n",
    "                               0.055,\n",
    "                               0.162,\n",
    "                               -0.359,\n",
    "                               3,\n",
    "                               0.508]\n",
    "\n",
    "# Misc - BibleNouns\n",
    "biblenouns_feature_vector = [10.61,\n",
    "                            3.375,\n",
    "                            0.006,\n",
    "                            0.162,\n",
    "                            -0.051,\n",
    "                            8,\n",
    "                            0.319]\n",
    "# Misc- BoardDirectors\n",
    "boarddirectors_feature_vector = [6.43,\n",
    "                                6.67,\n",
    "                                0.007,\n",
    "                                0.624,\n",
    "                                0.051,\n",
    "                                17,\n",
    "                                0.176]\n",
    "\n",
    "# Misc - DNCEmails\n",
    "dncemails_feature_vector = [24.46,\n",
    "                           2.76,\n",
    "                           0.028,\n",
    "                           0.548,\n",
    "                           -0.133,\n",
    "                           8,\n",
    "                           0.399]\n",
    "\n",
    "# Misc - GoT\n",
    "got_feature_vector = [6.58,\n",
    "                     2.90,\n",
    "                     0.062,\n",
    "                     0.328,\n",
    "                     -0.130,\n",
    "                     6,\n",
    "                     0.398]\n",
    "\n",
    "# Misc - MarvelPartnerships\n",
    "marvelpartnerships_feature_vector = [2.47,\n",
    "                                    7.92,\n",
    "                                    0.013,\n",
    "                                    0.216,\n",
    "                                    -0.206,\n",
    "                                    21,\n",
    "                                    0.167]\n",
    "\n",
    "# OSN - FacebookFriends\n",
    "facebookfriends_feature_vector = [11.87,\n",
    "                                 3.58,\n",
    "                                 0.036,\n",
    "                                 0.512,\n",
    "                                 0.073,\n",
    "                                 9,\n",
    "                                 0.326]\n",
    "# OSN - FacebookOrganizations\n",
    "facebookorganizations_feature_vector = [34.11,\n",
    "                                       3.50,\n",
    "                                       0.006,\n",
    "                                       0.222,\n",
    "                                       0.103,\n",
    "                                       9,\n",
    "                                       0.312]\n",
    "\n",
    "# Cite - DBLPCite\n",
    "dblpcite_feature_vector = [7.93,\n",
    "                          4.21,\n",
    "                          0.0006,\n",
    "                          0.062,\n",
    "                          -0.046,\n",
    "                          10,\n",
    "                          0.240]\n",
    "\n",
    "\n",
    "labels = [\"Dolphins\", \n",
    "          \"Reptiles\", \n",
    "          \"E. coli Trans\", \n",
    "          \"Human Protein\",  \n",
    "          \"Mouse Visual Cortex\", \n",
    "          \"Yeast Protein\",\n",
    "          \"AstroPh\",\n",
    "          \"CS PhD\",\n",
    "          \"GrQc\",\n",
    "          \"NetSci\",\n",
    "          \"Adolescent Health\",\n",
    "          \"Jazz\",\n",
    "          \"Zachary Karate Club\",\n",
    "          \"Madrid Train Bombings\",\n",
    "          \"EuroRoads\",\n",
    "          \"US Airports\",\n",
    "          \"US Power Grids\",\n",
    "          \"US States\",\n",
    "          \"Football\",\n",
    "          \"Internet AS.\",\n",
    "          \"Les Misérables\",\n",
    "          \"Pol. Books\",\n",
    "          \"Deezer EU\",\n",
    "          \"Ego Facebook\",\n",
    "          \"Caltech\",\n",
    "          \"Facebook Pol. Pages\",\n",
    "          \"Hamsterster\",\n",
    "          \"PGP\",\n",
    "          \"Princeton\",\n",
    "          \"Retweets\",\n",
    "          \"BlumenauDrug\",\n",
    "          \"BudapestConnectome\",\n",
    "          \"YeastCollins\",\n",
    "          \"InteractomeVidal\",\n",
    "          \"MalariaGenes\",\n",
    "          \"KeggMetabolic\",\n",
    "          \"NewZealand\",\n",
    "          \"EUAirlines\",\n",
    "          \"InternetTopCogentco\",\n",
    "          \"LondonTransport\",\n",
    "          \"911AllWords\",\n",
    "          \"MovieGalaxies\",\n",
    "          \"BibleNouns\",\n",
    "          \"BoardDirectors\",\n",
    "          \"DNCEmails\",\n",
    "          \"GoT\",\n",
    "          \"MarvelPartnerships\",\n",
    "          \"FacebookFriends\",\n",
    "          \"FacebookOrganizations\",\n",
    "          \"DBLPCite\"\n",
    "         ]\n",
    "\n",
    "len(labels)\n",
    "\n",
    "import pandas as pd\n",
    "\n",
    "d1 = dolphins_feature_vector\n",
    "d2 = reptiles_feature_vector\n",
    "d3 = ecoli_feature_vector\n",
    "d4 = humanprotein_feature_vector\n",
    "d5 = mousevisualcortex_feature_vector\n",
    "d6 = yeastprotein_feature_vector\n",
    "d7 = astroph_feature_vector\n",
    "d8 = csphd_feature_vector\n",
    "d9 = grqc_feature_vector\n",
    "d10 = netsci_feature_vector\n",
    "d11 = adolescenthealth_feature_vector\n",
    "d12 = jazz_feature_vector\n",
    "d13 = karate_feature_vector\n",
    "d14 = madridtrainbombings_feature_vector\n",
    "d15 = euroroad_feature_vector\n",
    "d16 = usairports_feature_vector\n",
    "d17 = uspowergrids_feature_vector\n",
    "d18 = usstates_feature_vector\n",
    "d19 = football_feature_vector\n",
    "d20 = internetas_feature_vector\n",
    "d21 = lesmis_feature_vector\n",
    "d22 = polbooks_feature_vector\n",
    "d23 = deezereu_feature_vector\n",
    "d24 = egofacebook_feature_vector\n",
    "d25 = caltech_feature_vector\n",
    "d26 = fbpoliticianpages_feature_vector\n",
    "d27 = hamsterster_feature_vector\n",
    "d28 = pgp_feature_vector\n",
    "d29 = princeton_feature_vector\n",
    "d30 = twitter_feature_vector\n",
    "d31 = blumenaudrug_feature_vector\n",
    "d32 = budapestconnectome_feature_vector\n",
    "d33 = yeastcollins_feature_vector\n",
    "d34 = interactomevidal_feature_vector\n",
    "d35 = malariagenes_feature_vector\n",
    "d36 = keggmetabolic_feature_vector\n",
    "d37 = newzealand_feature_vector\n",
    "d38 = euairlines_feature_vector\n",
    "d39 = internettopcogentco_feature_vector\n",
    "d40 = londontransport_feature_vector\n",
    "d41 = allwords911_feature_vector\n",
    "d42 = moviegalaxies_feature_vector\n",
    "d43 = biblenouns_feature_vector\n",
    "d44 = boarddirectors_feature_vector\n",
    "d45 = dncemails_feature_vector\n",
    "d46 = got_feature_vector\n",
    "d47 = marvelpartnerships_feature_vector\n",
    "d48 = facebookfriends_feature_vector\n",
    "d49 = facebookorganizations_feature_vector\n",
    "d50 = dblpcite_feature_vector\n",
    "\n",
    "df_macro = pd.DataFrame([d1, d2, d3, d4, d5, d6, d7, d8, d9, d10, d11, d12, d13, d14, d15, d16, d17, d18, d19, d20, d21, d22, d23,\n",
    "                  d24, d25, d26, d27, d28, d29, d30, d31, d32, d33, d34, d35,\n",
    "                         d36, d37, d38, d39, d40, d41, d42, d43, d44, \n",
    "                         d45, d46, d47, d48, d49, d50],\n",
    "                 columns = [\"Average Degree\",\n",
    "                            \"Average Distance\",\n",
    "                            \"Density\",\n",
    "                            \"Transitivity\",\n",
    "                            \"Assortativity\",\n",
    "                            \"Diameter\",\n",
    "                            \"Efficiency\"])\n",
    "\n",
    "df_macro.rename(index={\n",
    "          0:\"Dolphins\", \n",
    "          1:\"Reptiles\", \n",
    "          2:\"E. coli Trans\", \n",
    "          3:\"Human Protein\",  \n",
    "          4:\"Mouse Visual Cortex\", \n",
    "          5:\"Yeast Protein\",\n",
    "          6:\"AstroPh\",\n",
    "          7:\"CS PhD\",\n",
    "          8:\"GrQc\",\n",
    "          9:\"NetSci\",\n",
    "          10:\"Adolescent Health\",\n",
    "          11:\"Jazz\",\n",
    "          12:\"Zachary Karate Club\",\n",
    "          13: \"Madrid Train Bombings\",\n",
    "          14:\"EuroRoads\",\n",
    "          15:\"US Airports\",\n",
    "          16:\"US Power Grids\",\n",
    "          17:\"US States\",\n",
    "          18:\"Football\",\n",
    "          19:\"Internet AS.\",\n",
    "          20:\"Les Misérables\",\n",
    "          21:\"Pol. Books\",\n",
    "          22:\"Deezer EU\",\n",
    "          23:\"Ego Facebook\",\n",
    "          24:\"Caltech\",\n",
    "          25:\"Facebook Pol. Pages\",\n",
    "          26:\"Hamsterster\",\n",
    "          27:\"PGP\",\n",
    "          28:\"Princeton\",\n",
    "          29:\"Retweets\",\n",
    "          30:\"BlumenauDrug\",\n",
    "          31: \"BudapestConnectome\",\n",
    "          32: \"YeastCollins\",\n",
    "          33: \"InteractomeVidal\", \n",
    "          34: \"MalariaGenes\",\n",
    "          35: \"KeggMetabolic\",\n",
    "          36: \"NewZealand\",\n",
    "          37: \"EUAirlines\",\n",
    "          38: \"InternetTopCogentco\",\n",
    "          39: \"LondonTransport\",\n",
    "          40: \"911AllWords\",\n",
    "          41: \"MovieGalaxies\",\n",
    "          42: \"BibleNouns\",\n",
    "          43: \"BoardDirectors\",\n",
    "          44: \"DNCEmails\",\n",
    "          45: \"GoT\",\n",
    "          46: \"MarvelPartnerships\",\n",
    "          47: \"FacebookFriends\",\n",
    "          48: \"FacebookOrganizations\",\n",
    "          49: \"DBLPCite\"},\n",
    "          inplace=True)\n",
    "df_macro"
   ]
  },
  {
   "cell_type": "markdown",
   "metadata": {},
   "source": [
    "## Add the mesoscopic features"
   ]
  },
  {
   "cell_type": "code",
   "execution_count": 132,
   "metadata": {},
   "outputs": [
    {
     "data": {
      "text/html": [
       "<div>\n",
       "<style scoped>\n",
       "    .dataframe tbody tr th:only-of-type {\n",
       "        vertical-align: middle;\n",
       "    }\n",
       "\n",
       "    .dataframe tbody tr th {\n",
       "        vertical-align: top;\n",
       "    }\n",
       "\n",
       "    .dataframe thead th {\n",
       "        text-align: right;\n",
       "    }\n",
       "</style>\n",
       "<table border=\"1\" class=\"dataframe\">\n",
       "  <thead>\n",
       "    <tr style=\"text-align: right;\">\n",
       "      <th></th>\n",
       "      <th>Modularity</th>\n",
       "      <th>Mixing parameter</th>\n",
       "      <th>Number of communities</th>\n",
       "      <th>Min community size</th>\n",
       "      <th>Max community size</th>\n",
       "      <th>Internal degree</th>\n",
       "      <th>Internal density</th>\n",
       "      <th>Max-ODF</th>\n",
       "      <th>Average-ODF</th>\n",
       "      <th>Flake-out ODF</th>\n",
       "      <th>Embeddedness</th>\n",
       "      <th>Internal distance</th>\n",
       "      <th>Hub Dominance</th>\n",
       "    </tr>\n",
       "  </thead>\n",
       "  <tbody>\n",
       "    <tr>\n",
       "      <th>Dolphins</th>\n",
       "      <td>0.525</td>\n",
       "      <td>0.213</td>\n",
       "      <td>5</td>\n",
       "      <td>2</td>\n",
       "      <td>20</td>\n",
       "      <td>3.410</td>\n",
       "      <td>0.467</td>\n",
       "      <td>0.532</td>\n",
       "      <td>0.292</td>\n",
       "      <td>0.321</td>\n",
       "      <td>0.707</td>\n",
       "      <td>1.740</td>\n",
       "      <td>0.695</td>\n",
       "    </tr>\n",
       "    <tr>\n",
       "      <th>Reptiles</th>\n",
       "      <td>0.811</td>\n",
       "      <td>0.145</td>\n",
       "      <td>54</td>\n",
       "      <td>2</td>\n",
       "      <td>42</td>\n",
       "      <td>2.770</td>\n",
       "      <td>0.443</td>\n",
       "      <td>0.400</td>\n",
       "      <td>0.133</td>\n",
       "      <td>0.127</td>\n",
       "      <td>0.866</td>\n",
       "      <td>1.840</td>\n",
       "      <td>0.722</td>\n",
       "    </tr>\n",
       "    <tr>\n",
       "      <th>E. coli Trans</th>\n",
       "      <td>0.687</td>\n",
       "      <td>0.250</td>\n",
       "      <td>38</td>\n",
       "      <td>2</td>\n",
       "      <td>33</td>\n",
       "      <td>1.690</td>\n",
       "      <td>0.466</td>\n",
       "      <td>0.464</td>\n",
       "      <td>0.208</td>\n",
       "      <td>0.315</td>\n",
       "      <td>0.791</td>\n",
       "      <td>1.660</td>\n",
       "      <td>0.883</td>\n",
       "    </tr>\n",
       "    <tr>\n",
       "      <th>Human Protein</th>\n",
       "      <td>0.466</td>\n",
       "      <td>0.360</td>\n",
       "      <td>95</td>\n",
       "      <td>2</td>\n",
       "      <td>614</td>\n",
       "      <td>2.030</td>\n",
       "      <td>0.253</td>\n",
       "      <td>0.595</td>\n",
       "      <td>0.281</td>\n",
       "      <td>0.399</td>\n",
       "      <td>0.718</td>\n",
       "      <td>2.050</td>\n",
       "      <td>0.786</td>\n",
       "    </tr>\n",
       "    <tr>\n",
       "      <th>Mouse Visual Cortex</th>\n",
       "      <td>0.740</td>\n",
       "      <td>0.154</td>\n",
       "      <td>11</td>\n",
       "      <td>4</td>\n",
       "      <td>25</td>\n",
       "      <td>1.830</td>\n",
       "      <td>0.161</td>\n",
       "      <td>0.345</td>\n",
       "      <td>0.090</td>\n",
       "      <td>0.144</td>\n",
       "      <td>0.909</td>\n",
       "      <td>1.830</td>\n",
       "      <td>1.000</td>\n",
       "    </tr>\n",
       "    <tr>\n",
       "      <th>Yeast Protein</th>\n",
       "      <td>0.749</td>\n",
       "      <td>0.240</td>\n",
       "      <td>38</td>\n",
       "      <td>2</td>\n",
       "      <td>33</td>\n",
       "      <td>1.690</td>\n",
       "      <td>0.466</td>\n",
       "      <td>0.464</td>\n",
       "      <td>0.208</td>\n",
       "      <td>0.315</td>\n",
       "      <td>0.791</td>\n",
       "      <td>1.660</td>\n",
       "      <td>0.833</td>\n",
       "    </tr>\n",
       "    <tr>\n",
       "      <th>AstroPh</th>\n",
       "      <td>0.563</td>\n",
       "      <td>0.420</td>\n",
       "      <td>674</td>\n",
       "      <td>2</td>\n",
       "      <td>548</td>\n",
       "      <td>6.610</td>\n",
       "      <td>0.410</td>\n",
       "      <td>0.627</td>\n",
       "      <td>0.302</td>\n",
       "      <td>0.324</td>\n",
       "      <td>0.697</td>\n",
       "      <td>1.890</td>\n",
       "      <td>0.740</td>\n",
       "    </tr>\n",
       "    <tr>\n",
       "      <th>CS PhD</th>\n",
       "      <td>0.859</td>\n",
       "      <td>0.128</td>\n",
       "      <td>121</td>\n",
       "      <td>3</td>\n",
       "      <td>44</td>\n",
       "      <td>1.690</td>\n",
       "      <td>0.306</td>\n",
       "      <td>0.307</td>\n",
       "      <td>0.068</td>\n",
       "      <td>0.068</td>\n",
       "      <td>0.931</td>\n",
       "      <td>1.960</td>\n",
       "      <td>0.793</td>\n",
       "    </tr>\n",
       "    <tr>\n",
       "      <th>GrQc</th>\n",
       "      <td>0.779</td>\n",
       "      <td>0.200</td>\n",
       "      <td>327</td>\n",
       "      <td>3</td>\n",
       "      <td>87</td>\n",
       "      <td>3.730</td>\n",
       "      <td>0.394</td>\n",
       "      <td>0.461</td>\n",
       "      <td>0.155</td>\n",
       "      <td>0.151</td>\n",
       "      <td>0.844</td>\n",
       "      <td>1.860</td>\n",
       "      <td>0.765</td>\n",
       "    </tr>\n",
       "    <tr>\n",
       "      <th>NetSci</th>\n",
       "      <td>0.810</td>\n",
       "      <td>0.147</td>\n",
       "      <td>39</td>\n",
       "      <td>3</td>\n",
       "      <td>27</td>\n",
       "      <td>3.690</td>\n",
       "      <td>0.537</td>\n",
       "      <td>0.320</td>\n",
       "      <td>0.114</td>\n",
       "      <td>0.083</td>\n",
       "      <td>0.885</td>\n",
       "      <td>1.530</td>\n",
       "      <td>0.914</td>\n",
       "    </tr>\n",
       "    <tr>\n",
       "      <th>Adolescent Health</th>\n",
       "      <td>0.566</td>\n",
       "      <td>0.431</td>\n",
       "      <td>136</td>\n",
       "      <td>4</td>\n",
       "      <td>267</td>\n",
       "      <td>3.460</td>\n",
       "      <td>0.284</td>\n",
       "      <td>0.704</td>\n",
       "      <td>0.473</td>\n",
       "      <td>0.582</td>\n",
       "      <td>0.526</td>\n",
       "      <td>2.290</td>\n",
       "      <td>0.511</td>\n",
       "    </tr>\n",
       "    <tr>\n",
       "      <th>Jazz</th>\n",
       "      <td>0.443</td>\n",
       "      <td>0.267</td>\n",
       "      <td>5</td>\n",
       "      <td>3</td>\n",
       "      <td>64</td>\n",
       "      <td>15.500</td>\n",
       "      <td>0.540</td>\n",
       "      <td>0.612</td>\n",
       "      <td>0.280</td>\n",
       "      <td>0.268</td>\n",
       "      <td>0.719</td>\n",
       "      <td>1.500</td>\n",
       "      <td>0.835</td>\n",
       "    </tr>\n",
       "    <tr>\n",
       "      <th>Zachary Karate Club</th>\n",
       "      <td>0.402</td>\n",
       "      <td>0.179</td>\n",
       "      <td>3</td>\n",
       "      <td>5</td>\n",
       "      <td>17</td>\n",
       "      <td>3.460</td>\n",
       "      <td>0.404</td>\n",
       "      <td>0.294</td>\n",
       "      <td>0.163</td>\n",
       "      <td>0.027</td>\n",
       "      <td>0.836</td>\n",
       "      <td>1.660</td>\n",
       "      <td>0.844</td>\n",
       "    </tr>\n",
       "    <tr>\n",
       "      <th>Madrid Train Bombings</th>\n",
       "      <td>0.309</td>\n",
       "      <td>0.115</td>\n",
       "      <td>5</td>\n",
       "      <td>3</td>\n",
       "      <td>38</td>\n",
       "      <td>4.250</td>\n",
       "      <td>0.526</td>\n",
       "      <td>0.440</td>\n",
       "      <td>0.280</td>\n",
       "      <td>0.328</td>\n",
       "      <td>0.719</td>\n",
       "      <td>1.590</td>\n",
       "      <td>0.865</td>\n",
       "    </tr>\n",
       "    <tr>\n",
       "      <th>EuroRoads</th>\n",
       "      <td>0.786</td>\n",
       "      <td>0.202</td>\n",
       "      <td>109</td>\n",
       "      <td>4</td>\n",
       "      <td>21</td>\n",
       "      <td>1.930</td>\n",
       "      <td>0.254</td>\n",
       "      <td>0.463</td>\n",
       "      <td>0.161</td>\n",
       "      <td>0.205</td>\n",
       "      <td>0.838</td>\n",
       "      <td>2.690</td>\n",
       "      <td>0.398</td>\n",
       "    </tr>\n",
       "    <tr>\n",
       "      <th>US Airports</th>\n",
       "      <td>0.161</td>\n",
       "      <td>0.084</td>\n",
       "      <td>40</td>\n",
       "      <td>2</td>\n",
       "      <td>302</td>\n",
       "      <td>2.290</td>\n",
       "      <td>0.701</td>\n",
       "      <td>0.508</td>\n",
       "      <td>0.347</td>\n",
       "      <td>0.530</td>\n",
       "      <td>0.652</td>\n",
       "      <td>1.360</td>\n",
       "      <td>0.918</td>\n",
       "    </tr>\n",
       "    <tr>\n",
       "      <th>US Power Grids</th>\n",
       "      <td>0.830</td>\n",
       "      <td>0.166</td>\n",
       "      <td>424</td>\n",
       "      <td>3</td>\n",
       "      <td>51</td>\n",
       "      <td>2.070</td>\n",
       "      <td>0.242</td>\n",
       "      <td>0.435</td>\n",
       "      <td>0.130</td>\n",
       "      <td>0.140</td>\n",
       "      <td>0.869</td>\n",
       "      <td>2.550</td>\n",
       "      <td>0.475</td>\n",
       "    </tr>\n",
       "    <tr>\n",
       "      <th>US States</th>\n",
       "      <td>0.596</td>\n",
       "      <td>0.224</td>\n",
       "      <td>6</td>\n",
       "      <td>7</td>\n",
       "      <td>11</td>\n",
       "      <td>3.350</td>\n",
       "      <td>0.479</td>\n",
       "      <td>0.475</td>\n",
       "      <td>0.180</td>\n",
       "      <td>0.144</td>\n",
       "      <td>0.819</td>\n",
       "      <td>1.640</td>\n",
       "      <td>0.767</td>\n",
       "    </tr>\n",
       "    <tr>\n",
       "      <th>Football</th>\n",
       "      <td>0.604</td>\n",
       "      <td>0.293</td>\n",
       "      <td>10</td>\n",
       "      <td>9</td>\n",
       "      <td>15</td>\n",
       "      <td>7.570</td>\n",
       "      <td>0.751</td>\n",
       "      <td>0.435</td>\n",
       "      <td>0.293</td>\n",
       "      <td>0.056</td>\n",
       "      <td>0.706</td>\n",
       "      <td>1.260</td>\n",
       "      <td>0.821</td>\n",
       "    </tr>\n",
       "    <tr>\n",
       "      <th>Internet AS.</th>\n",
       "      <td>0.547</td>\n",
       "      <td>0.428</td>\n",
       "      <td>358</td>\n",
       "      <td>2</td>\n",
       "      <td>546</td>\n",
       "      <td>1.780</td>\n",
       "      <td>0.350</td>\n",
       "      <td>0.508</td>\n",
       "      <td>0.312</td>\n",
       "      <td>0.480</td>\n",
       "      <td>0.697</td>\n",
       "      <td>1.930</td>\n",
       "      <td>0.810</td>\n",
       "    </tr>\n",
       "    <tr>\n",
       "      <th>Les Misérables</th>\n",
       "      <td>0.551</td>\n",
       "      <td>0.267</td>\n",
       "      <td>8</td>\n",
       "      <td>2</td>\n",
       "      <td>15</td>\n",
       "      <td>4.290</td>\n",
       "      <td>0.584</td>\n",
       "      <td>0.441</td>\n",
       "      <td>0.178</td>\n",
       "      <td>0.141</td>\n",
       "      <td>0.821</td>\n",
       "      <td>1.450</td>\n",
       "      <td>0.938</td>\n",
       "    </tr>\n",
       "    <tr>\n",
       "      <th>Pol. Books</th>\n",
       "      <td>0.522</td>\n",
       "      <td>0.145</td>\n",
       "      <td>6</td>\n",
       "      <td>5</td>\n",
       "      <td>45</td>\n",
       "      <td>5.390</td>\n",
       "      <td>0.511</td>\n",
       "      <td>0.516</td>\n",
       "      <td>0.245</td>\n",
       "      <td>0.177</td>\n",
       "      <td>0.754</td>\n",
       "      <td>1.560</td>\n",
       "      <td>0.769</td>\n",
       "    </tr>\n",
       "    <tr>\n",
       "      <th>Deezer EU</th>\n",
       "      <td>0.565</td>\n",
       "      <td>0.429</td>\n",
       "      <td>1391</td>\n",
       "      <td>2</td>\n",
       "      <td>436</td>\n",
       "      <td>2.580</td>\n",
       "      <td>0.223</td>\n",
       "      <td>0.573</td>\n",
       "      <td>0.321</td>\n",
       "      <td>0.423</td>\n",
       "      <td>0.678</td>\n",
       "      <td>2.480</td>\n",
       "      <td>0.570</td>\n",
       "    </tr>\n",
       "    <tr>\n",
       "      <th>Ego Facebook</th>\n",
       "      <td>0.814</td>\n",
       "      <td>0.077</td>\n",
       "      <td>74</td>\n",
       "      <td>2</td>\n",
       "      <td>471</td>\n",
       "      <td>14.690</td>\n",
       "      <td>0.538</td>\n",
       "      <td>0.457</td>\n",
       "      <td>0.244</td>\n",
       "      <td>0.176</td>\n",
       "      <td>0.755</td>\n",
       "      <td>1.530</td>\n",
       "      <td>0.872</td>\n",
       "    </tr>\n",
       "    <tr>\n",
       "      <th>Caltech</th>\n",
       "      <td>0.389</td>\n",
       "      <td>0.410</td>\n",
       "      <td>12</td>\n",
       "      <td>2</td>\n",
       "      <td>188</td>\n",
       "      <td>13.350</td>\n",
       "      <td>0.427</td>\n",
       "      <td>0.657</td>\n",
       "      <td>0.425</td>\n",
       "      <td>0.488</td>\n",
       "      <td>0.574</td>\n",
       "      <td>1.780</td>\n",
       "      <td>0.731</td>\n",
       "    </tr>\n",
       "    <tr>\n",
       "      <th>Facebook Pol. Pages</th>\n",
       "      <td>0.836</td>\n",
       "      <td>0.111</td>\n",
       "      <td>178</td>\n",
       "      <td>2</td>\n",
       "      <td>421</td>\n",
       "      <td>5.330</td>\n",
       "      <td>0.402</td>\n",
       "      <td>0.466</td>\n",
       "      <td>0.180</td>\n",
       "      <td>0.199</td>\n",
       "      <td>0.819</td>\n",
       "      <td>1.840</td>\n",
       "      <td>0.756</td>\n",
       "    </tr>\n",
       "    <tr>\n",
       "      <th>Hamsterster</th>\n",
       "      <td>0.391</td>\n",
       "      <td>0.298</td>\n",
       "      <td>67</td>\n",
       "      <td>2</td>\n",
       "      <td>679</td>\n",
       "      <td>3.510</td>\n",
       "      <td>0.369</td>\n",
       "      <td>0.623</td>\n",
       "      <td>0.317</td>\n",
       "      <td>0.417</td>\n",
       "      <td>0.682</td>\n",
       "      <td>1.860</td>\n",
       "      <td>0.746</td>\n",
       "    </tr>\n",
       "    <tr>\n",
       "      <th>PGP</th>\n",
       "      <td>0.813</td>\n",
       "      <td>0.172</td>\n",
       "      <td>891</td>\n",
       "      <td>2</td>\n",
       "      <td>162</td>\n",
       "      <td>2.400</td>\n",
       "      <td>0.388</td>\n",
       "      <td>0.381</td>\n",
       "      <td>0.097</td>\n",
       "      <td>0.102</td>\n",
       "      <td>0.902</td>\n",
       "      <td>1.960</td>\n",
       "      <td>0.727</td>\n",
       "    </tr>\n",
       "    <tr>\n",
       "      <th>Princeton</th>\n",
       "      <td>0.417</td>\n",
       "      <td>0.365</td>\n",
       "      <td>32</td>\n",
       "      <td>2</td>\n",
       "      <td>2154</td>\n",
       "      <td>15.730</td>\n",
       "      <td>0.480</td>\n",
       "      <td>0.708</td>\n",
       "      <td>0.459</td>\n",
       "      <td>0.584</td>\n",
       "      <td>0.540</td>\n",
       "      <td>1.760</td>\n",
       "      <td>0.725</td>\n",
       "    </tr>\n",
       "    <tr>\n",
       "      <th>Retweets</th>\n",
       "      <td>0.695</td>\n",
       "      <td>0.287</td>\n",
       "      <td>93</td>\n",
       "      <td>3</td>\n",
       "      <td>32</td>\n",
       "      <td>1.790</td>\n",
       "      <td>0.338</td>\n",
       "      <td>0.433</td>\n",
       "      <td>0.129</td>\n",
       "      <td>0.160</td>\n",
       "      <td>0.870</td>\n",
       "      <td>1.920</td>\n",
       "      <td>0.778</td>\n",
       "    </tr>\n",
       "    <tr>\n",
       "      <th>BlumenauDrug</th>\n",
       "      <td>0.441</td>\n",
       "      <td>0.337</td>\n",
       "      <td>7</td>\n",
       "      <td>3</td>\n",
       "      <td>19</td>\n",
       "      <td>2.584</td>\n",
       "      <td>0.326</td>\n",
       "      <td>0.571</td>\n",
       "      <td>0.246</td>\n",
       "      <td>0.279</td>\n",
       "      <td>0.754</td>\n",
       "      <td>1.849</td>\n",
       "      <td>0.705</td>\n",
       "    </tr>\n",
       "    <tr>\n",
       "      <th>BudapestConnectome</th>\n",
       "      <td>0.525</td>\n",
       "      <td>0.088</td>\n",
       "      <td>4</td>\n",
       "      <td>1</td>\n",
       "      <td>508</td>\n",
       "      <td>90.752</td>\n",
       "      <td>0.295</td>\n",
       "      <td>0.412</td>\n",
       "      <td>0.070</td>\n",
       "      <td>0.009</td>\n",
       "      <td>0.680</td>\n",
       "      <td>1.220</td>\n",
       "      <td>0.921</td>\n",
       "    </tr>\n",
       "    <tr>\n",
       "      <th>YeastCollins</th>\n",
       "      <td>0.747</td>\n",
       "      <td>0.122</td>\n",
       "      <td>62</td>\n",
       "      <td>2</td>\n",
       "      <td>120</td>\n",
       "      <td>6.986</td>\n",
       "      <td>0.618</td>\n",
       "      <td>0.431</td>\n",
       "      <td>0.136</td>\n",
       "      <td>0.129</td>\n",
       "      <td>0.864</td>\n",
       "      <td>1.519</td>\n",
       "      <td>0.868</td>\n",
       "    </tr>\n",
       "    <tr>\n",
       "      <th>InteractomeVidal</th>\n",
       "      <td>0.576</td>\n",
       "      <td>0.405</td>\n",
       "      <td>215</td>\n",
       "      <td>2</td>\n",
       "      <td>118</td>\n",
       "      <td>2.078</td>\n",
       "      <td>0.297</td>\n",
       "      <td>0.559</td>\n",
       "      <td>0.252</td>\n",
       "      <td>0.344</td>\n",
       "      <td>0.748</td>\n",
       "      <td>2.196</td>\n",
       "      <td>0.648</td>\n",
       "    </tr>\n",
       "    <tr>\n",
       "      <th>MalariaGenes</th>\n",
       "      <td>0.625</td>\n",
       "      <td>0.128</td>\n",
       "      <td>11</td>\n",
       "      <td>2</td>\n",
       "      <td>86</td>\n",
       "      <td>10.423</td>\n",
       "      <td>0.601</td>\n",
       "      <td>0.538</td>\n",
       "      <td>0.188</td>\n",
       "      <td>0.146</td>\n",
       "      <td>0.812</td>\n",
       "      <td>1.475</td>\n",
       "      <td>0.825</td>\n",
       "    </tr>\n",
       "    <tr>\n",
       "      <th>KeggMetabolic</th>\n",
       "      <td>0.437</td>\n",
       "      <td>0.466</td>\n",
       "      <td>177</td>\n",
       "      <td>2</td>\n",
       "      <td>242</td>\n",
       "      <td>1.766</td>\n",
       "      <td>0.529</td>\n",
       "      <td>0.592</td>\n",
       "      <td>0.427</td>\n",
       "      <td>0.697</td>\n",
       "      <td>0.573</td>\n",
       "      <td>1.789</td>\n",
       "      <td>0.736</td>\n",
       "    </tr>\n",
       "    <tr>\n",
       "      <th>NewZealand</th>\n",
       "      <td>0.401</td>\n",
       "      <td>0.564</td>\n",
       "      <td>71</td>\n",
       "      <td>2</td>\n",
       "      <td>154</td>\n",
       "      <td>2.275</td>\n",
       "      <td>0.386</td>\n",
       "      <td>0.645</td>\n",
       "      <td>0.384</td>\n",
       "      <td>0.552</td>\n",
       "      <td>0.616</td>\n",
       "      <td>1.725</td>\n",
       "      <td>0.891</td>\n",
       "    </tr>\n",
       "    <tr>\n",
       "      <th>EUAirlines</th>\n",
       "      <td>0.109</td>\n",
       "      <td>0.073</td>\n",
       "      <td>10</td>\n",
       "      <td>2</td>\n",
       "      <td>332</td>\n",
       "      <td>3.972</td>\n",
       "      <td>0.596</td>\n",
       "      <td>0.559</td>\n",
       "      <td>0.266</td>\n",
       "      <td>0.388</td>\n",
       "      <td>0.734</td>\n",
       "      <td>1.495</td>\n",
       "      <td>0.874</td>\n",
       "    </tr>\n",
       "    <tr>\n",
       "      <th>InternetTopCogentco</th>\n",
       "      <td>0.751</td>\n",
       "      <td>0.206</td>\n",
       "      <td>27</td>\n",
       "      <td>4</td>\n",
       "      <td>16</td>\n",
       "      <td>1.906</td>\n",
       "      <td>0.326</td>\n",
       "      <td>0.487</td>\n",
       "      <td>0.179</td>\n",
       "      <td>0.199</td>\n",
       "      <td>0.821</td>\n",
       "      <td>2.231</td>\n",
       "      <td>0.473</td>\n",
       "    </tr>\n",
       "    <tr>\n",
       "      <th>LondonTransport</th>\n",
       "      <td>0.779</td>\n",
       "      <td>0.198</td>\n",
       "      <td>50</td>\n",
       "      <td>4</td>\n",
       "      <td>15</td>\n",
       "      <td>1.831</td>\n",
       "      <td>0.313</td>\n",
       "      <td>0.497</td>\n",
       "      <td>0.170</td>\n",
       "      <td>0.273</td>\n",
       "      <td>0.830</td>\n",
       "      <td>2.494</td>\n",
       "      <td>0.452</td>\n",
       "    </tr>\n",
       "    <tr>\n",
       "      <th>911AllWords</th>\n",
       "      <td>0.052</td>\n",
       "      <td>0.153</td>\n",
       "      <td>856</td>\n",
       "      <td>2</td>\n",
       "      <td>7779</td>\n",
       "      <td>1.715</td>\n",
       "      <td>0.603</td>\n",
       "      <td>0.699</td>\n",
       "      <td>0.548</td>\n",
       "      <td>0.834</td>\n",
       "      <td>0.452</td>\n",
       "      <td>1.631</td>\n",
       "      <td>0.820</td>\n",
       "    </tr>\n",
       "    <tr>\n",
       "      <th>MovieGalaxies</th>\n",
       "      <td>0.401</td>\n",
       "      <td>0.429</td>\n",
       "      <td>12</td>\n",
       "      <td>3</td>\n",
       "      <td>24</td>\n",
       "      <td>2.886</td>\n",
       "      <td>0.498</td>\n",
       "      <td>0.547</td>\n",
       "      <td>0.379</td>\n",
       "      <td>0.382</td>\n",
       "      <td>0.621</td>\n",
       "      <td>1.571</td>\n",
       "      <td>0.919</td>\n",
       "    </tr>\n",
       "    <tr>\n",
       "      <th>BibleNouns</th>\n",
       "      <td>0.460</td>\n",
       "      <td>0.496</td>\n",
       "      <td>91</td>\n",
       "      <td>3</td>\n",
       "      <td>131</td>\n",
       "      <td>4.001</td>\n",
       "      <td>0.358</td>\n",
       "      <td>0.663</td>\n",
       "      <td>0.343</td>\n",
       "      <td>0.416</td>\n",
       "      <td>0.657</td>\n",
       "      <td>1.884</td>\n",
       "      <td>0.757</td>\n",
       "    </tr>\n",
       "    <tr>\n",
       "      <th>BoardDirectors</th>\n",
       "      <td>0.817</td>\n",
       "      <td>0.167</td>\n",
       "      <td>79</td>\n",
       "      <td>5</td>\n",
       "      <td>24</td>\n",
       "      <td>5.159</td>\n",
       "      <td>0.578</td>\n",
       "      <td>0.459</td>\n",
       "      <td>0.141</td>\n",
       "      <td>0.118</td>\n",
       "      <td>0.859</td>\n",
       "      <td>1.493</td>\n",
       "      <td>0.904</td>\n",
       "    </tr>\n",
       "    <tr>\n",
       "      <th>DNCEmails</th>\n",
       "      <td>0.416</td>\n",
       "      <td>0.211</td>\n",
       "      <td>37</td>\n",
       "      <td>2</td>\n",
       "      <td>243</td>\n",
       "      <td>5.701</td>\n",
       "      <td>0.663</td>\n",
       "      <td>0.561</td>\n",
       "      <td>0.323</td>\n",
       "      <td>0.466</td>\n",
       "      <td>0.677</td>\n",
       "      <td>1.407</td>\n",
       "      <td>0.925</td>\n",
       "    </tr>\n",
       "    <tr>\n",
       "      <th>GoT</th>\n",
       "      <td>0.482</td>\n",
       "      <td>0.267</td>\n",
       "      <td>8</td>\n",
       "      <td>4</td>\n",
       "      <td>35</td>\n",
       "      <td>3.801</td>\n",
       "      <td>0.421</td>\n",
       "      <td>0.503</td>\n",
       "      <td>0.214</td>\n",
       "      <td>0.207</td>\n",
       "      <td>0.786</td>\n",
       "      <td>1.633</td>\n",
       "      <td>0.937</td>\n",
       "    </tr>\n",
       "    <tr>\n",
       "      <th>MarvelPartnerships</th>\n",
       "      <td>0.808</td>\n",
       "      <td>0.147</td>\n",
       "      <td>27</td>\n",
       "      <td>2</td>\n",
       "      <td>11</td>\n",
       "      <td>2.009</td>\n",
       "      <td>0.408</td>\n",
       "      <td>0.423</td>\n",
       "      <td>0.121</td>\n",
       "      <td>0.141</td>\n",
       "      <td>0.879</td>\n",
       "      <td>1.866</td>\n",
       "      <td>0.755</td>\n",
       "    </tr>\n",
       "    <tr>\n",
       "      <th>FacebookFriends</th>\n",
       "      <td>0.688</td>\n",
       "      <td>0.112</td>\n",
       "      <td>21</td>\n",
       "      <td>2</td>\n",
       "      <td>72</td>\n",
       "      <td>5.179</td>\n",
       "      <td>0.554</td>\n",
       "      <td>0.486</td>\n",
       "      <td>0.231</td>\n",
       "      <td>0.286</td>\n",
       "      <td>0.769</td>\n",
       "      <td>1.546</td>\n",
       "      <td>0.838</td>\n",
       "    </tr>\n",
       "    <tr>\n",
       "      <th>FacebookOrganizations</th>\n",
       "      <td>0.585</td>\n",
       "      <td>0.366</td>\n",
       "      <td>55</td>\n",
       "      <td>8</td>\n",
       "      <td>724</td>\n",
       "      <td>15.086</td>\n",
       "      <td>0.267</td>\n",
       "      <td>0.716</td>\n",
       "      <td>0.461</td>\n",
       "      <td>0.517</td>\n",
       "      <td>0.539</td>\n",
       "      <td>1.951</td>\n",
       "      <td>0.633</td>\n",
       "    </tr>\n",
       "    <tr>\n",
       "      <th>DBLPCite</th>\n",
       "      <td>0.546</td>\n",
       "      <td>0.433</td>\n",
       "      <td>382</td>\n",
       "      <td>2</td>\n",
       "      <td>513</td>\n",
       "      <td>2.539</td>\n",
       "      <td>0.195</td>\n",
       "      <td>0.583</td>\n",
       "      <td>0.257</td>\n",
       "      <td>0.358</td>\n",
       "      <td>0.743</td>\n",
       "      <td>2.257</td>\n",
       "      <td>0.696</td>\n",
       "    </tr>\n",
       "  </tbody>\n",
       "</table>\n",
       "</div>"
      ],
      "text/plain": [
       "                       Modularity  Mixing parameter  Number of communities  \\\n",
       "Dolphins                    0.525             0.213                      5   \n",
       "Reptiles                    0.811             0.145                     54   \n",
       "E. coli Trans               0.687             0.250                     38   \n",
       "Human Protein               0.466             0.360                     95   \n",
       "Mouse Visual Cortex         0.740             0.154                     11   \n",
       "Yeast Protein               0.749             0.240                     38   \n",
       "AstroPh                     0.563             0.420                    674   \n",
       "CS PhD                      0.859             0.128                    121   \n",
       "GrQc                        0.779             0.200                    327   \n",
       "NetSci                      0.810             0.147                     39   \n",
       "Adolescent Health           0.566             0.431                    136   \n",
       "Jazz                        0.443             0.267                      5   \n",
       "Zachary Karate Club         0.402             0.179                      3   \n",
       "Madrid Train Bombings       0.309             0.115                      5   \n",
       "EuroRoads                   0.786             0.202                    109   \n",
       "US Airports                 0.161             0.084                     40   \n",
       "US Power Grids              0.830             0.166                    424   \n",
       "US States                   0.596             0.224                      6   \n",
       "Football                    0.604             0.293                     10   \n",
       "Internet AS.                0.547             0.428                    358   \n",
       "Les Misérables              0.551             0.267                      8   \n",
       "Pol. Books                  0.522             0.145                      6   \n",
       "Deezer EU                   0.565             0.429                   1391   \n",
       "Ego Facebook                0.814             0.077                     74   \n",
       "Caltech                     0.389             0.410                     12   \n",
       "Facebook Pol. Pages         0.836             0.111                    178   \n",
       "Hamsterster                 0.391             0.298                     67   \n",
       "PGP                         0.813             0.172                    891   \n",
       "Princeton                   0.417             0.365                     32   \n",
       "Retweets                    0.695             0.287                     93   \n",
       "BlumenauDrug                0.441             0.337                      7   \n",
       "BudapestConnectome          0.525             0.088                      4   \n",
       "YeastCollins                0.747             0.122                     62   \n",
       "InteractomeVidal            0.576             0.405                    215   \n",
       "MalariaGenes                0.625             0.128                     11   \n",
       "KeggMetabolic               0.437             0.466                    177   \n",
       "NewZealand                  0.401             0.564                     71   \n",
       "EUAirlines                  0.109             0.073                     10   \n",
       "InternetTopCogentco         0.751             0.206                     27   \n",
       "LondonTransport             0.779             0.198                     50   \n",
       "911AllWords                 0.052             0.153                    856   \n",
       "MovieGalaxies               0.401             0.429                     12   \n",
       "BibleNouns                  0.460             0.496                     91   \n",
       "BoardDirectors              0.817             0.167                     79   \n",
       "DNCEmails                   0.416             0.211                     37   \n",
       "GoT                         0.482             0.267                      8   \n",
       "MarvelPartnerships          0.808             0.147                     27   \n",
       "FacebookFriends             0.688             0.112                     21   \n",
       "FacebookOrganizations       0.585             0.366                     55   \n",
       "DBLPCite                    0.546             0.433                    382   \n",
       "\n",
       "                       Min community size  Max community size  \\\n",
       "Dolphins                                2                  20   \n",
       "Reptiles                                2                  42   \n",
       "E. coli Trans                           2                  33   \n",
       "Human Protein                           2                 614   \n",
       "Mouse Visual Cortex                     4                  25   \n",
       "Yeast Protein                           2                  33   \n",
       "AstroPh                                 2                 548   \n",
       "CS PhD                                  3                  44   \n",
       "GrQc                                    3                  87   \n",
       "NetSci                                  3                  27   \n",
       "Adolescent Health                       4                 267   \n",
       "Jazz                                    3                  64   \n",
       "Zachary Karate Club                     5                  17   \n",
       "Madrid Train Bombings                   3                  38   \n",
       "EuroRoads                               4                  21   \n",
       "US Airports                             2                 302   \n",
       "US Power Grids                          3                  51   \n",
       "US States                               7                  11   \n",
       "Football                                9                  15   \n",
       "Internet AS.                            2                 546   \n",
       "Les Misérables                          2                  15   \n",
       "Pol. Books                              5                  45   \n",
       "Deezer EU                               2                 436   \n",
       "Ego Facebook                            2                 471   \n",
       "Caltech                                 2                 188   \n",
       "Facebook Pol. Pages                     2                 421   \n",
       "Hamsterster                             2                 679   \n",
       "PGP                                     2                 162   \n",
       "Princeton                               2                2154   \n",
       "Retweets                                3                  32   \n",
       "BlumenauDrug                            3                  19   \n",
       "BudapestConnectome                      1                 508   \n",
       "YeastCollins                            2                 120   \n",
       "InteractomeVidal                        2                 118   \n",
       "MalariaGenes                            2                  86   \n",
       "KeggMetabolic                           2                 242   \n",
       "NewZealand                              2                 154   \n",
       "EUAirlines                              2                 332   \n",
       "InternetTopCogentco                     4                  16   \n",
       "LondonTransport                         4                  15   \n",
       "911AllWords                             2                7779   \n",
       "MovieGalaxies                           3                  24   \n",
       "BibleNouns                              3                 131   \n",
       "BoardDirectors                          5                  24   \n",
       "DNCEmails                               2                 243   \n",
       "GoT                                     4                  35   \n",
       "MarvelPartnerships                      2                  11   \n",
       "FacebookFriends                         2                  72   \n",
       "FacebookOrganizations                   8                 724   \n",
       "DBLPCite                                2                 513   \n",
       "\n",
       "                       Internal degree  Internal density  Max-ODF  \\\n",
       "Dolphins                         3.410             0.467    0.532   \n",
       "Reptiles                         2.770             0.443    0.400   \n",
       "E. coli Trans                    1.690             0.466    0.464   \n",
       "Human Protein                    2.030             0.253    0.595   \n",
       "Mouse Visual Cortex              1.830             0.161    0.345   \n",
       "Yeast Protein                    1.690             0.466    0.464   \n",
       "AstroPh                          6.610             0.410    0.627   \n",
       "CS PhD                           1.690             0.306    0.307   \n",
       "GrQc                             3.730             0.394    0.461   \n",
       "NetSci                           3.690             0.537    0.320   \n",
       "Adolescent Health                3.460             0.284    0.704   \n",
       "Jazz                            15.500             0.540    0.612   \n",
       "Zachary Karate Club              3.460             0.404    0.294   \n",
       "Madrid Train Bombings            4.250             0.526    0.440   \n",
       "EuroRoads                        1.930             0.254    0.463   \n",
       "US Airports                      2.290             0.701    0.508   \n",
       "US Power Grids                   2.070             0.242    0.435   \n",
       "US States                        3.350             0.479    0.475   \n",
       "Football                         7.570             0.751    0.435   \n",
       "Internet AS.                     1.780             0.350    0.508   \n",
       "Les Misérables                   4.290             0.584    0.441   \n",
       "Pol. Books                       5.390             0.511    0.516   \n",
       "Deezer EU                        2.580             0.223    0.573   \n",
       "Ego Facebook                    14.690             0.538    0.457   \n",
       "Caltech                         13.350             0.427    0.657   \n",
       "Facebook Pol. Pages              5.330             0.402    0.466   \n",
       "Hamsterster                      3.510             0.369    0.623   \n",
       "PGP                              2.400             0.388    0.381   \n",
       "Princeton                       15.730             0.480    0.708   \n",
       "Retweets                         1.790             0.338    0.433   \n",
       "BlumenauDrug                     2.584             0.326    0.571   \n",
       "BudapestConnectome              90.752             0.295    0.412   \n",
       "YeastCollins                     6.986             0.618    0.431   \n",
       "InteractomeVidal                 2.078             0.297    0.559   \n",
       "MalariaGenes                    10.423             0.601    0.538   \n",
       "KeggMetabolic                    1.766             0.529    0.592   \n",
       "NewZealand                       2.275             0.386    0.645   \n",
       "EUAirlines                       3.972             0.596    0.559   \n",
       "InternetTopCogentco              1.906             0.326    0.487   \n",
       "LondonTransport                  1.831             0.313    0.497   \n",
       "911AllWords                      1.715             0.603    0.699   \n",
       "MovieGalaxies                    2.886             0.498    0.547   \n",
       "BibleNouns                       4.001             0.358    0.663   \n",
       "BoardDirectors                   5.159             0.578    0.459   \n",
       "DNCEmails                        5.701             0.663    0.561   \n",
       "GoT                              3.801             0.421    0.503   \n",
       "MarvelPartnerships               2.009             0.408    0.423   \n",
       "FacebookFriends                  5.179             0.554    0.486   \n",
       "FacebookOrganizations           15.086             0.267    0.716   \n",
       "DBLPCite                         2.539             0.195    0.583   \n",
       "\n",
       "                       Average-ODF  Flake-out ODF  Embeddedness  \\\n",
       "Dolphins                     0.292          0.321         0.707   \n",
       "Reptiles                     0.133          0.127         0.866   \n",
       "E. coli Trans                0.208          0.315         0.791   \n",
       "Human Protein                0.281          0.399         0.718   \n",
       "Mouse Visual Cortex          0.090          0.144         0.909   \n",
       "Yeast Protein                0.208          0.315         0.791   \n",
       "AstroPh                      0.302          0.324         0.697   \n",
       "CS PhD                       0.068          0.068         0.931   \n",
       "GrQc                         0.155          0.151         0.844   \n",
       "NetSci                       0.114          0.083         0.885   \n",
       "Adolescent Health            0.473          0.582         0.526   \n",
       "Jazz                         0.280          0.268         0.719   \n",
       "Zachary Karate Club          0.163          0.027         0.836   \n",
       "Madrid Train Bombings        0.280          0.328         0.719   \n",
       "EuroRoads                    0.161          0.205         0.838   \n",
       "US Airports                  0.347          0.530         0.652   \n",
       "US Power Grids               0.130          0.140         0.869   \n",
       "US States                    0.180          0.144         0.819   \n",
       "Football                     0.293          0.056         0.706   \n",
       "Internet AS.                 0.312          0.480         0.697   \n",
       "Les Misérables               0.178          0.141         0.821   \n",
       "Pol. Books                   0.245          0.177         0.754   \n",
       "Deezer EU                    0.321          0.423         0.678   \n",
       "Ego Facebook                 0.244          0.176         0.755   \n",
       "Caltech                      0.425          0.488         0.574   \n",
       "Facebook Pol. Pages          0.180          0.199         0.819   \n",
       "Hamsterster                  0.317          0.417         0.682   \n",
       "PGP                          0.097          0.102         0.902   \n",
       "Princeton                    0.459          0.584         0.540   \n",
       "Retweets                     0.129          0.160         0.870   \n",
       "BlumenauDrug                 0.246          0.279         0.754   \n",
       "BudapestConnectome           0.070          0.009         0.680   \n",
       "YeastCollins                 0.136          0.129         0.864   \n",
       "InteractomeVidal             0.252          0.344         0.748   \n",
       "MalariaGenes                 0.188          0.146         0.812   \n",
       "KeggMetabolic                0.427          0.697         0.573   \n",
       "NewZealand                   0.384          0.552         0.616   \n",
       "EUAirlines                   0.266          0.388         0.734   \n",
       "InternetTopCogentco          0.179          0.199         0.821   \n",
       "LondonTransport              0.170          0.273         0.830   \n",
       "911AllWords                  0.548          0.834         0.452   \n",
       "MovieGalaxies                0.379          0.382         0.621   \n",
       "BibleNouns                   0.343          0.416         0.657   \n",
       "BoardDirectors               0.141          0.118         0.859   \n",
       "DNCEmails                    0.323          0.466         0.677   \n",
       "GoT                          0.214          0.207         0.786   \n",
       "MarvelPartnerships           0.121          0.141         0.879   \n",
       "FacebookFriends              0.231          0.286         0.769   \n",
       "FacebookOrganizations        0.461          0.517         0.539   \n",
       "DBLPCite                     0.257          0.358         0.743   \n",
       "\n",
       "                       Internal distance  Hub Dominance  \n",
       "Dolphins                           1.740          0.695  \n",
       "Reptiles                           1.840          0.722  \n",
       "E. coli Trans                      1.660          0.883  \n",
       "Human Protein                      2.050          0.786  \n",
       "Mouse Visual Cortex                1.830          1.000  \n",
       "Yeast Protein                      1.660          0.833  \n",
       "AstroPh                            1.890          0.740  \n",
       "CS PhD                             1.960          0.793  \n",
       "GrQc                               1.860          0.765  \n",
       "NetSci                             1.530          0.914  \n",
       "Adolescent Health                  2.290          0.511  \n",
       "Jazz                               1.500          0.835  \n",
       "Zachary Karate Club                1.660          0.844  \n",
       "Madrid Train Bombings              1.590          0.865  \n",
       "EuroRoads                          2.690          0.398  \n",
       "US Airports                        1.360          0.918  \n",
       "US Power Grids                     2.550          0.475  \n",
       "US States                          1.640          0.767  \n",
       "Football                           1.260          0.821  \n",
       "Internet AS.                       1.930          0.810  \n",
       "Les Misérables                     1.450          0.938  \n",
       "Pol. Books                         1.560          0.769  \n",
       "Deezer EU                          2.480          0.570  \n",
       "Ego Facebook                       1.530          0.872  \n",
       "Caltech                            1.780          0.731  \n",
       "Facebook Pol. Pages                1.840          0.756  \n",
       "Hamsterster                        1.860          0.746  \n",
       "PGP                                1.960          0.727  \n",
       "Princeton                          1.760          0.725  \n",
       "Retweets                           1.920          0.778  \n",
       "BlumenauDrug                       1.849          0.705  \n",
       "BudapestConnectome                 1.220          0.921  \n",
       "YeastCollins                       1.519          0.868  \n",
       "InteractomeVidal                   2.196          0.648  \n",
       "MalariaGenes                       1.475          0.825  \n",
       "KeggMetabolic                      1.789          0.736  \n",
       "NewZealand                         1.725          0.891  \n",
       "EUAirlines                         1.495          0.874  \n",
       "InternetTopCogentco                2.231          0.473  \n",
       "LondonTransport                    2.494          0.452  \n",
       "911AllWords                        1.631          0.820  \n",
       "MovieGalaxies                      1.571          0.919  \n",
       "BibleNouns                         1.884          0.757  \n",
       "BoardDirectors                     1.493          0.904  \n",
       "DNCEmails                          1.407          0.925  \n",
       "GoT                                1.633          0.937  \n",
       "MarvelPartnerships                 1.866          0.755  \n",
       "FacebookFriends                    1.546          0.838  \n",
       "FacebookOrganizations              1.951          0.633  \n",
       "DBLPCite                           2.257          0.696  "
      ]
     },
     "execution_count": 132,
     "metadata": {},
     "output_type": "execute_result"
    }
   ],
   "source": [
    "# Animals - Dolphins\n",
    "dolphins_feature_vector = [0.525,\n",
    "                           0.213,\n",
    "                           5,\n",
    "                           2,\n",
    "                           20,\n",
    "                           3.41,\n",
    "                           0.467,\n",
    "                           0.532,\n",
    "                           0.292,\n",
    "                           0.321,\n",
    "                           0.707,\n",
    "                           1.74,\n",
    "                           0.695,\n",
    "                          ]\n",
    "                           \n",
    "\n",
    "# Animals - Reptiles\n",
    "reptiles_feature_vector = [0.811,\n",
    "                          0.145,\n",
    "                          54,\n",
    "                          2,\n",
    "                          42,\n",
    "                          2.77,\n",
    "                          0.443,\n",
    "                          0.400,\n",
    "                          0.133,\n",
    "                           0.127,\n",
    "                          0.866,\n",
    "                          1.84,\n",
    "                          0.722]\n",
    "\n",
    "# Bio - Ecoli\n",
    "ecoli_feature_vector = [0.687,\n",
    "                       0.25,\n",
    "                       38,\n",
    "                       2,\n",
    "                       33,\n",
    "                       1.69,\n",
    "                       0.466,\n",
    "                       0.464,\n",
    "                       0.208,\n",
    "                       0.315,\n",
    "                       0.791,\n",
    "                       1.66,\n",
    "                       0.883]\n",
    "\n",
    "# Bio - Human Protein\n",
    "humanprotein_feature_vector = [0.466,\n",
    "                              0.360,\n",
    "                              95,\n",
    "                               2,\n",
    "                              614,\n",
    "                              2.03,\n",
    "                              0.253,\n",
    "                              0.595,\n",
    "                              0.281,\n",
    "                              0.399,\n",
    "                              0.718,\n",
    "                              2.05,\n",
    "                              0.786]\n",
    "\n",
    "# Bio - Mouse Visual Cortex\n",
    "mousevisualcortex_feature_vector = [0.740,\n",
    "                                   0.154,\n",
    "                                   11,\n",
    "                                   4,\n",
    "                                   25,\n",
    "                                   1.83,\n",
    "                                   0.161,\n",
    "                                   0.345,\n",
    "                                   0.090,\n",
    "                                   0.144,\n",
    "                                   0.909,\n",
    "                                   1.83,\n",
    "                                   1]\n",
    "\n",
    "##### Bio - Yeast Protein\n",
    "yeastprotein_feature_vector = [0.749,\n",
    "                              0.240,\n",
    "                              38,\n",
    "                              2,\n",
    "                              33,\n",
    "                              1.69,\n",
    "                              0.466,\n",
    "                              0.464,\n",
    "                              0.208,\n",
    "                              0.315,\n",
    "                              0.791,\n",
    "                              1.66,\n",
    "                              0.833]\n",
    "\n",
    "# Collab - AstroPh\n",
    "astroph_feature_vector = [0.563,\n",
    "                         0.420,\n",
    "                         674,\n",
    "                         2,\n",
    "                         548,\n",
    "                         6.61,\n",
    "                         0.410,\n",
    "                         0.627,\n",
    "                         0.302,\n",
    "                         0.324,\n",
    "                         0.697,\n",
    "                         1.89,\n",
    "                         0.740]\n",
    "\n",
    "# Collab - CS PhD\n",
    "csphd_feature_vector = [0.859,\n",
    "                       0.128,\n",
    "                       121,\n",
    "                       3,\n",
    "                       44,\n",
    "                       1.69,\n",
    "                       0.306,\n",
    "                       0.307,\n",
    "                       0.068,\n",
    "                       0.068,\n",
    "                       0.931,\n",
    "                       1.96,\n",
    "                       0.793\n",
    "                       ]                     \n",
    "\n",
    "# Collab - GrQc\n",
    "grqc_feature_vector = [0.779,\n",
    "                      0.200,\n",
    "                      327,\n",
    "                      3,\n",
    "                      87,\n",
    "                      3.73,\n",
    "                      0.394,\n",
    "                      0.461,\n",
    "                      0.155,\n",
    "                    0.151,\n",
    "                      0.844,\n",
    "                      1.86,\n",
    "                      0.765,\n",
    "                      ]\n",
    "\n",
    "# Collab - NetSci\n",
    "netsci_feature_vector = [0.810,\n",
    "                        0.147,\n",
    "                        39,\n",
    "                        3,\n",
    "                        27,\n",
    "                        3.69,\n",
    "                        0.537,\n",
    "                        0.320,\n",
    "                         0.114,\n",
    "                         0.083,\n",
    "                        0.885,\n",
    "                        1.53,\n",
    "                        0.914]\n",
    "\n",
    "# Human Social - Adolescent Health\n",
    "adolescenthealth_feature_vector = [0.566,\n",
    "                                  0.431,\n",
    "                                  136,\n",
    "                                  4,\n",
    "                                  267,\n",
    "                                  3.46,\n",
    "                                  0.284,\n",
    "                                  0.704,\n",
    "                                  0.473,\n",
    "                                  0.582,\n",
    "                                  0.526,\n",
    "                                  2.29,\n",
    "                                  0.511\n",
    "                                  ]\n",
    "\n",
    "# Human Social - Jazz\n",
    "jazz_feature_vector = [0.443,\n",
    "                      0.267,\n",
    "                      5,\n",
    "                      3,\n",
    "                      64,\n",
    "                      15.5,\n",
    "                      0.540,\n",
    "                      0.612,\n",
    "                      0.280,\n",
    "                      0.268,\n",
    "                      0.719,\n",
    "                      1.5,\n",
    "                      0.835]\n",
    "\n",
    "# Human Social - Karate\n",
    "karate_feature_vector = [0.402,\n",
    "                        0.179,\n",
    "                        3,\n",
    "                        5,\n",
    "                        17,\n",
    "                        3.46,\n",
    "                        0.404,\n",
    "                        0.294,\n",
    "                        0.163,\n",
    "                        0.027,\n",
    "                        0.836,\n",
    "                        1.66,\n",
    "                        0.844]\n",
    "\n",
    "# Human Social - Madrid Train Bombings\n",
    "madridtrainbombings_feature_vector = [0.309,\n",
    "                                     0.115,\n",
    "                                     5,\n",
    "                                     3,\n",
    "                                     38,\n",
    "                                     4.25,\n",
    "                                     0.526,\n",
    "                                     0.440,\n",
    "                                     0.280,\n",
    "                                     0.328,\n",
    "                                     0.719,\n",
    "                                     1.59,\n",
    "                                     0.865]\n",
    "\n",
    "# Infra - EuroRoad\n",
    "euroroad_feature_vector = [0.786,\n",
    "                          0.202,\n",
    "                          109,\n",
    "                          4,\n",
    "                          21,\n",
    "                          1.93,\n",
    "                          0.254,\n",
    "                          0.463,\n",
    "                          0.161,\n",
    "                          0.205,\n",
    "                          0.838,\n",
    "                          2.69,\n",
    "                          0.398]\n",
    "\n",
    "# Infra - US Airports\n",
    "usairports_feature_vector = [0.161,\n",
    "                            0.084,\n",
    "                            40,\n",
    "                            2,\n",
    "                            302,\n",
    "                            2.29,\n",
    "                            0.701,\n",
    "                            0.508,\n",
    "                            0.347,\n",
    "                            0.530,\n",
    "                            0.652,\n",
    "                            1.36,\n",
    "                            0.918]\n",
    "\n",
    "# Infra - US Power Grids\n",
    "uspowergrids_feature_vector = [0.830,\n",
    "                              0.166,\n",
    "                              424,\n",
    "                              3,\n",
    "                              51,\n",
    "                              2.07,\n",
    "                              0.242,\n",
    "                              0.435,\n",
    "                              0.130,\n",
    "                              0.140,\n",
    "                              0.869,\n",
    "                              2.55,\n",
    "                              0.475]\n",
    "\n",
    "# Infra - US States\n",
    "usstates_feature_vector = [0.596,\n",
    "                          0.224,\n",
    "                          6,\n",
    "                          7,\n",
    "                          11,\n",
    "                          3.35,\n",
    "                          0.479,\n",
    "                          0.475,\n",
    "                          0.180,\n",
    "                          0.144,\n",
    "                          0.819,\n",
    "                          1.64,\n",
    "                          0.767]\n",
    "\n",
    "# Misc - Football\n",
    "football_feature_vector = [0.604,\n",
    "                          0.293,\n",
    "                          10,\n",
    "                          9,\n",
    "                          15,\n",
    "                          7.57,\n",
    "                          0.751,\n",
    "                          0.435,\n",
    "                          0.293,\n",
    "                          0.056,\n",
    "                          0.706,\n",
    "                          1.26,\n",
    "                          0.821]\n",
    "\n",
    "# Misc - Internet Autonomous Systems\n",
    "internetas_feature_vector = [0.547,\n",
    "                            0.428,\n",
    "                            358,\n",
    "                            2,\n",
    "                            546,\n",
    "                            1.78,\n",
    "                            0.350,\n",
    "                            0.508,\n",
    "                            0.312,\n",
    "                            0.480,\n",
    "                            0.697,\n",
    "                            1.93,\n",
    "                            0.810]\n",
    "\n",
    "# Misc - Les Mis\n",
    "lesmis_feature_vector = [0.551,\n",
    "                        0.267,\n",
    "                        8,\n",
    "                        2,\n",
    "                        15,\n",
    "                        4.29,\n",
    "                        0.584,\n",
    "                        0.441,\n",
    "                        0.178,\n",
    "                        0.141,\n",
    "                        0.821,\n",
    "                        1.45,\n",
    "                        0.938]\n",
    "\n",
    "# Misc - PolBooks\n",
    "polbooks_feature_vector = [0.522,\n",
    "                          0.145,\n",
    "                          6,\n",
    "                          5,\n",
    "                          45,\n",
    "                          5.39,\n",
    "                          0.511,\n",
    "                          0.516,\n",
    "                          0.245,\n",
    "                          0.177,\n",
    "                          0.754,\n",
    "                          1.56,\n",
    "                          0.769]\n",
    "\n",
    "# OSN - DeezerEU\n",
    "deezereu_feature_vector = [0.565, \n",
    "                           0.429,\n",
    "                          1391,\n",
    "                          2,\n",
    "                          436,\n",
    "                          2.58,\n",
    "                          0.223,\n",
    "                          0.573,\n",
    "                          0.321,\n",
    "                          0.423,\n",
    "                          0.678,\n",
    "                          2.48,\n",
    "                          0.570\n",
    "                          ]\n",
    "\n",
    "# OSN - Ego Facebook\n",
    "egofacebook_feature_vector = [0.814,\n",
    "                             0.077,\n",
    "                             74,\n",
    "                             2,\n",
    "                             471,\n",
    "                             14.69,\n",
    "                             0.538,\n",
    "                             0.457,\n",
    "                             0.244,\n",
    "                             0.176,\n",
    "                             0.755,\n",
    "                             1.53,\n",
    "                             0.872]\n",
    "\n",
    "# OSN - FB Caltech\n",
    "caltech_feature_vector = [0.389, \n",
    "                          0.410, \n",
    "                          12, \n",
    "                          2, \n",
    "                          188,\n",
    "                         13.35,\n",
    "                         0.427,\n",
    "                         0.657,\n",
    "                         0.425,\n",
    "                         0.488,\n",
    "                         0.574,\n",
    "                         1.78,\n",
    "                         0.731]\n",
    "\n",
    "# OSN - FB Politician Pages\n",
    "fbpoliticianpages_feature_vector = [0.836,\n",
    "                                   0.111,\n",
    "                                   178,\n",
    "                                   2,\n",
    "                                   421,\n",
    "                                   5.33,\n",
    "                                   0.402,\n",
    "                                   0.466,\n",
    "                                   0.180,\n",
    "                                   0.199,\n",
    "                                   0.819,\n",
    "                                   1.84,\n",
    "                                   0.756]\n",
    "\n",
    "# OSN - Hamsterster\n",
    "hamsterster_feature_vector = [0.391,\n",
    "                             0.298,\n",
    "                             67,\n",
    "                             2,\n",
    "                             679,\n",
    "                             3.51,\n",
    "                             0.369,\n",
    "                             0.623,\n",
    "                             0.317,\n",
    "                             0.417,\n",
    "                             0.682,\n",
    "                             1.86,\n",
    "                             0.746]\n",
    "\n",
    "# OSN - PGP\n",
    "pgp_feature_vector = [0.813,\n",
    "                     0.172,\n",
    "                     891,\n",
    "                     2,\n",
    "                     162,\n",
    "                     2.4,\n",
    "                     0.388,\n",
    "                     0.381,\n",
    "                     0.097,\n",
    "                     0.102,\n",
    "                     0.902,\n",
    "                     1.96,\n",
    "                     0.727]\n",
    "\n",
    "# OSN - FB Princeton\n",
    "princeton_feature_vector = [0.417,\n",
    "                           0.365,\n",
    "                           32,\n",
    "                           2,\n",
    "                           2154,\n",
    "                           15.73,\n",
    "                           0.480,\n",
    "                           0.708,\n",
    "                           0.459,\n",
    "                           0.584,\n",
    "                           0.540,\n",
    "                           1.76,\n",
    "                           0.725]\n",
    "\n",
    "# OSN - Twitter\n",
    "twitter_feature_vector = [0.695,\n",
    "                         0.287,\n",
    "                          93,\n",
    "                         3,\n",
    "                         32,\n",
    "                         1.79,\n",
    "                         0.338,\n",
    "                         0.433,\n",
    "                         0.129,\n",
    "                         0.160,\n",
    "                         0.870,\n",
    "                         1.92,\n",
    "                         0.778]\n",
    "\n",
    "# Additions Credibility\n",
    "# Bio - BlumenauDrug\n",
    "blumenaudrug_feature_vector = [0.441,\n",
    "0.337,\n",
    "7,\n",
    "3,\n",
    "19,\n",
    "2.584,\n",
    "0.326,\n",
    "0.571,\n",
    "0.246,\n",
    "0.279,\n",
    "0.754,\n",
    "1.849,\n",
    "0.705]\n",
    "\n",
    "\n",
    "\n",
    "# Bio - BudapestConnectome\n",
    "budapestconnectome_feature_vector = [\n",
    "    0.525,\n",
    "0.088,\n",
    "4,\n",
    "1,\n",
    "508,\n",
    "90.752,\n",
    "0.295,\n",
    "0.412,\n",
    "0.07,\n",
    "0.009,\n",
    "0.68,\n",
    "1.22,\n",
    "0.921,\n",
    "]\n",
    "\n",
    "# Bio - YeastCollins\n",
    "yeastcollins_feature_vector = [0.747,\n",
    "0.122,\n",
    "62,\n",
    "2,\n",
    "120,\n",
    "6.986,\n",
    "0.618,\n",
    "0.431,\n",
    "0.136,\n",
    "0.129,\n",
    "0.864,\n",
    "1.519,\n",
    "0.868]\n",
    "\n",
    "# Bio - InteractomeVidal\n",
    "interactomevidal_feature_vector = [\n",
    "    0.576,\n",
    "0.405,\n",
    "215,\n",
    "2,\n",
    "118,\n",
    "2.078,\n",
    "0.297,\n",
    "0.559,\n",
    "0.252,\n",
    "0.344,\n",
    "0.748,\n",
    "2.196,\n",
    "0.648\n",
    "]\n",
    "\n",
    "# Bio - MalariaGenes\n",
    "malariagenes_feature_vector = [0.625,\n",
    "0.128,\n",
    "11,\n",
    "2,\n",
    "86,\n",
    "10.423,\n",
    "0.601,\n",
    "0.538,\n",
    "0.188,\n",
    "0.146,\n",
    "0.812,\n",
    "1.475,\n",
    "0.825]\n",
    "\n",
    "\n",
    "# Bio - KeggMetabolic\n",
    "keggmetabolic_feature_vector = [0.437,\n",
    "0.466,\n",
    "177,\n",
    "2,\n",
    "242,\n",
    "1.766,\n",
    "0.529,\n",
    "0.592,\n",
    "0.427,\n",
    "0.697,\n",
    "0.573,\n",
    "1.789,\n",
    "0.736]\n",
    "\n",
    "# Collab - NewZealand\n",
    "newzealand_feature_vector = [0.401,\n",
    "0.564,\n",
    "71,\n",
    "2,\n",
    "154,\n",
    "2.275,\n",
    "0.386,\n",
    "0.645,\n",
    "0.384,\n",
    "0.552,\n",
    "0.616,\n",
    "1.725,\n",
    "0.891]\n",
    "\n",
    "\n",
    "# Infra - EUAirlines\n",
    "euairlines_feature_vector = [0.109,\n",
    "0.073,\n",
    "10,\n",
    "2,\n",
    "332,\n",
    "3.972,\n",
    "0.596,\n",
    "0.559,\n",
    "0.266,\n",
    "0.388,\n",
    "0.734,\n",
    "1.495,\n",
    "0.874]\n",
    "\n",
    "# Infra - InternetTopCogentco\n",
    "internettopcogentco_feature_vector = [\n",
    "    0.751,\n",
    "0.206,\n",
    "27,\n",
    "4,\n",
    "16,\n",
    "1.906,\n",
    "0.326,\n",
    "0.487,\n",
    "0.179,\n",
    "0.199,\n",
    "0.821,\n",
    "2.231,\n",
    "0.473\n",
    "]\n",
    "\n",
    "# Infra - LondonTransport\n",
    "londontransport_feature_vector = [0.779,\n",
    "0.198,\n",
    "50,\n",
    "4,\n",
    "15,\n",
    "1.831,\n",
    "0.313,\n",
    "0.497,\n",
    "0.17,\n",
    "0.273,\n",
    "0.83,\n",
    "2.494,\n",
    "0.452]\n",
    "\n",
    "# Misc - 911AllWords\n",
    "allwords911_feature_vector = [0.052,\n",
    "0.153,\n",
    "856,\n",
    "2,\n",
    "7779,\n",
    "1.715,\n",
    "0.603,\n",
    "0.699,\n",
    "0.548,\n",
    "0.834,\n",
    "0.452,\n",
    "1.631,\n",
    "0.82]\n",
    "\n",
    "# Misc - MovieGalaxies\n",
    "moviegalaxies_feature_vector = [0.401,\n",
    "0.429,\n",
    "12,\n",
    "3,\n",
    "24,\n",
    "2.886,\n",
    "0.498,\n",
    "0.547,\n",
    "0.379,\n",
    "0.382,\n",
    "0.621,\n",
    "1.571,\n",
    "0.919]\n",
    "\n",
    "# Misc - BibleNouns\n",
    "biblenouns_feature_vector = [0.46,\n",
    "0.496,\n",
    "91,\n",
    "3,\n",
    "131,\n",
    "4.001,\n",
    "0.358,\n",
    "0.663,\n",
    "0.343,\n",
    "0.416,\n",
    "0.657,\n",
    "1.884,\n",
    "0.757]\n",
    "\n",
    "# Misc- BoardDirectors\n",
    "boarddirectors_feature_vector = [0.817,\n",
    "0.167,\n",
    "79,\n",
    "5,\n",
    "24,\n",
    "5.159,\n",
    "0.578,\n",
    "0.459,\n",
    "0.141,\n",
    "0.118,\n",
    "0.859,\n",
    "1.493,\n",
    "0.904]\n",
    "\n",
    "# Misc - DNCEmails\n",
    "dncemails_feature_vector = [0.416,\n",
    "0.211,\n",
    "37,\n",
    "2,\n",
    "243,\n",
    "5.701,\n",
    "0.663,\n",
    "0.561,\n",
    "0.323,\n",
    "0.466,\n",
    "0.677,\n",
    "1.407,\n",
    "0.925]\n",
    "\n",
    "# Misc - GoT\n",
    "got_feature_vector = [0.482,\n",
    "0.267,\n",
    "8,\n",
    "4,\n",
    "35,\n",
    "3.801,\n",
    "0.421,\n",
    "0.503,\n",
    "0.214,\n",
    "0.207,\n",
    "0.786,\n",
    "1.633,\n",
    "0.937]\n",
    "\n",
    "# Misc - MarvelPartnerships\n",
    "marvelpartnerships_feature_vector = [0.808,\n",
    "0.147,\n",
    "27,\n",
    "2,\n",
    "11,\n",
    "2.009,\n",
    "0.408,\n",
    "0.423,\n",
    "0.121,\n",
    "0.141,\n",
    "0.879,\n",
    "1.866,\n",
    "0.755]\n",
    "\n",
    "# OSN - FacebookFriends\n",
    "facebookfriends_feature_vector = [0.688,\n",
    "0.112,\n",
    "21,\n",
    "2,\n",
    "72,\n",
    "5.179,\n",
    "0.554,\n",
    "0.486,\n",
    "0.231,\n",
    "0.286,\n",
    "0.769,\n",
    "1.546,\n",
    "0.838]\n",
    "\n",
    "# OSN - FacebookOrganizations\n",
    "facebookorganizations_feature_vector = [0.585,\n",
    "0.366,\n",
    "55,\n",
    "8,\n",
    "724,\n",
    "15.086,\n",
    "0.267,\n",
    "0.716,\n",
    "0.461,\n",
    "0.517,\n",
    "0.539,\n",
    "1.951,\n",
    "0.633]\n",
    "\n",
    "# Cite - DBLPCite\n",
    "dblpcite_feature_vector = [0.546,\n",
    "0.433,\n",
    "382,\n",
    "2,\n",
    "513,\n",
    "2.539,\n",
    "0.195,\n",
    "0.583,\n",
    "0.257,\n",
    "0.358,\n",
    "0.743,\n",
    "2.257,\n",
    "0.696]\n",
    "\n",
    "labels = [\"Dolphins\", \n",
    "          \"Reptiles\", \n",
    "          \"E. coli Trans\", \n",
    "          \"Human Protein\",  \n",
    "          \"Mouse Visual Cortex\", \n",
    "          \"Yeast Protein\",\n",
    "          \"AstroPh\",\n",
    "          \"CS PhD\",\n",
    "          \"GrQc\",\n",
    "          \"NetSci\",\n",
    "          \"Adolescent Health\",\n",
    "          \"Jazz\",\n",
    "          \"Zachary Karate Club\",\n",
    "          \"Madrid Train Bombings\",\n",
    "          \"EuroRoads\",\n",
    "          \"US Airports\",\n",
    "          \"US Power Grids\",\n",
    "          \"US States\",\n",
    "          \"Football\",\n",
    "          \"Internet AS.\",\n",
    "          \"Les Misérables\",\n",
    "          \"Pol. Books\",\n",
    "          \"Deezer EU\",\n",
    "          \"Ego Facebook\",\n",
    "          \"Caltech\",\n",
    "          \"Facebook Pol. Pages\",\n",
    "          \"Hamsterster\",\n",
    "          \"PGP\",\n",
    "          \"Princeton\",\n",
    "          \"Retweets\",\n",
    "          \"BlumenauDrug\",\n",
    "          \"BudapestConnectome\",\n",
    "          \"YeastCollins\",\n",
    "          \"InteractomeVidal\",\n",
    "          \"MalariaGenes\",\n",
    "          \"KeggMetabolic\",\n",
    "          \"NewZealand\",\n",
    "          \"EUAirlines\",\n",
    "          \"InternetTopCogentco\",\n",
    "          \"LondonTransport\",\n",
    "          \"911AllWords\",\n",
    "          \"MovieGalaxies\",\n",
    "          \"BibleNouns\",\n",
    "          \"BoardDirectors\",\n",
    "          \"DNCEmails\",\n",
    "          \"GoT\",\n",
    "          \"MarvelPartnerships\",\n",
    "          \"FacebookFriends\",\n",
    "          \"FacebookOrganizations\",\n",
    "          \"DBLPCite\"\n",
    "         ]\n",
    "\n",
    "len(labels)\n",
    "\n",
    "import pandas as pd\n",
    "\n",
    "d1 = dolphins_feature_vector\n",
    "d2 = reptiles_feature_vector\n",
    "d3 = ecoli_feature_vector\n",
    "d4 = humanprotein_feature_vector\n",
    "d5 = mousevisualcortex_feature_vector\n",
    "d6 = yeastprotein_feature_vector\n",
    "d7 = astroph_feature_vector\n",
    "d8 = csphd_feature_vector\n",
    "d9 = grqc_feature_vector\n",
    "d10 = netsci_feature_vector\n",
    "d11 = adolescenthealth_feature_vector\n",
    "d12 = jazz_feature_vector\n",
    "d13 = karate_feature_vector\n",
    "d14 = madridtrainbombings_feature_vector\n",
    "d15 = euroroad_feature_vector\n",
    "d16 = usairports_feature_vector\n",
    "d17 = uspowergrids_feature_vector\n",
    "d18 = usstates_feature_vector\n",
    "d19 = football_feature_vector\n",
    "d20 = internetas_feature_vector\n",
    "d21 = lesmis_feature_vector\n",
    "d22 = polbooks_feature_vector\n",
    "d23 = deezereu_feature_vector\n",
    "d24 = egofacebook_feature_vector\n",
    "d25 = caltech_feature_vector\n",
    "d26 = fbpoliticianpages_feature_vector\n",
    "d27 = hamsterster_feature_vector\n",
    "d28 = pgp_feature_vector\n",
    "d29 = princeton_feature_vector\n",
    "d30 = twitter_feature_vector\n",
    "d31 = blumenaudrug_feature_vector\n",
    "d32 = budapestconnectome_feature_vector\n",
    "d33 = yeastcollins_feature_vector\n",
    "d34 = interactomevidal_feature_vector\n",
    "d35 = malariagenes_feature_vector\n",
    "d36 = keggmetabolic_feature_vector\n",
    "d37 = newzealand_feature_vector\n",
    "d38 = euairlines_feature_vector\n",
    "d39 = internettopcogentco_feature_vector\n",
    "d40 = londontransport_feature_vector\n",
    "d41 = allwords911_feature_vector\n",
    "d42 = moviegalaxies_feature_vector\n",
    "d43 = biblenouns_feature_vector\n",
    "d44 = boarddirectors_feature_vector\n",
    "d45 = dncemails_feature_vector\n",
    "d46 = got_feature_vector\n",
    "d47 = marvelpartnerships_feature_vector\n",
    "d48 = facebookfriends_feature_vector\n",
    "d49 = facebookorganizations_feature_vector\n",
    "d50 = dblpcite_feature_vector\n",
    "\n",
    "df_meso = pd.DataFrame([d1, d2, d3, d4, d5, d6, d7, d8, d9, d10, d11, d12, d13, d14, d15, d16, d17, d18, d19, d20, d21, d22, d23,\n",
    "                  d24, d25, d26, d27, d28, d29, d30,\n",
    "                       d31, d32, d33, d34, d35,\n",
    "                         d36, d37, d38, d39, d40, d41, d42, d43, d44, \n",
    "                         d45, d46, d47, d48, d49, d50],\n",
    "                 columns = [\"Modularity\",\n",
    "                            \"Mixing parameter\",\n",
    "                            \"Number of communities\",\n",
    "                            \"Min community size\",\n",
    "                            \"Max community size\",\n",
    "                            \"Internal degree\",\n",
    "                            \"Internal density\",\n",
    "                            \"Max-ODF\",\n",
    "                            \"Average-ODF\",\n",
    "                            \"Flake-out ODF\",\n",
    "                            \"Embeddedness\",\n",
    "                            \"Internal distance\",\n",
    "                            \"Hub Dominance\"])\n",
    "\n",
    "df_meso.rename(index={\n",
    "          0:\"Dolphins\", \n",
    "          1:\"Reptiles\", \n",
    "          2:\"E. coli Trans\", \n",
    "          3:\"Human Protein\",  \n",
    "          4:\"Mouse Visual Cortex\", \n",
    "          5:\"Yeast Protein\",\n",
    "          6:\"AstroPh\",\n",
    "          7:\"CS PhD\",\n",
    "          8:\"GrQc\",\n",
    "          9:\"NetSci\",\n",
    "          10:\"Adolescent Health\",\n",
    "          11:\"Jazz\",\n",
    "          12:\"Zachary Karate Club\",\n",
    "          13: \"Madrid Train Bombings\",\n",
    "          14:\"EuroRoads\",\n",
    "          15:\"US Airports\",\n",
    "          16:\"US Power Grids\",\n",
    "          17:\"US States\",\n",
    "          18:\"Football\",\n",
    "          19:\"Internet AS.\",\n",
    "          20:\"Les Misérables\",\n",
    "          21:\"Pol. Books\",\n",
    "          22:\"Deezer EU\",\n",
    "          23:\"Ego Facebook\",\n",
    "          24:\"Caltech\",\n",
    "          25:\"Facebook Pol. Pages\",\n",
    "          26:\"Hamsterster\",\n",
    "          27:\"PGP\",\n",
    "          28:\"Princeton\",\n",
    "          29:\"Retweets\",        \n",
    "          30:\"BlumenauDrug\",\n",
    "          31: \"BudapestConnectome\",\n",
    "          32: \"YeastCollins\",\n",
    "          33: \"InteractomeVidal\", \n",
    "          34: \"MalariaGenes\",\n",
    "          35: \"KeggMetabolic\",\n",
    "          36: \"NewZealand\",\n",
    "          37: \"EUAirlines\",\n",
    "          38: \"InternetTopCogentco\",\n",
    "          39: \"LondonTransport\",\n",
    "          40: \"911AllWords\",\n",
    "          41: \"MovieGalaxies\",\n",
    "          42: \"BibleNouns\",\n",
    "          43: \"BoardDirectors\",\n",
    "          44: \"DNCEmails\",\n",
    "          45: \"GoT\",\n",
    "          46: \"MarvelPartnerships\",\n",
    "          47: \"FacebookFriends\",\n",
    "          48: \"FacebookOrganizations\",\n",
    "          49: \"DBLPCite\"}, \n",
    "          inplace=True)\n",
    "df_meso"
   ]
  },
  {
   "cell_type": "markdown",
   "metadata": {},
   "source": [
    "# Performing Simple Linear Regression\n",
    "We may use both `sklearn` and `statsmodels` to get the regression results. Both methods provide the same estimates with the latter being more comprenehnsive."
   ]
  },
  {
   "cell_type": "code",
   "execution_count": 133,
   "metadata": {},
   "outputs": [],
   "source": [
    "from sklearn.linear_model import LinearRegression\n",
    "import statsmodels.api as sm"
   ]
  },
  {
   "cell_type": "markdown",
   "metadata": {},
   "source": [
    "## Dependent variable: Local component"
   ]
  },
  {
   "cell_type": "markdown",
   "metadata": {},
   "source": [
    "### Independent variable: Average Degree"
   ]
  },
  {
   "cell_type": "code",
   "execution_count": 134,
   "metadata": {},
   "outputs": [],
   "source": [
    "X = df_macro[['Average Degree']]"
   ]
  },
  {
   "cell_type": "code",
   "execution_count": 135,
   "metadata": {
    "scrolled": false
   },
   "outputs": [],
   "source": [
    "Y = df_dependent_variables['Mean-LocalComponent']"
   ]
  },
  {
   "cell_type": "markdown",
   "metadata": {},
   "source": [
    "#### with `sklearn`"
   ]
  },
  {
   "cell_type": "code",
   "execution_count": 136,
   "metadata": {},
   "outputs": [
    {
     "data": {
      "text/plain": [
       "LinearRegression(copy_X=True, fit_intercept=True, n_jobs=None, normalize=False)"
      ]
     },
     "execution_count": 136,
     "metadata": {},
     "output_type": "execute_result"
    }
   ],
   "source": [
    "regr = LinearRegression()\n",
    "regr.fit(X, Y)"
   ]
  },
  {
   "cell_type": "code",
   "execution_count": 137,
   "metadata": {},
   "outputs": [
    {
     "name": "stdout",
     "output_type": "stream",
     "text": [
      "Intercept: \n",
      " 0.4452415289189097\n",
      "Coefficients: \n",
      " [0.00159863]\n"
     ]
    }
   ],
   "source": [
    "print('Intercept: \\n', regr.intercept_)\n",
    "print('Coefficients: \\n', regr.coef_)"
   ]
  },
  {
   "cell_type": "markdown",
   "metadata": {},
   "source": [
    "#### Plot "
   ]
  },
  {
   "cell_type": "code",
   "execution_count": 138,
   "metadata": {
    "scrolled": false
   },
   "outputs": [
    {
     "data": {
      "image/png": "[encoded data removed]",
      "text/plain": [
       "<Figure size 432x288 with 1 Axes>"
      ]
     },
     "metadata": {
      "needs_background": "light"
     },
     "output_type": "display_data"
    }
   ],
   "source": [
    "predictions = regr.predict(X)\n",
    "#plt.figure(figsize=(16, 8))\n",
    "plt.scatter(\n",
    "    df_macro['Average Degree'],\n",
    "    df_dependent_variables['Mean-LocalComponent'],\n",
    "    c='red'\n",
    ")\n",
    "plt.plot(\n",
    "    df_macro['Average Degree'],\n",
    "    predictions,\n",
    "    c='black',\n",
    "    linewidth=2\n",
    ")\n",
    "plt.xlabel(\"Average Degre\")\n",
    "plt.ylabel(\"Mean-LocalComponent\")\n",
    "plt.show()"
   ]
  },
  {
   "cell_type": "markdown",
   "metadata": {},
   "source": [
    "#### with `statsmodels`"
   ]
  },
  {
   "cell_type": "code",
   "execution_count": 139,
   "metadata": {
    "scrolled": false
   },
   "outputs": [
    {
     "data": {
      "text/html": [
       "<table class=\"simpletable\">\n",
       "<caption>OLS Regression Results</caption>\n",
       "<tr>\n",
       "  <th>Dep. Variable:</th>    <td>Mean-LocalComponent</td> <th>  R-squared:         </th> <td>   0.086</td>\n",
       "</tr>\n",
       "<tr>\n",
       "  <th>Model:</th>                    <td>OLS</td>         <th>  Adj. R-squared:    </th> <td>   0.066</td>\n",
       "</tr>\n",
       "<tr>\n",
       "  <th>Method:</th>              <td>Least Squares</td>    <th>  F-statistic:       </th> <td>   4.490</td>\n",
       "</tr>\n",
       "<tr>\n",
       "  <th>Date:</th>              <td>Tue, 08 Dec 2020</td>   <th>  Prob (F-statistic):</th>  <td>0.0393</td> \n",
       "</tr>\n",
       "<tr>\n",
       "  <th>Time:</th>                  <td>23:11:52</td>       <th>  Log-Likelihood:    </th> <td>  34.640</td>\n",
       "</tr>\n",
       "<tr>\n",
       "  <th>No. Observations:</th>       <td>    50</td>        <th>  AIC:               </th> <td>  -65.28</td>\n",
       "</tr>\n",
       "<tr>\n",
       "  <th>Df Residuals:</th>           <td>    48</td>        <th>  BIC:               </th> <td>  -61.46</td>\n",
       "</tr>\n",
       "<tr>\n",
       "  <th>Df Model:</th>               <td>     1</td>        <th>                     </th>     <td> </td>   \n",
       "</tr>\n",
       "<tr>\n",
       "  <th>Covariance Type:</th>       <td>nonrobust</td>      <th>                     </th>     <td> </td>   \n",
       "</tr>\n",
       "</table>\n",
       "<table class=\"simpletable\">\n",
       "<tr>\n",
       "         <td></td>           <th>coef</th>     <th>std err</th>      <th>t</th>      <th>P>|t|</th>  <th>[0.025</th>    <th>0.975]</th>  \n",
       "</tr>\n",
       "<tr>\n",
       "  <th>const</th>          <td>    0.4452</td> <td>    0.021</td> <td>   21.628</td> <td> 0.000</td> <td>    0.404</td> <td>    0.487</td>\n",
       "</tr>\n",
       "<tr>\n",
       "  <th>Average Degree</th> <td>    0.0016</td> <td>    0.001</td> <td>    2.119</td> <td> 0.039</td> <td> 8.17e-05</td> <td>    0.003</td>\n",
       "</tr>\n",
       "</table>\n",
       "<table class=\"simpletable\">\n",
       "<tr>\n",
       "  <th>Omnibus:</th>       <td> 3.147</td> <th>  Durbin-Watson:     </th> <td>   1.805</td>\n",
       "</tr>\n",
       "<tr>\n",
       "  <th>Prob(Omnibus):</th> <td> 0.207</td> <th>  Jarque-Bera (JB):  </th> <td>   2.543</td>\n",
       "</tr>\n",
       "<tr>\n",
       "  <th>Skew:</th>          <td>-0.551</td> <th>  Prob(JB):          </th> <td>   0.280</td>\n",
       "</tr>\n",
       "<tr>\n",
       "  <th>Kurtosis:</th>      <td> 3.063</td> <th>  Cond. No.          </th> <td>    32.2</td>\n",
       "</tr>\n",
       "</table><br/><br/>Warnings:<br/>[1] Standard Errors assume that the covariance matrix of the errors is correctly specified."
      ],
      "text/plain": [
       "<class 'statsmodels.iolib.summary.Summary'>\n",
       "\"\"\"\n",
       "                             OLS Regression Results                            \n",
       "===============================================================================\n",
       "Dep. Variable:     Mean-LocalComponent   R-squared:                       0.086\n",
       "Model:                             OLS   Adj. R-squared:                  0.066\n",
       "Method:                  Least Squares   F-statistic:                     4.490\n",
       "Date:                 Tue, 08 Dec 2020   Prob (F-statistic):             0.0393\n",
       "Time:                         23:11:52   Log-Likelihood:                 34.640\n",
       "No. Observations:                   50   AIC:                            -65.28\n",
       "Df Residuals:                       48   BIC:                            -61.46\n",
       "Df Model:                            1                                         \n",
       "Covariance Type:             nonrobust                                         \n",
       "==================================================================================\n",
       "                     coef    std err          t      P>|t|      [0.025      0.975]\n",
       "----------------------------------------------------------------------------------\n",
       "const              0.4452      0.021     21.628      0.000       0.404       0.487\n",
       "Average Degree     0.0016      0.001      2.119      0.039    8.17e-05       0.003\n",
       "==============================================================================\n",
       "Omnibus:                        3.147   Durbin-Watson:                   1.805\n",
       "Prob(Omnibus):                  0.207   Jarque-Bera (JB):                2.543\n",
       "Skew:                          -0.551   Prob(JB):                        0.280\n",
       "Kurtosis:                       3.063   Cond. No.                         32.2\n",
       "==============================================================================\n",
       "\n",
       "Warnings:\n",
       "[1] Standard Errors assume that the covariance matrix of the errors is correctly specified.\n",
       "\"\"\""
      ]
     },
     "execution_count": 139,
     "metadata": {},
     "output_type": "execute_result"
    }
   ],
   "source": [
    "X = sm.add_constant(X) # adding a constant\n",
    " \n",
    "model = sm.OLS(Y, X).fit()\n",
    "predictions = model.predict(X) \n",
    " \n",
    "print_model = model.summary()\n",
    "print_model"
   ]
  },
  {
   "cell_type": "code",
   "execution_count": 140,
   "metadata": {
    "scrolled": false
   },
   "outputs": [
    {
     "data": {
      "text/plain": [
       "const             2.137959e-26\n",
       "Average Degree    3.930207e-02\n",
       "dtype: float64"
      ]
     },
     "execution_count": 140,
     "metadata": {},
     "output_type": "execute_result"
    }
   ],
   "source": [
    "model.pvalues[model.pvalues < 0.05]"
   ]
  },
  {
   "cell_type": "code",
   "execution_count": 141,
   "metadata": {
    "scrolled": true
   },
   "outputs": [
    {
     "data": {
      "text/plain": [
       "const    2.137959e-26\n",
       "dtype: float64"
      ]
     },
     "execution_count": 141,
     "metadata": {},
     "output_type": "execute_result"
    }
   ],
   "source": [
    "model.pvalues[model.pvalues < 0.01]"
   ]
  },
  {
   "cell_type": "markdown",
   "metadata": {},
   "source": [
    "### Independent variable: Average Distance"
   ]
  },
  {
   "cell_type": "code",
   "execution_count": 142,
   "metadata": {},
   "outputs": [],
   "source": [
    "X = df_macro[['Average Distance']]"
   ]
  },
  {
   "cell_type": "code",
   "execution_count": 143,
   "metadata": {
    "scrolled": false
   },
   "outputs": [],
   "source": [
    "Y = df_dependent_variables['Mean-LocalComponent']"
   ]
  },
  {
   "cell_type": "markdown",
   "metadata": {},
   "source": [
    "#### with `sklearn`"
   ]
  },
  {
   "cell_type": "code",
   "execution_count": 144,
   "metadata": {},
   "outputs": [
    {
     "data": {
      "text/plain": [
       "LinearRegression(copy_X=True, fit_intercept=True, n_jobs=None, normalize=False)"
      ]
     },
     "execution_count": 144,
     "metadata": {},
     "output_type": "execute_result"
    }
   ],
   "source": [
    "regr = LinearRegression()\n",
    "regr.fit(X, Y)"
   ]
  },
  {
   "cell_type": "code",
   "execution_count": 145,
   "metadata": {},
   "outputs": [
    {
     "name": "stdout",
     "output_type": "stream",
     "text": [
      "Intercept: \n",
      " 0.5140993298593115\n",
      "Coefficients: \n",
      " [-0.00896976]\n"
     ]
    }
   ],
   "source": [
    "print('Intercept: \\n', regr.intercept_)\n",
    "print('Coefficients: \\n', regr.coef_)"
   ]
  },
  {
   "cell_type": "markdown",
   "metadata": {},
   "source": [
    "#### Plot "
   ]
  },
  {
   "cell_type": "code",
   "execution_count": 146,
   "metadata": {
    "scrolled": false
   },
   "outputs": [
    {
     "data": {
      "image/png": "[encoded data removed]",
      "text/plain": [
       "<Figure size 432x288 with 1 Axes>"
      ]
     },
     "metadata": {
      "needs_background": "light"
     },
     "output_type": "display_data"
    }
   ],
   "source": [
    "predictions = regr.predict(X)\n",
    "# plt.figure(figsize=(16, 8))\n",
    "plt.scatter(\n",
    "    df_macro['Average Distance'],\n",
    "    df_dependent_variables['Mean-LocalComponent'],\n",
    "    c='red'\n",
    ")\n",
    "plt.plot(\n",
    "    df_macro['Average Distance'],\n",
    "    predictions,\n",
    "    c='black',\n",
    "    linewidth=2\n",
    ")\n",
    "plt.xlabel(\"Average Distance\")\n",
    "plt.ylabel(\"Mean-LocalComponent\")\n",
    "plt.show()"
   ]
  },
  {
   "cell_type": "markdown",
   "metadata": {},
   "source": [
    "#### with `statsmodels`"
   ]
  },
  {
   "cell_type": "code",
   "execution_count": 147,
   "metadata": {
    "scrolled": false
   },
   "outputs": [
    {
     "data": {
      "text/html": [
       "<table class=\"simpletable\">\n",
       "<caption>OLS Regression Results</caption>\n",
       "<tr>\n",
       "  <th>Dep. Variable:</th>    <td>Mean-LocalComponent</td> <th>  R-squared:         </th> <td>   0.069</td>\n",
       "</tr>\n",
       "<tr>\n",
       "  <th>Model:</th>                    <td>OLS</td>         <th>  Adj. R-squared:    </th> <td>   0.049</td>\n",
       "</tr>\n",
       "<tr>\n",
       "  <th>Method:</th>              <td>Least Squares</td>    <th>  F-statistic:       </th> <td>   3.532</td>\n",
       "</tr>\n",
       "<tr>\n",
       "  <th>Date:</th>              <td>Tue, 08 Dec 2020</td>   <th>  Prob (F-statistic):</th>  <td>0.0663</td> \n",
       "</tr>\n",
       "<tr>\n",
       "  <th>Time:</th>                  <td>23:12:07</td>       <th>  Log-Likelihood:    </th> <td>  34.180</td>\n",
       "</tr>\n",
       "<tr>\n",
       "  <th>No. Observations:</th>       <td>    50</td>        <th>  AIC:               </th> <td>  -64.36</td>\n",
       "</tr>\n",
       "<tr>\n",
       "  <th>Df Residuals:</th>           <td>    48</td>        <th>  BIC:               </th> <td>  -60.54</td>\n",
       "</tr>\n",
       "<tr>\n",
       "  <th>Df Model:</th>               <td>     1</td>        <th>                     </th>     <td> </td>   \n",
       "</tr>\n",
       "<tr>\n",
       "  <th>Covariance Type:</th>       <td>nonrobust</td>      <th>                     </th>     <td> </td>   \n",
       "</tr>\n",
       "</table>\n",
       "<table class=\"simpletable\">\n",
       "<tr>\n",
       "          <td></td>            <th>coef</th>     <th>std err</th>      <th>t</th>      <th>P>|t|</th>  <th>[0.025</th>    <th>0.975]</th>  \n",
       "</tr>\n",
       "<tr>\n",
       "  <th>const</th>            <td>    0.5141</td> <td>    0.030</td> <td>   17.098</td> <td> 0.000</td> <td>    0.454</td> <td>    0.575</td>\n",
       "</tr>\n",
       "<tr>\n",
       "  <th>Average Distance</th> <td>   -0.0090</td> <td>    0.005</td> <td>   -1.879</td> <td> 0.066</td> <td>   -0.019</td> <td>    0.001</td>\n",
       "</tr>\n",
       "</table>\n",
       "<table class=\"simpletable\">\n",
       "<tr>\n",
       "  <th>Omnibus:</th>       <td> 8.473</td> <th>  Durbin-Watson:     </th> <td>   1.606</td>\n",
       "</tr>\n",
       "<tr>\n",
       "  <th>Prob(Omnibus):</th> <td> 0.014</td> <th>  Jarque-Bera (JB):  </th> <td>   7.704</td>\n",
       "</tr>\n",
       "<tr>\n",
       "  <th>Skew:</th>          <td>-0.914</td> <th>  Prob(JB):          </th> <td>  0.0212</td>\n",
       "</tr>\n",
       "<tr>\n",
       "  <th>Kurtosis:</th>      <td> 3.600</td> <th>  Cond. No.          </th> <td>    10.9</td>\n",
       "</tr>\n",
       "</table><br/><br/>Warnings:<br/>[1] Standard Errors assume that the covariance matrix of the errors is correctly specified."
      ],
      "text/plain": [
       "<class 'statsmodels.iolib.summary.Summary'>\n",
       "\"\"\"\n",
       "                             OLS Regression Results                            \n",
       "===============================================================================\n",
       "Dep. Variable:     Mean-LocalComponent   R-squared:                       0.069\n",
       "Model:                             OLS   Adj. R-squared:                  0.049\n",
       "Method:                  Least Squares   F-statistic:                     3.532\n",
       "Date:                 Tue, 08 Dec 2020   Prob (F-statistic):             0.0663\n",
       "Time:                         23:12:07   Log-Likelihood:                 34.180\n",
       "No. Observations:                   50   AIC:                            -64.36\n",
       "Df Residuals:                       48   BIC:                            -60.54\n",
       "Df Model:                            1                                         \n",
       "Covariance Type:             nonrobust                                         \n",
       "====================================================================================\n",
       "                       coef    std err          t      P>|t|      [0.025      0.975]\n",
       "------------------------------------------------------------------------------------\n",
       "const                0.5141      0.030     17.098      0.000       0.454       0.575\n",
       "Average Distance    -0.0090      0.005     -1.879      0.066      -0.019       0.001\n",
       "==============================================================================\n",
       "Omnibus:                        8.473   Durbin-Watson:                   1.606\n",
       "Prob(Omnibus):                  0.014   Jarque-Bera (JB):                7.704\n",
       "Skew:                          -0.914   Prob(JB):                       0.0212\n",
       "Kurtosis:                       3.600   Cond. No.                         10.9\n",
       "==============================================================================\n",
       "\n",
       "Warnings:\n",
       "[1] Standard Errors assume that the covariance matrix of the errors is correctly specified.\n",
       "\"\"\""
      ]
     },
     "execution_count": 147,
     "metadata": {},
     "output_type": "execute_result"
    }
   ],
   "source": [
    "X = sm.add_constant(X) # adding a constant\n",
    " \n",
    "model = sm.OLS(Y, X).fit()\n",
    "predictions = model.predict(X) \n",
    " \n",
    "print_model = model.summary()\n",
    "print_model"
   ]
  },
  {
   "cell_type": "code",
   "execution_count": 148,
   "metadata": {
    "scrolled": true
   },
   "outputs": [
    {
     "data": {
      "text/plain": [
       "const    4.730398e-22\n",
       "dtype: float64"
      ]
     },
     "execution_count": 148,
     "metadata": {},
     "output_type": "execute_result"
    }
   ],
   "source": [
    "model.pvalues[model.pvalues < 0.05]"
   ]
  },
  {
   "cell_type": "code",
   "execution_count": 149,
   "metadata": {},
   "outputs": [
    {
     "data": {
      "text/plain": [
       "const    4.730398e-22\n",
       "dtype: float64"
      ]
     },
     "execution_count": 149,
     "metadata": {},
     "output_type": "execute_result"
    }
   ],
   "source": [
    "model.pvalues[model.pvalues < 0.01]"
   ]
  },
  {
   "cell_type": "markdown",
   "metadata": {},
   "source": [
    "### Independent variable: Density"
   ]
  },
  {
   "cell_type": "code",
   "execution_count": 150,
   "metadata": {},
   "outputs": [],
   "source": [
    "X = df_macro[['Density']]"
   ]
  },
  {
   "cell_type": "code",
   "execution_count": 151,
   "metadata": {
    "scrolled": false
   },
   "outputs": [],
   "source": [
    "Y = df_dependent_variables['Mean-LocalComponent']"
   ]
  },
  {
   "cell_type": "markdown",
   "metadata": {},
   "source": [
    "#### with `sklearn`"
   ]
  },
  {
   "cell_type": "code",
   "execution_count": 152,
   "metadata": {},
   "outputs": [
    {
     "data": {
      "text/plain": [
       "LinearRegression(copy_X=True, fit_intercept=True, n_jobs=None, normalize=False)"
      ]
     },
     "execution_count": 152,
     "metadata": {},
     "output_type": "execute_result"
    }
   ],
   "source": [
    "regr = LinearRegression()\n",
    "regr.fit(X, Y)"
   ]
  },
  {
   "cell_type": "code",
   "execution_count": 153,
   "metadata": {},
   "outputs": [
    {
     "name": "stdout",
     "output_type": "stream",
     "text": [
      "Intercept: \n",
      " 0.42887198122197356\n",
      "Coefficients: \n",
      " [1.26298325]\n"
     ]
    }
   ],
   "source": [
    "print('Intercept: \\n', regr.intercept_)\n",
    "print('Coefficients: \\n', regr.coef_)"
   ]
  },
  {
   "cell_type": "markdown",
   "metadata": {},
   "source": [
    "#### Plot "
   ]
  },
  {
   "cell_type": "code",
   "execution_count": 154,
   "metadata": {
    "scrolled": false
   },
   "outputs": [
    {
     "data": {
      "image/png": "[encoded data removed]",
      "text/plain": [
       "<Figure size 432x288 with 1 Axes>"
      ]
     },
     "metadata": {
      "needs_background": "light"
     },
     "output_type": "display_data"
    }
   ],
   "source": [
    "predictions = regr.predict(X)\n",
    "# plt.figure(figsize=(16, 8))\n",
    "plt.scatter(\n",
    "    df_macro['Density'],\n",
    "    df_dependent_variables['Mean-LocalComponent'],\n",
    "    c='red'\n",
    ")\n",
    "plt.plot(\n",
    "    df_macro['Density'],\n",
    "    predictions,\n",
    "    c='black',\n",
    "    linewidth=2\n",
    ")\n",
    "plt.xlabel(\"Density\")\n",
    "plt.ylabel(\"Mean-LocalComponent\")\n",
    "plt.show()"
   ]
  },
  {
   "cell_type": "markdown",
   "metadata": {},
   "source": [
    "#### with `statsmodels`"
   ]
  },
  {
   "cell_type": "code",
   "execution_count": 155,
   "metadata": {
    "scrolled": false
   },
   "outputs": [
    {
     "data": {
      "text/html": [
       "<table class=\"simpletable\">\n",
       "<caption>OLS Regression Results</caption>\n",
       "<tr>\n",
       "  <th>Dep. Variable:</th>    <td>Mean-LocalComponent</td> <th>  R-squared:         </th> <td>   0.168</td>\n",
       "</tr>\n",
       "<tr>\n",
       "  <th>Model:</th>                    <td>OLS</td>         <th>  Adj. R-squared:    </th> <td>   0.150</td>\n",
       "</tr>\n",
       "<tr>\n",
       "  <th>Method:</th>              <td>Least Squares</td>    <th>  F-statistic:       </th> <td>   9.663</td>\n",
       "</tr>\n",
       "<tr>\n",
       "  <th>Date:</th>              <td>Tue, 08 Dec 2020</td>   <th>  Prob (F-statistic):</th>  <td>0.00316</td>\n",
       "</tr>\n",
       "<tr>\n",
       "  <th>Time:</th>                  <td>23:12:26</td>       <th>  Log-Likelihood:    </th> <td>  36.990</td>\n",
       "</tr>\n",
       "<tr>\n",
       "  <th>No. Observations:</th>       <td>    50</td>        <th>  AIC:               </th> <td>  -69.98</td>\n",
       "</tr>\n",
       "<tr>\n",
       "  <th>Df Residuals:</th>           <td>    48</td>        <th>  BIC:               </th> <td>  -66.16</td>\n",
       "</tr>\n",
       "<tr>\n",
       "  <th>Df Model:</th>               <td>     1</td>        <th>                     </th>     <td> </td>   \n",
       "</tr>\n",
       "<tr>\n",
       "  <th>Covariance Type:</th>       <td>nonrobust</td>      <th>                     </th>     <td> </td>   \n",
       "</tr>\n",
       "</table>\n",
       "<table class=\"simpletable\">\n",
       "<tr>\n",
       "     <td></td>        <th>coef</th>     <th>std err</th>      <th>t</th>      <th>P>|t|</th>  <th>[0.025</th>    <th>0.975]</th>  \n",
       "</tr>\n",
       "<tr>\n",
       "  <th>const</th>   <td>    0.4289</td> <td>    0.021</td> <td>   20.473</td> <td> 0.000</td> <td>    0.387</td> <td>    0.471</td>\n",
       "</tr>\n",
       "<tr>\n",
       "  <th>Density</th> <td>    1.2630</td> <td>    0.406</td> <td>    3.109</td> <td> 0.003</td> <td>    0.446</td> <td>    2.080</td>\n",
       "</tr>\n",
       "</table>\n",
       "<table class=\"simpletable\">\n",
       "<tr>\n",
       "  <th>Omnibus:</th>       <td>14.253</td> <th>  Durbin-Watson:     </th> <td>   1.727</td>\n",
       "</tr>\n",
       "<tr>\n",
       "  <th>Prob(Omnibus):</th> <td> 0.001</td> <th>  Jarque-Bera (JB):  </th> <td>  16.518</td>\n",
       "</tr>\n",
       "<tr>\n",
       "  <th>Skew:</th>          <td>-1.078</td> <th>  Prob(JB):          </th> <td>0.000259</td>\n",
       "</tr>\n",
       "<tr>\n",
       "  <th>Kurtosis:</th>      <td> 4.810</td> <th>  Cond. No.          </th> <td>    24.4</td>\n",
       "</tr>\n",
       "</table><br/><br/>Warnings:<br/>[1] Standard Errors assume that the covariance matrix of the errors is correctly specified."
      ],
      "text/plain": [
       "<class 'statsmodels.iolib.summary.Summary'>\n",
       "\"\"\"\n",
       "                             OLS Regression Results                            \n",
       "===============================================================================\n",
       "Dep. Variable:     Mean-LocalComponent   R-squared:                       0.168\n",
       "Model:                             OLS   Adj. R-squared:                  0.150\n",
       "Method:                  Least Squares   F-statistic:                     9.663\n",
       "Date:                 Tue, 08 Dec 2020   Prob (F-statistic):            0.00316\n",
       "Time:                         23:12:26   Log-Likelihood:                 36.990\n",
       "No. Observations:                   50   AIC:                            -69.98\n",
       "Df Residuals:                       48   BIC:                            -66.16\n",
       "Df Model:                            1                                         \n",
       "Covariance Type:             nonrobust                                         \n",
       "==============================================================================\n",
       "                 coef    std err          t      P>|t|      [0.025      0.975]\n",
       "------------------------------------------------------------------------------\n",
       "const          0.4289      0.021     20.473      0.000       0.387       0.471\n",
       "Density        1.2630      0.406      3.109      0.003       0.446       2.080\n",
       "==============================================================================\n",
       "Omnibus:                       14.253   Durbin-Watson:                   1.727\n",
       "Prob(Omnibus):                  0.001   Jarque-Bera (JB):               16.518\n",
       "Skew:                          -1.078   Prob(JB):                     0.000259\n",
       "Kurtosis:                       4.810   Cond. No.                         24.4\n",
       "==============================================================================\n",
       "\n",
       "Warnings:\n",
       "[1] Standard Errors assume that the covariance matrix of the errors is correctly specified.\n",
       "\"\"\""
      ]
     },
     "execution_count": 155,
     "metadata": {},
     "output_type": "execute_result"
    }
   ],
   "source": [
    "X = sm.add_constant(X) # adding a constant\n",
    " \n",
    "model = sm.OLS(Y, X).fit()\n",
    "predictions = model.predict(X) \n",
    " \n",
    "print_model = model.summary()\n",
    "print_model"
   ]
  },
  {
   "cell_type": "code",
   "execution_count": 156,
   "metadata": {
    "scrolled": false
   },
   "outputs": [
    {
     "data": {
      "text/plain": [
       "const      2.314426e-25\n",
       "Density    3.157596e-03\n",
       "dtype: float64"
      ]
     },
     "execution_count": 156,
     "metadata": {},
     "output_type": "execute_result"
    }
   ],
   "source": [
    "model.pvalues[model.pvalues < 0.05]"
   ]
  },
  {
   "cell_type": "code",
   "execution_count": 157,
   "metadata": {},
   "outputs": [
    {
     "data": {
      "text/plain": [
       "const      2.314426e-25\n",
       "Density    3.157596e-03\n",
       "dtype: float64"
      ]
     },
     "execution_count": 157,
     "metadata": {},
     "output_type": "execute_result"
    }
   ],
   "source": [
    "model.pvalues[model.pvalues < 0.01]"
   ]
  },
  {
   "cell_type": "markdown",
   "metadata": {},
   "source": [
    "### Independent variable: Transitivity"
   ]
  },
  {
   "cell_type": "code",
   "execution_count": 158,
   "metadata": {},
   "outputs": [],
   "source": [
    "X = df_macro[['Transitivity']]"
   ]
  },
  {
   "cell_type": "code",
   "execution_count": 159,
   "metadata": {
    "scrolled": false
   },
   "outputs": [],
   "source": [
    "Y = df_dependent_variables['Mean-LocalComponent']"
   ]
  },
  {
   "cell_type": "markdown",
   "metadata": {},
   "source": [
    "#### with `sklearn`"
   ]
  },
  {
   "cell_type": "code",
   "execution_count": 160,
   "metadata": {},
   "outputs": [
    {
     "data": {
      "text/plain": [
       "LinearRegression(copy_X=True, fit_intercept=True, n_jobs=None, normalize=False)"
      ]
     },
     "execution_count": 160,
     "metadata": {},
     "output_type": "execute_result"
    }
   ],
   "source": [
    "regr = LinearRegression()\n",
    "regr.fit(X, Y)"
   ]
  },
  {
   "cell_type": "code",
   "execution_count": 161,
   "metadata": {},
   "outputs": [
    {
     "name": "stdout",
     "output_type": "stream",
     "text": [
      "Intercept: \n",
      " 0.3707254351502814\n",
      "Coefficients: \n",
      " [0.37449948]\n"
     ]
    }
   ],
   "source": [
    "print('Intercept: \\n', regr.intercept_)\n",
    "print('Coefficients: \\n', regr.coef_)"
   ]
  },
  {
   "cell_type": "markdown",
   "metadata": {},
   "source": [
    "#### Plot "
   ]
  },
  {
   "cell_type": "code",
   "execution_count": 162,
   "metadata": {
    "scrolled": false
   },
   "outputs": [
    {
     "data": {
      "image/png": "[encoded data removed]",
      "text/plain": [
       "<Figure size 432x288 with 1 Axes>"
      ]
     },
     "metadata": {
      "needs_background": "light"
     },
     "output_type": "display_data"
    }
   ],
   "source": [
    "predictions = regr.predict(X)\n",
    "# plt.figure(figsize=(16, 8))\n",
    "plt.scatter(\n",
    "    df_macro['Transitivity'],\n",
    "    df_dependent_variables['Mean-LocalComponent'],\n",
    "    c='red'\n",
    ")\n",
    "plt.plot(\n",
    "    df_macro['Transitivity'],\n",
    "    predictions,\n",
    "    c='black',\n",
    "    linewidth=2\n",
    ")\n",
    "plt.xlabel(\"Transitivity\")\n",
    "plt.ylabel(\"Mean-LocalComponent\")\n",
    "plt.show()"
   ]
  },
  {
   "cell_type": "markdown",
   "metadata": {},
   "source": [
    "#### with `statsmodels`"
   ]
  },
  {
   "cell_type": "code",
   "execution_count": 163,
   "metadata": {
    "scrolled": false
   },
   "outputs": [
    {
     "data": {
      "text/html": [
       "<table class=\"simpletable\">\n",
       "<caption>OLS Regression Results</caption>\n",
       "<tr>\n",
       "  <th>Dep. Variable:</th>    <td>Mean-LocalComponent</td> <th>  R-squared:         </th> <td>   0.362</td>\n",
       "</tr>\n",
       "<tr>\n",
       "  <th>Model:</th>                    <td>OLS</td>         <th>  Adj. R-squared:    </th> <td>   0.349</td>\n",
       "</tr>\n",
       "<tr>\n",
       "  <th>Method:</th>              <td>Least Squares</td>    <th>  F-statistic:       </th> <td>   27.23</td>\n",
       "</tr>\n",
       "<tr>\n",
       "  <th>Date:</th>              <td>Tue, 08 Dec 2020</td>   <th>  Prob (F-statistic):</th> <td>3.81e-06</td>\n",
       "</tr>\n",
       "<tr>\n",
       "  <th>Time:</th>                  <td>23:12:57</td>       <th>  Log-Likelihood:    </th> <td>  43.640</td>\n",
       "</tr>\n",
       "<tr>\n",
       "  <th>No. Observations:</th>       <td>    50</td>        <th>  AIC:               </th> <td>  -83.28</td>\n",
       "</tr>\n",
       "<tr>\n",
       "  <th>Df Residuals:</th>           <td>    48</td>        <th>  BIC:               </th> <td>  -79.46</td>\n",
       "</tr>\n",
       "<tr>\n",
       "  <th>Df Model:</th>               <td>     1</td>        <th>                     </th>     <td> </td>   \n",
       "</tr>\n",
       "<tr>\n",
       "  <th>Covariance Type:</th>       <td>nonrobust</td>      <th>                     </th>     <td> </td>   \n",
       "</tr>\n",
       "</table>\n",
       "<table class=\"simpletable\">\n",
       "<tr>\n",
       "        <td></td>          <th>coef</th>     <th>std err</th>      <th>t</th>      <th>P>|t|</th>  <th>[0.025</th>    <th>0.975]</th>  \n",
       "</tr>\n",
       "<tr>\n",
       "  <th>const</th>        <td>    0.3707</td> <td>    0.024</td> <td>   15.629</td> <td> 0.000</td> <td>    0.323</td> <td>    0.418</td>\n",
       "</tr>\n",
       "<tr>\n",
       "  <th>Transitivity</th> <td>    0.3745</td> <td>    0.072</td> <td>    5.219</td> <td> 0.000</td> <td>    0.230</td> <td>    0.519</td>\n",
       "</tr>\n",
       "</table>\n",
       "<table class=\"simpletable\">\n",
       "<tr>\n",
       "  <th>Omnibus:</th>       <td>14.274</td> <th>  Durbin-Watson:     </th> <td>   1.710</td>\n",
       "</tr>\n",
       "<tr>\n",
       "  <th>Prob(Omnibus):</th> <td> 0.001</td> <th>  Jarque-Bera (JB):  </th> <td>  20.489</td>\n",
       "</tr>\n",
       "<tr>\n",
       "  <th>Skew:</th>          <td>-0.912</td> <th>  Prob(JB):          </th> <td>3.56e-05</td>\n",
       "</tr>\n",
       "<tr>\n",
       "  <th>Kurtosis:</th>      <td> 5.551</td> <th>  Cond. No.          </th> <td>    5.27</td>\n",
       "</tr>\n",
       "</table><br/><br/>Warnings:<br/>[1] Standard Errors assume that the covariance matrix of the errors is correctly specified."
      ],
      "text/plain": [
       "<class 'statsmodels.iolib.summary.Summary'>\n",
       "\"\"\"\n",
       "                             OLS Regression Results                            \n",
       "===============================================================================\n",
       "Dep. Variable:     Mean-LocalComponent   R-squared:                       0.362\n",
       "Model:                             OLS   Adj. R-squared:                  0.349\n",
       "Method:                  Least Squares   F-statistic:                     27.23\n",
       "Date:                 Tue, 08 Dec 2020   Prob (F-statistic):           3.81e-06\n",
       "Time:                         23:12:57   Log-Likelihood:                 43.640\n",
       "No. Observations:                   50   AIC:                            -83.28\n",
       "Df Residuals:                       48   BIC:                            -79.46\n",
       "Df Model:                            1                                         \n",
       "Covariance Type:             nonrobust                                         \n",
       "================================================================================\n",
       "                   coef    std err          t      P>|t|      [0.025      0.975]\n",
       "--------------------------------------------------------------------------------\n",
       "const            0.3707      0.024     15.629      0.000       0.323       0.418\n",
       "Transitivity     0.3745      0.072      5.219      0.000       0.230       0.519\n",
       "==============================================================================\n",
       "Omnibus:                       14.274   Durbin-Watson:                   1.710\n",
       "Prob(Omnibus):                  0.001   Jarque-Bera (JB):               20.489\n",
       "Skew:                          -0.912   Prob(JB):                     3.56e-05\n",
       "Kurtosis:                       5.551   Cond. No.                         5.27\n",
       "==============================================================================\n",
       "\n",
       "Warnings:\n",
       "[1] Standard Errors assume that the covariance matrix of the errors is correctly specified.\n",
       "\"\"\""
      ]
     },
     "execution_count": 163,
     "metadata": {},
     "output_type": "execute_result"
    }
   ],
   "source": [
    "X = sm.add_constant(X) # adding a constant\n",
    " \n",
    "model = sm.OLS(Y, X).fit()\n",
    "predictions = model.predict(X) \n",
    " \n",
    "print_model = model.summary()\n",
    "print_model"
   ]
  },
  {
   "cell_type": "code",
   "execution_count": 164,
   "metadata": {
    "scrolled": false
   },
   "outputs": [
    {
     "data": {
      "text/plain": [
       "const           1.850772e-20\n",
       "Transitivity    3.814784e-06\n",
       "dtype: float64"
      ]
     },
     "execution_count": 164,
     "metadata": {},
     "output_type": "execute_result"
    }
   ],
   "source": [
    "model.pvalues[model.pvalues < 0.05]"
   ]
  },
  {
   "cell_type": "code",
   "execution_count": 165,
   "metadata": {},
   "outputs": [
    {
     "data": {
      "text/plain": [
       "const           1.850772e-20\n",
       "Transitivity    3.814784e-06\n",
       "dtype: float64"
      ]
     },
     "execution_count": 165,
     "metadata": {},
     "output_type": "execute_result"
    }
   ],
   "source": [
    "model.pvalues[model.pvalues < 0.01]"
   ]
  },
  {
   "cell_type": "markdown",
   "metadata": {},
   "source": [
    "### Independent variable: Assortativity"
   ]
  },
  {
   "cell_type": "code",
   "execution_count": 166,
   "metadata": {},
   "outputs": [],
   "source": [
    "X = df_macro[['Assortativity']]"
   ]
  },
  {
   "cell_type": "code",
   "execution_count": 167,
   "metadata": {
    "scrolled": false
   },
   "outputs": [],
   "source": [
    "Y = df_dependent_variables['Mean-LocalComponent']"
   ]
  },
  {
   "cell_type": "markdown",
   "metadata": {},
   "source": [
    "#### with `sklearn`"
   ]
  },
  {
   "cell_type": "code",
   "execution_count": 168,
   "metadata": {},
   "outputs": [
    {
     "data": {
      "text/plain": [
       "LinearRegression(copy_X=True, fit_intercept=True, n_jobs=None, normalize=False)"
      ]
     },
     "execution_count": 168,
     "metadata": {},
     "output_type": "execute_result"
    }
   ],
   "source": [
    "regr = LinearRegression()\n",
    "regr.fit(X, Y)"
   ]
  },
  {
   "cell_type": "code",
   "execution_count": 169,
   "metadata": {},
   "outputs": [
    {
     "name": "stdout",
     "output_type": "stream",
     "text": [
      "Intercept: \n",
      " 0.47214084494463554\n",
      "Coefficients: \n",
      " [0.13266823]\n"
     ]
    }
   ],
   "source": [
    "print('Intercept: \\n', regr.intercept_)\n",
    "print('Coefficients: \\n', regr.coef_)"
   ]
  },
  {
   "cell_type": "markdown",
   "metadata": {},
   "source": [
    "#### Plot "
   ]
  },
  {
   "cell_type": "code",
   "execution_count": 170,
   "metadata": {
    "scrolled": false
   },
   "outputs": [
    {
     "data": {
      "image/png": "[encoded data removed]",
      "text/plain": [
       "<Figure size 432x288 with 1 Axes>"
      ]
     },
     "metadata": {
      "needs_background": "light"
     },
     "output_type": "display_data"
    }
   ],
   "source": [
    "predictions = regr.predict(X)\n",
    "# plt.figure(figsize=(16, 8))\n",
    "plt.scatter(\n",
    "    df_macro['Assortativity'],\n",
    "    df_dependent_variables['Mean-LocalComponent'],\n",
    "    c='red'\n",
    ")\n",
    "plt.plot(\n",
    "    df_macro['Assortativity'],\n",
    "    predictions,\n",
    "    c='black',\n",
    "    linewidth=2\n",
    ")\n",
    "plt.xlabel(\"Assortativity\")\n",
    "plt.ylabel(\"Mean-LocalComponent\")\n",
    "plt.show()"
   ]
  },
  {
   "cell_type": "markdown",
   "metadata": {},
   "source": [
    "#### with `statsmodels`"
   ]
  },
  {
   "cell_type": "code",
   "execution_count": 171,
   "metadata": {
    "scrolled": false
   },
   "outputs": [
    {
     "data": {
      "text/html": [
       "<table class=\"simpletable\">\n",
       "<caption>OLS Regression Results</caption>\n",
       "<tr>\n",
       "  <th>Dep. Variable:</th>    <td>Mean-LocalComponent</td> <th>  R-squared:         </th> <td>   0.076</td>\n",
       "</tr>\n",
       "<tr>\n",
       "  <th>Model:</th>                    <td>OLS</td>         <th>  Adj. R-squared:    </th> <td>   0.056</td>\n",
       "</tr>\n",
       "<tr>\n",
       "  <th>Method:</th>              <td>Least Squares</td>    <th>  F-statistic:       </th> <td>   3.925</td>\n",
       "</tr>\n",
       "<tr>\n",
       "  <th>Date:</th>              <td>Tue, 08 Dec 2020</td>   <th>  Prob (F-statistic):</th>  <td>0.0533</td> \n",
       "</tr>\n",
       "<tr>\n",
       "  <th>Time:</th>                  <td>23:13:07</td>       <th>  Log-Likelihood:    </th> <td>  34.370</td>\n",
       "</tr>\n",
       "<tr>\n",
       "  <th>No. Observations:</th>       <td>    50</td>        <th>  AIC:               </th> <td>  -64.74</td>\n",
       "</tr>\n",
       "<tr>\n",
       "  <th>Df Residuals:</th>           <td>    48</td>        <th>  BIC:               </th> <td>  -60.92</td>\n",
       "</tr>\n",
       "<tr>\n",
       "  <th>Df Model:</th>               <td>     1</td>        <th>                     </th>     <td> </td>   \n",
       "</tr>\n",
       "<tr>\n",
       "  <th>Covariance Type:</th>       <td>nonrobust</td>      <th>                     </th>     <td> </td>   \n",
       "</tr>\n",
       "</table>\n",
       "<table class=\"simpletable\">\n",
       "<tr>\n",
       "        <td></td>           <th>coef</th>     <th>std err</th>      <th>t</th>      <th>P>|t|</th>  <th>[0.025</th>    <th>0.975]</th>  \n",
       "</tr>\n",
       "<tr>\n",
       "  <th>const</th>         <td>    0.4721</td> <td>    0.018</td> <td>   26.722</td> <td> 0.000</td> <td>    0.437</td> <td>    0.508</td>\n",
       "</tr>\n",
       "<tr>\n",
       "  <th>Assortativity</th> <td>    0.1327</td> <td>    0.067</td> <td>    1.981</td> <td> 0.053</td> <td>   -0.002</td> <td>    0.267</td>\n",
       "</tr>\n",
       "</table>\n",
       "<table class=\"simpletable\">\n",
       "<tr>\n",
       "  <th>Omnibus:</th>       <td> 2.909</td> <th>  Durbin-Watson:     </th> <td>   1.700</td>\n",
       "</tr>\n",
       "<tr>\n",
       "  <th>Prob(Omnibus):</th> <td> 0.234</td> <th>  Jarque-Bera (JB):  </th> <td>   1.985</td>\n",
       "</tr>\n",
       "<tr>\n",
       "  <th>Skew:</th>          <td>-0.451</td> <th>  Prob(JB):          </th> <td>   0.371</td>\n",
       "</tr>\n",
       "<tr>\n",
       "  <th>Kurtosis:</th>      <td> 3.373</td> <th>  Cond. No.          </th> <td>    3.82</td>\n",
       "</tr>\n",
       "</table><br/><br/>Warnings:<br/>[1] Standard Errors assume that the covariance matrix of the errors is correctly specified."
      ],
      "text/plain": [
       "<class 'statsmodels.iolib.summary.Summary'>\n",
       "\"\"\"\n",
       "                             OLS Regression Results                            \n",
       "===============================================================================\n",
       "Dep. Variable:     Mean-LocalComponent   R-squared:                       0.076\n",
       "Model:                             OLS   Adj. R-squared:                  0.056\n",
       "Method:                  Least Squares   F-statistic:                     3.925\n",
       "Date:                 Tue, 08 Dec 2020   Prob (F-statistic):             0.0533\n",
       "Time:                         23:13:07   Log-Likelihood:                 34.370\n",
       "No. Observations:                   50   AIC:                            -64.74\n",
       "Df Residuals:                       48   BIC:                            -60.92\n",
       "Df Model:                            1                                         \n",
       "Covariance Type:             nonrobust                                         \n",
       "=================================================================================\n",
       "                    coef    std err          t      P>|t|      [0.025      0.975]\n",
       "---------------------------------------------------------------------------------\n",
       "const             0.4721      0.018     26.722      0.000       0.437       0.508\n",
       "Assortativity     0.1327      0.067      1.981      0.053      -0.002       0.267\n",
       "==============================================================================\n",
       "Omnibus:                        2.909   Durbin-Watson:                   1.700\n",
       "Prob(Omnibus):                  0.234   Jarque-Bera (JB):                1.985\n",
       "Skew:                          -0.451   Prob(JB):                        0.371\n",
       "Kurtosis:                       3.373   Cond. No.                         3.82\n",
       "==============================================================================\n",
       "\n",
       "Warnings:\n",
       "[1] Standard Errors assume that the covariance matrix of the errors is correctly specified.\n",
       "\"\"\""
      ]
     },
     "execution_count": 171,
     "metadata": {},
     "output_type": "execute_result"
    }
   ],
   "source": [
    "X = sm.add_constant(X) # adding a constant\n",
    " \n",
    "model = sm.OLS(Y, X).fit()\n",
    "predictions = model.predict(X) \n",
    " \n",
    "print_model = model.summary()\n",
    "print_model"
   ]
  },
  {
   "cell_type": "code",
   "execution_count": 172,
   "metadata": {
    "scrolled": true
   },
   "outputs": [
    {
     "data": {
      "text/plain": [
       "const    1.798537e-30\n",
       "dtype: float64"
      ]
     },
     "execution_count": 172,
     "metadata": {},
     "output_type": "execute_result"
    }
   ],
   "source": [
    "model.pvalues[model.pvalues < 0.05]"
   ]
  },
  {
   "cell_type": "markdown",
   "metadata": {},
   "source": [
    "### Dependent variable: Diameter"
   ]
  },
  {
   "cell_type": "code",
   "execution_count": 173,
   "metadata": {},
   "outputs": [],
   "source": [
    "X = df_macro[['Diameter']]"
   ]
  },
  {
   "cell_type": "code",
   "execution_count": 174,
   "metadata": {
    "scrolled": false
   },
   "outputs": [],
   "source": [
    "Y = df_dependent_variables['Mean-LocalComponent']"
   ]
  },
  {
   "cell_type": "markdown",
   "metadata": {},
   "source": [
    "#### with `sklearn`"
   ]
  },
  {
   "cell_type": "code",
   "execution_count": 175,
   "metadata": {},
   "outputs": [
    {
     "data": {
      "text/plain": [
       "LinearRegression(copy_X=True, fit_intercept=True, n_jobs=None, normalize=False)"
      ]
     },
     "execution_count": 175,
     "metadata": {},
     "output_type": "execute_result"
    }
   ],
   "source": [
    "regr = LinearRegression()\n",
    "regr.fit(X, Y)"
   ]
  },
  {
   "cell_type": "code",
   "execution_count": 176,
   "metadata": {},
   "outputs": [
    {
     "name": "stdout",
     "output_type": "stream",
     "text": [
      "Intercept: \n",
      " 0.5064524395115365\n",
      "Coefficients: \n",
      " [-0.00280799]\n"
     ]
    }
   ],
   "source": [
    "print('Intercept: \\n', regr.intercept_)\n",
    "print('Coefficients: \\n', regr.coef_)"
   ]
  },
  {
   "cell_type": "markdown",
   "metadata": {},
   "source": [
    "#### Plot "
   ]
  },
  {
   "cell_type": "code",
   "execution_count": 177,
   "metadata": {
    "scrolled": false
   },
   "outputs": [
    {
     "data": {
      "image/png": "[encoded data removed]",
      "text/plain": [
       "<Figure size 432x288 with 1 Axes>"
      ]
     },
     "metadata": {
      "needs_background": "light"
     },
     "output_type": "display_data"
    }
   ],
   "source": [
    "predictions = regr.predict(X)\n",
    "#plt.figure(figsize=(16, 8))\n",
    "plt.scatter(\n",
    "    df_macro['Diameter'],\n",
    "    df_dependent_variables['Mean-LocalComponent'],\n",
    "    c='red'\n",
    ")\n",
    "plt.plot(\n",
    "    df_macro['Diameter'],\n",
    "    predictions,\n",
    "    c='black',\n",
    "    linewidth=2\n",
    ")\n",
    "plt.xlabel(\"Diameter\")\n",
    "plt.ylabel(\"Mean-LocalComponent\")\n",
    "plt.show()"
   ]
  },
  {
   "cell_type": "markdown",
   "metadata": {},
   "source": [
    "#### with `statsmodels`"
   ]
  },
  {
   "cell_type": "code",
   "execution_count": 178,
   "metadata": {
    "scrolled": false
   },
   "outputs": [
    {
     "data": {
      "text/html": [
       "<table class=\"simpletable\">\n",
       "<caption>OLS Regression Results</caption>\n",
       "<tr>\n",
       "  <th>Dep. Variable:</th>    <td>Mean-LocalComponent</td> <th>  R-squared:         </th> <td>   0.060</td>\n",
       "</tr>\n",
       "<tr>\n",
       "  <th>Model:</th>                    <td>OLS</td>         <th>  Adj. R-squared:    </th> <td>   0.040</td>\n",
       "</tr>\n",
       "<tr>\n",
       "  <th>Method:</th>              <td>Least Squares</td>    <th>  F-statistic:       </th> <td>   3.045</td>\n",
       "</tr>\n",
       "<tr>\n",
       "  <th>Date:</th>              <td>Tue, 08 Dec 2020</td>   <th>  Prob (F-statistic):</th>  <td>0.0874</td> \n",
       "</tr>\n",
       "<tr>\n",
       "  <th>Time:</th>                  <td>23:13:15</td>       <th>  Log-Likelihood:    </th> <td>  33.942</td>\n",
       "</tr>\n",
       "<tr>\n",
       "  <th>No. Observations:</th>       <td>    50</td>        <th>  AIC:               </th> <td>  -63.88</td>\n",
       "</tr>\n",
       "<tr>\n",
       "  <th>Df Residuals:</th>           <td>    48</td>        <th>  BIC:               </th> <td>  -60.06</td>\n",
       "</tr>\n",
       "<tr>\n",
       "  <th>Df Model:</th>               <td>     1</td>        <th>                     </th>     <td> </td>   \n",
       "</tr>\n",
       "<tr>\n",
       "  <th>Covariance Type:</th>       <td>nonrobust</td>      <th>                     </th>     <td> </td>   \n",
       "</tr>\n",
       "</table>\n",
       "<table class=\"simpletable\">\n",
       "<tr>\n",
       "      <td></td>        <th>coef</th>     <th>std err</th>      <th>t</th>      <th>P>|t|</th>  <th>[0.025</th>    <th>0.975]</th>  \n",
       "</tr>\n",
       "<tr>\n",
       "  <th>const</th>    <td>    0.5065</td> <td>    0.028</td> <td>   18.003</td> <td> 0.000</td> <td>    0.450</td> <td>    0.563</td>\n",
       "</tr>\n",
       "<tr>\n",
       "  <th>Diameter</th> <td>   -0.0028</td> <td>    0.002</td> <td>   -1.745</td> <td> 0.087</td> <td>   -0.006</td> <td>    0.000</td>\n",
       "</tr>\n",
       "</table>\n",
       "<table class=\"simpletable\">\n",
       "<tr>\n",
       "  <th>Omnibus:</th>       <td> 9.050</td> <th>  Durbin-Watson:     </th> <td>   1.606</td>\n",
       "</tr>\n",
       "<tr>\n",
       "  <th>Prob(Omnibus):</th> <td> 0.011</td> <th>  Jarque-Bera (JB):  </th> <td>   8.367</td>\n",
       "</tr>\n",
       "<tr>\n",
       "  <th>Skew:</th>          <td>-0.947</td> <th>  Prob(JB):          </th> <td>  0.0152</td>\n",
       "</tr>\n",
       "<tr>\n",
       "  <th>Kurtosis:</th>      <td> 3.655</td> <th>  Cond. No.          </th> <td>    27.8</td>\n",
       "</tr>\n",
       "</table><br/><br/>Warnings:<br/>[1] Standard Errors assume that the covariance matrix of the errors is correctly specified."
      ],
      "text/plain": [
       "<class 'statsmodels.iolib.summary.Summary'>\n",
       "\"\"\"\n",
       "                             OLS Regression Results                            \n",
       "===============================================================================\n",
       "Dep. Variable:     Mean-LocalComponent   R-squared:                       0.060\n",
       "Model:                             OLS   Adj. R-squared:                  0.040\n",
       "Method:                  Least Squares   F-statistic:                     3.045\n",
       "Date:                 Tue, 08 Dec 2020   Prob (F-statistic):             0.0874\n",
       "Time:                         23:13:15   Log-Likelihood:                 33.942\n",
       "No. Observations:                   50   AIC:                            -63.88\n",
       "Df Residuals:                       48   BIC:                            -60.06\n",
       "Df Model:                            1                                         \n",
       "Covariance Type:             nonrobust                                         \n",
       "==============================================================================\n",
       "                 coef    std err          t      P>|t|      [0.025      0.975]\n",
       "------------------------------------------------------------------------------\n",
       "const          0.5065      0.028     18.003      0.000       0.450       0.563\n",
       "Diameter      -0.0028      0.002     -1.745      0.087      -0.006       0.000\n",
       "==============================================================================\n",
       "Omnibus:                        9.050   Durbin-Watson:                   1.606\n",
       "Prob(Omnibus):                  0.011   Jarque-Bera (JB):                8.367\n",
       "Skew:                          -0.947   Prob(JB):                       0.0152\n",
       "Kurtosis:                       3.655   Cond. No.                         27.8\n",
       "==============================================================================\n",
       "\n",
       "Warnings:\n",
       "[1] Standard Errors assume that the covariance matrix of the errors is correctly specified.\n",
       "\"\"\""
      ]
     },
     "execution_count": 178,
     "metadata": {},
     "output_type": "execute_result"
    }
   ],
   "source": [
    "X = sm.add_constant(X) # adding a constant\n",
    " \n",
    "model = sm.OLS(Y, X).fit()\n",
    "predictions = model.predict(X) \n",
    " \n",
    "print_model = model.summary()\n",
    "print_model"
   ]
  },
  {
   "cell_type": "code",
   "execution_count": 179,
   "metadata": {
    "scrolled": true
   },
   "outputs": [
    {
     "data": {
      "text/plain": [
       "const    5.517362e-23\n",
       "dtype: float64"
      ]
     },
     "execution_count": 179,
     "metadata": {},
     "output_type": "execute_result"
    }
   ],
   "source": [
    "model.pvalues[model.pvalues < 0.05]"
   ]
  },
  {
   "cell_type": "markdown",
   "metadata": {},
   "source": [
    "### Independent variable: Efficiency"
   ]
  },
  {
   "cell_type": "code",
   "execution_count": 180,
   "metadata": {},
   "outputs": [],
   "source": [
    "X = df_macro[['Efficiency']]"
   ]
  },
  {
   "cell_type": "code",
   "execution_count": 181,
   "metadata": {
    "scrolled": false
   },
   "outputs": [],
   "source": [
    "Y = df_dependent_variables['Mean-LocalComponent']"
   ]
  },
  {
   "cell_type": "markdown",
   "metadata": {},
   "source": [
    "#### with `sklearn`"
   ]
  },
  {
   "cell_type": "code",
   "execution_count": 182,
   "metadata": {},
   "outputs": [
    {
     "data": {
      "text/plain": [
       "LinearRegression(copy_X=True, fit_intercept=True, n_jobs=None, normalize=False)"
      ]
     },
     "execution_count": 182,
     "metadata": {},
     "output_type": "execute_result"
    }
   ],
   "source": [
    "regr = LinearRegression()\n",
    "regr.fit(X, Y)"
   ]
  },
  {
   "cell_type": "code",
   "execution_count": 183,
   "metadata": {},
   "outputs": [
    {
     "name": "stdout",
     "output_type": "stream",
     "text": [
      "Intercept: \n",
      " 0.3666970818062054\n",
      "Coefficients: \n",
      " [0.34306337]\n"
     ]
    }
   ],
   "source": [
    "print('Intercept: \\n', regr.intercept_)\n",
    "print('Coefficients: \\n', regr.coef_)"
   ]
  },
  {
   "cell_type": "markdown",
   "metadata": {},
   "source": [
    "#### Plot "
   ]
  },
  {
   "cell_type": "code",
   "execution_count": 184,
   "metadata": {
    "scrolled": false
   },
   "outputs": [
    {
     "data": {
      "image/png": "[encoded data removed]",
      "text/plain": [
       "<Figure size 432x288 with 1 Axes>"
      ]
     },
     "metadata": {
      "needs_background": "light"
     },
     "output_type": "display_data"
    }
   ],
   "source": [
    "predictions = regr.predict(X)\n",
    "# plt.figure(figsize=(16, 8))\n",
    "plt.scatter(\n",
    "    df_macro['Efficiency'],\n",
    "    df_dependent_variables['Mean-LocalComponent'],\n",
    "    c='red'\n",
    ")\n",
    "plt.plot(\n",
    "    df_macro['Efficiency'],\n",
    "    predictions,\n",
    "    c='black',\n",
    "    linewidth=2\n",
    ")\n",
    "plt.xlabel(\"Efficiency\")\n",
    "plt.ylabel(\"Mean-LocalComponent\")\n",
    "plt.show()"
   ]
  },
  {
   "cell_type": "markdown",
   "metadata": {},
   "source": [
    "#### with `statsmodels`"
   ]
  },
  {
   "cell_type": "code",
   "execution_count": 185,
   "metadata": {
    "scrolled": false
   },
   "outputs": [
    {
     "data": {
      "text/html": [
       "<table class=\"simpletable\">\n",
       "<caption>OLS Regression Results</caption>\n",
       "<tr>\n",
       "  <th>Dep. Variable:</th>    <td>Mean-LocalComponent</td> <th>  R-squared:         </th> <td>   0.107</td>\n",
       "</tr>\n",
       "<tr>\n",
       "  <th>Model:</th>                    <td>OLS</td>         <th>  Adj. R-squared:    </th> <td>   0.089</td>\n",
       "</tr>\n",
       "<tr>\n",
       "  <th>Method:</th>              <td>Least Squares</td>    <th>  F-statistic:       </th> <td>   5.774</td>\n",
       "</tr>\n",
       "<tr>\n",
       "  <th>Date:</th>              <td>Tue, 08 Dec 2020</td>   <th>  Prob (F-statistic):</th>  <td>0.0202</td> \n",
       "</tr>\n",
       "<tr>\n",
       "  <th>Time:</th>                  <td>23:13:26</td>       <th>  Log-Likelihood:    </th> <td>  35.245</td>\n",
       "</tr>\n",
       "<tr>\n",
       "  <th>No. Observations:</th>       <td>    50</td>        <th>  AIC:               </th> <td>  -66.49</td>\n",
       "</tr>\n",
       "<tr>\n",
       "  <th>Df Residuals:</th>           <td>    48</td>        <th>  BIC:               </th> <td>  -62.67</td>\n",
       "</tr>\n",
       "<tr>\n",
       "  <th>Df Model:</th>               <td>     1</td>        <th>                     </th>     <td> </td>   \n",
       "</tr>\n",
       "<tr>\n",
       "  <th>Covariance Type:</th>       <td>nonrobust</td>      <th>                     </th>     <td> </td>   \n",
       "</tr>\n",
       "</table>\n",
       "<table class=\"simpletable\">\n",
       "<tr>\n",
       "       <td></td>         <th>coef</th>     <th>std err</th>      <th>t</th>      <th>P>|t|</th>  <th>[0.025</th>    <th>0.975]</th>  \n",
       "</tr>\n",
       "<tr>\n",
       "  <th>const</th>      <td>    0.3667</td> <td>    0.046</td> <td>    8.028</td> <td> 0.000</td> <td>    0.275</td> <td>    0.459</td>\n",
       "</tr>\n",
       "<tr>\n",
       "  <th>Efficiency</th> <td>    0.3431</td> <td>    0.143</td> <td>    2.403</td> <td> 0.020</td> <td>    0.056</td> <td>    0.630</td>\n",
       "</tr>\n",
       "</table>\n",
       "<table class=\"simpletable\">\n",
       "<tr>\n",
       "  <th>Omnibus:</th>       <td>12.255</td> <th>  Durbin-Watson:     </th> <td>   1.652</td>\n",
       "</tr>\n",
       "<tr>\n",
       "  <th>Prob(Omnibus):</th> <td> 0.002</td> <th>  Jarque-Bera (JB):  </th> <td>  12.443</td>\n",
       "</tr>\n",
       "<tr>\n",
       "  <th>Skew:</th>          <td>-1.104</td> <th>  Prob(JB):          </th> <td> 0.00199</td>\n",
       "</tr>\n",
       "<tr>\n",
       "  <th>Kurtosis:</th>      <td> 4.046</td> <th>  Cond. No.          </th> <td>    9.01</td>\n",
       "</tr>\n",
       "</table><br/><br/>Warnings:<br/>[1] Standard Errors assume that the covariance matrix of the errors is correctly specified."
      ],
      "text/plain": [
       "<class 'statsmodels.iolib.summary.Summary'>\n",
       "\"\"\"\n",
       "                             OLS Regression Results                            \n",
       "===============================================================================\n",
       "Dep. Variable:     Mean-LocalComponent   R-squared:                       0.107\n",
       "Model:                             OLS   Adj. R-squared:                  0.089\n",
       "Method:                  Least Squares   F-statistic:                     5.774\n",
       "Date:                 Tue, 08 Dec 2020   Prob (F-statistic):             0.0202\n",
       "Time:                         23:13:26   Log-Likelihood:                 35.245\n",
       "No. Observations:                   50   AIC:                            -66.49\n",
       "Df Residuals:                       48   BIC:                            -62.67\n",
       "Df Model:                            1                                         \n",
       "Covariance Type:             nonrobust                                         \n",
       "==============================================================================\n",
       "                 coef    std err          t      P>|t|      [0.025      0.975]\n",
       "------------------------------------------------------------------------------\n",
       "const          0.3667      0.046      8.028      0.000       0.275       0.459\n",
       "Efficiency     0.3431      0.143      2.403      0.020       0.056       0.630\n",
       "==============================================================================\n",
       "Omnibus:                       12.255   Durbin-Watson:                   1.652\n",
       "Prob(Omnibus):                  0.002   Jarque-Bera (JB):               12.443\n",
       "Skew:                          -1.104   Prob(JB):                      0.00199\n",
       "Kurtosis:                       4.046   Cond. No.                         9.01\n",
       "==============================================================================\n",
       "\n",
       "Warnings:\n",
       "[1] Standard Errors assume that the covariance matrix of the errors is correctly specified.\n",
       "\"\"\""
      ]
     },
     "execution_count": 185,
     "metadata": {},
     "output_type": "execute_result"
    }
   ],
   "source": [
    "X = sm.add_constant(X) # adding a constant\n",
    " \n",
    "model = sm.OLS(Y, X).fit()\n",
    "predictions = model.predict(X) \n",
    " \n",
    "print_model = model.summary()\n",
    "print_model"
   ]
  },
  {
   "cell_type": "code",
   "execution_count": 186,
   "metadata": {
    "scrolled": false
   },
   "outputs": [
    {
     "data": {
      "text/plain": [
       "const         1.997894e-10\n",
       "Efficiency    2.017868e-02\n",
       "dtype: float64"
      ]
     },
     "execution_count": 186,
     "metadata": {},
     "output_type": "execute_result"
    }
   ],
   "source": [
    "model.pvalues[model.pvalues < 0.05]"
   ]
  },
  {
   "cell_type": "code",
   "execution_count": 187,
   "metadata": {},
   "outputs": [
    {
     "data": {
      "text/plain": [
       "const    1.997894e-10\n",
       "dtype: float64"
      ]
     },
     "execution_count": 187,
     "metadata": {},
     "output_type": "execute_result"
    }
   ],
   "source": [
    "model.pvalues[model.pvalues < 0.01]"
   ]
  },
  {
   "cell_type": "markdown",
   "metadata": {},
   "source": [
    "### Independent variable: Modularity"
   ]
  },
  {
   "cell_type": "code",
   "execution_count": 188,
   "metadata": {},
   "outputs": [],
   "source": [
    "X = df_meso[['Modularity']]"
   ]
  },
  {
   "cell_type": "code",
   "execution_count": 189,
   "metadata": {
    "scrolled": false
   },
   "outputs": [],
   "source": [
    "Y = df_dependent_variables['Mean-LocalComponent']"
   ]
  },
  {
   "cell_type": "markdown",
   "metadata": {},
   "source": [
    "#### with `sklearn`"
   ]
  },
  {
   "cell_type": "code",
   "execution_count": 190,
   "metadata": {},
   "outputs": [
    {
     "data": {
      "text/plain": [
       "LinearRegression(copy_X=True, fit_intercept=True, n_jobs=None, normalize=False)"
      ]
     },
     "execution_count": 190,
     "metadata": {},
     "output_type": "execute_result"
    }
   ],
   "source": [
    "regr = LinearRegression()\n",
    "regr.fit(X, Y)"
   ]
  },
  {
   "cell_type": "code",
   "execution_count": 191,
   "metadata": {},
   "outputs": [
    {
     "name": "stdout",
     "output_type": "stream",
     "text": [
      "Intercept: \n",
      " 0.5715341613630903\n",
      "Coefficients: \n",
      " [-0.17874439]\n"
     ]
    }
   ],
   "source": [
    "print('Intercept: \\n', regr.intercept_)\n",
    "print('Coefficients: \\n', regr.coef_)"
   ]
  },
  {
   "cell_type": "markdown",
   "metadata": {},
   "source": [
    "#### Plot "
   ]
  },
  {
   "cell_type": "code",
   "execution_count": 192,
   "metadata": {
    "scrolled": false
   },
   "outputs": [
    {
     "data": {
      "image/png": "[encoded data removed]",
      "text/plain": [
       "<Figure size 432x288 with 1 Axes>"
      ]
     },
     "metadata": {
      "needs_background": "light"
     },
     "output_type": "display_data"
    }
   ],
   "source": [
    "predictions = regr.predict(X)\n",
    "# plt.figure(figsize=(16, 8))\n",
    "plt.scatter(\n",
    "    df_meso['Modularity'],\n",
    "    df_dependent_variables['Mean-LocalComponent'],\n",
    "    c='red'\n",
    ")\n",
    "plt.plot(\n",
    "    df_meso['Modularity'],\n",
    "    predictions,\n",
    "    c='black',\n",
    "    linewidth=2\n",
    ")\n",
    "plt.xlabel(\"Modularity\")\n",
    "plt.ylabel(\"Mean-LocalComponent\")\n",
    "plt.show()"
   ]
  },
  {
   "cell_type": "markdown",
   "metadata": {},
   "source": [
    "#### with `statsmodels`"
   ]
  },
  {
   "cell_type": "code",
   "execution_count": 193,
   "metadata": {
    "scrolled": false
   },
   "outputs": [
    {
     "data": {
      "text/html": [
       "<table class=\"simpletable\">\n",
       "<caption>OLS Regression Results</caption>\n",
       "<tr>\n",
       "  <th>Dep. Variable:</th>    <td>Mean-LocalComponent</td> <th>  R-squared:         </th> <td>   0.075</td>\n",
       "</tr>\n",
       "<tr>\n",
       "  <th>Model:</th>                    <td>OLS</td>         <th>  Adj. R-squared:    </th> <td>   0.056</td>\n",
       "</tr>\n",
       "<tr>\n",
       "  <th>Method:</th>              <td>Least Squares</td>    <th>  F-statistic:       </th> <td>   3.894</td>\n",
       "</tr>\n",
       "<tr>\n",
       "  <th>Date:</th>              <td>Tue, 08 Dec 2020</td>   <th>  Prob (F-statistic):</th>  <td>0.0542</td> \n",
       "</tr>\n",
       "<tr>\n",
       "  <th>Time:</th>                  <td>23:13:36</td>       <th>  Log-Likelihood:    </th> <td>  34.355</td>\n",
       "</tr>\n",
       "<tr>\n",
       "  <th>No. Observations:</th>       <td>    50</td>        <th>  AIC:               </th> <td>  -64.71</td>\n",
       "</tr>\n",
       "<tr>\n",
       "  <th>Df Residuals:</th>           <td>    48</td>        <th>  BIC:               </th> <td>  -60.89</td>\n",
       "</tr>\n",
       "<tr>\n",
       "  <th>Df Model:</th>               <td>     1</td>        <th>                     </th>     <td> </td>   \n",
       "</tr>\n",
       "<tr>\n",
       "  <th>Covariance Type:</th>       <td>nonrobust</td>      <th>                     </th>     <td> </td>   \n",
       "</tr>\n",
       "</table>\n",
       "<table class=\"simpletable\">\n",
       "<tr>\n",
       "       <td></td>         <th>coef</th>     <th>std err</th>      <th>t</th>      <th>P>|t|</th>  <th>[0.025</th>    <th>0.975]</th>  \n",
       "</tr>\n",
       "<tr>\n",
       "  <th>const</th>      <td>    0.5715</td> <td>    0.055</td> <td>   10.358</td> <td> 0.000</td> <td>    0.461</td> <td>    0.682</td>\n",
       "</tr>\n",
       "<tr>\n",
       "  <th>Modularity</th> <td>   -0.1787</td> <td>    0.091</td> <td>   -1.973</td> <td> 0.054</td> <td>   -0.361</td> <td>    0.003</td>\n",
       "</tr>\n",
       "</table>\n",
       "<table class=\"simpletable\">\n",
       "<tr>\n",
       "  <th>Omnibus:</th>       <td> 5.449</td> <th>  Durbin-Watson:     </th> <td>   1.577</td>\n",
       "</tr>\n",
       "<tr>\n",
       "  <th>Prob(Omnibus):</th> <td> 0.066</td> <th>  Jarque-Bera (JB):  </th> <td>   5.098</td>\n",
       "</tr>\n",
       "<tr>\n",
       "  <th>Skew:</th>          <td>-0.782</td> <th>  Prob(JB):          </th> <td>  0.0782</td>\n",
       "</tr>\n",
       "<tr>\n",
       "  <th>Kurtosis:</th>      <td> 2.946</td> <th>  Cond. No.          </th> <td>    6.92</td>\n",
       "</tr>\n",
       "</table><br/><br/>Warnings:<br/>[1] Standard Errors assume that the covariance matrix of the errors is correctly specified."
      ],
      "text/plain": [
       "<class 'statsmodels.iolib.summary.Summary'>\n",
       "\"\"\"\n",
       "                             OLS Regression Results                            \n",
       "===============================================================================\n",
       "Dep. Variable:     Mean-LocalComponent   R-squared:                       0.075\n",
       "Model:                             OLS   Adj. R-squared:                  0.056\n",
       "Method:                  Least Squares   F-statistic:                     3.894\n",
       "Date:                 Tue, 08 Dec 2020   Prob (F-statistic):             0.0542\n",
       "Time:                         23:13:36   Log-Likelihood:                 34.355\n",
       "No. Observations:                   50   AIC:                            -64.71\n",
       "Df Residuals:                       48   BIC:                            -60.89\n",
       "Df Model:                            1                                         \n",
       "Covariance Type:             nonrobust                                         \n",
       "==============================================================================\n",
       "                 coef    std err          t      P>|t|      [0.025      0.975]\n",
       "------------------------------------------------------------------------------\n",
       "const          0.5715      0.055     10.358      0.000       0.461       0.682\n",
       "Modularity    -0.1787      0.091     -1.973      0.054      -0.361       0.003\n",
       "==============================================================================\n",
       "Omnibus:                        5.449   Durbin-Watson:                   1.577\n",
       "Prob(Omnibus):                  0.066   Jarque-Bera (JB):                5.098\n",
       "Skew:                          -0.782   Prob(JB):                       0.0782\n",
       "Kurtosis:                       2.946   Cond. No.                         6.92\n",
       "==============================================================================\n",
       "\n",
       "Warnings:\n",
       "[1] Standard Errors assume that the covariance matrix of the errors is correctly specified.\n",
       "\"\"\""
      ]
     },
     "execution_count": 193,
     "metadata": {},
     "output_type": "execute_result"
    }
   ],
   "source": [
    "X = sm.add_constant(X) # adding a constant\n",
    " \n",
    "model = sm.OLS(Y, X).fit()\n",
    "predictions = model.predict(X) \n",
    " \n",
    "print_model = model.summary()\n",
    "print_model"
   ]
  },
  {
   "cell_type": "code",
   "execution_count": 194,
   "metadata": {
    "scrolled": false
   },
   "outputs": [
    {
     "data": {
      "text/plain": [
       "const    7.897877e-14\n",
       "dtype: float64"
      ]
     },
     "execution_count": 194,
     "metadata": {},
     "output_type": "execute_result"
    }
   ],
   "source": [
    "model.pvalues[model.pvalues < 0.05]"
   ]
  },
  {
   "cell_type": "code",
   "execution_count": 195,
   "metadata": {},
   "outputs": [
    {
     "data": {
      "text/plain": [
       "const    7.897877e-14\n",
       "dtype: float64"
      ]
     },
     "execution_count": 195,
     "metadata": {},
     "output_type": "execute_result"
    }
   ],
   "source": [
    "model.pvalues[model.pvalues < 0.01]"
   ]
  },
  {
   "cell_type": "markdown",
   "metadata": {},
   "source": [
    "### Indpendent variable: Mixing parameter"
   ]
  },
  {
   "cell_type": "code",
   "execution_count": 196,
   "metadata": {},
   "outputs": [],
   "source": [
    "X = df_meso[['Mixing parameter']]"
   ]
  },
  {
   "cell_type": "code",
   "execution_count": 197,
   "metadata": {
    "scrolled": false
   },
   "outputs": [],
   "source": [
    "Y = df_dependent_variables['Mean-LocalComponent']"
   ]
  },
  {
   "cell_type": "markdown",
   "metadata": {},
   "source": [
    "#### with `sklearn`"
   ]
  },
  {
   "cell_type": "code",
   "execution_count": 198,
   "metadata": {},
   "outputs": [
    {
     "data": {
      "text/plain": [
       "LinearRegression(copy_X=True, fit_intercept=True, n_jobs=None, normalize=False)"
      ]
     },
     "execution_count": 198,
     "metadata": {},
     "output_type": "execute_result"
    }
   ],
   "source": [
    "regr = LinearRegression()\n",
    "regr.fit(X, Y)"
   ]
  },
  {
   "cell_type": "code",
   "execution_count": 199,
   "metadata": {},
   "outputs": [
    {
     "name": "stdout",
     "output_type": "stream",
     "text": [
      "Intercept: \n",
      " 0.5645162093930217\n",
      "Coefficients: \n",
      " [-0.3824899]\n"
     ]
    }
   ],
   "source": [
    "print('Intercept: \\n', regr.intercept_)\n",
    "print('Coefficients: \\n', regr.coef_)"
   ]
  },
  {
   "cell_type": "markdown",
   "metadata": {},
   "source": [
    "#### Plot "
   ]
  },
  {
   "cell_type": "code",
   "execution_count": 200,
   "metadata": {
    "scrolled": false
   },
   "outputs": [
    {
     "data": {
      "image/png": "[encoded data removed]",
      "text/plain": [
       "<Figure size 432x288 with 1 Axes>"
      ]
     },
     "metadata": {
      "needs_background": "light"
     },
     "output_type": "display_data"
    }
   ],
   "source": [
    "predictions = regr.predict(X)\n",
    "# plt.figure(figsize=(16, 8))\n",
    "plt.scatter(\n",
    "    df_meso['Mixing parameter'],\n",
    "    df_dependent_variables['Mean-LocalComponent'],\n",
    "    c='red'\n",
    ")\n",
    "plt.plot(\n",
    "    df_meso['Mixing parameter'],\n",
    "    predictions,\n",
    "    c='black',\n",
    "    linewidth=2\n",
    ")\n",
    "plt.xlabel(\"Mixing parameter\")\n",
    "plt.ylabel(\"Mean-LocalComponent\")\n",
    "plt.show()"
   ]
  },
  {
   "cell_type": "markdown",
   "metadata": {},
   "source": [
    "#### with `statsmodels`"
   ]
  },
  {
   "cell_type": "code",
   "execution_count": 201,
   "metadata": {
    "scrolled": false
   },
   "outputs": [
    {
     "data": {
      "text/html": [
       "<table class=\"simpletable\">\n",
       "<caption>OLS Regression Results</caption>\n",
       "<tr>\n",
       "  <th>Dep. Variable:</th>    <td>Mean-LocalComponent</td> <th>  R-squared:         </th> <td>   0.149</td>\n",
       "</tr>\n",
       "<tr>\n",
       "  <th>Model:</th>                    <td>OLS</td>         <th>  Adj. R-squared:    </th> <td>   0.131</td>\n",
       "</tr>\n",
       "<tr>\n",
       "  <th>Method:</th>              <td>Least Squares</td>    <th>  F-statistic:       </th> <td>   8.418</td>\n",
       "</tr>\n",
       "<tr>\n",
       "  <th>Date:</th>              <td>Tue, 08 Dec 2020</td>   <th>  Prob (F-statistic):</th>  <td>0.00559</td>\n",
       "</tr>\n",
       "<tr>\n",
       "  <th>Time:</th>                  <td>23:13:44</td>       <th>  Log-Likelihood:    </th> <td>  36.445</td>\n",
       "</tr>\n",
       "<tr>\n",
       "  <th>No. Observations:</th>       <td>    50</td>        <th>  AIC:               </th> <td>  -68.89</td>\n",
       "</tr>\n",
       "<tr>\n",
       "  <th>Df Residuals:</th>           <td>    48</td>        <th>  BIC:               </th> <td>  -65.07</td>\n",
       "</tr>\n",
       "<tr>\n",
       "  <th>Df Model:</th>               <td>     1</td>        <th>                     </th>     <td> </td>   \n",
       "</tr>\n",
       "<tr>\n",
       "  <th>Covariance Type:</th>       <td>nonrobust</td>      <th>                     </th>     <td> </td>   \n",
       "</tr>\n",
       "</table>\n",
       "<table class=\"simpletable\">\n",
       "<tr>\n",
       "          <td></td>            <th>coef</th>     <th>std err</th>      <th>t</th>      <th>P>|t|</th>  <th>[0.025</th>    <th>0.975]</th>  \n",
       "</tr>\n",
       "<tr>\n",
       "  <th>const</th>            <td>    0.5645</td> <td>    0.037</td> <td>   15.179</td> <td> 0.000</td> <td>    0.490</td> <td>    0.639</td>\n",
       "</tr>\n",
       "<tr>\n",
       "  <th>Mixing parameter</th> <td>   -0.3825</td> <td>    0.132</td> <td>   -2.901</td> <td> 0.006</td> <td>   -0.648</td> <td>   -0.117</td>\n",
       "</tr>\n",
       "</table>\n",
       "<table class=\"simpletable\">\n",
       "<tr>\n",
       "  <th>Omnibus:</th>       <td> 6.412</td> <th>  Durbin-Watson:     </th> <td>   1.736</td>\n",
       "</tr>\n",
       "<tr>\n",
       "  <th>Prob(Omnibus):</th> <td> 0.041</td> <th>  Jarque-Bera (JB):  </th> <td>   5.503</td>\n",
       "</tr>\n",
       "<tr>\n",
       "  <th>Skew:</th>          <td>-0.787</td> <th>  Prob(JB):          </th> <td>  0.0638</td>\n",
       "</tr>\n",
       "<tr>\n",
       "  <th>Kurtosis:</th>      <td> 3.403</td> <th>  Cond. No.          </th> <td>    8.33</td>\n",
       "</tr>\n",
       "</table><br/><br/>Warnings:<br/>[1] Standard Errors assume that the covariance matrix of the errors is correctly specified."
      ],
      "text/plain": [
       "<class 'statsmodels.iolib.summary.Summary'>\n",
       "\"\"\"\n",
       "                             OLS Regression Results                            \n",
       "===============================================================================\n",
       "Dep. Variable:     Mean-LocalComponent   R-squared:                       0.149\n",
       "Model:                             OLS   Adj. R-squared:                  0.131\n",
       "Method:                  Least Squares   F-statistic:                     8.418\n",
       "Date:                 Tue, 08 Dec 2020   Prob (F-statistic):            0.00559\n",
       "Time:                         23:13:44   Log-Likelihood:                 36.445\n",
       "No. Observations:                   50   AIC:                            -68.89\n",
       "Df Residuals:                       48   BIC:                            -65.07\n",
       "Df Model:                            1                                         \n",
       "Covariance Type:             nonrobust                                         \n",
       "====================================================================================\n",
       "                       coef    std err          t      P>|t|      [0.025      0.975]\n",
       "------------------------------------------------------------------------------------\n",
       "const                0.5645      0.037     15.179      0.000       0.490       0.639\n",
       "Mixing parameter    -0.3825      0.132     -2.901      0.006      -0.648      -0.117\n",
       "==============================================================================\n",
       "Omnibus:                        6.412   Durbin-Watson:                   1.736\n",
       "Prob(Omnibus):                  0.041   Jarque-Bera (JB):                5.503\n",
       "Skew:                          -0.787   Prob(JB):                       0.0638\n",
       "Kurtosis:                       3.403   Cond. No.                         8.33\n",
       "==============================================================================\n",
       "\n",
       "Warnings:\n",
       "[1] Standard Errors assume that the covariance matrix of the errors is correctly specified.\n",
       "\"\"\""
      ]
     },
     "execution_count": 201,
     "metadata": {},
     "output_type": "execute_result"
    }
   ],
   "source": [
    "X = sm.add_constant(X) # adding a constant\n",
    " \n",
    "model = sm.OLS(Y, X).fit()\n",
    "predictions = model.predict(X) \n",
    " \n",
    "print_model = model.summary()\n",
    "print_model"
   ]
  },
  {
   "cell_type": "code",
   "execution_count": 202,
   "metadata": {
    "scrolled": false
   },
   "outputs": [
    {
     "data": {
      "text/plain": [
       "const               5.973064e-20\n",
       "Mixing parameter    5.592942e-03\n",
       "dtype: float64"
      ]
     },
     "execution_count": 202,
     "metadata": {},
     "output_type": "execute_result"
    }
   ],
   "source": [
    "model.pvalues[model.pvalues < 0.05]"
   ]
  },
  {
   "cell_type": "code",
   "execution_count": 203,
   "metadata": {},
   "outputs": [
    {
     "data": {
      "text/plain": [
       "const               5.973064e-20\n",
       "Mixing parameter    5.592942e-03\n",
       "dtype: float64"
      ]
     },
     "execution_count": 203,
     "metadata": {},
     "output_type": "execute_result"
    }
   ],
   "source": [
    "model.pvalues[model.pvalues < 0.01]"
   ]
  },
  {
   "cell_type": "markdown",
   "metadata": {},
   "source": [
    "### Independent variable: Internal degree"
   ]
  },
  {
   "cell_type": "code",
   "execution_count": 204,
   "metadata": {},
   "outputs": [],
   "source": [
    "X = df_meso[['Internal degree']]"
   ]
  },
  {
   "cell_type": "code",
   "execution_count": 205,
   "metadata": {
    "scrolled": false
   },
   "outputs": [],
   "source": [
    "Y = df_dependent_variables['Mean-LocalComponent']"
   ]
  },
  {
   "cell_type": "markdown",
   "metadata": {},
   "source": [
    "#### with `sklearn`"
   ]
  },
  {
   "cell_type": "code",
   "execution_count": 206,
   "metadata": {},
   "outputs": [
    {
     "data": {
      "text/plain": [
       "LinearRegression(copy_X=True, fit_intercept=True, n_jobs=None, normalize=False)"
      ]
     },
     "execution_count": 206,
     "metadata": {},
     "output_type": "execute_result"
    }
   ],
   "source": [
    "regr = LinearRegression()\n",
    "regr.fit(X, Y)"
   ]
  },
  {
   "cell_type": "code",
   "execution_count": 207,
   "metadata": {},
   "outputs": [
    {
     "name": "stdout",
     "output_type": "stream",
     "text": [
      "Intercept: \n",
      " 0.45130030929896364\n",
      "Coefficients: \n",
      " [0.00268866]\n"
     ]
    }
   ],
   "source": [
    "print('Intercept: \\n', regr.intercept_)\n",
    "print('Coefficients: \\n', regr.coef_)"
   ]
  },
  {
   "cell_type": "markdown",
   "metadata": {},
   "source": [
    "#### Plot "
   ]
  },
  {
   "cell_type": "code",
   "execution_count": 208,
   "metadata": {
    "scrolled": false
   },
   "outputs": [
    {
     "data": {
      "image/png": "[encoded data removed]",
      "text/plain": [
       "<Figure size 432x288 with 1 Axes>"
      ]
     },
     "metadata": {
      "needs_background": "light"
     },
     "output_type": "display_data"
    }
   ],
   "source": [
    "predictions = regr.predict(X)\n",
    "# plt.figure(figsize=(16, 8))\n",
    "plt.scatter(\n",
    "    df_meso['Internal degree'],\n",
    "    df_dependent_variables['Mean-LocalComponent'],\n",
    "    c='red'\n",
    ")\n",
    "plt.plot(\n",
    "    df_meso['Internal degree'],\n",
    "    predictions,\n",
    "    c='black',\n",
    "    linewidth=2\n",
    ")\n",
    "plt.xlabel(\"Internal degree\")\n",
    "plt.ylabel(\"Mean-LocalComponent\")\n",
    "plt.show()"
   ]
  },
  {
   "cell_type": "markdown",
   "metadata": {},
   "source": [
    "#### with `statsmodels`"
   ]
  },
  {
   "cell_type": "code",
   "execution_count": 209,
   "metadata": {
    "scrolled": false
   },
   "outputs": [
    {
     "data": {
      "text/html": [
       "<table class=\"simpletable\">\n",
       "<caption>OLS Regression Results</caption>\n",
       "<tr>\n",
       "  <th>Dep. Variable:</th>    <td>Mean-LocalComponent</td> <th>  R-squared:         </th> <td>   0.072</td>\n",
       "</tr>\n",
       "<tr>\n",
       "  <th>Model:</th>                    <td>OLS</td>         <th>  Adj. R-squared:    </th> <td>   0.053</td>\n",
       "</tr>\n",
       "<tr>\n",
       "  <th>Method:</th>              <td>Least Squares</td>    <th>  F-statistic:       </th> <td>   3.744</td>\n",
       "</tr>\n",
       "<tr>\n",
       "  <th>Date:</th>              <td>Tue, 08 Dec 2020</td>   <th>  Prob (F-statistic):</th>  <td>0.0589</td> \n",
       "</tr>\n",
       "<tr>\n",
       "  <th>Time:</th>                  <td>23:13:53</td>       <th>  Log-Likelihood:    </th> <td>  34.283</td>\n",
       "</tr>\n",
       "<tr>\n",
       "  <th>No. Observations:</th>       <td>    50</td>        <th>  AIC:               </th> <td>  -64.57</td>\n",
       "</tr>\n",
       "<tr>\n",
       "  <th>Df Residuals:</th>           <td>    48</td>        <th>  BIC:               </th> <td>  -60.74</td>\n",
       "</tr>\n",
       "<tr>\n",
       "  <th>Df Model:</th>               <td>     1</td>        <th>                     </th>     <td> </td>   \n",
       "</tr>\n",
       "<tr>\n",
       "  <th>Covariance Type:</th>       <td>nonrobust</td>      <th>                     </th>     <td> </td>   \n",
       "</tr>\n",
       "</table>\n",
       "<table class=\"simpletable\">\n",
       "<tr>\n",
       "         <td></td>            <th>coef</th>     <th>std err</th>      <th>t</th>      <th>P>|t|</th>  <th>[0.025</th>    <th>0.975]</th>  \n",
       "</tr>\n",
       "<tr>\n",
       "  <th>const</th>           <td>    0.4513</td> <td>    0.020</td> <td>   22.943</td> <td> 0.000</td> <td>    0.412</td> <td>    0.491</td>\n",
       "</tr>\n",
       "<tr>\n",
       "  <th>Internal degree</th> <td>    0.0027</td> <td>    0.001</td> <td>    1.935</td> <td> 0.059</td> <td>   -0.000</td> <td>    0.005</td>\n",
       "</tr>\n",
       "</table>\n",
       "<table class=\"simpletable\">\n",
       "<tr>\n",
       "  <th>Omnibus:</th>       <td> 4.079</td> <th>  Durbin-Watson:     </th> <td>   1.832</td>\n",
       "</tr>\n",
       "<tr>\n",
       "  <th>Prob(Omnibus):</th> <td> 0.130</td> <th>  Jarque-Bera (JB):  </th> <td>   3.286</td>\n",
       "</tr>\n",
       "<tr>\n",
       "  <th>Skew:</th>          <td>-0.620</td> <th>  Prob(JB):          </th> <td>   0.193</td>\n",
       "</tr>\n",
       "<tr>\n",
       "  <th>Kurtosis:</th>      <td> 3.195</td> <th>  Cond. No.          </th> <td>    15.8</td>\n",
       "</tr>\n",
       "</table><br/><br/>Warnings:<br/>[1] Standard Errors assume that the covariance matrix of the errors is correctly specified."
      ],
      "text/plain": [
       "<class 'statsmodels.iolib.summary.Summary'>\n",
       "\"\"\"\n",
       "                             OLS Regression Results                            \n",
       "===============================================================================\n",
       "Dep. Variable:     Mean-LocalComponent   R-squared:                       0.072\n",
       "Model:                             OLS   Adj. R-squared:                  0.053\n",
       "Method:                  Least Squares   F-statistic:                     3.744\n",
       "Date:                 Tue, 08 Dec 2020   Prob (F-statistic):             0.0589\n",
       "Time:                         23:13:53   Log-Likelihood:                 34.283\n",
       "No. Observations:                   50   AIC:                            -64.57\n",
       "Df Residuals:                       48   BIC:                            -60.74\n",
       "Df Model:                            1                                         \n",
       "Covariance Type:             nonrobust                                         \n",
       "===================================================================================\n",
       "                      coef    std err          t      P>|t|      [0.025      0.975]\n",
       "-----------------------------------------------------------------------------------\n",
       "const               0.4513      0.020     22.943      0.000       0.412       0.491\n",
       "Internal degree     0.0027      0.001      1.935      0.059      -0.000       0.005\n",
       "==============================================================================\n",
       "Omnibus:                        4.079   Durbin-Watson:                   1.832\n",
       "Prob(Omnibus):                  0.130   Jarque-Bera (JB):                3.286\n",
       "Skew:                          -0.620   Prob(JB):                        0.193\n",
       "Kurtosis:                       3.195   Cond. No.                         15.8\n",
       "==============================================================================\n",
       "\n",
       "Warnings:\n",
       "[1] Standard Errors assume that the covariance matrix of the errors is correctly specified.\n",
       "\"\"\""
      ]
     },
     "execution_count": 209,
     "metadata": {},
     "output_type": "execute_result"
    }
   ],
   "source": [
    "X = sm.add_constant(X) # adding a constant\n",
    " \n",
    "model = sm.OLS(Y, X).fit()\n",
    "predictions = model.predict(X) \n",
    " \n",
    "print_model = model.summary()\n",
    "print_model"
   ]
  },
  {
   "cell_type": "code",
   "execution_count": 210,
   "metadata": {
    "scrolled": true
   },
   "outputs": [
    {
     "data": {
      "text/plain": [
       "const    1.606574e-27\n",
       "dtype: float64"
      ]
     },
     "execution_count": 210,
     "metadata": {},
     "output_type": "execute_result"
    }
   ],
   "source": [
    "model.pvalues[model.pvalues < 0.05]"
   ]
  },
  {
   "cell_type": "code",
   "execution_count": 211,
   "metadata": {},
   "outputs": [
    {
     "data": {
      "text/plain": [
       "const    1.606574e-27\n",
       "dtype: float64"
      ]
     },
     "execution_count": 211,
     "metadata": {},
     "output_type": "execute_result"
    }
   ],
   "source": [
    "model.pvalues[model.pvalues < 0.01]"
   ]
  },
  {
   "cell_type": "markdown",
   "metadata": {},
   "source": [
    "### Independent variable: Internal density"
   ]
  },
  {
   "cell_type": "code",
   "execution_count": 212,
   "metadata": {},
   "outputs": [],
   "source": [
    "X = df_meso[['Internal density']]"
   ]
  },
  {
   "cell_type": "code",
   "execution_count": 213,
   "metadata": {
    "scrolled": false
   },
   "outputs": [],
   "source": [
    "Y = df_dependent_variables['Mean-LocalComponent']"
   ]
  },
  {
   "cell_type": "markdown",
   "metadata": {},
   "source": [
    "#### with `sklearn`"
   ]
  },
  {
   "cell_type": "code",
   "execution_count": 214,
   "metadata": {},
   "outputs": [
    {
     "data": {
      "text/plain": [
       "LinearRegression(copy_X=True, fit_intercept=True, n_jobs=None, normalize=False)"
      ]
     },
     "execution_count": 214,
     "metadata": {},
     "output_type": "execute_result"
    }
   ],
   "source": [
    "regr = LinearRegression()\n",
    "regr.fit(X, Y)"
   ]
  },
  {
   "cell_type": "code",
   "execution_count": 215,
   "metadata": {},
   "outputs": [
    {
     "name": "stdout",
     "output_type": "stream",
     "text": [
      "Intercept: \n",
      " 0.3575259097439215\n",
      "Coefficients: \n",
      " [0.25734946]\n"
     ]
    }
   ],
   "source": [
    "print('Intercept: \\n', regr.intercept_)\n",
    "print('Coefficients: \\n', regr.coef_)"
   ]
  },
  {
   "cell_type": "markdown",
   "metadata": {},
   "source": [
    "#### Plot "
   ]
  },
  {
   "cell_type": "code",
   "execution_count": 216,
   "metadata": {
    "scrolled": false
   },
   "outputs": [
    {
     "data": {
      "image/png": "[encoded data removed]",
      "text/plain": [
       "<Figure size 432x288 with 1 Axes>"
      ]
     },
     "metadata": {
      "needs_background": "light"
     },
     "output_type": "display_data"
    }
   ],
   "source": [
    "predictions = regr.predict(X)\n",
    "# plt.figure(figsize=(16, 8))\n",
    "plt.scatter(\n",
    "    df_meso['Internal density'],\n",
    "    df_dependent_variables['Mean-LocalComponent'],\n",
    "    c='red'\n",
    ")\n",
    "plt.plot(\n",
    "    df_meso['Internal density'],\n",
    "    predictions,\n",
    "    c='black',\n",
    "    linewidth=2\n",
    ")\n",
    "plt.xlabel(\"Internal density\")\n",
    "plt.ylabel(\"Mean-LocalComponent\")\n",
    "plt.show()"
   ]
  },
  {
   "cell_type": "markdown",
   "metadata": {},
   "source": [
    "#### with `statsmodels`"
   ]
  },
  {
   "cell_type": "code",
   "execution_count": 217,
   "metadata": {
    "scrolled": false
   },
   "outputs": [
    {
     "data": {
      "text/html": [
       "<table class=\"simpletable\">\n",
       "<caption>OLS Regression Results</caption>\n",
       "<tr>\n",
       "  <th>Dep. Variable:</th>    <td>Mean-LocalComponent</td> <th>  R-squared:         </th> <td>   0.076</td>\n",
       "</tr>\n",
       "<tr>\n",
       "  <th>Model:</th>                    <td>OLS</td>         <th>  Adj. R-squared:    </th> <td>   0.057</td>\n",
       "</tr>\n",
       "<tr>\n",
       "  <th>Method:</th>              <td>Least Squares</td>    <th>  F-statistic:       </th> <td>   3.962</td>\n",
       "</tr>\n",
       "<tr>\n",
       "  <th>Date:</th>              <td>Tue, 08 Dec 2020</td>   <th>  Prob (F-statistic):</th>  <td>0.0522</td> \n",
       "</tr>\n",
       "<tr>\n",
       "  <th>Time:</th>                  <td>23:14:00</td>       <th>  Log-Likelihood:    </th> <td>  34.388</td>\n",
       "</tr>\n",
       "<tr>\n",
       "  <th>No. Observations:</th>       <td>    50</td>        <th>  AIC:               </th> <td>  -64.78</td>\n",
       "</tr>\n",
       "<tr>\n",
       "  <th>Df Residuals:</th>           <td>    48</td>        <th>  BIC:               </th> <td>  -60.95</td>\n",
       "</tr>\n",
       "<tr>\n",
       "  <th>Df Model:</th>               <td>     1</td>        <th>                     </th>     <td> </td>   \n",
       "</tr>\n",
       "<tr>\n",
       "  <th>Covariance Type:</th>       <td>nonrobust</td>      <th>                     </th>     <td> </td>   \n",
       "</tr>\n",
       "</table>\n",
       "<table class=\"simpletable\">\n",
       "<tr>\n",
       "          <td></td>            <th>coef</th>     <th>std err</th>      <th>t</th>      <th>P>|t|</th>  <th>[0.025</th>    <th>0.975]</th>  \n",
       "</tr>\n",
       "<tr>\n",
       "  <th>const</th>            <td>    0.3575</td> <td>    0.058</td> <td>    6.126</td> <td> 0.000</td> <td>    0.240</td> <td>    0.475</td>\n",
       "</tr>\n",
       "<tr>\n",
       "  <th>Internal density</th> <td>    0.2573</td> <td>    0.129</td> <td>    1.990</td> <td> 0.052</td> <td>   -0.003</td> <td>    0.517</td>\n",
       "</tr>\n",
       "</table>\n",
       "<table class=\"simpletable\">\n",
       "<tr>\n",
       "  <th>Omnibus:</th>       <td>10.755</td> <th>  Durbin-Watson:     </th> <td>   1.547</td>\n",
       "</tr>\n",
       "<tr>\n",
       "  <th>Prob(Omnibus):</th> <td> 0.005</td> <th>  Jarque-Bera (JB):  </th> <td>  10.544</td>\n",
       "</tr>\n",
       "<tr>\n",
       "  <th>Skew:</th>          <td>-0.955</td> <th>  Prob(JB):          </th> <td> 0.00513</td>\n",
       "</tr>\n",
       "<tr>\n",
       "  <th>Kurtosis:</th>      <td> 4.188</td> <th>  Cond. No.          </th> <td>    8.75</td>\n",
       "</tr>\n",
       "</table><br/><br/>Warnings:<br/>[1] Standard Errors assume that the covariance matrix of the errors is correctly specified."
      ],
      "text/plain": [
       "<class 'statsmodels.iolib.summary.Summary'>\n",
       "\"\"\"\n",
       "                             OLS Regression Results                            \n",
       "===============================================================================\n",
       "Dep. Variable:     Mean-LocalComponent   R-squared:                       0.076\n",
       "Model:                             OLS   Adj. R-squared:                  0.057\n",
       "Method:                  Least Squares   F-statistic:                     3.962\n",
       "Date:                 Tue, 08 Dec 2020   Prob (F-statistic):             0.0522\n",
       "Time:                         23:14:00   Log-Likelihood:                 34.388\n",
       "No. Observations:                   50   AIC:                            -64.78\n",
       "Df Residuals:                       48   BIC:                            -60.95\n",
       "Df Model:                            1                                         \n",
       "Covariance Type:             nonrobust                                         \n",
       "====================================================================================\n",
       "                       coef    std err          t      P>|t|      [0.025      0.975]\n",
       "------------------------------------------------------------------------------------\n",
       "const                0.3575      0.058      6.126      0.000       0.240       0.475\n",
       "Internal density     0.2573      0.129      1.990      0.052      -0.003       0.517\n",
       "==============================================================================\n",
       "Omnibus:                       10.755   Durbin-Watson:                   1.547\n",
       "Prob(Omnibus):                  0.005   Jarque-Bera (JB):               10.544\n",
       "Skew:                          -0.955   Prob(JB):                      0.00513\n",
       "Kurtosis:                       4.188   Cond. No.                         8.75\n",
       "==============================================================================\n",
       "\n",
       "Warnings:\n",
       "[1] Standard Errors assume that the covariance matrix of the errors is correctly specified.\n",
       "\"\"\""
      ]
     },
     "execution_count": 217,
     "metadata": {},
     "output_type": "execute_result"
    }
   ],
   "source": [
    "X = sm.add_constant(X) # adding a constant\n",
    " \n",
    "model = sm.OLS(Y, X).fit()\n",
    "predictions = model.predict(X) \n",
    " \n",
    "print_model = model.summary()\n",
    "print_model"
   ]
  },
  {
   "cell_type": "code",
   "execution_count": 218,
   "metadata": {
    "scrolled": true
   },
   "outputs": [
    {
     "data": {
      "text/plain": [
       "const    1.611029e-07\n",
       "dtype: float64"
      ]
     },
     "execution_count": 218,
     "metadata": {},
     "output_type": "execute_result"
    }
   ],
   "source": [
    "model.pvalues[model.pvalues < 0.05]"
   ]
  },
  {
   "cell_type": "markdown",
   "metadata": {},
   "source": [
    "### Independent variable: Max-ODF"
   ]
  },
  {
   "cell_type": "code",
   "execution_count": 219,
   "metadata": {},
   "outputs": [],
   "source": [
    "X = df_meso[['Max-ODF']]"
   ]
  },
  {
   "cell_type": "code",
   "execution_count": 220,
   "metadata": {
    "scrolled": false
   },
   "outputs": [],
   "source": [
    "Y = df_dependent_variables['Mean-LocalComponent']"
   ]
  },
  {
   "cell_type": "markdown",
   "metadata": {},
   "source": [
    "#### with `sklearn`"
   ]
  },
  {
   "cell_type": "code",
   "execution_count": 221,
   "metadata": {},
   "outputs": [
    {
     "data": {
      "text/plain": [
       "LinearRegression(copy_X=True, fit_intercept=True, n_jobs=None, normalize=False)"
      ]
     },
     "execution_count": 221,
     "metadata": {},
     "output_type": "execute_result"
    }
   ],
   "source": [
    "regr = LinearRegression()\n",
    "regr.fit(X, Y)"
   ]
  },
  {
   "cell_type": "code",
   "execution_count": 222,
   "metadata": {},
   "outputs": [
    {
     "name": "stdout",
     "output_type": "stream",
     "text": [
      "Intercept: \n",
      " 0.44879371767913667\n",
      "Coefficients: \n",
      " [0.03817455]\n"
     ]
    }
   ],
   "source": [
    "print('Intercept: \\n', regr.intercept_)\n",
    "print('Coefficients: \\n', regr.coef_)"
   ]
  },
  {
   "cell_type": "markdown",
   "metadata": {},
   "source": [
    "#### Plot "
   ]
  },
  {
   "cell_type": "code",
   "execution_count": 223,
   "metadata": {
    "scrolled": false
   },
   "outputs": [
    {
     "data": {
      "image/png": "[encoded data removed]",
      "text/plain": [
       "<Figure size 432x288 with 1 Axes>"
      ]
     },
     "metadata": {
      "needs_background": "light"
     },
     "output_type": "display_data"
    }
   ],
   "source": [
    "predictions = regr.predict(X)\n",
    "# plt.figure(figsize=(16, 8))\n",
    "plt.scatter(\n",
    "    df_meso['Max-ODF'],\n",
    "    df_dependent_variables['Mean-LocalComponent'],\n",
    "    c='red'\n",
    ")\n",
    "plt.plot(\n",
    "    df_meso['Max-ODF'],\n",
    "    predictions,\n",
    "    c='black',\n",
    "    linewidth=2\n",
    ")\n",
    "plt.xlabel(\"Max-ODF\")\n",
    "plt.ylabel(\"Mean-LocalComponent\")\n",
    "plt.show()"
   ]
  },
  {
   "cell_type": "markdown",
   "metadata": {},
   "source": [
    "#### with `statsmodels`"
   ]
  },
  {
   "cell_type": "code",
   "execution_count": 224,
   "metadata": {
    "scrolled": false
   },
   "outputs": [
    {
     "data": {
      "text/html": [
       "<table class=\"simpletable\">\n",
       "<caption>OLS Regression Results</caption>\n",
       "<tr>\n",
       "  <th>Dep. Variable:</th>    <td>Mean-LocalComponent</td> <th>  R-squared:         </th> <td>   0.001</td>\n",
       "</tr>\n",
       "<tr>\n",
       "  <th>Model:</th>                    <td>OLS</td>         <th>  Adj. R-squared:    </th> <td>  -0.020</td>\n",
       "</tr>\n",
       "<tr>\n",
       "  <th>Method:</th>              <td>Least Squares</td>    <th>  F-statistic:       </th> <td> 0.04730</td>\n",
       "</tr>\n",
       "<tr>\n",
       "  <th>Date:</th>              <td>Tue, 08 Dec 2020</td>   <th>  Prob (F-statistic):</th>  <td> 0.829</td> \n",
       "</tr>\n",
       "<tr>\n",
       "  <th>Time:</th>                  <td>23:14:08</td>       <th>  Log-Likelihood:    </th> <td>  32.430</td>\n",
       "</tr>\n",
       "<tr>\n",
       "  <th>No. Observations:</th>       <td>    50</td>        <th>  AIC:               </th> <td>  -60.86</td>\n",
       "</tr>\n",
       "<tr>\n",
       "  <th>Df Residuals:</th>           <td>    48</td>        <th>  BIC:               </th> <td>  -57.04</td>\n",
       "</tr>\n",
       "<tr>\n",
       "  <th>Df Model:</th>               <td>     1</td>        <th>                     </th>     <td> </td>   \n",
       "</tr>\n",
       "<tr>\n",
       "  <th>Covariance Type:</th>       <td>nonrobust</td>      <th>                     </th>     <td> </td>   \n",
       "</tr>\n",
       "</table>\n",
       "<table class=\"simpletable\">\n",
       "<tr>\n",
       "     <td></td>        <th>coef</th>     <th>std err</th>      <th>t</th>      <th>P>|t|</th>  <th>[0.025</th>    <th>0.975]</th>  \n",
       "</tr>\n",
       "<tr>\n",
       "  <th>const</th>   <td>    0.4488</td> <td>    0.092</td> <td>    4.898</td> <td> 0.000</td> <td>    0.265</td> <td>    0.633</td>\n",
       "</tr>\n",
       "<tr>\n",
       "  <th>Max-ODF</th> <td>    0.0382</td> <td>    0.176</td> <td>    0.217</td> <td> 0.829</td> <td>   -0.315</td> <td>    0.391</td>\n",
       "</tr>\n",
       "</table>\n",
       "<table class=\"simpletable\">\n",
       "<tr>\n",
       "  <th>Omnibus:</th>       <td> 3.619</td> <th>  Durbin-Watson:     </th> <td>   1.732</td>\n",
       "</tr>\n",
       "<tr>\n",
       "  <th>Prob(Omnibus):</th> <td> 0.164</td> <th>  Jarque-Bera (JB):  </th> <td>   3.155</td>\n",
       "</tr>\n",
       "<tr>\n",
       "  <th>Skew:</th>          <td>-0.615</td> <th>  Prob(JB):          </th> <td>   0.207</td>\n",
       "</tr>\n",
       "<tr>\n",
       "  <th>Kurtosis:</th>      <td> 2.954</td> <th>  Cond. No.          </th> <td>    12.2</td>\n",
       "</tr>\n",
       "</table><br/><br/>Warnings:<br/>[1] Standard Errors assume that the covariance matrix of the errors is correctly specified."
      ],
      "text/plain": [
       "<class 'statsmodels.iolib.summary.Summary'>\n",
       "\"\"\"\n",
       "                             OLS Regression Results                            \n",
       "===============================================================================\n",
       "Dep. Variable:     Mean-LocalComponent   R-squared:                       0.001\n",
       "Model:                             OLS   Adj. R-squared:                 -0.020\n",
       "Method:                  Least Squares   F-statistic:                   0.04730\n",
       "Date:                 Tue, 08 Dec 2020   Prob (F-statistic):              0.829\n",
       "Time:                         23:14:08   Log-Likelihood:                 32.430\n",
       "No. Observations:                   50   AIC:                            -60.86\n",
       "Df Residuals:                       48   BIC:                            -57.04\n",
       "Df Model:                            1                                         \n",
       "Covariance Type:             nonrobust                                         \n",
       "==============================================================================\n",
       "                 coef    std err          t      P>|t|      [0.025      0.975]\n",
       "------------------------------------------------------------------------------\n",
       "const          0.4488      0.092      4.898      0.000       0.265       0.633\n",
       "Max-ODF        0.0382      0.176      0.217      0.829      -0.315       0.391\n",
       "==============================================================================\n",
       "Omnibus:                        3.619   Durbin-Watson:                   1.732\n",
       "Prob(Omnibus):                  0.164   Jarque-Bera (JB):                3.155\n",
       "Skew:                          -0.615   Prob(JB):                        0.207\n",
       "Kurtosis:                       2.954   Cond. No.                         12.2\n",
       "==============================================================================\n",
       "\n",
       "Warnings:\n",
       "[1] Standard Errors assume that the covariance matrix of the errors is correctly specified.\n",
       "\"\"\""
      ]
     },
     "execution_count": 224,
     "metadata": {},
     "output_type": "execute_result"
    }
   ],
   "source": [
    "X = sm.add_constant(X) # adding a constant\n",
    " \n",
    "model = sm.OLS(Y, X).fit()\n",
    "predictions = model.predict(X) \n",
    " \n",
    "print_model = model.summary()\n",
    "print_model"
   ]
  },
  {
   "cell_type": "code",
   "execution_count": 225,
   "metadata": {
    "scrolled": false
   },
   "outputs": [
    {
     "data": {
      "text/plain": [
       "const    0.000011\n",
       "dtype: float64"
      ]
     },
     "execution_count": 225,
     "metadata": {},
     "output_type": "execute_result"
    }
   ],
   "source": [
    "model.pvalues[model.pvalues < 0.05]"
   ]
  },
  {
   "cell_type": "markdown",
   "metadata": {},
   "source": [
    "### Independent variable: Average-ODF"
   ]
  },
  {
   "cell_type": "code",
   "execution_count": 226,
   "metadata": {},
   "outputs": [],
   "source": [
    "X = df_meso[['Average-ODF']]"
   ]
  },
  {
   "cell_type": "code",
   "execution_count": 227,
   "metadata": {
    "scrolled": false
   },
   "outputs": [],
   "source": [
    "Y = df_dependent_variables['Mean-LocalComponent']"
   ]
  },
  {
   "cell_type": "markdown",
   "metadata": {},
   "source": [
    "#### with `sklearn`"
   ]
  },
  {
   "cell_type": "code",
   "execution_count": 228,
   "metadata": {},
   "outputs": [
    {
     "data": {
      "text/plain": [
       "LinearRegression(copy_X=True, fit_intercept=True, n_jobs=None, normalize=False)"
      ]
     },
     "execution_count": 228,
     "metadata": {},
     "output_type": "execute_result"
    }
   ],
   "source": [
    "regr = LinearRegression()\n",
    "regr.fit(X, Y)"
   ]
  },
  {
   "cell_type": "code",
   "execution_count": 229,
   "metadata": {},
   "outputs": [
    {
     "name": "stdout",
     "output_type": "stream",
     "text": [
      "Intercept: \n",
      " 0.47891090133524605\n",
      "Coefficients: \n",
      " [-0.0427018]\n"
     ]
    }
   ],
   "source": [
    "print('Intercept: \\n', regr.intercept_)\n",
    "print('Coefficients: \\n', regr.coef_)"
   ]
  },
  {
   "cell_type": "markdown",
   "metadata": {},
   "source": [
    "#### Plot "
   ]
  },
  {
   "cell_type": "code",
   "execution_count": 230,
   "metadata": {
    "scrolled": false
   },
   "outputs": [
    {
     "data": {
      "image/png": "[encoded data removed]",
      "text/plain": [
       "<Figure size 432x288 with 1 Axes>"
      ]
     },
     "metadata": {
      "needs_background": "light"
     },
     "output_type": "display_data"
    }
   ],
   "source": [
    "predictions = regr.predict(X)\n",
    "# plt.figure(figsize=(16, 8))\n",
    "plt.scatter(\n",
    "    df_meso['Average-ODF'],\n",
    "    df_dependent_variables['Mean-LocalComponent'],\n",
    "    c='red'\n",
    ")\n",
    "plt.plot(\n",
    "    df_meso['Average-ODF'],\n",
    "    predictions,\n",
    "    c='black',\n",
    "    linewidth=2\n",
    ")\n",
    "plt.xlabel(\"Average-ODF\")\n",
    "plt.ylabel(\"Mean-LocalComponent\")\n",
    "plt.show()"
   ]
  },
  {
   "cell_type": "markdown",
   "metadata": {},
   "source": [
    "#### with `statsmodels`"
   ]
  },
  {
   "cell_type": "code",
   "execution_count": 231,
   "metadata": {
    "scrolled": false
   },
   "outputs": [
    {
     "data": {
      "text/html": [
       "<table class=\"simpletable\">\n",
       "<caption>OLS Regression Results</caption>\n",
       "<tr>\n",
       "  <th>Dep. Variable:</th>    <td>Mean-LocalComponent</td> <th>  R-squared:         </th> <td>   0.001</td>\n",
       "</tr>\n",
       "<tr>\n",
       "  <th>Model:</th>                    <td>OLS</td>         <th>  Adj. R-squared:    </th> <td>  -0.019</td>\n",
       "</tr>\n",
       "<tr>\n",
       "  <th>Method:</th>              <td>Least Squares</td>    <th>  F-statistic:       </th> <td> 0.07076</td>\n",
       "</tr>\n",
       "<tr>\n",
       "  <th>Date:</th>              <td>Tue, 08 Dec 2020</td>   <th>  Prob (F-statistic):</th>  <td> 0.791</td> \n",
       "</tr>\n",
       "<tr>\n",
       "  <th>Time:</th>                  <td>23:14:15</td>       <th>  Log-Likelihood:    </th> <td>  32.442</td>\n",
       "</tr>\n",
       "<tr>\n",
       "  <th>No. Observations:</th>       <td>    50</td>        <th>  AIC:               </th> <td>  -60.88</td>\n",
       "</tr>\n",
       "<tr>\n",
       "  <th>Df Residuals:</th>           <td>    48</td>        <th>  BIC:               </th> <td>  -57.06</td>\n",
       "</tr>\n",
       "<tr>\n",
       "  <th>Df Model:</th>               <td>     1</td>        <th>                     </th>     <td> </td>   \n",
       "</tr>\n",
       "<tr>\n",
       "  <th>Covariance Type:</th>       <td>nonrobust</td>      <th>                     </th>     <td> </td>   \n",
       "</tr>\n",
       "</table>\n",
       "<table class=\"simpletable\">\n",
       "<tr>\n",
       "       <td></td>          <th>coef</th>     <th>std err</th>      <th>t</th>      <th>P>|t|</th>  <th>[0.025</th>    <th>0.975]</th>  \n",
       "</tr>\n",
       "<tr>\n",
       "  <th>const</th>       <td>    0.4789</td> <td>    0.044</td> <td>   10.935</td> <td> 0.000</td> <td>    0.391</td> <td>    0.567</td>\n",
       "</tr>\n",
       "<tr>\n",
       "  <th>Average-ODF</th> <td>   -0.0427</td> <td>    0.161</td> <td>   -0.266</td> <td> 0.791</td> <td>   -0.365</td> <td>    0.280</td>\n",
       "</tr>\n",
       "</table>\n",
       "<table class=\"simpletable\">\n",
       "<tr>\n",
       "  <th>Omnibus:</th>       <td> 3.954</td> <th>  Durbin-Watson:     </th> <td>   1.750</td>\n",
       "</tr>\n",
       "<tr>\n",
       "  <th>Prob(Omnibus):</th> <td> 0.138</td> <th>  Jarque-Bera (JB):  </th> <td>   3.427</td>\n",
       "</tr>\n",
       "<tr>\n",
       "  <th>Skew:</th>          <td>-0.641</td> <th>  Prob(JB):          </th> <td>   0.180</td>\n",
       "</tr>\n",
       "<tr>\n",
       "  <th>Kurtosis:</th>      <td> 3.001</td> <th>  Cond. No.          </th> <td>    9.34</td>\n",
       "</tr>\n",
       "</table><br/><br/>Warnings:<br/>[1] Standard Errors assume that the covariance matrix of the errors is correctly specified."
      ],
      "text/plain": [
       "<class 'statsmodels.iolib.summary.Summary'>\n",
       "\"\"\"\n",
       "                             OLS Regression Results                            \n",
       "===============================================================================\n",
       "Dep. Variable:     Mean-LocalComponent   R-squared:                       0.001\n",
       "Model:                             OLS   Adj. R-squared:                 -0.019\n",
       "Method:                  Least Squares   F-statistic:                   0.07076\n",
       "Date:                 Tue, 08 Dec 2020   Prob (F-statistic):              0.791\n",
       "Time:                         23:14:15   Log-Likelihood:                 32.442\n",
       "No. Observations:                   50   AIC:                            -60.88\n",
       "Df Residuals:                       48   BIC:                            -57.06\n",
       "Df Model:                            1                                         \n",
       "Covariance Type:             nonrobust                                         \n",
       "===============================================================================\n",
       "                  coef    std err          t      P>|t|      [0.025      0.975]\n",
       "-------------------------------------------------------------------------------\n",
       "const           0.4789      0.044     10.935      0.000       0.391       0.567\n",
       "Average-ODF    -0.0427      0.161     -0.266      0.791      -0.365       0.280\n",
       "==============================================================================\n",
       "Omnibus:                        3.954   Durbin-Watson:                   1.750\n",
       "Prob(Omnibus):                  0.138   Jarque-Bera (JB):                3.427\n",
       "Skew:                          -0.641   Prob(JB):                        0.180\n",
       "Kurtosis:                       3.001   Cond. No.                         9.34\n",
       "==============================================================================\n",
       "\n",
       "Warnings:\n",
       "[1] Standard Errors assume that the covariance matrix of the errors is correctly specified.\n",
       "\"\"\""
      ]
     },
     "execution_count": 231,
     "metadata": {},
     "output_type": "execute_result"
    }
   ],
   "source": [
    "X = sm.add_constant(X) # adding a constant\n",
    " \n",
    "model = sm.OLS(Y, X).fit()\n",
    "predictions = model.predict(X) \n",
    " \n",
    "print_model = model.summary()\n",
    "print_model"
   ]
  },
  {
   "cell_type": "code",
   "execution_count": 232,
   "metadata": {
    "scrolled": false
   },
   "outputs": [
    {
     "data": {
      "text/plain": [
       "const    1.254306e-14\n",
       "dtype: float64"
      ]
     },
     "execution_count": 232,
     "metadata": {},
     "output_type": "execute_result"
    }
   ],
   "source": [
    "model.pvalues[model.pvalues < 0.05]"
   ]
  },
  {
   "cell_type": "code",
   "execution_count": 233,
   "metadata": {},
   "outputs": [
    {
     "data": {
      "text/plain": [
       "const    1.254306e-14\n",
       "dtype: float64"
      ]
     },
     "execution_count": 233,
     "metadata": {},
     "output_type": "execute_result"
    }
   ],
   "source": [
    "model.pvalues[model.pvalues < 0.01]"
   ]
  },
  {
   "cell_type": "markdown",
   "metadata": {},
   "source": [
    "### Independent variable: Flake-out ODF"
   ]
  },
  {
   "cell_type": "code",
   "execution_count": 234,
   "metadata": {},
   "outputs": [],
   "source": [
    "X = df_meso[['Flake-out ODF']]"
   ]
  },
  {
   "cell_type": "code",
   "execution_count": 235,
   "metadata": {
    "scrolled": false
   },
   "outputs": [],
   "source": [
    "Y = df_dependent_variables['Mean-LocalComponent']"
   ]
  },
  {
   "cell_type": "markdown",
   "metadata": {},
   "source": [
    "#### with `sklearn`"
   ]
  },
  {
   "cell_type": "code",
   "execution_count": 236,
   "metadata": {},
   "outputs": [
    {
     "data": {
      "text/plain": [
       "LinearRegression(copy_X=True, fit_intercept=True, n_jobs=None, normalize=False)"
      ]
     },
     "execution_count": 236,
     "metadata": {},
     "output_type": "execute_result"
    }
   ],
   "source": [
    "regr = LinearRegression()\n",
    "regr.fit(X, Y)"
   ]
  },
  {
   "cell_type": "code",
   "execution_count": 237,
   "metadata": {},
   "outputs": [
    {
     "name": "stdout",
     "output_type": "stream",
     "text": [
      "Intercept: \n",
      " 0.491131262393666\n",
      "Coefficients: \n",
      " [-0.07804058]\n"
     ]
    }
   ],
   "source": [
    "print('Intercept: \\n', regr.intercept_)\n",
    "print('Coefficients: \\n', regr.coef_)"
   ]
  },
  {
   "cell_type": "markdown",
   "metadata": {},
   "source": [
    "#### Plot "
   ]
  },
  {
   "cell_type": "code",
   "execution_count": 238,
   "metadata": {
    "scrolled": false
   },
   "outputs": [
    {
     "data": {
      "image/png": "[encoded data removed]",
      "text/plain": [
       "<Figure size 432x288 with 1 Axes>"
      ]
     },
     "metadata": {
      "needs_background": "light"
     },
     "output_type": "display_data"
    }
   ],
   "source": [
    "predictions = regr.predict(X)\n",
    "# plt.figure(figsize=(16, 8))\n",
    "plt.scatter(\n",
    "    df_meso['Flake-out ODF'],\n",
    "    df_dependent_variables['Mean-LocalComponent'],\n",
    "    c='red'\n",
    ")\n",
    "plt.plot(\n",
    "    df_meso['Flake-out ODF'],\n",
    "    predictions,\n",
    "    c='black',\n",
    "    linewidth=2\n",
    ")\n",
    "plt.xlabel(\"Flake-out ODF\")\n",
    "plt.ylabel(\"Mean-LocalComponent\")\n",
    "plt.show()"
   ]
  },
  {
   "cell_type": "markdown",
   "metadata": {},
   "source": [
    "#### with `statsmodels`"
   ]
  },
  {
   "cell_type": "code",
   "execution_count": 239,
   "metadata": {
    "scrolled": false
   },
   "outputs": [
    {
     "data": {
      "text/html": [
       "<table class=\"simpletable\">\n",
       "<caption>OLS Regression Results</caption>\n",
       "<tr>\n",
       "  <th>Dep. Variable:</th>    <td>Mean-LocalComponent</td> <th>  R-squared:         </th> <td>   0.013</td>\n",
       "</tr>\n",
       "<tr>\n",
       "  <th>Model:</th>                    <td>OLS</td>         <th>  Adj. R-squared:    </th> <td>  -0.008</td>\n",
       "</tr>\n",
       "<tr>\n",
       "  <th>Method:</th>              <td>Least Squares</td>    <th>  F-statistic:       </th> <td>  0.6082</td>\n",
       "</tr>\n",
       "<tr>\n",
       "  <th>Date:</th>              <td>Tue, 08 Dec 2020</td>   <th>  Prob (F-statistic):</th>  <td> 0.439</td> \n",
       "</tr>\n",
       "<tr>\n",
       "  <th>Time:</th>                  <td>23:15:13</td>       <th>  Log-Likelihood:    </th> <td>  32.720</td>\n",
       "</tr>\n",
       "<tr>\n",
       "  <th>No. Observations:</th>       <td>    50</td>        <th>  AIC:               </th> <td>  -61.44</td>\n",
       "</tr>\n",
       "<tr>\n",
       "  <th>Df Residuals:</th>           <td>    48</td>        <th>  BIC:               </th> <td>  -57.62</td>\n",
       "</tr>\n",
       "<tr>\n",
       "  <th>Df Model:</th>               <td>     1</td>        <th>                     </th>     <td> </td>   \n",
       "</tr>\n",
       "<tr>\n",
       "  <th>Covariance Type:</th>       <td>nonrobust</td>      <th>                     </th>     <td> </td>   \n",
       "</tr>\n",
       "</table>\n",
       "<table class=\"simpletable\">\n",
       "<tr>\n",
       "        <td></td>           <th>coef</th>     <th>std err</th>      <th>t</th>      <th>P>|t|</th>  <th>[0.025</th>    <th>0.975]</th>  \n",
       "</tr>\n",
       "<tr>\n",
       "  <th>const</th>         <td>    0.4911</td> <td>    0.034</td> <td>   14.267</td> <td> 0.000</td> <td>    0.422</td> <td>    0.560</td>\n",
       "</tr>\n",
       "<tr>\n",
       "  <th>Flake-out ODF</th> <td>   -0.0780</td> <td>    0.100</td> <td>   -0.780</td> <td> 0.439</td> <td>   -0.279</td> <td>    0.123</td>\n",
       "</tr>\n",
       "</table>\n",
       "<table class=\"simpletable\">\n",
       "<tr>\n",
       "  <th>Omnibus:</th>       <td> 4.667</td> <th>  Durbin-Watson:     </th> <td>   1.785</td>\n",
       "</tr>\n",
       "<tr>\n",
       "  <th>Prob(Omnibus):</th> <td> 0.097</td> <th>  Jarque-Bera (JB):  </th> <td>   3.872</td>\n",
       "</tr>\n",
       "<tr>\n",
       "  <th>Skew:</th>          <td>-0.674</td> <th>  Prob(JB):          </th> <td>   0.144</td>\n",
       "</tr>\n",
       "<tr>\n",
       "  <th>Kurtosis:</th>      <td> 3.206</td> <th>  Cond. No.          </th> <td>    6.00</td>\n",
       "</tr>\n",
       "</table><br/><br/>Warnings:<br/>[1] Standard Errors assume that the covariance matrix of the errors is correctly specified."
      ],
      "text/plain": [
       "<class 'statsmodels.iolib.summary.Summary'>\n",
       "\"\"\"\n",
       "                             OLS Regression Results                            \n",
       "===============================================================================\n",
       "Dep. Variable:     Mean-LocalComponent   R-squared:                       0.013\n",
       "Model:                             OLS   Adj. R-squared:                 -0.008\n",
       "Method:                  Least Squares   F-statistic:                    0.6082\n",
       "Date:                 Tue, 08 Dec 2020   Prob (F-statistic):              0.439\n",
       "Time:                         23:15:13   Log-Likelihood:                 32.720\n",
       "No. Observations:                   50   AIC:                            -61.44\n",
       "Df Residuals:                       48   BIC:                            -57.62\n",
       "Df Model:                            1                                         \n",
       "Covariance Type:             nonrobust                                         \n",
       "=================================================================================\n",
       "                    coef    std err          t      P>|t|      [0.025      0.975]\n",
       "---------------------------------------------------------------------------------\n",
       "const             0.4911      0.034     14.267      0.000       0.422       0.560\n",
       "Flake-out ODF    -0.0780      0.100     -0.780      0.439      -0.279       0.123\n",
       "==============================================================================\n",
       "Omnibus:                        4.667   Durbin-Watson:                   1.785\n",
       "Prob(Omnibus):                  0.097   Jarque-Bera (JB):                3.872\n",
       "Skew:                          -0.674   Prob(JB):                        0.144\n",
       "Kurtosis:                       3.206   Cond. No.                         6.00\n",
       "==============================================================================\n",
       "\n",
       "Warnings:\n",
       "[1] Standard Errors assume that the covariance matrix of the errors is correctly specified.\n",
       "\"\"\""
      ]
     },
     "execution_count": 239,
     "metadata": {},
     "output_type": "execute_result"
    }
   ],
   "source": [
    "X = sm.add_constant(X) # adding a constant\n",
    " \n",
    "model = sm.OLS(Y, X).fit()\n",
    "predictions = model.predict(X) \n",
    " \n",
    "print_model = model.summary()\n",
    "print_model"
   ]
  },
  {
   "cell_type": "code",
   "execution_count": 240,
   "metadata": {
    "scrolled": false
   },
   "outputs": [
    {
     "data": {
      "text/plain": [
       "const    6.892291e-19\n",
       "dtype: float64"
      ]
     },
     "execution_count": 240,
     "metadata": {},
     "output_type": "execute_result"
    }
   ],
   "source": [
    "model.pvalues[model.pvalues < 0.05]"
   ]
  },
  {
   "cell_type": "code",
   "execution_count": 241,
   "metadata": {},
   "outputs": [
    {
     "data": {
      "text/plain": [
       "const    6.892291e-19\n",
       "dtype: float64"
      ]
     },
     "execution_count": 241,
     "metadata": {},
     "output_type": "execute_result"
    }
   ],
   "source": [
    "model.pvalues[model.pvalues < 0.01]"
   ]
  },
  {
   "cell_type": "markdown",
   "metadata": {},
   "source": [
    "### Independent variable: Embeddedness"
   ]
  },
  {
   "cell_type": "code",
   "execution_count": 242,
   "metadata": {},
   "outputs": [],
   "source": [
    "X = df_meso[['Embeddedness']]"
   ]
  },
  {
   "cell_type": "code",
   "execution_count": 243,
   "metadata": {
    "scrolled": false
   },
   "outputs": [],
   "source": [
    "Y = df_dependent_variables['Mean-LocalComponent']"
   ]
  },
  {
   "cell_type": "markdown",
   "metadata": {},
   "source": [
    "#### with `sklearn`"
   ]
  },
  {
   "cell_type": "code",
   "execution_count": 244,
   "metadata": {},
   "outputs": [
    {
     "data": {
      "text/plain": [
       "LinearRegression(copy_X=True, fit_intercept=True, n_jobs=None, normalize=False)"
      ]
     },
     "execution_count": 244,
     "metadata": {},
     "output_type": "execute_result"
    }
   ],
   "source": [
    "regr = LinearRegression()\n",
    "regr.fit(X, Y)"
   ]
  },
  {
   "cell_type": "code",
   "execution_count": 245,
   "metadata": {},
   "outputs": [
    {
     "name": "stdout",
     "output_type": "stream",
     "text": [
      "Intercept: \n",
      " 0.49105531272709596\n",
      "Coefficients: \n",
      " [-0.03045261]\n"
     ]
    }
   ],
   "source": [
    "print('Intercept: \\n', regr.intercept_)\n",
    "print('Coefficients: \\n', regr.coef_)"
   ]
  },
  {
   "cell_type": "markdown",
   "metadata": {},
   "source": [
    "#### Plot "
   ]
  },
  {
   "cell_type": "code",
   "execution_count": 246,
   "metadata": {
    "scrolled": false
   },
   "outputs": [
    {
     "data": {
      "image/png": "[encoded data removed]",
      "text/plain": [
       "<Figure size 432x288 with 1 Axes>"
      ]
     },
     "metadata": {
      "needs_background": "light"
     },
     "output_type": "display_data"
    }
   ],
   "source": [
    "predictions = regr.predict(X)\n",
    "# plt.figure(figsize=(16, 8))\n",
    "plt.scatter(\n",
    "    df_meso['Embeddedness'],\n",
    "    df_dependent_variables['Mean-LocalComponent'],\n",
    "    c='red'\n",
    ")\n",
    "plt.plot(\n",
    "    df_meso['Embeddedness'],\n",
    "    predictions,\n",
    "    c='black',\n",
    "    linewidth=2\n",
    ")\n",
    "plt.xlabel(\"Embeddedness\")\n",
    "plt.ylabel(\"Mean-LocalComponent\")\n",
    "plt.show()"
   ]
  },
  {
   "cell_type": "markdown",
   "metadata": {},
   "source": [
    "#### with `statsmodels`"
   ]
  },
  {
   "cell_type": "code",
   "execution_count": 247,
   "metadata": {
    "scrolled": false
   },
   "outputs": [
    {
     "data": {
      "text/html": [
       "<table class=\"simpletable\">\n",
       "<caption>OLS Regression Results</caption>\n",
       "<tr>\n",
       "  <th>Dep. Variable:</th>    <td>Mean-LocalComponent</td> <th>  R-squared:         </th> <td>   0.001</td>\n",
       "</tr>\n",
       "<tr>\n",
       "  <th>Model:</th>                    <td>OLS</td>         <th>  Adj. R-squared:    </th> <td>  -0.020</td>\n",
       "</tr>\n",
       "<tr>\n",
       "  <th>Method:</th>              <td>Least Squares</td>    <th>  F-statistic:       </th> <td> 0.03430</td>\n",
       "</tr>\n",
       "<tr>\n",
       "  <th>Date:</th>              <td>Tue, 08 Dec 2020</td>   <th>  Prob (F-statistic):</th>  <td> 0.854</td> \n",
       "</tr>\n",
       "<tr>\n",
       "  <th>Time:</th>                  <td>23:15:22</td>       <th>  Log-Likelihood:    </th> <td>  32.423</td>\n",
       "</tr>\n",
       "<tr>\n",
       "  <th>No. Observations:</th>       <td>    50</td>        <th>  AIC:               </th> <td>  -60.85</td>\n",
       "</tr>\n",
       "<tr>\n",
       "  <th>Df Residuals:</th>           <td>    48</td>        <th>  BIC:               </th> <td>  -57.02</td>\n",
       "</tr>\n",
       "<tr>\n",
       "  <th>Df Model:</th>               <td>     1</td>        <th>                     </th>     <td> </td>   \n",
       "</tr>\n",
       "<tr>\n",
       "  <th>Covariance Type:</th>       <td>nonrobust</td>      <th>                     </th>     <td> </td>   \n",
       "</tr>\n",
       "</table>\n",
       "<table class=\"simpletable\">\n",
       "<tr>\n",
       "        <td></td>          <th>coef</th>     <th>std err</th>      <th>t</th>      <th>P>|t|</th>  <th>[0.025</th>    <th>0.975]</th>  \n",
       "</tr>\n",
       "<tr>\n",
       "  <th>const</th>        <td>    0.4911</td> <td>    0.124</td> <td>    3.957</td> <td> 0.000</td> <td>    0.242</td> <td>    0.741</td>\n",
       "</tr>\n",
       "<tr>\n",
       "  <th>Embeddedness</th> <td>   -0.0305</td> <td>    0.164</td> <td>   -0.185</td> <td> 0.854</td> <td>   -0.361</td> <td>    0.300</td>\n",
       "</tr>\n",
       "</table>\n",
       "<table class=\"simpletable\">\n",
       "<tr>\n",
       "  <th>Omnibus:</th>       <td> 3.915</td> <th>  Durbin-Watson:     </th> <td>   1.736</td>\n",
       "</tr>\n",
       "<tr>\n",
       "  <th>Prob(Omnibus):</th> <td> 0.141</td> <th>  Jarque-Bera (JB):  </th> <td>   3.383</td>\n",
       "</tr>\n",
       "<tr>\n",
       "  <th>Skew:</th>          <td>-0.637</td> <th>  Prob(JB):          </th> <td>   0.184</td>\n",
       "</tr>\n",
       "<tr>\n",
       "  <th>Kurtosis:</th>      <td> 3.003</td> <th>  Cond. No.          </th> <td>    14.1</td>\n",
       "</tr>\n",
       "</table><br/><br/>Warnings:<br/>[1] Standard Errors assume that the covariance matrix of the errors is correctly specified."
      ],
      "text/plain": [
       "<class 'statsmodels.iolib.summary.Summary'>\n",
       "\"\"\"\n",
       "                             OLS Regression Results                            \n",
       "===============================================================================\n",
       "Dep. Variable:     Mean-LocalComponent   R-squared:                       0.001\n",
       "Model:                             OLS   Adj. R-squared:                 -0.020\n",
       "Method:                  Least Squares   F-statistic:                   0.03430\n",
       "Date:                 Tue, 08 Dec 2020   Prob (F-statistic):              0.854\n",
       "Time:                         23:15:22   Log-Likelihood:                 32.423\n",
       "No. Observations:                   50   AIC:                            -60.85\n",
       "Df Residuals:                       48   BIC:                            -57.02\n",
       "Df Model:                            1                                         \n",
       "Covariance Type:             nonrobust                                         \n",
       "================================================================================\n",
       "                   coef    std err          t      P>|t|      [0.025      0.975]\n",
       "--------------------------------------------------------------------------------\n",
       "const            0.4911      0.124      3.957      0.000       0.242       0.741\n",
       "Embeddedness    -0.0305      0.164     -0.185      0.854      -0.361       0.300\n",
       "==============================================================================\n",
       "Omnibus:                        3.915   Durbin-Watson:                   1.736\n",
       "Prob(Omnibus):                  0.141   Jarque-Bera (JB):                3.383\n",
       "Skew:                          -0.637   Prob(JB):                        0.184\n",
       "Kurtosis:                       3.003   Cond. No.                         14.1\n",
       "==============================================================================\n",
       "\n",
       "Warnings:\n",
       "[1] Standard Errors assume that the covariance matrix of the errors is correctly specified.\n",
       "\"\"\""
      ]
     },
     "execution_count": 247,
     "metadata": {},
     "output_type": "execute_result"
    }
   ],
   "source": [
    "X = sm.add_constant(X) # adding a constant\n",
    " \n",
    "model = sm.OLS(Y, X).fit()\n",
    "predictions = model.predict(X) \n",
    " \n",
    "print_model = model.summary()\n",
    "print_model"
   ]
  },
  {
   "cell_type": "code",
   "execution_count": 248,
   "metadata": {
    "scrolled": false
   },
   "outputs": [
    {
     "data": {
      "text/plain": [
       "const    0.00025\n",
       "dtype: float64"
      ]
     },
     "execution_count": 248,
     "metadata": {},
     "output_type": "execute_result"
    }
   ],
   "source": [
    "model.pvalues[model.pvalues < 0.05]"
   ]
  },
  {
   "cell_type": "markdown",
   "metadata": {},
   "source": [
    "### Independent variable: Internal distance"
   ]
  },
  {
   "cell_type": "code",
   "execution_count": 249,
   "metadata": {},
   "outputs": [],
   "source": [
    "X = df_meso[['Internal distance']]"
   ]
  },
  {
   "cell_type": "code",
   "execution_count": 250,
   "metadata": {
    "scrolled": false
   },
   "outputs": [],
   "source": [
    "Y = df_dependent_variables['Mean-LocalComponent']"
   ]
  },
  {
   "cell_type": "markdown",
   "metadata": {},
   "source": [
    "#### with `sklearn`"
   ]
  },
  {
   "cell_type": "code",
   "execution_count": 251,
   "metadata": {
    "scrolled": true
   },
   "outputs": [
    {
     "data": {
      "text/plain": [
       "LinearRegression(copy_X=True, fit_intercept=True, n_jobs=None, normalize=False)"
      ]
     },
     "execution_count": 251,
     "metadata": {},
     "output_type": "execute_result"
    }
   ],
   "source": [
    "regr = LinearRegression()\n",
    "regr.fit(X, Y)"
   ]
  },
  {
   "cell_type": "code",
   "execution_count": 252,
   "metadata": {},
   "outputs": [
    {
     "name": "stdout",
     "output_type": "stream",
     "text": [
      "Intercept: \n",
      " 0.6996785689109399\n",
      "Coefficients: \n",
      " [-0.12872992]\n"
     ]
    }
   ],
   "source": [
    "print('Intercept: \\n', regr.intercept_)\n",
    "print('Coefficients: \\n', regr.coef_)"
   ]
  },
  {
   "cell_type": "markdown",
   "metadata": {},
   "source": [
    "#### Plot "
   ]
  },
  {
   "cell_type": "code",
   "execution_count": 253,
   "metadata": {
    "scrolled": false
   },
   "outputs": [
    {
     "data": {
      "image/png": "[encoded data removed]",
      "text/plain": [
       "<Figure size 432x288 with 1 Axes>"
      ]
     },
     "metadata": {
      "needs_background": "light"
     },
     "output_type": "display_data"
    }
   ],
   "source": [
    "predictions = regr.predict(X)\n",
    "# plt.figure(figsize=(16, 8))\n",
    "plt.scatter(\n",
    "    df_meso['Internal distance'],\n",
    "    df_dependent_variables['Mean-LocalComponent'],\n",
    "    c='red'\n",
    ")\n",
    "plt.plot(\n",
    "    df_meso['Internal distance'],\n",
    "    predictions,\n",
    "    c='black',\n",
    "    linewidth=2\n",
    ")\n",
    "plt.xlabel(\"Internal distance\")\n",
    "plt.ylabel(\"Mean-LocalComponent\")\n",
    "plt.show()"
   ]
  },
  {
   "cell_type": "markdown",
   "metadata": {},
   "source": [
    "#### with `statsmodels`"
   ]
  },
  {
   "cell_type": "code",
   "execution_count": 254,
   "metadata": {
    "scrolled": false
   },
   "outputs": [
    {
     "data": {
      "text/html": [
       "<table class=\"simpletable\">\n",
       "<caption>OLS Regression Results</caption>\n",
       "<tr>\n",
       "  <th>Dep. Variable:</th>    <td>Mean-LocalComponent</td> <th>  R-squared:         </th> <td>   0.111</td>\n",
       "</tr>\n",
       "<tr>\n",
       "  <th>Model:</th>                    <td>OLS</td>         <th>  Adj. R-squared:    </th> <td>   0.093</td>\n",
       "</tr>\n",
       "<tr>\n",
       "  <th>Method:</th>              <td>Least Squares</td>    <th>  F-statistic:       </th> <td>   5.997</td>\n",
       "</tr>\n",
       "<tr>\n",
       "  <th>Date:</th>              <td>Tue, 08 Dec 2020</td>   <th>  Prob (F-statistic):</th>  <td>0.0180</td> \n",
       "</tr>\n",
       "<tr>\n",
       "  <th>Time:</th>                  <td>23:15:28</td>       <th>  Log-Likelihood:    </th> <td>  35.348</td>\n",
       "</tr>\n",
       "<tr>\n",
       "  <th>No. Observations:</th>       <td>    50</td>        <th>  AIC:               </th> <td>  -66.70</td>\n",
       "</tr>\n",
       "<tr>\n",
       "  <th>Df Residuals:</th>           <td>    48</td>        <th>  BIC:               </th> <td>  -62.87</td>\n",
       "</tr>\n",
       "<tr>\n",
       "  <th>Df Model:</th>               <td>     1</td>        <th>                     </th>     <td> </td>   \n",
       "</tr>\n",
       "<tr>\n",
       "  <th>Covariance Type:</th>       <td>nonrobust</td>      <th>                     </th>     <td> </td>   \n",
       "</tr>\n",
       "</table>\n",
       "<table class=\"simpletable\">\n",
       "<tr>\n",
       "          <td></td>             <th>coef</th>     <th>std err</th>      <th>t</th>      <th>P>|t|</th>  <th>[0.025</th>    <th>0.975]</th>  \n",
       "</tr>\n",
       "<tr>\n",
       "  <th>const</th>             <td>    0.6997</td> <td>    0.096</td> <td>    7.286</td> <td> 0.000</td> <td>    0.507</td> <td>    0.893</td>\n",
       "</tr>\n",
       "<tr>\n",
       "  <th>Internal distance</th> <td>   -0.1287</td> <td>    0.053</td> <td>   -2.449</td> <td> 0.018</td> <td>   -0.234</td> <td>   -0.023</td>\n",
       "</tr>\n",
       "</table>\n",
       "<table class=\"simpletable\">\n",
       "<tr>\n",
       "  <th>Omnibus:</th>       <td>13.275</td> <th>  Durbin-Watson:     </th> <td>   1.566</td>\n",
       "</tr>\n",
       "<tr>\n",
       "  <th>Prob(Omnibus):</th> <td> 0.001</td> <th>  Jarque-Bera (JB):  </th> <td>  14.018</td>\n",
       "</tr>\n",
       "<tr>\n",
       "  <th>Skew:</th>          <td>-1.123</td> <th>  Prob(JB):          </th> <td>0.000904</td>\n",
       "</tr>\n",
       "<tr>\n",
       "  <th>Kurtosis:</th>      <td> 4.298</td> <th>  Cond. No.          </th> <td>    13.2</td>\n",
       "</tr>\n",
       "</table><br/><br/>Warnings:<br/>[1] Standard Errors assume that the covariance matrix of the errors is correctly specified."
      ],
      "text/plain": [
       "<class 'statsmodels.iolib.summary.Summary'>\n",
       "\"\"\"\n",
       "                             OLS Regression Results                            \n",
       "===============================================================================\n",
       "Dep. Variable:     Mean-LocalComponent   R-squared:                       0.111\n",
       "Model:                             OLS   Adj. R-squared:                  0.093\n",
       "Method:                  Least Squares   F-statistic:                     5.997\n",
       "Date:                 Tue, 08 Dec 2020   Prob (F-statistic):             0.0180\n",
       "Time:                         23:15:28   Log-Likelihood:                 35.348\n",
       "No. Observations:                   50   AIC:                            -66.70\n",
       "Df Residuals:                       48   BIC:                            -62.87\n",
       "Df Model:                            1                                         \n",
       "Covariance Type:             nonrobust                                         \n",
       "=====================================================================================\n",
       "                        coef    std err          t      P>|t|      [0.025      0.975]\n",
       "-------------------------------------------------------------------------------------\n",
       "const                 0.6997      0.096      7.286      0.000       0.507       0.893\n",
       "Internal distance    -0.1287      0.053     -2.449      0.018      -0.234      -0.023\n",
       "==============================================================================\n",
       "Omnibus:                       13.275   Durbin-Watson:                   1.566\n",
       "Prob(Omnibus):                  0.001   Jarque-Bera (JB):               14.018\n",
       "Skew:                          -1.123   Prob(JB):                     0.000904\n",
       "Kurtosis:                       4.298   Cond. No.                         13.2\n",
       "==============================================================================\n",
       "\n",
       "Warnings:\n",
       "[1] Standard Errors assume that the covariance matrix of the errors is correctly specified.\n",
       "\"\"\""
      ]
     },
     "execution_count": 254,
     "metadata": {},
     "output_type": "execute_result"
    }
   ],
   "source": [
    "X = sm.add_constant(X) # adding a constant\n",
    " \n",
    "model = sm.OLS(Y, X).fit()\n",
    "predictions = model.predict(X) \n",
    " \n",
    "print_model = model.summary()\n",
    "print_model"
   ]
  },
  {
   "cell_type": "code",
   "execution_count": 255,
   "metadata": {
    "scrolled": false
   },
   "outputs": [
    {
     "data": {
      "text/plain": [
       "const                2.681560e-09\n",
       "Internal distance    1.802864e-02\n",
       "dtype: float64"
      ]
     },
     "execution_count": 255,
     "metadata": {},
     "output_type": "execute_result"
    }
   ],
   "source": [
    "model.pvalues[model.pvalues < 0.05]"
   ]
  },
  {
   "cell_type": "code",
   "execution_count": 256,
   "metadata": {},
   "outputs": [
    {
     "data": {
      "text/plain": [
       "const    2.681560e-09\n",
       "dtype: float64"
      ]
     },
     "execution_count": 256,
     "metadata": {},
     "output_type": "execute_result"
    }
   ],
   "source": [
    "model.pvalues[model.pvalues < 0.01]"
   ]
  },
  {
   "cell_type": "markdown",
   "metadata": {},
   "source": [
    "### Independent variable: Hub Dominance"
   ]
  },
  {
   "cell_type": "code",
   "execution_count": 257,
   "metadata": {},
   "outputs": [],
   "source": [
    "X = df_meso[['Hub Dominance']]"
   ]
  },
  {
   "cell_type": "code",
   "execution_count": 258,
   "metadata": {
    "scrolled": false
   },
   "outputs": [],
   "source": [
    "Y = df_dependent_variables['Mean-LocalComponent']"
   ]
  },
  {
   "cell_type": "markdown",
   "metadata": {},
   "source": [
    "#### with `sklearn`"
   ]
  },
  {
   "cell_type": "code",
   "execution_count": 259,
   "metadata": {},
   "outputs": [
    {
     "data": {
      "text/plain": [
       "LinearRegression(copy_X=True, fit_intercept=True, n_jobs=None, normalize=False)"
      ]
     },
     "execution_count": 259,
     "metadata": {},
     "output_type": "execute_result"
    }
   ],
   "source": [
    "regr = LinearRegression()\n",
    "regr.fit(X, Y)"
   ]
  },
  {
   "cell_type": "code",
   "execution_count": 260,
   "metadata": {},
   "outputs": [
    {
     "name": "stdout",
     "output_type": "stream",
     "text": [
      "Intercept: \n",
      " 0.3203200629112599\n",
      "Coefficients: \n",
      " [0.19188873]\n"
     ]
    }
   ],
   "source": [
    "print('Intercept: \\n', regr.intercept_)\n",
    "print('Coefficients: \\n', regr.coef_)"
   ]
  },
  {
   "cell_type": "markdown",
   "metadata": {},
   "source": [
    "#### Plot "
   ]
  },
  {
   "cell_type": "code",
   "execution_count": 261,
   "metadata": {
    "scrolled": false
   },
   "outputs": [
    {
     "data": {
      "image/png": "[encoded data removed]",
      "text/plain": [
       "<Figure size 432x288 with 1 Axes>"
      ]
     },
     "metadata": {
      "needs_background": "light"
     },
     "output_type": "display_data"
    }
   ],
   "source": [
    "predictions = regr.predict(X)\n",
    "# plt.figure(figsize=(16, 8))\n",
    "plt.scatter(\n",
    "    df_meso['Hub Dominance'],\n",
    "    df_dependent_variables['Mean-LocalComponent'],\n",
    "    c='red'\n",
    ")\n",
    "plt.plot(\n",
    "    df_meso['Hub Dominance'],\n",
    "    predictions,\n",
    "    c='black',\n",
    "    linewidth=2\n",
    ")\n",
    "plt.xlabel(\"Hub Dominance\")\n",
    "plt.ylabel(\"Mean-LocalComponent\")\n",
    "plt.show()"
   ]
  },
  {
   "cell_type": "markdown",
   "metadata": {},
   "source": [
    "#### with `statsmodels`"
   ]
  },
  {
   "cell_type": "code",
   "execution_count": 262,
   "metadata": {
    "scrolled": false
   },
   "outputs": [
    {
     "data": {
      "text/html": [
       "<table class=\"simpletable\">\n",
       "<caption>OLS Regression Results</caption>\n",
       "<tr>\n",
       "  <th>Dep. Variable:</th>    <td>Mean-LocalComponent</td> <th>  R-squared:         </th> <td>   0.042</td>\n",
       "</tr>\n",
       "<tr>\n",
       "  <th>Model:</th>                    <td>OLS</td>         <th>  Adj. R-squared:    </th> <td>   0.022</td>\n",
       "</tr>\n",
       "<tr>\n",
       "  <th>Method:</th>              <td>Least Squares</td>    <th>  F-statistic:       </th> <td>   2.111</td>\n",
       "</tr>\n",
       "<tr>\n",
       "  <th>Date:</th>              <td>Tue, 08 Dec 2020</td>   <th>  Prob (F-statistic):</th>  <td> 0.153</td> \n",
       "</tr>\n",
       "<tr>\n",
       "  <th>Time:</th>                  <td>23:15:40</td>       <th>  Log-Likelihood:    </th> <td>  33.481</td>\n",
       "</tr>\n",
       "<tr>\n",
       "  <th>No. Observations:</th>       <td>    50</td>        <th>  AIC:               </th> <td>  -62.96</td>\n",
       "</tr>\n",
       "<tr>\n",
       "  <th>Df Residuals:</th>           <td>    48</td>        <th>  BIC:               </th> <td>  -59.14</td>\n",
       "</tr>\n",
       "<tr>\n",
       "  <th>Df Model:</th>               <td>     1</td>        <th>                     </th>     <td> </td>   \n",
       "</tr>\n",
       "<tr>\n",
       "  <th>Covariance Type:</th>       <td>nonrobust</td>      <th>                     </th>     <td> </td>   \n",
       "</tr>\n",
       "</table>\n",
       "<table class=\"simpletable\">\n",
       "<tr>\n",
       "        <td></td>           <th>coef</th>     <th>std err</th>      <th>t</th>      <th>P>|t|</th>  <th>[0.025</th>    <th>0.975]</th>  \n",
       "</tr>\n",
       "<tr>\n",
       "  <th>const</th>         <td>    0.3203</td> <td>    0.103</td> <td>    3.098</td> <td> 0.003</td> <td>    0.112</td> <td>    0.528</td>\n",
       "</tr>\n",
       "<tr>\n",
       "  <th>Hub Dominance</th> <td>    0.1919</td> <td>    0.132</td> <td>    1.453</td> <td> 0.153</td> <td>   -0.074</td> <td>    0.457</td>\n",
       "</tr>\n",
       "</table>\n",
       "<table class=\"simpletable\">\n",
       "<tr>\n",
       "  <th>Omnibus:</th>       <td> 8.195</td> <th>  Durbin-Watson:     </th> <td>   1.599</td>\n",
       "</tr>\n",
       "<tr>\n",
       "  <th>Prob(Omnibus):</th> <td> 0.017</td> <th>  Jarque-Bera (JB):  </th> <td>   7.417</td>\n",
       "</tr>\n",
       "<tr>\n",
       "  <th>Skew:</th>          <td>-0.903</td> <th>  Prob(JB):          </th> <td>  0.0245</td>\n",
       "</tr>\n",
       "<tr>\n",
       "  <th>Kurtosis:</th>      <td> 3.549</td> <th>  Cond. No.          </th> <td>    11.8</td>\n",
       "</tr>\n",
       "</table><br/><br/>Warnings:<br/>[1] Standard Errors assume that the covariance matrix of the errors is correctly specified."
      ],
      "text/plain": [
       "<class 'statsmodels.iolib.summary.Summary'>\n",
       "\"\"\"\n",
       "                             OLS Regression Results                            \n",
       "===============================================================================\n",
       "Dep. Variable:     Mean-LocalComponent   R-squared:                       0.042\n",
       "Model:                             OLS   Adj. R-squared:                  0.022\n",
       "Method:                  Least Squares   F-statistic:                     2.111\n",
       "Date:                 Tue, 08 Dec 2020   Prob (F-statistic):              0.153\n",
       "Time:                         23:15:40   Log-Likelihood:                 33.481\n",
       "No. Observations:                   50   AIC:                            -62.96\n",
       "Df Residuals:                       48   BIC:                            -59.14\n",
       "Df Model:                            1                                         \n",
       "Covariance Type:             nonrobust                                         \n",
       "=================================================================================\n",
       "                    coef    std err          t      P>|t|      [0.025      0.975]\n",
       "---------------------------------------------------------------------------------\n",
       "const             0.3203      0.103      3.098      0.003       0.112       0.528\n",
       "Hub Dominance     0.1919      0.132      1.453      0.153      -0.074       0.457\n",
       "==============================================================================\n",
       "Omnibus:                        8.195   Durbin-Watson:                   1.599\n",
       "Prob(Omnibus):                  0.017   Jarque-Bera (JB):                7.417\n",
       "Skew:                          -0.903   Prob(JB):                       0.0245\n",
       "Kurtosis:                       3.549   Cond. No.                         11.8\n",
       "==============================================================================\n",
       "\n",
       "Warnings:\n",
       "[1] Standard Errors assume that the covariance matrix of the errors is correctly specified.\n",
       "\"\"\""
      ]
     },
     "execution_count": 262,
     "metadata": {},
     "output_type": "execute_result"
    }
   ],
   "source": [
    "X = sm.add_constant(X) # adding a constant\n",
    " \n",
    "model = sm.OLS(Y, X).fit()\n",
    "predictions = model.predict(X) \n",
    " \n",
    "print_model = model.summary()\n",
    "print_model"
   ]
  },
  {
   "cell_type": "code",
   "execution_count": 263,
   "metadata": {
    "scrolled": false
   },
   "outputs": [
    {
     "data": {
      "text/plain": [
       "const    0.003256\n",
       "dtype: float64"
      ]
     },
     "execution_count": 263,
     "metadata": {},
     "output_type": "execute_result"
    }
   ],
   "source": [
    "model.pvalues[model.pvalues < 0.05]"
   ]
  },
  {
   "cell_type": "markdown",
   "metadata": {},
   "source": [
    "## Dependent variable: Global component"
   ]
  },
  {
   "cell_type": "markdown",
   "metadata": {},
   "source": [
    "### Independent variable: Average Degree"
   ]
  },
  {
   "cell_type": "code",
   "execution_count": 264,
   "metadata": {},
   "outputs": [],
   "source": [
    "X = df_macro[['Average Degree']]"
   ]
  },
  {
   "cell_type": "code",
   "execution_count": 265,
   "metadata": {
    "scrolled": false
   },
   "outputs": [],
   "source": [
    "Y = df_dependent_variables['Mean-GlobalComponent']"
   ]
  },
  {
   "cell_type": "markdown",
   "metadata": {},
   "source": [
    "#### with `sklearn`"
   ]
  },
  {
   "cell_type": "code",
   "execution_count": 266,
   "metadata": {},
   "outputs": [
    {
     "data": {
      "text/plain": [
       "LinearRegression(copy_X=True, fit_intercept=True, n_jobs=None, normalize=False)"
      ]
     },
     "execution_count": 266,
     "metadata": {},
     "output_type": "execute_result"
    }
   ],
   "source": [
    "regr = LinearRegression()\n",
    "regr.fit(X, Y)"
   ]
  },
  {
   "cell_type": "code",
   "execution_count": 267,
   "metadata": {},
   "outputs": [
    {
     "name": "stdout",
     "output_type": "stream",
     "text": [
      "Intercept: \n",
      " 0.41854663212899157\n",
      "Coefficients: \n",
      " [0.0003071]\n"
     ]
    }
   ],
   "source": [
    "print('Intercept: \\n', regr.intercept_)\n",
    "print('Coefficients: \\n', regr.coef_)"
   ]
  },
  {
   "cell_type": "markdown",
   "metadata": {},
   "source": [
    "#### Plot "
   ]
  },
  {
   "cell_type": "code",
   "execution_count": 268,
   "metadata": {
    "scrolled": false
   },
   "outputs": [
    {
     "data": {
      "image/png": "[encoded data removed]",
      "text/plain": [
       "<Figure size 432x288 with 1 Axes>"
      ]
     },
     "metadata": {
      "needs_background": "light"
     },
     "output_type": "display_data"
    }
   ],
   "source": [
    "predictions = regr.predict(X)\n",
    "#plt.figure(figsize=(16, 8))\n",
    "plt.scatter(\n",
    "    df_macro['Average Degree'],\n",
    "    df_dependent_variables['Mean-GlobalComponent'],\n",
    "    c='red'\n",
    ")\n",
    "plt.plot(\n",
    "    df_macro['Average Degree'],\n",
    "    predictions,\n",
    "    c='black',\n",
    "    linewidth=2\n",
    ")\n",
    "plt.xlabel(\"Average Degre\")\n",
    "plt.ylabel(\"Mean-GlobalComponent\")\n",
    "plt.show()"
   ]
  },
  {
   "cell_type": "markdown",
   "metadata": {},
   "source": [
    "#### with `statsmodels`"
   ]
  },
  {
   "cell_type": "code",
   "execution_count": 269,
   "metadata": {
    "scrolled": false
   },
   "outputs": [
    {
     "data": {
      "text/html": [
       "<table class=\"simpletable\">\n",
       "<caption>OLS Regression Results</caption>\n",
       "<tr>\n",
       "  <th>Dep. Variable:</th>    <td>Mean-GlobalComponent</td> <th>  R-squared:         </th> <td>   0.003</td>\n",
       "</tr>\n",
       "<tr>\n",
       "  <th>Model:</th>                     <td>OLS</td>         <th>  Adj. R-squared:    </th> <td>  -0.017</td>\n",
       "</tr>\n",
       "<tr>\n",
       "  <th>Method:</th>               <td>Least Squares</td>    <th>  F-statistic:       </th> <td>  0.1630</td>\n",
       "</tr>\n",
       "<tr>\n",
       "  <th>Date:</th>               <td>Tue, 08 Dec 2020</td>   <th>  Prob (F-statistic):</th>  <td> 0.688</td> \n",
       "</tr>\n",
       "<tr>\n",
       "  <th>Time:</th>                   <td>23:15:49</td>       <th>  Log-Likelihood:    </th> <td>  34.234</td>\n",
       "</tr>\n",
       "<tr>\n",
       "  <th>No. Observations:</th>        <td>    50</td>        <th>  AIC:               </th> <td>  -64.47</td>\n",
       "</tr>\n",
       "<tr>\n",
       "  <th>Df Residuals:</th>            <td>    48</td>        <th>  BIC:               </th> <td>  -60.64</td>\n",
       "</tr>\n",
       "<tr>\n",
       "  <th>Df Model:</th>                <td>     1</td>        <th>                     </th>     <td> </td>   \n",
       "</tr>\n",
       "<tr>\n",
       "  <th>Covariance Type:</th>        <td>nonrobust</td>      <th>                     </th>     <td> </td>   \n",
       "</tr>\n",
       "</table>\n",
       "<table class=\"simpletable\">\n",
       "<tr>\n",
       "         <td></td>           <th>coef</th>     <th>std err</th>      <th>t</th>      <th>P>|t|</th>  <th>[0.025</th>    <th>0.975]</th>  \n",
       "</tr>\n",
       "<tr>\n",
       "  <th>const</th>          <td>    0.4185</td> <td>    0.021</td> <td>   20.167</td> <td> 0.000</td> <td>    0.377</td> <td>    0.460</td>\n",
       "</tr>\n",
       "<tr>\n",
       "  <th>Average Degree</th> <td>    0.0003</td> <td>    0.001</td> <td>    0.404</td> <td> 0.688</td> <td>   -0.001</td> <td>    0.002</td>\n",
       "</tr>\n",
       "</table>\n",
       "<table class=\"simpletable\">\n",
       "<tr>\n",
       "  <th>Omnibus:</th>       <td> 4.902</td> <th>  Durbin-Watson:     </th> <td>   2.430</td>\n",
       "</tr>\n",
       "<tr>\n",
       "  <th>Prob(Omnibus):</th> <td> 0.086</td> <th>  Jarque-Bera (JB):  </th> <td>   2.040</td>\n",
       "</tr>\n",
       "<tr>\n",
       "  <th>Skew:</th>          <td> 0.076</td> <th>  Prob(JB):          </th> <td>   0.361</td>\n",
       "</tr>\n",
       "<tr>\n",
       "  <th>Kurtosis:</th>      <td> 2.022</td> <th>  Cond. No.          </th> <td>    32.2</td>\n",
       "</tr>\n",
       "</table><br/><br/>Warnings:<br/>[1] Standard Errors assume that the covariance matrix of the errors is correctly specified."
      ],
      "text/plain": [
       "<class 'statsmodels.iolib.summary.Summary'>\n",
       "\"\"\"\n",
       "                             OLS Regression Results                             \n",
       "================================================================================\n",
       "Dep. Variable:     Mean-GlobalComponent   R-squared:                       0.003\n",
       "Model:                              OLS   Adj. R-squared:                 -0.017\n",
       "Method:                   Least Squares   F-statistic:                    0.1630\n",
       "Date:                  Tue, 08 Dec 2020   Prob (F-statistic):              0.688\n",
       "Time:                          23:15:49   Log-Likelihood:                 34.234\n",
       "No. Observations:                    50   AIC:                            -64.47\n",
       "Df Residuals:                        48   BIC:                            -60.64\n",
       "Df Model:                             1                                         \n",
       "Covariance Type:              nonrobust                                         \n",
       "==================================================================================\n",
       "                     coef    std err          t      P>|t|      [0.025      0.975]\n",
       "----------------------------------------------------------------------------------\n",
       "const              0.4185      0.021     20.167      0.000       0.377       0.460\n",
       "Average Degree     0.0003      0.001      0.404      0.688      -0.001       0.002\n",
       "==============================================================================\n",
       "Omnibus:                        4.902   Durbin-Watson:                   2.430\n",
       "Prob(Omnibus):                  0.086   Jarque-Bera (JB):                2.040\n",
       "Skew:                           0.076   Prob(JB):                        0.361\n",
       "Kurtosis:                       2.022   Cond. No.                         32.2\n",
       "==============================================================================\n",
       "\n",
       "Warnings:\n",
       "[1] Standard Errors assume that the covariance matrix of the errors is correctly specified.\n",
       "\"\"\""
      ]
     },
     "execution_count": 269,
     "metadata": {},
     "output_type": "execute_result"
    }
   ],
   "source": [
    "X = sm.add_constant(X) # adding a constant\n",
    " \n",
    "model = sm.OLS(Y, X).fit()\n",
    "predictions = model.predict(X) \n",
    " \n",
    "print_model = model.summary()\n",
    "print_model"
   ]
  },
  {
   "cell_type": "code",
   "execution_count": 270,
   "metadata": {
    "scrolled": true
   },
   "outputs": [
    {
     "data": {
      "text/plain": [
       "const    4.429807e-25\n",
       "dtype: float64"
      ]
     },
     "execution_count": 270,
     "metadata": {},
     "output_type": "execute_result"
    }
   ],
   "source": [
    "model.pvalues[model.pvalues < 0.05]"
   ]
  },
  {
   "cell_type": "markdown",
   "metadata": {},
   "source": [
    "### Independent variable: Average Distance"
   ]
  },
  {
   "cell_type": "code",
   "execution_count": 271,
   "metadata": {},
   "outputs": [],
   "source": [
    "X = df_macro[['Average Distance']]"
   ]
  },
  {
   "cell_type": "code",
   "execution_count": 272,
   "metadata": {
    "scrolled": false
   },
   "outputs": [],
   "source": [
    "Y = df_dependent_variables['Mean-GlobalComponent']"
   ]
  },
  {
   "cell_type": "markdown",
   "metadata": {},
   "source": [
    "#### with `sklearn`"
   ]
  },
  {
   "cell_type": "code",
   "execution_count": 273,
   "metadata": {},
   "outputs": [
    {
     "data": {
      "text/plain": [
       "LinearRegression(copy_X=True, fit_intercept=True, n_jobs=None, normalize=False)"
      ]
     },
     "execution_count": 273,
     "metadata": {},
     "output_type": "execute_result"
    }
   ],
   "source": [
    "regr = LinearRegression()\n",
    "regr.fit(X, Y)"
   ]
  },
  {
   "cell_type": "code",
   "execution_count": 274,
   "metadata": {},
   "outputs": [
    {
     "name": "stdout",
     "output_type": "stream",
     "text": [
      "Intercept: \n",
      " 0.455053858510334\n",
      "Coefficients: \n",
      " [-0.00628438]\n"
     ]
    }
   ],
   "source": [
    "print('Intercept: \\n', regr.intercept_)\n",
    "print('Coefficients: \\n', regr.coef_)"
   ]
  },
  {
   "cell_type": "markdown",
   "metadata": {},
   "source": [
    "#### Plot "
   ]
  },
  {
   "cell_type": "code",
   "execution_count": 275,
   "metadata": {
    "scrolled": false
   },
   "outputs": [
    {
     "data": {
      "image/png": "[encoded data removed]",
      "text/plain": [
       "<Figure size 432x288 with 1 Axes>"
      ]
     },
     "metadata": {
      "needs_background": "light"
     },
     "output_type": "display_data"
    }
   ],
   "source": [
    "predictions = regr.predict(X)\n",
    "# plt.figure(figsize=(16, 8))\n",
    "plt.scatter(\n",
    "    df_macro['Average Distance'],\n",
    "    df_dependent_variables['Mean-GlobalComponent'],\n",
    "    c='red'\n",
    ")\n",
    "plt.plot(\n",
    "    df_macro['Average Distance'],\n",
    "    predictions,\n",
    "    c='black',\n",
    "    linewidth=2\n",
    ")\n",
    "plt.xlabel(\"Average Distance\")\n",
    "plt.ylabel(\"Mean-GlobalComponent\")\n",
    "plt.show()"
   ]
  },
  {
   "cell_type": "markdown",
   "metadata": {},
   "source": [
    "#### with `statsmodels`"
   ]
  },
  {
   "cell_type": "code",
   "execution_count": 276,
   "metadata": {
    "scrolled": false
   },
   "outputs": [
    {
     "data": {
      "text/html": [
       "<table class=\"simpletable\">\n",
       "<caption>OLS Regression Results</caption>\n",
       "<tr>\n",
       "  <th>Dep. Variable:</th>    <td>Mean-GlobalComponent</td> <th>  R-squared:         </th> <td>   0.036</td>\n",
       "</tr>\n",
       "<tr>\n",
       "  <th>Model:</th>                     <td>OLS</td>         <th>  Adj. R-squared:    </th> <td>   0.016</td>\n",
       "</tr>\n",
       "<tr>\n",
       "  <th>Method:</th>               <td>Least Squares</td>    <th>  F-statistic:       </th> <td>   1.797</td>\n",
       "</tr>\n",
       "<tr>\n",
       "  <th>Date:</th>               <td>Tue, 08 Dec 2020</td>   <th>  Prob (F-statistic):</th>  <td> 0.186</td> \n",
       "</tr>\n",
       "<tr>\n",
       "  <th>Time:</th>                   <td>23:15:58</td>       <th>  Log-Likelihood:    </th> <td>  35.068</td>\n",
       "</tr>\n",
       "<tr>\n",
       "  <th>No. Observations:</th>        <td>    50</td>        <th>  AIC:               </th> <td>  -66.14</td>\n",
       "</tr>\n",
       "<tr>\n",
       "  <th>Df Residuals:</th>            <td>    48</td>        <th>  BIC:               </th> <td>  -62.31</td>\n",
       "</tr>\n",
       "<tr>\n",
       "  <th>Df Model:</th>                <td>     1</td>        <th>                     </th>     <td> </td>   \n",
       "</tr>\n",
       "<tr>\n",
       "  <th>Covariance Type:</th>        <td>nonrobust</td>      <th>                     </th>     <td> </td>   \n",
       "</tr>\n",
       "</table>\n",
       "<table class=\"simpletable\">\n",
       "<tr>\n",
       "          <td></td>            <th>coef</th>     <th>std err</th>      <th>t</th>      <th>P>|t|</th>  <th>[0.025</th>    <th>0.975]</th>  \n",
       "</tr>\n",
       "<tr>\n",
       "  <th>const</th>            <td>    0.4551</td> <td>    0.030</td> <td>   15.405</td> <td> 0.000</td> <td>    0.396</td> <td>    0.514</td>\n",
       "</tr>\n",
       "<tr>\n",
       "  <th>Average Distance</th> <td>   -0.0063</td> <td>    0.005</td> <td>   -1.340</td> <td> 0.186</td> <td>   -0.016</td> <td>    0.003</td>\n",
       "</tr>\n",
       "</table>\n",
       "<table class=\"simpletable\">\n",
       "<tr>\n",
       "  <th>Omnibus:</th>       <td> 2.210</td> <th>  Durbin-Watson:     </th> <td>   2.547</td>\n",
       "</tr>\n",
       "<tr>\n",
       "  <th>Prob(Omnibus):</th> <td> 0.331</td> <th>  Jarque-Bera (JB):  </th> <td>   1.371</td>\n",
       "</tr>\n",
       "<tr>\n",
       "  <th>Skew:</th>          <td>-0.088</td> <th>  Prob(JB):          </th> <td>   0.504</td>\n",
       "</tr>\n",
       "<tr>\n",
       "  <th>Kurtosis:</th>      <td> 2.208</td> <th>  Cond. No.          </th> <td>    10.9</td>\n",
       "</tr>\n",
       "</table><br/><br/>Warnings:<br/>[1] Standard Errors assume that the covariance matrix of the errors is correctly specified."
      ],
      "text/plain": [
       "<class 'statsmodels.iolib.summary.Summary'>\n",
       "\"\"\"\n",
       "                             OLS Regression Results                             \n",
       "================================================================================\n",
       "Dep. Variable:     Mean-GlobalComponent   R-squared:                       0.036\n",
       "Model:                              OLS   Adj. R-squared:                  0.016\n",
       "Method:                   Least Squares   F-statistic:                     1.797\n",
       "Date:                  Tue, 08 Dec 2020   Prob (F-statistic):              0.186\n",
       "Time:                          23:15:58   Log-Likelihood:                 35.068\n",
       "No. Observations:                    50   AIC:                            -66.14\n",
       "Df Residuals:                        48   BIC:                            -62.31\n",
       "Df Model:                             1                                         \n",
       "Covariance Type:              nonrobust                                         \n",
       "====================================================================================\n",
       "                       coef    std err          t      P>|t|      [0.025      0.975]\n",
       "------------------------------------------------------------------------------------\n",
       "const                0.4551      0.030     15.405      0.000       0.396       0.514\n",
       "Average Distance    -0.0063      0.005     -1.340      0.186      -0.016       0.003\n",
       "==============================================================================\n",
       "Omnibus:                        2.210   Durbin-Watson:                   2.547\n",
       "Prob(Omnibus):                  0.331   Jarque-Bera (JB):                1.371\n",
       "Skew:                          -0.088   Prob(JB):                        0.504\n",
       "Kurtosis:                       2.208   Cond. No.                         10.9\n",
       "==============================================================================\n",
       "\n",
       "Warnings:\n",
       "[1] Standard Errors assume that the covariance matrix of the errors is correctly specified.\n",
       "\"\"\""
      ]
     },
     "execution_count": 276,
     "metadata": {},
     "output_type": "execute_result"
    }
   ],
   "source": [
    "X = sm.add_constant(X) # adding a constant\n",
    " \n",
    "model = sm.OLS(Y, X).fit()\n",
    "predictions = model.predict(X) \n",
    " \n",
    "print_model = model.summary()\n",
    "print_model"
   ]
  },
  {
   "cell_type": "code",
   "execution_count": 277,
   "metadata": {
    "scrolled": true
   },
   "outputs": [
    {
     "data": {
      "text/plain": [
       "const    3.305493e-20\n",
       "dtype: float64"
      ]
     },
     "execution_count": 277,
     "metadata": {},
     "output_type": "execute_result"
    }
   ],
   "source": [
    "model.pvalues[model.pvalues < 0.05]"
   ]
  },
  {
   "cell_type": "markdown",
   "metadata": {},
   "source": [
    "### Independent variable: Density"
   ]
  },
  {
   "cell_type": "code",
   "execution_count": 278,
   "metadata": {},
   "outputs": [],
   "source": [
    "X = df_macro[['Density']]"
   ]
  },
  {
   "cell_type": "code",
   "execution_count": 279,
   "metadata": {
    "scrolled": false
   },
   "outputs": [],
   "source": [
    "Y = df_dependent_variables['Mean-GlobalComponent']"
   ]
  },
  {
   "cell_type": "markdown",
   "metadata": {},
   "source": [
    "#### with `sklearn`"
   ]
  },
  {
   "cell_type": "code",
   "execution_count": 280,
   "metadata": {},
   "outputs": [
    {
     "data": {
      "text/plain": [
       "LinearRegression(copy_X=True, fit_intercept=True, n_jobs=None, normalize=False)"
      ]
     },
     "execution_count": 280,
     "metadata": {},
     "output_type": "execute_result"
    }
   ],
   "source": [
    "regr = LinearRegression()\n",
    "regr.fit(X, Y)"
   ]
  },
  {
   "cell_type": "code",
   "execution_count": 281,
   "metadata": {},
   "outputs": [
    {
     "name": "stdout",
     "output_type": "stream",
     "text": [
      "Intercept: \n",
      " 0.4386806343367134\n",
      "Coefficients: \n",
      " [-0.50267767]\n"
     ]
    }
   ],
   "source": [
    "print('Intercept: \\n', regr.intercept_)\n",
    "print('Coefficients: \\n', regr.coef_)"
   ]
  },
  {
   "cell_type": "markdown",
   "metadata": {},
   "source": [
    "#### Plot "
   ]
  },
  {
   "cell_type": "code",
   "execution_count": 282,
   "metadata": {
    "scrolled": true
   },
   "outputs": [
    {
     "data": {
      "image/png": "[encoded data removed]",
      "text/plain": [
       "<Figure size 432x288 with 1 Axes>"
      ]
     },
     "metadata": {
      "needs_background": "light"
     },
     "output_type": "display_data"
    }
   ],
   "source": [
    "predictions = regr.predict(X)\n",
    "# plt.figure(figsize=(16, 8))\n",
    "plt.scatter(\n",
    "    df_macro['Density'],\n",
    "    df_dependent_variables['Mean-GlobalComponent'],\n",
    "    c='red'\n",
    ")\n",
    "plt.plot(\n",
    "    df_macro['Density'],\n",
    "    predictions,\n",
    "    c='black',\n",
    "    linewidth=2\n",
    ")\n",
    "plt.xlabel(\"Density\")\n",
    "plt.ylabel(\"Mean-GlobalComponent\")\n",
    "plt.show()"
   ]
  },
  {
   "cell_type": "markdown",
   "metadata": {},
   "source": [
    "#### with `statsmodels`"
   ]
  },
  {
   "cell_type": "code",
   "execution_count": 283,
   "metadata": {
    "scrolled": false
   },
   "outputs": [
    {
     "data": {
      "text/html": [
       "<table class=\"simpletable\">\n",
       "<caption>OLS Regression Results</caption>\n",
       "<tr>\n",
       "  <th>Dep. Variable:</th>    <td>Mean-GlobalComponent</td> <th>  R-squared:         </th> <td>   0.028</td>\n",
       "</tr>\n",
       "<tr>\n",
       "  <th>Model:</th>                     <td>OLS</td>         <th>  Adj. R-squared:    </th> <td>   0.008</td>\n",
       "</tr>\n",
       "<tr>\n",
       "  <th>Method:</th>               <td>Least Squares</td>    <th>  F-statistic:       </th> <td>   1.406</td>\n",
       "</tr>\n",
       "<tr>\n",
       "  <th>Date:</th>               <td>Tue, 08 Dec 2020</td>   <th>  Prob (F-statistic):</th>  <td> 0.242</td> \n",
       "</tr>\n",
       "<tr>\n",
       "  <th>Time:</th>                   <td>23:16:07</td>       <th>  Log-Likelihood:    </th> <td>  34.871</td>\n",
       "</tr>\n",
       "<tr>\n",
       "  <th>No. Observations:</th>        <td>    50</td>        <th>  AIC:               </th> <td>  -65.74</td>\n",
       "</tr>\n",
       "<tr>\n",
       "  <th>Df Residuals:</th>            <td>    48</td>        <th>  BIC:               </th> <td>  -61.92</td>\n",
       "</tr>\n",
       "<tr>\n",
       "  <th>Df Model:</th>                <td>     1</td>        <th>                     </th>     <td> </td>   \n",
       "</tr>\n",
       "<tr>\n",
       "  <th>Covariance Type:</th>        <td>nonrobust</td>      <th>                     </th>     <td> </td>   \n",
       "</tr>\n",
       "</table>\n",
       "<table class=\"simpletable\">\n",
       "<tr>\n",
       "     <td></td>        <th>coef</th>     <th>std err</th>      <th>t</th>      <th>P>|t|</th>  <th>[0.025</th>    <th>0.975]</th>  \n",
       "</tr>\n",
       "<tr>\n",
       "  <th>const</th>   <td>    0.4387</td> <td>    0.022</td> <td>   20.073</td> <td> 0.000</td> <td>    0.395</td> <td>    0.483</td>\n",
       "</tr>\n",
       "<tr>\n",
       "  <th>Density</th> <td>   -0.5027</td> <td>    0.424</td> <td>   -1.186</td> <td> 0.242</td> <td>   -1.355</td> <td>    0.350</td>\n",
       "</tr>\n",
       "</table>\n",
       "<table class=\"simpletable\">\n",
       "<tr>\n",
       "  <th>Omnibus:</th>       <td> 4.221</td> <th>  Durbin-Watson:     </th> <td>   2.478</td>\n",
       "</tr>\n",
       "<tr>\n",
       "  <th>Prob(Omnibus):</th> <td> 0.121</td> <th>  Jarque-Bera (JB):  </th> <td>   2.115</td>\n",
       "</tr>\n",
       "<tr>\n",
       "  <th>Skew:</th>          <td> 0.206</td> <th>  Prob(JB):          </th> <td>   0.347</td>\n",
       "</tr>\n",
       "<tr>\n",
       "  <th>Kurtosis:</th>      <td> 2.081</td> <th>  Cond. No.          </th> <td>    24.4</td>\n",
       "</tr>\n",
       "</table><br/><br/>Warnings:<br/>[1] Standard Errors assume that the covariance matrix of the errors is correctly specified."
      ],
      "text/plain": [
       "<class 'statsmodels.iolib.summary.Summary'>\n",
       "\"\"\"\n",
       "                             OLS Regression Results                             \n",
       "================================================================================\n",
       "Dep. Variable:     Mean-GlobalComponent   R-squared:                       0.028\n",
       "Model:                              OLS   Adj. R-squared:                  0.008\n",
       "Method:                   Least Squares   F-statistic:                     1.406\n",
       "Date:                  Tue, 08 Dec 2020   Prob (F-statistic):              0.242\n",
       "Time:                          23:16:07   Log-Likelihood:                 34.871\n",
       "No. Observations:                    50   AIC:                            -65.74\n",
       "Df Residuals:                        48   BIC:                            -61.92\n",
       "Df Model:                             1                                         \n",
       "Covariance Type:              nonrobust                                         \n",
       "==============================================================================\n",
       "                 coef    std err          t      P>|t|      [0.025      0.975]\n",
       "------------------------------------------------------------------------------\n",
       "const          0.4387      0.022     20.073      0.000       0.395       0.483\n",
       "Density       -0.5027      0.424     -1.186      0.242      -1.355       0.350\n",
       "==============================================================================\n",
       "Omnibus:                        4.221   Durbin-Watson:                   2.478\n",
       "Prob(Omnibus):                  0.121   Jarque-Bera (JB):                2.115\n",
       "Skew:                           0.206   Prob(JB):                        0.347\n",
       "Kurtosis:                       2.081   Cond. No.                         24.4\n",
       "==============================================================================\n",
       "\n",
       "Warnings:\n",
       "[1] Standard Errors assume that the covariance matrix of the errors is correctly specified.\n",
       "\"\"\""
      ]
     },
     "execution_count": 283,
     "metadata": {},
     "output_type": "execute_result"
    }
   ],
   "source": [
    "X = sm.add_constant(X) # adding a constant\n",
    " \n",
    "model = sm.OLS(Y, X).fit()\n",
    "predictions = model.predict(X) \n",
    " \n",
    "print_model = model.summary()\n",
    "print_model"
   ]
  },
  {
   "cell_type": "code",
   "execution_count": 284,
   "metadata": {
    "scrolled": true
   },
   "outputs": [
    {
     "data": {
      "text/plain": [
       "const    5.422348e-25\n",
       "dtype: float64"
      ]
     },
     "execution_count": 284,
     "metadata": {},
     "output_type": "execute_result"
    }
   ],
   "source": [
    "model.pvalues[model.pvalues < 0.05]"
   ]
  },
  {
   "cell_type": "markdown",
   "metadata": {},
   "source": [
    "### Independent variable: Transitivity"
   ]
  },
  {
   "cell_type": "code",
   "execution_count": 285,
   "metadata": {},
   "outputs": [],
   "source": [
    "X = df_macro[['Transitivity']]"
   ]
  },
  {
   "cell_type": "code",
   "execution_count": 286,
   "metadata": {
    "scrolled": false
   },
   "outputs": [],
   "source": [
    "Y = df_dependent_variables['Mean-GlobalComponent']"
   ]
  },
  {
   "cell_type": "markdown",
   "metadata": {},
   "source": [
    "#### with `sklearn`"
   ]
  },
  {
   "cell_type": "code",
   "execution_count": 287,
   "metadata": {},
   "outputs": [
    {
     "data": {
      "text/plain": [
       "LinearRegression(copy_X=True, fit_intercept=True, n_jobs=None, normalize=False)"
      ]
     },
     "execution_count": 287,
     "metadata": {},
     "output_type": "execute_result"
    }
   ],
   "source": [
    "regr = LinearRegression()\n",
    "regr.fit(X, Y)"
   ]
  },
  {
   "cell_type": "code",
   "execution_count": 288,
   "metadata": {},
   "outputs": [
    {
     "name": "stdout",
     "output_type": "stream",
     "text": [
      "Intercept: \n",
      " 0.4886591789095215\n",
      "Coefficients: \n",
      " [-0.25203062]\n"
     ]
    }
   ],
   "source": [
    "print('Intercept: \\n', regr.intercept_)\n",
    "print('Coefficients: \\n', regr.coef_)"
   ]
  },
  {
   "cell_type": "markdown",
   "metadata": {},
   "source": [
    "#### Plot "
   ]
  },
  {
   "cell_type": "code",
   "execution_count": 289,
   "metadata": {
    "scrolled": false
   },
   "outputs": [
    {
     "data": {
      "image/png": "[encoded data removed]",
      "text/plain": [
       "<Figure size 432x288 with 1 Axes>"
      ]
     },
     "metadata": {
      "needs_background": "light"
     },
     "output_type": "display_data"
    }
   ],
   "source": [
    "predictions = regr.predict(X)\n",
    "# plt.figure(figsize=(16, 8))\n",
    "plt.scatter(\n",
    "    df_macro['Transitivity'],\n",
    "    df_dependent_variables['Mean-GlobalComponent'],\n",
    "    c='red'\n",
    ")\n",
    "plt.plot(\n",
    "    df_macro['Transitivity'],\n",
    "    predictions,\n",
    "    c='black',\n",
    "    linewidth=2\n",
    ")\n",
    "plt.xlabel(\"Transitivity\")\n",
    "plt.ylabel(\"Mean-GlobalComponent\")\n",
    "plt.show()"
   ]
  },
  {
   "cell_type": "markdown",
   "metadata": {},
   "source": [
    "#### with `statsmodels`"
   ]
  },
  {
   "cell_type": "code",
   "execution_count": 290,
   "metadata": {
    "scrolled": false
   },
   "outputs": [
    {
     "data": {
      "text/html": [
       "<table class=\"simpletable\">\n",
       "<caption>OLS Regression Results</caption>\n",
       "<tr>\n",
       "  <th>Dep. Variable:</th>    <td>Mean-GlobalComponent</td> <th>  R-squared:         </th> <td>   0.176</td>\n",
       "</tr>\n",
       "<tr>\n",
       "  <th>Model:</th>                     <td>OLS</td>         <th>  Adj. R-squared:    </th> <td>   0.159</td>\n",
       "</tr>\n",
       "<tr>\n",
       "  <th>Method:</th>               <td>Least Squares</td>    <th>  F-statistic:       </th> <td>   10.24</td>\n",
       "</tr>\n",
       "<tr>\n",
       "  <th>Date:</th>               <td>Tue, 08 Dec 2020</td>   <th>  Prob (F-statistic):</th>  <td>0.00244</td>\n",
       "</tr>\n",
       "<tr>\n",
       "  <th>Time:</th>                   <td>23:16:16</td>       <th>  Log-Likelihood:    </th> <td>  38.983</td>\n",
       "</tr>\n",
       "<tr>\n",
       "  <th>No. Observations:</th>        <td>    50</td>        <th>  AIC:               </th> <td>  -73.97</td>\n",
       "</tr>\n",
       "<tr>\n",
       "  <th>Df Residuals:</th>            <td>    48</td>        <th>  BIC:               </th> <td>  -70.14</td>\n",
       "</tr>\n",
       "<tr>\n",
       "  <th>Df Model:</th>                <td>     1</td>        <th>                     </th>     <td> </td>   \n",
       "</tr>\n",
       "<tr>\n",
       "  <th>Covariance Type:</th>        <td>nonrobust</td>      <th>                     </th>     <td> </td>   \n",
       "</tr>\n",
       "</table>\n",
       "<table class=\"simpletable\">\n",
       "<tr>\n",
       "        <td></td>          <th>coef</th>     <th>std err</th>      <th>t</th>      <th>P>|t|</th>  <th>[0.025</th>    <th>0.975]</th>  \n",
       "</tr>\n",
       "<tr>\n",
       "  <th>const</th>        <td>    0.4887</td> <td>    0.026</td> <td>   18.769</td> <td> 0.000</td> <td>    0.436</td> <td>    0.541</td>\n",
       "</tr>\n",
       "<tr>\n",
       "  <th>Transitivity</th> <td>   -0.2520</td> <td>    0.079</td> <td>   -3.200</td> <td> 0.002</td> <td>   -0.410</td> <td>   -0.094</td>\n",
       "</tr>\n",
       "</table>\n",
       "<table class=\"simpletable\">\n",
       "<tr>\n",
       "  <th>Omnibus:</th>       <td> 2.858</td> <th>  Durbin-Watson:     </th> <td>   2.357</td>\n",
       "</tr>\n",
       "<tr>\n",
       "  <th>Prob(Omnibus):</th> <td> 0.240</td> <th>  Jarque-Bera (JB):  </th> <td>   2.698</td>\n",
       "</tr>\n",
       "<tr>\n",
       "  <th>Skew:</th>          <td> 0.509</td> <th>  Prob(JB):          </th> <td>   0.260</td>\n",
       "</tr>\n",
       "<tr>\n",
       "  <th>Kurtosis:</th>      <td> 2.491</td> <th>  Cond. No.          </th> <td>    5.27</td>\n",
       "</tr>\n",
       "</table><br/><br/>Warnings:<br/>[1] Standard Errors assume that the covariance matrix of the errors is correctly specified."
      ],
      "text/plain": [
       "<class 'statsmodels.iolib.summary.Summary'>\n",
       "\"\"\"\n",
       "                             OLS Regression Results                             \n",
       "================================================================================\n",
       "Dep. Variable:     Mean-GlobalComponent   R-squared:                       0.176\n",
       "Model:                              OLS   Adj. R-squared:                  0.159\n",
       "Method:                   Least Squares   F-statistic:                     10.24\n",
       "Date:                  Tue, 08 Dec 2020   Prob (F-statistic):            0.00244\n",
       "Time:                          23:16:16   Log-Likelihood:                 38.983\n",
       "No. Observations:                    50   AIC:                            -73.97\n",
       "Df Residuals:                        48   BIC:                            -70.14\n",
       "Df Model:                             1                                         \n",
       "Covariance Type:              nonrobust                                         \n",
       "================================================================================\n",
       "                   coef    std err          t      P>|t|      [0.025      0.975]\n",
       "--------------------------------------------------------------------------------\n",
       "const            0.4887      0.026     18.769      0.000       0.436       0.541\n",
       "Transitivity    -0.2520      0.079     -3.200      0.002      -0.410      -0.094\n",
       "==============================================================================\n",
       "Omnibus:                        2.858   Durbin-Watson:                   2.357\n",
       "Prob(Omnibus):                  0.240   Jarque-Bera (JB):                2.698\n",
       "Skew:                           0.509   Prob(JB):                        0.260\n",
       "Kurtosis:                       2.491   Cond. No.                         5.27\n",
       "==============================================================================\n",
       "\n",
       "Warnings:\n",
       "[1] Standard Errors assume that the covariance matrix of the errors is correctly specified.\n",
       "\"\"\""
      ]
     },
     "execution_count": 290,
     "metadata": {},
     "output_type": "execute_result"
    }
   ],
   "source": [
    "X = sm.add_constant(X) # adding a constant\n",
    " \n",
    "model = sm.OLS(Y, X).fit()\n",
    "predictions = model.predict(X) \n",
    " \n",
    "print_model = model.summary()\n",
    "print_model"
   ]
  },
  {
   "cell_type": "code",
   "execution_count": 291,
   "metadata": {
    "scrolled": false
   },
   "outputs": [
    {
     "data": {
      "text/plain": [
       "const           9.526042e-24\n",
       "Transitivity    2.439518e-03\n",
       "dtype: float64"
      ]
     },
     "execution_count": 291,
     "metadata": {},
     "output_type": "execute_result"
    }
   ],
   "source": [
    "model.pvalues[model.pvalues < 0.05]"
   ]
  },
  {
   "cell_type": "code",
   "execution_count": 292,
   "metadata": {},
   "outputs": [
    {
     "data": {
      "text/plain": [
       "const           9.526042e-24\n",
       "Transitivity    2.439518e-03\n",
       "dtype: float64"
      ]
     },
     "execution_count": 292,
     "metadata": {},
     "output_type": "execute_result"
    }
   ],
   "source": [
    "model.pvalues[model.pvalues < 0.01]"
   ]
  },
  {
   "cell_type": "markdown",
   "metadata": {},
   "source": [
    "### Independent variable: Assortativity"
   ]
  },
  {
   "cell_type": "code",
   "execution_count": 293,
   "metadata": {},
   "outputs": [],
   "source": [
    "X = df_macro[['Assortativity']]"
   ]
  },
  {
   "cell_type": "code",
   "execution_count": 294,
   "metadata": {
    "scrolled": false
   },
   "outputs": [],
   "source": [
    "Y = df_dependent_variables['Mean-GlobalComponent']"
   ]
  },
  {
   "cell_type": "markdown",
   "metadata": {},
   "source": [
    "#### with `sklearn`"
   ]
  },
  {
   "cell_type": "code",
   "execution_count": 295,
   "metadata": {},
   "outputs": [
    {
     "data": {
      "text/plain": [
       "LinearRegression(copy_X=True, fit_intercept=True, n_jobs=None, normalize=False)"
      ]
     },
     "execution_count": 295,
     "metadata": {},
     "output_type": "execute_result"
    }
   ],
   "source": [
    "regr = LinearRegression()\n",
    "regr.fit(X, Y)"
   ]
  },
  {
   "cell_type": "code",
   "execution_count": 296,
   "metadata": {},
   "outputs": [
    {
     "name": "stdout",
     "output_type": "stream",
     "text": [
      "Intercept: \n",
      " 0.418923220836851\n",
      "Coefficients: \n",
      " [-0.14086039]\n"
     ]
    }
   ],
   "source": [
    "print('Intercept: \\n', regr.intercept_)\n",
    "print('Coefficients: \\n', regr.coef_)"
   ]
  },
  {
   "cell_type": "markdown",
   "metadata": {},
   "source": [
    "#### Plot "
   ]
  },
  {
   "cell_type": "code",
   "execution_count": 297,
   "metadata": {
    "scrolled": false
   },
   "outputs": [
    {
     "data": {
      "image/png": "[encoded data removed]",
      "text/plain": [
       "<Figure size 432x288 with 1 Axes>"
      ]
     },
     "metadata": {
      "needs_background": "light"
     },
     "output_type": "display_data"
    }
   ],
   "source": [
    "predictions = regr.predict(X)\n",
    "# plt.figure(figsize=(16, 8))\n",
    "plt.scatter(\n",
    "    df_macro['Assortativity'],\n",
    "    df_dependent_variables['Mean-GlobalComponent'],\n",
    "    c='red'\n",
    ")\n",
    "plt.plot(\n",
    "    df_macro['Assortativity'],\n",
    "    predictions,\n",
    "    c='black',\n",
    "    linewidth=2\n",
    ")\n",
    "plt.xlabel(\"Assortativity\")\n",
    "plt.ylabel(\"Mean-GlobalComponent\")\n",
    "plt.show()"
   ]
  },
  {
   "cell_type": "markdown",
   "metadata": {},
   "source": [
    "#### with `statsmodels`"
   ]
  },
  {
   "cell_type": "code",
   "execution_count": 298,
   "metadata": {
    "scrolled": false
   },
   "outputs": [
    {
     "data": {
      "text/html": [
       "<table class=\"simpletable\">\n",
       "<caption>OLS Regression Results</caption>\n",
       "<tr>\n",
       "  <th>Dep. Variable:</th>    <td>Mean-GlobalComponent</td> <th>  R-squared:         </th> <td>   0.091</td>\n",
       "</tr>\n",
       "<tr>\n",
       "  <th>Model:</th>                     <td>OLS</td>         <th>  Adj. R-squared:    </th> <td>   0.072</td>\n",
       "</tr>\n",
       "<tr>\n",
       "  <th>Method:</th>               <td>Least Squares</td>    <th>  F-statistic:       </th> <td>   4.827</td>\n",
       "</tr>\n",
       "<tr>\n",
       "  <th>Date:</th>               <td>Tue, 08 Dec 2020</td>   <th>  Prob (F-statistic):</th>  <td>0.0329</td> \n",
       "</tr>\n",
       "<tr>\n",
       "  <th>Time:</th>                   <td>23:16:24</td>       <th>  Log-Likelihood:    </th> <td>  36.545</td>\n",
       "</tr>\n",
       "<tr>\n",
       "  <th>No. Observations:</th>        <td>    50</td>        <th>  AIC:               </th> <td>  -69.09</td>\n",
       "</tr>\n",
       "<tr>\n",
       "  <th>Df Residuals:</th>            <td>    48</td>        <th>  BIC:               </th> <td>  -65.27</td>\n",
       "</tr>\n",
       "<tr>\n",
       "  <th>Df Model:</th>                <td>     1</td>        <th>                     </th>     <td> </td>   \n",
       "</tr>\n",
       "<tr>\n",
       "  <th>Covariance Type:</th>        <td>nonrobust</td>      <th>                     </th>     <td> </td>   \n",
       "</tr>\n",
       "</table>\n",
       "<table class=\"simpletable\">\n",
       "<tr>\n",
       "        <td></td>           <th>coef</th>     <th>std err</th>      <th>t</th>      <th>P>|t|</th>  <th>[0.025</th>    <th>0.975]</th>  \n",
       "</tr>\n",
       "<tr>\n",
       "  <th>const</th>         <td>    0.4189</td> <td>    0.017</td> <td>   24.764</td> <td> 0.000</td> <td>    0.385</td> <td>    0.453</td>\n",
       "</tr>\n",
       "<tr>\n",
       "  <th>Assortativity</th> <td>   -0.1409</td> <td>    0.064</td> <td>   -2.197</td> <td> 0.033</td> <td>   -0.270</td> <td>   -0.012</td>\n",
       "</tr>\n",
       "</table>\n",
       "<table class=\"simpletable\">\n",
       "<tr>\n",
       "  <th>Omnibus:</th>       <td> 1.050</td> <th>  Durbin-Watson:     </th> <td>   2.513</td>\n",
       "</tr>\n",
       "<tr>\n",
       "  <th>Prob(Omnibus):</th> <td> 0.592</td> <th>  Jarque-Bera (JB):  </th> <td>   1.033</td>\n",
       "</tr>\n",
       "<tr>\n",
       "  <th>Skew:</th>          <td> 0.203</td> <th>  Prob(JB):          </th> <td>   0.596</td>\n",
       "</tr>\n",
       "<tr>\n",
       "  <th>Kurtosis:</th>      <td> 2.424</td> <th>  Cond. No.          </th> <td>    3.82</td>\n",
       "</tr>\n",
       "</table><br/><br/>Warnings:<br/>[1] Standard Errors assume that the covariance matrix of the errors is correctly specified."
      ],
      "text/plain": [
       "<class 'statsmodels.iolib.summary.Summary'>\n",
       "\"\"\"\n",
       "                             OLS Regression Results                             \n",
       "================================================================================\n",
       "Dep. Variable:     Mean-GlobalComponent   R-squared:                       0.091\n",
       "Model:                              OLS   Adj. R-squared:                  0.072\n",
       "Method:                   Least Squares   F-statistic:                     4.827\n",
       "Date:                  Tue, 08 Dec 2020   Prob (F-statistic):             0.0329\n",
       "Time:                          23:16:24   Log-Likelihood:                 36.545\n",
       "No. Observations:                    50   AIC:                            -69.09\n",
       "Df Residuals:                        48   BIC:                            -65.27\n",
       "Df Model:                             1                                         \n",
       "Covariance Type:              nonrobust                                         \n",
       "=================================================================================\n",
       "                    coef    std err          t      P>|t|      [0.025      0.975]\n",
       "---------------------------------------------------------------------------------\n",
       "const             0.4189      0.017     24.764      0.000       0.385       0.453\n",
       "Assortativity    -0.1409      0.064     -2.197      0.033      -0.270      -0.012\n",
       "==============================================================================\n",
       "Omnibus:                        1.050   Durbin-Watson:                   2.513\n",
       "Prob(Omnibus):                  0.592   Jarque-Bera (JB):                1.033\n",
       "Skew:                           0.203   Prob(JB):                        0.596\n",
       "Kurtosis:                       2.424   Cond. No.                         3.82\n",
       "==============================================================================\n",
       "\n",
       "Warnings:\n",
       "[1] Standard Errors assume that the covariance matrix of the errors is correctly specified.\n",
       "\"\"\""
      ]
     },
     "execution_count": 298,
     "metadata": {},
     "output_type": "execute_result"
    }
   ],
   "source": [
    "X = sm.add_constant(X) # adding a constant\n",
    " \n",
    "model = sm.OLS(Y, X).fit()\n",
    "predictions = model.predict(X) \n",
    " \n",
    "print_model = model.summary()\n",
    "print_model"
   ]
  },
  {
   "cell_type": "code",
   "execution_count": 299,
   "metadata": {
    "scrolled": false
   },
   "outputs": [
    {
     "data": {
      "text/plain": [
       "const            5.442587e-29\n",
       "Assortativity    3.287185e-02\n",
       "dtype: float64"
      ]
     },
     "execution_count": 299,
     "metadata": {},
     "output_type": "execute_result"
    }
   ],
   "source": [
    "model.pvalues[model.pvalues < 0.05]"
   ]
  },
  {
   "cell_type": "code",
   "execution_count": 300,
   "metadata": {},
   "outputs": [
    {
     "data": {
      "text/plain": [
       "const    5.442587e-29\n",
       "dtype: float64"
      ]
     },
     "execution_count": 300,
     "metadata": {},
     "output_type": "execute_result"
    }
   ],
   "source": [
    "model.pvalues[model.pvalues < 0.01]"
   ]
  },
  {
   "cell_type": "markdown",
   "metadata": {},
   "source": [
    "### Dependent variable: Diameter"
   ]
  },
  {
   "cell_type": "code",
   "execution_count": 301,
   "metadata": {},
   "outputs": [],
   "source": [
    "X = df_macro[['Diameter']]"
   ]
  },
  {
   "cell_type": "code",
   "execution_count": 302,
   "metadata": {
    "scrolled": false
   },
   "outputs": [],
   "source": [
    "Y = df_dependent_variables['Mean-GlobalComponent']"
   ]
  },
  {
   "cell_type": "markdown",
   "metadata": {},
   "source": [
    "#### with `sklearn`"
   ]
  },
  {
   "cell_type": "code",
   "execution_count": 303,
   "metadata": {},
   "outputs": [
    {
     "data": {
      "text/plain": [
       "LinearRegression(copy_X=True, fit_intercept=True, n_jobs=None, normalize=False)"
      ]
     },
     "execution_count": 303,
     "metadata": {},
     "output_type": "execute_result"
    }
   ],
   "source": [
    "regr = LinearRegression()\n",
    "regr.fit(X, Y)"
   ]
  },
  {
   "cell_type": "code",
   "execution_count": 304,
   "metadata": {},
   "outputs": [
    {
     "name": "stdout",
     "output_type": "stream",
     "text": [
      "Intercept: \n",
      " 0.4444935508684126\n",
      "Coefficients: \n",
      " [-0.00158421]\n"
     ]
    }
   ],
   "source": [
    "print('Intercept: \\n', regr.intercept_)\n",
    "print('Coefficients: \\n', regr.coef_)"
   ]
  },
  {
   "cell_type": "markdown",
   "metadata": {},
   "source": [
    "#### Plot "
   ]
  },
  {
   "cell_type": "code",
   "execution_count": 305,
   "metadata": {
    "scrolled": false
   },
   "outputs": [
    {
     "data": {
      "image/png": "[encoded data removed]",
      "text/plain": [
       "<Figure size 432x288 with 1 Axes>"
      ]
     },
     "metadata": {
      "needs_background": "light"
     },
     "output_type": "display_data"
    }
   ],
   "source": [
    "predictions = regr.predict(X)\n",
    "#plt.figure(figsize=(16, 8))\n",
    "plt.scatter(\n",
    "    df_macro['Diameter'],\n",
    "    df_dependent_variables['Mean-GlobalComponent'],\n",
    "    c='red'\n",
    ")\n",
    "plt.plot(\n",
    "    df_macro['Diameter'],\n",
    "    predictions,\n",
    "    c='black',\n",
    "    linewidth=2\n",
    ")\n",
    "plt.xlabel(\"Diameter\")\n",
    "plt.ylabel(\"Mean-GlobalComponent\")\n",
    "plt.show()"
   ]
  },
  {
   "cell_type": "markdown",
   "metadata": {},
   "source": [
    "#### with `statsmodels`"
   ]
  },
  {
   "cell_type": "code",
   "execution_count": 306,
   "metadata": {
    "scrolled": false
   },
   "outputs": [
    {
     "data": {
      "text/html": [
       "<table class=\"simpletable\">\n",
       "<caption>OLS Regression Results</caption>\n",
       "<tr>\n",
       "  <th>Dep. Variable:</th>    <td>Mean-GlobalComponent</td> <th>  R-squared:         </th> <td>   0.020</td>\n",
       "</tr>\n",
       "<tr>\n",
       "  <th>Model:</th>                     <td>OLS</td>         <th>  Adj. R-squared:    </th> <td>  -0.000</td>\n",
       "</tr>\n",
       "<tr>\n",
       "  <th>Method:</th>               <td>Least Squares</td>    <th>  F-statistic:       </th> <td>  0.9974</td>\n",
       "</tr>\n",
       "<tr>\n",
       "  <th>Date:</th>               <td>Tue, 08 Dec 2020</td>   <th>  Prob (F-statistic):</th>  <td> 0.323</td> \n",
       "</tr>\n",
       "<tr>\n",
       "  <th>Time:</th>                   <td>23:16:33</td>       <th>  Log-Likelihood:    </th> <td>  34.664</td>\n",
       "</tr>\n",
       "<tr>\n",
       "  <th>No. Observations:</th>        <td>    50</td>        <th>  AIC:               </th> <td>  -65.33</td>\n",
       "</tr>\n",
       "<tr>\n",
       "  <th>Df Residuals:</th>            <td>    48</td>        <th>  BIC:               </th> <td>  -61.50</td>\n",
       "</tr>\n",
       "<tr>\n",
       "  <th>Df Model:</th>                <td>     1</td>        <th>                     </th>     <td> </td>   \n",
       "</tr>\n",
       "<tr>\n",
       "  <th>Covariance Type:</th>        <td>nonrobust</td>      <th>                     </th>     <td> </td>   \n",
       "</tr>\n",
       "</table>\n",
       "<table class=\"simpletable\">\n",
       "<tr>\n",
       "      <td></td>        <th>coef</th>     <th>std err</th>      <th>t</th>      <th>P>|t|</th>  <th>[0.025</th>    <th>0.975]</th>  \n",
       "</tr>\n",
       "<tr>\n",
       "  <th>const</th>    <td>    0.4445</td> <td>    0.028</td> <td>   16.030</td> <td> 0.000</td> <td>    0.389</td> <td>    0.500</td>\n",
       "</tr>\n",
       "<tr>\n",
       "  <th>Diameter</th> <td>   -0.0016</td> <td>    0.002</td> <td>   -0.999</td> <td> 0.323</td> <td>   -0.005</td> <td>    0.002</td>\n",
       "</tr>\n",
       "</table>\n",
       "<table class=\"simpletable\">\n",
       "<tr>\n",
       "  <th>Omnibus:</th>       <td> 2.167</td> <th>  Durbin-Watson:     </th> <td>   2.530</td>\n",
       "</tr>\n",
       "<tr>\n",
       "  <th>Prob(Omnibus):</th> <td> 0.338</td> <th>  Jarque-Bera (JB):  </th> <td>   1.320</td>\n",
       "</tr>\n",
       "<tr>\n",
       "  <th>Skew:</th>          <td>-0.021</td> <th>  Prob(JB):          </th> <td>   0.517</td>\n",
       "</tr>\n",
       "<tr>\n",
       "  <th>Kurtosis:</th>      <td> 2.205</td> <th>  Cond. No.          </th> <td>    27.8</td>\n",
       "</tr>\n",
       "</table><br/><br/>Warnings:<br/>[1] Standard Errors assume that the covariance matrix of the errors is correctly specified."
      ],
      "text/plain": [
       "<class 'statsmodels.iolib.summary.Summary'>\n",
       "\"\"\"\n",
       "                             OLS Regression Results                             \n",
       "================================================================================\n",
       "Dep. Variable:     Mean-GlobalComponent   R-squared:                       0.020\n",
       "Model:                              OLS   Adj. R-squared:                 -0.000\n",
       "Method:                   Least Squares   F-statistic:                    0.9974\n",
       "Date:                  Tue, 08 Dec 2020   Prob (F-statistic):              0.323\n",
       "Time:                          23:16:33   Log-Likelihood:                 34.664\n",
       "No. Observations:                    50   AIC:                            -65.33\n",
       "Df Residuals:                        48   BIC:                            -61.50\n",
       "Df Model:                             1                                         \n",
       "Covariance Type:              nonrobust                                         \n",
       "==============================================================================\n",
       "                 coef    std err          t      P>|t|      [0.025      0.975]\n",
       "------------------------------------------------------------------------------\n",
       "const          0.4445      0.028     16.030      0.000       0.389       0.500\n",
       "Diameter      -0.0016      0.002     -0.999      0.323      -0.005       0.002\n",
       "==============================================================================\n",
       "Omnibus:                        2.167   Durbin-Watson:                   2.530\n",
       "Prob(Omnibus):                  0.338   Jarque-Bera (JB):                1.320\n",
       "Skew:                          -0.021   Prob(JB):                        0.517\n",
       "Kurtosis:                       2.205   Cond. No.                         27.8\n",
       "==============================================================================\n",
       "\n",
       "Warnings:\n",
       "[1] Standard Errors assume that the covariance matrix of the errors is correctly specified.\n",
       "\"\"\""
      ]
     },
     "execution_count": 306,
     "metadata": {},
     "output_type": "execute_result"
    }
   ],
   "source": [
    "X = sm.add_constant(X) # adding a constant\n",
    " \n",
    "model = sm.OLS(Y, X).fit()\n",
    "predictions = model.predict(X) \n",
    " \n",
    "print_model = model.summary()\n",
    "print_model"
   ]
  },
  {
   "cell_type": "code",
   "execution_count": 307,
   "metadata": {
    "scrolled": true
   },
   "outputs": [
    {
     "data": {
      "text/plain": [
       "const    6.646975e-21\n",
       "dtype: float64"
      ]
     },
     "execution_count": 307,
     "metadata": {},
     "output_type": "execute_result"
    }
   ],
   "source": [
    "model.pvalues[model.pvalues < 0.05]"
   ]
  },
  {
   "cell_type": "markdown",
   "metadata": {},
   "source": [
    "### Independent variable: Efficiency"
   ]
  },
  {
   "cell_type": "code",
   "execution_count": 308,
   "metadata": {},
   "outputs": [],
   "source": [
    "X = df_macro[['Efficiency']]"
   ]
  },
  {
   "cell_type": "code",
   "execution_count": 309,
   "metadata": {
    "scrolled": false
   },
   "outputs": [],
   "source": [
    "Y = df_dependent_variables['Mean-GlobalComponent']"
   ]
  },
  {
   "cell_type": "markdown",
   "metadata": {},
   "source": [
    "#### with `sklearn`"
   ]
  },
  {
   "cell_type": "code",
   "execution_count": 310,
   "metadata": {},
   "outputs": [
    {
     "data": {
      "text/plain": [
       "LinearRegression(copy_X=True, fit_intercept=True, n_jobs=None, normalize=False)"
      ]
     },
     "execution_count": 310,
     "metadata": {},
     "output_type": "execute_result"
    }
   ],
   "source": [
    "regr = LinearRegression()\n",
    "regr.fit(X, Y)"
   ]
  },
  {
   "cell_type": "code",
   "execution_count": 311,
   "metadata": {},
   "outputs": [
    {
     "name": "stdout",
     "output_type": "stream",
     "text": [
      "Intercept: \n",
      " 0.38060778868146117\n",
      "Coefficients: \n",
      " [0.14304208]\n"
     ]
    }
   ],
   "source": [
    "print('Intercept: \\n', regr.intercept_)\n",
    "print('Coefficients: \\n', regr.coef_)"
   ]
  },
  {
   "cell_type": "markdown",
   "metadata": {},
   "source": [
    "#### Plot "
   ]
  },
  {
   "cell_type": "code",
   "execution_count": 312,
   "metadata": {
    "scrolled": false
   },
   "outputs": [
    {
     "data": {
      "image/png": "[encoded data removed]",
      "text/plain": [
       "<Figure size 432x288 with 1 Axes>"
      ]
     },
     "metadata": {
      "needs_background": "light"
     },
     "output_type": "display_data"
    }
   ],
   "source": [
    "predictions = regr.predict(X)\n",
    "# plt.figure(figsize=(16, 8))\n",
    "plt.scatter(\n",
    "    df_macro['Efficiency'],\n",
    "    df_dependent_variables['Mean-GlobalComponent'],\n",
    "    c='red'\n",
    ")\n",
    "plt.plot(\n",
    "    df_macro['Efficiency'],\n",
    "    predictions,\n",
    "    c='black',\n",
    "    linewidth=2\n",
    ")\n",
    "plt.xlabel(\"Efficiency\")\n",
    "plt.ylabel(\"Mean-GlobalComponent\")\n",
    "plt.show()"
   ]
  },
  {
   "cell_type": "markdown",
   "metadata": {},
   "source": [
    "#### with `statsmodels`"
   ]
  },
  {
   "cell_type": "code",
   "execution_count": 313,
   "metadata": {
    "scrolled": false
   },
   "outputs": [
    {
     "data": {
      "text/html": [
       "<table class=\"simpletable\">\n",
       "<caption>OLS Regression Results</caption>\n",
       "<tr>\n",
       "  <th>Dep. Variable:</th>    <td>Mean-GlobalComponent</td> <th>  R-squared:         </th> <td>   0.020</td>\n",
       "</tr>\n",
       "<tr>\n",
       "  <th>Model:</th>                     <td>OLS</td>         <th>  Adj. R-squared:    </th> <td>  -0.000</td>\n",
       "</tr>\n",
       "<tr>\n",
       "  <th>Method:</th>               <td>Least Squares</td>    <th>  F-statistic:       </th> <td>  0.9804</td>\n",
       "</tr>\n",
       "<tr>\n",
       "  <th>Date:</th>               <td>Tue, 08 Dec 2020</td>   <th>  Prob (F-statistic):</th>  <td> 0.327</td> \n",
       "</tr>\n",
       "<tr>\n",
       "  <th>Time:</th>                   <td>23:16:41</td>       <th>  Log-Likelihood:    </th> <td>  34.655</td>\n",
       "</tr>\n",
       "<tr>\n",
       "  <th>No. Observations:</th>        <td>    50</td>        <th>  AIC:               </th> <td>  -65.31</td>\n",
       "</tr>\n",
       "<tr>\n",
       "  <th>Df Residuals:</th>            <td>    48</td>        <th>  BIC:               </th> <td>  -61.49</td>\n",
       "</tr>\n",
       "<tr>\n",
       "  <th>Df Model:</th>                <td>     1</td>        <th>                     </th>     <td> </td>   \n",
       "</tr>\n",
       "<tr>\n",
       "  <th>Covariance Type:</th>        <td>nonrobust</td>      <th>                     </th>     <td> </td>   \n",
       "</tr>\n",
       "</table>\n",
       "<table class=\"simpletable\">\n",
       "<tr>\n",
       "       <td></td>         <th>coef</th>     <th>std err</th>      <th>t</th>      <th>P>|t|</th>  <th>[0.025</th>    <th>0.975]</th>  \n",
       "</tr>\n",
       "<tr>\n",
       "  <th>const</th>      <td>    0.3806</td> <td>    0.046</td> <td>    8.235</td> <td> 0.000</td> <td>    0.288</td> <td>    0.474</td>\n",
       "</tr>\n",
       "<tr>\n",
       "  <th>Efficiency</th> <td>    0.1430</td> <td>    0.144</td> <td>    0.990</td> <td> 0.327</td> <td>   -0.147</td> <td>    0.434</td>\n",
       "</tr>\n",
       "</table>\n",
       "<table class=\"simpletable\">\n",
       "<tr>\n",
       "  <th>Omnibus:</th>       <td> 2.480</td> <th>  Durbin-Watson:     </th> <td>   2.416</td>\n",
       "</tr>\n",
       "<tr>\n",
       "  <th>Prob(Omnibus):</th> <td> 0.289</td> <th>  Jarque-Bera (JB):  </th> <td>   1.424</td>\n",
       "</tr>\n",
       "<tr>\n",
       "  <th>Skew:</th>          <td>-0.043</td> <th>  Prob(JB):          </th> <td>   0.491</td>\n",
       "</tr>\n",
       "<tr>\n",
       "  <th>Kurtosis:</th>      <td> 2.177</td> <th>  Cond. No.          </th> <td>    9.01</td>\n",
       "</tr>\n",
       "</table><br/><br/>Warnings:<br/>[1] Standard Errors assume that the covariance matrix of the errors is correctly specified."
      ],
      "text/plain": [
       "<class 'statsmodels.iolib.summary.Summary'>\n",
       "\"\"\"\n",
       "                             OLS Regression Results                             \n",
       "================================================================================\n",
       "Dep. Variable:     Mean-GlobalComponent   R-squared:                       0.020\n",
       "Model:                              OLS   Adj. R-squared:                 -0.000\n",
       "Method:                   Least Squares   F-statistic:                    0.9804\n",
       "Date:                  Tue, 08 Dec 2020   Prob (F-statistic):              0.327\n",
       "Time:                          23:16:41   Log-Likelihood:                 34.655\n",
       "No. Observations:                    50   AIC:                            -65.31\n",
       "Df Residuals:                        48   BIC:                            -61.49\n",
       "Df Model:                             1                                         \n",
       "Covariance Type:              nonrobust                                         \n",
       "==============================================================================\n",
       "                 coef    std err          t      P>|t|      [0.025      0.975]\n",
       "------------------------------------------------------------------------------\n",
       "const          0.3806      0.046      8.235      0.000       0.288       0.474\n",
       "Efficiency     0.1430      0.144      0.990      0.327      -0.147       0.434\n",
       "==============================================================================\n",
       "Omnibus:                        2.480   Durbin-Watson:                   2.416\n",
       "Prob(Omnibus):                  0.289   Jarque-Bera (JB):                1.424\n",
       "Skew:                          -0.043   Prob(JB):                        0.491\n",
       "Kurtosis:                       2.177   Cond. No.                         9.01\n",
       "==============================================================================\n",
       "\n",
       "Warnings:\n",
       "[1] Standard Errors assume that the covariance matrix of the errors is correctly specified.\n",
       "\"\"\""
      ]
     },
     "execution_count": 313,
     "metadata": {},
     "output_type": "execute_result"
    }
   ],
   "source": [
    "X = sm.add_constant(X) # adding a constant\n",
    " \n",
    "model = sm.OLS(Y, X).fit()\n",
    "predictions = model.predict(X) \n",
    " \n",
    "print_model = model.summary()\n",
    "print_model"
   ]
  },
  {
   "cell_type": "code",
   "execution_count": 314,
   "metadata": {
    "scrolled": true
   },
   "outputs": [
    {
     "data": {
      "text/plain": [
       "const    9.749281e-11\n",
       "dtype: float64"
      ]
     },
     "execution_count": 314,
     "metadata": {},
     "output_type": "execute_result"
    }
   ],
   "source": [
    "model.pvalues[model.pvalues < 0.05]"
   ]
  },
  {
   "cell_type": "markdown",
   "metadata": {},
   "source": [
    "### Independent variable: Modularity"
   ]
  },
  {
   "cell_type": "code",
   "execution_count": 315,
   "metadata": {},
   "outputs": [],
   "source": [
    "X = df_meso[['Modularity']]"
   ]
  },
  {
   "cell_type": "code",
   "execution_count": 316,
   "metadata": {
    "scrolled": false
   },
   "outputs": [],
   "source": [
    "Y = df_dependent_variables['Mean-GlobalComponent']"
   ]
  },
  {
   "cell_type": "markdown",
   "metadata": {},
   "source": [
    "#### with `sklearn`"
   ]
  },
  {
   "cell_type": "code",
   "execution_count": 317,
   "metadata": {},
   "outputs": [
    {
     "data": {
      "text/plain": [
       "LinearRegression(copy_X=True, fit_intercept=True, n_jobs=None, normalize=False)"
      ]
     },
     "execution_count": 317,
     "metadata": {},
     "output_type": "execute_result"
    }
   ],
   "source": [
    "regr = LinearRegression()\n",
    "regr.fit(X, Y)"
   ]
  },
  {
   "cell_type": "code",
   "execution_count": 318,
   "metadata": {},
   "outputs": [
    {
     "name": "stdout",
     "output_type": "stream",
     "text": [
      "Intercept: \n",
      " 0.5065571856092724\n",
      "Coefficients: \n",
      " [-0.14473744]\n"
     ]
    }
   ],
   "source": [
    "print('Intercept: \\n', regr.intercept_)\n",
    "print('Coefficients: \\n', regr.coef_)"
   ]
  },
  {
   "cell_type": "markdown",
   "metadata": {},
   "source": [
    "#### Plot "
   ]
  },
  {
   "cell_type": "code",
   "execution_count": 319,
   "metadata": {
    "scrolled": false
   },
   "outputs": [
    {
     "data": {
      "image/png": "[encoded data removed]",
      "text/plain": [
       "<Figure size 432x288 with 1 Axes>"
      ]
     },
     "metadata": {
      "needs_background": "light"
     },
     "output_type": "display_data"
    }
   ],
   "source": [
    "predictions = regr.predict(X)\n",
    "# plt.figure(figsize=(16, 8))\n",
    "plt.scatter(\n",
    "    df_meso['Modularity'],\n",
    "    df_dependent_variables['Mean-GlobalComponent'],\n",
    "    c='red'\n",
    ")\n",
    "plt.plot(\n",
    "    df_meso['Modularity'],\n",
    "    predictions,\n",
    "    c='black',\n",
    "    linewidth=2\n",
    ")\n",
    "plt.xlabel(\"Modularity\")\n",
    "plt.ylabel(\"Mean-GlobalComponent\")\n",
    "plt.show()"
   ]
  },
  {
   "cell_type": "markdown",
   "metadata": {},
   "source": [
    "#### with `statsmodels`"
   ]
  },
  {
   "cell_type": "code",
   "execution_count": 320,
   "metadata": {
    "scrolled": false
   },
   "outputs": [
    {
     "data": {
      "text/html": [
       "<table class=\"simpletable\">\n",
       "<caption>OLS Regression Results</caption>\n",
       "<tr>\n",
       "  <th>Dep. Variable:</th>    <td>Mean-GlobalComponent</td> <th>  R-squared:         </th> <td>   0.053</td>\n",
       "</tr>\n",
       "<tr>\n",
       "  <th>Model:</th>                     <td>OLS</td>         <th>  Adj. R-squared:    </th> <td>   0.033</td>\n",
       "</tr>\n",
       "<tr>\n",
       "  <th>Method:</th>               <td>Least Squares</td>    <th>  F-statistic:       </th> <td>   2.673</td>\n",
       "</tr>\n",
       "<tr>\n",
       "  <th>Date:</th>               <td>Tue, 08 Dec 2020</td>   <th>  Prob (F-statistic):</th>  <td> 0.109</td> \n",
       "</tr>\n",
       "<tr>\n",
       "  <th>Time:</th>                   <td>23:16:50</td>       <th>  Log-Likelihood:    </th> <td>  35.505</td>\n",
       "</tr>\n",
       "<tr>\n",
       "  <th>No. Observations:</th>        <td>    50</td>        <th>  AIC:               </th> <td>  -67.01</td>\n",
       "</tr>\n",
       "<tr>\n",
       "  <th>Df Residuals:</th>            <td>    48</td>        <th>  BIC:               </th> <td>  -63.19</td>\n",
       "</tr>\n",
       "<tr>\n",
       "  <th>Df Model:</th>                <td>     1</td>        <th>                     </th>     <td> </td>   \n",
       "</tr>\n",
       "<tr>\n",
       "  <th>Covariance Type:</th>        <td>nonrobust</td>      <th>                     </th>     <td> </td>   \n",
       "</tr>\n",
       "</table>\n",
       "<table class=\"simpletable\">\n",
       "<tr>\n",
       "       <td></td>         <th>coef</th>     <th>std err</th>      <th>t</th>      <th>P>|t|</th>  <th>[0.025</th>    <th>0.975]</th>  \n",
       "</tr>\n",
       "<tr>\n",
       "  <th>const</th>      <td>    0.5066</td> <td>    0.054</td> <td>    9.394</td> <td> 0.000</td> <td>    0.398</td> <td>    0.615</td>\n",
       "</tr>\n",
       "<tr>\n",
       "  <th>Modularity</th> <td>   -0.1447</td> <td>    0.089</td> <td>   -1.635</td> <td> 0.109</td> <td>   -0.323</td> <td>    0.033</td>\n",
       "</tr>\n",
       "</table>\n",
       "<table class=\"simpletable\">\n",
       "<tr>\n",
       "  <th>Omnibus:</th>       <td> 2.049</td> <th>  Durbin-Watson:     </th> <td>   2.345</td>\n",
       "</tr>\n",
       "<tr>\n",
       "  <th>Prob(Omnibus):</th> <td> 0.359</td> <th>  Jarque-Bera (JB):  </th> <td>   1.393</td>\n",
       "</tr>\n",
       "<tr>\n",
       "  <th>Skew:</th>          <td>-0.153</td> <th>  Prob(JB):          </th> <td>   0.498</td>\n",
       "</tr>\n",
       "<tr>\n",
       "  <th>Kurtosis:</th>      <td> 2.242</td> <th>  Cond. No.          </th> <td>    6.92</td>\n",
       "</tr>\n",
       "</table><br/><br/>Warnings:<br/>[1] Standard Errors assume that the covariance matrix of the errors is correctly specified."
      ],
      "text/plain": [
       "<class 'statsmodels.iolib.summary.Summary'>\n",
       "\"\"\"\n",
       "                             OLS Regression Results                             \n",
       "================================================================================\n",
       "Dep. Variable:     Mean-GlobalComponent   R-squared:                       0.053\n",
       "Model:                              OLS   Adj. R-squared:                  0.033\n",
       "Method:                   Least Squares   F-statistic:                     2.673\n",
       "Date:                  Tue, 08 Dec 2020   Prob (F-statistic):              0.109\n",
       "Time:                          23:16:50   Log-Likelihood:                 35.505\n",
       "No. Observations:                    50   AIC:                            -67.01\n",
       "Df Residuals:                        48   BIC:                            -63.19\n",
       "Df Model:                             1                                         \n",
       "Covariance Type:              nonrobust                                         \n",
       "==============================================================================\n",
       "                 coef    std err          t      P>|t|      [0.025      0.975]\n",
       "------------------------------------------------------------------------------\n",
       "const          0.5066      0.054      9.394      0.000       0.398       0.615\n",
       "Modularity    -0.1447      0.089     -1.635      0.109      -0.323       0.033\n",
       "==============================================================================\n",
       "Omnibus:                        2.049   Durbin-Watson:                   2.345\n",
       "Prob(Omnibus):                  0.359   Jarque-Bera (JB):                1.393\n",
       "Skew:                          -0.153   Prob(JB):                        0.498\n",
       "Kurtosis:                       2.242   Cond. No.                         6.92\n",
       "==============================================================================\n",
       "\n",
       "Warnings:\n",
       "[1] Standard Errors assume that the covariance matrix of the errors is correctly specified.\n",
       "\"\"\""
      ]
     },
     "execution_count": 320,
     "metadata": {},
     "output_type": "execute_result"
    }
   ],
   "source": [
    "X = sm.add_constant(X) # adding a constant\n",
    " \n",
    "model = sm.OLS(Y, X).fit()\n",
    "predictions = model.predict(X) \n",
    " \n",
    "print_model = model.summary()\n",
    "print_model"
   ]
  },
  {
   "cell_type": "code",
   "execution_count": 321,
   "metadata": {
    "scrolled": true
   },
   "outputs": [
    {
     "data": {
      "text/plain": [
       "const    1.880696e-12\n",
       "dtype: float64"
      ]
     },
     "execution_count": 321,
     "metadata": {},
     "output_type": "execute_result"
    }
   ],
   "source": [
    "model.pvalues[model.pvalues < 0.05]"
   ]
  },
  {
   "cell_type": "markdown",
   "metadata": {},
   "source": [
    "### Independent variable: Mixing parameter"
   ]
  },
  {
   "cell_type": "code",
   "execution_count": 322,
   "metadata": {},
   "outputs": [],
   "source": [
    "X = df_meso[['Mixing parameter']]"
   ]
  },
  {
   "cell_type": "code",
   "execution_count": 323,
   "metadata": {
    "scrolled": false
   },
   "outputs": [],
   "source": [
    "Y = df_dependent_variables['Mean-GlobalComponent']"
   ]
  },
  {
   "cell_type": "markdown",
   "metadata": {},
   "source": [
    "#### with `sklearn`"
   ]
  },
  {
   "cell_type": "code",
   "execution_count": 324,
   "metadata": {},
   "outputs": [
    {
     "data": {
      "text/plain": [
       "LinearRegression(copy_X=True, fit_intercept=True, n_jobs=None, normalize=False)"
      ]
     },
     "execution_count": 324,
     "metadata": {},
     "output_type": "execute_result"
    }
   ],
   "source": [
    "regr = LinearRegression()\n",
    "regr.fit(X, Y)"
   ]
  },
  {
   "cell_type": "code",
   "execution_count": 325,
   "metadata": {},
   "outputs": [
    {
     "name": "stdout",
     "output_type": "stream",
     "text": [
      "Intercept: \n",
      " 0.2419996444454238\n",
      "Coefficients: \n",
      " [0.7196038]\n"
     ]
    }
   ],
   "source": [
    "print('Intercept: \\n', regr.intercept_)\n",
    "print('Coefficients: \\n', regr.coef_)"
   ]
  },
  {
   "cell_type": "markdown",
   "metadata": {},
   "source": [
    "#### Plot "
   ]
  },
  {
   "cell_type": "code",
   "execution_count": 326,
   "metadata": {
    "scrolled": false
   },
   "outputs": [
    {
     "data": {
      "image/png": "[encoded data removed]",
      "text/plain": [
       "<Figure size 432x288 with 1 Axes>"
      ]
     },
     "metadata": {
      "needs_background": "light"
     },
     "output_type": "display_data"
    }
   ],
   "source": [
    "predictions = regr.predict(X)\n",
    "# plt.figure(figsize=(16, 8))\n",
    "plt.scatter(\n",
    "    df_meso['Mixing parameter'],\n",
    "    df_dependent_variables['Mean-GlobalComponent'],\n",
    "    c='red'\n",
    ")\n",
    "plt.plot(\n",
    "    df_meso['Mixing parameter'],\n",
    "    predictions,\n",
    "    c='black',\n",
    "    linewidth=2\n",
    ")\n",
    "plt.xlabel(\"Mixing parameter\")\n",
    "plt.ylabel(\"Mean-GlobalComponent\")\n",
    "plt.show()"
   ]
  },
  {
   "cell_type": "markdown",
   "metadata": {},
   "source": [
    "#### with `statsmodels`"
   ]
  },
  {
   "cell_type": "code",
   "execution_count": 327,
   "metadata": {
    "scrolled": false
   },
   "outputs": [
    {
     "data": {
      "text/html": [
       "<table class=\"simpletable\">\n",
       "<caption>OLS Regression Results</caption>\n",
       "<tr>\n",
       "  <th>Dep. Variable:</th>    <td>Mean-GlobalComponent</td> <th>  R-squared:         </th> <td>   0.566</td>\n",
       "</tr>\n",
       "<tr>\n",
       "  <th>Model:</th>                     <td>OLS</td>         <th>  Adj. R-squared:    </th> <td>   0.557</td>\n",
       "</tr>\n",
       "<tr>\n",
       "  <th>Method:</th>               <td>Least Squares</td>    <th>  F-statistic:       </th> <td>   62.68</td>\n",
       "</tr>\n",
       "<tr>\n",
       "  <th>Date:</th>               <td>Tue, 08 Dec 2020</td>   <th>  Prob (F-statistic):</th> <td>2.94e-10</td>\n",
       "</tr>\n",
       "<tr>\n",
       "  <th>Time:</th>                   <td>23:16:58</td>       <th>  Log-Likelihood:    </th> <td>  55.035</td>\n",
       "</tr>\n",
       "<tr>\n",
       "  <th>No. Observations:</th>        <td>    50</td>        <th>  AIC:               </th> <td>  -106.1</td>\n",
       "</tr>\n",
       "<tr>\n",
       "  <th>Df Residuals:</th>            <td>    48</td>        <th>  BIC:               </th> <td>  -102.2</td>\n",
       "</tr>\n",
       "<tr>\n",
       "  <th>Df Model:</th>                <td>     1</td>        <th>                     </th>     <td> </td>   \n",
       "</tr>\n",
       "<tr>\n",
       "  <th>Covariance Type:</th>        <td>nonrobust</td>      <th>                     </th>     <td> </td>   \n",
       "</tr>\n",
       "</table>\n",
       "<table class=\"simpletable\">\n",
       "<tr>\n",
       "          <td></td>            <th>coef</th>     <th>std err</th>      <th>t</th>      <th>P>|t|</th>  <th>[0.025</th>    <th>0.975]</th>  \n",
       "</tr>\n",
       "<tr>\n",
       "  <th>const</th>            <td>    0.2420</td> <td>    0.026</td> <td>    9.437</td> <td> 0.000</td> <td>    0.190</td> <td>    0.294</td>\n",
       "</tr>\n",
       "<tr>\n",
       "  <th>Mixing parameter</th> <td>    0.7196</td> <td>    0.091</td> <td>    7.917</td> <td> 0.000</td> <td>    0.537</td> <td>    0.902</td>\n",
       "</tr>\n",
       "</table>\n",
       "<table class=\"simpletable\">\n",
       "<tr>\n",
       "  <th>Omnibus:</th>       <td> 2.234</td> <th>  Durbin-Watson:     </th> <td>   1.921</td>\n",
       "</tr>\n",
       "<tr>\n",
       "  <th>Prob(Omnibus):</th> <td> 0.327</td> <th>  Jarque-Bera (JB):  </th> <td>   1.462</td>\n",
       "</tr>\n",
       "<tr>\n",
       "  <th>Skew:</th>          <td> 0.050</td> <th>  Prob(JB):          </th> <td>   0.481</td>\n",
       "</tr>\n",
       "<tr>\n",
       "  <th>Kurtosis:</th>      <td> 3.832</td> <th>  Cond. No.          </th> <td>    8.33</td>\n",
       "</tr>\n",
       "</table><br/><br/>Warnings:<br/>[1] Standard Errors assume that the covariance matrix of the errors is correctly specified."
      ],
      "text/plain": [
       "<class 'statsmodels.iolib.summary.Summary'>\n",
       "\"\"\"\n",
       "                             OLS Regression Results                             \n",
       "================================================================================\n",
       "Dep. Variable:     Mean-GlobalComponent   R-squared:                       0.566\n",
       "Model:                              OLS   Adj. R-squared:                  0.557\n",
       "Method:                   Least Squares   F-statistic:                     62.68\n",
       "Date:                  Tue, 08 Dec 2020   Prob (F-statistic):           2.94e-10\n",
       "Time:                          23:16:58   Log-Likelihood:                 55.035\n",
       "No. Observations:                    50   AIC:                            -106.1\n",
       "Df Residuals:                        48   BIC:                            -102.2\n",
       "Df Model:                             1                                         \n",
       "Covariance Type:              nonrobust                                         \n",
       "====================================================================================\n",
       "                       coef    std err          t      P>|t|      [0.025      0.975]\n",
       "------------------------------------------------------------------------------------\n",
       "const                0.2420      0.026      9.437      0.000       0.190       0.294\n",
       "Mixing parameter     0.7196      0.091      7.917      0.000       0.537       0.902\n",
       "==============================================================================\n",
       "Omnibus:                        2.234   Durbin-Watson:                   1.921\n",
       "Prob(Omnibus):                  0.327   Jarque-Bera (JB):                1.462\n",
       "Skew:                           0.050   Prob(JB):                        0.481\n",
       "Kurtosis:                       3.832   Cond. No.                         8.33\n",
       "==============================================================================\n",
       "\n",
       "Warnings:\n",
       "[1] Standard Errors assume that the covariance matrix of the errors is correctly specified.\n",
       "\"\"\""
      ]
     },
     "execution_count": 327,
     "metadata": {},
     "output_type": "execute_result"
    }
   ],
   "source": [
    "X = sm.add_constant(X) # adding a constant\n",
    " \n",
    "model = sm.OLS(Y, X).fit()\n",
    "predictions = model.predict(X) \n",
    " \n",
    "print_model = model.summary()\n",
    "print_model"
   ]
  },
  {
   "cell_type": "code",
   "execution_count": 328,
   "metadata": {
    "scrolled": false
   },
   "outputs": [
    {
     "data": {
      "text/plain": [
       "const               1.628483e-12\n",
       "Mixing parameter    2.941365e-10\n",
       "dtype: float64"
      ]
     },
     "execution_count": 328,
     "metadata": {},
     "output_type": "execute_result"
    }
   ],
   "source": [
    "model.pvalues[model.pvalues < 0.05]"
   ]
  },
  {
   "cell_type": "code",
   "execution_count": 329,
   "metadata": {},
   "outputs": [
    {
     "data": {
      "text/plain": [
       "const               1.628483e-12\n",
       "Mixing parameter    2.941365e-10\n",
       "dtype: float64"
      ]
     },
     "execution_count": 329,
     "metadata": {},
     "output_type": "execute_result"
    }
   ],
   "source": [
    "model.pvalues[model.pvalues < 0.01]"
   ]
  },
  {
   "cell_type": "markdown",
   "metadata": {},
   "source": [
    "### Independent variable: Internal degree"
   ]
  },
  {
   "cell_type": "code",
   "execution_count": 330,
   "metadata": {},
   "outputs": [],
   "source": [
    "X = df_meso[['Internal degree']]"
   ]
  },
  {
   "cell_type": "code",
   "execution_count": 331,
   "metadata": {
    "scrolled": false
   },
   "outputs": [],
   "source": [
    "Y = df_dependent_variables['Mean-GlobalComponent']"
   ]
  },
  {
   "cell_type": "markdown",
   "metadata": {},
   "source": [
    "#### with `sklearn`"
   ]
  },
  {
   "cell_type": "code",
   "execution_count": 332,
   "metadata": {},
   "outputs": [
    {
     "data": {
      "text/plain": [
       "LinearRegression(copy_X=True, fit_intercept=True, n_jobs=None, normalize=False)"
      ]
     },
     "execution_count": 332,
     "metadata": {},
     "output_type": "execute_result"
    }
   ],
   "source": [
    "regr = LinearRegression()\n",
    "regr.fit(X, Y)"
   ]
  },
  {
   "cell_type": "code",
   "execution_count": 333,
   "metadata": {},
   "outputs": [
    {
     "name": "stdout",
     "output_type": "stream",
     "text": [
      "Intercept: \n",
      " 0.429560786417982\n",
      "Coefficients: \n",
      " [-0.00103959]\n"
     ]
    }
   ],
   "source": [
    "print('Intercept: \\n', regr.intercept_)\n",
    "print('Coefficients: \\n', regr.coef_)"
   ]
  },
  {
   "cell_type": "markdown",
   "metadata": {},
   "source": [
    "#### Plot "
   ]
  },
  {
   "cell_type": "code",
   "execution_count": 334,
   "metadata": {
    "scrolled": false
   },
   "outputs": [
    {
     "data": {
      "image/png": "[encoded data removed]",
      "text/plain": [
       "<Figure size 432x288 with 1 Axes>"
      ]
     },
     "metadata": {
      "needs_background": "light"
     },
     "output_type": "display_data"
    }
   ],
   "source": [
    "predictions = regr.predict(X)\n",
    "# plt.figure(figsize=(16, 8))\n",
    "plt.scatter(\n",
    "    df_meso['Internal degree'],\n",
    "    df_dependent_variables['Mean-GlobalComponent'],\n",
    "    c='red'\n",
    ")\n",
    "plt.plot(\n",
    "    df_meso['Internal degree'],\n",
    "    predictions,\n",
    "    c='black',\n",
    "    linewidth=2\n",
    ")\n",
    "plt.xlabel(\"Internal degree\")\n",
    "plt.ylabel(\"Mean-GlobalComponent\")\n",
    "plt.show()"
   ]
  },
  {
   "cell_type": "markdown",
   "metadata": {},
   "source": [
    "#### with `statsmodels`"
   ]
  },
  {
   "cell_type": "code",
   "execution_count": 335,
   "metadata": {
    "scrolled": false
   },
   "outputs": [
    {
     "data": {
      "text/html": [
       "<table class=\"simpletable\">\n",
       "<caption>OLS Regression Results</caption>\n",
       "<tr>\n",
       "  <th>Dep. Variable:</th>    <td>Mean-GlobalComponent</td> <th>  R-squared:         </th> <td>   0.012</td>\n",
       "</tr>\n",
       "<tr>\n",
       "  <th>Model:</th>                     <td>OLS</td>         <th>  Adj. R-squared:    </th> <td>  -0.009</td>\n",
       "</tr>\n",
       "<tr>\n",
       "  <th>Method:</th>               <td>Least Squares</td>    <th>  F-statistic:       </th> <td>  0.5633</td>\n",
       "</tr>\n",
       "<tr>\n",
       "  <th>Date:</th>               <td>Tue, 08 Dec 2020</td>   <th>  Prob (F-statistic):</th>  <td> 0.457</td> \n",
       "</tr>\n",
       "<tr>\n",
       "  <th>Time:</th>                   <td>23:17:07</td>       <th>  Log-Likelihood:    </th> <td>  34.441</td>\n",
       "</tr>\n",
       "<tr>\n",
       "  <th>No. Observations:</th>        <td>    50</td>        <th>  AIC:               </th> <td>  -64.88</td>\n",
       "</tr>\n",
       "<tr>\n",
       "  <th>Df Residuals:</th>            <td>    48</td>        <th>  BIC:               </th> <td>  -61.06</td>\n",
       "</tr>\n",
       "<tr>\n",
       "  <th>Df Model:</th>                <td>     1</td>        <th>                     </th>     <td> </td>   \n",
       "</tr>\n",
       "<tr>\n",
       "  <th>Covariance Type:</th>        <td>nonrobust</td>      <th>                     </th>     <td> </td>   \n",
       "</tr>\n",
       "</table>\n",
       "<table class=\"simpletable\">\n",
       "<tr>\n",
       "         <td></td>            <th>coef</th>     <th>std err</th>      <th>t</th>      <th>P>|t|</th>  <th>[0.025</th>    <th>0.975]</th>  \n",
       "</tr>\n",
       "<tr>\n",
       "  <th>const</th>           <td>    0.4296</td> <td>    0.020</td> <td>   21.908</td> <td> 0.000</td> <td>    0.390</td> <td>    0.469</td>\n",
       "</tr>\n",
       "<tr>\n",
       "  <th>Internal degree</th> <td>   -0.0010</td> <td>    0.001</td> <td>   -0.751</td> <td> 0.457</td> <td>   -0.004</td> <td>    0.002</td>\n",
       "</tr>\n",
       "</table>\n",
       "<table class=\"simpletable\">\n",
       "<tr>\n",
       "  <th>Omnibus:</th>       <td> 2.219</td> <th>  Durbin-Watson:     </th> <td>   2.397</td>\n",
       "</tr>\n",
       "<tr>\n",
       "  <th>Prob(Omnibus):</th> <td> 0.330</td> <th>  Jarque-Bera (JB):  </th> <td>   1.488</td>\n",
       "</tr>\n",
       "<tr>\n",
       "  <th>Skew:</th>          <td> 0.176</td> <th>  Prob(JB):          </th> <td>   0.475</td>\n",
       "</tr>\n",
       "<tr>\n",
       "  <th>Kurtosis:</th>      <td> 2.231</td> <th>  Cond. No.          </th> <td>    15.8</td>\n",
       "</tr>\n",
       "</table><br/><br/>Warnings:<br/>[1] Standard Errors assume that the covariance matrix of the errors is correctly specified."
      ],
      "text/plain": [
       "<class 'statsmodels.iolib.summary.Summary'>\n",
       "\"\"\"\n",
       "                             OLS Regression Results                             \n",
       "================================================================================\n",
       "Dep. Variable:     Mean-GlobalComponent   R-squared:                       0.012\n",
       "Model:                              OLS   Adj. R-squared:                 -0.009\n",
       "Method:                   Least Squares   F-statistic:                    0.5633\n",
       "Date:                  Tue, 08 Dec 2020   Prob (F-statistic):              0.457\n",
       "Time:                          23:17:07   Log-Likelihood:                 34.441\n",
       "No. Observations:                    50   AIC:                            -64.88\n",
       "Df Residuals:                        48   BIC:                            -61.06\n",
       "Df Model:                             1                                         \n",
       "Covariance Type:              nonrobust                                         \n",
       "===================================================================================\n",
       "                      coef    std err          t      P>|t|      [0.025      0.975]\n",
       "-----------------------------------------------------------------------------------\n",
       "const               0.4296      0.020     21.908      0.000       0.390       0.469\n",
       "Internal degree    -0.0010      0.001     -0.751      0.457      -0.004       0.002\n",
       "==============================================================================\n",
       "Omnibus:                        2.219   Durbin-Watson:                   2.397\n",
       "Prob(Omnibus):                  0.330   Jarque-Bera (JB):                1.488\n",
       "Skew:                           0.176   Prob(JB):                        0.475\n",
       "Kurtosis:                       2.231   Cond. No.                         15.8\n",
       "==============================================================================\n",
       "\n",
       "Warnings:\n",
       "[1] Standard Errors assume that the covariance matrix of the errors is correctly specified.\n",
       "\"\"\""
      ]
     },
     "execution_count": 335,
     "metadata": {},
     "output_type": "execute_result"
    }
   ],
   "source": [
    "X = sm.add_constant(X) # adding a constant\n",
    " \n",
    "model = sm.OLS(Y, X).fit()\n",
    "predictions = model.predict(X) \n",
    " \n",
    "print_model = model.summary()\n",
    "print_model"
   ]
  },
  {
   "cell_type": "code",
   "execution_count": 336,
   "metadata": {
    "scrolled": true
   },
   "outputs": [
    {
     "data": {
      "text/plain": [
       "const    1.220858e-26\n",
       "dtype: float64"
      ]
     },
     "execution_count": 336,
     "metadata": {},
     "output_type": "execute_result"
    }
   ],
   "source": [
    "model.pvalues[model.pvalues < 0.05]"
   ]
  },
  {
   "cell_type": "markdown",
   "metadata": {},
   "source": [
    "### Independent variable: Internal density"
   ]
  },
  {
   "cell_type": "code",
   "execution_count": 337,
   "metadata": {},
   "outputs": [],
   "source": [
    "X = df_meso[['Internal density']]"
   ]
  },
  {
   "cell_type": "code",
   "execution_count": 338,
   "metadata": {
    "scrolled": false
   },
   "outputs": [],
   "source": [
    "Y = df_dependent_variables['Mean-GlobalComponent']"
   ]
  },
  {
   "cell_type": "markdown",
   "metadata": {},
   "source": [
    "#### with `sklearn`"
   ]
  },
  {
   "cell_type": "code",
   "execution_count": 339,
   "metadata": {},
   "outputs": [
    {
     "data": {
      "text/plain": [
       "LinearRegression(copy_X=True, fit_intercept=True, n_jobs=None, normalize=False)"
      ]
     },
     "execution_count": 339,
     "metadata": {},
     "output_type": "execute_result"
    }
   ],
   "source": [
    "regr = LinearRegression()\n",
    "regr.fit(X, Y)"
   ]
  },
  {
   "cell_type": "code",
   "execution_count": 340,
   "metadata": {},
   "outputs": [
    {
     "name": "stdout",
     "output_type": "stream",
     "text": [
      "Intercept: \n",
      " 0.5697560124387385\n",
      "Coefficients: \n",
      " [-0.34092728]\n"
     ]
    }
   ],
   "source": [
    "print('Intercept: \\n', regr.intercept_)\n",
    "print('Coefficients: \\n', regr.coef_)"
   ]
  },
  {
   "cell_type": "markdown",
   "metadata": {},
   "source": [
    "#### Plot "
   ]
  },
  {
   "cell_type": "code",
   "execution_count": 341,
   "metadata": {
    "scrolled": false
   },
   "outputs": [
    {
     "data": {
      "image/png": "[encoded data removed]",
      "text/plain": [
       "<Figure size 432x288 with 1 Axes>"
      ]
     },
     "metadata": {
      "needs_background": "light"
     },
     "output_type": "display_data"
    }
   ],
   "source": [
    "predictions = regr.predict(X)\n",
    "# plt.figure(figsize=(16, 8))\n",
    "plt.scatter(\n",
    "    df_meso['Internal density'],\n",
    "    df_dependent_variables['Mean-GlobalComponent'],\n",
    "    c='red'\n",
    ")\n",
    "plt.plot(\n",
    "    df_meso['Internal density'],\n",
    "    predictions,\n",
    "    c='black',\n",
    "    linewidth=2\n",
    ")\n",
    "plt.xlabel(\"Internal density\")\n",
    "plt.ylabel(\"Mean-GlobalComponent\")\n",
    "plt.show()"
   ]
  },
  {
   "cell_type": "markdown",
   "metadata": {},
   "source": [
    "#### with `statsmodels`"
   ]
  },
  {
   "cell_type": "code",
   "execution_count": 342,
   "metadata": {
    "scrolled": false
   },
   "outputs": [
    {
     "data": {
      "text/html": [
       "<table class=\"simpletable\">\n",
       "<caption>OLS Regression Results</caption>\n",
       "<tr>\n",
       "  <th>Dep. Variable:</th>    <td>Mean-GlobalComponent</td> <th>  R-squared:         </th> <td>   0.143</td>\n",
       "</tr>\n",
       "<tr>\n",
       "  <th>Model:</th>                     <td>OLS</td>         <th>  Adj. R-squared:    </th> <td>   0.126</td>\n",
       "</tr>\n",
       "<tr>\n",
       "  <th>Method:</th>               <td>Least Squares</td>    <th>  F-statistic:       </th> <td>   8.041</td>\n",
       "</tr>\n",
       "<tr>\n",
       "  <th>Date:</th>               <td>Tue, 08 Dec 2020</td>   <th>  Prob (F-statistic):</th>  <td>0.00667</td>\n",
       "</tr>\n",
       "<tr>\n",
       "  <th>Time:</th>                   <td>23:17:15</td>       <th>  Log-Likelihood:    </th> <td>  38.022</td>\n",
       "</tr>\n",
       "<tr>\n",
       "  <th>No. Observations:</th>        <td>    50</td>        <th>  AIC:               </th> <td>  -72.04</td>\n",
       "</tr>\n",
       "<tr>\n",
       "  <th>Df Residuals:</th>            <td>    48</td>        <th>  BIC:               </th> <td>  -68.22</td>\n",
       "</tr>\n",
       "<tr>\n",
       "  <th>Df Model:</th>                <td>     1</td>        <th>                     </th>     <td> </td>   \n",
       "</tr>\n",
       "<tr>\n",
       "  <th>Covariance Type:</th>        <td>nonrobust</td>      <th>                     </th>     <td> </td>   \n",
       "</tr>\n",
       "</table>\n",
       "<table class=\"simpletable\">\n",
       "<tr>\n",
       "          <td></td>            <th>coef</th>     <th>std err</th>      <th>t</th>      <th>P>|t|</th>  <th>[0.025</th>    <th>0.975]</th>  \n",
       "</tr>\n",
       "<tr>\n",
       "  <th>const</th>            <td>    0.5698</td> <td>    0.054</td> <td>   10.498</td> <td> 0.000</td> <td>    0.461</td> <td>    0.679</td>\n",
       "</tr>\n",
       "<tr>\n",
       "  <th>Internal density</th> <td>   -0.3409</td> <td>    0.120</td> <td>   -2.836</td> <td> 0.007</td> <td>   -0.583</td> <td>   -0.099</td>\n",
       "</tr>\n",
       "</table>\n",
       "<table class=\"simpletable\">\n",
       "<tr>\n",
       "  <th>Omnibus:</th>       <td> 3.272</td> <th>  Durbin-Watson:     </th> <td>   2.351</td>\n",
       "</tr>\n",
       "<tr>\n",
       "  <th>Prob(Omnibus):</th> <td> 0.195</td> <th>  Jarque-Bera (JB):  </th> <td>   3.102</td>\n",
       "</tr>\n",
       "<tr>\n",
       "  <th>Skew:</th>          <td> 0.590</td> <th>  Prob(JB):          </th> <td>   0.212</td>\n",
       "</tr>\n",
       "<tr>\n",
       "  <th>Kurtosis:</th>      <td> 2.686</td> <th>  Cond. No.          </th> <td>    8.75</td>\n",
       "</tr>\n",
       "</table><br/><br/>Warnings:<br/>[1] Standard Errors assume that the covariance matrix of the errors is correctly specified."
      ],
      "text/plain": [
       "<class 'statsmodels.iolib.summary.Summary'>\n",
       "\"\"\"\n",
       "                             OLS Regression Results                             \n",
       "================================================================================\n",
       "Dep. Variable:     Mean-GlobalComponent   R-squared:                       0.143\n",
       "Model:                              OLS   Adj. R-squared:                  0.126\n",
       "Method:                   Least Squares   F-statistic:                     8.041\n",
       "Date:                  Tue, 08 Dec 2020   Prob (F-statistic):            0.00667\n",
       "Time:                          23:17:15   Log-Likelihood:                 38.022\n",
       "No. Observations:                    50   AIC:                            -72.04\n",
       "Df Residuals:                        48   BIC:                            -68.22\n",
       "Df Model:                             1                                         \n",
       "Covariance Type:              nonrobust                                         \n",
       "====================================================================================\n",
       "                       coef    std err          t      P>|t|      [0.025      0.975]\n",
       "------------------------------------------------------------------------------------\n",
       "const                0.5698      0.054     10.498      0.000       0.461       0.679\n",
       "Internal density    -0.3409      0.120     -2.836      0.007      -0.583      -0.099\n",
       "==============================================================================\n",
       "Omnibus:                        3.272   Durbin-Watson:                   2.351\n",
       "Prob(Omnibus):                  0.195   Jarque-Bera (JB):                3.102\n",
       "Skew:                           0.590   Prob(JB):                        0.212\n",
       "Kurtosis:                       2.686   Cond. No.                         8.75\n",
       "==============================================================================\n",
       "\n",
       "Warnings:\n",
       "[1] Standard Errors assume that the covariance matrix of the errors is correctly specified.\n",
       "\"\"\""
      ]
     },
     "execution_count": 342,
     "metadata": {},
     "output_type": "execute_result"
    }
   ],
   "source": [
    "X = sm.add_constant(X) # adding a constant\n",
    " \n",
    "model = sm.OLS(Y, X).fit()\n",
    "predictions = model.predict(X) \n",
    " \n",
    "print_model = model.summary()\n",
    "print_model"
   ]
  },
  {
   "cell_type": "code",
   "execution_count": 343,
   "metadata": {
    "scrolled": false
   },
   "outputs": [
    {
     "data": {
      "text/plain": [
       "const               5.038828e-14\n",
       "Internal density    6.674205e-03\n",
       "dtype: float64"
      ]
     },
     "execution_count": 343,
     "metadata": {},
     "output_type": "execute_result"
    }
   ],
   "source": [
    "model.pvalues[model.pvalues < 0.05]"
   ]
  },
  {
   "cell_type": "code",
   "execution_count": 344,
   "metadata": {},
   "outputs": [
    {
     "data": {
      "text/plain": [
       "const               5.038828e-14\n",
       "Internal density    6.674205e-03\n",
       "dtype: float64"
      ]
     },
     "execution_count": 344,
     "metadata": {},
     "output_type": "execute_result"
    }
   ],
   "source": [
    "model.pvalues[model.pvalues < 0.01]"
   ]
  },
  {
   "cell_type": "markdown",
   "metadata": {},
   "source": [
    "### Independent variable: Max-ODF"
   ]
  },
  {
   "cell_type": "code",
   "execution_count": 345,
   "metadata": {},
   "outputs": [],
   "source": [
    "X = df_meso[['Max-ODF']]"
   ]
  },
  {
   "cell_type": "code",
   "execution_count": 346,
   "metadata": {
    "scrolled": false
   },
   "outputs": [],
   "source": [
    "Y = df_dependent_variables['Mean-GlobalComponent']"
   ]
  },
  {
   "cell_type": "markdown",
   "metadata": {},
   "source": [
    "#### with `sklearn`"
   ]
  },
  {
   "cell_type": "code",
   "execution_count": 347,
   "metadata": {},
   "outputs": [
    {
     "data": {
      "text/plain": [
       "LinearRegression(copy_X=True, fit_intercept=True, n_jobs=None, normalize=False)"
      ]
     },
     "execution_count": 347,
     "metadata": {},
     "output_type": "execute_result"
    }
   ],
   "source": [
    "regr = LinearRegression()\n",
    "regr.fit(X, Y)"
   ]
  },
  {
   "cell_type": "code",
   "execution_count": 348,
   "metadata": {},
   "outputs": [
    {
     "name": "stdout",
     "output_type": "stream",
     "text": [
      "Intercept: \n",
      " 0.14796823162418832\n",
      "Coefficients: \n",
      " [0.53765742]\n"
     ]
    }
   ],
   "source": [
    "print('Intercept: \\n', regr.intercept_)\n",
    "print('Coefficients: \\n', regr.coef_)"
   ]
  },
  {
   "cell_type": "markdown",
   "metadata": {},
   "source": [
    "#### Plot "
   ]
  },
  {
   "cell_type": "code",
   "execution_count": 349,
   "metadata": {
    "scrolled": false
   },
   "outputs": [
    {
     "data": {
      "image/png": "[encoded data removed]",
      "text/plain": [
       "<Figure size 432x288 with 1 Axes>"
      ]
     },
     "metadata": {
      "needs_background": "light"
     },
     "output_type": "display_data"
    }
   ],
   "source": [
    "predictions = regr.predict(X)\n",
    "# plt.figure(figsize=(16, 8))\n",
    "plt.scatter(\n",
    "    df_meso['Max-ODF'],\n",
    "    df_dependent_variables['Mean-GlobalComponent'],\n",
    "    c='red'\n",
    ")\n",
    "plt.plot(\n",
    "    df_meso['Max-ODF'],\n",
    "    predictions,\n",
    "    c='black',\n",
    "    linewidth=2\n",
    ")\n",
    "plt.xlabel(\"Max-ODF\")\n",
    "plt.ylabel(\"Mean-GlobalComponent\")\n",
    "plt.show()"
   ]
  },
  {
   "cell_type": "markdown",
   "metadata": {},
   "source": [
    "#### with `statsmodels`"
   ]
  },
  {
   "cell_type": "code",
   "execution_count": 350,
   "metadata": {
    "scrolled": false
   },
   "outputs": [
    {
     "data": {
      "text/html": [
       "<table class=\"simpletable\">\n",
       "<caption>OLS Regression Results</caption>\n",
       "<tr>\n",
       "  <th>Dep. Variable:</th>    <td>Mean-GlobalComponent</td> <th>  R-squared:         </th> <td>   0.209</td>\n",
       "</tr>\n",
       "<tr>\n",
       "  <th>Model:</th>                     <td>OLS</td>         <th>  Adj. R-squared:    </th> <td>   0.193</td>\n",
       "</tr>\n",
       "<tr>\n",
       "  <th>Method:</th>               <td>Least Squares</td>    <th>  F-statistic:       </th> <td>   12.71</td>\n",
       "</tr>\n",
       "<tr>\n",
       "  <th>Date:</th>               <td>Tue, 08 Dec 2020</td>   <th>  Prob (F-statistic):</th> <td>0.000835</td>\n",
       "</tr>\n",
       "<tr>\n",
       "  <th>Time:</th>                   <td>23:17:21</td>       <th>  Log-Likelihood:    </th> <td>  40.023</td>\n",
       "</tr>\n",
       "<tr>\n",
       "  <th>No. Observations:</th>        <td>    50</td>        <th>  AIC:               </th> <td>  -76.05</td>\n",
       "</tr>\n",
       "<tr>\n",
       "  <th>Df Residuals:</th>            <td>    48</td>        <th>  BIC:               </th> <td>  -72.22</td>\n",
       "</tr>\n",
       "<tr>\n",
       "  <th>Df Model:</th>                <td>     1</td>        <th>                     </th>     <td> </td>   \n",
       "</tr>\n",
       "<tr>\n",
       "  <th>Covariance Type:</th>        <td>nonrobust</td>      <th>                     </th>     <td> </td>   \n",
       "</tr>\n",
       "</table>\n",
       "<table class=\"simpletable\">\n",
       "<tr>\n",
       "     <td></td>        <th>coef</th>     <th>std err</th>      <th>t</th>      <th>P>|t|</th>  <th>[0.025</th>    <th>0.975]</th>  \n",
       "</tr>\n",
       "<tr>\n",
       "  <th>const</th>   <td>    0.1480</td> <td>    0.079</td> <td>    1.880</td> <td> 0.066</td> <td>   -0.010</td> <td>    0.306</td>\n",
       "</tr>\n",
       "<tr>\n",
       "  <th>Max-ODF</th> <td>    0.5377</td> <td>    0.151</td> <td>    3.565</td> <td> 0.001</td> <td>    0.234</td> <td>    0.841</td>\n",
       "</tr>\n",
       "</table>\n",
       "<table class=\"simpletable\">\n",
       "<tr>\n",
       "  <th>Omnibus:</th>       <td> 5.045</td> <th>  Durbin-Watson:     </th> <td>   2.344</td>\n",
       "</tr>\n",
       "<tr>\n",
       "  <th>Prob(Omnibus):</th> <td> 0.080</td> <th>  Jarque-Bera (JB):  </th> <td>   2.496</td>\n",
       "</tr>\n",
       "<tr>\n",
       "  <th>Skew:</th>          <td>-0.273</td> <th>  Prob(JB):          </th> <td>   0.287</td>\n",
       "</tr>\n",
       "<tr>\n",
       "  <th>Kurtosis:</th>      <td> 2.051</td> <th>  Cond. No.          </th> <td>    12.2</td>\n",
       "</tr>\n",
       "</table><br/><br/>Warnings:<br/>[1] Standard Errors assume that the covariance matrix of the errors is correctly specified."
      ],
      "text/plain": [
       "<class 'statsmodels.iolib.summary.Summary'>\n",
       "\"\"\"\n",
       "                             OLS Regression Results                             \n",
       "================================================================================\n",
       "Dep. Variable:     Mean-GlobalComponent   R-squared:                       0.209\n",
       "Model:                              OLS   Adj. R-squared:                  0.193\n",
       "Method:                   Least Squares   F-statistic:                     12.71\n",
       "Date:                  Tue, 08 Dec 2020   Prob (F-statistic):           0.000835\n",
       "Time:                          23:17:21   Log-Likelihood:                 40.023\n",
       "No. Observations:                    50   AIC:                            -76.05\n",
       "Df Residuals:                        48   BIC:                            -72.22\n",
       "Df Model:                             1                                         \n",
       "Covariance Type:              nonrobust                                         \n",
       "==============================================================================\n",
       "                 coef    std err          t      P>|t|      [0.025      0.975]\n",
       "------------------------------------------------------------------------------\n",
       "const          0.1480      0.079      1.880      0.066      -0.010       0.306\n",
       "Max-ODF        0.5377      0.151      3.565      0.001       0.234       0.841\n",
       "==============================================================================\n",
       "Omnibus:                        5.045   Durbin-Watson:                   2.344\n",
       "Prob(Omnibus):                  0.080   Jarque-Bera (JB):                2.496\n",
       "Skew:                          -0.273   Prob(JB):                        0.287\n",
       "Kurtosis:                       2.051   Cond. No.                         12.2\n",
       "==============================================================================\n",
       "\n",
       "Warnings:\n",
       "[1] Standard Errors assume that the covariance matrix of the errors is correctly specified.\n",
       "\"\"\""
      ]
     },
     "execution_count": 350,
     "metadata": {},
     "output_type": "execute_result"
    }
   ],
   "source": [
    "X = sm.add_constant(X) # adding a constant\n",
    " \n",
    "model = sm.OLS(Y, X).fit()\n",
    "predictions = model.predict(X) \n",
    " \n",
    "print_model = model.summary()\n",
    "print_model"
   ]
  },
  {
   "cell_type": "code",
   "execution_count": 351,
   "metadata": {
    "scrolled": false
   },
   "outputs": [
    {
     "data": {
      "text/plain": [
       "Max-ODF    0.000835\n",
       "dtype: float64"
      ]
     },
     "execution_count": 351,
     "metadata": {},
     "output_type": "execute_result"
    }
   ],
   "source": [
    "model.pvalues[model.pvalues < 0.05]"
   ]
  },
  {
   "cell_type": "code",
   "execution_count": 352,
   "metadata": {},
   "outputs": [
    {
     "data": {
      "text/plain": [
       "Max-ODF    0.000835\n",
       "dtype: float64"
      ]
     },
     "execution_count": 352,
     "metadata": {},
     "output_type": "execute_result"
    }
   ],
   "source": [
    "model.pvalues[model.pvalues < 0.01]"
   ]
  },
  {
   "cell_type": "markdown",
   "metadata": {},
   "source": [
    "### Independent variable: Average-ODF"
   ]
  },
  {
   "cell_type": "code",
   "execution_count": 353,
   "metadata": {},
   "outputs": [],
   "source": [
    "X = df_meso[['Average-ODF']]"
   ]
  },
  {
   "cell_type": "code",
   "execution_count": 354,
   "metadata": {
    "scrolled": false
   },
   "outputs": [],
   "source": [
    "Y = df_dependent_variables['Mean-GlobalComponent']"
   ]
  },
  {
   "cell_type": "markdown",
   "metadata": {},
   "source": [
    "#### with `sklearn`"
   ]
  },
  {
   "cell_type": "code",
   "execution_count": 355,
   "metadata": {},
   "outputs": [
    {
     "data": {
      "text/plain": [
       "LinearRegression(copy_X=True, fit_intercept=True, n_jobs=None, normalize=False)"
      ]
     },
     "execution_count": 355,
     "metadata": {},
     "output_type": "execute_result"
    }
   ],
   "source": [
    "regr = LinearRegression()\n",
    "regr.fit(X, Y)"
   ]
  },
  {
   "cell_type": "code",
   "execution_count": 356,
   "metadata": {},
   "outputs": [
    {
     "name": "stdout",
     "output_type": "stream",
     "text": [
      "Intercept: \n",
      " 0.3325864753545752\n",
      "Coefficients: \n",
      " [0.36446063]\n"
     ]
    }
   ],
   "source": [
    "print('Intercept: \\n', regr.intercept_)\n",
    "print('Coefficients: \\n', regr.coef_)"
   ]
  },
  {
   "cell_type": "markdown",
   "metadata": {},
   "source": [
    "#### Plot "
   ]
  },
  {
   "cell_type": "code",
   "execution_count": 357,
   "metadata": {
    "scrolled": false
   },
   "outputs": [
    {
     "data": {
      "image/png": "[encoded data removed]",
      "text/plain": [
       "<Figure size 432x288 with 1 Axes>"
      ]
     },
     "metadata": {
      "needs_background": "light"
     },
     "output_type": "display_data"
    }
   ],
   "source": [
    "predictions = regr.predict(X)\n",
    "# plt.figure(figsize=(16, 8))\n",
    "plt.scatter(\n",
    "    df_meso['Average-ODF'],\n",
    "    df_dependent_variables['Mean-GlobalComponent'],\n",
    "    c='red'\n",
    ")\n",
    "plt.plot(\n",
    "    df_meso['Average-ODF'],\n",
    "    predictions,\n",
    "    c='black',\n",
    "    linewidth=2\n",
    ")\n",
    "plt.xlabel(\"Average-ODF\")\n",
    "plt.ylabel(\"Mean-GlobalComponent\")\n",
    "plt.show()"
   ]
  },
  {
   "cell_type": "markdown",
   "metadata": {},
   "source": [
    "#### with `statsmodels`"
   ]
  },
  {
   "cell_type": "code",
   "execution_count": 358,
   "metadata": {
    "scrolled": false
   },
   "outputs": [
    {
     "data": {
      "text/html": [
       "<table class=\"simpletable\">\n",
       "<caption>OLS Regression Results</caption>\n",
       "<tr>\n",
       "  <th>Dep. Variable:</th>    <td>Mean-GlobalComponent</td> <th>  R-squared:         </th> <td>   0.115</td>\n",
       "</tr>\n",
       "<tr>\n",
       "  <th>Model:</th>                     <td>OLS</td>         <th>  Adj. R-squared:    </th> <td>   0.097</td>\n",
       "</tr>\n",
       "<tr>\n",
       "  <th>Method:</th>               <td>Least Squares</td>    <th>  F-statistic:       </th> <td>   6.237</td>\n",
       "</tr>\n",
       "<tr>\n",
       "  <th>Date:</th>               <td>Tue, 08 Dec 2020</td>   <th>  Prob (F-statistic):</th>  <td>0.0160</td> \n",
       "</tr>\n",
       "<tr>\n",
       "  <th>Time:</th>                   <td>23:17:28</td>       <th>  Log-Likelihood:    </th> <td>  37.203</td>\n",
       "</tr>\n",
       "<tr>\n",
       "  <th>No. Observations:</th>        <td>    50</td>        <th>  AIC:               </th> <td>  -70.41</td>\n",
       "</tr>\n",
       "<tr>\n",
       "  <th>Df Residuals:</th>            <td>    48</td>        <th>  BIC:               </th> <td>  -66.58</td>\n",
       "</tr>\n",
       "<tr>\n",
       "  <th>Df Model:</th>                <td>     1</td>        <th>                     </th>     <td> </td>   \n",
       "</tr>\n",
       "<tr>\n",
       "  <th>Covariance Type:</th>        <td>nonrobust</td>      <th>                     </th>     <td> </td>   \n",
       "</tr>\n",
       "</table>\n",
       "<table class=\"simpletable\">\n",
       "<tr>\n",
       "       <td></td>          <th>coef</th>     <th>std err</th>      <th>t</th>      <th>P>|t|</th>  <th>[0.025</th>    <th>0.975]</th>  \n",
       "</tr>\n",
       "<tr>\n",
       "  <th>const</th>       <td>    0.3326</td> <td>    0.040</td> <td>    8.352</td> <td> 0.000</td> <td>    0.253</td> <td>    0.413</td>\n",
       "</tr>\n",
       "<tr>\n",
       "  <th>Average-ODF</th> <td>    0.3645</td> <td>    0.146</td> <td>    2.497</td> <td> 0.016</td> <td>    0.071</td> <td>    0.658</td>\n",
       "</tr>\n",
       "</table>\n",
       "<table class=\"simpletable\">\n",
       "<tr>\n",
       "  <th>Omnibus:</th>       <td> 3.749</td> <th>  Durbin-Watson:     </th> <td>   2.309</td>\n",
       "</tr>\n",
       "<tr>\n",
       "  <th>Prob(Omnibus):</th> <td> 0.153</td> <th>  Jarque-Bera (JB):  </th> <td>   2.214</td>\n",
       "</tr>\n",
       "<tr>\n",
       "  <th>Skew:</th>          <td>-0.283</td> <th>  Prob(JB):          </th> <td>   0.331</td>\n",
       "</tr>\n",
       "<tr>\n",
       "  <th>Kurtosis:</th>      <td> 2.139</td> <th>  Cond. No.          </th> <td>    9.34</td>\n",
       "</tr>\n",
       "</table><br/><br/>Warnings:<br/>[1] Standard Errors assume that the covariance matrix of the errors is correctly specified."
      ],
      "text/plain": [
       "<class 'statsmodels.iolib.summary.Summary'>\n",
       "\"\"\"\n",
       "                             OLS Regression Results                             \n",
       "================================================================================\n",
       "Dep. Variable:     Mean-GlobalComponent   R-squared:                       0.115\n",
       "Model:                              OLS   Adj. R-squared:                  0.097\n",
       "Method:                   Least Squares   F-statistic:                     6.237\n",
       "Date:                  Tue, 08 Dec 2020   Prob (F-statistic):             0.0160\n",
       "Time:                          23:17:28   Log-Likelihood:                 37.203\n",
       "No. Observations:                    50   AIC:                            -70.41\n",
       "Df Residuals:                        48   BIC:                            -66.58\n",
       "Df Model:                             1                                         \n",
       "Covariance Type:              nonrobust                                         \n",
       "===============================================================================\n",
       "                  coef    std err          t      P>|t|      [0.025      0.975]\n",
       "-------------------------------------------------------------------------------\n",
       "const           0.3326      0.040      8.352      0.000       0.253       0.413\n",
       "Average-ODF     0.3645      0.146      2.497      0.016       0.071       0.658\n",
       "==============================================================================\n",
       "Omnibus:                        3.749   Durbin-Watson:                   2.309\n",
       "Prob(Omnibus):                  0.153   Jarque-Bera (JB):                2.214\n",
       "Skew:                          -0.283   Prob(JB):                        0.331\n",
       "Kurtosis:                       2.139   Cond. No.                         9.34\n",
       "==============================================================================\n",
       "\n",
       "Warnings:\n",
       "[1] Standard Errors assume that the covariance matrix of the errors is correctly specified.\n",
       "\"\"\""
      ]
     },
     "execution_count": 358,
     "metadata": {},
     "output_type": "execute_result"
    }
   ],
   "source": [
    "X = sm.add_constant(X) # adding a constant\n",
    " \n",
    "model = sm.OLS(Y, X).fit()\n",
    "predictions = model.predict(X) \n",
    " \n",
    "print_model = model.summary()\n",
    "print_model"
   ]
  },
  {
   "cell_type": "code",
   "execution_count": 359,
   "metadata": {
    "scrolled": true
   },
   "outputs": [
    {
     "data": {
      "text/plain": [
       "const          6.496032e-11\n",
       "Average-ODF    1.599635e-02\n",
       "dtype: float64"
      ]
     },
     "execution_count": 359,
     "metadata": {},
     "output_type": "execute_result"
    }
   ],
   "source": [
    "model.pvalues[model.pvalues < 0.05]"
   ]
  },
  {
   "cell_type": "code",
   "execution_count": 360,
   "metadata": {},
   "outputs": [
    {
     "data": {
      "text/plain": [
       "const    6.496032e-11\n",
       "dtype: float64"
      ]
     },
     "execution_count": 360,
     "metadata": {},
     "output_type": "execute_result"
    }
   ],
   "source": [
    "model.pvalues[model.pvalues < 0.01]"
   ]
  },
  {
   "cell_type": "markdown",
   "metadata": {},
   "source": [
    "### Independent variable: Flake-out ODF"
   ]
  },
  {
   "cell_type": "code",
   "execution_count": 361,
   "metadata": {},
   "outputs": [],
   "source": [
    "X = df_meso[['Flake-out ODF']]"
   ]
  },
  {
   "cell_type": "code",
   "execution_count": 362,
   "metadata": {
    "scrolled": false
   },
   "outputs": [],
   "source": [
    "Y = df_dependent_variables['Mean-GlobalComponent']"
   ]
  },
  {
   "cell_type": "markdown",
   "metadata": {},
   "source": [
    "#### with `sklearn`"
   ]
  },
  {
   "cell_type": "code",
   "execution_count": 363,
   "metadata": {},
   "outputs": [
    {
     "data": {
      "text/plain": [
       "LinearRegression(copy_X=True, fit_intercept=True, n_jobs=None, normalize=False)"
      ]
     },
     "execution_count": 363,
     "metadata": {},
     "output_type": "execute_result"
    }
   ],
   "source": [
    "regr = LinearRegression()\n",
    "regr.fit(X, Y)"
   ]
  },
  {
   "cell_type": "code",
   "execution_count": 364,
   "metadata": {},
   "outputs": [
    {
     "name": "stdout",
     "output_type": "stream",
     "text": [
      "Intercept: \n",
      " 0.3478306089203702\n",
      "Coefficients: \n",
      " [0.25709679]\n"
     ]
    }
   ],
   "source": [
    "print('Intercept: \\n', regr.intercept_)\n",
    "print('Coefficients: \\n', regr.coef_)"
   ]
  },
  {
   "cell_type": "markdown",
   "metadata": {},
   "source": [
    "#### Plot "
   ]
  },
  {
   "cell_type": "code",
   "execution_count": 365,
   "metadata": {
    "scrolled": false
   },
   "outputs": [
    {
     "data": {
      "image/png": "[encoded data removed]",
      "text/plain": [
       "<Figure size 432x288 with 1 Axes>"
      ]
     },
     "metadata": {
      "needs_background": "light"
     },
     "output_type": "display_data"
    }
   ],
   "source": [
    "predictions = regr.predict(X)\n",
    "# plt.figure(figsize=(16, 8))\n",
    "plt.scatter(\n",
    "    df_meso['Flake-out ODF'],\n",
    "    df_dependent_variables['Mean-GlobalComponent'],\n",
    "    c='red'\n",
    ")\n",
    "plt.plot(\n",
    "    df_meso['Flake-out ODF'],\n",
    "    predictions,\n",
    "    c='black',\n",
    "    linewidth=2\n",
    ")\n",
    "plt.xlabel(\"Flake-out ODF\")\n",
    "plt.ylabel(\"Mean-GlobalComponent\")\n",
    "plt.show()"
   ]
  },
  {
   "cell_type": "markdown",
   "metadata": {},
   "source": [
    "#### with `statsmodels`"
   ]
  },
  {
   "cell_type": "code",
   "execution_count": 366,
   "metadata": {
    "scrolled": false
   },
   "outputs": [
    {
     "data": {
      "text/html": [
       "<table class=\"simpletable\">\n",
       "<caption>OLS Regression Results</caption>\n",
       "<tr>\n",
       "  <th>Dep. Variable:</th>    <td>Mean-GlobalComponent</td> <th>  R-squared:         </th> <td>   0.146</td>\n",
       "</tr>\n",
       "<tr>\n",
       "  <th>Model:</th>                     <td>OLS</td>         <th>  Adj. R-squared:    </th> <td>   0.128</td>\n",
       "</tr>\n",
       "<tr>\n",
       "  <th>Method:</th>               <td>Least Squares</td>    <th>  F-statistic:       </th> <td>   8.180</td>\n",
       "</tr>\n",
       "<tr>\n",
       "  <th>Date:</th>               <td>Tue, 08 Dec 2020</td>   <th>  Prob (F-statistic):</th>  <td>0.00625</td>\n",
       "</tr>\n",
       "<tr>\n",
       "  <th>Time:</th>                   <td>23:17:35</td>       <th>  Log-Likelihood:    </th> <td>  38.084</td>\n",
       "</tr>\n",
       "<tr>\n",
       "  <th>No. Observations:</th>        <td>    50</td>        <th>  AIC:               </th> <td>  -72.17</td>\n",
       "</tr>\n",
       "<tr>\n",
       "  <th>Df Residuals:</th>            <td>    48</td>        <th>  BIC:               </th> <td>  -68.34</td>\n",
       "</tr>\n",
       "<tr>\n",
       "  <th>Df Model:</th>                <td>     1</td>        <th>                     </th>     <td> </td>   \n",
       "</tr>\n",
       "<tr>\n",
       "  <th>Covariance Type:</th>        <td>nonrobust</td>      <th>                     </th>     <td> </td>   \n",
       "</tr>\n",
       "</table>\n",
       "<table class=\"simpletable\">\n",
       "<tr>\n",
       "        <td></td>           <th>coef</th>     <th>std err</th>      <th>t</th>      <th>P>|t|</th>  <th>[0.025</th>    <th>0.975]</th>  \n",
       "</tr>\n",
       "<tr>\n",
       "  <th>const</th>         <td>    0.3478</td> <td>    0.031</td> <td>   11.248</td> <td> 0.000</td> <td>    0.286</td> <td>    0.410</td>\n",
       "</tr>\n",
       "<tr>\n",
       "  <th>Flake-out ODF</th> <td>    0.2571</td> <td>    0.090</td> <td>    2.860</td> <td> 0.006</td> <td>    0.076</td> <td>    0.438</td>\n",
       "</tr>\n",
       "</table>\n",
       "<table class=\"simpletable\">\n",
       "<tr>\n",
       "  <th>Omnibus:</th>       <td> 2.361</td> <th>  Durbin-Watson:     </th> <td>   2.312</td>\n",
       "</tr>\n",
       "<tr>\n",
       "  <th>Prob(Omnibus):</th> <td> 0.307</td> <th>  Jarque-Bera (JB):  </th> <td>   1.703</td>\n",
       "</tr>\n",
       "<tr>\n",
       "  <th>Skew:</th>          <td>-0.255</td> <th>  Prob(JB):          </th> <td>   0.427</td>\n",
       "</tr>\n",
       "<tr>\n",
       "  <th>Kurtosis:</th>      <td> 2.254</td> <th>  Cond. No.          </th> <td>    6.00</td>\n",
       "</tr>\n",
       "</table><br/><br/>Warnings:<br/>[1] Standard Errors assume that the covariance matrix of the errors is correctly specified."
      ],
      "text/plain": [
       "<class 'statsmodels.iolib.summary.Summary'>\n",
       "\"\"\"\n",
       "                             OLS Regression Results                             \n",
       "================================================================================\n",
       "Dep. Variable:     Mean-GlobalComponent   R-squared:                       0.146\n",
       "Model:                              OLS   Adj. R-squared:                  0.128\n",
       "Method:                   Least Squares   F-statistic:                     8.180\n",
       "Date:                  Tue, 08 Dec 2020   Prob (F-statistic):            0.00625\n",
       "Time:                          23:17:35   Log-Likelihood:                 38.084\n",
       "No. Observations:                    50   AIC:                            -72.17\n",
       "Df Residuals:                        48   BIC:                            -68.34\n",
       "Df Model:                             1                                         \n",
       "Covariance Type:              nonrobust                                         \n",
       "=================================================================================\n",
       "                    coef    std err          t      P>|t|      [0.025      0.975]\n",
       "---------------------------------------------------------------------------------\n",
       "const             0.3478      0.031     11.248      0.000       0.286       0.410\n",
       "Flake-out ODF     0.2571      0.090      2.860      0.006       0.076       0.438\n",
       "==============================================================================\n",
       "Omnibus:                        2.361   Durbin-Watson:                   2.312\n",
       "Prob(Omnibus):                  0.307   Jarque-Bera (JB):                1.703\n",
       "Skew:                          -0.255   Prob(JB):                        0.427\n",
       "Kurtosis:                       2.254   Cond. No.                         6.00\n",
       "==============================================================================\n",
       "\n",
       "Warnings:\n",
       "[1] Standard Errors assume that the covariance matrix of the errors is correctly specified.\n",
       "\"\"\""
      ]
     },
     "execution_count": 366,
     "metadata": {},
     "output_type": "execute_result"
    }
   ],
   "source": [
    "X = sm.add_constant(X) # adding a constant\n",
    " \n",
    "model = sm.OLS(Y, X).fit()\n",
    "predictions = model.predict(X) \n",
    " \n",
    "print_model = model.summary()\n",
    "print_model"
   ]
  },
  {
   "cell_type": "code",
   "execution_count": 367,
   "metadata": {
    "scrolled": false
   },
   "outputs": [
    {
     "data": {
      "text/plain": [
       "const            4.688499e-15\n",
       "Flake-out ODF    6.251140e-03\n",
       "dtype: float64"
      ]
     },
     "execution_count": 367,
     "metadata": {},
     "output_type": "execute_result"
    }
   ],
   "source": [
    "model.pvalues[model.pvalues < 0.05]"
   ]
  },
  {
   "cell_type": "code",
   "execution_count": 368,
   "metadata": {},
   "outputs": [
    {
     "data": {
      "text/plain": [
       "const            4.688499e-15\n",
       "Flake-out ODF    6.251140e-03\n",
       "dtype: float64"
      ]
     },
     "execution_count": 368,
     "metadata": {},
     "output_type": "execute_result"
    }
   ],
   "source": [
    "model.pvalues[model.pvalues < 0.01]"
   ]
  },
  {
   "cell_type": "markdown",
   "metadata": {},
   "source": [
    "### Independent variable: Embeddedness"
   ]
  },
  {
   "cell_type": "code",
   "execution_count": 369,
   "metadata": {},
   "outputs": [],
   "source": [
    "X = df_meso[['Embeddedness']]"
   ]
  },
  {
   "cell_type": "code",
   "execution_count": 370,
   "metadata": {
    "scrolled": false
   },
   "outputs": [],
   "source": [
    "Y = df_dependent_variables['Mean-GlobalComponent']"
   ]
  },
  {
   "cell_type": "markdown",
   "metadata": {},
   "source": [
    "#### with `sklearn`"
   ]
  },
  {
   "cell_type": "code",
   "execution_count": 371,
   "metadata": {},
   "outputs": [
    {
     "data": {
      "text/plain": [
       "LinearRegression(copy_X=True, fit_intercept=True, n_jobs=None, normalize=False)"
      ]
     },
     "execution_count": 371,
     "metadata": {},
     "output_type": "execute_result"
    }
   ],
   "source": [
    "regr = LinearRegression()\n",
    "regr.fit(X, Y)"
   ]
  },
  {
   "cell_type": "code",
   "execution_count": 372,
   "metadata": {},
   "outputs": [
    {
     "name": "stdout",
     "output_type": "stream",
     "text": [
      "Intercept: \n",
      " 0.6748255184788781\n",
      "Coefficients: \n",
      " [-0.33733226]\n"
     ]
    }
   ],
   "source": [
    "print('Intercept: \\n', regr.intercept_)\n",
    "print('Coefficients: \\n', regr.coef_)"
   ]
  },
  {
   "cell_type": "markdown",
   "metadata": {},
   "source": [
    "#### Plot "
   ]
  },
  {
   "cell_type": "code",
   "execution_count": 373,
   "metadata": {
    "scrolled": false
   },
   "outputs": [
    {
     "data": {
      "image/png": "[encoded data removed]",
      "text/plain": [
       "<Figure size 432x288 with 1 Axes>"
      ]
     },
     "metadata": {
      "needs_background": "light"
     },
     "output_type": "display_data"
    }
   ],
   "source": [
    "predictions = regr.predict(X)\n",
    "# plt.figure(figsize=(16, 8))\n",
    "plt.scatter(\n",
    "    df_meso['Embeddedness'],\n",
    "    df_dependent_variables['Mean-GlobalComponent'],\n",
    "    c='red'\n",
    ")\n",
    "plt.plot(\n",
    "    df_meso['Embeddedness'],\n",
    "    predictions,\n",
    "    c='black',\n",
    "    linewidth=2\n",
    ")\n",
    "plt.xlabel(\"Embeddedness\")\n",
    "plt.ylabel(\"Mean-GlobalComponent\")\n",
    "plt.show()"
   ]
  },
  {
   "cell_type": "markdown",
   "metadata": {},
   "source": [
    "#### with `statsmodels`"
   ]
  },
  {
   "cell_type": "code",
   "execution_count": 374,
   "metadata": {
    "scrolled": false
   },
   "outputs": [
    {
     "data": {
      "text/html": [
       "<table class=\"simpletable\">\n",
       "<caption>OLS Regression Results</caption>\n",
       "<tr>\n",
       "  <th>Dep. Variable:</th>    <td>Mean-GlobalComponent</td> <th>  R-squared:         </th> <td>   0.094</td>\n",
       "</tr>\n",
       "<tr>\n",
       "  <th>Model:</th>                     <td>OLS</td>         <th>  Adj. R-squared:    </th> <td>   0.075</td>\n",
       "</tr>\n",
       "<tr>\n",
       "  <th>Method:</th>               <td>Least Squares</td>    <th>  F-statistic:       </th> <td>   4.977</td>\n",
       "</tr>\n",
       "<tr>\n",
       "  <th>Date:</th>               <td>Tue, 08 Dec 2020</td>   <th>  Prob (F-statistic):</th>  <td>0.0304</td> \n",
       "</tr>\n",
       "<tr>\n",
       "  <th>Time:</th>                   <td>23:17:41</td>       <th>  Log-Likelihood:    </th> <td>  36.616</td>\n",
       "</tr>\n",
       "<tr>\n",
       "  <th>No. Observations:</th>        <td>    50</td>        <th>  AIC:               </th> <td>  -69.23</td>\n",
       "</tr>\n",
       "<tr>\n",
       "  <th>Df Residuals:</th>            <td>    48</td>        <th>  BIC:               </th> <td>  -65.41</td>\n",
       "</tr>\n",
       "<tr>\n",
       "  <th>Df Model:</th>                <td>     1</td>        <th>                     </th>     <td> </td>   \n",
       "</tr>\n",
       "<tr>\n",
       "  <th>Covariance Type:</th>        <td>nonrobust</td>      <th>                     </th>     <td> </td>   \n",
       "</tr>\n",
       "</table>\n",
       "<table class=\"simpletable\">\n",
       "<tr>\n",
       "        <td></td>          <th>coef</th>     <th>std err</th>      <th>t</th>      <th>P>|t|</th>  <th>[0.025</th>    <th>0.975]</th>  \n",
       "</tr>\n",
       "<tr>\n",
       "  <th>const</th>        <td>    0.6748</td> <td>    0.114</td> <td>    5.913</td> <td> 0.000</td> <td>    0.445</td> <td>    0.904</td>\n",
       "</tr>\n",
       "<tr>\n",
       "  <th>Embeddedness</th> <td>   -0.3373</td> <td>    0.151</td> <td>   -2.231</td> <td> 0.030</td> <td>   -0.641</td> <td>   -0.033</td>\n",
       "</tr>\n",
       "</table>\n",
       "<table class=\"simpletable\">\n",
       "<tr>\n",
       "  <th>Omnibus:</th>       <td> 4.929</td> <th>  Durbin-Watson:     </th> <td>   2.336</td>\n",
       "</tr>\n",
       "<tr>\n",
       "  <th>Prob(Omnibus):</th> <td> 0.085</td> <th>  Jarque-Bera (JB):  </th> <td>   2.324</td>\n",
       "</tr>\n",
       "<tr>\n",
       "  <th>Skew:</th>          <td>-0.225</td> <th>  Prob(JB):          </th> <td>   0.313</td>\n",
       "</tr>\n",
       "<tr>\n",
       "  <th>Kurtosis:</th>      <td> 2.045</td> <th>  Cond. No.          </th> <td>    14.1</td>\n",
       "</tr>\n",
       "</table><br/><br/>Warnings:<br/>[1] Standard Errors assume that the covariance matrix of the errors is correctly specified."
      ],
      "text/plain": [
       "<class 'statsmodels.iolib.summary.Summary'>\n",
       "\"\"\"\n",
       "                             OLS Regression Results                             \n",
       "================================================================================\n",
       "Dep. Variable:     Mean-GlobalComponent   R-squared:                       0.094\n",
       "Model:                              OLS   Adj. R-squared:                  0.075\n",
       "Method:                   Least Squares   F-statistic:                     4.977\n",
       "Date:                  Tue, 08 Dec 2020   Prob (F-statistic):             0.0304\n",
       "Time:                          23:17:41   Log-Likelihood:                 36.616\n",
       "No. Observations:                    50   AIC:                            -69.23\n",
       "Df Residuals:                        48   BIC:                            -65.41\n",
       "Df Model:                             1                                         \n",
       "Covariance Type:              nonrobust                                         \n",
       "================================================================================\n",
       "                   coef    std err          t      P>|t|      [0.025      0.975]\n",
       "--------------------------------------------------------------------------------\n",
       "const            0.6748      0.114      5.913      0.000       0.445       0.904\n",
       "Embeddedness    -0.3373      0.151     -2.231      0.030      -0.641      -0.033\n",
       "==============================================================================\n",
       "Omnibus:                        4.929   Durbin-Watson:                   2.336\n",
       "Prob(Omnibus):                  0.085   Jarque-Bera (JB):                2.324\n",
       "Skew:                          -0.225   Prob(JB):                        0.313\n",
       "Kurtosis:                       2.045   Cond. No.                         14.1\n",
       "==============================================================================\n",
       "\n",
       "Warnings:\n",
       "[1] Standard Errors assume that the covariance matrix of the errors is correctly specified.\n",
       "\"\"\""
      ]
     },
     "execution_count": 374,
     "metadata": {},
     "output_type": "execute_result"
    }
   ],
   "source": [
    "X = sm.add_constant(X) # adding a constant\n",
    " \n",
    "model = sm.OLS(Y, X).fit()\n",
    "predictions = model.predict(X) \n",
    " \n",
    "print_model = model.summary()\n",
    "print_model"
   ]
  },
  {
   "cell_type": "code",
   "execution_count": 375,
   "metadata": {
    "scrolled": false
   },
   "outputs": [
    {
     "data": {
      "text/plain": [
       "const           3.403968e-07\n",
       "Embeddedness    3.038751e-02\n",
       "dtype: float64"
      ]
     },
     "execution_count": 375,
     "metadata": {},
     "output_type": "execute_result"
    }
   ],
   "source": [
    "model.pvalues[model.pvalues < 0.05]"
   ]
  },
  {
   "cell_type": "code",
   "execution_count": 376,
   "metadata": {},
   "outputs": [
    {
     "data": {
      "text/plain": [
       "const    3.403968e-07\n",
       "dtype: float64"
      ]
     },
     "execution_count": 376,
     "metadata": {},
     "output_type": "execute_result"
    }
   ],
   "source": [
    "model.pvalues[model.pvalues < 0.01]"
   ]
  },
  {
   "cell_type": "markdown",
   "metadata": {},
   "source": [
    "### Independent variable: Internal distance"
   ]
  },
  {
   "cell_type": "code",
   "execution_count": 377,
   "metadata": {},
   "outputs": [],
   "source": [
    "X = df_meso[['Internal distance']]"
   ]
  },
  {
   "cell_type": "code",
   "execution_count": 378,
   "metadata": {
    "scrolled": false
   },
   "outputs": [],
   "source": [
    "Y = df_dependent_variables['Mean-GlobalComponent']"
   ]
  },
  {
   "cell_type": "markdown",
   "metadata": {},
   "source": [
    "#### with `sklearn`"
   ]
  },
  {
   "cell_type": "code",
   "execution_count": 379,
   "metadata": {},
   "outputs": [
    {
     "data": {
      "text/plain": [
       "LinearRegression(copy_X=True, fit_intercept=True, n_jobs=None, normalize=False)"
      ]
     },
     "execution_count": 379,
     "metadata": {},
     "output_type": "execute_result"
    }
   ],
   "source": [
    "regr = LinearRegression()\n",
    "regr.fit(X, Y)"
   ]
  },
  {
   "cell_type": "code",
   "execution_count": 380,
   "metadata": {},
   "outputs": [
    {
     "name": "stdout",
     "output_type": "stream",
     "text": [
      "Intercept: \n",
      " 0.2489473463108869\n",
      "Coefficients: \n",
      " [0.09683329]\n"
     ]
    }
   ],
   "source": [
    "print('Intercept: \\n', regr.intercept_)\n",
    "print('Coefficients: \\n', regr.coef_)"
   ]
  },
  {
   "cell_type": "markdown",
   "metadata": {},
   "source": [
    "#### Plot "
   ]
  },
  {
   "cell_type": "code",
   "execution_count": 381,
   "metadata": {
    "scrolled": false
   },
   "outputs": [
    {
     "data": {
      "image/png": "[encoded data removed]",
      "text/plain": [
       "<Figure size 432x288 with 1 Axes>"
      ]
     },
     "metadata": {
      "needs_background": "light"
     },
     "output_type": "display_data"
    }
   ],
   "source": [
    "predictions = regr.predict(X)\n",
    "# plt.figure(figsize=(16, 8))\n",
    "plt.scatter(\n",
    "    df_meso['Internal distance'],\n",
    "    df_dependent_variables['Mean-GlobalComponent'],\n",
    "    c='red'\n",
    ")\n",
    "plt.plot(\n",
    "    df_meso['Internal distance'],\n",
    "    predictions,\n",
    "    c='black',\n",
    "    linewidth=2\n",
    ")\n",
    "plt.xlabel(\"Internal distance\")\n",
    "plt.ylabel(\"Mean-GlobalComponent\")\n",
    "plt.show()"
   ]
  },
  {
   "cell_type": "markdown",
   "metadata": {},
   "source": [
    "#### with `statsmodels`"
   ]
  },
  {
   "cell_type": "code",
   "execution_count": 382,
   "metadata": {
    "scrolled": false
   },
   "outputs": [
    {
     "data": {
      "text/html": [
       "<table class=\"simpletable\">\n",
       "<caption>OLS Regression Results</caption>\n",
       "<tr>\n",
       "  <th>Dep. Variable:</th>    <td>Mean-GlobalComponent</td> <th>  R-squared:         </th> <td>   0.067</td>\n",
       "</tr>\n",
       "<tr>\n",
       "  <th>Model:</th>                     <td>OLS</td>         <th>  Adj. R-squared:    </th> <td>   0.048</td>\n",
       "</tr>\n",
       "<tr>\n",
       "  <th>Method:</th>               <td>Least Squares</td>    <th>  F-statistic:       </th> <td>   3.468</td>\n",
       "</tr>\n",
       "<tr>\n",
       "  <th>Date:</th>               <td>Tue, 08 Dec 2020</td>   <th>  Prob (F-statistic):</th>  <td>0.0687</td> \n",
       "</tr>\n",
       "<tr>\n",
       "  <th>Time:</th>                   <td>23:17:50</td>       <th>  Log-Likelihood:    </th> <td>  35.894</td>\n",
       "</tr>\n",
       "<tr>\n",
       "  <th>No. Observations:</th>        <td>    50</td>        <th>  AIC:               </th> <td>  -67.79</td>\n",
       "</tr>\n",
       "<tr>\n",
       "  <th>Df Residuals:</th>            <td>    48</td>        <th>  BIC:               </th> <td>  -63.96</td>\n",
       "</tr>\n",
       "<tr>\n",
       "  <th>Df Model:</th>                <td>     1</td>        <th>                     </th>     <td> </td>   \n",
       "</tr>\n",
       "<tr>\n",
       "  <th>Covariance Type:</th>        <td>nonrobust</td>      <th>                     </th>     <td> </td>   \n",
       "</tr>\n",
       "</table>\n",
       "<table class=\"simpletable\">\n",
       "<tr>\n",
       "          <td></td>             <th>coef</th>     <th>std err</th>      <th>t</th>      <th>P>|t|</th>  <th>[0.025</th>    <th>0.975]</th>  \n",
       "</tr>\n",
       "<tr>\n",
       "  <th>const</th>             <td>    0.2489</td> <td>    0.095</td> <td>    2.621</td> <td> 0.012</td> <td>    0.058</td> <td>    0.440</td>\n",
       "</tr>\n",
       "<tr>\n",
       "  <th>Internal distance</th> <td>    0.0968</td> <td>    0.052</td> <td>    1.862</td> <td> 0.069</td> <td>   -0.008</td> <td>    0.201</td>\n",
       "</tr>\n",
       "</table>\n",
       "<table class=\"simpletable\">\n",
       "<tr>\n",
       "  <th>Omnibus:</th>       <td> 4.155</td> <th>  Durbin-Watson:     </th> <td>   2.209</td>\n",
       "</tr>\n",
       "<tr>\n",
       "  <th>Prob(Omnibus):</th> <td> 0.125</td> <th>  Jarque-Bera (JB):  </th> <td>   2.690</td>\n",
       "</tr>\n",
       "<tr>\n",
       "  <th>Skew:</th>          <td> 0.380</td> <th>  Prob(JB):          </th> <td>   0.261</td>\n",
       "</tr>\n",
       "<tr>\n",
       "  <th>Kurtosis:</th>      <td> 2.155</td> <th>  Cond. No.          </th> <td>    13.2</td>\n",
       "</tr>\n",
       "</table><br/><br/>Warnings:<br/>[1] Standard Errors assume that the covariance matrix of the errors is correctly specified."
      ],
      "text/plain": [
       "<class 'statsmodels.iolib.summary.Summary'>\n",
       "\"\"\"\n",
       "                             OLS Regression Results                             \n",
       "================================================================================\n",
       "Dep. Variable:     Mean-GlobalComponent   R-squared:                       0.067\n",
       "Model:                              OLS   Adj. R-squared:                  0.048\n",
       "Method:                   Least Squares   F-statistic:                     3.468\n",
       "Date:                  Tue, 08 Dec 2020   Prob (F-statistic):             0.0687\n",
       "Time:                          23:17:50   Log-Likelihood:                 35.894\n",
       "No. Observations:                    50   AIC:                            -67.79\n",
       "Df Residuals:                        48   BIC:                            -63.96\n",
       "Df Model:                             1                                         \n",
       "Covariance Type:              nonrobust                                         \n",
       "=====================================================================================\n",
       "                        coef    std err          t      P>|t|      [0.025      0.975]\n",
       "-------------------------------------------------------------------------------------\n",
       "const                 0.2489      0.095      2.621      0.012       0.058       0.440\n",
       "Internal distance     0.0968      0.052      1.862      0.069      -0.008       0.201\n",
       "==============================================================================\n",
       "Omnibus:                        4.155   Durbin-Watson:                   2.209\n",
       "Prob(Omnibus):                  0.125   Jarque-Bera (JB):                2.690\n",
       "Skew:                           0.380   Prob(JB):                        0.261\n",
       "Kurtosis:                       2.155   Cond. No.                         13.2\n",
       "==============================================================================\n",
       "\n",
       "Warnings:\n",
       "[1] Standard Errors assume that the covariance matrix of the errors is correctly specified.\n",
       "\"\"\""
      ]
     },
     "execution_count": 382,
     "metadata": {},
     "output_type": "execute_result"
    }
   ],
   "source": [
    "X = sm.add_constant(X) # adding a constant\n",
    " \n",
    "model = sm.OLS(Y, X).fit()\n",
    "predictions = model.predict(X) \n",
    " \n",
    "print_model = model.summary()\n",
    "print_model"
   ]
  },
  {
   "cell_type": "code",
   "execution_count": 383,
   "metadata": {
    "scrolled": true
   },
   "outputs": [
    {
     "data": {
      "text/plain": [
       "const    0.011712\n",
       "dtype: float64"
      ]
     },
     "execution_count": 383,
     "metadata": {},
     "output_type": "execute_result"
    }
   ],
   "source": [
    "model.pvalues[model.pvalues < 0.05]"
   ]
  },
  {
   "cell_type": "markdown",
   "metadata": {},
   "source": [
    "### Independent variable: Hub Dominance"
   ]
  },
  {
   "cell_type": "code",
   "execution_count": 384,
   "metadata": {},
   "outputs": [],
   "source": [
    "X = df_meso[['Hub Dominance']]"
   ]
  },
  {
   "cell_type": "code",
   "execution_count": 385,
   "metadata": {
    "scrolled": false
   },
   "outputs": [],
   "source": [
    "Y = df_dependent_variables['Mean-GlobalComponent']"
   ]
  },
  {
   "cell_type": "markdown",
   "metadata": {},
   "source": [
    "#### with `sklearn`"
   ]
  },
  {
   "cell_type": "code",
   "execution_count": 386,
   "metadata": {},
   "outputs": [
    {
     "data": {
      "text/plain": [
       "LinearRegression(copy_X=True, fit_intercept=True, n_jobs=None, normalize=False)"
      ]
     },
     "execution_count": 386,
     "metadata": {},
     "output_type": "execute_result"
    }
   ],
   "source": [
    "regr = LinearRegression()\n",
    "regr.fit(X, Y)"
   ]
  },
  {
   "cell_type": "code",
   "execution_count": 387,
   "metadata": {},
   "outputs": [
    {
     "name": "stdout",
     "output_type": "stream",
     "text": [
      "Intercept: \n",
      " 0.46419649804054836\n",
      "Coefficients: \n",
      " [-0.05343909]\n"
     ]
    }
   ],
   "source": [
    "print('Intercept: \\n', regr.intercept_)\n",
    "print('Coefficients: \\n', regr.coef_)"
   ]
  },
  {
   "cell_type": "markdown",
   "metadata": {},
   "source": [
    "#### Plot "
   ]
  },
  {
   "cell_type": "code",
   "execution_count": 388,
   "metadata": {
    "scrolled": false
   },
   "outputs": [
    {
     "data": {
      "image/png": "[encoded data removed]",
      "text/plain": [
       "<Figure size 432x288 with 1 Axes>"
      ]
     },
     "metadata": {
      "needs_background": "light"
     },
     "output_type": "display_data"
    }
   ],
   "source": [
    "predictions = regr.predict(X)\n",
    "# plt.figure(figsize=(16, 8))\n",
    "plt.scatter(\n",
    "    df_meso['Hub Dominance'],\n",
    "    df_dependent_variables['Mean-GlobalComponent'],\n",
    "    c='red'\n",
    ")\n",
    "plt.plot(\n",
    "    df_meso['Hub Dominance'],\n",
    "    predictions,\n",
    "    c='black',\n",
    "    linewidth=2\n",
    ")\n",
    "plt.xlabel(\"Hub Dominance\")\n",
    "plt.ylabel(\"Mean-GlobalComponent\")\n",
    "plt.show()"
   ]
  },
  {
   "cell_type": "markdown",
   "metadata": {},
   "source": [
    "#### with `statsmodels`"
   ]
  },
  {
   "cell_type": "code",
   "execution_count": 389,
   "metadata": {
    "scrolled": false
   },
   "outputs": [
    {
     "data": {
      "text/html": [
       "<table class=\"simpletable\">\n",
       "<caption>OLS Regression Results</caption>\n",
       "<tr>\n",
       "  <th>Dep. Variable:</th>    <td>Mean-GlobalComponent</td> <th>  R-squared:         </th> <td>   0.004</td>\n",
       "</tr>\n",
       "<tr>\n",
       "  <th>Model:</th>                     <td>OLS</td>         <th>  Adj. R-squared:    </th> <td>  -0.017</td>\n",
       "</tr>\n",
       "<tr>\n",
       "  <th>Method:</th>               <td>Least Squares</td>    <th>  F-statistic:       </th> <td>  0.1688</td>\n",
       "</tr>\n",
       "<tr>\n",
       "  <th>Date:</th>               <td>Tue, 08 Dec 2020</td>   <th>  Prob (F-statistic):</th>  <td> 0.683</td> \n",
       "</tr>\n",
       "<tr>\n",
       "  <th>Time:</th>                   <td>23:17:57</td>       <th>  Log-Likelihood:    </th> <td>  34.237</td>\n",
       "</tr>\n",
       "<tr>\n",
       "  <th>No. Observations:</th>        <td>    50</td>        <th>  AIC:               </th> <td>  -64.47</td>\n",
       "</tr>\n",
       "<tr>\n",
       "  <th>Df Residuals:</th>            <td>    48</td>        <th>  BIC:               </th> <td>  -60.65</td>\n",
       "</tr>\n",
       "<tr>\n",
       "  <th>Df Model:</th>                <td>     1</td>        <th>                     </th>     <td> </td>   \n",
       "</tr>\n",
       "<tr>\n",
       "  <th>Covariance Type:</th>        <td>nonrobust</td>      <th>                     </th>     <td> </td>   \n",
       "</tr>\n",
       "</table>\n",
       "<table class=\"simpletable\">\n",
       "<tr>\n",
       "        <td></td>           <th>coef</th>     <th>std err</th>      <th>t</th>      <th>P>|t|</th>  <th>[0.025</th>    <th>0.975]</th>  \n",
       "</tr>\n",
       "<tr>\n",
       "  <th>const</th>         <td>    0.4642</td> <td>    0.102</td> <td>    4.557</td> <td> 0.000</td> <td>    0.259</td> <td>    0.669</td>\n",
       "</tr>\n",
       "<tr>\n",
       "  <th>Hub Dominance</th> <td>   -0.0534</td> <td>    0.130</td> <td>   -0.411</td> <td> 0.683</td> <td>   -0.315</td> <td>    0.208</td>\n",
       "</tr>\n",
       "</table>\n",
       "<table class=\"simpletable\">\n",
       "<tr>\n",
       "  <th>Omnibus:</th>       <td> 4.136</td> <th>  Durbin-Watson:     </th> <td>   2.348</td>\n",
       "</tr>\n",
       "<tr>\n",
       "  <th>Prob(Omnibus):</th> <td> 0.126</td> <th>  Jarque-Bera (JB):  </th> <td>   2.052</td>\n",
       "</tr>\n",
       "<tr>\n",
       "  <th>Skew:</th>          <td> 0.188</td> <th>  Prob(JB):          </th> <td>   0.358</td>\n",
       "</tr>\n",
       "<tr>\n",
       "  <th>Kurtosis:</th>      <td> 2.081</td> <th>  Cond. No.          </th> <td>    11.8</td>\n",
       "</tr>\n",
       "</table><br/><br/>Warnings:<br/>[1] Standard Errors assume that the covariance matrix of the errors is correctly specified."
      ],
      "text/plain": [
       "<class 'statsmodels.iolib.summary.Summary'>\n",
       "\"\"\"\n",
       "                             OLS Regression Results                             \n",
       "================================================================================\n",
       "Dep. Variable:     Mean-GlobalComponent   R-squared:                       0.004\n",
       "Model:                              OLS   Adj. R-squared:                 -0.017\n",
       "Method:                   Least Squares   F-statistic:                    0.1688\n",
       "Date:                  Tue, 08 Dec 2020   Prob (F-statistic):              0.683\n",
       "Time:                          23:17:57   Log-Likelihood:                 34.237\n",
       "No. Observations:                    50   AIC:                            -64.47\n",
       "Df Residuals:                        48   BIC:                            -60.65\n",
       "Df Model:                             1                                         \n",
       "Covariance Type:              nonrobust                                         \n",
       "=================================================================================\n",
       "                    coef    std err          t      P>|t|      [0.025      0.975]\n",
       "---------------------------------------------------------------------------------\n",
       "const             0.4642      0.102      4.557      0.000       0.259       0.669\n",
       "Hub Dominance    -0.0534      0.130     -0.411      0.683      -0.315       0.208\n",
       "==============================================================================\n",
       "Omnibus:                        4.136   Durbin-Watson:                   2.348\n",
       "Prob(Omnibus):                  0.126   Jarque-Bera (JB):                2.052\n",
       "Skew:                           0.188   Prob(JB):                        0.358\n",
       "Kurtosis:                       2.081   Cond. No.                         11.8\n",
       "==============================================================================\n",
       "\n",
       "Warnings:\n",
       "[1] Standard Errors assume that the covariance matrix of the errors is correctly specified.\n",
       "\"\"\""
      ]
     },
     "execution_count": 389,
     "metadata": {},
     "output_type": "execute_result"
    }
   ],
   "source": [
    "X = sm.add_constant(X) # adding a constant\n",
    " \n",
    "model = sm.OLS(Y, X).fit()\n",
    "predictions = model.predict(X) \n",
    " \n",
    "print_model = model.summary()\n",
    "print_model"
   ]
  },
  {
   "cell_type": "code",
   "execution_count": 390,
   "metadata": {
    "scrolled": true
   },
   "outputs": [
    {
     "data": {
      "text/plain": [
       "const    0.000036\n",
       "dtype: float64"
      ]
     },
     "execution_count": 390,
     "metadata": {},
     "output_type": "execute_result"
    }
   ],
   "source": [
    "model.pvalues[model.pvalues < 0.05]"
   ]
  },
  {
   "cell_type": "markdown",
   "metadata": {},
   "source": [
    "# Performing the Multiple Linear Regression\n",
    "Once you added the data into Python, you may use both `sklearn` and `statsmodels` to get the regression results.\n",
    "\n",
    "Either method would work, but let’s review both methods for illustration purposes."
   ]
  },
  {
   "cell_type": "markdown",
   "metadata": {},
   "source": [
    "## Dependent variable: Local component"
   ]
  },
  {
   "cell_type": "markdown",
   "metadata": {},
   "source": [
    "### Independent variables: All Topological Characteristics That Show Signficance Linearity\n",
    "\n",
    "$\\rightarrow$ Linear relationship(s) seen in scatter plots for macro top characteristics:\n",
    "    1. Density\n",
    "    2. Transitivity\n",
    "    \n",
    "$\\rightarrow$ Linear relationship(s) seen in scatter plots for meso top characteristics: \n",
    "    1. Mixing\n"
   ]
  },
  {
   "cell_type": "code",
   "execution_count": 397,
   "metadata": {
    "scrolled": true
   },
   "outputs": [
    {
     "data": {
      "text/html": [
       "<div>\n",
       "<style scoped>\n",
       "    .dataframe tbody tr th:only-of-type {\n",
       "        vertical-align: middle;\n",
       "    }\n",
       "\n",
       "    .dataframe tbody tr th {\n",
       "        vertical-align: top;\n",
       "    }\n",
       "\n",
       "    .dataframe thead th {\n",
       "        text-align: right;\n",
       "    }\n",
       "</style>\n",
       "<table border=\"1\" class=\"dataframe\">\n",
       "  <thead>\n",
       "    <tr style=\"text-align: right;\">\n",
       "      <th></th>\n",
       "      <th>Density</th>\n",
       "      <th>Transitivity</th>\n",
       "    </tr>\n",
       "  </thead>\n",
       "  <tbody>\n",
       "    <tr>\n",
       "      <th>Dolphins</th>\n",
       "      <td>0.084</td>\n",
       "      <td>0.308</td>\n",
       "    </tr>\n",
       "    <tr>\n",
       "      <th>Reptiles</th>\n",
       "      <td>0.008</td>\n",
       "      <td>0.419</td>\n",
       "    </tr>\n",
       "    <tr>\n",
       "      <th>E. coli Trans</th>\n",
       "      <td>0.008</td>\n",
       "      <td>0.023</td>\n",
       "    </tr>\n",
       "    <tr>\n",
       "      <th>Human Protein</th>\n",
       "      <td>0.002</td>\n",
       "      <td>0.007</td>\n",
       "    </tr>\n",
       "    <tr>\n",
       "      <th>Mouse Visual Cortex</th>\n",
       "      <td>0.015</td>\n",
       "      <td>0.004</td>\n",
       "    </tr>\n",
       "  </tbody>\n",
       "</table>\n",
       "</div>"
      ],
      "text/plain": [
       "                     Density  Transitivity\n",
       "Dolphins               0.084         0.308\n",
       "Reptiles               0.008         0.419\n",
       "E. coli Trans          0.008         0.023\n",
       "Human Protein          0.002         0.007\n",
       "Mouse Visual Cortex    0.015         0.004"
      ]
     },
     "execution_count": 397,
     "metadata": {},
     "output_type": "execute_result"
    }
   ],
   "source": [
    "X = df_macro[['Density', 'Transitivity']]\n",
    "X.head()"
   ]
  },
  {
   "cell_type": "code",
   "execution_count": 398,
   "metadata": {},
   "outputs": [
    {
     "name": "stderr",
     "output_type": "stream",
     "text": [
      "C:\\ProgramData\\Anaconda3\\lib\\site-packages\\ipykernel_launcher.py:1: SettingWithCopyWarning: \n",
      "A value is trying to be set on a copy of a slice from a DataFrame.\n",
      "Try using .loc[row_indexer,col_indexer] = value instead\n",
      "\n",
      "See the caveats in the documentation: https://pandas.pydata.org/pandas-docs/stable/user_guide/indexing.html#returning-a-view-versus-a-copy\n",
      "  \"\"\"Entry point for launching an IPython kernel.\n"
     ]
    },
    {
     "data": {
      "text/html": [
       "<div>\n",
       "<style scoped>\n",
       "    .dataframe tbody tr th:only-of-type {\n",
       "        vertical-align: middle;\n",
       "    }\n",
       "\n",
       "    .dataframe tbody tr th {\n",
       "        vertical-align: top;\n",
       "    }\n",
       "\n",
       "    .dataframe thead th {\n",
       "        text-align: right;\n",
       "    }\n",
       "</style>\n",
       "<table border=\"1\" class=\"dataframe\">\n",
       "  <thead>\n",
       "    <tr style=\"text-align: right;\">\n",
       "      <th></th>\n",
       "      <th>Density</th>\n",
       "      <th>Transitivity</th>\n",
       "      <th>Mixing parameter</th>\n",
       "    </tr>\n",
       "  </thead>\n",
       "  <tbody>\n",
       "    <tr>\n",
       "      <th>Dolphins</th>\n",
       "      <td>0.084</td>\n",
       "      <td>0.308</td>\n",
       "      <td>0.213</td>\n",
       "    </tr>\n",
       "    <tr>\n",
       "      <th>Reptiles</th>\n",
       "      <td>0.008</td>\n",
       "      <td>0.419</td>\n",
       "      <td>0.145</td>\n",
       "    </tr>\n",
       "    <tr>\n",
       "      <th>E. coli Trans</th>\n",
       "      <td>0.008</td>\n",
       "      <td>0.023</td>\n",
       "      <td>0.250</td>\n",
       "    </tr>\n",
       "    <tr>\n",
       "      <th>Human Protein</th>\n",
       "      <td>0.002</td>\n",
       "      <td>0.007</td>\n",
       "      <td>0.360</td>\n",
       "    </tr>\n",
       "    <tr>\n",
       "      <th>Mouse Visual Cortex</th>\n",
       "      <td>0.015</td>\n",
       "      <td>0.004</td>\n",
       "      <td>0.154</td>\n",
       "    </tr>\n",
       "  </tbody>\n",
       "</table>\n",
       "</div>"
      ],
      "text/plain": [
       "                     Density  Transitivity  Mixing parameter\n",
       "Dolphins               0.084         0.308             0.213\n",
       "Reptiles               0.008         0.419             0.145\n",
       "E. coli Trans          0.008         0.023             0.250\n",
       "Human Protein          0.002         0.007             0.360\n",
       "Mouse Visual Cortex    0.015         0.004             0.154"
      ]
     },
     "execution_count": 398,
     "metadata": {},
     "output_type": "execute_result"
    }
   ],
   "source": [
    "X['Mixing parameter'] = df_meso['Mixing parameter']\n",
    "X.head()"
   ]
  },
  {
   "cell_type": "code",
   "execution_count": 399,
   "metadata": {
    "scrolled": false
   },
   "outputs": [
    {
     "data": {
      "text/plain": [
       "Dolphins               0.613\n",
       "Reptiles               0.564\n",
       "E. coli Trans          0.293\n",
       "Human Protein          0.387\n",
       "Mouse Visual Cortex    0.194\n",
       "Name: Mean-LocalComponent, dtype: float64"
      ]
     },
     "execution_count": 399,
     "metadata": {},
     "output_type": "execute_result"
    }
   ],
   "source": [
    "Y = df_dependent_variables['Mean-LocalComponent']\n",
    "Y.head()"
   ]
  },
  {
   "cell_type": "markdown",
   "metadata": {},
   "source": [
    "#### with `sklearn`"
   ]
  },
  {
   "cell_type": "code",
   "execution_count": 400,
   "metadata": {},
   "outputs": [
    {
     "data": {
      "text/plain": [
       "LinearRegression(copy_X=True, fit_intercept=True, n_jobs=None, normalize=False)"
      ]
     },
     "execution_count": 400,
     "metadata": {},
     "output_type": "execute_result"
    }
   ],
   "source": [
    "regr = LinearRegression()\n",
    "regr.fit(X, Y)"
   ]
  },
  {
   "cell_type": "code",
   "execution_count": 401,
   "metadata": {},
   "outputs": [
    {
     "name": "stdout",
     "output_type": "stream",
     "text": [
      "Intercept: \n",
      " 0.40745203989461065\n",
      "Coefficients: \n",
      " [ 0.50794801  0.28912053 -0.12064453]\n"
     ]
    }
   ],
   "source": [
    "print('Intercept: \\n', regr.intercept_)\n",
    "print('Coefficients: \\n', regr.coef_)"
   ]
  },
  {
   "cell_type": "markdown",
   "metadata": {},
   "source": [
    "#### with `statsmodels`"
   ]
  },
  {
   "cell_type": "code",
   "execution_count": 402,
   "metadata": {},
   "outputs": [],
   "source": [
    "import statsmodels.api as sm"
   ]
  },
  {
   "cell_type": "code",
   "execution_count": 403,
   "metadata": {
    "scrolled": false
   },
   "outputs": [
    {
     "data": {
      "text/html": [
       "<table class=\"simpletable\">\n",
       "<caption>OLS Regression Results</caption>\n",
       "<tr>\n",
       "  <th>Dep. Variable:</th>    <td>Mean-LocalComponent</td> <th>  R-squared:         </th> <td>   0.394</td>\n",
       "</tr>\n",
       "<tr>\n",
       "  <th>Model:</th>                    <td>OLS</td>         <th>  Adj. R-squared:    </th> <td>   0.354</td>\n",
       "</tr>\n",
       "<tr>\n",
       "  <th>Method:</th>              <td>Least Squares</td>    <th>  F-statistic:       </th> <td>   9.966</td>\n",
       "</tr>\n",
       "<tr>\n",
       "  <th>Date:</th>              <td>Tue, 08 Dec 2020</td>   <th>  Prob (F-statistic):</th> <td>3.54e-05</td>\n",
       "</tr>\n",
       "<tr>\n",
       "  <th>Time:</th>                  <td>23:29:50</td>       <th>  Log-Likelihood:    </th> <td>  44.923</td>\n",
       "</tr>\n",
       "<tr>\n",
       "  <th>No. Observations:</th>       <td>    50</td>        <th>  AIC:               </th> <td>  -81.85</td>\n",
       "</tr>\n",
       "<tr>\n",
       "  <th>Df Residuals:</th>           <td>    46</td>        <th>  BIC:               </th> <td>  -74.20</td>\n",
       "</tr>\n",
       "<tr>\n",
       "  <th>Df Model:</th>               <td>     3</td>        <th>                     </th>     <td> </td>   \n",
       "</tr>\n",
       "<tr>\n",
       "  <th>Covariance Type:</th>       <td>nonrobust</td>      <th>                     </th>     <td> </td>   \n",
       "</tr>\n",
       "</table>\n",
       "<table class=\"simpletable\">\n",
       "<tr>\n",
       "          <td></td>            <th>coef</th>     <th>std err</th>      <th>t</th>      <th>P>|t|</th>  <th>[0.025</th>    <th>0.975]</th>  \n",
       "</tr>\n",
       "<tr>\n",
       "  <th>const</th>            <td>    0.4075</td> <td>    0.049</td> <td>    8.249</td> <td> 0.000</td> <td>    0.308</td> <td>    0.507</td>\n",
       "</tr>\n",
       "<tr>\n",
       "  <th>Density</th>          <td>    0.5079</td> <td>    0.401</td> <td>    1.266</td> <td> 0.212</td> <td>   -0.299</td> <td>    1.315</td>\n",
       "</tr>\n",
       "<tr>\n",
       "  <th>Transitivity</th>     <td>    0.2891</td> <td>    0.091</td> <td>    3.189</td> <td> 0.003</td> <td>    0.107</td> <td>    0.472</td>\n",
       "</tr>\n",
       "<tr>\n",
       "  <th>Mixing parameter</th> <td>   -0.1206</td> <td>    0.131</td> <td>   -0.924</td> <td> 0.360</td> <td>   -0.383</td> <td>    0.142</td>\n",
       "</tr>\n",
       "</table>\n",
       "<table class=\"simpletable\">\n",
       "<tr>\n",
       "  <th>Omnibus:</th>       <td>20.649</td> <th>  Durbin-Watson:     </th> <td>   1.744</td>\n",
       "</tr>\n",
       "<tr>\n",
       "  <th>Prob(Omnibus):</th> <td> 0.000</td> <th>  Jarque-Bera (JB):  </th> <td>  38.589</td>\n",
       "</tr>\n",
       "<tr>\n",
       "  <th>Skew:</th>          <td>-1.193</td> <th>  Prob(JB):          </th> <td>4.17e-09</td>\n",
       "</tr>\n",
       "<tr>\n",
       "  <th>Kurtosis:</th>      <td> 6.582</td> <th>  Cond. No.          </th> <td>    29.5</td>\n",
       "</tr>\n",
       "</table><br/><br/>Warnings:<br/>[1] Standard Errors assume that the covariance matrix of the errors is correctly specified."
      ],
      "text/plain": [
       "<class 'statsmodels.iolib.summary.Summary'>\n",
       "\"\"\"\n",
       "                             OLS Regression Results                            \n",
       "===============================================================================\n",
       "Dep. Variable:     Mean-LocalComponent   R-squared:                       0.394\n",
       "Model:                             OLS   Adj. R-squared:                  0.354\n",
       "Method:                  Least Squares   F-statistic:                     9.966\n",
       "Date:                 Tue, 08 Dec 2020   Prob (F-statistic):           3.54e-05\n",
       "Time:                         23:29:50   Log-Likelihood:                 44.923\n",
       "No. Observations:                   50   AIC:                            -81.85\n",
       "Df Residuals:                       46   BIC:                            -74.20\n",
       "Df Model:                            3                                         \n",
       "Covariance Type:             nonrobust                                         \n",
       "====================================================================================\n",
       "                       coef    std err          t      P>|t|      [0.025      0.975]\n",
       "------------------------------------------------------------------------------------\n",
       "const                0.4075      0.049      8.249      0.000       0.308       0.507\n",
       "Density              0.5079      0.401      1.266      0.212      -0.299       1.315\n",
       "Transitivity         0.2891      0.091      3.189      0.003       0.107       0.472\n",
       "Mixing parameter    -0.1206      0.131     -0.924      0.360      -0.383       0.142\n",
       "==============================================================================\n",
       "Omnibus:                       20.649   Durbin-Watson:                   1.744\n",
       "Prob(Omnibus):                  0.000   Jarque-Bera (JB):               38.589\n",
       "Skew:                          -1.193   Prob(JB):                     4.17e-09\n",
       "Kurtosis:                       6.582   Cond. No.                         29.5\n",
       "==============================================================================\n",
       "\n",
       "Warnings:\n",
       "[1] Standard Errors assume that the covariance matrix of the errors is correctly specified.\n",
       "\"\"\""
      ]
     },
     "execution_count": 403,
     "metadata": {},
     "output_type": "execute_result"
    }
   ],
   "source": [
    "X = sm.add_constant(X) # adding a constant\n",
    " \n",
    "model = sm.OLS(Y, X).fit()\n",
    "predictions = model.predict(X) \n",
    " \n",
    "print_model = model.summary()\n",
    "print_model"
   ]
  },
  {
   "cell_type": "code",
   "execution_count": 404,
   "metadata": {},
   "outputs": [
    {
     "data": {
      "text/plain": [
       "const           1.272878e-10\n",
       "Transitivity    2.570368e-03\n",
       "dtype: float64"
      ]
     },
     "execution_count": 404,
     "metadata": {},
     "output_type": "execute_result"
    }
   ],
   "source": [
    "model.pvalues[model.pvalues < 0.05]"
   ]
  },
  {
   "cell_type": "code",
   "execution_count": 405,
   "metadata": {
    "scrolled": true
   },
   "outputs": [
    {
     "data": {
      "text/plain": [
       "const           1.272878e-10\n",
       "Transitivity    2.570368e-03\n",
       "dtype: float64"
      ]
     },
     "execution_count": 405,
     "metadata": {},
     "output_type": "execute_result"
    }
   ],
   "source": [
    "model.pvalues[model.pvalues < 0.01]"
   ]
  },
  {
   "cell_type": "markdown",
   "metadata": {},
   "source": [
    "### Independent variables: All Topological Characteristics That Show Signficance Linearity\n",
    "\n",
    "$\\rightarrow$ Linear relationship(s) seen in scatter plots for macro top characteristics:\n",
    "    1. Density\n",
    "    2. Transitivity\n"
   ]
  },
  {
   "cell_type": "code",
   "execution_count": 406,
   "metadata": {
    "scrolled": false
   },
   "outputs": [
    {
     "data": {
      "text/html": [
       "<div>\n",
       "<style scoped>\n",
       "    .dataframe tbody tr th:only-of-type {\n",
       "        vertical-align: middle;\n",
       "    }\n",
       "\n",
       "    .dataframe tbody tr th {\n",
       "        vertical-align: top;\n",
       "    }\n",
       "\n",
       "    .dataframe thead th {\n",
       "        text-align: right;\n",
       "    }\n",
       "</style>\n",
       "<table border=\"1\" class=\"dataframe\">\n",
       "  <thead>\n",
       "    <tr style=\"text-align: right;\">\n",
       "      <th></th>\n",
       "      <th>Density</th>\n",
       "      <th>Transitivity</th>\n",
       "    </tr>\n",
       "  </thead>\n",
       "  <tbody>\n",
       "    <tr>\n",
       "      <th>Dolphins</th>\n",
       "      <td>0.084</td>\n",
       "      <td>0.308</td>\n",
       "    </tr>\n",
       "    <tr>\n",
       "      <th>Reptiles</th>\n",
       "      <td>0.008</td>\n",
       "      <td>0.419</td>\n",
       "    </tr>\n",
       "    <tr>\n",
       "      <th>E. coli Trans</th>\n",
       "      <td>0.008</td>\n",
       "      <td>0.023</td>\n",
       "    </tr>\n",
       "    <tr>\n",
       "      <th>Human Protein</th>\n",
       "      <td>0.002</td>\n",
       "      <td>0.007</td>\n",
       "    </tr>\n",
       "    <tr>\n",
       "      <th>Mouse Visual Cortex</th>\n",
       "      <td>0.015</td>\n",
       "      <td>0.004</td>\n",
       "    </tr>\n",
       "  </tbody>\n",
       "</table>\n",
       "</div>"
      ],
      "text/plain": [
       "                     Density  Transitivity\n",
       "Dolphins               0.084         0.308\n",
       "Reptiles               0.008         0.419\n",
       "E. coli Trans          0.008         0.023\n",
       "Human Protein          0.002         0.007\n",
       "Mouse Visual Cortex    0.015         0.004"
      ]
     },
     "execution_count": 406,
     "metadata": {},
     "output_type": "execute_result"
    }
   ],
   "source": [
    "X = df_macro[['Density', 'Transitivity']]\n",
    "X.head()"
   ]
  },
  {
   "cell_type": "code",
   "execution_count": 407,
   "metadata": {
    "scrolled": false
   },
   "outputs": [
    {
     "data": {
      "text/plain": [
       "Dolphins               0.613\n",
       "Reptiles               0.564\n",
       "E. coli Trans          0.293\n",
       "Human Protein          0.387\n",
       "Mouse Visual Cortex    0.194\n",
       "Name: Mean-LocalComponent, dtype: float64"
      ]
     },
     "execution_count": 407,
     "metadata": {},
     "output_type": "execute_result"
    }
   ],
   "source": [
    "Y = df_dependent_variables['Mean-LocalComponent']\n",
    "Y.head()"
   ]
  },
  {
   "cell_type": "markdown",
   "metadata": {},
   "source": [
    "#### with `sklearn`"
   ]
  },
  {
   "cell_type": "code",
   "execution_count": 408,
   "metadata": {},
   "outputs": [
    {
     "data": {
      "text/plain": [
       "LinearRegression(copy_X=True, fit_intercept=True, n_jobs=None, normalize=False)"
      ]
     },
     "execution_count": 408,
     "metadata": {},
     "output_type": "execute_result"
    }
   ],
   "source": [
    "regr = LinearRegression()\n",
    "regr.fit(X, Y)"
   ]
  },
  {
   "cell_type": "code",
   "execution_count": 409,
   "metadata": {},
   "outputs": [
    {
     "name": "stdout",
     "output_type": "stream",
     "text": [
      "Intercept: \n",
      " 0.3674306639250426\n",
      "Coefficients: \n",
      " [0.50244395 0.32692249]\n"
     ]
    }
   ],
   "source": [
    "print('Intercept: \\n', regr.intercept_)\n",
    "print('Coefficients: \\n', regr.coef_)"
   ]
  },
  {
   "cell_type": "markdown",
   "metadata": {},
   "source": [
    "#### with `statsmodels`"
   ]
  },
  {
   "cell_type": "code",
   "execution_count": 410,
   "metadata": {},
   "outputs": [],
   "source": [
    "import statsmodels.api as sm"
   ]
  },
  {
   "cell_type": "code",
   "execution_count": 411,
   "metadata": {
    "scrolled": false
   },
   "outputs": [
    {
     "data": {
      "text/html": [
       "<table class=\"simpletable\">\n",
       "<caption>OLS Regression Results</caption>\n",
       "<tr>\n",
       "  <th>Dep. Variable:</th>    <td>Mean-LocalComponent</td> <th>  R-squared:         </th> <td>   0.383</td>\n",
       "</tr>\n",
       "<tr>\n",
       "  <th>Model:</th>                    <td>OLS</td>         <th>  Adj. R-squared:    </th> <td>   0.356</td>\n",
       "</tr>\n",
       "<tr>\n",
       "  <th>Method:</th>              <td>Least Squares</td>    <th>  F-statistic:       </th> <td>   14.57</td>\n",
       "</tr>\n",
       "<tr>\n",
       "  <th>Date:</th>              <td>Tue, 08 Dec 2020</td>   <th>  Prob (F-statistic):</th> <td>1.19e-05</td>\n",
       "</tr>\n",
       "<tr>\n",
       "  <th>Time:</th>                  <td>23:32:28</td>       <th>  Log-Likelihood:    </th> <td>  44.463</td>\n",
       "</tr>\n",
       "<tr>\n",
       "  <th>No. Observations:</th>       <td>    50</td>        <th>  AIC:               </th> <td>  -82.93</td>\n",
       "</tr>\n",
       "<tr>\n",
       "  <th>Df Residuals:</th>           <td>    47</td>        <th>  BIC:               </th> <td>  -77.19</td>\n",
       "</tr>\n",
       "<tr>\n",
       "  <th>Df Model:</th>               <td>     2</td>        <th>                     </th>     <td> </td>   \n",
       "</tr>\n",
       "<tr>\n",
       "  <th>Covariance Type:</th>       <td>nonrobust</td>      <th>                     </th>     <td> </td>   \n",
       "</tr>\n",
       "</table>\n",
       "<table class=\"simpletable\">\n",
       "<tr>\n",
       "        <td></td>          <th>coef</th>     <th>std err</th>      <th>t</th>      <th>P>|t|</th>  <th>[0.025</th>    <th>0.975]</th>  \n",
       "</tr>\n",
       "<tr>\n",
       "  <th>const</th>        <td>    0.3674</td> <td>    0.024</td> <td>   15.487</td> <td> 0.000</td> <td>    0.320</td> <td>    0.415</td>\n",
       "</tr>\n",
       "<tr>\n",
       "  <th>Density</th>      <td>    0.5024</td> <td>    0.400</td> <td>    1.255</td> <td> 0.216</td> <td>   -0.303</td> <td>    1.308</td>\n",
       "</tr>\n",
       "<tr>\n",
       "  <th>Transitivity</th> <td>    0.3269</td> <td>    0.081</td> <td>    4.047</td> <td> 0.000</td> <td>    0.164</td> <td>    0.489</td>\n",
       "</tr>\n",
       "</table>\n",
       "<table class=\"simpletable\">\n",
       "<tr>\n",
       "  <th>Omnibus:</th>       <td>21.732</td> <th>  Durbin-Watson:     </th> <td>   1.711</td>\n",
       "</tr>\n",
       "<tr>\n",
       "  <th>Prob(Omnibus):</th> <td> 0.000</td> <th>  Jarque-Bera (JB):  </th> <td>  45.001</td>\n",
       "</tr>\n",
       "<tr>\n",
       "  <th>Skew:</th>          <td>-1.202</td> <th>  Prob(JB):          </th> <td>1.69e-10</td>\n",
       "</tr>\n",
       "<tr>\n",
       "  <th>Kurtosis:</th>      <td> 6.977</td> <th>  Cond. No.          </th> <td>    28.7</td>\n",
       "</tr>\n",
       "</table><br/><br/>Warnings:<br/>[1] Standard Errors assume that the covariance matrix of the errors is correctly specified."
      ],
      "text/plain": [
       "<class 'statsmodels.iolib.summary.Summary'>\n",
       "\"\"\"\n",
       "                             OLS Regression Results                            \n",
       "===============================================================================\n",
       "Dep. Variable:     Mean-LocalComponent   R-squared:                       0.383\n",
       "Model:                             OLS   Adj. R-squared:                  0.356\n",
       "Method:                  Least Squares   F-statistic:                     14.57\n",
       "Date:                 Tue, 08 Dec 2020   Prob (F-statistic):           1.19e-05\n",
       "Time:                         23:32:28   Log-Likelihood:                 44.463\n",
       "No. Observations:                   50   AIC:                            -82.93\n",
       "Df Residuals:                       47   BIC:                            -77.19\n",
       "Df Model:                            2                                         \n",
       "Covariance Type:             nonrobust                                         \n",
       "================================================================================\n",
       "                   coef    std err          t      P>|t|      [0.025      0.975]\n",
       "--------------------------------------------------------------------------------\n",
       "const            0.3674      0.024     15.487      0.000       0.320       0.415\n",
       "Density          0.5024      0.400      1.255      0.216      -0.303       1.308\n",
       "Transitivity     0.3269      0.081      4.047      0.000       0.164       0.489\n",
       "==============================================================================\n",
       "Omnibus:                       21.732   Durbin-Watson:                   1.711\n",
       "Prob(Omnibus):                  0.000   Jarque-Bera (JB):               45.001\n",
       "Skew:                          -1.202   Prob(JB):                     1.69e-10\n",
       "Kurtosis:                       6.977   Cond. No.                         28.7\n",
       "==============================================================================\n",
       "\n",
       "Warnings:\n",
       "[1] Standard Errors assume that the covariance matrix of the errors is correctly specified.\n",
       "\"\"\""
      ]
     },
     "execution_count": 411,
     "metadata": {},
     "output_type": "execute_result"
    }
   ],
   "source": [
    "X = sm.add_constant(X) # adding a constant\n",
    " \n",
    "model = sm.OLS(Y, X).fit()\n",
    "predictions = model.predict(X) \n",
    " \n",
    "print_model = model.summary()\n",
    "print_model"
   ]
  },
  {
   "cell_type": "code",
   "execution_count": 412,
   "metadata": {},
   "outputs": [
    {
     "data": {
      "text/plain": [
       "const           4.369117e-20\n",
       "Transitivity    1.923280e-04\n",
       "dtype: float64"
      ]
     },
     "execution_count": 412,
     "metadata": {},
     "output_type": "execute_result"
    }
   ],
   "source": [
    "model.pvalues[model.pvalues < 0.05]"
   ]
  },
  {
   "cell_type": "code",
   "execution_count": 413,
   "metadata": {},
   "outputs": [
    {
     "data": {
      "text/plain": [
       "const           4.369117e-20\n",
       "Transitivity    1.923280e-04\n",
       "dtype: float64"
      ]
     },
     "execution_count": 413,
     "metadata": {},
     "output_type": "execute_result"
    }
   ],
   "source": [
    "model.pvalues[model.pvalues < 0.01]"
   ]
  },
  {
   "cell_type": "markdown",
   "metadata": {},
   "source": [
    "## Dependent variable: Global component"
   ]
  },
  {
   "cell_type": "markdown",
   "metadata": {},
   "source": [
    "### Independent variables: All Topological Characteristics That Show Signficance Linearity\n",
    "\n",
    "$\\rightarrow$ Linear relationship(s) seen in scatter plots for macro top characteristics:\n",
    "    1. Transitivity\n",
    "    \n",
    "$\\rightarrow$ Linear relationship(s) seen in scatter plots for meso top characteristics:\n",
    "    1. Mixing parameter\n",
    "    2. Internal density\n",
    "    3. Max-ODF\n",
    "    4. Flake-out ODF\n"
   ]
  },
  {
   "cell_type": "code",
   "execution_count": 414,
   "metadata": {},
   "outputs": [
    {
     "data": {
      "text/html": [
       "<div>\n",
       "<style scoped>\n",
       "    .dataframe tbody tr th:only-of-type {\n",
       "        vertical-align: middle;\n",
       "    }\n",
       "\n",
       "    .dataframe tbody tr th {\n",
       "        vertical-align: top;\n",
       "    }\n",
       "\n",
       "    .dataframe thead th {\n",
       "        text-align: right;\n",
       "    }\n",
       "</style>\n",
       "<table border=\"1\" class=\"dataframe\">\n",
       "  <thead>\n",
       "    <tr style=\"text-align: right;\">\n",
       "      <th></th>\n",
       "      <th>Transitivity</th>\n",
       "    </tr>\n",
       "  </thead>\n",
       "  <tbody>\n",
       "    <tr>\n",
       "      <th>Dolphins</th>\n",
       "      <td>0.308</td>\n",
       "    </tr>\n",
       "    <tr>\n",
       "      <th>Reptiles</th>\n",
       "      <td>0.419</td>\n",
       "    </tr>\n",
       "    <tr>\n",
       "      <th>E. coli Trans</th>\n",
       "      <td>0.023</td>\n",
       "    </tr>\n",
       "    <tr>\n",
       "      <th>Human Protein</th>\n",
       "      <td>0.007</td>\n",
       "    </tr>\n",
       "    <tr>\n",
       "      <th>Mouse Visual Cortex</th>\n",
       "      <td>0.004</td>\n",
       "    </tr>\n",
       "  </tbody>\n",
       "</table>\n",
       "</div>"
      ],
      "text/plain": [
       "                     Transitivity\n",
       "Dolphins                    0.308\n",
       "Reptiles                    0.419\n",
       "E. coli Trans               0.023\n",
       "Human Protein               0.007\n",
       "Mouse Visual Cortex         0.004"
      ]
     },
     "execution_count": 414,
     "metadata": {},
     "output_type": "execute_result"
    }
   ],
   "source": [
    "X = df_macro[['Transitivity']]\n",
    "X.head()"
   ]
  },
  {
   "cell_type": "code",
   "execution_count": 415,
   "metadata": {},
   "outputs": [
    {
     "name": "stderr",
     "output_type": "stream",
     "text": [
      "C:\\ProgramData\\Anaconda3\\lib\\site-packages\\ipykernel_launcher.py:1: SettingWithCopyWarning: \n",
      "A value is trying to be set on a copy of a slice from a DataFrame.\n",
      "Try using .loc[row_indexer,col_indexer] = value instead\n",
      "\n",
      "See the caveats in the documentation: https://pandas.pydata.org/pandas-docs/stable/user_guide/indexing.html#returning-a-view-versus-a-copy\n",
      "  \"\"\"Entry point for launching an IPython kernel.\n"
     ]
    },
    {
     "data": {
      "text/html": [
       "<div>\n",
       "<style scoped>\n",
       "    .dataframe tbody tr th:only-of-type {\n",
       "        vertical-align: middle;\n",
       "    }\n",
       "\n",
       "    .dataframe tbody tr th {\n",
       "        vertical-align: top;\n",
       "    }\n",
       "\n",
       "    .dataframe thead th {\n",
       "        text-align: right;\n",
       "    }\n",
       "</style>\n",
       "<table border=\"1\" class=\"dataframe\">\n",
       "  <thead>\n",
       "    <tr style=\"text-align: right;\">\n",
       "      <th></th>\n",
       "      <th>Transitivity</th>\n",
       "    </tr>\n",
       "  </thead>\n",
       "  <tbody>\n",
       "    <tr>\n",
       "      <th>Dolphins</th>\n",
       "      <td>0.308</td>\n",
       "    </tr>\n",
       "    <tr>\n",
       "      <th>Reptiles</th>\n",
       "      <td>0.419</td>\n",
       "    </tr>\n",
       "    <tr>\n",
       "      <th>E. coli Trans</th>\n",
       "      <td>0.023</td>\n",
       "    </tr>\n",
       "    <tr>\n",
       "      <th>Human Protein</th>\n",
       "      <td>0.007</td>\n",
       "    </tr>\n",
       "    <tr>\n",
       "      <th>Mouse Visual Cortex</th>\n",
       "      <td>0.004</td>\n",
       "    </tr>\n",
       "  </tbody>\n",
       "</table>\n",
       "</div>"
      ],
      "text/plain": [
       "                     Transitivity\n",
       "Dolphins                    0.308\n",
       "Reptiles                    0.419\n",
       "E. coli Trans               0.023\n",
       "Human Protein               0.007\n",
       "Mouse Visual Cortex         0.004"
      ]
     },
     "execution_count": 415,
     "metadata": {},
     "output_type": "execute_result"
    }
   ],
   "source": [
    "X['Transitivity']= df_macro[['Transitivity']]\n",
    "X.head()"
   ]
  },
  {
   "cell_type": "code",
   "execution_count": 416,
   "metadata": {},
   "outputs": [
    {
     "name": "stderr",
     "output_type": "stream",
     "text": [
      "C:\\ProgramData\\Anaconda3\\lib\\site-packages\\ipykernel_launcher.py:1: SettingWithCopyWarning: \n",
      "A value is trying to be set on a copy of a slice from a DataFrame.\n",
      "Try using .loc[row_indexer,col_indexer] = value instead\n",
      "\n",
      "See the caveats in the documentation: https://pandas.pydata.org/pandas-docs/stable/user_guide/indexing.html#returning-a-view-versus-a-copy\n",
      "  \"\"\"Entry point for launching an IPython kernel.\n"
     ]
    },
    {
     "data": {
      "text/html": [
       "<div>\n",
       "<style scoped>\n",
       "    .dataframe tbody tr th:only-of-type {\n",
       "        vertical-align: middle;\n",
       "    }\n",
       "\n",
       "    .dataframe tbody tr th {\n",
       "        vertical-align: top;\n",
       "    }\n",
       "\n",
       "    .dataframe thead th {\n",
       "        text-align: right;\n",
       "    }\n",
       "</style>\n",
       "<table border=\"1\" class=\"dataframe\">\n",
       "  <thead>\n",
       "    <tr style=\"text-align: right;\">\n",
       "      <th></th>\n",
       "      <th>Transitivity</th>\n",
       "      <th>Mixing parameter</th>\n",
       "    </tr>\n",
       "  </thead>\n",
       "  <tbody>\n",
       "    <tr>\n",
       "      <th>Dolphins</th>\n",
       "      <td>0.308</td>\n",
       "      <td>0.213</td>\n",
       "    </tr>\n",
       "    <tr>\n",
       "      <th>Reptiles</th>\n",
       "      <td>0.419</td>\n",
       "      <td>0.145</td>\n",
       "    </tr>\n",
       "    <tr>\n",
       "      <th>E. coli Trans</th>\n",
       "      <td>0.023</td>\n",
       "      <td>0.250</td>\n",
       "    </tr>\n",
       "    <tr>\n",
       "      <th>Human Protein</th>\n",
       "      <td>0.007</td>\n",
       "      <td>0.360</td>\n",
       "    </tr>\n",
       "    <tr>\n",
       "      <th>Mouse Visual Cortex</th>\n",
       "      <td>0.004</td>\n",
       "      <td>0.154</td>\n",
       "    </tr>\n",
       "  </tbody>\n",
       "</table>\n",
       "</div>"
      ],
      "text/plain": [
       "                     Transitivity  Mixing parameter\n",
       "Dolphins                    0.308             0.213\n",
       "Reptiles                    0.419             0.145\n",
       "E. coli Trans               0.023             0.250\n",
       "Human Protein               0.007             0.360\n",
       "Mouse Visual Cortex         0.004             0.154"
      ]
     },
     "execution_count": 416,
     "metadata": {},
     "output_type": "execute_result"
    }
   ],
   "source": [
    "X['Mixing parameter'] = df_meso['Mixing parameter']\n",
    "X.head()"
   ]
  },
  {
   "cell_type": "code",
   "execution_count": 417,
   "metadata": {},
   "outputs": [
    {
     "name": "stderr",
     "output_type": "stream",
     "text": [
      "C:\\ProgramData\\Anaconda3\\lib\\site-packages\\ipykernel_launcher.py:1: SettingWithCopyWarning: \n",
      "A value is trying to be set on a copy of a slice from a DataFrame.\n",
      "Try using .loc[row_indexer,col_indexer] = value instead\n",
      "\n",
      "See the caveats in the documentation: https://pandas.pydata.org/pandas-docs/stable/user_guide/indexing.html#returning-a-view-versus-a-copy\n",
      "  \"\"\"Entry point for launching an IPython kernel.\n"
     ]
    },
    {
     "data": {
      "text/html": [
       "<div>\n",
       "<style scoped>\n",
       "    .dataframe tbody tr th:only-of-type {\n",
       "        vertical-align: middle;\n",
       "    }\n",
       "\n",
       "    .dataframe tbody tr th {\n",
       "        vertical-align: top;\n",
       "    }\n",
       "\n",
       "    .dataframe thead th {\n",
       "        text-align: right;\n",
       "    }\n",
       "</style>\n",
       "<table border=\"1\" class=\"dataframe\">\n",
       "  <thead>\n",
       "    <tr style=\"text-align: right;\">\n",
       "      <th></th>\n",
       "      <th>Transitivity</th>\n",
       "      <th>Mixing parameter</th>\n",
       "      <th>Internal density</th>\n",
       "    </tr>\n",
       "  </thead>\n",
       "  <tbody>\n",
       "    <tr>\n",
       "      <th>Dolphins</th>\n",
       "      <td>0.308</td>\n",
       "      <td>0.213</td>\n",
       "      <td>0.467</td>\n",
       "    </tr>\n",
       "    <tr>\n",
       "      <th>Reptiles</th>\n",
       "      <td>0.419</td>\n",
       "      <td>0.145</td>\n",
       "      <td>0.443</td>\n",
       "    </tr>\n",
       "    <tr>\n",
       "      <th>E. coli Trans</th>\n",
       "      <td>0.023</td>\n",
       "      <td>0.250</td>\n",
       "      <td>0.466</td>\n",
       "    </tr>\n",
       "    <tr>\n",
       "      <th>Human Protein</th>\n",
       "      <td>0.007</td>\n",
       "      <td>0.360</td>\n",
       "      <td>0.253</td>\n",
       "    </tr>\n",
       "    <tr>\n",
       "      <th>Mouse Visual Cortex</th>\n",
       "      <td>0.004</td>\n",
       "      <td>0.154</td>\n",
       "      <td>0.161</td>\n",
       "    </tr>\n",
       "  </tbody>\n",
       "</table>\n",
       "</div>"
      ],
      "text/plain": [
       "                     Transitivity  Mixing parameter  Internal density\n",
       "Dolphins                    0.308             0.213             0.467\n",
       "Reptiles                    0.419             0.145             0.443\n",
       "E. coli Trans               0.023             0.250             0.466\n",
       "Human Protein               0.007             0.360             0.253\n",
       "Mouse Visual Cortex         0.004             0.154             0.161"
      ]
     },
     "execution_count": 417,
     "metadata": {},
     "output_type": "execute_result"
    }
   ],
   "source": [
    "X['Internal density'] = df_meso['Internal density']\n",
    "X.head()"
   ]
  },
  {
   "cell_type": "code",
   "execution_count": 418,
   "metadata": {},
   "outputs": [
    {
     "name": "stderr",
     "output_type": "stream",
     "text": [
      "C:\\ProgramData\\Anaconda3\\lib\\site-packages\\ipykernel_launcher.py:1: SettingWithCopyWarning: \n",
      "A value is trying to be set on a copy of a slice from a DataFrame.\n",
      "Try using .loc[row_indexer,col_indexer] = value instead\n",
      "\n",
      "See the caveats in the documentation: https://pandas.pydata.org/pandas-docs/stable/user_guide/indexing.html#returning-a-view-versus-a-copy\n",
      "  \"\"\"Entry point for launching an IPython kernel.\n"
     ]
    },
    {
     "data": {
      "text/html": [
       "<div>\n",
       "<style scoped>\n",
       "    .dataframe tbody tr th:only-of-type {\n",
       "        vertical-align: middle;\n",
       "    }\n",
       "\n",
       "    .dataframe tbody tr th {\n",
       "        vertical-align: top;\n",
       "    }\n",
       "\n",
       "    .dataframe thead th {\n",
       "        text-align: right;\n",
       "    }\n",
       "</style>\n",
       "<table border=\"1\" class=\"dataframe\">\n",
       "  <thead>\n",
       "    <tr style=\"text-align: right;\">\n",
       "      <th></th>\n",
       "      <th>Transitivity</th>\n",
       "      <th>Mixing parameter</th>\n",
       "      <th>Internal density</th>\n",
       "      <th>Max-ODF</th>\n",
       "    </tr>\n",
       "  </thead>\n",
       "  <tbody>\n",
       "    <tr>\n",
       "      <th>Dolphins</th>\n",
       "      <td>0.308</td>\n",
       "      <td>0.213</td>\n",
       "      <td>0.467</td>\n",
       "      <td>0.532</td>\n",
       "    </tr>\n",
       "    <tr>\n",
       "      <th>Reptiles</th>\n",
       "      <td>0.419</td>\n",
       "      <td>0.145</td>\n",
       "      <td>0.443</td>\n",
       "      <td>0.400</td>\n",
       "    </tr>\n",
       "    <tr>\n",
       "      <th>E. coli Trans</th>\n",
       "      <td>0.023</td>\n",
       "      <td>0.250</td>\n",
       "      <td>0.466</td>\n",
       "      <td>0.464</td>\n",
       "    </tr>\n",
       "    <tr>\n",
       "      <th>Human Protein</th>\n",
       "      <td>0.007</td>\n",
       "      <td>0.360</td>\n",
       "      <td>0.253</td>\n",
       "      <td>0.595</td>\n",
       "    </tr>\n",
       "    <tr>\n",
       "      <th>Mouse Visual Cortex</th>\n",
       "      <td>0.004</td>\n",
       "      <td>0.154</td>\n",
       "      <td>0.161</td>\n",
       "      <td>0.345</td>\n",
       "    </tr>\n",
       "  </tbody>\n",
       "</table>\n",
       "</div>"
      ],
      "text/plain": [
       "                     Transitivity  Mixing parameter  Internal density  Max-ODF\n",
       "Dolphins                    0.308             0.213             0.467    0.532\n",
       "Reptiles                    0.419             0.145             0.443    0.400\n",
       "E. coli Trans               0.023             0.250             0.466    0.464\n",
       "Human Protein               0.007             0.360             0.253    0.595\n",
       "Mouse Visual Cortex         0.004             0.154             0.161    0.345"
      ]
     },
     "execution_count": 418,
     "metadata": {},
     "output_type": "execute_result"
    }
   ],
   "source": [
    "X['Max-ODF'] = df_meso['Max-ODF']\n",
    "X.head()"
   ]
  },
  {
   "cell_type": "code",
   "execution_count": 419,
   "metadata": {},
   "outputs": [
    {
     "name": "stderr",
     "output_type": "stream",
     "text": [
      "C:\\ProgramData\\Anaconda3\\lib\\site-packages\\ipykernel_launcher.py:1: SettingWithCopyWarning: \n",
      "A value is trying to be set on a copy of a slice from a DataFrame.\n",
      "Try using .loc[row_indexer,col_indexer] = value instead\n",
      "\n",
      "See the caveats in the documentation: https://pandas.pydata.org/pandas-docs/stable/user_guide/indexing.html#returning-a-view-versus-a-copy\n",
      "  \"\"\"Entry point for launching an IPython kernel.\n"
     ]
    },
    {
     "data": {
      "text/html": [
       "<div>\n",
       "<style scoped>\n",
       "    .dataframe tbody tr th:only-of-type {\n",
       "        vertical-align: middle;\n",
       "    }\n",
       "\n",
       "    .dataframe tbody tr th {\n",
       "        vertical-align: top;\n",
       "    }\n",
       "\n",
       "    .dataframe thead th {\n",
       "        text-align: right;\n",
       "    }\n",
       "</style>\n",
       "<table border=\"1\" class=\"dataframe\">\n",
       "  <thead>\n",
       "    <tr style=\"text-align: right;\">\n",
       "      <th></th>\n",
       "      <th>Transitivity</th>\n",
       "      <th>Mixing parameter</th>\n",
       "      <th>Internal density</th>\n",
       "      <th>Max-ODF</th>\n",
       "      <th>Flake-out ODF</th>\n",
       "    </tr>\n",
       "  </thead>\n",
       "  <tbody>\n",
       "    <tr>\n",
       "      <th>Dolphins</th>\n",
       "      <td>0.308</td>\n",
       "      <td>0.213</td>\n",
       "      <td>0.467</td>\n",
       "      <td>0.532</td>\n",
       "      <td>0.321</td>\n",
       "    </tr>\n",
       "    <tr>\n",
       "      <th>Reptiles</th>\n",
       "      <td>0.419</td>\n",
       "      <td>0.145</td>\n",
       "      <td>0.443</td>\n",
       "      <td>0.400</td>\n",
       "      <td>0.127</td>\n",
       "    </tr>\n",
       "    <tr>\n",
       "      <th>E. coli Trans</th>\n",
       "      <td>0.023</td>\n",
       "      <td>0.250</td>\n",
       "      <td>0.466</td>\n",
       "      <td>0.464</td>\n",
       "      <td>0.315</td>\n",
       "    </tr>\n",
       "    <tr>\n",
       "      <th>Human Protein</th>\n",
       "      <td>0.007</td>\n",
       "      <td>0.360</td>\n",
       "      <td>0.253</td>\n",
       "      <td>0.595</td>\n",
       "      <td>0.399</td>\n",
       "    </tr>\n",
       "    <tr>\n",
       "      <th>Mouse Visual Cortex</th>\n",
       "      <td>0.004</td>\n",
       "      <td>0.154</td>\n",
       "      <td>0.161</td>\n",
       "      <td>0.345</td>\n",
       "      <td>0.144</td>\n",
       "    </tr>\n",
       "  </tbody>\n",
       "</table>\n",
       "</div>"
      ],
      "text/plain": [
       "                     Transitivity  Mixing parameter  Internal density  \\\n",
       "Dolphins                    0.308             0.213             0.467   \n",
       "Reptiles                    0.419             0.145             0.443   \n",
       "E. coli Trans               0.023             0.250             0.466   \n",
       "Human Protein               0.007             0.360             0.253   \n",
       "Mouse Visual Cortex         0.004             0.154             0.161   \n",
       "\n",
       "                     Max-ODF  Flake-out ODF  \n",
       "Dolphins               0.532          0.321  \n",
       "Reptiles               0.400          0.127  \n",
       "E. coli Trans          0.464          0.315  \n",
       "Human Protein          0.595          0.399  \n",
       "Mouse Visual Cortex    0.345          0.144  "
      ]
     },
     "execution_count": 419,
     "metadata": {},
     "output_type": "execute_result"
    }
   ],
   "source": [
    "X['Flake-out ODF'] = df_meso['Flake-out ODF']\n",
    "X.head()"
   ]
  },
  {
   "cell_type": "code",
   "execution_count": 420,
   "metadata": {},
   "outputs": [
    {
     "data": {
      "text/plain": [
       "Dolphins                 0.378\n",
       "Reptiles                 0.357\n",
       "E. coli Trans            0.467\n",
       "Human Protein            0.493\n",
       "Mouse Visual Cortex      0.511\n",
       "Yeast Protein            0.462\n",
       "AstroPh                  0.575\n",
       "CS PhD                   0.318\n",
       "GrQc                     0.414\n",
       "NetSci                   0.358\n",
       "Adolescent Health        0.387\n",
       "Jazz                     0.443\n",
       "Zachary Karate Club      0.411\n",
       "Madrid Train Bombings    0.240\n",
       "EuroRoads                0.403\n",
       "US Airports              0.251\n",
       "US Power Grids           0.350\n",
       "US States                0.466\n",
       "Football                 0.236\n",
       "Internet AS.             0.444\n",
       "Les Misérables           0.529\n",
       "Pol. Books               0.233\n",
       "Deezer EU                0.546\n",
       "Ego Facebook             0.237\n",
       "Caltech                  0.663\n",
       "Facebook Pol. Pages      0.310\n",
       "Hamsterster              0.477\n",
       "PGP                      0.383\n",
       "Princeton                0.685\n",
       "Retweets                 0.495\n",
       "BlumenauDrug             0.570\n",
       "BudapestConnectome       0.314\n",
       "YeastCollins             0.333\n",
       "InteractomeVidal         0.529\n",
       "MalariaGenes             0.229\n",
       "KeggMetabolic            0.452\n",
       "NewZealand               0.602\n",
       "EUAirlines               0.339\n",
       "InternetTopCogentco      0.362\n",
       "LondonTransport          0.386\n",
       "911AllWords              0.315\n",
       "MovieGalaxies            0.571\n",
       "BibleNouns               0.566\n",
       "BoardDirectors           0.273\n",
       "DNCEmails                0.607\n",
       "GoT                      0.511\n",
       "MarvelPartnerships       0.352\n",
       "FacebookFriends          0.234\n",
       "FacebookOrganizations    0.470\n",
       "DBLPCite                 0.612\n",
       "Name: Mean-GlobalComponent, dtype: float64"
      ]
     },
     "execution_count": 420,
     "metadata": {},
     "output_type": "execute_result"
    }
   ],
   "source": [
    "Y = df_dependent_variables['Mean-GlobalComponent']\n",
    "Y"
   ]
  },
  {
   "cell_type": "markdown",
   "metadata": {},
   "source": [
    "#### with `sklearn`"
   ]
  },
  {
   "cell_type": "code",
   "execution_count": 421,
   "metadata": {},
   "outputs": [
    {
     "data": {
      "text/plain": [
       "LinearRegression(copy_X=True, fit_intercept=True, n_jobs=None, normalize=False)"
      ]
     },
     "execution_count": 421,
     "metadata": {},
     "output_type": "execute_result"
    }
   ],
   "source": [
    "regr = LinearRegression()\n",
    "regr.fit(X, Y)"
   ]
  },
  {
   "cell_type": "code",
   "execution_count": 422,
   "metadata": {},
   "outputs": [
    {
     "name": "stdout",
     "output_type": "stream",
     "text": [
      "Intercept: \n",
      " 0.31737769482471456\n",
      "Coefficients: \n",
      " [ 0.02930834  0.67736113 -0.15584221 -0.02824546  0.03129992]\n"
     ]
    }
   ],
   "source": [
    "print('Intercept: \\n', regr.intercept_)\n",
    "print('Coefficients: \\n', regr.coef_)"
   ]
  },
  {
   "cell_type": "markdown",
   "metadata": {},
   "source": [
    "#### with `statsmodels`"
   ]
  },
  {
   "cell_type": "code",
   "execution_count": 423,
   "metadata": {},
   "outputs": [
    {
     "data": {
      "text/html": [
       "<table class=\"simpletable\">\n",
       "<caption>OLS Regression Results</caption>\n",
       "<tr>\n",
       "  <th>Dep. Variable:</th>    <td>Mean-GlobalComponent</td> <th>  R-squared:         </th> <td>   0.585</td>\n",
       "</tr>\n",
       "<tr>\n",
       "  <th>Model:</th>                     <td>OLS</td>         <th>  Adj. R-squared:    </th> <td>   0.538</td>\n",
       "</tr>\n",
       "<tr>\n",
       "  <th>Method:</th>               <td>Least Squares</td>    <th>  F-statistic:       </th> <td>   12.40</td>\n",
       "</tr>\n",
       "<tr>\n",
       "  <th>Date:</th>               <td>Tue, 08 Dec 2020</td>   <th>  Prob (F-statistic):</th> <td>1.57e-07</td>\n",
       "</tr>\n",
       "<tr>\n",
       "  <th>Time:</th>                   <td>23:33:18</td>       <th>  Log-Likelihood:    </th> <td>  56.133</td>\n",
       "</tr>\n",
       "<tr>\n",
       "  <th>No. Observations:</th>        <td>    50</td>        <th>  AIC:               </th> <td>  -100.3</td>\n",
       "</tr>\n",
       "<tr>\n",
       "  <th>Df Residuals:</th>            <td>    44</td>        <th>  BIC:               </th> <td>  -88.79</td>\n",
       "</tr>\n",
       "<tr>\n",
       "  <th>Df Model:</th>                <td>     5</td>        <th>                     </th>     <td> </td>   \n",
       "</tr>\n",
       "<tr>\n",
       "  <th>Covariance Type:</th>        <td>nonrobust</td>      <th>                     </th>     <td> </td>   \n",
       "</tr>\n",
       "</table>\n",
       "<table class=\"simpletable\">\n",
       "<tr>\n",
       "          <td></td>            <th>coef</th>     <th>std err</th>      <th>t</th>      <th>P>|t|</th>  <th>[0.025</th>    <th>0.975]</th>  \n",
       "</tr>\n",
       "<tr>\n",
       "  <th>const</th>            <td>    0.3174</td> <td>    0.098</td> <td>    3.250</td> <td> 0.002</td> <td>    0.121</td> <td>    0.514</td>\n",
       "</tr>\n",
       "<tr>\n",
       "  <th>Transitivity</th>     <td>    0.0293</td> <td>    0.099</td> <td>    0.296</td> <td> 0.769</td> <td>   -0.170</td> <td>    0.229</td>\n",
       "</tr>\n",
       "<tr>\n",
       "  <th>Mixing parameter</th> <td>    0.6774</td> <td>    0.138</td> <td>    4.902</td> <td> 0.000</td> <td>    0.399</td> <td>    0.956</td>\n",
       "</tr>\n",
       "<tr>\n",
       "  <th>Internal density</th> <td>   -0.1558</td> <td>    0.130</td> <td>   -1.198</td> <td> 0.237</td> <td>   -0.418</td> <td>    0.106</td>\n",
       "</tr>\n",
       "<tr>\n",
       "  <th>Max-ODF</th>          <td>   -0.0282</td> <td>    0.247</td> <td>   -0.114</td> <td> 0.910</td> <td>   -0.526</td> <td>    0.470</td>\n",
       "</tr>\n",
       "<tr>\n",
       "  <th>Flake-out ODF</th>    <td>    0.0313</td> <td>    0.144</td> <td>    0.217</td> <td> 0.829</td> <td>   -0.259</td> <td>    0.321</td>\n",
       "</tr>\n",
       "</table>\n",
       "<table class=\"simpletable\">\n",
       "<tr>\n",
       "  <th>Omnibus:</th>       <td> 4.483</td> <th>  Durbin-Watson:     </th> <td>   2.045</td>\n",
       "</tr>\n",
       "<tr>\n",
       "  <th>Prob(Omnibus):</th> <td> 0.106</td> <th>  Jarque-Bera (JB):  </th> <td>   3.543</td>\n",
       "</tr>\n",
       "<tr>\n",
       "  <th>Skew:</th>          <td> 0.438</td> <th>  Prob(JB):          </th> <td>   0.170</td>\n",
       "</tr>\n",
       "<tr>\n",
       "  <th>Kurtosis:</th>      <td> 3.966</td> <th>  Cond. No.          </th> <td>    32.9</td>\n",
       "</tr>\n",
       "</table><br/><br/>Warnings:<br/>[1] Standard Errors assume that the covariance matrix of the errors is correctly specified."
      ],
      "text/plain": [
       "<class 'statsmodels.iolib.summary.Summary'>\n",
       "\"\"\"\n",
       "                             OLS Regression Results                             \n",
       "================================================================================\n",
       "Dep. Variable:     Mean-GlobalComponent   R-squared:                       0.585\n",
       "Model:                              OLS   Adj. R-squared:                  0.538\n",
       "Method:                   Least Squares   F-statistic:                     12.40\n",
       "Date:                  Tue, 08 Dec 2020   Prob (F-statistic):           1.57e-07\n",
       "Time:                          23:33:18   Log-Likelihood:                 56.133\n",
       "No. Observations:                    50   AIC:                            -100.3\n",
       "Df Residuals:                        44   BIC:                            -88.79\n",
       "Df Model:                             5                                         \n",
       "Covariance Type:              nonrobust                                         \n",
       "====================================================================================\n",
       "                       coef    std err          t      P>|t|      [0.025      0.975]\n",
       "------------------------------------------------------------------------------------\n",
       "const                0.3174      0.098      3.250      0.002       0.121       0.514\n",
       "Transitivity         0.0293      0.099      0.296      0.769      -0.170       0.229\n",
       "Mixing parameter     0.6774      0.138      4.902      0.000       0.399       0.956\n",
       "Internal density    -0.1558      0.130     -1.198      0.237      -0.418       0.106\n",
       "Max-ODF             -0.0282      0.247     -0.114      0.910      -0.526       0.470\n",
       "Flake-out ODF        0.0313      0.144      0.217      0.829      -0.259       0.321\n",
       "==============================================================================\n",
       "Omnibus:                        4.483   Durbin-Watson:                   2.045\n",
       "Prob(Omnibus):                  0.106   Jarque-Bera (JB):                3.543\n",
       "Skew:                           0.438   Prob(JB):                        0.170\n",
       "Kurtosis:                       3.966   Cond. No.                         32.9\n",
       "==============================================================================\n",
       "\n",
       "Warnings:\n",
       "[1] Standard Errors assume that the covariance matrix of the errors is correctly specified.\n",
       "\"\"\""
      ]
     },
     "execution_count": 423,
     "metadata": {},
     "output_type": "execute_result"
    }
   ],
   "source": [
    "X = sm.add_constant(X) # adding a constant\n",
    " \n",
    "model = sm.OLS(Y, X).fit()\n",
    "predictions = model.predict(X) \n",
    " \n",
    "print_model = model.summary()\n",
    "print_model"
   ]
  },
  {
   "cell_type": "code",
   "execution_count": 424,
   "metadata": {},
   "outputs": [
    {
     "data": {
      "text/plain": [
       "const               0.002217\n",
       "Mixing parameter    0.000013\n",
       "dtype: float64"
      ]
     },
     "execution_count": 424,
     "metadata": {},
     "output_type": "execute_result"
    }
   ],
   "source": [
    "model.pvalues[model.pvalues < 0.05]"
   ]
  },
  {
   "cell_type": "code",
   "execution_count": 425,
   "metadata": {},
   "outputs": [
    {
     "data": {
      "text/plain": [
       "const               0.002217\n",
       "Mixing parameter    0.000013\n",
       "dtype: float64"
      ]
     },
     "execution_count": 425,
     "metadata": {},
     "output_type": "execute_result"
    }
   ],
   "source": [
    "model.pvalues[model.pvalues < 0.01]"
   ]
  },
  {
   "cell_type": "markdown",
   "metadata": {},
   "source": [
    "### Independent variables: Mesoscopic Topological Characteristics That Show Signficance Linearity\n",
    "    \n",
    "$\\rightarrow$ Linear relationship(s) seen in scatter plots for meso top characteristics:\n",
    "    1. Mixing parameter\n",
    "    2. Internal density\n",
    "    3. Max-ODF\n",
    "    4. Flake-out ODF\n"
   ]
  },
  {
   "cell_type": "code",
   "execution_count": 426,
   "metadata": {},
   "outputs": [
    {
     "data": {
      "text/html": [
       "<div>\n",
       "<style scoped>\n",
       "    .dataframe tbody tr th:only-of-type {\n",
       "        vertical-align: middle;\n",
       "    }\n",
       "\n",
       "    .dataframe tbody tr th {\n",
       "        vertical-align: top;\n",
       "    }\n",
       "\n",
       "    .dataframe thead th {\n",
       "        text-align: right;\n",
       "    }\n",
       "</style>\n",
       "<table border=\"1\" class=\"dataframe\">\n",
       "  <thead>\n",
       "    <tr style=\"text-align: right;\">\n",
       "      <th></th>\n",
       "      <th>Mixing parameter</th>\n",
       "      <th>Internal density</th>\n",
       "      <th>Max-ODF</th>\n",
       "      <th>Flake-out ODF</th>\n",
       "    </tr>\n",
       "  </thead>\n",
       "  <tbody>\n",
       "    <tr>\n",
       "      <th>Dolphins</th>\n",
       "      <td>0.213</td>\n",
       "      <td>0.467</td>\n",
       "      <td>0.532</td>\n",
       "      <td>0.321</td>\n",
       "    </tr>\n",
       "    <tr>\n",
       "      <th>Reptiles</th>\n",
       "      <td>0.145</td>\n",
       "      <td>0.443</td>\n",
       "      <td>0.400</td>\n",
       "      <td>0.127</td>\n",
       "    </tr>\n",
       "    <tr>\n",
       "      <th>E. coli Trans</th>\n",
       "      <td>0.250</td>\n",
       "      <td>0.466</td>\n",
       "      <td>0.464</td>\n",
       "      <td>0.315</td>\n",
       "    </tr>\n",
       "    <tr>\n",
       "      <th>Human Protein</th>\n",
       "      <td>0.360</td>\n",
       "      <td>0.253</td>\n",
       "      <td>0.595</td>\n",
       "      <td>0.399</td>\n",
       "    </tr>\n",
       "    <tr>\n",
       "      <th>Mouse Visual Cortex</th>\n",
       "      <td>0.154</td>\n",
       "      <td>0.161</td>\n",
       "      <td>0.345</td>\n",
       "      <td>0.144</td>\n",
       "    </tr>\n",
       "  </tbody>\n",
       "</table>\n",
       "</div>"
      ],
      "text/plain": [
       "                     Mixing parameter  Internal density  Max-ODF  \\\n",
       "Dolphins                        0.213             0.467    0.532   \n",
       "Reptiles                        0.145             0.443    0.400   \n",
       "E. coli Trans                   0.250             0.466    0.464   \n",
       "Human Protein                   0.360             0.253    0.595   \n",
       "Mouse Visual Cortex             0.154             0.161    0.345   \n",
       "\n",
       "                     Flake-out ODF  \n",
       "Dolphins                     0.321  \n",
       "Reptiles                     0.127  \n",
       "E. coli Trans                0.315  \n",
       "Human Protein                0.399  \n",
       "Mouse Visual Cortex          0.144  "
      ]
     },
     "execution_count": 426,
     "metadata": {},
     "output_type": "execute_result"
    }
   ],
   "source": [
    "X =  df_meso[['Mixing parameter', 'Internal density','Max-ODF', 'Flake-out ODF']]\n",
    "X.head()"
   ]
  },
  {
   "cell_type": "code",
   "execution_count": 427,
   "metadata": {},
   "outputs": [
    {
     "data": {
      "text/plain": [
       "Dolphins               0.378\n",
       "Reptiles               0.357\n",
       "E. coli Trans          0.467\n",
       "Human Protein          0.493\n",
       "Mouse Visual Cortex    0.511\n",
       "Name: Mean-GlobalComponent, dtype: float64"
      ]
     },
     "execution_count": 427,
     "metadata": {},
     "output_type": "execute_result"
    }
   ],
   "source": [
    "Y = df_dependent_variables['Mean-GlobalComponent']\n",
    "Y.head()"
   ]
  },
  {
   "cell_type": "markdown",
   "metadata": {},
   "source": [
    "#### with `sklearn`"
   ]
  },
  {
   "cell_type": "code",
   "execution_count": 428,
   "metadata": {},
   "outputs": [
    {
     "data": {
      "text/plain": [
       "LinearRegression(copy_X=True, fit_intercept=True, n_jobs=None, normalize=False)"
      ]
     },
     "execution_count": 428,
     "metadata": {},
     "output_type": "execute_result"
    }
   ],
   "source": [
    "regr = LinearRegression()\n",
    "regr.fit(X, Y)"
   ]
  },
  {
   "cell_type": "code",
   "execution_count": 429,
   "metadata": {},
   "outputs": [
    {
     "name": "stdout",
     "output_type": "stream",
     "text": [
      "Intercept: \n",
      " 0.30707418655901986\n",
      "Coefficients: \n",
      " [ 0.66531899 -0.13018709  0.00536779  0.00643384]\n"
     ]
    }
   ],
   "source": [
    "print('Intercept: \\n', regr.intercept_)\n",
    "print('Coefficients: \\n', regr.coef_)"
   ]
  },
  {
   "cell_type": "markdown",
   "metadata": {},
   "source": [
    "#### with `statsmodels`"
   ]
  },
  {
   "cell_type": "code",
   "execution_count": 430,
   "metadata": {
    "scrolled": false
   },
   "outputs": [
    {
     "data": {
      "text/html": [
       "<table class=\"simpletable\">\n",
       "<caption>OLS Regression Results</caption>\n",
       "<tr>\n",
       "  <th>Dep. Variable:</th>    <td>Mean-GlobalComponent</td> <th>  R-squared:         </th> <td>   0.584</td>\n",
       "</tr>\n",
       "<tr>\n",
       "  <th>Model:</th>                     <td>OLS</td>         <th>  Adj. R-squared:    </th> <td>   0.547</td>\n",
       "</tr>\n",
       "<tr>\n",
       "  <th>Method:</th>               <td>Least Squares</td>    <th>  F-statistic:       </th> <td>   15.80</td>\n",
       "</tr>\n",
       "<tr>\n",
       "  <th>Date:</th>               <td>Tue, 08 Dec 2020</td>   <th>  Prob (F-statistic):</th> <td>3.78e-08</td>\n",
       "</tr>\n",
       "<tr>\n",
       "  <th>Time:</th>                   <td>23:33:37</td>       <th>  Log-Likelihood:    </th> <td>  56.083</td>\n",
       "</tr>\n",
       "<tr>\n",
       "  <th>No. Observations:</th>        <td>    50</td>        <th>  AIC:               </th> <td>  -102.2</td>\n",
       "</tr>\n",
       "<tr>\n",
       "  <th>Df Residuals:</th>            <td>    45</td>        <th>  BIC:               </th> <td>  -92.61</td>\n",
       "</tr>\n",
       "<tr>\n",
       "  <th>Df Model:</th>                <td>     4</td>        <th>                     </th>     <td> </td>   \n",
       "</tr>\n",
       "<tr>\n",
       "  <th>Covariance Type:</th>        <td>nonrobust</td>      <th>                     </th>     <td> </td>   \n",
       "</tr>\n",
       "</table>\n",
       "<table class=\"simpletable\">\n",
       "<tr>\n",
       "          <td></td>            <th>coef</th>     <th>std err</th>      <th>t</th>      <th>P>|t|</th>  <th>[0.025</th>    <th>0.975]</th>  \n",
       "</tr>\n",
       "<tr>\n",
       "  <th>const</th>            <td>    0.3071</td> <td>    0.090</td> <td>    3.400</td> <td> 0.001</td> <td>    0.125</td> <td>    0.489</td>\n",
       "</tr>\n",
       "<tr>\n",
       "  <th>Mixing parameter</th> <td>    0.6653</td> <td>    0.131</td> <td>    5.090</td> <td> 0.000</td> <td>    0.402</td> <td>    0.929</td>\n",
       "</tr>\n",
       "<tr>\n",
       "  <th>Internal density</th> <td>   -0.1302</td> <td>    0.096</td> <td>   -1.356</td> <td> 0.182</td> <td>   -0.324</td> <td>    0.063</td>\n",
       "</tr>\n",
       "<tr>\n",
       "  <th>Max-ODF</th>          <td>    0.0054</td> <td>    0.217</td> <td>    0.025</td> <td> 0.980</td> <td>   -0.432</td> <td>    0.443</td>\n",
       "</tr>\n",
       "<tr>\n",
       "  <th>Flake-out ODF</th>    <td>    0.0064</td> <td>    0.116</td> <td>    0.056</td> <td> 0.956</td> <td>   -0.227</td> <td>    0.239</td>\n",
       "</tr>\n",
       "</table>\n",
       "<table class=\"simpletable\">\n",
       "<tr>\n",
       "  <th>Omnibus:</th>       <td> 4.993</td> <th>  Durbin-Watson:     </th> <td>   2.054</td>\n",
       "</tr>\n",
       "<tr>\n",
       "  <th>Prob(Omnibus):</th> <td> 0.082</td> <th>  Jarque-Bera (JB):  </th> <td>   4.172</td>\n",
       "</tr>\n",
       "<tr>\n",
       "  <th>Skew:</th>          <td> 0.459</td> <th>  Prob(JB):          </th> <td>   0.124</td>\n",
       "</tr>\n",
       "<tr>\n",
       "  <th>Kurtosis:</th>      <td> 4.077</td> <th>  Cond. No.          </th> <td>    26.9</td>\n",
       "</tr>\n",
       "</table><br/><br/>Warnings:<br/>[1] Standard Errors assume that the covariance matrix of the errors is correctly specified."
      ],
      "text/plain": [
       "<class 'statsmodels.iolib.summary.Summary'>\n",
       "\"\"\"\n",
       "                             OLS Regression Results                             \n",
       "================================================================================\n",
       "Dep. Variable:     Mean-GlobalComponent   R-squared:                       0.584\n",
       "Model:                              OLS   Adj. R-squared:                  0.547\n",
       "Method:                   Least Squares   F-statistic:                     15.80\n",
       "Date:                  Tue, 08 Dec 2020   Prob (F-statistic):           3.78e-08\n",
       "Time:                          23:33:37   Log-Likelihood:                 56.083\n",
       "No. Observations:                    50   AIC:                            -102.2\n",
       "Df Residuals:                        45   BIC:                            -92.61\n",
       "Df Model:                             4                                         \n",
       "Covariance Type:              nonrobust                                         \n",
       "====================================================================================\n",
       "                       coef    std err          t      P>|t|      [0.025      0.975]\n",
       "------------------------------------------------------------------------------------\n",
       "const                0.3071      0.090      3.400      0.001       0.125       0.489\n",
       "Mixing parameter     0.6653      0.131      5.090      0.000       0.402       0.929\n",
       "Internal density    -0.1302      0.096     -1.356      0.182      -0.324       0.063\n",
       "Max-ODF              0.0054      0.217      0.025      0.980      -0.432       0.443\n",
       "Flake-out ODF        0.0064      0.116      0.056      0.956      -0.227       0.239\n",
       "==============================================================================\n",
       "Omnibus:                        4.993   Durbin-Watson:                   2.054\n",
       "Prob(Omnibus):                  0.082   Jarque-Bera (JB):                4.172\n",
       "Skew:                           0.459   Prob(JB):                        0.124\n",
       "Kurtosis:                       4.077   Cond. No.                         26.9\n",
       "==============================================================================\n",
       "\n",
       "Warnings:\n",
       "[1] Standard Errors assume that the covariance matrix of the errors is correctly specified.\n",
       "\"\"\""
      ]
     },
     "execution_count": 430,
     "metadata": {},
     "output_type": "execute_result"
    }
   ],
   "source": [
    "X = sm.add_constant(X) # adding a constant\n",
    " \n",
    "model = sm.OLS(Y, X).fit()\n",
    "predictions = model.predict(X) \n",
    " \n",
    "print_model = model.summary()\n",
    "print_model"
   ]
  },
  {
   "cell_type": "code",
   "execution_count": 431,
   "metadata": {},
   "outputs": [
    {
     "data": {
      "text/plain": [
       "const               0.001421\n",
       "Mixing parameter    0.000007\n",
       "dtype: float64"
      ]
     },
     "execution_count": 431,
     "metadata": {},
     "output_type": "execute_result"
    }
   ],
   "source": [
    "model.pvalues[model.pvalues < 0.05]"
   ]
  },
  {
   "cell_type": "code",
   "execution_count": 432,
   "metadata": {},
   "outputs": [
    {
     "data": {
      "text/plain": [
       "const               0.001421\n",
       "Mixing parameter    0.000007\n",
       "dtype: float64"
      ]
     },
     "execution_count": 432,
     "metadata": {},
     "output_type": "execute_result"
    }
   ],
   "source": [
    "model.pvalues[model.pvalues < 0.01]"
   ]
  },
  {
   "cell_type": "code",
   "execution_count": null,
   "metadata": {},
   "outputs": [],
   "source": []
  }
 ],
 "metadata": {
  "kernelspec": {
   "display_name": "Python 3",
   "language": "python",
   "name": "python3"
  },
  "language_info": {
   "codemirror_mode": {
    "name": "ipython",
    "version": 3
   },
   "file_extension": ".py",
   "mimetype": "text/x-python",
   "name": "python",
   "nbconvert_exporter": "python",
   "pygments_lexer": "ipython3",
   "version": "3.7.3"
  },
  "toc": {
   "base_numbering": 1,
   "nav_menu": {},
   "number_sections": true,
   "sideBar": true,
   "skip_h1_title": false,
   "title_cell": "Table of Contents",
   "title_sidebar": "Contents",
   "toc_cell": false,
   "toc_position": {
    "height": "723px",
    "left": "544px",
    "top": "110px",
    "width": "350px"
   },
   "toc_section_display": true,
   "toc_window_display": true
  }
 },
 "nbformat": 4,
 "nbformat_minor": 4
}

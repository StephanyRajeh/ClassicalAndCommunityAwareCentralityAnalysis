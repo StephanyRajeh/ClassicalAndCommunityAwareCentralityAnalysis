{
 "cells": [
  {
   "cell_type": "code",
   "execution_count": 1,
   "metadata": {},
   "outputs": [],
   "source": [
    "import matplotlib.pyplot as plt\n",
    "import numpy as np\n",
    "import seaborn as sns"
   ]
  },
  {
   "cell_type": "markdown",
   "metadata": {},
   "source": [
    "# Read dependent variables: Mean$_L$ & Mean$_G$ of Kendall's Tau Correlations $\\alpha, \\beta$"
   ]
  },
  {
   "cell_type": "code",
   "execution_count": 2,
   "metadata": {},
   "outputs": [],
   "source": [
    "# Animals - Dolphins xx\n",
    "dolphins_feature_vector = [0.597 , 0.386]"
   ]
  },
  {
   "cell_type": "code",
   "execution_count": 3,
   "metadata": {},
   "outputs": [],
   "source": [
    "# Animals - Reptiles xx\n",
    "reptiles_feature_vector = [0.549 , 0.354]"
   ]
  },
  {
   "cell_type": "code",
   "execution_count": 4,
   "metadata": {},
   "outputs": [],
   "source": [
    "# Bio - Ecoli xx\n",
    "ecoli_feature_vector = [0.3 , 0.441]"
   ]
  },
  {
   "cell_type": "code",
   "execution_count": 5,
   "metadata": {},
   "outputs": [],
   "source": [
    "# Bio - Human Protein xx\n",
    "humanprotein_feature_vector = [0.369 , 0.472]"
   ]
  },
  {
   "cell_type": "code",
   "execution_count": 6,
   "metadata": {},
   "outputs": [],
   "source": [
    "# Bio - Mouse Visual Cortex xx\n",
    "mousevisualcortex_feature_vector = [0.151 , 0.493]"
   ]
  },
  {
   "cell_type": "code",
   "execution_count": 7,
   "metadata": {},
   "outputs": [],
   "source": [
    "# Bio - Yeast Protein xx\n",
    "yeastprotein_feature_vector = [0.388 , 0.437]"
   ]
  },
  {
   "cell_type": "code",
   "execution_count": 8,
   "metadata": {},
   "outputs": [],
   "source": [
    "# Collab - AstroPh xx\n",
    "astroph_feature_vector = [0.59 , 0.52]"
   ]
  },
  {
   "cell_type": "code",
   "execution_count": 9,
   "metadata": {},
   "outputs": [],
   "source": [
    "# Collab - CS PhD xx\n",
    "csphd_feature_vector = [0.345 , 0.354]"
   ]
  },
  {
   "cell_type": "code",
   "execution_count": 10,
   "metadata": {},
   "outputs": [],
   "source": [
    "# Collab - GrQc xx\n",
    "grqc_feature_vector = [0.501 , 0.411]"
   ]
  },
  {
   "cell_type": "code",
   "execution_count": 11,
   "metadata": {},
   "outputs": [],
   "source": [
    "# Collab - NetSci xx\n",
    "netsci_feature_vector = [0.511 , 0.365]"
   ]
  },
  {
   "cell_type": "code",
   "execution_count": 12,
   "metadata": {},
   "outputs": [],
   "source": [
    "# Human Social - Adolescent Health xx\n",
    "adolescenthealth_feature_vector = [0.528 , 0.366]"
   ]
  },
  {
   "cell_type": "code",
   "execution_count": 13,
   "metadata": {},
   "outputs": [],
   "source": [
    "# Human Social - Jazz xx\n",
    "jazz_feature_vector = [0.644 , 0.445]"
   ]
  },
  {
   "cell_type": "code",
   "execution_count": 14,
   "metadata": {},
   "outputs": [],
   "source": [
    "# Human Social - Karate xx\n",
    "karate_feature_vector = [0.596 , 0.434]"
   ]
  },
  {
   "cell_type": "code",
   "execution_count": 15,
   "metadata": {},
   "outputs": [],
   "source": [
    "# Human Social - Madrid Train Bombings xx\n",
    "madridtrainbombings_feature_vector = [0.585 , 0.246]"
   ]
  },
  {
   "cell_type": "code",
   "execution_count": 16,
   "metadata": {},
   "outputs": [],
   "source": [
    "# Infra - EuroRoad xx\n",
    "euroroad_feature_vector = [0.372 , 0.374]"
   ]
  },
  {
   "cell_type": "code",
   "execution_count": 17,
   "metadata": {},
   "outputs": [],
   "source": [
    "# Infra - US Airports x\n",
    "usairports_feature_vector = [0.515 , 0.264]"
   ]
  },
  {
   "cell_type": "code",
   "execution_count": 18,
   "metadata": {},
   "outputs": [],
   "source": [
    "# Infra - US Power Grids xx\n",
    "uspowergrids_feature_vector = [0.46 , 0.349]"
   ]
  },
  {
   "cell_type": "code",
   "execution_count": 19,
   "metadata": {},
   "outputs": [],
   "source": [
    "# Infra - US States xx\n",
    "usstates_feature_vector = [0.452 , 0.436]"
   ]
  },
  {
   "cell_type": "code",
   "execution_count": 20,
   "metadata": {},
   "outputs": [],
   "source": [
    "# Misc - Football xx\n",
    "football_feature_vector = [0.126 , 0.206]"
   ]
  },
  {
   "cell_type": "code",
   "execution_count": 21,
   "metadata": {},
   "outputs": [],
   "source": [
    "# Misc - Internet Autonomous Systems xx\n",
    "internetas_feature_vector = [0.183 , 0.412]"
   ]
  },
  {
   "cell_type": "code",
   "execution_count": 22,
   "metadata": {},
   "outputs": [],
   "source": [
    "# Misc - Les Mis xx\n",
    "lesmis_feature_vector = [0.614 , 0.541]"
   ]
  },
  {
   "cell_type": "code",
   "execution_count": 23,
   "metadata": {},
   "outputs": [],
   "source": [
    "# Misc - PolBooks xx\n",
    "polbooks_feature_vector = [0.526 , 0.233]"
   ]
  },
  {
   "cell_type": "code",
   "execution_count": 24,
   "metadata": {},
   "outputs": [],
   "source": [
    "# OSN - DeezerEU xx\n",
    "deezereu_feature_vector = [0.44 , 0.509]"
   ]
  },
  {
   "cell_type": "code",
   "execution_count": 25,
   "metadata": {},
   "outputs": [],
   "source": [
    "# OSN - Ego Facebook xx\n",
    "egofacebook_feature_vector = [0.53 , 0.253]"
   ]
  },
  {
   "cell_type": "code",
   "execution_count": 26,
   "metadata": {},
   "outputs": [],
   "source": [
    "# OSN - FB Caltech xx\n",
    "caltech_feature_vector = [0.643 , 0.59]"
   ]
  },
  {
   "cell_type": "code",
   "execution_count": 27,
   "metadata": {},
   "outputs": [],
   "source": [
    "# OSN - FB Politician Pages xx\n",
    "fbpoliticianpages_feature_vector = [0.515 , 0.315]  "
   ]
  },
  {
   "cell_type": "code",
   "execution_count": 28,
   "metadata": {},
   "outputs": [],
   "source": [
    "# OSN - Hamsterster xx\n",
    "hamsterster_feature_vector = [0.514 , 0.438]"
   ]
  },
  {
   "cell_type": "code",
   "execution_count": 29,
   "metadata": {},
   "outputs": [],
   "source": [
    "# OSN - PGP xx\n",
    "pgp_feature_vector = [0.477 , 0.389]"
   ]
  },
  {
   "cell_type": "code",
   "execution_count": 30,
   "metadata": {},
   "outputs": [],
   "source": [
    "# OSN - FB Princeton xx\n",
    "princeton_feature_vector = [0.552 , 0.608]"
   ]
  },
  {
   "cell_type": "code",
   "execution_count": 31,
   "metadata": {},
   "outputs": [],
   "source": [
    "# OSN - Twitter xx\n",
    "twitter_feature_vector = [0.402 , 0.473]"
   ]
  },
  {
   "cell_type": "code",
   "execution_count": 32,
   "metadata": {},
   "outputs": [],
   "source": [
    "# Bio - BlumenauDrug xx\n",
    "blumenaudrug_feature_vector = [0.53 , 0.52]"
   ]
  },
  {
   "cell_type": "code",
   "execution_count": 33,
   "metadata": {},
   "outputs": [],
   "source": [
    "# Bio - BudapestConnectome xx\n",
    "budapestconnectome_feature_vector = [0.649 , 0.331]"
   ]
  },
  {
   "cell_type": "code",
   "execution_count": 34,
   "metadata": {},
   "outputs": [],
   "source": [
    "# Bio - YeastCollins xx\n",
    "yeastcollins_feature_vector = [0.536 , 0.33]"
   ]
  },
  {
   "cell_type": "code",
   "execution_count": 35,
   "metadata": {},
   "outputs": [],
   "source": [
    "# Bio - InteractomeVidal xx\n",
    "interactomevidal_feature_vector = [0.405 , 0.498]"
   ]
  },
  {
   "cell_type": "code",
   "execution_count": 36,
   "metadata": {},
   "outputs": [],
   "source": [
    "# Bio - MalariaGenes xx\n",
    "malariagenes_feature_vector = [0.51 , 0.219]"
   ]
  },
  {
   "cell_type": "code",
   "execution_count": 37,
   "metadata": {},
   "outputs": [],
   "source": [
    "# Bio - KeggMetabolic xx\n",
    "keggmetabolic_feature_vector = [0.296 , 0.405]"
   ]
  },
  {
   "cell_type": "code",
   "execution_count": 38,
   "metadata": {},
   "outputs": [],
   "source": [
    "# Collab - NewZealand xx\n",
    "newzealand_feature_vector = [0.24 , 0.569]"
   ]
  },
  {
   "cell_type": "code",
   "execution_count": 39,
   "metadata": {},
   "outputs": [],
   "source": [
    "# Infra - EUAirlines xx\n",
    "euairlines_feature_vector = [0.731 , 0.367]"
   ]
  },
  {
   "cell_type": "code",
   "execution_count": 40,
   "metadata": {},
   "outputs": [],
   "source": [
    "# Infra - InternetTopCogentco x\n",
    "internettopcogentco_feature_vector = [0.31 , 0.336]"
   ]
  },
  {
   "cell_type": "code",
   "execution_count": 41,
   "metadata": {},
   "outputs": [],
   "source": [
    "# Infra - LondonTransport xx\n",
    "londontransport_feature_vector = [0.259 , 0.36] "
   ]
  },
  {
   "cell_type": "code",
   "execution_count": 42,
   "metadata": {},
   "outputs": [],
   "source": [
    "# Misc - 911AllWords xx\n",
    "allwords911_feature_vector = [0.492 , 0.348] "
   ]
  },
  {
   "cell_type": "code",
   "execution_count": 43,
   "metadata": {},
   "outputs": [],
   "source": [
    "# Misc - MovieGalaxies xx\n",
    "moviegalaxies_feature_vector = [0.458 , 0.527]"
   ]
  },
  {
   "cell_type": "code",
   "execution_count": 44,
   "metadata": {},
   "outputs": [],
   "source": [
    "# Misc - BibleNouns xx\n",
    "biblenouns_feature_vector = [0.448 , 0.542] "
   ]
  },
  {
   "cell_type": "code",
   "execution_count": 45,
   "metadata": {},
   "outputs": [],
   "source": [
    "# Misc- BoardDirectors xx\n",
    "boarddirectors_feature_vector = [0.467 , 0.28] "
   ]
  },
  {
   "cell_type": "code",
   "execution_count": 46,
   "metadata": {},
   "outputs": [],
   "source": [
    "# Misc - DNCEmails xx\n",
    "dncemails_feature_vector = [0.523 , 0.575]"
   ]
  },
  {
   "cell_type": "code",
   "execution_count": 47,
   "metadata": {},
   "outputs": [],
   "source": [
    "# Misc - GoT xx\n",
    "got_feature_vector = [0.571 , 0.515]"
   ]
  },
  {
   "cell_type": "code",
   "execution_count": 48,
   "metadata": {},
   "outputs": [],
   "source": [
    "# Misc - MarvelPartnerships xx\n",
    "marvelpartnerships_feature_vector = [0.498 , 0.364]"
   ]
  },
  {
   "cell_type": "code",
   "execution_count": 49,
   "metadata": {},
   "outputs": [],
   "source": [
    "# OSN - FacebookFriends xx\n",
    "facebookfriends_feature_vector = [0.567 , 0.224]"
   ]
  },
  {
   "cell_type": "code",
   "execution_count": 50,
   "metadata": {},
   "outputs": [],
   "source": [
    "# OSN - FacebookOrganizations xx\n",
    "facebookorganizations_feature_vector = [0.415 , 0.427]"
   ]
  },
  {
   "cell_type": "code",
   "execution_count": 51,
   "metadata": {},
   "outputs": [],
   "source": [
    "# Cite - DBLPCite xx\n",
    "dblpcite_feature_vector = [0.511 , 0.581]"
   ]
  },
  {
   "cell_type": "code",
   "execution_count": 52,
   "metadata": {},
   "outputs": [],
   "source": [
    "labels = [\"Dolphins\", \n",
    "          \"Reptiles\", \n",
    "          \"E. coli Trans\", \n",
    "          \"Human Protein\",  \n",
    "          \"Mouse Visual Cortex\", \n",
    "          \"Yeast Protein\",\n",
    "          \"AstroPh\",\n",
    "          \"CS PhD\",\n",
    "          \"GrQc\",\n",
    "          \"NetSci\",\n",
    "          \"Adolescent Health\",\n",
    "          \"Jazz\",\n",
    "          \"Zachary Karate Club\",\n",
    "          \"Madrid Train Bombings\",\n",
    "          \"EuroRoads\",\n",
    "          \"US Airports\",\n",
    "          \"US Power Grids\",\n",
    "          \"US States\",\n",
    "          \"Football\",\n",
    "          \"Internet AS.\",\n",
    "          \"Les Misérables\",\n",
    "          \"Pol. Books\",\n",
    "          \"Deezer EU\",\n",
    "          \"Ego Facebook\",\n",
    "          \"Caltech\",\n",
    "          \"Facebook Pol. Pages\",\n",
    "          \"Hamsterster\",\n",
    "          \"PGP\",\n",
    "          \"Princeton\",\n",
    "          \"Retweets\",\n",
    "          \"BlumenauDrug\",\n",
    "          \"BudapestConnectome\",\n",
    "          \"YeastCollins\",\n",
    "          \"InteractomeVidal\",\n",
    "          \"MalariaGenes\",\n",
    "          \"KeggMetabolic\",\n",
    "          \"NewZealand\",\n",
    "          \"EUAirlines\",\n",
    "          \"InternetTopCogentco\",\n",
    "          \"LondonTransport\",\n",
    "          \"911AllWords\",\n",
    "          \"MovieGalaxies\",\n",
    "          \"BibleNouns\",\n",
    "          \"BoardDirectors\",\n",
    "          \"DNCEmails\",\n",
    "          \"GoT\",\n",
    "          \"MarvelPartnerships\",\n",
    "          \"FacebookFriends\",\n",
    "          \"FacebookOrganizations\",\n",
    "          \"DBLPCite\"\n",
    "         ]"
   ]
  },
  {
   "cell_type": "code",
   "execution_count": 53,
   "metadata": {},
   "outputs": [
    {
     "data": {
      "text/plain": [
       "50"
      ]
     },
     "execution_count": 53,
     "metadata": {},
     "output_type": "execute_result"
    }
   ],
   "source": [
    "len(labels)"
   ]
  },
  {
   "cell_type": "code",
   "execution_count": 54,
   "metadata": {},
   "outputs": [],
   "source": [
    "import pandas as pd"
   ]
  },
  {
   "cell_type": "code",
   "execution_count": 55,
   "metadata": {},
   "outputs": [],
   "source": [
    "d1 = dolphins_feature_vector\n",
    "d2 = reptiles_feature_vector\n",
    "d3 = ecoli_feature_vector\n",
    "d4 = humanprotein_feature_vector\n",
    "d5 = mousevisualcortex_feature_vector\n",
    "d6 = yeastprotein_feature_vector\n",
    "d7 = astroph_feature_vector\n",
    "d8 = csphd_feature_vector\n",
    "d9 = grqc_feature_vector\n",
    "d10 = netsci_feature_vector\n",
    "d11 = adolescenthealth_feature_vector\n",
    "d12 = jazz_feature_vector\n",
    "d13 = karate_feature_vector\n",
    "d14 = madridtrainbombings_feature_vector\n",
    "d15 = euroroad_feature_vector\n",
    "d16 = usairports_feature_vector\n",
    "d17 = uspowergrids_feature_vector\n",
    "d18 = usstates_feature_vector\n",
    "d19 = football_feature_vector\n",
    "d20 = internetas_feature_vector\n",
    "d21 = lesmis_feature_vector\n",
    "d22 = polbooks_feature_vector\n",
    "d23 = deezereu_feature_vector\n",
    "d24 = egofacebook_feature_vector\n",
    "d25 = caltech_feature_vector\n",
    "d26 = fbpoliticianpages_feature_vector\n",
    "d27 = hamsterster_feature_vector\n",
    "d28 = pgp_feature_vector\n",
    "d29 = princeton_feature_vector\n",
    "d30 = twitter_feature_vector\n",
    "d31 = blumenaudrug_feature_vector\n",
    "d32 = budapestconnectome_feature_vector\n",
    "d33 = yeastcollins_feature_vector\n",
    "d34 = interactomevidal_feature_vector\n",
    "d35 = malariagenes_feature_vector\n",
    "d36 = keggmetabolic_feature_vector\n",
    "d37 = newzealand_feature_vector\n",
    "d38 = euairlines_feature_vector\n",
    "d39 = internettopcogentco_feature_vector\n",
    "d40 = londontransport_feature_vector\n",
    "d41 = allwords911_feature_vector\n",
    "d42 = moviegalaxies_feature_vector\n",
    "d43 = biblenouns_feature_vector\n",
    "d44 = boarddirectors_feature_vector\n",
    "d45 = dncemails_feature_vector\n",
    "d46 = got_feature_vector\n",
    "d47 = marvelpartnerships_feature_vector\n",
    "d48 = facebookfriends_feature_vector\n",
    "d49 = facebookorganizations_feature_vector\n",
    "d50 = dblpcite_feature_vector\n",
    "\n",
    "df = pd.DataFrame([d1, d2, d3, d4, d5, d6, d7, d8, d9, d10, d11, d12, d13, d14, d15, d16, d17, d18, d19, d20, d21, d22, d23,\n",
    "                  d24, d25, d26, d27, d28, d29, d30, d31, d32, d33, d34, d35, d36, d37, d38, d39, d40, d41, d42,\n",
    "                  d43, d44, d45, d46, d47, d48, d49, d50])"
   ]
  },
  {
   "cell_type": "code",
   "execution_count": 56,
   "metadata": {
    "scrolled": false
   },
   "outputs": [
    {
     "data": {
      "text/html": [
       "<div>\n",
       "<style scoped>\n",
       "    .dataframe tbody tr th:only-of-type {\n",
       "        vertical-align: middle;\n",
       "    }\n",
       "\n",
       "    .dataframe tbody tr th {\n",
       "        vertical-align: top;\n",
       "    }\n",
       "\n",
       "    .dataframe thead th {\n",
       "        text-align: right;\n",
       "    }\n",
       "</style>\n",
       "<table border=\"1\" class=\"dataframe\">\n",
       "  <thead>\n",
       "    <tr style=\"text-align: right;\">\n",
       "      <th></th>\n",
       "      <th>Mean-LocalComponent</th>\n",
       "      <th>Mean-GlobalComponent</th>\n",
       "    </tr>\n",
       "  </thead>\n",
       "  <tbody>\n",
       "    <tr>\n",
       "      <th>Dolphins</th>\n",
       "      <td>0.597</td>\n",
       "      <td>0.386</td>\n",
       "    </tr>\n",
       "    <tr>\n",
       "      <th>Reptiles</th>\n",
       "      <td>0.549</td>\n",
       "      <td>0.354</td>\n",
       "    </tr>\n",
       "    <tr>\n",
       "      <th>E. coli Trans</th>\n",
       "      <td>0.300</td>\n",
       "      <td>0.441</td>\n",
       "    </tr>\n",
       "    <tr>\n",
       "      <th>Human Protein</th>\n",
       "      <td>0.369</td>\n",
       "      <td>0.472</td>\n",
       "    </tr>\n",
       "    <tr>\n",
       "      <th>Mouse Visual Cortex</th>\n",
       "      <td>0.151</td>\n",
       "      <td>0.493</td>\n",
       "    </tr>\n",
       "    <tr>\n",
       "      <th>Yeast Protein</th>\n",
       "      <td>0.388</td>\n",
       "      <td>0.437</td>\n",
       "    </tr>\n",
       "    <tr>\n",
       "      <th>AstroPh</th>\n",
       "      <td>0.590</td>\n",
       "      <td>0.520</td>\n",
       "    </tr>\n",
       "    <tr>\n",
       "      <th>CS PhD</th>\n",
       "      <td>0.345</td>\n",
       "      <td>0.354</td>\n",
       "    </tr>\n",
       "    <tr>\n",
       "      <th>GrQc</th>\n",
       "      <td>0.501</td>\n",
       "      <td>0.411</td>\n",
       "    </tr>\n",
       "    <tr>\n",
       "      <th>NetSci</th>\n",
       "      <td>0.511</td>\n",
       "      <td>0.365</td>\n",
       "    </tr>\n",
       "    <tr>\n",
       "      <th>Adolescent Health</th>\n",
       "      <td>0.528</td>\n",
       "      <td>0.366</td>\n",
       "    </tr>\n",
       "    <tr>\n",
       "      <th>Jazz</th>\n",
       "      <td>0.644</td>\n",
       "      <td>0.445</td>\n",
       "    </tr>\n",
       "    <tr>\n",
       "      <th>Zachary Karate Club</th>\n",
       "      <td>0.596</td>\n",
       "      <td>0.434</td>\n",
       "    </tr>\n",
       "    <tr>\n",
       "      <th>Madrid Train Bombings</th>\n",
       "      <td>0.585</td>\n",
       "      <td>0.246</td>\n",
       "    </tr>\n",
       "    <tr>\n",
       "      <th>EuroRoads</th>\n",
       "      <td>0.372</td>\n",
       "      <td>0.374</td>\n",
       "    </tr>\n",
       "    <tr>\n",
       "      <th>US Airports</th>\n",
       "      <td>0.515</td>\n",
       "      <td>0.264</td>\n",
       "    </tr>\n",
       "    <tr>\n",
       "      <th>US Power Grids</th>\n",
       "      <td>0.460</td>\n",
       "      <td>0.349</td>\n",
       "    </tr>\n",
       "    <tr>\n",
       "      <th>US States</th>\n",
       "      <td>0.452</td>\n",
       "      <td>0.436</td>\n",
       "    </tr>\n",
       "    <tr>\n",
       "      <th>Football</th>\n",
       "      <td>0.126</td>\n",
       "      <td>0.206</td>\n",
       "    </tr>\n",
       "    <tr>\n",
       "      <th>Internet AS.</th>\n",
       "      <td>0.183</td>\n",
       "      <td>0.412</td>\n",
       "    </tr>\n",
       "    <tr>\n",
       "      <th>Les Misérables</th>\n",
       "      <td>0.614</td>\n",
       "      <td>0.541</td>\n",
       "    </tr>\n",
       "    <tr>\n",
       "      <th>Pol. Books</th>\n",
       "      <td>0.526</td>\n",
       "      <td>0.233</td>\n",
       "    </tr>\n",
       "    <tr>\n",
       "      <th>Deezer EU</th>\n",
       "      <td>0.440</td>\n",
       "      <td>0.509</td>\n",
       "    </tr>\n",
       "    <tr>\n",
       "      <th>Ego Facebook</th>\n",
       "      <td>0.530</td>\n",
       "      <td>0.253</td>\n",
       "    </tr>\n",
       "    <tr>\n",
       "      <th>Caltech</th>\n",
       "      <td>0.643</td>\n",
       "      <td>0.590</td>\n",
       "    </tr>\n",
       "    <tr>\n",
       "      <th>Facebook Pol. Pages</th>\n",
       "      <td>0.515</td>\n",
       "      <td>0.315</td>\n",
       "    </tr>\n",
       "    <tr>\n",
       "      <th>Hamsterster</th>\n",
       "      <td>0.514</td>\n",
       "      <td>0.438</td>\n",
       "    </tr>\n",
       "    <tr>\n",
       "      <th>PGP</th>\n",
       "      <td>0.477</td>\n",
       "      <td>0.389</td>\n",
       "    </tr>\n",
       "    <tr>\n",
       "      <th>Princeton</th>\n",
       "      <td>0.552</td>\n",
       "      <td>0.608</td>\n",
       "    </tr>\n",
       "    <tr>\n",
       "      <th>Retweets</th>\n",
       "      <td>0.402</td>\n",
       "      <td>0.473</td>\n",
       "    </tr>\n",
       "    <tr>\n",
       "      <th>BlumenauDrug</th>\n",
       "      <td>0.530</td>\n",
       "      <td>0.520</td>\n",
       "    </tr>\n",
       "    <tr>\n",
       "      <th>BudapestConnectome</th>\n",
       "      <td>0.649</td>\n",
       "      <td>0.331</td>\n",
       "    </tr>\n",
       "    <tr>\n",
       "      <th>YeastCollins</th>\n",
       "      <td>0.536</td>\n",
       "      <td>0.330</td>\n",
       "    </tr>\n",
       "    <tr>\n",
       "      <th>InteractomeVidal</th>\n",
       "      <td>0.405</td>\n",
       "      <td>0.498</td>\n",
       "    </tr>\n",
       "    <tr>\n",
       "      <th>MalariaGenes</th>\n",
       "      <td>0.510</td>\n",
       "      <td>0.219</td>\n",
       "    </tr>\n",
       "    <tr>\n",
       "      <th>KeggMetabolic</th>\n",
       "      <td>0.296</td>\n",
       "      <td>0.405</td>\n",
       "    </tr>\n",
       "    <tr>\n",
       "      <th>NewZealand</th>\n",
       "      <td>0.240</td>\n",
       "      <td>0.569</td>\n",
       "    </tr>\n",
       "    <tr>\n",
       "      <th>EUAirlines</th>\n",
       "      <td>0.731</td>\n",
       "      <td>0.367</td>\n",
       "    </tr>\n",
       "    <tr>\n",
       "      <th>InternetTopCogentco</th>\n",
       "      <td>0.310</td>\n",
       "      <td>0.336</td>\n",
       "    </tr>\n",
       "    <tr>\n",
       "      <th>LondonTransport</th>\n",
       "      <td>0.259</td>\n",
       "      <td>0.360</td>\n",
       "    </tr>\n",
       "    <tr>\n",
       "      <th>911AllWords</th>\n",
       "      <td>0.492</td>\n",
       "      <td>0.348</td>\n",
       "    </tr>\n",
       "    <tr>\n",
       "      <th>MovieGalaxies</th>\n",
       "      <td>0.458</td>\n",
       "      <td>0.527</td>\n",
       "    </tr>\n",
       "    <tr>\n",
       "      <th>BibleNouns</th>\n",
       "      <td>0.448</td>\n",
       "      <td>0.542</td>\n",
       "    </tr>\n",
       "    <tr>\n",
       "      <th>BoardDirectors</th>\n",
       "      <td>0.467</td>\n",
       "      <td>0.280</td>\n",
       "    </tr>\n",
       "    <tr>\n",
       "      <th>DNCEmails</th>\n",
       "      <td>0.523</td>\n",
       "      <td>0.575</td>\n",
       "    </tr>\n",
       "    <tr>\n",
       "      <th>GoT</th>\n",
       "      <td>0.571</td>\n",
       "      <td>0.515</td>\n",
       "    </tr>\n",
       "    <tr>\n",
       "      <th>MarvelPartnerships</th>\n",
       "      <td>0.498</td>\n",
       "      <td>0.364</td>\n",
       "    </tr>\n",
       "    <tr>\n",
       "      <th>FacebookFriends</th>\n",
       "      <td>0.567</td>\n",
       "      <td>0.224</td>\n",
       "    </tr>\n",
       "    <tr>\n",
       "      <th>FacebookOrganizations</th>\n",
       "      <td>0.415</td>\n",
       "      <td>0.427</td>\n",
       "    </tr>\n",
       "    <tr>\n",
       "      <th>DBLPCite</th>\n",
       "      <td>0.511</td>\n",
       "      <td>0.581</td>\n",
       "    </tr>\n",
       "  </tbody>\n",
       "</table>\n",
       "</div>"
      ],
      "text/plain": [
       "                       Mean-LocalComponent  Mean-GlobalComponent\n",
       "Dolphins                             0.597                 0.386\n",
       "Reptiles                             0.549                 0.354\n",
       "E. coli Trans                        0.300                 0.441\n",
       "Human Protein                        0.369                 0.472\n",
       "Mouse Visual Cortex                  0.151                 0.493\n",
       "Yeast Protein                        0.388                 0.437\n",
       "AstroPh                              0.590                 0.520\n",
       "CS PhD                               0.345                 0.354\n",
       "GrQc                                 0.501                 0.411\n",
       "NetSci                               0.511                 0.365\n",
       "Adolescent Health                    0.528                 0.366\n",
       "Jazz                                 0.644                 0.445\n",
       "Zachary Karate Club                  0.596                 0.434\n",
       "Madrid Train Bombings                0.585                 0.246\n",
       "EuroRoads                            0.372                 0.374\n",
       "US Airports                          0.515                 0.264\n",
       "US Power Grids                       0.460                 0.349\n",
       "US States                            0.452                 0.436\n",
       "Football                             0.126                 0.206\n",
       "Internet AS.                         0.183                 0.412\n",
       "Les Misérables                       0.614                 0.541\n",
       "Pol. Books                           0.526                 0.233\n",
       "Deezer EU                            0.440                 0.509\n",
       "Ego Facebook                         0.530                 0.253\n",
       "Caltech                              0.643                 0.590\n",
       "Facebook Pol. Pages                  0.515                 0.315\n",
       "Hamsterster                          0.514                 0.438\n",
       "PGP                                  0.477                 0.389\n",
       "Princeton                            0.552                 0.608\n",
       "Retweets                             0.402                 0.473\n",
       "BlumenauDrug                         0.530                 0.520\n",
       "BudapestConnectome                   0.649                 0.331\n",
       "YeastCollins                         0.536                 0.330\n",
       "InteractomeVidal                     0.405                 0.498\n",
       "MalariaGenes                         0.510                 0.219\n",
       "KeggMetabolic                        0.296                 0.405\n",
       "NewZealand                           0.240                 0.569\n",
       "EUAirlines                           0.731                 0.367\n",
       "InternetTopCogentco                  0.310                 0.336\n",
       "LondonTransport                      0.259                 0.360\n",
       "911AllWords                          0.492                 0.348\n",
       "MovieGalaxies                        0.458                 0.527\n",
       "BibleNouns                           0.448                 0.542\n",
       "BoardDirectors                       0.467                 0.280\n",
       "DNCEmails                            0.523                 0.575\n",
       "GoT                                  0.571                 0.515\n",
       "MarvelPartnerships                   0.498                 0.364\n",
       "FacebookFriends                      0.567                 0.224\n",
       "FacebookOrganizations                0.415                 0.427\n",
       "DBLPCite                             0.511                 0.581"
      ]
     },
     "execution_count": 56,
     "metadata": {},
     "output_type": "execute_result"
    }
   ],
   "source": [
    "df.rename(index={\n",
    "          0:\"Dolphins\", \n",
    "          1:\"Reptiles\", \n",
    "          2:\"E. coli Trans\", \n",
    "          3:\"Human Protein\",  \n",
    "          4:\"Mouse Visual Cortex\", \n",
    "          5:\"Yeast Protein\",\n",
    "          6:\"AstroPh\",\n",
    "          7:\"CS PhD\",\n",
    "          8:\"GrQc\",\n",
    "          9:\"NetSci\",\n",
    "          10:\"Adolescent Health\",\n",
    "          11:\"Jazz\",\n",
    "          12:\"Zachary Karate Club\",\n",
    "          13: \"Madrid Train Bombings\",\n",
    "          14:\"EuroRoads\",\n",
    "          15:\"US Airports\",\n",
    "          16:\"US Power Grids\",\n",
    "          17:\"US States\",\n",
    "          18:\"Football\",\n",
    "          19:\"Internet AS.\",\n",
    "          20:\"Les Misérables\",\n",
    "          21:\"Pol. Books\",\n",
    "          22:\"Deezer EU\",\n",
    "          23:\"Ego Facebook\",\n",
    "          24:\"Caltech\",\n",
    "          25:\"Facebook Pol. Pages\",\n",
    "          26:\"Hamsterster\",\n",
    "          27:\"PGP\",\n",
    "          28:\"Princeton\",\n",
    "          29:\"Retweets\", \n",
    "          30: \"BlumenauDrug\",\n",
    "          31:\"BudapestConnectome\",\n",
    "          32: \"YeastCollins\",\n",
    "          33: \"InteractomeVidal\",\n",
    "          34: \"MalariaGenes\",\n",
    "          35: \"KeggMetabolic\",\n",
    "          36: \"NewZealand\",\n",
    "          37: \"EUAirlines\",\n",
    "          38: \"InternetTopCogentco\",\n",
    "          39: \"LondonTransport\",\n",
    "          40: \"911AllWords\",\n",
    "          41: \"MovieGalaxies\",\n",
    "          42: \"BibleNouns\",\n",
    "          43: \"BoardDirectors\",\n",
    "          44: \"DNCEmails\",\n",
    "          45: \"GoT\",\n",
    "          46: \"MarvelPartnerships\",\n",
    "          47: \"FacebookFriends\",\n",
    "          48: \"FacebookOrganizations\",\n",
    "          49: \"DBLPCite\"},\n",
    "          inplace=True)\n",
    "\n",
    "df.rename(columns={\n",
    "    0: 'Mean-LocalComponent',\n",
    "    1: 'Mean-GlobalComponent',\n",
    "  }, inplace=True)\n",
    "df"
   ]
  },
  {
   "cell_type": "code",
   "execution_count": 57,
   "metadata": {
    "scrolled": false
   },
   "outputs": [
    {
     "data": {
      "text/html": [
       "<div>\n",
       "<style scoped>\n",
       "    .dataframe tbody tr th:only-of-type {\n",
       "        vertical-align: middle;\n",
       "    }\n",
       "\n",
       "    .dataframe tbody tr th {\n",
       "        vertical-align: top;\n",
       "    }\n",
       "\n",
       "    .dataframe thead th {\n",
       "        text-align: right;\n",
       "    }\n",
       "</style>\n",
       "<table border=\"1\" class=\"dataframe\">\n",
       "  <thead>\n",
       "    <tr style=\"text-align: right;\">\n",
       "      <th></th>\n",
       "      <th>Mean-LocalComponent</th>\n",
       "      <th>Mean-GlobalComponent</th>\n",
       "    </tr>\n",
       "  </thead>\n",
       "  <tbody>\n",
       "    <tr>\n",
       "      <th>Dolphins</th>\n",
       "      <td>0.597</td>\n",
       "      <td>0.386</td>\n",
       "    </tr>\n",
       "    <tr>\n",
       "      <th>Reptiles</th>\n",
       "      <td>0.549</td>\n",
       "      <td>0.354</td>\n",
       "    </tr>\n",
       "    <tr>\n",
       "      <th>E. coli Trans</th>\n",
       "      <td>0.300</td>\n",
       "      <td>0.441</td>\n",
       "    </tr>\n",
       "    <tr>\n",
       "      <th>Human Protein</th>\n",
       "      <td>0.369</td>\n",
       "      <td>0.472</td>\n",
       "    </tr>\n",
       "    <tr>\n",
       "      <th>Mouse Visual Cortex</th>\n",
       "      <td>0.151</td>\n",
       "      <td>0.493</td>\n",
       "    </tr>\n",
       "    <tr>\n",
       "      <th>Yeast Protein</th>\n",
       "      <td>0.388</td>\n",
       "      <td>0.437</td>\n",
       "    </tr>\n",
       "    <tr>\n",
       "      <th>AstroPh</th>\n",
       "      <td>0.590</td>\n",
       "      <td>0.520</td>\n",
       "    </tr>\n",
       "    <tr>\n",
       "      <th>CS PhD</th>\n",
       "      <td>0.345</td>\n",
       "      <td>0.354</td>\n",
       "    </tr>\n",
       "    <tr>\n",
       "      <th>GrQc</th>\n",
       "      <td>0.501</td>\n",
       "      <td>0.411</td>\n",
       "    </tr>\n",
       "    <tr>\n",
       "      <th>NetSci</th>\n",
       "      <td>0.511</td>\n",
       "      <td>0.365</td>\n",
       "    </tr>\n",
       "    <tr>\n",
       "      <th>Adolescent Health</th>\n",
       "      <td>0.528</td>\n",
       "      <td>0.366</td>\n",
       "    </tr>\n",
       "    <tr>\n",
       "      <th>Jazz</th>\n",
       "      <td>0.644</td>\n",
       "      <td>0.445</td>\n",
       "    </tr>\n",
       "    <tr>\n",
       "      <th>Zachary Karate Club</th>\n",
       "      <td>0.596</td>\n",
       "      <td>0.434</td>\n",
       "    </tr>\n",
       "    <tr>\n",
       "      <th>Madrid Train Bombings</th>\n",
       "      <td>0.585</td>\n",
       "      <td>0.246</td>\n",
       "    </tr>\n",
       "    <tr>\n",
       "      <th>EuroRoads</th>\n",
       "      <td>0.372</td>\n",
       "      <td>0.374</td>\n",
       "    </tr>\n",
       "    <tr>\n",
       "      <th>US Airports</th>\n",
       "      <td>0.515</td>\n",
       "      <td>0.264</td>\n",
       "    </tr>\n",
       "    <tr>\n",
       "      <th>US Power Grids</th>\n",
       "      <td>0.460</td>\n",
       "      <td>0.349</td>\n",
       "    </tr>\n",
       "    <tr>\n",
       "      <th>US States</th>\n",
       "      <td>0.452</td>\n",
       "      <td>0.436</td>\n",
       "    </tr>\n",
       "    <tr>\n",
       "      <th>Football</th>\n",
       "      <td>0.126</td>\n",
       "      <td>0.206</td>\n",
       "    </tr>\n",
       "    <tr>\n",
       "      <th>Internet AS.</th>\n",
       "      <td>0.183</td>\n",
       "      <td>0.412</td>\n",
       "    </tr>\n",
       "    <tr>\n",
       "      <th>Les Misérables</th>\n",
       "      <td>0.614</td>\n",
       "      <td>0.541</td>\n",
       "    </tr>\n",
       "    <tr>\n",
       "      <th>Pol. Books</th>\n",
       "      <td>0.526</td>\n",
       "      <td>0.233</td>\n",
       "    </tr>\n",
       "    <tr>\n",
       "      <th>Deezer EU</th>\n",
       "      <td>0.440</td>\n",
       "      <td>0.509</td>\n",
       "    </tr>\n",
       "    <tr>\n",
       "      <th>Ego Facebook</th>\n",
       "      <td>0.530</td>\n",
       "      <td>0.253</td>\n",
       "    </tr>\n",
       "    <tr>\n",
       "      <th>Caltech</th>\n",
       "      <td>0.643</td>\n",
       "      <td>0.590</td>\n",
       "    </tr>\n",
       "    <tr>\n",
       "      <th>Facebook Pol. Pages</th>\n",
       "      <td>0.515</td>\n",
       "      <td>0.315</td>\n",
       "    </tr>\n",
       "    <tr>\n",
       "      <th>Hamsterster</th>\n",
       "      <td>0.514</td>\n",
       "      <td>0.438</td>\n",
       "    </tr>\n",
       "    <tr>\n",
       "      <th>PGP</th>\n",
       "      <td>0.477</td>\n",
       "      <td>0.389</td>\n",
       "    </tr>\n",
       "    <tr>\n",
       "      <th>Princeton</th>\n",
       "      <td>0.552</td>\n",
       "      <td>0.608</td>\n",
       "    </tr>\n",
       "    <tr>\n",
       "      <th>Retweets</th>\n",
       "      <td>0.402</td>\n",
       "      <td>0.473</td>\n",
       "    </tr>\n",
       "    <tr>\n",
       "      <th>BlumenauDrug</th>\n",
       "      <td>0.530</td>\n",
       "      <td>0.520</td>\n",
       "    </tr>\n",
       "    <tr>\n",
       "      <th>BudapestConnectome</th>\n",
       "      <td>0.649</td>\n",
       "      <td>0.331</td>\n",
       "    </tr>\n",
       "    <tr>\n",
       "      <th>YeastCollins</th>\n",
       "      <td>0.536</td>\n",
       "      <td>0.330</td>\n",
       "    </tr>\n",
       "    <tr>\n",
       "      <th>InteractomeVidal</th>\n",
       "      <td>0.405</td>\n",
       "      <td>0.498</td>\n",
       "    </tr>\n",
       "    <tr>\n",
       "      <th>MalariaGenes</th>\n",
       "      <td>0.510</td>\n",
       "      <td>0.219</td>\n",
       "    </tr>\n",
       "    <tr>\n",
       "      <th>KeggMetabolic</th>\n",
       "      <td>0.296</td>\n",
       "      <td>0.405</td>\n",
       "    </tr>\n",
       "    <tr>\n",
       "      <th>NewZealand</th>\n",
       "      <td>0.240</td>\n",
       "      <td>0.569</td>\n",
       "    </tr>\n",
       "    <tr>\n",
       "      <th>EUAirlines</th>\n",
       "      <td>0.731</td>\n",
       "      <td>0.367</td>\n",
       "    </tr>\n",
       "    <tr>\n",
       "      <th>InternetTopCogentco</th>\n",
       "      <td>0.310</td>\n",
       "      <td>0.336</td>\n",
       "    </tr>\n",
       "    <tr>\n",
       "      <th>LondonTransport</th>\n",
       "      <td>0.259</td>\n",
       "      <td>0.360</td>\n",
       "    </tr>\n",
       "    <tr>\n",
       "      <th>911AllWords</th>\n",
       "      <td>0.492</td>\n",
       "      <td>0.348</td>\n",
       "    </tr>\n",
       "    <tr>\n",
       "      <th>MovieGalaxies</th>\n",
       "      <td>0.458</td>\n",
       "      <td>0.527</td>\n",
       "    </tr>\n",
       "    <tr>\n",
       "      <th>BibleNouns</th>\n",
       "      <td>0.448</td>\n",
       "      <td>0.542</td>\n",
       "    </tr>\n",
       "    <tr>\n",
       "      <th>BoardDirectors</th>\n",
       "      <td>0.467</td>\n",
       "      <td>0.280</td>\n",
       "    </tr>\n",
       "    <tr>\n",
       "      <th>DNCEmails</th>\n",
       "      <td>0.523</td>\n",
       "      <td>0.575</td>\n",
       "    </tr>\n",
       "    <tr>\n",
       "      <th>GoT</th>\n",
       "      <td>0.571</td>\n",
       "      <td>0.515</td>\n",
       "    </tr>\n",
       "    <tr>\n",
       "      <th>MarvelPartnerships</th>\n",
       "      <td>0.498</td>\n",
       "      <td>0.364</td>\n",
       "    </tr>\n",
       "    <tr>\n",
       "      <th>FacebookFriends</th>\n",
       "      <td>0.567</td>\n",
       "      <td>0.224</td>\n",
       "    </tr>\n",
       "    <tr>\n",
       "      <th>FacebookOrganizations</th>\n",
       "      <td>0.415</td>\n",
       "      <td>0.427</td>\n",
       "    </tr>\n",
       "    <tr>\n",
       "      <th>DBLPCite</th>\n",
       "      <td>0.511</td>\n",
       "      <td>0.581</td>\n",
       "    </tr>\n",
       "  </tbody>\n",
       "</table>\n",
       "</div>"
      ],
      "text/plain": [
       "                       Mean-LocalComponent  Mean-GlobalComponent\n",
       "Dolphins                             0.597                 0.386\n",
       "Reptiles                             0.549                 0.354\n",
       "E. coli Trans                        0.300                 0.441\n",
       "Human Protein                        0.369                 0.472\n",
       "Mouse Visual Cortex                  0.151                 0.493\n",
       "Yeast Protein                        0.388                 0.437\n",
       "AstroPh                              0.590                 0.520\n",
       "CS PhD                               0.345                 0.354\n",
       "GrQc                                 0.501                 0.411\n",
       "NetSci                               0.511                 0.365\n",
       "Adolescent Health                    0.528                 0.366\n",
       "Jazz                                 0.644                 0.445\n",
       "Zachary Karate Club                  0.596                 0.434\n",
       "Madrid Train Bombings                0.585                 0.246\n",
       "EuroRoads                            0.372                 0.374\n",
       "US Airports                          0.515                 0.264\n",
       "US Power Grids                       0.460                 0.349\n",
       "US States                            0.452                 0.436\n",
       "Football                             0.126                 0.206\n",
       "Internet AS.                         0.183                 0.412\n",
       "Les Misérables                       0.614                 0.541\n",
       "Pol. Books                           0.526                 0.233\n",
       "Deezer EU                            0.440                 0.509\n",
       "Ego Facebook                         0.530                 0.253\n",
       "Caltech                              0.643                 0.590\n",
       "Facebook Pol. Pages                  0.515                 0.315\n",
       "Hamsterster                          0.514                 0.438\n",
       "PGP                                  0.477                 0.389\n",
       "Princeton                            0.552                 0.608\n",
       "Retweets                             0.402                 0.473\n",
       "BlumenauDrug                         0.530                 0.520\n",
       "BudapestConnectome                   0.649                 0.331\n",
       "YeastCollins                         0.536                 0.330\n",
       "InteractomeVidal                     0.405                 0.498\n",
       "MalariaGenes                         0.510                 0.219\n",
       "KeggMetabolic                        0.296                 0.405\n",
       "NewZealand                           0.240                 0.569\n",
       "EUAirlines                           0.731                 0.367\n",
       "InternetTopCogentco                  0.310                 0.336\n",
       "LondonTransport                      0.259                 0.360\n",
       "911AllWords                          0.492                 0.348\n",
       "MovieGalaxies                        0.458                 0.527\n",
       "BibleNouns                           0.448                 0.542\n",
       "BoardDirectors                       0.467                 0.280\n",
       "DNCEmails                            0.523                 0.575\n",
       "GoT                                  0.571                 0.515\n",
       "MarvelPartnerships                   0.498                 0.364\n",
       "FacebookFriends                      0.567                 0.224\n",
       "FacebookOrganizations                0.415                 0.427\n",
       "DBLPCite                             0.511                 0.581"
      ]
     },
     "execution_count": 57,
     "metadata": {},
     "output_type": "execute_result"
    }
   ],
   "source": [
    "df_dependent_variables = df[['Mean-LocalComponent', 'Mean-GlobalComponent']].copy()\n",
    "df_dependent_variables"
   ]
  },
  {
   "cell_type": "code",
   "execution_count": 58,
   "metadata": {},
   "outputs": [],
   "source": [
    "df_dependent_variables.to_csv(\"df_dependent_variables.csv\", header=True, index=True)"
   ]
  },
  {
   "cell_type": "code",
   "execution_count": 59,
   "metadata": {
    "scrolled": true
   },
   "outputs": [
    {
     "data": {
      "text/html": [
       "<div>\n",
       "<style scoped>\n",
       "    .dataframe tbody tr th:only-of-type {\n",
       "        vertical-align: middle;\n",
       "    }\n",
       "\n",
       "    .dataframe tbody tr th {\n",
       "        vertical-align: top;\n",
       "    }\n",
       "\n",
       "    .dataframe thead th {\n",
       "        text-align: right;\n",
       "    }\n",
       "</style>\n",
       "<table border=\"1\" class=\"dataframe\">\n",
       "  <thead>\n",
       "    <tr style=\"text-align: right;\">\n",
       "      <th></th>\n",
       "      <th>Mean-LocalComponent</th>\n",
       "      <th>Mean-GlobalComponent</th>\n",
       "    </tr>\n",
       "  </thead>\n",
       "  <tbody>\n",
       "    <tr>\n",
       "      <th>Mean-LocalComponent</th>\n",
       "      <td>1.000000</td>\n",
       "      <td>0.016679</td>\n",
       "    </tr>\n",
       "    <tr>\n",
       "      <th>Mean-GlobalComponent</th>\n",
       "      <td>0.016679</td>\n",
       "      <td>1.000000</td>\n",
       "    </tr>\n",
       "  </tbody>\n",
       "</table>\n",
       "</div>"
      ],
      "text/plain": [
       "                      Mean-LocalComponent  Mean-GlobalComponent\n",
       "Mean-LocalComponent              1.000000              0.016679\n",
       "Mean-GlobalComponent             0.016679              1.000000"
      ]
     },
     "execution_count": 59,
     "metadata": {},
     "output_type": "execute_result"
    }
   ],
   "source": [
    "df_dependent_variables.corr(method='pearson')"
   ]
  },
  {
   "cell_type": "code",
   "execution_count": null,
   "metadata": {},
   "outputs": [],
   "source": []
  },
  {
   "cell_type": "markdown",
   "metadata": {},
   "source": [
    "# Read independent variables macro + meso"
   ]
  },
  {
   "cell_type": "markdown",
   "metadata": {},
   "source": [
    "## Add the macroscopic features"
   ]
  },
  {
   "cell_type": "code",
   "execution_count": 62,
   "metadata": {},
   "outputs": [
    {
     "data": {
      "text/html": [
       "<div>\n",
       "<style scoped>\n",
       "    .dataframe tbody tr th:only-of-type {\n",
       "        vertical-align: middle;\n",
       "    }\n",
       "\n",
       "    .dataframe tbody tr th {\n",
       "        vertical-align: top;\n",
       "    }\n",
       "\n",
       "    .dataframe thead th {\n",
       "        text-align: right;\n",
       "    }\n",
       "</style>\n",
       "<table border=\"1\" class=\"dataframe\">\n",
       "  <thead>\n",
       "    <tr style=\"text-align: right;\">\n",
       "      <th></th>\n",
       "      <th>Average Degree</th>\n",
       "      <th>Average Distance</th>\n",
       "      <th>Density</th>\n",
       "      <th>Transitivity</th>\n",
       "      <th>Assortativity</th>\n",
       "      <th>Diameter</th>\n",
       "      <th>Efficiency</th>\n",
       "      <th>DegreeDistributionExp</th>\n",
       "    </tr>\n",
       "  </thead>\n",
       "  <tbody>\n",
       "    <tr>\n",
       "      <th>Dolphins</th>\n",
       "      <td>5.12</td>\n",
       "      <td>3.350</td>\n",
       "      <td>0.0840</td>\n",
       "      <td>0.308</td>\n",
       "      <td>-0.043</td>\n",
       "      <td>8</td>\n",
       "      <td>0.3790</td>\n",
       "      <td>1.470</td>\n",
       "    </tr>\n",
       "    <tr>\n",
       "      <th>Reptiles</th>\n",
       "      <td>3.96</td>\n",
       "      <td>7.930</td>\n",
       "      <td>0.0080</td>\n",
       "      <td>0.419</td>\n",
       "      <td>0.345</td>\n",
       "      <td>21</td>\n",
       "      <td>0.1550</td>\n",
       "      <td>2.120</td>\n",
       "    </tr>\n",
       "    <tr>\n",
       "      <th>E. coli Trans</th>\n",
       "      <td>2.77</td>\n",
       "      <td>4.840</td>\n",
       "      <td>0.0080</td>\n",
       "      <td>0.023</td>\n",
       "      <td>-0.263</td>\n",
       "      <td>13</td>\n",
       "      <td>0.2450</td>\n",
       "      <td>2.295</td>\n",
       "    </tr>\n",
       "    <tr>\n",
       "      <th>Human Protein</th>\n",
       "      <td>5.78</td>\n",
       "      <td>3.840</td>\n",
       "      <td>0.0020</td>\n",
       "      <td>0.007</td>\n",
       "      <td>-0.331</td>\n",
       "      <td>10</td>\n",
       "      <td>0.2810</td>\n",
       "      <td>2.240</td>\n",
       "    </tr>\n",
       "    <tr>\n",
       "      <th>Mouse Visual Cortex</th>\n",
       "      <td>2.21</td>\n",
       "      <td>4.270</td>\n",
       "      <td>0.0150</td>\n",
       "      <td>0.004</td>\n",
       "      <td>-0.844</td>\n",
       "      <td>8</td>\n",
       "      <td>0.2710</td>\n",
       "      <td>2.060</td>\n",
       "    </tr>\n",
       "    <tr>\n",
       "      <th>Yeast Protein</th>\n",
       "      <td>2.73</td>\n",
       "      <td>6.810</td>\n",
       "      <td>0.0010</td>\n",
       "      <td>0.051</td>\n",
       "      <td>-0.207</td>\n",
       "      <td>19</td>\n",
       "      <td>0.1630</td>\n",
       "      <td>2.185</td>\n",
       "    </tr>\n",
       "    <tr>\n",
       "      <th>AstroPh</th>\n",
       "      <td>22.00</td>\n",
       "      <td>4.180</td>\n",
       "      <td>0.0010</td>\n",
       "      <td>0.317</td>\n",
       "      <td>0.201</td>\n",
       "      <td>14</td>\n",
       "      <td>0.2550</td>\n",
       "      <td>2.891</td>\n",
       "    </tr>\n",
       "    <tr>\n",
       "      <th>CS PhD</th>\n",
       "      <td>2.03</td>\n",
       "      <td>11.740</td>\n",
       "      <td>0.0010</td>\n",
       "      <td>0.002</td>\n",
       "      <td>-0.253</td>\n",
       "      <td>28</td>\n",
       "      <td>0.1050</td>\n",
       "      <td>1.928</td>\n",
       "    </tr>\n",
       "    <tr>\n",
       "      <th>GrQc</th>\n",
       "      <td>6.45</td>\n",
       "      <td>6.040</td>\n",
       "      <td>0.0010</td>\n",
       "      <td>0.628</td>\n",
       "      <td>0.639</td>\n",
       "      <td>17</td>\n",
       "      <td>0.1790</td>\n",
       "      <td>2.042</td>\n",
       "    </tr>\n",
       "    <tr>\n",
       "      <th>NetSci</th>\n",
       "      <td>4.83</td>\n",
       "      <td>6.040</td>\n",
       "      <td>0.0120</td>\n",
       "      <td>0.430</td>\n",
       "      <td>-0.081</td>\n",
       "      <td>17</td>\n",
       "      <td>0.2030</td>\n",
       "      <td>2.386</td>\n",
       "    </tr>\n",
       "    <tr>\n",
       "      <th>Adolescent Health</th>\n",
       "      <td>8.23</td>\n",
       "      <td>4.550</td>\n",
       "      <td>0.0030</td>\n",
       "      <td>0.141</td>\n",
       "      <td>0.251</td>\n",
       "      <td>10</td>\n",
       "      <td>0.2340</td>\n",
       "      <td>1.876</td>\n",
       "    </tr>\n",
       "    <tr>\n",
       "      <th>Jazz</th>\n",
       "      <td>27.69</td>\n",
       "      <td>2.230</td>\n",
       "      <td>0.1400</td>\n",
       "      <td>0.520</td>\n",
       "      <td>0.020</td>\n",
       "      <td>6</td>\n",
       "      <td>0.5130</td>\n",
       "      <td>1.447</td>\n",
       "    </tr>\n",
       "    <tr>\n",
       "      <th>Zachary Karate Club</th>\n",
       "      <td>4.58</td>\n",
       "      <td>2.400</td>\n",
       "      <td>0.1390</td>\n",
       "      <td>0.255</td>\n",
       "      <td>-0.475</td>\n",
       "      <td>5</td>\n",
       "      <td>0.4920</td>\n",
       "      <td>2.094</td>\n",
       "    </tr>\n",
       "    <tr>\n",
       "      <th>Madrid Train Bombings</th>\n",
       "      <td>7.59</td>\n",
       "      <td>2.690</td>\n",
       "      <td>0.1200</td>\n",
       "      <td>0.561</td>\n",
       "      <td>0.029</td>\n",
       "      <td>6</td>\n",
       "      <td>0.4480</td>\n",
       "      <td>1.425</td>\n",
       "    </tr>\n",
       "    <tr>\n",
       "      <th>EuroRoads</th>\n",
       "      <td>2.51</td>\n",
       "      <td>18.390</td>\n",
       "      <td>0.0020</td>\n",
       "      <td>0.035</td>\n",
       "      <td>0.090</td>\n",
       "      <td>62</td>\n",
       "      <td>0.0700</td>\n",
       "      <td>1.660</td>\n",
       "    </tr>\n",
       "    <tr>\n",
       "      <th>US Airports</th>\n",
       "      <td>11.92</td>\n",
       "      <td>2.990</td>\n",
       "      <td>0.0230</td>\n",
       "      <td>0.351</td>\n",
       "      <td>-0.267</td>\n",
       "      <td>7</td>\n",
       "      <td>0.3710</td>\n",
       "      <td>1.702</td>\n",
       "    </tr>\n",
       "    <tr>\n",
       "      <th>US Power Grids</th>\n",
       "      <td>2.66</td>\n",
       "      <td>18.980</td>\n",
       "      <td>0.0050</td>\n",
       "      <td>0.103</td>\n",
       "      <td>0.003</td>\n",
       "      <td>46</td>\n",
       "      <td>0.0620</td>\n",
       "      <td>1.669</td>\n",
       "    </tr>\n",
       "    <tr>\n",
       "      <th>US States</th>\n",
       "      <td>4.36</td>\n",
       "      <td>4.160</td>\n",
       "      <td>0.0900</td>\n",
       "      <td>0.406</td>\n",
       "      <td>0.233</td>\n",
       "      <td>11</td>\n",
       "      <td>0.3380</td>\n",
       "      <td>1.478</td>\n",
       "    </tr>\n",
       "    <tr>\n",
       "      <th>Football</th>\n",
       "      <td>10.66</td>\n",
       "      <td>2.500</td>\n",
       "      <td>0.0930</td>\n",
       "      <td>0.407</td>\n",
       "      <td>0.162</td>\n",
       "      <td>4</td>\n",
       "      <td>0.4500</td>\n",
       "      <td>1.327</td>\n",
       "    </tr>\n",
       "    <tr>\n",
       "      <th>Internet AS.</th>\n",
       "      <td>3.88</td>\n",
       "      <td>3.700</td>\n",
       "      <td>0.0006</td>\n",
       "      <td>0.009</td>\n",
       "      <td>-0.181</td>\n",
       "      <td>9</td>\n",
       "      <td>0.2900</td>\n",
       "      <td>2.356</td>\n",
       "    </tr>\n",
       "    <tr>\n",
       "      <th>Les Misérables</th>\n",
       "      <td>6.59</td>\n",
       "      <td>2.640</td>\n",
       "      <td>0.0860</td>\n",
       "      <td>0.498</td>\n",
       "      <td>-0.165</td>\n",
       "      <td>5</td>\n",
       "      <td>0.4350</td>\n",
       "      <td>1.689</td>\n",
       "    </tr>\n",
       "    <tr>\n",
       "      <th>Pol. Books</th>\n",
       "      <td>8.40</td>\n",
       "      <td>3.070</td>\n",
       "      <td>0.0800</td>\n",
       "      <td>0.348</td>\n",
       "      <td>-0.127</td>\n",
       "      <td>7</td>\n",
       "      <td>0.3970</td>\n",
       "      <td>2.600</td>\n",
       "    </tr>\n",
       "    <tr>\n",
       "      <th>Deezer EU</th>\n",
       "      <td>6.55</td>\n",
       "      <td>6.440</td>\n",
       "      <td>0.0020</td>\n",
       "      <td>0.095</td>\n",
       "      <td>0.104</td>\n",
       "      <td>21</td>\n",
       "      <td>0.1690</td>\n",
       "      <td>2.273</td>\n",
       "    </tr>\n",
       "    <tr>\n",
       "      <th>Ego Facebook</th>\n",
       "      <td>43.69</td>\n",
       "      <td>3.690</td>\n",
       "      <td>0.0100</td>\n",
       "      <td>0.519</td>\n",
       "      <td>0.063</td>\n",
       "      <td>8</td>\n",
       "      <td>0.3060</td>\n",
       "      <td>2.291</td>\n",
       "    </tr>\n",
       "    <tr>\n",
       "      <th>Caltech</th>\n",
       "      <td>43.70</td>\n",
       "      <td>2.230</td>\n",
       "      <td>0.0570</td>\n",
       "      <td>0.291</td>\n",
       "      <td>-0.066</td>\n",
       "      <td>6</td>\n",
       "      <td>0.4610</td>\n",
       "      <td>3.005</td>\n",
       "    </tr>\n",
       "    <tr>\n",
       "      <th>Facebook Pol. Pages</th>\n",
       "      <td>14.12</td>\n",
       "      <td>4.660</td>\n",
       "      <td>0.0020</td>\n",
       "      <td>0.301</td>\n",
       "      <td>0.018</td>\n",
       "      <td>14</td>\n",
       "      <td>0.2310</td>\n",
       "      <td>2.664</td>\n",
       "    </tr>\n",
       "    <tr>\n",
       "      <th>Hamsterster</th>\n",
       "      <td>13.49</td>\n",
       "      <td>3.450</td>\n",
       "      <td>0.0070</td>\n",
       "      <td>0.090</td>\n",
       "      <td>-0.088</td>\n",
       "      <td>14</td>\n",
       "      <td>0.3170</td>\n",
       "      <td>1.868</td>\n",
       "    </tr>\n",
       "    <tr>\n",
       "      <th>PGP</th>\n",
       "      <td>4.55</td>\n",
       "      <td>7.480</td>\n",
       "      <td>0.0004</td>\n",
       "      <td>0.378</td>\n",
       "      <td>0.238</td>\n",
       "      <td>24</td>\n",
       "      <td>0.1470</td>\n",
       "      <td>2.804</td>\n",
       "    </tr>\n",
       "    <tr>\n",
       "      <th>Princeton</th>\n",
       "      <td>89.21</td>\n",
       "      <td>2.670</td>\n",
       "      <td>0.0130</td>\n",
       "      <td>0.163</td>\n",
       "      <td>0.090</td>\n",
       "      <td>9</td>\n",
       "      <td>0.4000</td>\n",
       "      <td>3.046</td>\n",
       "    </tr>\n",
       "    <tr>\n",
       "      <th>Retweets</th>\n",
       "      <td>2.70</td>\n",
       "      <td>5.350</td>\n",
       "      <td>0.0030</td>\n",
       "      <td>0.060</td>\n",
       "      <td>-0.099</td>\n",
       "      <td>14</td>\n",
       "      <td>0.2080</td>\n",
       "      <td>2.178</td>\n",
       "    </tr>\n",
       "    <tr>\n",
       "      <th>BlumenauDrug</th>\n",
       "      <td>4.83</td>\n",
       "      <td>2.810</td>\n",
       "      <td>0.0650</td>\n",
       "      <td>0.108</td>\n",
       "      <td>-0.314</td>\n",
       "      <td>6</td>\n",
       "      <td>0.4060</td>\n",
       "      <td>2.437</td>\n",
       "    </tr>\n",
       "    <tr>\n",
       "      <th>BudapestConnectome</th>\n",
       "      <td>139.22</td>\n",
       "      <td>2.218</td>\n",
       "      <td>0.1370</td>\n",
       "      <td>0.557</td>\n",
       "      <td>0.215</td>\n",
       "      <td>5</td>\n",
       "      <td>0.5001</td>\n",
       "      <td>1.696</td>\n",
       "    </tr>\n",
       "    <tr>\n",
       "      <th>YeastCollins</th>\n",
       "      <td>16.57</td>\n",
       "      <td>5.550</td>\n",
       "      <td>0.0160</td>\n",
       "      <td>0.617</td>\n",
       "      <td>0.556</td>\n",
       "      <td>15</td>\n",
       "      <td>0.2200</td>\n",
       "      <td>2.120</td>\n",
       "    </tr>\n",
       "    <tr>\n",
       "      <th>InteractomeVidal</th>\n",
       "      <td>4.32</td>\n",
       "      <td>4.830</td>\n",
       "      <td>0.0015</td>\n",
       "      <td>0.035</td>\n",
       "      <td>-0.136</td>\n",
       "      <td>13</td>\n",
       "      <td>0.2220</td>\n",
       "      <td>2.192</td>\n",
       "    </tr>\n",
       "    <tr>\n",
       "      <th>MalariaGenes</th>\n",
       "      <td>18.31</td>\n",
       "      <td>3.510</td>\n",
       "      <td>0.0590</td>\n",
       "      <td>0.586</td>\n",
       "      <td>0.599</td>\n",
       "      <td>8</td>\n",
       "      <td>0.3480</td>\n",
       "      <td>2.443</td>\n",
       "    </tr>\n",
       "    <tr>\n",
       "      <th>KeggMetabolic</th>\n",
       "      <td>6.18</td>\n",
       "      <td>3.110</td>\n",
       "      <td>0.0030</td>\n",
       "      <td>0.029</td>\n",
       "      <td>-0.224</td>\n",
       "      <td>8</td>\n",
       "      <td>0.3420</td>\n",
       "      <td>2.331</td>\n",
       "    </tr>\n",
       "    <tr>\n",
       "      <th>NewZealand</th>\n",
       "      <td>5.80</td>\n",
       "      <td>2.750</td>\n",
       "      <td>0.0040</td>\n",
       "      <td>0.063</td>\n",
       "      <td>-0.339</td>\n",
       "      <td>6</td>\n",
       "      <td>0.3810</td>\n",
       "      <td>2.112</td>\n",
       "    </tr>\n",
       "    <tr>\n",
       "      <th>EUAirlines</th>\n",
       "      <td>14.16</td>\n",
       "      <td>2.760</td>\n",
       "      <td>0.0340</td>\n",
       "      <td>0.303</td>\n",
       "      <td>-0.151</td>\n",
       "      <td>7</td>\n",
       "      <td>0.4000</td>\n",
       "      <td>2.061</td>\n",
       "    </tr>\n",
       "    <tr>\n",
       "      <th>InternetTopCogentco</th>\n",
       "      <td>2.46</td>\n",
       "      <td>10.510</td>\n",
       "      <td>0.0120</td>\n",
       "      <td>0.019</td>\n",
       "      <td>0.027</td>\n",
       "      <td>28</td>\n",
       "      <td>0.1370</td>\n",
       "      <td>1.660</td>\n",
       "    </tr>\n",
       "    <tr>\n",
       "      <th>LondonTransport</th>\n",
       "      <td>2.33</td>\n",
       "      <td>13.730</td>\n",
       "      <td>0.0060</td>\n",
       "      <td>0.051</td>\n",
       "      <td>0.137</td>\n",
       "      <td>39</td>\n",
       "      <td>0.1010</td>\n",
       "      <td>1.682</td>\n",
       "    </tr>\n",
       "    <tr>\n",
       "      <th>911AllWords</th>\n",
       "      <td>22.24</td>\n",
       "      <td>3.124</td>\n",
       "      <td>0.0016</td>\n",
       "      <td>0.106</td>\n",
       "      <td>-0.108</td>\n",
       "      <td>10</td>\n",
       "      <td>0.3340</td>\n",
       "      <td>2.023</td>\n",
       "    </tr>\n",
       "    <tr>\n",
       "      <th>MovieGalaxies</th>\n",
       "      <td>5.98</td>\n",
       "      <td>2.060</td>\n",
       "      <td>0.0550</td>\n",
       "      <td>0.162</td>\n",
       "      <td>-0.359</td>\n",
       "      <td>3</td>\n",
       "      <td>0.5080</td>\n",
       "      <td>2.392</td>\n",
       "    </tr>\n",
       "    <tr>\n",
       "      <th>BibleNouns</th>\n",
       "      <td>10.61</td>\n",
       "      <td>3.375</td>\n",
       "      <td>0.0060</td>\n",
       "      <td>0.162</td>\n",
       "      <td>-0.051</td>\n",
       "      <td>8</td>\n",
       "      <td>0.3190</td>\n",
       "      <td>2.134</td>\n",
       "    </tr>\n",
       "    <tr>\n",
       "      <th>BoardDirectors</th>\n",
       "      <td>6.43</td>\n",
       "      <td>6.670</td>\n",
       "      <td>0.0070</td>\n",
       "      <td>0.624</td>\n",
       "      <td>0.051</td>\n",
       "      <td>17</td>\n",
       "      <td>0.1760</td>\n",
       "      <td>2.150</td>\n",
       "    </tr>\n",
       "    <tr>\n",
       "      <th>DNCEmails</th>\n",
       "      <td>24.46</td>\n",
       "      <td>2.760</td>\n",
       "      <td>0.0280</td>\n",
       "      <td>0.548</td>\n",
       "      <td>-0.133</td>\n",
       "      <td>8</td>\n",
       "      <td>0.3990</td>\n",
       "      <td>1.417</td>\n",
       "    </tr>\n",
       "    <tr>\n",
       "      <th>GoT</th>\n",
       "      <td>6.58</td>\n",
       "      <td>2.900</td>\n",
       "      <td>0.0620</td>\n",
       "      <td>0.328</td>\n",
       "      <td>-0.130</td>\n",
       "      <td>6</td>\n",
       "      <td>0.3980</td>\n",
       "      <td>2.022</td>\n",
       "    </tr>\n",
       "    <tr>\n",
       "      <th>MarvelPartnerships</th>\n",
       "      <td>2.47</td>\n",
       "      <td>7.920</td>\n",
       "      <td>0.0130</td>\n",
       "      <td>0.216</td>\n",
       "      <td>-0.206</td>\n",
       "      <td>21</td>\n",
       "      <td>0.1670</td>\n",
       "      <td>1.724</td>\n",
       "    </tr>\n",
       "    <tr>\n",
       "      <th>FacebookFriends</th>\n",
       "      <td>11.87</td>\n",
       "      <td>3.580</td>\n",
       "      <td>0.0360</td>\n",
       "      <td>0.512</td>\n",
       "      <td>0.073</td>\n",
       "      <td>9</td>\n",
       "      <td>0.3260</td>\n",
       "      <td>2.015</td>\n",
       "    </tr>\n",
       "    <tr>\n",
       "      <th>FacebookOrganizations</th>\n",
       "      <td>34.11</td>\n",
       "      <td>3.500</td>\n",
       "      <td>0.0060</td>\n",
       "      <td>0.222</td>\n",
       "      <td>0.103</td>\n",
       "      <td>9</td>\n",
       "      <td>0.3120</td>\n",
       "      <td>2.279</td>\n",
       "    </tr>\n",
       "    <tr>\n",
       "      <th>DBLPCite</th>\n",
       "      <td>7.93</td>\n",
       "      <td>4.210</td>\n",
       "      <td>0.0006</td>\n",
       "      <td>0.062</td>\n",
       "      <td>-0.046</td>\n",
       "      <td>10</td>\n",
       "      <td>0.2400</td>\n",
       "      <td>2.324</td>\n",
       "    </tr>\n",
       "  </tbody>\n",
       "</table>\n",
       "</div>"
      ],
      "text/plain": [
       "                       Average Degree  Average Distance  Density  \\\n",
       "Dolphins                         5.12             3.350   0.0840   \n",
       "Reptiles                         3.96             7.930   0.0080   \n",
       "E. coli Trans                    2.77             4.840   0.0080   \n",
       "Human Protein                    5.78             3.840   0.0020   \n",
       "Mouse Visual Cortex              2.21             4.270   0.0150   \n",
       "Yeast Protein                    2.73             6.810   0.0010   \n",
       "AstroPh                         22.00             4.180   0.0010   \n",
       "CS PhD                           2.03            11.740   0.0010   \n",
       "GrQc                             6.45             6.040   0.0010   \n",
       "NetSci                           4.83             6.040   0.0120   \n",
       "Adolescent Health                8.23             4.550   0.0030   \n",
       "Jazz                            27.69             2.230   0.1400   \n",
       "Zachary Karate Club              4.58             2.400   0.1390   \n",
       "Madrid Train Bombings            7.59             2.690   0.1200   \n",
       "EuroRoads                        2.51            18.390   0.0020   \n",
       "US Airports                     11.92             2.990   0.0230   \n",
       "US Power Grids                   2.66            18.980   0.0050   \n",
       "US States                        4.36             4.160   0.0900   \n",
       "Football                        10.66             2.500   0.0930   \n",
       "Internet AS.                     3.88             3.700   0.0006   \n",
       "Les Misérables                   6.59             2.640   0.0860   \n",
       "Pol. Books                       8.40             3.070   0.0800   \n",
       "Deezer EU                        6.55             6.440   0.0020   \n",
       "Ego Facebook                    43.69             3.690   0.0100   \n",
       "Caltech                         43.70             2.230   0.0570   \n",
       "Facebook Pol. Pages             14.12             4.660   0.0020   \n",
       "Hamsterster                     13.49             3.450   0.0070   \n",
       "PGP                              4.55             7.480   0.0004   \n",
       "Princeton                       89.21             2.670   0.0130   \n",
       "Retweets                         2.70             5.350   0.0030   \n",
       "BlumenauDrug                     4.83             2.810   0.0650   \n",
       "BudapestConnectome             139.22             2.218   0.1370   \n",
       "YeastCollins                    16.57             5.550   0.0160   \n",
       "InteractomeVidal                 4.32             4.830   0.0015   \n",
       "MalariaGenes                    18.31             3.510   0.0590   \n",
       "KeggMetabolic                    6.18             3.110   0.0030   \n",
       "NewZealand                       5.80             2.750   0.0040   \n",
       "EUAirlines                      14.16             2.760   0.0340   \n",
       "InternetTopCogentco              2.46            10.510   0.0120   \n",
       "LondonTransport                  2.33            13.730   0.0060   \n",
       "911AllWords                     22.24             3.124   0.0016   \n",
       "MovieGalaxies                    5.98             2.060   0.0550   \n",
       "BibleNouns                      10.61             3.375   0.0060   \n",
       "BoardDirectors                   6.43             6.670   0.0070   \n",
       "DNCEmails                       24.46             2.760   0.0280   \n",
       "GoT                              6.58             2.900   0.0620   \n",
       "MarvelPartnerships               2.47             7.920   0.0130   \n",
       "FacebookFriends                 11.87             3.580   0.0360   \n",
       "FacebookOrganizations           34.11             3.500   0.0060   \n",
       "DBLPCite                         7.93             4.210   0.0006   \n",
       "\n",
       "                       Transitivity  Assortativity  Diameter  Efficiency  \\\n",
       "Dolphins                      0.308         -0.043         8      0.3790   \n",
       "Reptiles                      0.419          0.345        21      0.1550   \n",
       "E. coli Trans                 0.023         -0.263        13      0.2450   \n",
       "Human Protein                 0.007         -0.331        10      0.2810   \n",
       "Mouse Visual Cortex           0.004         -0.844         8      0.2710   \n",
       "Yeast Protein                 0.051         -0.207        19      0.1630   \n",
       "AstroPh                       0.317          0.201        14      0.2550   \n",
       "CS PhD                        0.002         -0.253        28      0.1050   \n",
       "GrQc                          0.628          0.639        17      0.1790   \n",
       "NetSci                        0.430         -0.081        17      0.2030   \n",
       "Adolescent Health             0.141          0.251        10      0.2340   \n",
       "Jazz                          0.520          0.020         6      0.5130   \n",
       "Zachary Karate Club           0.255         -0.475         5      0.4920   \n",
       "Madrid Train Bombings         0.561          0.029         6      0.4480   \n",
       "EuroRoads                     0.035          0.090        62      0.0700   \n",
       "US Airports                   0.351         -0.267         7      0.3710   \n",
       "US Power Grids                0.103          0.003        46      0.0620   \n",
       "US States                     0.406          0.233        11      0.3380   \n",
       "Football                      0.407          0.162         4      0.4500   \n",
       "Internet AS.                  0.009         -0.181         9      0.2900   \n",
       "Les Misérables                0.498         -0.165         5      0.4350   \n",
       "Pol. Books                    0.348         -0.127         7      0.3970   \n",
       "Deezer EU                     0.095          0.104        21      0.1690   \n",
       "Ego Facebook                  0.519          0.063         8      0.3060   \n",
       "Caltech                       0.291         -0.066         6      0.4610   \n",
       "Facebook Pol. Pages           0.301          0.018        14      0.2310   \n",
       "Hamsterster                   0.090         -0.088        14      0.3170   \n",
       "PGP                           0.378          0.238        24      0.1470   \n",
       "Princeton                     0.163          0.090         9      0.4000   \n",
       "Retweets                      0.060         -0.099        14      0.2080   \n",
       "BlumenauDrug                  0.108         -0.314         6      0.4060   \n",
       "BudapestConnectome            0.557          0.215         5      0.5001   \n",
       "YeastCollins                  0.617          0.556        15      0.2200   \n",
       "InteractomeVidal              0.035         -0.136        13      0.2220   \n",
       "MalariaGenes                  0.586          0.599         8      0.3480   \n",
       "KeggMetabolic                 0.029         -0.224         8      0.3420   \n",
       "NewZealand                    0.063         -0.339         6      0.3810   \n",
       "EUAirlines                    0.303         -0.151         7      0.4000   \n",
       "InternetTopCogentco           0.019          0.027        28      0.1370   \n",
       "LondonTransport               0.051          0.137        39      0.1010   \n",
       "911AllWords                   0.106         -0.108        10      0.3340   \n",
       "MovieGalaxies                 0.162         -0.359         3      0.5080   \n",
       "BibleNouns                    0.162         -0.051         8      0.3190   \n",
       "BoardDirectors                0.624          0.051        17      0.1760   \n",
       "DNCEmails                     0.548         -0.133         8      0.3990   \n",
       "GoT                           0.328         -0.130         6      0.3980   \n",
       "MarvelPartnerships            0.216         -0.206        21      0.1670   \n",
       "FacebookFriends               0.512          0.073         9      0.3260   \n",
       "FacebookOrganizations         0.222          0.103         9      0.3120   \n",
       "DBLPCite                      0.062         -0.046        10      0.2400   \n",
       "\n",
       "                       DegreeDistributionExp  \n",
       "Dolphins                               1.470  \n",
       "Reptiles                               2.120  \n",
       "E. coli Trans                          2.295  \n",
       "Human Protein                          2.240  \n",
       "Mouse Visual Cortex                    2.060  \n",
       "Yeast Protein                          2.185  \n",
       "AstroPh                                2.891  \n",
       "CS PhD                                 1.928  \n",
       "GrQc                                   2.042  \n",
       "NetSci                                 2.386  \n",
       "Adolescent Health                      1.876  \n",
       "Jazz                                   1.447  \n",
       "Zachary Karate Club                    2.094  \n",
       "Madrid Train Bombings                  1.425  \n",
       "EuroRoads                              1.660  \n",
       "US Airports                            1.702  \n",
       "US Power Grids                         1.669  \n",
       "US States                              1.478  \n",
       "Football                               1.327  \n",
       "Internet AS.                           2.356  \n",
       "Les Misérables                         1.689  \n",
       "Pol. Books                             2.600  \n",
       "Deezer EU                              2.273  \n",
       "Ego Facebook                           2.291  \n",
       "Caltech                                3.005  \n",
       "Facebook Pol. Pages                    2.664  \n",
       "Hamsterster                            1.868  \n",
       "PGP                                    2.804  \n",
       "Princeton                              3.046  \n",
       "Retweets                               2.178  \n",
       "BlumenauDrug                           2.437  \n",
       "BudapestConnectome                     1.696  \n",
       "YeastCollins                           2.120  \n",
       "InteractomeVidal                       2.192  \n",
       "MalariaGenes                           2.443  \n",
       "KeggMetabolic                          2.331  \n",
       "NewZealand                             2.112  \n",
       "EUAirlines                             2.061  \n",
       "InternetTopCogentco                    1.660  \n",
       "LondonTransport                        1.682  \n",
       "911AllWords                            2.023  \n",
       "MovieGalaxies                          2.392  \n",
       "BibleNouns                             2.134  \n",
       "BoardDirectors                         2.150  \n",
       "DNCEmails                              1.417  \n",
       "GoT                                    2.022  \n",
       "MarvelPartnerships                     1.724  \n",
       "FacebookFriends                        2.015  \n",
       "FacebookOrganizations                  2.279  \n",
       "DBLPCite                               2.324  "
      ]
     },
     "execution_count": 62,
     "metadata": {},
     "output_type": "execute_result"
    }
   ],
   "source": [
    "# Animals - Dolphins\n",
    "dolphins_feature_vector = [5.12,\n",
    "                           3.35,\n",
    "                           0.084,\n",
    "                           0.308,\n",
    "                           -0.043,\n",
    "                           8,\n",
    "                           0.379,\n",
    "                           1.470\n",
    "                          ]\n",
    "                           \n",
    "\n",
    "# Animals - Reptiles\n",
    "reptiles_feature_vector = [3.96,\n",
    "                          7.93,\n",
    "                          0.008,\n",
    "                          0.419,\n",
    "                          0.345,\n",
    "                          21,\n",
    "                          0.155,\n",
    "                          2.12]\n",
    "\n",
    "# Bio - Ecoli\n",
    "ecoli_feature_vector = [2.77,\n",
    "                       4.84,\n",
    "                       0.008,\n",
    "                       0.023,\n",
    "                       -0.263,\n",
    "                       13,\n",
    "                       0.245,\n",
    "                       2.295]\n",
    "\n",
    "# Bio - Human Protein\n",
    "humanprotein_feature_vector = [5.78,\n",
    "                              3.84,\n",
    "                              0.002,\n",
    "                              0.007,\n",
    "                              -0.331,\n",
    "                              10,\n",
    "                              0.281,\n",
    "                              2.240]\n",
    "\n",
    "# Bio - Mouse Visual Cortex\n",
    "mousevisualcortex_feature_vector = [2.21,\n",
    "                                   4.27,\n",
    "                                   0.015,\n",
    "                                   0.004,\n",
    "                                   -0.844,\n",
    "                                   8,\n",
    "                                   0.271,\n",
    "                                   2.06]\n",
    "\n",
    "# Bio - Yeast Protein\n",
    "yeastprotein_feature_vector = [2.73,\n",
    "                              6.81,\n",
    "                              0.001,\n",
    "                              0.051,\n",
    "                              -0.207,\n",
    "                              19,\n",
    "                              0.163,\n",
    "                              2.185]\n",
    "\n",
    "# Collab - AstroPh\n",
    "astroph_feature_vector = [22,\n",
    "                         4.18,\n",
    "                         0.001,\n",
    "                         0.317,\n",
    "                         0.201,\n",
    "                         14,\n",
    "                         0.255,\n",
    "                         2.891]\n",
    "\n",
    "# Collab - CS PhD\n",
    "csphd_feature_vector = [2.03,\n",
    "                       11.74,\n",
    "                       0.001,\n",
    "                       0.002,\n",
    "                       -0.253,\n",
    "                       28,\n",
    "                       0.105,\n",
    "                       1.928]\n",
    "\n",
    "# Collab - GrQc\n",
    "grqc_feature_vector = [6.45, \n",
    "                      6.04,\n",
    "                      0.001,\n",
    "                      0.628,\n",
    "                      0.639,\n",
    "                      17,\n",
    "                      0.179,\n",
    "                      2.042]\n",
    "\n",
    "# Collab - NetSci\n",
    "netsci_feature_vector = [4.83,\n",
    "                        6.04,\n",
    "                        0.012,\n",
    "                        0.430,\n",
    "                        -0.081,\n",
    "                        17,\n",
    "                        0.203,\n",
    "                        2.386]\n",
    "\n",
    "# Human Social - Adolescent Health\n",
    "adolescenthealth_feature_vector = [8.23,\n",
    "                                  4.55,\n",
    "                                  0.003,\n",
    "                                  0.141,\n",
    "                                  0.251,\n",
    "                                  10,\n",
    "                                  0.234,\n",
    "                                  1.876]\n",
    "\n",
    "# Human Social - Jazz\n",
    "jazz_feature_vector = [27.69,\n",
    "                      2.23,\n",
    "                      0.140,\n",
    "                      0.520,\n",
    "                      0.020,\n",
    "                      6,\n",
    "                      0.513,\n",
    "                      1.447]\n",
    "\n",
    "# Human Social - Karate\n",
    "karate_feature_vector = [4.58,\n",
    "                        2.40,\n",
    "                        0.139,\n",
    "                        0.255,\n",
    "                        -0.475,\n",
    "                        5,\n",
    "                        0.492,\n",
    "                        2.094]\n",
    "\n",
    "# Human Social - Madrid Train Bombings\n",
    "madridtrainbombings_feature_vector = [7.59,\n",
    "                                     2.69,\n",
    "                                     0.120,\n",
    "                                     0.561,\n",
    "                                     0.029,\n",
    "                                     6,\n",
    "                                     0.448,\n",
    "                                     1.425]\n",
    "\n",
    "# Infra - EuroRoad\n",
    "euroroad_feature_vector = [2.51,\n",
    "                          18.39,\n",
    "                          0.002,\n",
    "                          0.035,\n",
    "                          0.090,\n",
    "                          62,\n",
    "                          0.07,\n",
    "                          1.660]\n",
    "\n",
    "# Infra - US Airports\n",
    "usairports_feature_vector = [11.92,\n",
    "                            2.99,\n",
    "                            0.023,\n",
    "                            0.351,\n",
    "                            -0.267,\n",
    "                            7,\n",
    "                            0.371,\n",
    "                            1.702]\n",
    "\n",
    "# Infra - US Power Grids\n",
    "uspowergrids_feature_vector = [2.66,\n",
    "                              18.98,\n",
    "                              0.005,\n",
    "                              0.103,\n",
    "                              0.003,\n",
    "                              46,\n",
    "                              0.062,\n",
    "                              1.669]\n",
    "\n",
    "# Infra - US States\n",
    "usstates_feature_vector = [4.36,\n",
    "                          4.16,\n",
    "                          0.090,\n",
    "                          0.406,\n",
    "                          0.233,\n",
    "                          11,\n",
    "                          0.338,\n",
    "                          1.478]\n",
    "\n",
    "# Misc - Football\n",
    "football_feature_vector = [10.66,\n",
    "                          2.50,\n",
    "                          0.093,\n",
    "                          0.407,\n",
    "                          0.162,\n",
    "                          4,\n",
    "                          0.450,\n",
    "                          1.327]\n",
    "\n",
    "# Misc - Internet Autonomous Systems\n",
    "internetas_feature_vector = [3.88,\n",
    "                            3.7,\n",
    "                            0.0006,\n",
    "                            0.009,\n",
    "                            -0.181,\n",
    "                            9,\n",
    "                            0.290,\n",
    "                            2.356]\n",
    "\n",
    "# Misc - Les Mis\n",
    "lesmis_feature_vector = [6.59,\n",
    "                        2.64,\n",
    "                        0.086,\n",
    "                        0.498,\n",
    "                        -0.165,\n",
    "                        5,\n",
    "                        0.435,\n",
    "                        1.689]\n",
    "\n",
    "# Misc - PolBooks\n",
    "polbooks_feature_vector = [8.40, \n",
    "                           3.07, \n",
    "                           0.080,\n",
    "                          0.348,\n",
    "                          -0.127,\n",
    "                          7,\n",
    "                          0.397,\n",
    "                          2.60]\n",
    "\n",
    "# OSN - DeezerEU\n",
    "deezereu_feature_vector = [6.55,\n",
    "                          6.44,\n",
    "                          0.002,\n",
    "                          0.095,\n",
    "                          0.104,\n",
    "                          21,\n",
    "                          0.169,\n",
    "                          2.273]\n",
    "\n",
    "# OSN - Ego Facebook\n",
    "egofacebook_feature_vector = [43.69,\n",
    "                             3.69,\n",
    "                             0.010,\n",
    "                             0.519,\n",
    "                             0.063,\n",
    "                             8,\n",
    "                             0.306,\n",
    "                             2.291]\n",
    "\n",
    "# OSN - FB Caltech\n",
    "caltech_feature_vector = [43.70,\n",
    "                         2.23,\n",
    "                         0.057,\n",
    "                         0.291,\n",
    "                         -0.066,\n",
    "                         6,\n",
    "                         0.461,\n",
    "                         3.005]\n",
    "\n",
    "# OSN - FB Politician Pages\n",
    "fbpoliticianpages_feature_vector = [14.12,\n",
    "                                   4.66,\n",
    "                                   0.002,\n",
    "                                   0.301,\n",
    "                                   0.018,\n",
    "                                   14,\n",
    "                                   0.231,\n",
    "                                   2.664]\n",
    "\n",
    "# OSN - Hamsterster\n",
    "hamsterster_feature_vector = [13.49,\n",
    "                             3.45,\n",
    "                             0.007,\n",
    "                             0.090,\n",
    "                             -0.088,\n",
    "                             14,\n",
    "                             0.317,\n",
    "                             1.868]\n",
    "\n",
    "# OSN - PGP\n",
    "pgp_feature_vector = [4.55,\n",
    "                     7.48,\n",
    "                     0.0004,\n",
    "                     0.378,\n",
    "                     0.238,\n",
    "                     24,\n",
    "                     0.147,\n",
    "                     2.804]\n",
    "\n",
    "# OSN - FB Princeton\n",
    "princeton_feature_vector = [89.21,\n",
    "                           2.67,\n",
    "                           0.013,\n",
    "                           0.163,\n",
    "                           0.090,\n",
    "                           9,\n",
    "                           0.4,\n",
    "                           3.046]\n",
    "\n",
    "# OSN - Twitter\n",
    "twitter_feature_vector = [2.7, \n",
    "                          5.35, \n",
    "                          0.003, \n",
    "                          0.060, \n",
    "                          -0.099, \n",
    "                          14, \n",
    "                          0.208,\n",
    "                         2.178]\n",
    "\n",
    "# Additions Credibility\n",
    "# Bio - BlumenauDrug\n",
    "blumenaudrug_feature_vector = [4.83,\n",
    "                              2.81,\n",
    "                              0.065,\n",
    "                              0.108,\n",
    "                              -0.314,\n",
    "                              6,\n",
    "                              0.406,\n",
    "                              2.437]\n",
    "\n",
    "# Bio - BudapestConnectome\n",
    "budapestconnectome_feature_vector = [139.22,\n",
    "                                    2.218,\n",
    "                                    0.137,\n",
    "                                    0.557,\n",
    "                                    0.215,\n",
    "                                    5,\n",
    "                                    0.5001,\n",
    "                                    1.696]\n",
    "\n",
    "# Bio - YeastCollins\n",
    "yeastcollins_feature_vector = [16.57,\n",
    "                              5.55,\n",
    "                              0.016,\n",
    "                              0.617,\n",
    "                              0.556,\n",
    "                              15,\n",
    "                            0.220,\n",
    "                               2.120\n",
    "                              ]\n",
    "\n",
    "# Bio - InteractomeVidal\n",
    "interactomevidal_feature_vector = [4.32,\n",
    "                                  4.83,\n",
    "                                  0.0015,\n",
    "                                  0.035,\n",
    "                                  -0.136,\n",
    "                                  13,\n",
    "                                  0.222,\n",
    "                                  2.192]\n",
    "\n",
    "# Bio - MalariaGenes\n",
    "malariagenes_feature_vector = [18.31,\n",
    "                              3.51,\n",
    "                              0.059,\n",
    "                              0.586,\n",
    "                              0.599,\n",
    "                              8,\n",
    "                              0.348,\n",
    "                              2.443]\n",
    "\n",
    "\n",
    "# Bio - KeggMetabolic\n",
    "keggmetabolic_feature_vector = [6.18,\n",
    "                               3.11,\n",
    "                               0.003,\n",
    "                               0.029,\n",
    "                               -0.224,\n",
    "                               8,\n",
    "                               0.342,\n",
    "                               2.331]\n",
    "\n",
    "# Collab - NewZealand\n",
    "newzealand_feature_vector = [5.80,\n",
    "                            2.75,\n",
    "                            0.004,\n",
    "                            0.063,\n",
    "                            -0.339,\n",
    "                            6,\n",
    "                            0.381,\n",
    "                            2.112]\n",
    "\n",
    "\n",
    "# Infra - EUAirlines\n",
    "euairlines_feature_vector = [14.16,\n",
    "                            2.76,\n",
    "                            0.034,\n",
    "                            0.303,\n",
    "                            -0.151,\n",
    "                            7,\n",
    "                            0.400,\n",
    "                            2.061]\n",
    "\n",
    "# Infra - InternetTopCogentco\n",
    "internettopcogentco_feature_vector = [2.46,\n",
    "                                     10.51,\n",
    "                                     0.012,\n",
    "                                     0.019,\n",
    "                                     0.027,\n",
    "                                     28,\n",
    "                                     0.137,\n",
    "                                     1.660]\n",
    "\n",
    "# Infra - LondonTransport\n",
    "londontransport_feature_vector = [2.33,\n",
    "                                 13.73,\n",
    "                                 0.006,\n",
    "                                 0.051,\n",
    "                                 0.137,\n",
    "                                 39,\n",
    "                                 0.101,\n",
    "                                 1.682]\n",
    "\n",
    "# Misc - 911AllWords\n",
    "allwords911_feature_vector = [22.24,\n",
    "                             3.124,\n",
    "                             0.0016,\n",
    "                             0.106,\n",
    "                             -0.108,\n",
    "                             10,\n",
    "                             0.334,\n",
    "                             2.023]\n",
    "\n",
    "# Misc - MovieGalaxies\n",
    "moviegalaxies_feature_vector = [5.98,\n",
    "                               2.06,\n",
    "                               0.055,\n",
    "                               0.162,\n",
    "                               -0.359,\n",
    "                               3,\n",
    "                               0.508,\n",
    "                               2.392]\n",
    "\n",
    "# Misc - BibleNouns\n",
    "biblenouns_feature_vector = [10.61,\n",
    "                            3.375,\n",
    "                            0.006,\n",
    "                            0.162,\n",
    "                            -0.051,\n",
    "                            8,\n",
    "                            0.319,\n",
    "                            2.134]\n",
    "# Misc- BoardDirectors\n",
    "boarddirectors_feature_vector = [6.43,\n",
    "                                6.67,\n",
    "                                0.007,\n",
    "                                0.624,\n",
    "                                0.051,\n",
    "                                17,\n",
    "                                0.176,\n",
    "                                2.150]\n",
    "\n",
    "# Misc - DNCEmails\n",
    "dncemails_feature_vector = [24.46,\n",
    "                           2.76,\n",
    "                           0.028,\n",
    "                           0.548,\n",
    "                           -0.133,\n",
    "                           8,\n",
    "                           0.399,\n",
    "                           1.417]\n",
    "\n",
    "# Misc - GoT\n",
    "got_feature_vector = [6.58,\n",
    "                     2.90,\n",
    "                     0.062,\n",
    "                     0.328,\n",
    "                     -0.130,\n",
    "                     6,\n",
    "                     0.398,\n",
    "                     2.022]\n",
    "\n",
    "# Misc - MarvelPartnerships\n",
    "marvelpartnerships_feature_vector = [2.47,\n",
    "                                    7.92,\n",
    "                                    0.013,\n",
    "                                    0.216,\n",
    "                                    -0.206,\n",
    "                                    21,\n",
    "                                    0.167,\n",
    "                                    1.724]\n",
    "\n",
    "# OSN - FacebookFriends\n",
    "facebookfriends_feature_vector = [11.87,\n",
    "                                 3.58,\n",
    "                                 0.036,\n",
    "                                 0.512,\n",
    "                                 0.073,\n",
    "                                 9,\n",
    "                                 0.326,\n",
    "                                 2.015]\n",
    "                                \n",
    "# OSN - FacebookOrganizations\n",
    "facebookorganizations_feature_vector = [34.11,\n",
    "                                       3.50,\n",
    "                                       0.006,\n",
    "                                       0.222,\n",
    "                                       0.103,\n",
    "                                       9,\n",
    "                                       0.312,\n",
    "                                       2.279]\n",
    "\n",
    "# Cite - DBLPCite\n",
    "dblpcite_feature_vector = [7.93,\n",
    "                          4.21,\n",
    "                          0.0006,\n",
    "                          0.062,\n",
    "                          -0.046,\n",
    "                          10,\n",
    "                          0.240, \n",
    "                          2.324]\n",
    "\n",
    "\n",
    "labels = [\"Dolphins\", \n",
    "          \"Reptiles\", \n",
    "          \"E. coli Trans\", \n",
    "          \"Human Protein\",  \n",
    "          \"Mouse Visual Cortex\", \n",
    "          \"Yeast Protein\",\n",
    "          \"AstroPh\",\n",
    "          \"CS PhD\",\n",
    "          \"GrQc\",\n",
    "          \"NetSci\",\n",
    "          \"Adolescent Health\",\n",
    "          \"Jazz\",\n",
    "          \"Zachary Karate Club\",\n",
    "          \"Madrid Train Bombings\",\n",
    "          \"EuroRoads\",\n",
    "          \"US Airports\",\n",
    "          \"US Power Grids\",\n",
    "          \"US States\",\n",
    "          \"Football\",\n",
    "          \"Internet AS.\",\n",
    "          \"Les Misérables\",\n",
    "          \"Pol. Books\",\n",
    "          \"Deezer EU\",\n",
    "          \"Ego Facebook\",\n",
    "          \"Caltech\",\n",
    "          \"Facebook Pol. Pages\",\n",
    "          \"Hamsterster\",\n",
    "          \"PGP\",\n",
    "          \"Princeton\",\n",
    "          \"Retweets\",\n",
    "          \"BlumenauDrug\",\n",
    "          \"BudapestConnectome\",\n",
    "          \"YeastCollins\",\n",
    "          \"InteractomeVidal\",\n",
    "          \"MalariaGenes\",\n",
    "          \"KeggMetabolic\",\n",
    "          \"NewZealand\",\n",
    "          \"EUAirlines\",\n",
    "          \"InternetTopCogentco\",\n",
    "          \"LondonTransport\",\n",
    "          \"911AllWords\",\n",
    "          \"MovieGalaxies\",\n",
    "          \"BibleNouns\",\n",
    "          \"BoardDirectors\",\n",
    "          \"DNCEmails\",\n",
    "          \"GoT\",\n",
    "          \"MarvelPartnerships\",\n",
    "          \"FacebookFriends\",\n",
    "          \"FacebookOrganizations\",\n",
    "          \"DBLPCite\"\n",
    "         ]\n",
    "\n",
    "len(labels)\n",
    "\n",
    "import pandas as pd\n",
    "\n",
    "d1 = dolphins_feature_vector\n",
    "d2 = reptiles_feature_vector\n",
    "d3 = ecoli_feature_vector\n",
    "d4 = humanprotein_feature_vector\n",
    "d5 = mousevisualcortex_feature_vector\n",
    "d6 = yeastprotein_feature_vector\n",
    "d7 = astroph_feature_vector\n",
    "d8 = csphd_feature_vector\n",
    "d9 = grqc_feature_vector\n",
    "d10 = netsci_feature_vector\n",
    "d11 = adolescenthealth_feature_vector\n",
    "d12 = jazz_feature_vector\n",
    "d13 = karate_feature_vector\n",
    "d14 = madridtrainbombings_feature_vector\n",
    "d15 = euroroad_feature_vector\n",
    "d16 = usairports_feature_vector\n",
    "d17 = uspowergrids_feature_vector\n",
    "d18 = usstates_feature_vector\n",
    "d19 = football_feature_vector\n",
    "d20 = internetas_feature_vector\n",
    "d21 = lesmis_feature_vector\n",
    "d22 = polbooks_feature_vector\n",
    "d23 = deezereu_feature_vector\n",
    "d24 = egofacebook_feature_vector\n",
    "d25 = caltech_feature_vector\n",
    "d26 = fbpoliticianpages_feature_vector\n",
    "d27 = hamsterster_feature_vector\n",
    "d28 = pgp_feature_vector\n",
    "d29 = princeton_feature_vector\n",
    "d30 = twitter_feature_vector\n",
    "d31 = blumenaudrug_feature_vector\n",
    "d32 = budapestconnectome_feature_vector\n",
    "d33 = yeastcollins_feature_vector\n",
    "d34 = interactomevidal_feature_vector\n",
    "d35 = malariagenes_feature_vector\n",
    "d36 = keggmetabolic_feature_vector\n",
    "d37 = newzealand_feature_vector\n",
    "d38 = euairlines_feature_vector\n",
    "d39 = internettopcogentco_feature_vector\n",
    "d40 = londontransport_feature_vector\n",
    "d41 = allwords911_feature_vector\n",
    "d42 = moviegalaxies_feature_vector\n",
    "d43 = biblenouns_feature_vector\n",
    "d44 = boarddirectors_feature_vector\n",
    "d45 = dncemails_feature_vector\n",
    "d46 = got_feature_vector\n",
    "d47 = marvelpartnerships_feature_vector\n",
    "d48 = facebookfriends_feature_vector\n",
    "d49 = facebookorganizations_feature_vector\n",
    "d50 = dblpcite_feature_vector\n",
    "\n",
    "df_macro = pd.DataFrame([d1, d2, d3, d4, d5, d6, d7, d8, d9, d10, d11, d12, d13, d14, d15, d16, d17, d18, d19, d20, d21, d22, d23,\n",
    "                  d24, d25, d26, d27, d28, d29, d30, d31, d32, d33, d34, d35,\n",
    "                         d36, d37, d38, d39, d40, d41, d42, d43, d44, \n",
    "                         d45, d46, d47, d48, d49, d50],\n",
    "                 columns = [\"Average Degree\",\n",
    "                            \"Average Distance\",\n",
    "                            \"Density\",\n",
    "                            \"Transitivity\",\n",
    "                            \"Assortativity\",\n",
    "                            \"Diameter\",\n",
    "                            \"Efficiency\",\n",
    "                            \"DegreeDistributionExp\"])\n",
    "\n",
    "df_macro.rename(index={\n",
    "          0:\"Dolphins\", \n",
    "          1:\"Reptiles\", \n",
    "          2:\"E. coli Trans\", \n",
    "          3:\"Human Protein\",  \n",
    "          4:\"Mouse Visual Cortex\", \n",
    "          5:\"Yeast Protein\",\n",
    "          6:\"AstroPh\",\n",
    "          7:\"CS PhD\",\n",
    "          8:\"GrQc\",\n",
    "          9:\"NetSci\",\n",
    "          10:\"Adolescent Health\",\n",
    "          11:\"Jazz\",\n",
    "          12:\"Zachary Karate Club\",\n",
    "          13: \"Madrid Train Bombings\",\n",
    "          14:\"EuroRoads\",\n",
    "          15:\"US Airports\",\n",
    "          16:\"US Power Grids\",\n",
    "          17:\"US States\",\n",
    "          18:\"Football\",\n",
    "          19:\"Internet AS.\",\n",
    "          20:\"Les Misérables\",\n",
    "          21:\"Pol. Books\",\n",
    "          22:\"Deezer EU\",\n",
    "          23:\"Ego Facebook\",\n",
    "          24:\"Caltech\",\n",
    "          25:\"Facebook Pol. Pages\",\n",
    "          26:\"Hamsterster\",\n",
    "          27:\"PGP\",\n",
    "          28:\"Princeton\",\n",
    "          29:\"Retweets\",\n",
    "          30:\"BlumenauDrug\",\n",
    "          31: \"BudapestConnectome\",\n",
    "          32: \"YeastCollins\",\n",
    "          33: \"InteractomeVidal\", \n",
    "          34: \"MalariaGenes\",\n",
    "          35: \"KeggMetabolic\",\n",
    "          36: \"NewZealand\",\n",
    "          37: \"EUAirlines\",\n",
    "          38: \"InternetTopCogentco\",\n",
    "          39: \"LondonTransport\",\n",
    "          40: \"911AllWords\",\n",
    "          41: \"MovieGalaxies\",\n",
    "          42: \"BibleNouns\",\n",
    "          43: \"BoardDirectors\",\n",
    "          44: \"DNCEmails\",\n",
    "          45: \"GoT\",\n",
    "          46: \"MarvelPartnerships\",\n",
    "          47: \"FacebookFriends\",\n",
    "          48: \"FacebookOrganizations\",\n",
    "          49: \"DBLPCite\"},\n",
    "          inplace=True)\n",
    "df_macro"
   ]
  },
  {
   "cell_type": "code",
   "execution_count": 63,
   "metadata": {},
   "outputs": [],
   "source": [
    "df_macro.to_csv(\"df_macro.csv\", header=True, index=True)"
   ]
  },
  {
   "cell_type": "markdown",
   "metadata": {},
   "source": [
    "## Add the mesoscopic features"
   ]
  },
  {
   "cell_type": "code",
   "execution_count": 64,
   "metadata": {
    "scrolled": true
   },
   "outputs": [
    {
     "data": {
      "text/html": [
       "<div>\n",
       "<style scoped>\n",
       "    .dataframe tbody tr th:only-of-type {\n",
       "        vertical-align: middle;\n",
       "    }\n",
       "\n",
       "    .dataframe tbody tr th {\n",
       "        vertical-align: top;\n",
       "    }\n",
       "\n",
       "    .dataframe thead th {\n",
       "        text-align: right;\n",
       "    }\n",
       "</style>\n",
       "<table border=\"1\" class=\"dataframe\">\n",
       "  <thead>\n",
       "    <tr style=\"text-align: right;\">\n",
       "      <th></th>\n",
       "      <th>Modularity</th>\n",
       "      <th>Mixing parameter</th>\n",
       "      <th>Number of communities</th>\n",
       "      <th>Min community size</th>\n",
       "      <th>Max community size</th>\n",
       "      <th>Avg internal degree</th>\n",
       "      <th>Avg internal density</th>\n",
       "      <th>Max ODF</th>\n",
       "      <th>Avg ODF</th>\n",
       "      <th>Flake-out ODF</th>\n",
       "      <th>Avg Embeddedness</th>\n",
       "      <th>Avg Distance</th>\n",
       "      <th>Avg Hub Dominance</th>\n",
       "    </tr>\n",
       "  </thead>\n",
       "  <tbody>\n",
       "    <tr>\n",
       "      <th>Dolphins</th>\n",
       "      <td>0.525</td>\n",
       "      <td>0.213</td>\n",
       "      <td>5</td>\n",
       "      <td>2</td>\n",
       "      <td>20</td>\n",
       "      <td>3.410</td>\n",
       "      <td>0.467</td>\n",
       "      <td>0.532</td>\n",
       "      <td>0.292</td>\n",
       "      <td>0.321</td>\n",
       "      <td>0.707</td>\n",
       "      <td>1.740</td>\n",
       "      <td>0.695</td>\n",
       "    </tr>\n",
       "    <tr>\n",
       "      <th>Reptiles</th>\n",
       "      <td>0.811</td>\n",
       "      <td>0.145</td>\n",
       "      <td>54</td>\n",
       "      <td>2</td>\n",
       "      <td>42</td>\n",
       "      <td>2.770</td>\n",
       "      <td>0.443</td>\n",
       "      <td>0.400</td>\n",
       "      <td>0.133</td>\n",
       "      <td>0.127</td>\n",
       "      <td>0.866</td>\n",
       "      <td>1.840</td>\n",
       "      <td>0.722</td>\n",
       "    </tr>\n",
       "    <tr>\n",
       "      <th>E. coli Trans</th>\n",
       "      <td>0.687</td>\n",
       "      <td>0.250</td>\n",
       "      <td>38</td>\n",
       "      <td>2</td>\n",
       "      <td>33</td>\n",
       "      <td>1.690</td>\n",
       "      <td>0.466</td>\n",
       "      <td>0.464</td>\n",
       "      <td>0.208</td>\n",
       "      <td>0.315</td>\n",
       "      <td>0.791</td>\n",
       "      <td>1.660</td>\n",
       "      <td>0.883</td>\n",
       "    </tr>\n",
       "    <tr>\n",
       "      <th>Human Protein</th>\n",
       "      <td>0.466</td>\n",
       "      <td>0.360</td>\n",
       "      <td>95</td>\n",
       "      <td>2</td>\n",
       "      <td>614</td>\n",
       "      <td>2.030</td>\n",
       "      <td>0.253</td>\n",
       "      <td>0.595</td>\n",
       "      <td>0.281</td>\n",
       "      <td>0.399</td>\n",
       "      <td>0.718</td>\n",
       "      <td>2.050</td>\n",
       "      <td>0.786</td>\n",
       "    </tr>\n",
       "    <tr>\n",
       "      <th>Mouse Visual Cortex</th>\n",
       "      <td>0.740</td>\n",
       "      <td>0.154</td>\n",
       "      <td>11</td>\n",
       "      <td>4</td>\n",
       "      <td>25</td>\n",
       "      <td>1.830</td>\n",
       "      <td>0.161</td>\n",
       "      <td>0.345</td>\n",
       "      <td>0.090</td>\n",
       "      <td>0.144</td>\n",
       "      <td>0.909</td>\n",
       "      <td>1.830</td>\n",
       "      <td>1.000</td>\n",
       "    </tr>\n",
       "    <tr>\n",
       "      <th>Yeast Protein</th>\n",
       "      <td>0.749</td>\n",
       "      <td>0.240</td>\n",
       "      <td>38</td>\n",
       "      <td>2</td>\n",
       "      <td>33</td>\n",
       "      <td>1.690</td>\n",
       "      <td>0.466</td>\n",
       "      <td>0.464</td>\n",
       "      <td>0.208</td>\n",
       "      <td>0.315</td>\n",
       "      <td>0.791</td>\n",
       "      <td>1.660</td>\n",
       "      <td>0.833</td>\n",
       "    </tr>\n",
       "    <tr>\n",
       "      <th>AstroPh</th>\n",
       "      <td>0.563</td>\n",
       "      <td>0.420</td>\n",
       "      <td>674</td>\n",
       "      <td>2</td>\n",
       "      <td>548</td>\n",
       "      <td>6.610</td>\n",
       "      <td>0.410</td>\n",
       "      <td>0.627</td>\n",
       "      <td>0.302</td>\n",
       "      <td>0.324</td>\n",
       "      <td>0.697</td>\n",
       "      <td>1.890</td>\n",
       "      <td>0.740</td>\n",
       "    </tr>\n",
       "    <tr>\n",
       "      <th>CS PhD</th>\n",
       "      <td>0.859</td>\n",
       "      <td>0.128</td>\n",
       "      <td>121</td>\n",
       "      <td>3</td>\n",
       "      <td>44</td>\n",
       "      <td>1.690</td>\n",
       "      <td>0.306</td>\n",
       "      <td>0.307</td>\n",
       "      <td>0.068</td>\n",
       "      <td>0.068</td>\n",
       "      <td>0.931</td>\n",
       "      <td>1.960</td>\n",
       "      <td>0.793</td>\n",
       "    </tr>\n",
       "    <tr>\n",
       "      <th>GrQc</th>\n",
       "      <td>0.779</td>\n",
       "      <td>0.200</td>\n",
       "      <td>327</td>\n",
       "      <td>3</td>\n",
       "      <td>87</td>\n",
       "      <td>3.730</td>\n",
       "      <td>0.394</td>\n",
       "      <td>0.461</td>\n",
       "      <td>0.155</td>\n",
       "      <td>0.151</td>\n",
       "      <td>0.844</td>\n",
       "      <td>1.860</td>\n",
       "      <td>0.765</td>\n",
       "    </tr>\n",
       "    <tr>\n",
       "      <th>NetSci</th>\n",
       "      <td>0.810</td>\n",
       "      <td>0.147</td>\n",
       "      <td>39</td>\n",
       "      <td>3</td>\n",
       "      <td>27</td>\n",
       "      <td>3.690</td>\n",
       "      <td>0.537</td>\n",
       "      <td>0.320</td>\n",
       "      <td>0.114</td>\n",
       "      <td>0.083</td>\n",
       "      <td>0.885</td>\n",
       "      <td>1.530</td>\n",
       "      <td>0.914</td>\n",
       "    </tr>\n",
       "    <tr>\n",
       "      <th>Adolescent Health</th>\n",
       "      <td>0.566</td>\n",
       "      <td>0.431</td>\n",
       "      <td>136</td>\n",
       "      <td>4</td>\n",
       "      <td>267</td>\n",
       "      <td>3.460</td>\n",
       "      <td>0.284</td>\n",
       "      <td>0.704</td>\n",
       "      <td>0.473</td>\n",
       "      <td>0.582</td>\n",
       "      <td>0.526</td>\n",
       "      <td>2.290</td>\n",
       "      <td>0.511</td>\n",
       "    </tr>\n",
       "    <tr>\n",
       "      <th>Jazz</th>\n",
       "      <td>0.443</td>\n",
       "      <td>0.267</td>\n",
       "      <td>5</td>\n",
       "      <td>3</td>\n",
       "      <td>64</td>\n",
       "      <td>15.500</td>\n",
       "      <td>0.540</td>\n",
       "      <td>0.612</td>\n",
       "      <td>0.280</td>\n",
       "      <td>0.268</td>\n",
       "      <td>0.719</td>\n",
       "      <td>1.500</td>\n",
       "      <td>0.835</td>\n",
       "    </tr>\n",
       "    <tr>\n",
       "      <th>Zachary Karate Club</th>\n",
       "      <td>0.402</td>\n",
       "      <td>0.179</td>\n",
       "      <td>3</td>\n",
       "      <td>5</td>\n",
       "      <td>17</td>\n",
       "      <td>3.460</td>\n",
       "      <td>0.404</td>\n",
       "      <td>0.294</td>\n",
       "      <td>0.163</td>\n",
       "      <td>0.027</td>\n",
       "      <td>0.836</td>\n",
       "      <td>1.660</td>\n",
       "      <td>0.844</td>\n",
       "    </tr>\n",
       "    <tr>\n",
       "      <th>Madrid Train Bombings</th>\n",
       "      <td>0.309</td>\n",
       "      <td>0.115</td>\n",
       "      <td>5</td>\n",
       "      <td>3</td>\n",
       "      <td>38</td>\n",
       "      <td>4.250</td>\n",
       "      <td>0.526</td>\n",
       "      <td>0.440</td>\n",
       "      <td>0.280</td>\n",
       "      <td>0.328</td>\n",
       "      <td>0.719</td>\n",
       "      <td>1.590</td>\n",
       "      <td>0.865</td>\n",
       "    </tr>\n",
       "    <tr>\n",
       "      <th>EuroRoads</th>\n",
       "      <td>0.786</td>\n",
       "      <td>0.202</td>\n",
       "      <td>109</td>\n",
       "      <td>4</td>\n",
       "      <td>21</td>\n",
       "      <td>1.930</td>\n",
       "      <td>0.254</td>\n",
       "      <td>0.463</td>\n",
       "      <td>0.161</td>\n",
       "      <td>0.205</td>\n",
       "      <td>0.838</td>\n",
       "      <td>2.690</td>\n",
       "      <td>0.398</td>\n",
       "    </tr>\n",
       "    <tr>\n",
       "      <th>US Airports</th>\n",
       "      <td>0.161</td>\n",
       "      <td>0.084</td>\n",
       "      <td>40</td>\n",
       "      <td>2</td>\n",
       "      <td>302</td>\n",
       "      <td>2.290</td>\n",
       "      <td>0.701</td>\n",
       "      <td>0.508</td>\n",
       "      <td>0.347</td>\n",
       "      <td>0.530</td>\n",
       "      <td>0.652</td>\n",
       "      <td>1.360</td>\n",
       "      <td>0.918</td>\n",
       "    </tr>\n",
       "    <tr>\n",
       "      <th>US Power Grids</th>\n",
       "      <td>0.830</td>\n",
       "      <td>0.166</td>\n",
       "      <td>424</td>\n",
       "      <td>3</td>\n",
       "      <td>51</td>\n",
       "      <td>2.070</td>\n",
       "      <td>0.242</td>\n",
       "      <td>0.435</td>\n",
       "      <td>0.130</td>\n",
       "      <td>0.140</td>\n",
       "      <td>0.869</td>\n",
       "      <td>2.550</td>\n",
       "      <td>0.475</td>\n",
       "    </tr>\n",
       "    <tr>\n",
       "      <th>US States</th>\n",
       "      <td>0.596</td>\n",
       "      <td>0.224</td>\n",
       "      <td>6</td>\n",
       "      <td>7</td>\n",
       "      <td>11</td>\n",
       "      <td>3.350</td>\n",
       "      <td>0.479</td>\n",
       "      <td>0.475</td>\n",
       "      <td>0.180</td>\n",
       "      <td>0.144</td>\n",
       "      <td>0.819</td>\n",
       "      <td>1.640</td>\n",
       "      <td>0.767</td>\n",
       "    </tr>\n",
       "    <tr>\n",
       "      <th>Football</th>\n",
       "      <td>0.604</td>\n",
       "      <td>0.293</td>\n",
       "      <td>10</td>\n",
       "      <td>9</td>\n",
       "      <td>15</td>\n",
       "      <td>7.570</td>\n",
       "      <td>0.751</td>\n",
       "      <td>0.435</td>\n",
       "      <td>0.293</td>\n",
       "      <td>0.056</td>\n",
       "      <td>0.706</td>\n",
       "      <td>1.260</td>\n",
       "      <td>0.821</td>\n",
       "    </tr>\n",
       "    <tr>\n",
       "      <th>Internet AS.</th>\n",
       "      <td>0.547</td>\n",
       "      <td>0.428</td>\n",
       "      <td>358</td>\n",
       "      <td>2</td>\n",
       "      <td>546</td>\n",
       "      <td>1.780</td>\n",
       "      <td>0.350</td>\n",
       "      <td>0.508</td>\n",
       "      <td>0.312</td>\n",
       "      <td>0.480</td>\n",
       "      <td>0.697</td>\n",
       "      <td>1.930</td>\n",
       "      <td>0.810</td>\n",
       "    </tr>\n",
       "    <tr>\n",
       "      <th>Les Misérables</th>\n",
       "      <td>0.551</td>\n",
       "      <td>0.267</td>\n",
       "      <td>8</td>\n",
       "      <td>2</td>\n",
       "      <td>15</td>\n",
       "      <td>4.290</td>\n",
       "      <td>0.584</td>\n",
       "      <td>0.441</td>\n",
       "      <td>0.178</td>\n",
       "      <td>0.141</td>\n",
       "      <td>0.821</td>\n",
       "      <td>1.450</td>\n",
       "      <td>0.938</td>\n",
       "    </tr>\n",
       "    <tr>\n",
       "      <th>Pol. Books</th>\n",
       "      <td>0.522</td>\n",
       "      <td>0.145</td>\n",
       "      <td>6</td>\n",
       "      <td>5</td>\n",
       "      <td>45</td>\n",
       "      <td>5.390</td>\n",
       "      <td>0.511</td>\n",
       "      <td>0.516</td>\n",
       "      <td>0.245</td>\n",
       "      <td>0.177</td>\n",
       "      <td>0.754</td>\n",
       "      <td>1.560</td>\n",
       "      <td>0.769</td>\n",
       "    </tr>\n",
       "    <tr>\n",
       "      <th>Deezer EU</th>\n",
       "      <td>0.565</td>\n",
       "      <td>0.429</td>\n",
       "      <td>1391</td>\n",
       "      <td>2</td>\n",
       "      <td>436</td>\n",
       "      <td>2.580</td>\n",
       "      <td>0.223</td>\n",
       "      <td>0.573</td>\n",
       "      <td>0.321</td>\n",
       "      <td>0.423</td>\n",
       "      <td>0.678</td>\n",
       "      <td>2.480</td>\n",
       "      <td>0.570</td>\n",
       "    </tr>\n",
       "    <tr>\n",
       "      <th>Ego Facebook</th>\n",
       "      <td>0.814</td>\n",
       "      <td>0.077</td>\n",
       "      <td>74</td>\n",
       "      <td>2</td>\n",
       "      <td>471</td>\n",
       "      <td>14.690</td>\n",
       "      <td>0.538</td>\n",
       "      <td>0.457</td>\n",
       "      <td>0.244</td>\n",
       "      <td>0.176</td>\n",
       "      <td>0.755</td>\n",
       "      <td>1.530</td>\n",
       "      <td>0.872</td>\n",
       "    </tr>\n",
       "    <tr>\n",
       "      <th>Caltech</th>\n",
       "      <td>0.389</td>\n",
       "      <td>0.410</td>\n",
       "      <td>12</td>\n",
       "      <td>2</td>\n",
       "      <td>188</td>\n",
       "      <td>13.350</td>\n",
       "      <td>0.427</td>\n",
       "      <td>0.657</td>\n",
       "      <td>0.425</td>\n",
       "      <td>0.488</td>\n",
       "      <td>0.574</td>\n",
       "      <td>1.780</td>\n",
       "      <td>0.731</td>\n",
       "    </tr>\n",
       "    <tr>\n",
       "      <th>Facebook Pol. Pages</th>\n",
       "      <td>0.836</td>\n",
       "      <td>0.111</td>\n",
       "      <td>178</td>\n",
       "      <td>2</td>\n",
       "      <td>421</td>\n",
       "      <td>5.330</td>\n",
       "      <td>0.402</td>\n",
       "      <td>0.466</td>\n",
       "      <td>0.180</td>\n",
       "      <td>0.199</td>\n",
       "      <td>0.819</td>\n",
       "      <td>1.840</td>\n",
       "      <td>0.756</td>\n",
       "    </tr>\n",
       "    <tr>\n",
       "      <th>Hamsterster</th>\n",
       "      <td>0.391</td>\n",
       "      <td>0.298</td>\n",
       "      <td>67</td>\n",
       "      <td>2</td>\n",
       "      <td>679</td>\n",
       "      <td>3.510</td>\n",
       "      <td>0.369</td>\n",
       "      <td>0.623</td>\n",
       "      <td>0.317</td>\n",
       "      <td>0.417</td>\n",
       "      <td>0.682</td>\n",
       "      <td>1.860</td>\n",
       "      <td>0.746</td>\n",
       "    </tr>\n",
       "    <tr>\n",
       "      <th>PGP</th>\n",
       "      <td>0.813</td>\n",
       "      <td>0.172</td>\n",
       "      <td>891</td>\n",
       "      <td>2</td>\n",
       "      <td>162</td>\n",
       "      <td>2.400</td>\n",
       "      <td>0.388</td>\n",
       "      <td>0.381</td>\n",
       "      <td>0.097</td>\n",
       "      <td>0.102</td>\n",
       "      <td>0.902</td>\n",
       "      <td>1.960</td>\n",
       "      <td>0.727</td>\n",
       "    </tr>\n",
       "    <tr>\n",
       "      <th>Princeton</th>\n",
       "      <td>0.417</td>\n",
       "      <td>0.365</td>\n",
       "      <td>32</td>\n",
       "      <td>2</td>\n",
       "      <td>2154</td>\n",
       "      <td>15.730</td>\n",
       "      <td>0.480</td>\n",
       "      <td>0.708</td>\n",
       "      <td>0.459</td>\n",
       "      <td>0.584</td>\n",
       "      <td>0.540</td>\n",
       "      <td>1.760</td>\n",
       "      <td>0.725</td>\n",
       "    </tr>\n",
       "    <tr>\n",
       "      <th>Retweets</th>\n",
       "      <td>0.695</td>\n",
       "      <td>0.287</td>\n",
       "      <td>93</td>\n",
       "      <td>3</td>\n",
       "      <td>32</td>\n",
       "      <td>1.790</td>\n",
       "      <td>0.338</td>\n",
       "      <td>0.433</td>\n",
       "      <td>0.129</td>\n",
       "      <td>0.160</td>\n",
       "      <td>0.870</td>\n",
       "      <td>1.920</td>\n",
       "      <td>0.778</td>\n",
       "    </tr>\n",
       "    <tr>\n",
       "      <th>BlumenauDrug</th>\n",
       "      <td>0.441</td>\n",
       "      <td>0.337</td>\n",
       "      <td>7</td>\n",
       "      <td>3</td>\n",
       "      <td>19</td>\n",
       "      <td>2.584</td>\n",
       "      <td>0.326</td>\n",
       "      <td>0.571</td>\n",
       "      <td>0.246</td>\n",
       "      <td>0.279</td>\n",
       "      <td>0.754</td>\n",
       "      <td>1.849</td>\n",
       "      <td>0.705</td>\n",
       "    </tr>\n",
       "    <tr>\n",
       "      <th>BudapestConnectome</th>\n",
       "      <td>0.525</td>\n",
       "      <td>0.088</td>\n",
       "      <td>4</td>\n",
       "      <td>1</td>\n",
       "      <td>508</td>\n",
       "      <td>90.752</td>\n",
       "      <td>0.295</td>\n",
       "      <td>0.412</td>\n",
       "      <td>0.070</td>\n",
       "      <td>0.009</td>\n",
       "      <td>0.680</td>\n",
       "      <td>1.220</td>\n",
       "      <td>0.921</td>\n",
       "    </tr>\n",
       "    <tr>\n",
       "      <th>YeastCollins</th>\n",
       "      <td>0.747</td>\n",
       "      <td>0.122</td>\n",
       "      <td>62</td>\n",
       "      <td>2</td>\n",
       "      <td>120</td>\n",
       "      <td>6.986</td>\n",
       "      <td>0.618</td>\n",
       "      <td>0.431</td>\n",
       "      <td>0.136</td>\n",
       "      <td>0.129</td>\n",
       "      <td>0.864</td>\n",
       "      <td>1.519</td>\n",
       "      <td>0.868</td>\n",
       "    </tr>\n",
       "    <tr>\n",
       "      <th>InteractomeVidal</th>\n",
       "      <td>0.576</td>\n",
       "      <td>0.405</td>\n",
       "      <td>215</td>\n",
       "      <td>2</td>\n",
       "      <td>118</td>\n",
       "      <td>2.078</td>\n",
       "      <td>0.297</td>\n",
       "      <td>0.559</td>\n",
       "      <td>0.252</td>\n",
       "      <td>0.344</td>\n",
       "      <td>0.748</td>\n",
       "      <td>2.196</td>\n",
       "      <td>0.648</td>\n",
       "    </tr>\n",
       "    <tr>\n",
       "      <th>MalariaGenes</th>\n",
       "      <td>0.625</td>\n",
       "      <td>0.128</td>\n",
       "      <td>11</td>\n",
       "      <td>2</td>\n",
       "      <td>86</td>\n",
       "      <td>10.423</td>\n",
       "      <td>0.601</td>\n",
       "      <td>0.538</td>\n",
       "      <td>0.188</td>\n",
       "      <td>0.146</td>\n",
       "      <td>0.812</td>\n",
       "      <td>1.475</td>\n",
       "      <td>0.825</td>\n",
       "    </tr>\n",
       "    <tr>\n",
       "      <th>KeggMetabolic</th>\n",
       "      <td>0.437</td>\n",
       "      <td>0.466</td>\n",
       "      <td>177</td>\n",
       "      <td>2</td>\n",
       "      <td>242</td>\n",
       "      <td>1.766</td>\n",
       "      <td>0.529</td>\n",
       "      <td>0.592</td>\n",
       "      <td>0.427</td>\n",
       "      <td>0.697</td>\n",
       "      <td>0.573</td>\n",
       "      <td>1.789</td>\n",
       "      <td>0.736</td>\n",
       "    </tr>\n",
       "    <tr>\n",
       "      <th>NewZealand</th>\n",
       "      <td>0.401</td>\n",
       "      <td>0.564</td>\n",
       "      <td>71</td>\n",
       "      <td>2</td>\n",
       "      <td>154</td>\n",
       "      <td>2.275</td>\n",
       "      <td>0.386</td>\n",
       "      <td>0.645</td>\n",
       "      <td>0.384</td>\n",
       "      <td>0.552</td>\n",
       "      <td>0.616</td>\n",
       "      <td>1.725</td>\n",
       "      <td>0.891</td>\n",
       "    </tr>\n",
       "    <tr>\n",
       "      <th>EUAirlines</th>\n",
       "      <td>0.109</td>\n",
       "      <td>0.073</td>\n",
       "      <td>10</td>\n",
       "      <td>2</td>\n",
       "      <td>332</td>\n",
       "      <td>3.972</td>\n",
       "      <td>0.596</td>\n",
       "      <td>0.559</td>\n",
       "      <td>0.266</td>\n",
       "      <td>0.388</td>\n",
       "      <td>0.734</td>\n",
       "      <td>1.495</td>\n",
       "      <td>0.874</td>\n",
       "    </tr>\n",
       "    <tr>\n",
       "      <th>InternetTopCogentco</th>\n",
       "      <td>0.751</td>\n",
       "      <td>0.206</td>\n",
       "      <td>27</td>\n",
       "      <td>4</td>\n",
       "      <td>16</td>\n",
       "      <td>1.906</td>\n",
       "      <td>0.326</td>\n",
       "      <td>0.487</td>\n",
       "      <td>0.179</td>\n",
       "      <td>0.199</td>\n",
       "      <td>0.821</td>\n",
       "      <td>2.231</td>\n",
       "      <td>0.473</td>\n",
       "    </tr>\n",
       "    <tr>\n",
       "      <th>LondonTransport</th>\n",
       "      <td>0.779</td>\n",
       "      <td>0.198</td>\n",
       "      <td>50</td>\n",
       "      <td>4</td>\n",
       "      <td>15</td>\n",
       "      <td>1.831</td>\n",
       "      <td>0.313</td>\n",
       "      <td>0.497</td>\n",
       "      <td>0.170</td>\n",
       "      <td>0.273</td>\n",
       "      <td>0.830</td>\n",
       "      <td>2.494</td>\n",
       "      <td>0.452</td>\n",
       "    </tr>\n",
       "    <tr>\n",
       "      <th>911AllWords</th>\n",
       "      <td>0.052</td>\n",
       "      <td>0.153</td>\n",
       "      <td>856</td>\n",
       "      <td>2</td>\n",
       "      <td>7779</td>\n",
       "      <td>1.715</td>\n",
       "      <td>0.603</td>\n",
       "      <td>0.699</td>\n",
       "      <td>0.548</td>\n",
       "      <td>0.834</td>\n",
       "      <td>0.452</td>\n",
       "      <td>1.631</td>\n",
       "      <td>0.820</td>\n",
       "    </tr>\n",
       "    <tr>\n",
       "      <th>MovieGalaxies</th>\n",
       "      <td>0.401</td>\n",
       "      <td>0.429</td>\n",
       "      <td>12</td>\n",
       "      <td>3</td>\n",
       "      <td>24</td>\n",
       "      <td>2.886</td>\n",
       "      <td>0.498</td>\n",
       "      <td>0.547</td>\n",
       "      <td>0.379</td>\n",
       "      <td>0.382</td>\n",
       "      <td>0.621</td>\n",
       "      <td>1.571</td>\n",
       "      <td>0.919</td>\n",
       "    </tr>\n",
       "    <tr>\n",
       "      <th>BibleNouns</th>\n",
       "      <td>0.460</td>\n",
       "      <td>0.496</td>\n",
       "      <td>91</td>\n",
       "      <td>3</td>\n",
       "      <td>131</td>\n",
       "      <td>4.001</td>\n",
       "      <td>0.358</td>\n",
       "      <td>0.663</td>\n",
       "      <td>0.343</td>\n",
       "      <td>0.416</td>\n",
       "      <td>0.657</td>\n",
       "      <td>1.884</td>\n",
       "      <td>0.757</td>\n",
       "    </tr>\n",
       "    <tr>\n",
       "      <th>BoardDirectors</th>\n",
       "      <td>0.817</td>\n",
       "      <td>0.167</td>\n",
       "      <td>79</td>\n",
       "      <td>5</td>\n",
       "      <td>24</td>\n",
       "      <td>5.159</td>\n",
       "      <td>0.578</td>\n",
       "      <td>0.459</td>\n",
       "      <td>0.141</td>\n",
       "      <td>0.118</td>\n",
       "      <td>0.859</td>\n",
       "      <td>1.493</td>\n",
       "      <td>0.904</td>\n",
       "    </tr>\n",
       "    <tr>\n",
       "      <th>DNCEmails</th>\n",
       "      <td>0.416</td>\n",
       "      <td>0.211</td>\n",
       "      <td>37</td>\n",
       "      <td>2</td>\n",
       "      <td>243</td>\n",
       "      <td>5.701</td>\n",
       "      <td>0.663</td>\n",
       "      <td>0.561</td>\n",
       "      <td>0.323</td>\n",
       "      <td>0.466</td>\n",
       "      <td>0.677</td>\n",
       "      <td>1.407</td>\n",
       "      <td>0.925</td>\n",
       "    </tr>\n",
       "    <tr>\n",
       "      <th>GoT</th>\n",
       "      <td>0.482</td>\n",
       "      <td>0.267</td>\n",
       "      <td>8</td>\n",
       "      <td>4</td>\n",
       "      <td>35</td>\n",
       "      <td>3.801</td>\n",
       "      <td>0.421</td>\n",
       "      <td>0.503</td>\n",
       "      <td>0.214</td>\n",
       "      <td>0.207</td>\n",
       "      <td>0.786</td>\n",
       "      <td>1.633</td>\n",
       "      <td>0.937</td>\n",
       "    </tr>\n",
       "    <tr>\n",
       "      <th>MarvelPartnerships</th>\n",
       "      <td>0.808</td>\n",
       "      <td>0.147</td>\n",
       "      <td>27</td>\n",
       "      <td>2</td>\n",
       "      <td>11</td>\n",
       "      <td>2.009</td>\n",
       "      <td>0.408</td>\n",
       "      <td>0.423</td>\n",
       "      <td>0.121</td>\n",
       "      <td>0.141</td>\n",
       "      <td>0.879</td>\n",
       "      <td>1.866</td>\n",
       "      <td>0.755</td>\n",
       "    </tr>\n",
       "    <tr>\n",
       "      <th>FacebookFriends</th>\n",
       "      <td>0.688</td>\n",
       "      <td>0.112</td>\n",
       "      <td>21</td>\n",
       "      <td>2</td>\n",
       "      <td>72</td>\n",
       "      <td>5.179</td>\n",
       "      <td>0.554</td>\n",
       "      <td>0.486</td>\n",
       "      <td>0.231</td>\n",
       "      <td>0.286</td>\n",
       "      <td>0.769</td>\n",
       "      <td>1.546</td>\n",
       "      <td>0.838</td>\n",
       "    </tr>\n",
       "    <tr>\n",
       "      <th>FacebookOrganizations</th>\n",
       "      <td>0.585</td>\n",
       "      <td>0.366</td>\n",
       "      <td>55</td>\n",
       "      <td>8</td>\n",
       "      <td>724</td>\n",
       "      <td>15.086</td>\n",
       "      <td>0.267</td>\n",
       "      <td>0.716</td>\n",
       "      <td>0.461</td>\n",
       "      <td>0.517</td>\n",
       "      <td>0.539</td>\n",
       "      <td>1.951</td>\n",
       "      <td>0.633</td>\n",
       "    </tr>\n",
       "    <tr>\n",
       "      <th>DBLPCite</th>\n",
       "      <td>0.546</td>\n",
       "      <td>0.433</td>\n",
       "      <td>382</td>\n",
       "      <td>2</td>\n",
       "      <td>513</td>\n",
       "      <td>2.539</td>\n",
       "      <td>0.195</td>\n",
       "      <td>0.583</td>\n",
       "      <td>0.257</td>\n",
       "      <td>0.358</td>\n",
       "      <td>0.743</td>\n",
       "      <td>2.257</td>\n",
       "      <td>0.696</td>\n",
       "    </tr>\n",
       "  </tbody>\n",
       "</table>\n",
       "</div>"
      ],
      "text/plain": [
       "                       Modularity  Mixing parameter  Number of communities  \\\n",
       "Dolphins                    0.525             0.213                      5   \n",
       "Reptiles                    0.811             0.145                     54   \n",
       "E. coli Trans               0.687             0.250                     38   \n",
       "Human Protein               0.466             0.360                     95   \n",
       "Mouse Visual Cortex         0.740             0.154                     11   \n",
       "Yeast Protein               0.749             0.240                     38   \n",
       "AstroPh                     0.563             0.420                    674   \n",
       "CS PhD                      0.859             0.128                    121   \n",
       "GrQc                        0.779             0.200                    327   \n",
       "NetSci                      0.810             0.147                     39   \n",
       "Adolescent Health           0.566             0.431                    136   \n",
       "Jazz                        0.443             0.267                      5   \n",
       "Zachary Karate Club         0.402             0.179                      3   \n",
       "Madrid Train Bombings       0.309             0.115                      5   \n",
       "EuroRoads                   0.786             0.202                    109   \n",
       "US Airports                 0.161             0.084                     40   \n",
       "US Power Grids              0.830             0.166                    424   \n",
       "US States                   0.596             0.224                      6   \n",
       "Football                    0.604             0.293                     10   \n",
       "Internet AS.                0.547             0.428                    358   \n",
       "Les Misérables              0.551             0.267                      8   \n",
       "Pol. Books                  0.522             0.145                      6   \n",
       "Deezer EU                   0.565             0.429                   1391   \n",
       "Ego Facebook                0.814             0.077                     74   \n",
       "Caltech                     0.389             0.410                     12   \n",
       "Facebook Pol. Pages         0.836             0.111                    178   \n",
       "Hamsterster                 0.391             0.298                     67   \n",
       "PGP                         0.813             0.172                    891   \n",
       "Princeton                   0.417             0.365                     32   \n",
       "Retweets                    0.695             0.287                     93   \n",
       "BlumenauDrug                0.441             0.337                      7   \n",
       "BudapestConnectome          0.525             0.088                      4   \n",
       "YeastCollins                0.747             0.122                     62   \n",
       "InteractomeVidal            0.576             0.405                    215   \n",
       "MalariaGenes                0.625             0.128                     11   \n",
       "KeggMetabolic               0.437             0.466                    177   \n",
       "NewZealand                  0.401             0.564                     71   \n",
       "EUAirlines                  0.109             0.073                     10   \n",
       "InternetTopCogentco         0.751             0.206                     27   \n",
       "LondonTransport             0.779             0.198                     50   \n",
       "911AllWords                 0.052             0.153                    856   \n",
       "MovieGalaxies               0.401             0.429                     12   \n",
       "BibleNouns                  0.460             0.496                     91   \n",
       "BoardDirectors              0.817             0.167                     79   \n",
       "DNCEmails                   0.416             0.211                     37   \n",
       "GoT                         0.482             0.267                      8   \n",
       "MarvelPartnerships          0.808             0.147                     27   \n",
       "FacebookFriends             0.688             0.112                     21   \n",
       "FacebookOrganizations       0.585             0.366                     55   \n",
       "DBLPCite                    0.546             0.433                    382   \n",
       "\n",
       "                       Min community size  Max community size  \\\n",
       "Dolphins                                2                  20   \n",
       "Reptiles                                2                  42   \n",
       "E. coli Trans                           2                  33   \n",
       "Human Protein                           2                 614   \n",
       "Mouse Visual Cortex                     4                  25   \n",
       "Yeast Protein                           2                  33   \n",
       "AstroPh                                 2                 548   \n",
       "CS PhD                                  3                  44   \n",
       "GrQc                                    3                  87   \n",
       "NetSci                                  3                  27   \n",
       "Adolescent Health                       4                 267   \n",
       "Jazz                                    3                  64   \n",
       "Zachary Karate Club                     5                  17   \n",
       "Madrid Train Bombings                   3                  38   \n",
       "EuroRoads                               4                  21   \n",
       "US Airports                             2                 302   \n",
       "US Power Grids                          3                  51   \n",
       "US States                               7                  11   \n",
       "Football                                9                  15   \n",
       "Internet AS.                            2                 546   \n",
       "Les Misérables                          2                  15   \n",
       "Pol. Books                              5                  45   \n",
       "Deezer EU                               2                 436   \n",
       "Ego Facebook                            2                 471   \n",
       "Caltech                                 2                 188   \n",
       "Facebook Pol. Pages                     2                 421   \n",
       "Hamsterster                             2                 679   \n",
       "PGP                                     2                 162   \n",
       "Princeton                               2                2154   \n",
       "Retweets                                3                  32   \n",
       "BlumenauDrug                            3                  19   \n",
       "BudapestConnectome                      1                 508   \n",
       "YeastCollins                            2                 120   \n",
       "InteractomeVidal                        2                 118   \n",
       "MalariaGenes                            2                  86   \n",
       "KeggMetabolic                           2                 242   \n",
       "NewZealand                              2                 154   \n",
       "EUAirlines                              2                 332   \n",
       "InternetTopCogentco                     4                  16   \n",
       "LondonTransport                         4                  15   \n",
       "911AllWords                             2                7779   \n",
       "MovieGalaxies                           3                  24   \n",
       "BibleNouns                              3                 131   \n",
       "BoardDirectors                          5                  24   \n",
       "DNCEmails                               2                 243   \n",
       "GoT                                     4                  35   \n",
       "MarvelPartnerships                      2                  11   \n",
       "FacebookFriends                         2                  72   \n",
       "FacebookOrganizations                   8                 724   \n",
       "DBLPCite                                2                 513   \n",
       "\n",
       "                       Avg internal degree  Avg internal density  Max ODF  \\\n",
       "Dolphins                             3.410                 0.467    0.532   \n",
       "Reptiles                             2.770                 0.443    0.400   \n",
       "E. coli Trans                        1.690                 0.466    0.464   \n",
       "Human Protein                        2.030                 0.253    0.595   \n",
       "Mouse Visual Cortex                  1.830                 0.161    0.345   \n",
       "Yeast Protein                        1.690                 0.466    0.464   \n",
       "AstroPh                              6.610                 0.410    0.627   \n",
       "CS PhD                               1.690                 0.306    0.307   \n",
       "GrQc                                 3.730                 0.394    0.461   \n",
       "NetSci                               3.690                 0.537    0.320   \n",
       "Adolescent Health                    3.460                 0.284    0.704   \n",
       "Jazz                                15.500                 0.540    0.612   \n",
       "Zachary Karate Club                  3.460                 0.404    0.294   \n",
       "Madrid Train Bombings                4.250                 0.526    0.440   \n",
       "EuroRoads                            1.930                 0.254    0.463   \n",
       "US Airports                          2.290                 0.701    0.508   \n",
       "US Power Grids                       2.070                 0.242    0.435   \n",
       "US States                            3.350                 0.479    0.475   \n",
       "Football                             7.570                 0.751    0.435   \n",
       "Internet AS.                         1.780                 0.350    0.508   \n",
       "Les Misérables                       4.290                 0.584    0.441   \n",
       "Pol. Books                           5.390                 0.511    0.516   \n",
       "Deezer EU                            2.580                 0.223    0.573   \n",
       "Ego Facebook                        14.690                 0.538    0.457   \n",
       "Caltech                             13.350                 0.427    0.657   \n",
       "Facebook Pol. Pages                  5.330                 0.402    0.466   \n",
       "Hamsterster                          3.510                 0.369    0.623   \n",
       "PGP                                  2.400                 0.388    0.381   \n",
       "Princeton                           15.730                 0.480    0.708   \n",
       "Retweets                             1.790                 0.338    0.433   \n",
       "BlumenauDrug                         2.584                 0.326    0.571   \n",
       "BudapestConnectome                  90.752                 0.295    0.412   \n",
       "YeastCollins                         6.986                 0.618    0.431   \n",
       "InteractomeVidal                     2.078                 0.297    0.559   \n",
       "MalariaGenes                        10.423                 0.601    0.538   \n",
       "KeggMetabolic                        1.766                 0.529    0.592   \n",
       "NewZealand                           2.275                 0.386    0.645   \n",
       "EUAirlines                           3.972                 0.596    0.559   \n",
       "InternetTopCogentco                  1.906                 0.326    0.487   \n",
       "LondonTransport                      1.831                 0.313    0.497   \n",
       "911AllWords                          1.715                 0.603    0.699   \n",
       "MovieGalaxies                        2.886                 0.498    0.547   \n",
       "BibleNouns                           4.001                 0.358    0.663   \n",
       "BoardDirectors                       5.159                 0.578    0.459   \n",
       "DNCEmails                            5.701                 0.663    0.561   \n",
       "GoT                                  3.801                 0.421    0.503   \n",
       "MarvelPartnerships                   2.009                 0.408    0.423   \n",
       "FacebookFriends                      5.179                 0.554    0.486   \n",
       "FacebookOrganizations               15.086                 0.267    0.716   \n",
       "DBLPCite                             2.539                 0.195    0.583   \n",
       "\n",
       "                       Avg ODF  Flake-out ODF  Avg Embeddedness  Avg Distance  \\\n",
       "Dolphins                 0.292          0.321             0.707         1.740   \n",
       "Reptiles                 0.133          0.127             0.866         1.840   \n",
       "E. coli Trans            0.208          0.315             0.791         1.660   \n",
       "Human Protein            0.281          0.399             0.718         2.050   \n",
       "Mouse Visual Cortex      0.090          0.144             0.909         1.830   \n",
       "Yeast Protein            0.208          0.315             0.791         1.660   \n",
       "AstroPh                  0.302          0.324             0.697         1.890   \n",
       "CS PhD                   0.068          0.068             0.931         1.960   \n",
       "GrQc                     0.155          0.151             0.844         1.860   \n",
       "NetSci                   0.114          0.083             0.885         1.530   \n",
       "Adolescent Health        0.473          0.582             0.526         2.290   \n",
       "Jazz                     0.280          0.268             0.719         1.500   \n",
       "Zachary Karate Club      0.163          0.027             0.836         1.660   \n",
       "Madrid Train Bombings    0.280          0.328             0.719         1.590   \n",
       "EuroRoads                0.161          0.205             0.838         2.690   \n",
       "US Airports              0.347          0.530             0.652         1.360   \n",
       "US Power Grids           0.130          0.140             0.869         2.550   \n",
       "US States                0.180          0.144             0.819         1.640   \n",
       "Football                 0.293          0.056             0.706         1.260   \n",
       "Internet AS.             0.312          0.480             0.697         1.930   \n",
       "Les Misérables           0.178          0.141             0.821         1.450   \n",
       "Pol. Books               0.245          0.177             0.754         1.560   \n",
       "Deezer EU                0.321          0.423             0.678         2.480   \n",
       "Ego Facebook             0.244          0.176             0.755         1.530   \n",
       "Caltech                  0.425          0.488             0.574         1.780   \n",
       "Facebook Pol. Pages      0.180          0.199             0.819         1.840   \n",
       "Hamsterster              0.317          0.417             0.682         1.860   \n",
       "PGP                      0.097          0.102             0.902         1.960   \n",
       "Princeton                0.459          0.584             0.540         1.760   \n",
       "Retweets                 0.129          0.160             0.870         1.920   \n",
       "BlumenauDrug             0.246          0.279             0.754         1.849   \n",
       "BudapestConnectome       0.070          0.009             0.680         1.220   \n",
       "YeastCollins             0.136          0.129             0.864         1.519   \n",
       "InteractomeVidal         0.252          0.344             0.748         2.196   \n",
       "MalariaGenes             0.188          0.146             0.812         1.475   \n",
       "KeggMetabolic            0.427          0.697             0.573         1.789   \n",
       "NewZealand               0.384          0.552             0.616         1.725   \n",
       "EUAirlines               0.266          0.388             0.734         1.495   \n",
       "InternetTopCogentco      0.179          0.199             0.821         2.231   \n",
       "LondonTransport          0.170          0.273             0.830         2.494   \n",
       "911AllWords              0.548          0.834             0.452         1.631   \n",
       "MovieGalaxies            0.379          0.382             0.621         1.571   \n",
       "BibleNouns               0.343          0.416             0.657         1.884   \n",
       "BoardDirectors           0.141          0.118             0.859         1.493   \n",
       "DNCEmails                0.323          0.466             0.677         1.407   \n",
       "GoT                      0.214          0.207             0.786         1.633   \n",
       "MarvelPartnerships       0.121          0.141             0.879         1.866   \n",
       "FacebookFriends          0.231          0.286             0.769         1.546   \n",
       "FacebookOrganizations    0.461          0.517             0.539         1.951   \n",
       "DBLPCite                 0.257          0.358             0.743         2.257   \n",
       "\n",
       "                       Avg Hub Dominance  \n",
       "Dolphins                           0.695  \n",
       "Reptiles                           0.722  \n",
       "E. coli Trans                      0.883  \n",
       "Human Protein                      0.786  \n",
       "Mouse Visual Cortex                1.000  \n",
       "Yeast Protein                      0.833  \n",
       "AstroPh                            0.740  \n",
       "CS PhD                             0.793  \n",
       "GrQc                               0.765  \n",
       "NetSci                             0.914  \n",
       "Adolescent Health                  0.511  \n",
       "Jazz                               0.835  \n",
       "Zachary Karate Club                0.844  \n",
       "Madrid Train Bombings              0.865  \n",
       "EuroRoads                          0.398  \n",
       "US Airports                        0.918  \n",
       "US Power Grids                     0.475  \n",
       "US States                          0.767  \n",
       "Football                           0.821  \n",
       "Internet AS.                       0.810  \n",
       "Les Misérables                     0.938  \n",
       "Pol. Books                         0.769  \n",
       "Deezer EU                          0.570  \n",
       "Ego Facebook                       0.872  \n",
       "Caltech                            0.731  \n",
       "Facebook Pol. Pages                0.756  \n",
       "Hamsterster                        0.746  \n",
       "PGP                                0.727  \n",
       "Princeton                          0.725  \n",
       "Retweets                           0.778  \n",
       "BlumenauDrug                       0.705  \n",
       "BudapestConnectome                 0.921  \n",
       "YeastCollins                       0.868  \n",
       "InteractomeVidal                   0.648  \n",
       "MalariaGenes                       0.825  \n",
       "KeggMetabolic                      0.736  \n",
       "NewZealand                         0.891  \n",
       "EUAirlines                         0.874  \n",
       "InternetTopCogentco                0.473  \n",
       "LondonTransport                    0.452  \n",
       "911AllWords                        0.820  \n",
       "MovieGalaxies                      0.919  \n",
       "BibleNouns                         0.757  \n",
       "BoardDirectors                     0.904  \n",
       "DNCEmails                          0.925  \n",
       "GoT                                0.937  \n",
       "MarvelPartnerships                 0.755  \n",
       "FacebookFriends                    0.838  \n",
       "FacebookOrganizations              0.633  \n",
       "DBLPCite                           0.696  "
      ]
     },
     "execution_count": 64,
     "metadata": {},
     "output_type": "execute_result"
    }
   ],
   "source": [
    "# Animals - Dolphins\n",
    "dolphins_feature_vector = [0.525,\n",
    "                           0.213,\n",
    "                           5,\n",
    "                           2,\n",
    "                           20,\n",
    "                           3.41,\n",
    "                           0.467,\n",
    "                           0.532,\n",
    "                           0.292,\n",
    "                           0.321,\n",
    "                           0.707,\n",
    "                           1.74,\n",
    "                           0.695,\n",
    "                          ]\n",
    "                           \n",
    "\n",
    "# Animals - Reptiles\n",
    "reptiles_feature_vector = [0.811,\n",
    "                          0.145,\n",
    "                          54,\n",
    "                          2,\n",
    "                          42,\n",
    "                          2.77,\n",
    "                          0.443,\n",
    "                          0.400,\n",
    "                          0.133,\n",
    "                           0.127,\n",
    "                          0.866,\n",
    "                          1.84,\n",
    "                          0.722]\n",
    "\n",
    "# Bio - Ecoli\n",
    "ecoli_feature_vector = [0.687,\n",
    "                       0.25,\n",
    "                       38,\n",
    "                       2,\n",
    "                       33,\n",
    "                       1.69,\n",
    "                       0.466,\n",
    "                       0.464,\n",
    "                       0.208,\n",
    "                       0.315,\n",
    "                       0.791,\n",
    "                       1.66,\n",
    "                       0.883]\n",
    "\n",
    "# Bio - Human Protein\n",
    "humanprotein_feature_vector = [0.466,\n",
    "                              0.360,\n",
    "                              95,\n",
    "                               2,\n",
    "                              614,\n",
    "                              2.03,\n",
    "                              0.253,\n",
    "                              0.595,\n",
    "                              0.281,\n",
    "                              0.399,\n",
    "                              0.718,\n",
    "                              2.05,\n",
    "                              0.786]\n",
    "\n",
    "# Bio - Mouse Visual Cortex\n",
    "mousevisualcortex_feature_vector = [0.740,\n",
    "                                   0.154,\n",
    "                                   11,\n",
    "                                   4,\n",
    "                                   25,\n",
    "                                   1.83,\n",
    "                                   0.161,\n",
    "                                   0.345,\n",
    "                                   0.090,\n",
    "                                   0.144,\n",
    "                                   0.909,\n",
    "                                   1.83,\n",
    "                                   1]\n",
    "\n",
    "##### Bio - Yeast Protein\n",
    "yeastprotein_feature_vector = [0.749,\n",
    "                              0.240,\n",
    "                              38,\n",
    "                              2,\n",
    "                              33,\n",
    "                              1.69,\n",
    "                              0.466,\n",
    "                              0.464,\n",
    "                              0.208,\n",
    "                              0.315,\n",
    "                              0.791,\n",
    "                              1.66,\n",
    "                              0.833]\n",
    "\n",
    "# Collab - AstroPh\n",
    "astroph_feature_vector = [0.563,\n",
    "                         0.420,\n",
    "                         674,\n",
    "                         2,\n",
    "                         548,\n",
    "                         6.61,\n",
    "                         0.410,\n",
    "                         0.627,\n",
    "                         0.302,\n",
    "                         0.324,\n",
    "                         0.697,\n",
    "                         1.89,\n",
    "                         0.740]\n",
    "\n",
    "# Collab - CS PhD\n",
    "csphd_feature_vector = [0.859,\n",
    "                       0.128,\n",
    "                       121,\n",
    "                       3,\n",
    "                       44,\n",
    "                       1.69,\n",
    "                       0.306,\n",
    "                       0.307,\n",
    "                       0.068,\n",
    "                       0.068,\n",
    "                       0.931,\n",
    "                       1.96,\n",
    "                       0.793\n",
    "                       ]                     \n",
    "\n",
    "# Collab - GrQc\n",
    "grqc_feature_vector = [0.779,\n",
    "                      0.200,\n",
    "                      327,\n",
    "                      3,\n",
    "                      87,\n",
    "                      3.73,\n",
    "                      0.394,\n",
    "                      0.461,\n",
    "                      0.155,\n",
    "                    0.151,\n",
    "                      0.844,\n",
    "                      1.86,\n",
    "                      0.765,\n",
    "                      ]\n",
    "\n",
    "# Collab - NetSci\n",
    "netsci_feature_vector = [0.810,\n",
    "                        0.147,\n",
    "                        39,\n",
    "                        3,\n",
    "                        27,\n",
    "                        3.69,\n",
    "                        0.537,\n",
    "                        0.320,\n",
    "                         0.114,\n",
    "                         0.083,\n",
    "                        0.885,\n",
    "                        1.53,\n",
    "                        0.914]\n",
    "\n",
    "# Human Social - Adolescent Health\n",
    "adolescenthealth_feature_vector = [0.566,\n",
    "                                  0.431,\n",
    "                                  136,\n",
    "                                  4,\n",
    "                                  267,\n",
    "                                  3.46,\n",
    "                                  0.284,\n",
    "                                  0.704,\n",
    "                                  0.473,\n",
    "                                  0.582,\n",
    "                                  0.526,\n",
    "                                  2.29,\n",
    "                                  0.511\n",
    "                                  ]\n",
    "\n",
    "# Human Social - Jazz\n",
    "jazz_feature_vector = [0.443,\n",
    "                      0.267,\n",
    "                      5,\n",
    "                      3,\n",
    "                      64,\n",
    "                      15.5,\n",
    "                      0.540,\n",
    "                      0.612,\n",
    "                      0.280,\n",
    "                      0.268,\n",
    "                      0.719,\n",
    "                      1.5,\n",
    "                      0.835]\n",
    "\n",
    "# Human Social - Karate\n",
    "karate_feature_vector = [0.402,\n",
    "                        0.179,\n",
    "                        3,\n",
    "                        5,\n",
    "                        17,\n",
    "                        3.46,\n",
    "                        0.404,\n",
    "                        0.294,\n",
    "                        0.163,\n",
    "                        0.027,\n",
    "                        0.836,\n",
    "                        1.66,\n",
    "                        0.844]\n",
    "\n",
    "# Human Social - Madrid Train Bombings\n",
    "madridtrainbombings_feature_vector = [0.309,\n",
    "                                     0.115,\n",
    "                                     5,\n",
    "                                     3,\n",
    "                                     38,\n",
    "                                     4.25,\n",
    "                                     0.526,\n",
    "                                     0.440,\n",
    "                                     0.280,\n",
    "                                     0.328,\n",
    "                                     0.719,\n",
    "                                     1.59,\n",
    "                                     0.865]\n",
    "\n",
    "# Infra - EuroRoad\n",
    "euroroad_feature_vector = [0.786,\n",
    "                          0.202,\n",
    "                          109,\n",
    "                          4,\n",
    "                          21,\n",
    "                          1.93,\n",
    "                          0.254,\n",
    "                          0.463,\n",
    "                          0.161,\n",
    "                          0.205,\n",
    "                          0.838,\n",
    "                          2.69,\n",
    "                          0.398]\n",
    "\n",
    "# Infra - US Airports\n",
    "usairports_feature_vector = [0.161,\n",
    "                            0.084,\n",
    "                            40,\n",
    "                            2,\n",
    "                            302,\n",
    "                            2.29,\n",
    "                            0.701,\n",
    "                            0.508,\n",
    "                            0.347,\n",
    "                            0.530,\n",
    "                            0.652,\n",
    "                            1.36,\n",
    "                            0.918]\n",
    "\n",
    "# Infra - US Power Grids\n",
    "uspowergrids_feature_vector = [0.830,\n",
    "                              0.166,\n",
    "                              424,\n",
    "                              3,\n",
    "                              51,\n",
    "                              2.07,\n",
    "                              0.242,\n",
    "                              0.435,\n",
    "                              0.130,\n",
    "                              0.140,\n",
    "                              0.869,\n",
    "                              2.55,\n",
    "                              0.475]\n",
    "\n",
    "# Infra - US States\n",
    "usstates_feature_vector = [0.596,\n",
    "                          0.224,\n",
    "                          6,\n",
    "                          7,\n",
    "                          11,\n",
    "                          3.35,\n",
    "                          0.479,\n",
    "                          0.475,\n",
    "                          0.180,\n",
    "                          0.144,\n",
    "                          0.819,\n",
    "                          1.64,\n",
    "                          0.767]\n",
    "\n",
    "# Misc - Football\n",
    "football_feature_vector = [0.604,\n",
    "                          0.293,\n",
    "                          10,\n",
    "                          9,\n",
    "                          15,\n",
    "                          7.57,\n",
    "                          0.751,\n",
    "                          0.435,\n",
    "                          0.293,\n",
    "                          0.056,\n",
    "                          0.706,\n",
    "                          1.26,\n",
    "                          0.821]\n",
    "\n",
    "# Misc - Internet Autonomous Systems\n",
    "internetas_feature_vector = [0.547,\n",
    "                            0.428,\n",
    "                            358,\n",
    "                            2,\n",
    "                            546,\n",
    "                            1.78,\n",
    "                            0.350,\n",
    "                            0.508,\n",
    "                            0.312,\n",
    "                            0.480,\n",
    "                            0.697,\n",
    "                            1.93,\n",
    "                            0.810]\n",
    "\n",
    "# Misc - Les Mis\n",
    "lesmis_feature_vector = [0.551,\n",
    "                        0.267,\n",
    "                        8,\n",
    "                        2,\n",
    "                        15,\n",
    "                        4.29,\n",
    "                        0.584,\n",
    "                        0.441,\n",
    "                        0.178,\n",
    "                        0.141,\n",
    "                        0.821,\n",
    "                        1.45,\n",
    "                        0.938]\n",
    "\n",
    "# Misc - PolBooks\n",
    "polbooks_feature_vector = [0.522,\n",
    "                          0.145,\n",
    "                          6,\n",
    "                          5,\n",
    "                          45,\n",
    "                          5.39,\n",
    "                          0.511,\n",
    "                          0.516,\n",
    "                          0.245,\n",
    "                          0.177,\n",
    "                          0.754,\n",
    "                          1.56,\n",
    "                          0.769]\n",
    "\n",
    "# OSN - DeezerEU\n",
    "deezereu_feature_vector = [0.565, \n",
    "                           0.429,\n",
    "                          1391,\n",
    "                          2,\n",
    "                          436,\n",
    "                          2.58,\n",
    "                          0.223,\n",
    "                          0.573,\n",
    "                          0.321,\n",
    "                          0.423,\n",
    "                          0.678,\n",
    "                          2.48,\n",
    "                          0.570\n",
    "                          ]\n",
    "\n",
    "# OSN - Ego Facebook\n",
    "egofacebook_feature_vector = [0.814,\n",
    "                             0.077,\n",
    "                             74,\n",
    "                             2,\n",
    "                             471,\n",
    "                             14.69,\n",
    "                             0.538,\n",
    "                             0.457,\n",
    "                             0.244,\n",
    "                             0.176,\n",
    "                             0.755,\n",
    "                             1.53,\n",
    "                             0.872]\n",
    "\n",
    "# OSN - FB Caltech\n",
    "caltech_feature_vector = [0.389, \n",
    "                          0.410, \n",
    "                          12, \n",
    "                          2, \n",
    "                          188,\n",
    "                         13.35,\n",
    "                         0.427,\n",
    "                         0.657,\n",
    "                         0.425,\n",
    "                         0.488,\n",
    "                         0.574,\n",
    "                         1.78,\n",
    "                         0.731]\n",
    "\n",
    "# OSN - FB Politician Pages\n",
    "fbpoliticianpages_feature_vector = [0.836,\n",
    "                                   0.111,\n",
    "                                   178,\n",
    "                                   2,\n",
    "                                   421,\n",
    "                                   5.33,\n",
    "                                   0.402,\n",
    "                                   0.466,\n",
    "                                   0.180,\n",
    "                                   0.199,\n",
    "                                   0.819,\n",
    "                                   1.84,\n",
    "                                   0.756]\n",
    "\n",
    "# OSN - Hamsterster\n",
    "hamsterster_feature_vector = [0.391,\n",
    "                             0.298,\n",
    "                             67,\n",
    "                             2,\n",
    "                             679,\n",
    "                             3.51,\n",
    "                             0.369,\n",
    "                             0.623,\n",
    "                             0.317,\n",
    "                             0.417,\n",
    "                             0.682,\n",
    "                             1.86,\n",
    "                             0.746]\n",
    "\n",
    "# OSN - PGP\n",
    "pgp_feature_vector = [0.813,\n",
    "                     0.172,\n",
    "                     891,\n",
    "                     2,\n",
    "                     162,\n",
    "                     2.4,\n",
    "                     0.388,\n",
    "                     0.381,\n",
    "                     0.097,\n",
    "                     0.102,\n",
    "                     0.902,\n",
    "                     1.96,\n",
    "                     0.727]\n",
    "\n",
    "# OSN - FB Princeton\n",
    "princeton_feature_vector = [0.417,\n",
    "                           0.365,\n",
    "                           32,\n",
    "                           2,\n",
    "                           2154,\n",
    "                           15.73,\n",
    "                           0.480,\n",
    "                           0.708,\n",
    "                           0.459,\n",
    "                           0.584,\n",
    "                           0.540,\n",
    "                           1.76,\n",
    "                           0.725]\n",
    "\n",
    "# OSN - Twitter\n",
    "twitter_feature_vector = [0.695,\n",
    "                         0.287,\n",
    "                          93,\n",
    "                         3,\n",
    "                         32,\n",
    "                         1.79,\n",
    "                         0.338,\n",
    "                         0.433,\n",
    "                         0.129,\n",
    "                         0.160,\n",
    "                         0.870,\n",
    "                         1.92,\n",
    "                         0.778]\n",
    "\n",
    "# Additions Credibility\n",
    "# Bio - BlumenauDrug\n",
    "blumenaudrug_feature_vector = [0.441,\n",
    "0.337,\n",
    "7,\n",
    "3,\n",
    "19,\n",
    "2.584,\n",
    "0.326,\n",
    "0.571,\n",
    "0.246,\n",
    "0.279,\n",
    "0.754,\n",
    "1.849,\n",
    "0.705]\n",
    "\n",
    "\n",
    "\n",
    "# Bio - BudapestConnectome\n",
    "budapestconnectome_feature_vector = [\n",
    "    0.525,\n",
    "0.088,\n",
    "4,\n",
    "1,\n",
    "508,\n",
    "90.752,\n",
    "0.295,\n",
    "0.412,\n",
    "0.07,\n",
    "0.009,\n",
    "0.68,\n",
    "1.22,\n",
    "0.921,\n",
    "]\n",
    "\n",
    "# Bio - YeastCollins\n",
    "yeastcollins_feature_vector = [0.747,\n",
    "0.122,\n",
    "62,\n",
    "2,\n",
    "120,\n",
    "6.986,\n",
    "0.618,\n",
    "0.431,\n",
    "0.136,\n",
    "0.129,\n",
    "0.864,\n",
    "1.519,\n",
    "0.868]\n",
    "\n",
    "# Bio - InteractomeVidal\n",
    "interactomevidal_feature_vector = [\n",
    "    0.576,\n",
    "0.405,\n",
    "215,\n",
    "2,\n",
    "118,\n",
    "2.078,\n",
    "0.297,\n",
    "0.559,\n",
    "0.252,\n",
    "0.344,\n",
    "0.748,\n",
    "2.196,\n",
    "0.648\n",
    "]\n",
    "\n",
    "# Bio - MalariaGenes\n",
    "malariagenes_feature_vector = [0.625,\n",
    "0.128,\n",
    "11,\n",
    "2,\n",
    "86,\n",
    "10.423,\n",
    "0.601,\n",
    "0.538,\n",
    "0.188,\n",
    "0.146,\n",
    "0.812,\n",
    "1.475,\n",
    "0.825]\n",
    "\n",
    "\n",
    "# Bio - KeggMetabolic\n",
    "keggmetabolic_feature_vector = [0.437,\n",
    "0.466,\n",
    "177,\n",
    "2,\n",
    "242,\n",
    "1.766,\n",
    "0.529,\n",
    "0.592,\n",
    "0.427,\n",
    "0.697,\n",
    "0.573,\n",
    "1.789,\n",
    "0.736]\n",
    "\n",
    "# Collab - NewZealand\n",
    "newzealand_feature_vector = [0.401,\n",
    "0.564,\n",
    "71,\n",
    "2,\n",
    "154,\n",
    "2.275,\n",
    "0.386,\n",
    "0.645,\n",
    "0.384,\n",
    "0.552,\n",
    "0.616,\n",
    "1.725,\n",
    "0.891]\n",
    "\n",
    "\n",
    "# Infra - EUAirlines\n",
    "euairlines_feature_vector = [0.109,\n",
    "0.073,\n",
    "10,\n",
    "2,\n",
    "332,\n",
    "3.972,\n",
    "0.596,\n",
    "0.559,\n",
    "0.266,\n",
    "0.388,\n",
    "0.734,\n",
    "1.495,\n",
    "0.874]\n",
    "\n",
    "# Infra - InternetTopCogentco\n",
    "internettopcogentco_feature_vector = [\n",
    "    0.751,\n",
    "0.206,\n",
    "27,\n",
    "4,\n",
    "16,\n",
    "1.906,\n",
    "0.326,\n",
    "0.487,\n",
    "0.179,\n",
    "0.199,\n",
    "0.821,\n",
    "2.231,\n",
    "0.473\n",
    "]\n",
    "\n",
    "# Infra - LondonTransport\n",
    "londontransport_feature_vector = [0.779,\n",
    "0.198,\n",
    "50,\n",
    "4,\n",
    "15,\n",
    "1.831,\n",
    "0.313,\n",
    "0.497,\n",
    "0.17,\n",
    "0.273,\n",
    "0.83,\n",
    "2.494,\n",
    "0.452]\n",
    "\n",
    "# Misc - 911AllWords\n",
    "allwords911_feature_vector = [0.052,\n",
    "0.153,\n",
    "856,\n",
    "2,\n",
    "7779,\n",
    "1.715,\n",
    "0.603,\n",
    "0.699,\n",
    "0.548,\n",
    "0.834,\n",
    "0.452,\n",
    "1.631,\n",
    "0.82]\n",
    "\n",
    "# Misc - MovieGalaxies\n",
    "moviegalaxies_feature_vector = [0.401,\n",
    "0.429,\n",
    "12,\n",
    "3,\n",
    "24,\n",
    "2.886,\n",
    "0.498,\n",
    "0.547,\n",
    "0.379,\n",
    "0.382,\n",
    "0.621,\n",
    "1.571,\n",
    "0.919]\n",
    "\n",
    "# Misc - BibleNouns\n",
    "biblenouns_feature_vector = [0.46,\n",
    "0.496,\n",
    "91,\n",
    "3,\n",
    "131,\n",
    "4.001,\n",
    "0.358,\n",
    "0.663,\n",
    "0.343,\n",
    "0.416,\n",
    "0.657,\n",
    "1.884,\n",
    "0.757]\n",
    "\n",
    "# Misc- BoardDirectors\n",
    "boarddirectors_feature_vector = [0.817,\n",
    "0.167,\n",
    "79,\n",
    "5,\n",
    "24,\n",
    "5.159,\n",
    "0.578,\n",
    "0.459,\n",
    "0.141,\n",
    "0.118,\n",
    "0.859,\n",
    "1.493,\n",
    "0.904]\n",
    "\n",
    "# Misc - DNCEmails\n",
    "dncemails_feature_vector = [0.416,\n",
    "0.211,\n",
    "37,\n",
    "2,\n",
    "243,\n",
    "5.701,\n",
    "0.663,\n",
    "0.561,\n",
    "0.323,\n",
    "0.466,\n",
    "0.677,\n",
    "1.407,\n",
    "0.925]\n",
    "\n",
    "# Misc - GoT\n",
    "got_feature_vector = [0.482,\n",
    "0.267,\n",
    "8,\n",
    "4,\n",
    "35,\n",
    "3.801,\n",
    "0.421,\n",
    "0.503,\n",
    "0.214,\n",
    "0.207,\n",
    "0.786,\n",
    "1.633,\n",
    "0.937]\n",
    "\n",
    "# Misc - MarvelPartnerships\n",
    "marvelpartnerships_feature_vector = [0.808,\n",
    "0.147,\n",
    "27,\n",
    "2,\n",
    "11,\n",
    "2.009,\n",
    "0.408,\n",
    "0.423,\n",
    "0.121,\n",
    "0.141,\n",
    "0.879,\n",
    "1.866,\n",
    "0.755]\n",
    "\n",
    "# OSN - FacebookFriends\n",
    "facebookfriends_feature_vector = [0.688,\n",
    "0.112,\n",
    "21,\n",
    "2,\n",
    "72,\n",
    "5.179,\n",
    "0.554,\n",
    "0.486,\n",
    "0.231,\n",
    "0.286,\n",
    "0.769,\n",
    "1.546,\n",
    "0.838]\n",
    "\n",
    "# OSN - FacebookOrganizations\n",
    "facebookorganizations_feature_vector = [0.585,\n",
    "0.366,\n",
    "55,\n",
    "8,\n",
    "724,\n",
    "15.086,\n",
    "0.267,\n",
    "0.716,\n",
    "0.461,\n",
    "0.517,\n",
    "0.539,\n",
    "1.951,\n",
    "0.633]\n",
    "\n",
    "# Cite - DBLPCite\n",
    "dblpcite_feature_vector = [0.546,\n",
    "0.433,\n",
    "382,\n",
    "2,\n",
    "513,\n",
    "2.539,\n",
    "0.195,\n",
    "0.583,\n",
    "0.257,\n",
    "0.358,\n",
    "0.743,\n",
    "2.257,\n",
    "0.696]\n",
    "\n",
    "labels = [\"Dolphins\", \n",
    "          \"Reptiles\", \n",
    "          \"E. coli Trans\", \n",
    "          \"Human Protein\",  \n",
    "          \"Mouse Visual Cortex\", \n",
    "          \"Yeast Protein\",\n",
    "          \"AstroPh\",\n",
    "          \"CS PhD\",\n",
    "          \"GrQc\",\n",
    "          \"NetSci\",\n",
    "          \"Adolescent Health\",\n",
    "          \"Jazz\",\n",
    "          \"Zachary Karate Club\",\n",
    "          \"Madrid Train Bombings\",\n",
    "          \"EuroRoads\",\n",
    "          \"US Airports\",\n",
    "          \"US Power Grids\",\n",
    "          \"US States\",\n",
    "          \"Football\",\n",
    "          \"Internet AS.\",\n",
    "          \"Les Misérables\",\n",
    "          \"Pol. Books\",\n",
    "          \"Deezer EU\",\n",
    "          \"Ego Facebook\",\n",
    "          \"Caltech\",\n",
    "          \"Facebook Pol. Pages\",\n",
    "          \"Hamsterster\",\n",
    "          \"PGP\",\n",
    "          \"Princeton\",\n",
    "          \"Retweets\",\n",
    "          \"BlumenauDrug\",\n",
    "          \"BudapestConnectome\",\n",
    "          \"YeastCollins\",\n",
    "          \"InteractomeVidal\",\n",
    "          \"MalariaGenes\",\n",
    "          \"KeggMetabolic\",\n",
    "          \"NewZealand\",\n",
    "          \"EUAirlines\",\n",
    "          \"InternetTopCogentco\",\n",
    "          \"LondonTransport\",\n",
    "          \"911AllWords\",\n",
    "          \"MovieGalaxies\",\n",
    "          \"BibleNouns\",\n",
    "          \"BoardDirectors\",\n",
    "          \"DNCEmails\",\n",
    "          \"GoT\",\n",
    "          \"MarvelPartnerships\",\n",
    "          \"FacebookFriends\",\n",
    "          \"FacebookOrganizations\",\n",
    "          \"DBLPCite\"\n",
    "         ]\n",
    "\n",
    "len(labels)\n",
    "\n",
    "import pandas as pd\n",
    "\n",
    "d1 = dolphins_feature_vector\n",
    "d2 = reptiles_feature_vector\n",
    "d3 = ecoli_feature_vector\n",
    "d4 = humanprotein_feature_vector\n",
    "d5 = mousevisualcortex_feature_vector\n",
    "d6 = yeastprotein_feature_vector\n",
    "d7 = astroph_feature_vector\n",
    "d8 = csphd_feature_vector\n",
    "d9 = grqc_feature_vector\n",
    "d10 = netsci_feature_vector\n",
    "d11 = adolescenthealth_feature_vector\n",
    "d12 = jazz_feature_vector\n",
    "d13 = karate_feature_vector\n",
    "d14 = madridtrainbombings_feature_vector\n",
    "d15 = euroroad_feature_vector\n",
    "d16 = usairports_feature_vector\n",
    "d17 = uspowergrids_feature_vector\n",
    "d18 = usstates_feature_vector\n",
    "d19 = football_feature_vector\n",
    "d20 = internetas_feature_vector\n",
    "d21 = lesmis_feature_vector\n",
    "d22 = polbooks_feature_vector\n",
    "d23 = deezereu_feature_vector\n",
    "d24 = egofacebook_feature_vector\n",
    "d25 = caltech_feature_vector\n",
    "d26 = fbpoliticianpages_feature_vector\n",
    "d27 = hamsterster_feature_vector\n",
    "d28 = pgp_feature_vector\n",
    "d29 = princeton_feature_vector\n",
    "d30 = twitter_feature_vector\n",
    "d31 = blumenaudrug_feature_vector\n",
    "d32 = budapestconnectome_feature_vector\n",
    "d33 = yeastcollins_feature_vector\n",
    "d34 = interactomevidal_feature_vector\n",
    "d35 = malariagenes_feature_vector\n",
    "d36 = keggmetabolic_feature_vector\n",
    "d37 = newzealand_feature_vector\n",
    "d38 = euairlines_feature_vector\n",
    "d39 = internettopcogentco_feature_vector\n",
    "d40 = londontransport_feature_vector\n",
    "d41 = allwords911_feature_vector\n",
    "d42 = moviegalaxies_feature_vector\n",
    "d43 = biblenouns_feature_vector\n",
    "d44 = boarddirectors_feature_vector\n",
    "d45 = dncemails_feature_vector\n",
    "d46 = got_feature_vector\n",
    "d47 = marvelpartnerships_feature_vector\n",
    "d48 = facebookfriends_feature_vector\n",
    "d49 = facebookorganizations_feature_vector\n",
    "d50 = dblpcite_feature_vector\n",
    "\n",
    "df_meso = pd.DataFrame([d1, d2, d3, d4, d5, d6, d7, d8, d9, d10, d11, d12, d13, d14, d15, d16, d17, d18, d19, d20, d21, d22, d23,\n",
    "                  d24, d25, d26, d27, d28, d29, d30,\n",
    "                       d31, d32, d33, d34, d35,\n",
    "                         d36, d37, d38, d39, d40, d41, d42, d43, d44, \n",
    "                         d45, d46, d47, d48, d49, d50],\n",
    "                 columns = [\"Modularity\",\n",
    "                            \"Mixing parameter\",\n",
    "                            \"Number of communities\",\n",
    "                            \"Min community size\",\n",
    "                            \"Max community size\",\n",
    "                            \"Avg internal degree\",\n",
    "                            \"Avg internal density\",\n",
    "                            \"Max ODF\",\n",
    "                            \"Avg ODF\",\n",
    "                            \"Flake-out ODF\",\n",
    "                            \"Avg Embeddedness\",\n",
    "                            \"Avg Distance\",\n",
    "                            \"Avg Hub Dominance\"])\n",
    "\n",
    "df_meso.rename(index={\n",
    "          0:\"Dolphins\", \n",
    "          1:\"Reptiles\", \n",
    "          2:\"E. coli Trans\", \n",
    "          3:\"Human Protein\",  \n",
    "          4:\"Mouse Visual Cortex\", \n",
    "          5:\"Yeast Protein\",\n",
    "          6:\"AstroPh\",\n",
    "          7:\"CS PhD\",\n",
    "          8:\"GrQc\",\n",
    "          9:\"NetSci\",\n",
    "          10:\"Adolescent Health\",\n",
    "          11:\"Jazz\",\n",
    "          12:\"Zachary Karate Club\",\n",
    "          13: \"Madrid Train Bombings\",\n",
    "          14:\"EuroRoads\",\n",
    "          15:\"US Airports\",\n",
    "          16:\"US Power Grids\",\n",
    "          17:\"US States\",\n",
    "          18:\"Football\",\n",
    "          19:\"Internet AS.\",\n",
    "          20:\"Les Misérables\",\n",
    "          21:\"Pol. Books\",\n",
    "          22:\"Deezer EU\",\n",
    "          23:\"Ego Facebook\",\n",
    "          24:\"Caltech\",\n",
    "          25:\"Facebook Pol. Pages\",\n",
    "          26:\"Hamsterster\",\n",
    "          27:\"PGP\",\n",
    "          28:\"Princeton\",\n",
    "          29:\"Retweets\",        \n",
    "          30:\"BlumenauDrug\",\n",
    "          31: \"BudapestConnectome\",\n",
    "          32: \"YeastCollins\",\n",
    "          33: \"InteractomeVidal\", \n",
    "          34: \"MalariaGenes\",\n",
    "          35: \"KeggMetabolic\",\n",
    "          36: \"NewZealand\",\n",
    "          37: \"EUAirlines\",\n",
    "          38: \"InternetTopCogentco\",\n",
    "          39: \"LondonTransport\",\n",
    "          40: \"911AllWords\",\n",
    "          41: \"MovieGalaxies\",\n",
    "          42: \"BibleNouns\",\n",
    "          43: \"BoardDirectors\",\n",
    "          44: \"DNCEmails\",\n",
    "          45: \"GoT\",\n",
    "          46: \"MarvelPartnerships\",\n",
    "          47: \"FacebookFriends\",\n",
    "          48: \"FacebookOrganizations\",\n",
    "          49: \"DBLPCite\"}, \n",
    "          inplace=True)\n",
    "df_meso"
   ]
  },
  {
   "cell_type": "code",
   "execution_count": 65,
   "metadata": {},
   "outputs": [],
   "source": [
    "df_meso.to_csv(\"df_meso.csv\", header=True, index=True)"
   ]
  },
  {
   "cell_type": "markdown",
   "metadata": {},
   "source": [
    "# Performing the Univariate Linear Regression\n",
    "Once you added the data into Python, you may use both `sklearn` and `statsmodels` to get the regression results.\n",
    "\n",
    "Either method would work, but let’s review both methods for illustration purposes."
   ]
  },
  {
   "cell_type": "code",
   "execution_count": 66,
   "metadata": {},
   "outputs": [],
   "source": [
    "from sklearn.linear_model import LinearRegression\n",
    "import statsmodels.api as sm"
   ]
  },
  {
   "cell_type": "markdown",
   "metadata": {},
   "source": [
    "## Dependent variable: Local component"
   ]
  },
  {
   "cell_type": "markdown",
   "metadata": {},
   "source": [
    "### Independent variable: Average Degree"
   ]
  },
  {
   "cell_type": "code",
   "execution_count": 67,
   "metadata": {},
   "outputs": [],
   "source": [
    "X = df_macro[['Average Degree']]"
   ]
  },
  {
   "cell_type": "code",
   "execution_count": 68,
   "metadata": {},
   "outputs": [],
   "source": [
    "Y = df_dependent_variables['Mean-LocalComponent']"
   ]
  },
  {
   "cell_type": "code",
   "execution_count": 69,
   "metadata": {},
   "outputs": [],
   "source": [
    "#### with `sklearn`"
   ]
  },
  {
   "cell_type": "code",
   "execution_count": 70,
   "metadata": {},
   "outputs": [
    {
     "data": {
      "text/plain": [
       "LinearRegression(copy_X=True, fit_intercept=True, n_jobs=None, normalize=False)"
      ]
     },
     "execution_count": 70,
     "metadata": {},
     "output_type": "execute_result"
    }
   ],
   "source": [
    "regr = LinearRegression()\n",
    "regr.fit(X, Y)"
   ]
  },
  {
   "cell_type": "code",
   "execution_count": 71,
   "metadata": {},
   "outputs": [
    {
     "name": "stdout",
     "output_type": "stream",
     "text": [
      "Intercept: \n",
      " 0.43860924456187605\n",
      "Coefficients: \n",
      " [0.00202341]\n"
     ]
    }
   ],
   "source": [
    "print('Intercept: \\n', regr.intercept_)\n",
    "print('Coefficients: \\n', regr.coef_)"
   ]
  },
  {
   "cell_type": "code",
   "execution_count": 72,
   "metadata": {},
   "outputs": [],
   "source": [
    "#### Plot "
   ]
  },
  {
   "cell_type": "code",
   "execution_count": 73,
   "metadata": {},
   "outputs": [
    {
     "data": {
      "image/png": "[encoded data removed]",
      "text/plain": [
       "<Figure size 432x288 with 1 Axes>"
      ]
     },
     "metadata": {
      "needs_background": "light"
     },
     "output_type": "display_data"
    }
   ],
   "source": [
    "predictions = regr.predict(X)\n",
    "#plt.figure(figsize=(16, 8))\n",
    "plt.scatter(\n",
    "    df_macro['Average Degree'],\n",
    "    df_dependent_variables['Mean-LocalComponent'],\n",
    "    c='red'\n",
    ")\n",
    "plt.plot(\n",
    "    df_macro['Average Degree'],\n",
    "    predictions,\n",
    "    c='black',\n",
    "    linewidth=2\n",
    ")\n",
    "plt.xlabel(\"Average Degre\")\n",
    "plt.ylabel(\"Mean-LocalComponent\")\n",
    "plt.show()"
   ]
  },
  {
   "cell_type": "code",
   "execution_count": 74,
   "metadata": {},
   "outputs": [],
   "source": [
    "#### with `statsmodels`"
   ]
  },
  {
   "cell_type": "code",
   "execution_count": 75,
   "metadata": {},
   "outputs": [
    {
     "data": {
      "text/html": [
       "<table class=\"simpletable\">\n",
       "<caption>OLS Regression Results</caption>\n",
       "<tr>\n",
       "  <th>Dep. Variable:</th>    <td>Mean-LocalComponent</td> <th>  R-squared:         </th> <td>   0.129</td>\n",
       "</tr>\n",
       "<tr>\n",
       "  <th>Model:</th>                    <td>OLS</td>         <th>  Adj. R-squared:    </th> <td>   0.111</td>\n",
       "</tr>\n",
       "<tr>\n",
       "  <th>Method:</th>              <td>Least Squares</td>    <th>  F-statistic:       </th> <td>   7.137</td>\n",
       "</tr>\n",
       "<tr>\n",
       "  <th>Date:</th>              <td>Tue, 16 Feb 2021</td>   <th>  Prob (F-statistic):</th>  <td>0.0103</td> \n",
       "</tr>\n",
       "<tr>\n",
       "  <th>Time:</th>                  <td>10:23:06</td>       <th>  Log-Likelihood:    </th> <td>  34.447</td>\n",
       "</tr>\n",
       "<tr>\n",
       "  <th>No. Observations:</th>       <td>    50</td>        <th>  AIC:               </th> <td>  -64.89</td>\n",
       "</tr>\n",
       "<tr>\n",
       "  <th>Df Residuals:</th>           <td>    48</td>        <th>  BIC:               </th> <td>  -61.07</td>\n",
       "</tr>\n",
       "<tr>\n",
       "  <th>Df Model:</th>               <td>     1</td>        <th>                     </th>     <td> </td>   \n",
       "</tr>\n",
       "<tr>\n",
       "  <th>Covariance Type:</th>       <td>nonrobust</td>      <th>                     </th>     <td> </td>   \n",
       "</tr>\n",
       "</table>\n",
       "<table class=\"simpletable\">\n",
       "<tr>\n",
       "         <td></td>           <th>coef</th>     <th>std err</th>      <th>t</th>      <th>P>|t|</th>  <th>[0.025</th>    <th>0.975]</th>  \n",
       "</tr>\n",
       "<tr>\n",
       "  <th>const</th>          <td>    0.4386</td> <td>    0.021</td> <td>   21.224</td> <td> 0.000</td> <td>    0.397</td> <td>    0.480</td>\n",
       "</tr>\n",
       "<tr>\n",
       "  <th>Average Degree</th> <td>    0.0020</td> <td>    0.001</td> <td>    2.672</td> <td> 0.010</td> <td>    0.001</td> <td>    0.004</td>\n",
       "</tr>\n",
       "</table>\n",
       "<table class=\"simpletable\">\n",
       "<tr>\n",
       "  <th>Omnibus:</th>       <td> 5.764</td> <th>  Durbin-Watson:     </th> <td>   1.730</td>\n",
       "</tr>\n",
       "<tr>\n",
       "  <th>Prob(Omnibus):</th> <td> 0.056</td> <th>  Jarque-Bera (JB):  </th> <td>   4.754</td>\n",
       "</tr>\n",
       "<tr>\n",
       "  <th>Skew:</th>          <td>-0.722</td> <th>  Prob(JB):          </th> <td>  0.0928</td>\n",
       "</tr>\n",
       "<tr>\n",
       "  <th>Kurtosis:</th>      <td> 3.442</td> <th>  Cond. No.          </th> <td>    32.2</td>\n",
       "</tr>\n",
       "</table><br/><br/>Warnings:<br/>[1] Standard Errors assume that the covariance matrix of the errors is correctly specified."
      ],
      "text/plain": [
       "<class 'statsmodels.iolib.summary.Summary'>\n",
       "\"\"\"\n",
       "                             OLS Regression Results                            \n",
       "===============================================================================\n",
       "Dep. Variable:     Mean-LocalComponent   R-squared:                       0.129\n",
       "Model:                             OLS   Adj. R-squared:                  0.111\n",
       "Method:                  Least Squares   F-statistic:                     7.137\n",
       "Date:                 Tue, 16 Feb 2021   Prob (F-statistic):             0.0103\n",
       "Time:                         10:23:06   Log-Likelihood:                 34.447\n",
       "No. Observations:                   50   AIC:                            -64.89\n",
       "Df Residuals:                       48   BIC:                            -61.07\n",
       "Df Model:                            1                                         \n",
       "Covariance Type:             nonrobust                                         \n",
       "==================================================================================\n",
       "                     coef    std err          t      P>|t|      [0.025      0.975]\n",
       "----------------------------------------------------------------------------------\n",
       "const              0.4386      0.021     21.224      0.000       0.397       0.480\n",
       "Average Degree     0.0020      0.001      2.672      0.010       0.001       0.004\n",
       "==============================================================================\n",
       "Omnibus:                        5.764   Durbin-Watson:                   1.730\n",
       "Prob(Omnibus):                  0.056   Jarque-Bera (JB):                4.754\n",
       "Skew:                          -0.722   Prob(JB):                       0.0928\n",
       "Kurtosis:                       3.442   Cond. No.                         32.2\n",
       "==============================================================================\n",
       "\n",
       "Warnings:\n",
       "[1] Standard Errors assume that the covariance matrix of the errors is correctly specified.\n",
       "\"\"\""
      ]
     },
     "execution_count": 75,
     "metadata": {},
     "output_type": "execute_result"
    }
   ],
   "source": [
    "X = sm.add_constant(X) # adding a constant\n",
    " \n",
    "model = sm.OLS(Y, X).fit()\n",
    "predictions = model.predict(X) \n",
    " \n",
    "print_model = model.summary()\n",
    "print_model"
   ]
  },
  {
   "cell_type": "code",
   "execution_count": 74,
   "metadata": {},
   "outputs": [
    {
     "data": {
      "text/plain": [
       "const             4.865360e-26\n",
       "Average Degree    1.028057e-02\n",
       "dtype: float64"
      ]
     },
     "execution_count": 74,
     "metadata": {},
     "output_type": "execute_result"
    }
   ],
   "source": [
    "model.pvalues[model.pvalues < 0.05]"
   ]
  },
  {
   "cell_type": "code",
   "execution_count": 75,
   "metadata": {},
   "outputs": [
    {
     "data": {
      "text/plain": [
       "const    4.865360e-26\n",
       "dtype: float64"
      ]
     },
     "execution_count": 75,
     "metadata": {},
     "output_type": "execute_result"
    }
   ],
   "source": [
    "model.pvalues[model.pvalues < 0.01]"
   ]
  },
  {
   "cell_type": "markdown",
   "metadata": {},
   "source": [
    "### Independent variable: Average Distance"
   ]
  },
  {
   "cell_type": "code",
   "execution_count": 76,
   "metadata": {},
   "outputs": [],
   "source": [
    "X = df_macro[['Average Distance']]"
   ]
  },
  {
   "cell_type": "code",
   "execution_count": 77,
   "metadata": {
    "scrolled": false
   },
   "outputs": [],
   "source": [
    "Y = df_dependent_variables['Mean-LocalComponent']"
   ]
  },
  {
   "cell_type": "markdown",
   "metadata": {},
   "source": [
    "#### with `sklearn`"
   ]
  },
  {
   "cell_type": "code",
   "execution_count": 78,
   "metadata": {},
   "outputs": [
    {
     "data": {
      "text/plain": [
       "LinearRegression(copy_X=True, fit_intercept=True, n_jobs=None, normalize=False)"
      ]
     },
     "execution_count": 78,
     "metadata": {},
     "output_type": "execute_result"
    }
   ],
   "source": [
    "regr = LinearRegression()\n",
    "regr.fit(X, Y)"
   ]
  },
  {
   "cell_type": "code",
   "execution_count": 79,
   "metadata": {},
   "outputs": [
    {
     "name": "stdout",
     "output_type": "stream",
     "text": [
      "Intercept: \n",
      " 0.5182716134789307\n",
      "Coefficients: \n",
      " [-0.00988522]\n"
     ]
    }
   ],
   "source": [
    "print('Intercept: \\n', regr.intercept_)\n",
    "print('Coefficients: \\n', regr.coef_)"
   ]
  },
  {
   "cell_type": "markdown",
   "metadata": {},
   "source": [
    "#### Plot "
   ]
  },
  {
   "cell_type": "code",
   "execution_count": 80,
   "metadata": {
    "scrolled": false
   },
   "outputs": [
    {
     "data": {
      "image/png": "[encoded data removed]",
      "text/plain": [
       "<Figure size 432x288 with 1 Axes>"
      ]
     },
     "metadata": {
      "needs_background": "light"
     },
     "output_type": "display_data"
    }
   ],
   "source": [
    "predictions = regr.predict(X)\n",
    "# plt.figure(figsize=(16, 8))\n",
    "plt.scatter(\n",
    "    df_macro['Average Distance'],\n",
    "    df_dependent_variables['Mean-LocalComponent'],\n",
    "    c='red'\n",
    ")\n",
    "plt.plot(\n",
    "    df_macro['Average Distance'],\n",
    "    predictions,\n",
    "    c='black',\n",
    "    linewidth=2\n",
    ")\n",
    "plt.xlabel(\"Average Distance\")\n",
    "plt.ylabel(\"Mean-LocalComponent\")\n",
    "plt.show()"
   ]
  },
  {
   "cell_type": "markdown",
   "metadata": {},
   "source": [
    "#### with `statsmodels`"
   ]
  },
  {
   "cell_type": "code",
   "execution_count": 81,
   "metadata": {
    "scrolled": false
   },
   "outputs": [
    {
     "data": {
      "text/html": [
       "<table class=\"simpletable\">\n",
       "<caption>OLS Regression Results</caption>\n",
       "<tr>\n",
       "  <th>Dep. Variable:</th>    <td>Mean-LocalComponent</td> <th>  R-squared:         </th> <td>   0.079</td>\n",
       "</tr>\n",
       "<tr>\n",
       "  <th>Model:</th>                    <td>OLS</td>         <th>  Adj. R-squared:    </th> <td>   0.059</td>\n",
       "</tr>\n",
       "<tr>\n",
       "  <th>Method:</th>              <td>Least Squares</td>    <th>  F-statistic:       </th> <td>   4.097</td>\n",
       "</tr>\n",
       "<tr>\n",
       "  <th>Date:</th>              <td>Tue, 16 Feb 2021</td>   <th>  Prob (F-statistic):</th>  <td>0.0485</td> \n",
       "</tr>\n",
       "<tr>\n",
       "  <th>Time:</th>                  <td>00:14:26</td>       <th>  Log-Likelihood:    </th> <td>  33.029</td>\n",
       "</tr>\n",
       "<tr>\n",
       "  <th>No. Observations:</th>       <td>    50</td>        <th>  AIC:               </th> <td>  -62.06</td>\n",
       "</tr>\n",
       "<tr>\n",
       "  <th>Df Residuals:</th>           <td>    48</td>        <th>  BIC:               </th> <td>  -58.23</td>\n",
       "</tr>\n",
       "<tr>\n",
       "  <th>Df Model:</th>               <td>     1</td>        <th>                     </th>     <td> </td>   \n",
       "</tr>\n",
       "<tr>\n",
       "  <th>Covariance Type:</th>       <td>nonrobust</td>      <th>                     </th>     <td> </td>   \n",
       "</tr>\n",
       "</table>\n",
       "<table class=\"simpletable\">\n",
       "<tr>\n",
       "          <td></td>            <th>coef</th>     <th>std err</th>      <th>t</th>      <th>P>|t|</th>  <th>[0.025</th>    <th>0.975]</th>  \n",
       "</tr>\n",
       "<tr>\n",
       "  <th>const</th>            <td>    0.5183</td> <td>    0.031</td> <td>   16.844</td> <td> 0.000</td> <td>    0.456</td> <td>    0.580</td>\n",
       "</tr>\n",
       "<tr>\n",
       "  <th>Average Distance</th> <td>   -0.0099</td> <td>    0.005</td> <td>   -2.024</td> <td> 0.049</td> <td>   -0.020</td> <td>-6.59e-05</td>\n",
       "</tr>\n",
       "</table>\n",
       "<table class=\"simpletable\">\n",
       "<tr>\n",
       "  <th>Omnibus:</th>       <td>12.462</td> <th>  Durbin-Watson:     </th> <td>   1.526</td>\n",
       "</tr>\n",
       "<tr>\n",
       "  <th>Prob(Omnibus):</th> <td> 0.002</td> <th>  Jarque-Bera (JB):  </th> <td>  12.750</td>\n",
       "</tr>\n",
       "<tr>\n",
       "  <th>Skew:</th>          <td>-1.103</td> <th>  Prob(JB):          </th> <td> 0.00170</td>\n",
       "</tr>\n",
       "<tr>\n",
       "  <th>Kurtosis:</th>      <td> 4.119</td> <th>  Cond. No.          </th> <td>    10.9</td>\n",
       "</tr>\n",
       "</table><br/><br/>Warnings:<br/>[1] Standard Errors assume that the covariance matrix of the errors is correctly specified."
      ],
      "text/plain": [
       "<class 'statsmodels.iolib.summary.Summary'>\n",
       "\"\"\"\n",
       "                             OLS Regression Results                            \n",
       "===============================================================================\n",
       "Dep. Variable:     Mean-LocalComponent   R-squared:                       0.079\n",
       "Model:                             OLS   Adj. R-squared:                  0.059\n",
       "Method:                  Least Squares   F-statistic:                     4.097\n",
       "Date:                 Tue, 16 Feb 2021   Prob (F-statistic):             0.0485\n",
       "Time:                         00:14:26   Log-Likelihood:                 33.029\n",
       "No. Observations:                   50   AIC:                            -62.06\n",
       "Df Residuals:                       48   BIC:                            -58.23\n",
       "Df Model:                            1                                         \n",
       "Covariance Type:             nonrobust                                         \n",
       "====================================================================================\n",
       "                       coef    std err          t      P>|t|      [0.025      0.975]\n",
       "------------------------------------------------------------------------------------\n",
       "const                0.5183      0.031     16.844      0.000       0.456       0.580\n",
       "Average Distance    -0.0099      0.005     -2.024      0.049      -0.020   -6.59e-05\n",
       "==============================================================================\n",
       "Omnibus:                       12.462   Durbin-Watson:                   1.526\n",
       "Prob(Omnibus):                  0.002   Jarque-Bera (JB):               12.750\n",
       "Skew:                          -1.103   Prob(JB):                      0.00170\n",
       "Kurtosis:                       4.119   Cond. No.                         10.9\n",
       "==============================================================================\n",
       "\n",
       "Warnings:\n",
       "[1] Standard Errors assume that the covariance matrix of the errors is correctly specified.\n",
       "\"\"\""
      ]
     },
     "execution_count": 81,
     "metadata": {},
     "output_type": "execute_result"
    }
   ],
   "source": [
    "X = sm.add_constant(X) # adding a constant\n",
    " \n",
    "model = sm.OLS(Y, X).fit()\n",
    "predictions = model.predict(X) \n",
    " \n",
    "print_model = model.summary()\n",
    "print_model"
   ]
  },
  {
   "cell_type": "code",
   "execution_count": 82,
   "metadata": {
    "scrolled": true
   },
   "outputs": [
    {
     "data": {
      "text/plain": [
       "const               8.766518e-22\n",
       "Average Distance    4.854060e-02\n",
       "dtype: float64"
      ]
     },
     "execution_count": 82,
     "metadata": {},
     "output_type": "execute_result"
    }
   ],
   "source": [
    "model.pvalues[model.pvalues < 0.05]"
   ]
  },
  {
   "cell_type": "code",
   "execution_count": 83,
   "metadata": {},
   "outputs": [
    {
     "data": {
      "text/plain": [
       "const    8.766518e-22\n",
       "dtype: float64"
      ]
     },
     "execution_count": 83,
     "metadata": {},
     "output_type": "execute_result"
    }
   ],
   "source": [
    "model.pvalues[model.pvalues < 0.01]"
   ]
  },
  {
   "cell_type": "markdown",
   "metadata": {},
   "source": [
    "### Independent variable: Density"
   ]
  },
  {
   "cell_type": "code",
   "execution_count": 84,
   "metadata": {},
   "outputs": [],
   "source": [
    "X = df_macro[['Density']]"
   ]
  },
  {
   "cell_type": "code",
   "execution_count": 85,
   "metadata": {
    "scrolled": false
   },
   "outputs": [],
   "source": [
    "Y = df_dependent_variables['Mean-LocalComponent']"
   ]
  },
  {
   "cell_type": "markdown",
   "metadata": {},
   "source": [
    "#### with `sklearn`"
   ]
  },
  {
   "cell_type": "code",
   "execution_count": 86,
   "metadata": {},
   "outputs": [
    {
     "data": {
      "text/plain": [
       "LinearRegression(copy_X=True, fit_intercept=True, n_jobs=None, normalize=False)"
      ]
     },
     "execution_count": 86,
     "metadata": {},
     "output_type": "execute_result"
    }
   ],
   "source": [
    "regr = LinearRegression()\n",
    "regr.fit(X, Y)"
   ]
  },
  {
   "cell_type": "code",
   "execution_count": 87,
   "metadata": {},
   "outputs": [
    {
     "name": "stdout",
     "output_type": "stream",
     "text": [
      "Intercept: \n",
      " 0.4282170484423535\n",
      "Coefficients: \n",
      " [1.26794364]\n"
     ]
    }
   ],
   "source": [
    "print('Intercept: \\n', regr.intercept_)\n",
    "print('Coefficients: \\n', regr.coef_)"
   ]
  },
  {
   "cell_type": "markdown",
   "metadata": {},
   "source": [
    "#### Plot "
   ]
  },
  {
   "cell_type": "code",
   "execution_count": 88,
   "metadata": {
    "scrolled": false
   },
   "outputs": [
    {
     "data": {
      "image/png": "[encoded data removed]",
      "text/plain": [
       "<Figure size 432x288 with 1 Axes>"
      ]
     },
     "metadata": {
      "needs_background": "light"
     },
     "output_type": "display_data"
    }
   ],
   "source": [
    "predictions = regr.predict(X)\n",
    "# plt.figure(figsize=(16, 8))\n",
    "plt.scatter(\n",
    "    df_macro['Density'],\n",
    "    df_dependent_variables['Mean-LocalComponent'],\n",
    "    c='red'\n",
    ")\n",
    "plt.plot(\n",
    "    df_macro['Density'],\n",
    "    predictions,\n",
    "    c='black',\n",
    "    linewidth=2\n",
    ")\n",
    "plt.xlabel(\"Density\")\n",
    "plt.ylabel(\"Mean-LocalComponent\")\n",
    "plt.show()"
   ]
  },
  {
   "cell_type": "markdown",
   "metadata": {},
   "source": [
    "#### with `statsmodels`"
   ]
  },
  {
   "cell_type": "code",
   "execution_count": 89,
   "metadata": {
    "scrolled": false
   },
   "outputs": [
    {
     "data": {
      "text/html": [
       "<table class=\"simpletable\">\n",
       "<caption>OLS Regression Results</caption>\n",
       "<tr>\n",
       "  <th>Dep. Variable:</th>    <td>Mean-LocalComponent</td> <th>  R-squared:         </th> <td>   0.160</td>\n",
       "</tr>\n",
       "<tr>\n",
       "  <th>Model:</th>                    <td>OLS</td>         <th>  Adj. R-squared:    </th> <td>   0.142</td>\n",
       "</tr>\n",
       "<tr>\n",
       "  <th>Method:</th>              <td>Least Squares</td>    <th>  F-statistic:       </th> <td>   9.112</td>\n",
       "</tr>\n",
       "<tr>\n",
       "  <th>Date:</th>              <td>Tue, 16 Feb 2021</td>   <th>  Prob (F-statistic):</th>  <td>0.00406</td>\n",
       "</tr>\n",
       "<tr>\n",
       "  <th>Time:</th>                  <td>00:14:26</td>       <th>  Log-Likelihood:    </th> <td>  35.326</td>\n",
       "</tr>\n",
       "<tr>\n",
       "  <th>No. Observations:</th>       <td>    50</td>        <th>  AIC:               </th> <td>  -66.65</td>\n",
       "</tr>\n",
       "<tr>\n",
       "  <th>Df Residuals:</th>           <td>    48</td>        <th>  BIC:               </th> <td>  -62.83</td>\n",
       "</tr>\n",
       "<tr>\n",
       "  <th>Df Model:</th>               <td>     1</td>        <th>                     </th>     <td> </td>   \n",
       "</tr>\n",
       "<tr>\n",
       "  <th>Covariance Type:</th>       <td>nonrobust</td>      <th>                     </th>     <td> </td>   \n",
       "</tr>\n",
       "</table>\n",
       "<table class=\"simpletable\">\n",
       "<tr>\n",
       "     <td></td>        <th>coef</th>     <th>std err</th>      <th>t</th>      <th>P>|t|</th>  <th>[0.025</th>    <th>0.975]</th>  \n",
       "</tr>\n",
       "<tr>\n",
       "  <th>const</th>   <td>    0.4282</td> <td>    0.022</td> <td>   19.773</td> <td> 0.000</td> <td>    0.385</td> <td>    0.472</td>\n",
       "</tr>\n",
       "<tr>\n",
       "  <th>Density</th> <td>    1.2679</td> <td>    0.420</td> <td>    3.019</td> <td> 0.004</td> <td>    0.423</td> <td>    2.112</td>\n",
       "</tr>\n",
       "</table>\n",
       "<table class=\"simpletable\">\n",
       "<tr>\n",
       "  <th>Omnibus:</th>       <td>17.063</td> <th>  Durbin-Watson:     </th> <td>   1.600</td>\n",
       "</tr>\n",
       "<tr>\n",
       "  <th>Prob(Omnibus):</th> <td> 0.000</td> <th>  Jarque-Bera (JB):  </th> <td>  22.024</td>\n",
       "</tr>\n",
       "<tr>\n",
       "  <th>Skew:</th>          <td>-1.208</td> <th>  Prob(JB):          </th> <td>1.65e-05</td>\n",
       "</tr>\n",
       "<tr>\n",
       "  <th>Kurtosis:</th>      <td> 5.176</td> <th>  Cond. No.          </th> <td>    24.4</td>\n",
       "</tr>\n",
       "</table><br/><br/>Warnings:<br/>[1] Standard Errors assume that the covariance matrix of the errors is correctly specified."
      ],
      "text/plain": [
       "<class 'statsmodels.iolib.summary.Summary'>\n",
       "\"\"\"\n",
       "                             OLS Regression Results                            \n",
       "===============================================================================\n",
       "Dep. Variable:     Mean-LocalComponent   R-squared:                       0.160\n",
       "Model:                             OLS   Adj. R-squared:                  0.142\n",
       "Method:                  Least Squares   F-statistic:                     9.112\n",
       "Date:                 Tue, 16 Feb 2021   Prob (F-statistic):            0.00406\n",
       "Time:                         00:14:26   Log-Likelihood:                 35.326\n",
       "No. Observations:                   50   AIC:                            -66.65\n",
       "Df Residuals:                       48   BIC:                            -62.83\n",
       "Df Model:                            1                                         \n",
       "Covariance Type:             nonrobust                                         \n",
       "==============================================================================\n",
       "                 coef    std err          t      P>|t|      [0.025      0.975]\n",
       "------------------------------------------------------------------------------\n",
       "const          0.4282      0.022     19.773      0.000       0.385       0.472\n",
       "Density        1.2679      0.420      3.019      0.004       0.423       2.112\n",
       "==============================================================================\n",
       "Omnibus:                       17.063   Durbin-Watson:                   1.600\n",
       "Prob(Omnibus):                  0.000   Jarque-Bera (JB):               22.024\n",
       "Skew:                          -1.208   Prob(JB):                     1.65e-05\n",
       "Kurtosis:                       5.176   Cond. No.                         24.4\n",
       "==============================================================================\n",
       "\n",
       "Warnings:\n",
       "[1] Standard Errors assume that the covariance matrix of the errors is correctly specified.\n",
       "\"\"\""
      ]
     },
     "execution_count": 89,
     "metadata": {},
     "output_type": "execute_result"
    }
   ],
   "source": [
    "X = sm.add_constant(X) # adding a constant\n",
    " \n",
    "model = sm.OLS(Y, X).fit()\n",
    "predictions = model.predict(X) \n",
    " \n",
    "print_model = model.summary()\n",
    "print_model"
   ]
  },
  {
   "cell_type": "code",
   "execution_count": 90,
   "metadata": {
    "scrolled": false
   },
   "outputs": [
    {
     "data": {
      "text/plain": [
       "const      1.034304e-24\n",
       "Density    4.057721e-03\n",
       "dtype: float64"
      ]
     },
     "execution_count": 90,
     "metadata": {},
     "output_type": "execute_result"
    }
   ],
   "source": [
    "model.pvalues[model.pvalues < 0.05]"
   ]
  },
  {
   "cell_type": "code",
   "execution_count": 91,
   "metadata": {},
   "outputs": [
    {
     "data": {
      "text/plain": [
       "const      1.034304e-24\n",
       "Density    4.057721e-03\n",
       "dtype: float64"
      ]
     },
     "execution_count": 91,
     "metadata": {},
     "output_type": "execute_result"
    }
   ],
   "source": [
    "model.pvalues[model.pvalues < 0.01]"
   ]
  },
  {
   "cell_type": "markdown",
   "metadata": {},
   "source": [
    "### Independent variable: Transitivity"
   ]
  },
  {
   "cell_type": "code",
   "execution_count": 92,
   "metadata": {},
   "outputs": [],
   "source": [
    "X = df_macro[['Transitivity']]"
   ]
  },
  {
   "cell_type": "code",
   "execution_count": 93,
   "metadata": {
    "scrolled": false
   },
   "outputs": [],
   "source": [
    "Y = df_dependent_variables['Mean-LocalComponent']"
   ]
  },
  {
   "cell_type": "markdown",
   "metadata": {},
   "source": [
    "#### with `sklearn`"
   ]
  },
  {
   "cell_type": "code",
   "execution_count": 94,
   "metadata": {},
   "outputs": [
    {
     "data": {
      "text/plain": [
       "LinearRegression(copy_X=True, fit_intercept=True, n_jobs=None, normalize=False)"
      ]
     },
     "execution_count": 94,
     "metadata": {},
     "output_type": "execute_result"
    }
   ],
   "source": [
    "regr = LinearRegression()\n",
    "regr.fit(X, Y)"
   ]
  },
  {
   "cell_type": "code",
   "execution_count": 95,
   "metadata": {},
   "outputs": [
    {
     "name": "stdout",
     "output_type": "stream",
     "text": [
      "Intercept: \n",
      " 0.37472409885363533\n",
      "Coefficients: \n",
      " [0.35723677]\n"
     ]
    }
   ],
   "source": [
    "print('Intercept: \\n', regr.intercept_)\n",
    "print('Coefficients: \\n', regr.coef_)"
   ]
  },
  {
   "cell_type": "markdown",
   "metadata": {},
   "source": [
    "#### Plot "
   ]
  },
  {
   "cell_type": "code",
   "execution_count": 96,
   "metadata": {
    "scrolled": false
   },
   "outputs": [
    {
     "data": {
      "image/png": "[encoded data removed]",
      "text/plain": [
       "<Figure size 432x288 with 1 Axes>"
      ]
     },
     "metadata": {
      "needs_background": "light"
     },
     "output_type": "display_data"
    }
   ],
   "source": [
    "predictions = regr.predict(X)\n",
    "# plt.figure(figsize=(16, 8))\n",
    "plt.scatter(\n",
    "    df_macro['Transitivity'],\n",
    "    df_dependent_variables['Mean-LocalComponent'],\n",
    "    c='red'\n",
    ")\n",
    "plt.plot(\n",
    "    df_macro['Transitivity'],\n",
    "    predictions,\n",
    "    c='black',\n",
    "    linewidth=2\n",
    ")\n",
    "plt.xlabel(\"Transitivity\")\n",
    "plt.ylabel(\"Mean-LocalComponent\")\n",
    "plt.show()"
   ]
  },
  {
   "cell_type": "markdown",
   "metadata": {},
   "source": [
    "#### with `statsmodels`"
   ]
  },
  {
   "cell_type": "code",
   "execution_count": 97,
   "metadata": {
    "scrolled": false
   },
   "outputs": [
    {
     "data": {
      "text/html": [
       "<table class=\"simpletable\">\n",
       "<caption>OLS Regression Results</caption>\n",
       "<tr>\n",
       "  <th>Dep. Variable:</th>    <td>Mean-LocalComponent</td> <th>  R-squared:         </th> <td>   0.311</td>\n",
       "</tr>\n",
       "<tr>\n",
       "  <th>Model:</th>                    <td>OLS</td>         <th>  Adj. R-squared:    </th> <td>   0.297</td>\n",
       "</tr>\n",
       "<tr>\n",
       "  <th>Method:</th>              <td>Least Squares</td>    <th>  F-statistic:       </th> <td>   21.68</td>\n",
       "</tr>\n",
       "<tr>\n",
       "  <th>Date:</th>              <td>Tue, 16 Feb 2021</td>   <th>  Prob (F-statistic):</th> <td>2.57e-05</td>\n",
       "</tr>\n",
       "<tr>\n",
       "  <th>Time:</th>                  <td>00:14:27</td>       <th>  Log-Likelihood:    </th> <td>  40.299</td>\n",
       "</tr>\n",
       "<tr>\n",
       "  <th>No. Observations:</th>       <td>    50</td>        <th>  AIC:               </th> <td>  -76.60</td>\n",
       "</tr>\n",
       "<tr>\n",
       "  <th>Df Residuals:</th>           <td>    48</td>        <th>  BIC:               </th> <td>  -72.77</td>\n",
       "</tr>\n",
       "<tr>\n",
       "  <th>Df Model:</th>               <td>     1</td>        <th>                     </th>     <td> </td>   \n",
       "</tr>\n",
       "<tr>\n",
       "  <th>Covariance Type:</th>       <td>nonrobust</td>      <th>                     </th>     <td> </td>   \n",
       "</tr>\n",
       "</table>\n",
       "<table class=\"simpletable\">\n",
       "<tr>\n",
       "        <td></td>          <th>coef</th>     <th>std err</th>      <th>t</th>      <th>P>|t|</th>  <th>[0.025</th>    <th>0.975]</th>  \n",
       "</tr>\n",
       "<tr>\n",
       "  <th>const</th>        <td>    0.3747</td> <td>    0.025</td> <td>   14.777</td> <td> 0.000</td> <td>    0.324</td> <td>    0.426</td>\n",
       "</tr>\n",
       "<tr>\n",
       "  <th>Transitivity</th> <td>    0.3572</td> <td>    0.077</td> <td>    4.656</td> <td> 0.000</td> <td>    0.203</td> <td>    0.511</td>\n",
       "</tr>\n",
       "</table>\n",
       "<table class=\"simpletable\">\n",
       "<tr>\n",
       "  <th>Omnibus:</th>       <td>13.524</td> <th>  Durbin-Watson:     </th> <td>   1.684</td>\n",
       "</tr>\n",
       "<tr>\n",
       "  <th>Prob(Omnibus):</th> <td> 0.001</td> <th>  Jarque-Bera (JB):  </th> <td>  17.533</td>\n",
       "</tr>\n",
       "<tr>\n",
       "  <th>Skew:</th>          <td>-0.924</td> <th>  Prob(JB):          </th> <td>0.000156</td>\n",
       "</tr>\n",
       "<tr>\n",
       "  <th>Kurtosis:</th>      <td> 5.237</td> <th>  Cond. No.          </th> <td>    5.27</td>\n",
       "</tr>\n",
       "</table><br/><br/>Warnings:<br/>[1] Standard Errors assume that the covariance matrix of the errors is correctly specified."
      ],
      "text/plain": [
       "<class 'statsmodels.iolib.summary.Summary'>\n",
       "\"\"\"\n",
       "                             OLS Regression Results                            \n",
       "===============================================================================\n",
       "Dep. Variable:     Mean-LocalComponent   R-squared:                       0.311\n",
       "Model:                             OLS   Adj. R-squared:                  0.297\n",
       "Method:                  Least Squares   F-statistic:                     21.68\n",
       "Date:                 Tue, 16 Feb 2021   Prob (F-statistic):           2.57e-05\n",
       "Time:                         00:14:27   Log-Likelihood:                 40.299\n",
       "No. Observations:                   50   AIC:                            -76.60\n",
       "Df Residuals:                       48   BIC:                            -72.77\n",
       "Df Model:                            1                                         \n",
       "Covariance Type:             nonrobust                                         \n",
       "================================================================================\n",
       "                   coef    std err          t      P>|t|      [0.025      0.975]\n",
       "--------------------------------------------------------------------------------\n",
       "const            0.3747      0.025     14.777      0.000       0.324       0.426\n",
       "Transitivity     0.3572      0.077      4.656      0.000       0.203       0.511\n",
       "==============================================================================\n",
       "Omnibus:                       13.524   Durbin-Watson:                   1.684\n",
       "Prob(Omnibus):                  0.001   Jarque-Bera (JB):               17.533\n",
       "Skew:                          -0.924   Prob(JB):                     0.000156\n",
       "Kurtosis:                       5.237   Cond. No.                         5.27\n",
       "==============================================================================\n",
       "\n",
       "Warnings:\n",
       "[1] Standard Errors assume that the covariance matrix of the errors is correctly specified.\n",
       "\"\"\""
      ]
     },
     "execution_count": 97,
     "metadata": {},
     "output_type": "execute_result"
    }
   ],
   "source": [
    "X = sm.add_constant(X) # adding a constant\n",
    " \n",
    "model = sm.OLS(Y, X).fit()\n",
    "predictions = model.predict(X) \n",
    " \n",
    "print_model = model.summary()\n",
    "print_model"
   ]
  },
  {
   "cell_type": "code",
   "execution_count": 98,
   "metadata": {
    "scrolled": true
   },
   "outputs": [
    {
     "data": {
      "text/plain": [
       "const           1.734707e-19\n",
       "Transitivity    2.571025e-05\n",
       "dtype: float64"
      ]
     },
     "execution_count": 98,
     "metadata": {},
     "output_type": "execute_result"
    }
   ],
   "source": [
    "model.pvalues[model.pvalues < 0.05]"
   ]
  },
  {
   "cell_type": "code",
   "execution_count": 99,
   "metadata": {},
   "outputs": [
    {
     "data": {
      "text/plain": [
       "const           1.734707e-19\n",
       "Transitivity    2.571025e-05\n",
       "dtype: float64"
      ]
     },
     "execution_count": 99,
     "metadata": {},
     "output_type": "execute_result"
    }
   ],
   "source": [
    "model.pvalues[model.pvalues < 0.01]"
   ]
  },
  {
   "cell_type": "markdown",
   "metadata": {},
   "source": [
    "### Independent variable: Assortativity"
   ]
  },
  {
   "cell_type": "code",
   "execution_count": 100,
   "metadata": {},
   "outputs": [],
   "source": [
    "X = df_macro[['Assortativity']]"
   ]
  },
  {
   "cell_type": "code",
   "execution_count": 101,
   "metadata": {
    "scrolled": false
   },
   "outputs": [],
   "source": [
    "Y = df_dependent_variables['Mean-LocalComponent']"
   ]
  },
  {
   "cell_type": "markdown",
   "metadata": {},
   "source": [
    "#### with `sklearn`"
   ]
  },
  {
   "cell_type": "code",
   "execution_count": 102,
   "metadata": {},
   "outputs": [
    {
     "data": {
      "text/plain": [
       "LinearRegression(copy_X=True, fit_intercept=True, n_jobs=None, normalize=False)"
      ]
     },
     "execution_count": 102,
     "metadata": {},
     "output_type": "execute_result"
    }
   ],
   "source": [
    "regr = LinearRegression()\n",
    "regr.fit(X, Y)"
   ]
  },
  {
   "cell_type": "code",
   "execution_count": 103,
   "metadata": {},
   "outputs": [
    {
     "name": "stdout",
     "output_type": "stream",
     "text": [
      "Intercept: \n",
      " 0.47174629905876936\n",
      "Coefficients: \n",
      " [0.13632983]\n"
     ]
    }
   ],
   "source": [
    "print('Intercept: \\n', regr.intercept_)\n",
    "print('Coefficients: \\n', regr.coef_)"
   ]
  },
  {
   "cell_type": "markdown",
   "metadata": {},
   "source": [
    "#### Plot "
   ]
  },
  {
   "cell_type": "code",
   "execution_count": 104,
   "metadata": {
    "scrolled": false
   },
   "outputs": [
    {
     "data": {
      "image/png": "[encoded data removed]",
      "text/plain": [
       "<Figure size 432x288 with 1 Axes>"
      ]
     },
     "metadata": {
      "needs_background": "light"
     },
     "output_type": "display_data"
    }
   ],
   "source": [
    "predictions = regr.predict(X)\n",
    "# plt.figure(figsize=(16, 8))\n",
    "plt.scatter(\n",
    "    df_macro['Assortativity'],\n",
    "    df_dependent_variables['Mean-LocalComponent'],\n",
    "    c='red'\n",
    ")\n",
    "plt.plot(\n",
    "    df_macro['Assortativity'],\n",
    "    predictions,\n",
    "    c='black',\n",
    "    linewidth=2\n",
    ")\n",
    "plt.xlabel(\"Assortativity\")\n",
    "plt.ylabel(\"Mean-LocalComponent\")\n",
    "plt.show()"
   ]
  },
  {
   "cell_type": "markdown",
   "metadata": {},
   "source": [
    "#### with `statsmodels`"
   ]
  },
  {
   "cell_type": "code",
   "execution_count": 105,
   "metadata": {
    "scrolled": false
   },
   "outputs": [
    {
     "data": {
      "text/html": [
       "<table class=\"simpletable\">\n",
       "<caption>OLS Regression Results</caption>\n",
       "<tr>\n",
       "  <th>Dep. Variable:</th>    <td>Mean-LocalComponent</td> <th>  R-squared:         </th> <td>   0.075</td>\n",
       "</tr>\n",
       "<tr>\n",
       "  <th>Model:</th>                    <td>OLS</td>         <th>  Adj. R-squared:    </th> <td>   0.056</td>\n",
       "</tr>\n",
       "<tr>\n",
       "  <th>Method:</th>              <td>Least Squares</td>    <th>  F-statistic:       </th> <td>   3.915</td>\n",
       "</tr>\n",
       "<tr>\n",
       "  <th>Date:</th>              <td>Tue, 16 Feb 2021</td>   <th>  Prob (F-statistic):</th>  <td>0.0536</td> \n",
       "</tr>\n",
       "<tr>\n",
       "  <th>Time:</th>                  <td>00:14:27</td>       <th>  Log-Likelihood:    </th> <td>  32.941</td>\n",
       "</tr>\n",
       "<tr>\n",
       "  <th>No. Observations:</th>       <td>    50</td>        <th>  AIC:               </th> <td>  -61.88</td>\n",
       "</tr>\n",
       "<tr>\n",
       "  <th>Df Residuals:</th>           <td>    48</td>        <th>  BIC:               </th> <td>  -58.06</td>\n",
       "</tr>\n",
       "<tr>\n",
       "  <th>Df Model:</th>               <td>     1</td>        <th>                     </th>     <td> </td>   \n",
       "</tr>\n",
       "<tr>\n",
       "  <th>Covariance Type:</th>       <td>nonrobust</td>      <th>                     </th>     <td> </td>   \n",
       "</tr>\n",
       "</table>\n",
       "<table class=\"simpletable\">\n",
       "<tr>\n",
       "        <td></td>           <th>coef</th>     <th>std err</th>      <th>t</th>      <th>P>|t|</th>  <th>[0.025</th>    <th>0.975]</th>  \n",
       "</tr>\n",
       "<tr>\n",
       "  <th>const</th>         <td>    0.4717</td> <td>    0.018</td> <td>   25.947</td> <td> 0.000</td> <td>    0.435</td> <td>    0.508</td>\n",
       "</tr>\n",
       "<tr>\n",
       "  <th>Assortativity</th> <td>    0.1363</td> <td>    0.069</td> <td>    1.979</td> <td> 0.054</td> <td>   -0.002</td> <td>    0.275</td>\n",
       "</tr>\n",
       "</table>\n",
       "<table class=\"simpletable\">\n",
       "<tr>\n",
       "  <th>Omnibus:</th>       <td> 3.834</td> <th>  Durbin-Watson:     </th> <td>   1.640</td>\n",
       "</tr>\n",
       "<tr>\n",
       "  <th>Prob(Omnibus):</th> <td> 0.147</td> <th>  Jarque-Bera (JB):  </th> <td>   2.798</td>\n",
       "</tr>\n",
       "<tr>\n",
       "  <th>Skew:</th>          <td>-0.534</td> <th>  Prob(JB):          </th> <td>   0.247</td>\n",
       "</tr>\n",
       "<tr>\n",
       "  <th>Kurtosis:</th>      <td> 3.448</td> <th>  Cond. No.          </th> <td>    3.82</td>\n",
       "</tr>\n",
       "</table><br/><br/>Warnings:<br/>[1] Standard Errors assume that the covariance matrix of the errors is correctly specified."
      ],
      "text/plain": [
       "<class 'statsmodels.iolib.summary.Summary'>\n",
       "\"\"\"\n",
       "                             OLS Regression Results                            \n",
       "===============================================================================\n",
       "Dep. Variable:     Mean-LocalComponent   R-squared:                       0.075\n",
       "Model:                             OLS   Adj. R-squared:                  0.056\n",
       "Method:                  Least Squares   F-statistic:                     3.915\n",
       "Date:                 Tue, 16 Feb 2021   Prob (F-statistic):             0.0536\n",
       "Time:                         00:14:27   Log-Likelihood:                 32.941\n",
       "No. Observations:                   50   AIC:                            -61.88\n",
       "Df Residuals:                       48   BIC:                            -58.06\n",
       "Df Model:                            1                                         \n",
       "Covariance Type:             nonrobust                                         \n",
       "=================================================================================\n",
       "                    coef    std err          t      P>|t|      [0.025      0.975]\n",
       "---------------------------------------------------------------------------------\n",
       "const             0.4717      0.018     25.947      0.000       0.435       0.508\n",
       "Assortativity     0.1363      0.069      1.979      0.054      -0.002       0.275\n",
       "==============================================================================\n",
       "Omnibus:                        3.834   Durbin-Watson:                   1.640\n",
       "Prob(Omnibus):                  0.147   Jarque-Bera (JB):                2.798\n",
       "Skew:                          -0.534   Prob(JB):                        0.247\n",
       "Kurtosis:                       3.448   Cond. No.                         3.82\n",
       "==============================================================================\n",
       "\n",
       "Warnings:\n",
       "[1] Standard Errors assume that the covariance matrix of the errors is correctly specified.\n",
       "\"\"\""
      ]
     },
     "execution_count": 105,
     "metadata": {},
     "output_type": "execute_result"
    }
   ],
   "source": [
    "X = sm.add_constant(X) # adding a constant\n",
    " \n",
    "model = sm.OLS(Y, X).fit()\n",
    "predictions = model.predict(X) \n",
    " \n",
    "print_model = model.summary()\n",
    "print_model"
   ]
  },
  {
   "cell_type": "code",
   "execution_count": 106,
   "metadata": {
    "scrolled": false
   },
   "outputs": [
    {
     "data": {
      "text/plain": [
       "const    6.748641e-30\n",
       "dtype: float64"
      ]
     },
     "execution_count": 106,
     "metadata": {},
     "output_type": "execute_result"
    }
   ],
   "source": [
    "model.pvalues[model.pvalues < 0.05]"
   ]
  },
  {
   "cell_type": "code",
   "execution_count": 107,
   "metadata": {},
   "outputs": [
    {
     "data": {
      "text/plain": [
       "const    6.748641e-30\n",
       "dtype: float64"
      ]
     },
     "execution_count": 107,
     "metadata": {},
     "output_type": "execute_result"
    }
   ],
   "source": [
    "model.pvalues[model.pvalues < 0.01]"
   ]
  },
  {
   "cell_type": "markdown",
   "metadata": {},
   "source": [
    "### Independent variable: Diameter"
   ]
  },
  {
   "cell_type": "code",
   "execution_count": 108,
   "metadata": {},
   "outputs": [],
   "source": [
    "X = df_macro[['Diameter']]"
   ]
  },
  {
   "cell_type": "code",
   "execution_count": 109,
   "metadata": {
    "scrolled": false
   },
   "outputs": [],
   "source": [
    "Y = df_dependent_variables['Mean-LocalComponent']"
   ]
  },
  {
   "cell_type": "markdown",
   "metadata": {},
   "source": [
    "#### with `sklearn`"
   ]
  },
  {
   "cell_type": "code",
   "execution_count": 110,
   "metadata": {},
   "outputs": [
    {
     "data": {
      "text/plain": [
       "LinearRegression(copy_X=True, fit_intercept=True, n_jobs=None, normalize=False)"
      ]
     },
     "execution_count": 110,
     "metadata": {},
     "output_type": "execute_result"
    }
   ],
   "source": [
    "regr = LinearRegression()\n",
    "regr.fit(X, Y)"
   ]
  },
  {
   "cell_type": "code",
   "execution_count": 111,
   "metadata": {},
   "outputs": [
    {
     "name": "stdout",
     "output_type": "stream",
     "text": [
      "Intercept: \n",
      " 0.5072178211938239\n",
      "Coefficients: \n",
      " [-0.00290117]\n"
     ]
    }
   ],
   "source": [
    "print('Intercept: \\n', regr.intercept_)\n",
    "print('Coefficients: \\n', regr.coef_)"
   ]
  },
  {
   "cell_type": "markdown",
   "metadata": {},
   "source": [
    "#### Plot "
   ]
  },
  {
   "cell_type": "code",
   "execution_count": 112,
   "metadata": {
    "scrolled": false
   },
   "outputs": [
    {
     "data": {
      "image/png": "[encoded data removed]",
      "text/plain": [
       "<Figure size 432x288 with 1 Axes>"
      ]
     },
     "metadata": {
      "needs_background": "light"
     },
     "output_type": "display_data"
    }
   ],
   "source": [
    "predictions = regr.predict(X)\n",
    "# plt.figure(figsize=(16, 8))\n",
    "plt.scatter(\n",
    "    df_macro['Diameter'],\n",
    "    df_dependent_variables['Mean-LocalComponent'],\n",
    "    c='red'\n",
    ")\n",
    "plt.plot(\n",
    "    df_macro['Diameter'],\n",
    "    predictions,\n",
    "    c='black',\n",
    "    linewidth=2\n",
    ")\n",
    "plt.xlabel(\"Diameter\")\n",
    "plt.ylabel(\"Mean-LocalComponent\")\n",
    "plt.show()"
   ]
  },
  {
   "cell_type": "markdown",
   "metadata": {},
   "source": [
    "#### with `statsmodels`"
   ]
  },
  {
   "cell_type": "code",
   "execution_count": 113,
   "metadata": {
    "scrolled": false
   },
   "outputs": [
    {
     "data": {
      "text/html": [
       "<table class=\"simpletable\">\n",
       "<caption>OLS Regression Results</caption>\n",
       "<tr>\n",
       "  <th>Dep. Variable:</th>    <td>Mean-LocalComponent</td> <th>  R-squared:         </th> <td>   0.060</td>\n",
       "</tr>\n",
       "<tr>\n",
       "  <th>Model:</th>                    <td>OLS</td>         <th>  Adj. R-squared:    </th> <td>   0.041</td>\n",
       "</tr>\n",
       "<tr>\n",
       "  <th>Method:</th>              <td>Least Squares</td>    <th>  F-statistic:       </th> <td>   3.072</td>\n",
       "</tr>\n",
       "<tr>\n",
       "  <th>Date:</th>              <td>Tue, 16 Feb 2021</td>   <th>  Prob (F-statistic):</th>  <td>0.0861</td> \n",
       "</tr>\n",
       "<tr>\n",
       "  <th>Time:</th>                  <td>00:14:27</td>       <th>  Log-Likelihood:    </th> <td>  32.532</td>\n",
       "</tr>\n",
       "<tr>\n",
       "  <th>No. Observations:</th>       <td>    50</td>        <th>  AIC:               </th> <td>  -61.06</td>\n",
       "</tr>\n",
       "<tr>\n",
       "  <th>Df Residuals:</th>           <td>    48</td>        <th>  BIC:               </th> <td>  -57.24</td>\n",
       "</tr>\n",
       "<tr>\n",
       "  <th>Df Model:</th>               <td>     1</td>        <th>                     </th>     <td> </td>   \n",
       "</tr>\n",
       "<tr>\n",
       "  <th>Covariance Type:</th>       <td>nonrobust</td>      <th>                     </th>     <td> </td>   \n",
       "</tr>\n",
       "</table>\n",
       "<table class=\"simpletable\">\n",
       "<tr>\n",
       "      <td></td>        <th>coef</th>     <th>std err</th>      <th>t</th>      <th>P>|t|</th>  <th>[0.025</th>    <th>0.975]</th>  \n",
       "</tr>\n",
       "<tr>\n",
       "  <th>const</th>    <td>    0.5072</td> <td>    0.029</td> <td>   17.528</td> <td> 0.000</td> <td>    0.449</td> <td>    0.565</td>\n",
       "</tr>\n",
       "<tr>\n",
       "  <th>Diameter</th> <td>   -0.0029</td> <td>    0.002</td> <td>   -1.753</td> <td> 0.086</td> <td>   -0.006</td> <td>    0.000</td>\n",
       "</tr>\n",
       "</table>\n",
       "<table class=\"simpletable\">\n",
       "<tr>\n",
       "  <th>Omnibus:</th>       <td>12.345</td> <th>  Durbin-Watson:     </th> <td>   1.538</td>\n",
       "</tr>\n",
       "<tr>\n",
       "  <th>Prob(Omnibus):</th> <td> 0.002</td> <th>  Jarque-Bera (JB):  </th> <td>  12.580</td>\n",
       "</tr>\n",
       "<tr>\n",
       "  <th>Skew:</th>          <td>-1.099</td> <th>  Prob(JB):          </th> <td> 0.00185</td>\n",
       "</tr>\n",
       "<tr>\n",
       "  <th>Kurtosis:</th>      <td> 4.098</td> <th>  Cond. No.          </th> <td>    27.8</td>\n",
       "</tr>\n",
       "</table><br/><br/>Warnings:<br/>[1] Standard Errors assume that the covariance matrix of the errors is correctly specified."
      ],
      "text/plain": [
       "<class 'statsmodels.iolib.summary.Summary'>\n",
       "\"\"\"\n",
       "                             OLS Regression Results                            \n",
       "===============================================================================\n",
       "Dep. Variable:     Mean-LocalComponent   R-squared:                       0.060\n",
       "Model:                             OLS   Adj. R-squared:                  0.041\n",
       "Method:                  Least Squares   F-statistic:                     3.072\n",
       "Date:                 Tue, 16 Feb 2021   Prob (F-statistic):             0.0861\n",
       "Time:                         00:14:27   Log-Likelihood:                 32.532\n",
       "No. Observations:                   50   AIC:                            -61.06\n",
       "Df Residuals:                       48   BIC:                            -57.24\n",
       "Df Model:                            1                                         \n",
       "Covariance Type:             nonrobust                                         \n",
       "==============================================================================\n",
       "                 coef    std err          t      P>|t|      [0.025      0.975]\n",
       "------------------------------------------------------------------------------\n",
       "const          0.5072      0.029     17.528      0.000       0.449       0.565\n",
       "Diameter      -0.0029      0.002     -1.753      0.086      -0.006       0.000\n",
       "==============================================================================\n",
       "Omnibus:                       12.345   Durbin-Watson:                   1.538\n",
       "Prob(Omnibus):                  0.002   Jarque-Bera (JB):               12.580\n",
       "Skew:                          -1.099   Prob(JB):                      0.00185\n",
       "Kurtosis:                       4.098   Cond. No.                         27.8\n",
       "==============================================================================\n",
       "\n",
       "Warnings:\n",
       "[1] Standard Errors assume that the covariance matrix of the errors is correctly specified.\n",
       "\"\"\""
      ]
     },
     "execution_count": 113,
     "metadata": {},
     "output_type": "execute_result"
    }
   ],
   "source": [
    "X = sm.add_constant(X) # adding a constant\n",
    " \n",
    "model = sm.OLS(Y, X).fit()\n",
    "predictions = model.predict(X) \n",
    " \n",
    "print_model = model.summary()\n",
    "print_model"
   ]
  },
  {
   "cell_type": "code",
   "execution_count": 114,
   "metadata": {
    "scrolled": false
   },
   "outputs": [
    {
     "data": {
      "text/plain": [
       "const    1.683974e-22\n",
       "dtype: float64"
      ]
     },
     "execution_count": 114,
     "metadata": {},
     "output_type": "execute_result"
    }
   ],
   "source": [
    "model.pvalues[model.pvalues < 0.05]"
   ]
  },
  {
   "cell_type": "code",
   "execution_count": 115,
   "metadata": {},
   "outputs": [
    {
     "data": {
      "text/plain": [
       "const    1.683974e-22\n",
       "dtype: float64"
      ]
     },
     "execution_count": 115,
     "metadata": {},
     "output_type": "execute_result"
    }
   ],
   "source": [
    "model.pvalues[model.pvalues < 0.01]"
   ]
  },
  {
   "cell_type": "markdown",
   "metadata": {},
   "source": [
    "### Independent variable: Efficiency"
   ]
  },
  {
   "cell_type": "code",
   "execution_count": 116,
   "metadata": {},
   "outputs": [],
   "source": [
    "X = df_macro[['Efficiency']]"
   ]
  },
  {
   "cell_type": "code",
   "execution_count": 117,
   "metadata": {
    "scrolled": false
   },
   "outputs": [],
   "source": [
    "Y = df_dependent_variables['Mean-LocalComponent']"
   ]
  },
  {
   "cell_type": "markdown",
   "metadata": {},
   "source": [
    "#### with `sklearn`"
   ]
  },
  {
   "cell_type": "code",
   "execution_count": 118,
   "metadata": {},
   "outputs": [
    {
     "data": {
      "text/plain": [
       "LinearRegression(copy_X=True, fit_intercept=True, n_jobs=None, normalize=False)"
      ]
     },
     "execution_count": 118,
     "metadata": {},
     "output_type": "execute_result"
    }
   ],
   "source": [
    "regr = LinearRegression()\n",
    "regr.fit(X, Y)"
   ]
  },
  {
   "cell_type": "code",
   "execution_count": 119,
   "metadata": {},
   "outputs": [
    {
     "name": "stdout",
     "output_type": "stream",
     "text": [
      "Intercept: \n",
      " 0.3528846218974206\n",
      "Coefficients: \n",
      " [0.38800419]\n"
     ]
    }
   ],
   "source": [
    "print('Intercept: \\n', regr.intercept_)\n",
    "print('Coefficients: \\n', regr.coef_)"
   ]
  },
  {
   "cell_type": "markdown",
   "metadata": {},
   "source": [
    "#### Plot "
   ]
  },
  {
   "cell_type": "code",
   "execution_count": 120,
   "metadata": {
    "scrolled": false
   },
   "outputs": [
    {
     "data": {
      "image/png": "[encoded data removed]",
      "text/plain": [
       "<Figure size 432x288 with 1 Axes>"
      ]
     },
     "metadata": {
      "needs_background": "light"
     },
     "output_type": "display_data"
    }
   ],
   "source": [
    "predictions = regr.predict(X)\n",
    "# plt.figure(figsize=(16, 8))\n",
    "plt.scatter(\n",
    "    df_macro['Efficiency'],\n",
    "    df_dependent_variables['Mean-LocalComponent'],\n",
    "    c='red'\n",
    ")\n",
    "plt.plot(\n",
    "    df_macro['Efficiency'],\n",
    "    predictions,\n",
    "    c='black',\n",
    "    linewidth=2\n",
    ")\n",
    "plt.xlabel(\"Efficiency\")\n",
    "plt.ylabel(\"Mean-LocalComponent\")\n",
    "plt.show()"
   ]
  },
  {
   "cell_type": "markdown",
   "metadata": {},
   "source": [
    "#### with `statsmodels`"
   ]
  },
  {
   "cell_type": "code",
   "execution_count": 121,
   "metadata": {
    "scrolled": false
   },
   "outputs": [
    {
     "data": {
      "text/html": [
       "<table class=\"simpletable\">\n",
       "<caption>OLS Regression Results</caption>\n",
       "<tr>\n",
       "  <th>Dep. Variable:</th>    <td>Mean-LocalComponent</td> <th>  R-squared:         </th> <td>   0.130</td>\n",
       "</tr>\n",
       "<tr>\n",
       "  <th>Model:</th>                    <td>OLS</td>         <th>  Adj. R-squared:    </th> <td>   0.112</td>\n",
       "</tr>\n",
       "<tr>\n",
       "  <th>Method:</th>              <td>Least Squares</td>    <th>  F-statistic:       </th> <td>   7.156</td>\n",
       "</tr>\n",
       "<tr>\n",
       "  <th>Date:</th>              <td>Tue, 16 Feb 2021</td>   <th>  Prob (F-statistic):</th>  <td>0.0102</td> \n",
       "</tr>\n",
       "<tr>\n",
       "  <th>Time:</th>                  <td>00:14:27</td>       <th>  Log-Likelihood:    </th> <td>  34.455</td>\n",
       "</tr>\n",
       "<tr>\n",
       "  <th>No. Observations:</th>       <td>    50</td>        <th>  AIC:               </th> <td>  -64.91</td>\n",
       "</tr>\n",
       "<tr>\n",
       "  <th>Df Residuals:</th>           <td>    48</td>        <th>  BIC:               </th> <td>  -61.09</td>\n",
       "</tr>\n",
       "<tr>\n",
       "  <th>Df Model:</th>               <td>     1</td>        <th>                     </th>     <td> </td>   \n",
       "</tr>\n",
       "<tr>\n",
       "  <th>Covariance Type:</th>       <td>nonrobust</td>      <th>                     </th>     <td> </td>   \n",
       "</tr>\n",
       "</table>\n",
       "<table class=\"simpletable\">\n",
       "<tr>\n",
       "       <td></td>         <th>coef</th>     <th>std err</th>      <th>t</th>      <th>P>|t|</th>  <th>[0.025</th>    <th>0.975]</th>  \n",
       "</tr>\n",
       "<tr>\n",
       "  <th>const</th>      <td>    0.3529</td> <td>    0.046</td> <td>    7.605</td> <td> 0.000</td> <td>    0.260</td> <td>    0.446</td>\n",
       "</tr>\n",
       "<tr>\n",
       "  <th>Efficiency</th> <td>    0.3880</td> <td>    0.145</td> <td>    2.675</td> <td> 0.010</td> <td>    0.096</td> <td>    0.680</td>\n",
       "</tr>\n",
       "</table>\n",
       "<table class=\"simpletable\">\n",
       "<tr>\n",
       "  <th>Omnibus:</th>       <td>18.016</td> <th>  Durbin-Watson:     </th> <td>   1.518</td>\n",
       "</tr>\n",
       "<tr>\n",
       "  <th>Prob(Omnibus):</th> <td> 0.000</td> <th>  Jarque-Bera (JB):  </th> <td>  22.197</td>\n",
       "</tr>\n",
       "<tr>\n",
       "  <th>Skew:</th>          <td>-1.359</td> <th>  Prob(JB):          </th> <td>1.51e-05</td>\n",
       "</tr>\n",
       "<tr>\n",
       "  <th>Kurtosis:</th>      <td> 4.808</td> <th>  Cond. No.          </th> <td>    9.01</td>\n",
       "</tr>\n",
       "</table><br/><br/>Warnings:<br/>[1] Standard Errors assume that the covariance matrix of the errors is correctly specified."
      ],
      "text/plain": [
       "<class 'statsmodels.iolib.summary.Summary'>\n",
       "\"\"\"\n",
       "                             OLS Regression Results                            \n",
       "===============================================================================\n",
       "Dep. Variable:     Mean-LocalComponent   R-squared:                       0.130\n",
       "Model:                             OLS   Adj. R-squared:                  0.112\n",
       "Method:                  Least Squares   F-statistic:                     7.156\n",
       "Date:                 Tue, 16 Feb 2021   Prob (F-statistic):             0.0102\n",
       "Time:                         00:14:27   Log-Likelihood:                 34.455\n",
       "No. Observations:                   50   AIC:                            -64.91\n",
       "Df Residuals:                       48   BIC:                            -61.09\n",
       "Df Model:                            1                                         \n",
       "Covariance Type:             nonrobust                                         \n",
       "==============================================================================\n",
       "                 coef    std err          t      P>|t|      [0.025      0.975]\n",
       "------------------------------------------------------------------------------\n",
       "const          0.3529      0.046      7.605      0.000       0.260       0.446\n",
       "Efficiency     0.3880      0.145      2.675      0.010       0.096       0.680\n",
       "==============================================================================\n",
       "Omnibus:                       18.016   Durbin-Watson:                   1.518\n",
       "Prob(Omnibus):                  0.000   Jarque-Bera (JB):               22.197\n",
       "Skew:                          -1.359   Prob(JB):                     1.51e-05\n",
       "Kurtosis:                       4.808   Cond. No.                         9.01\n",
       "==============================================================================\n",
       "\n",
       "Warnings:\n",
       "[1] Standard Errors assume that the covariance matrix of the errors is correctly specified.\n",
       "\"\"\""
      ]
     },
     "execution_count": 121,
     "metadata": {},
     "output_type": "execute_result"
    }
   ],
   "source": [
    "X = sm.add_constant(X) # adding a constant\n",
    " \n",
    "model = sm.OLS(Y, X).fit()\n",
    "predictions = model.predict(X) \n",
    " \n",
    "print_model = model.summary()\n",
    "print_model"
   ]
  },
  {
   "cell_type": "code",
   "execution_count": 122,
   "metadata": {
    "scrolled": false
   },
   "outputs": [
    {
     "data": {
      "text/plain": [
       "const         8.760952e-10\n",
       "Efficiency    1.018470e-02\n",
       "dtype: float64"
      ]
     },
     "execution_count": 122,
     "metadata": {},
     "output_type": "execute_result"
    }
   ],
   "source": [
    "model.pvalues[model.pvalues < 0.05]"
   ]
  },
  {
   "cell_type": "code",
   "execution_count": 123,
   "metadata": {},
   "outputs": [
    {
     "data": {
      "text/plain": [
       "const    8.760952e-10\n",
       "dtype: float64"
      ]
     },
     "execution_count": 123,
     "metadata": {},
     "output_type": "execute_result"
    }
   ],
   "source": [
    "model.pvalues[model.pvalues <= 0.01]"
   ]
  },
  {
   "cell_type": "raw",
   "metadata": {},
   "source": [
    "### Independent variable: Degree Distribution Exp"
   ]
  },
  {
   "cell_type": "raw",
   "metadata": {},
   "source": [
    "X = df_macro[['DegreeDistributionExp']]"
   ]
  },
  {
   "cell_type": "raw",
   "metadata": {},
   "source": [
    "Y = df_dependent_variables['Mean-LocalComponent']"
   ]
  },
  {
   "cell_type": "raw",
   "metadata": {},
   "source": [
    "#### with `sklearn`"
   ]
  },
  {
   "cell_type": "raw",
   "metadata": {},
   "source": [
    "regr = LinearRegression()\n",
    "regr.fit(X, Y)"
   ]
  },
  {
   "cell_type": "raw",
   "metadata": {},
   "source": [
    "print('Intercept: \\n', regr.intercept_)\n",
    "print('Coefficients: \\n', regr.coef_)"
   ]
  },
  {
   "cell_type": "raw",
   "metadata": {},
   "source": [
    "#### Plot "
   ]
  },
  {
   "cell_type": "raw",
   "metadata": {},
   "source": [
    "predictions = regr.predict(X)\n",
    "#plt.figure(figsize=(16, 8))\n",
    "plt.scatter(\n",
    "    df_macro['DegreeDistributionExp'],\n",
    "    df_dependent_variables['Mean-LocalComponent'],\n",
    "    c='red'\n",
    ")\n",
    "plt.plot(\n",
    "    df_macro['DegreeDistributionExp'],\n",
    "    predictions,\n",
    "    c='black',\n",
    "    linewidth=2\n",
    ")\n",
    "plt.xlabel(\"DegreeDistributionExp\")\n",
    "plt.ylabel(\"Mean-LocalComponent\")\n",
    "plt.show()"
   ]
  },
  {
   "cell_type": "raw",
   "metadata": {},
   "source": [
    "#### with `statsmodels`"
   ]
  },
  {
   "cell_type": "raw",
   "metadata": {},
   "source": [
    "X = sm.add_constant(X) # adding a constant\n",
    " \n",
    "model = sm.OLS(Y, X).fit()\n",
    "predictions = model.predict(X) \n",
    " \n",
    "print_model = model.summary()\n",
    "print_model"
   ]
  },
  {
   "cell_type": "raw",
   "metadata": {},
   "source": [
    "model.pvalues[model.pvalues < 0.05]"
   ]
  },
  {
   "cell_type": "raw",
   "metadata": {},
   "source": [
    "model.pvalues[model.pvalues < 0.01]"
   ]
  },
  {
   "cell_type": "raw",
   "metadata": {},
   "source": []
  },
  {
   "cell_type": "markdown",
   "metadata": {},
   "source": [
    "### Independent variable: Modularity"
   ]
  },
  {
   "cell_type": "code",
   "execution_count": 124,
   "metadata": {},
   "outputs": [],
   "source": [
    "X = df_meso[['Modularity']]"
   ]
  },
  {
   "cell_type": "code",
   "execution_count": 125,
   "metadata": {
    "scrolled": false
   },
   "outputs": [],
   "source": [
    "Y = df_dependent_variables['Mean-LocalComponent']"
   ]
  },
  {
   "cell_type": "markdown",
   "metadata": {},
   "source": [
    "#### with `sklearn`"
   ]
  },
  {
   "cell_type": "code",
   "execution_count": 126,
   "metadata": {},
   "outputs": [
    {
     "data": {
      "text/plain": [
       "LinearRegression(copy_X=True, fit_intercept=True, n_jobs=None, normalize=False)"
      ]
     },
     "execution_count": 126,
     "metadata": {},
     "output_type": "execute_result"
    }
   ],
   "source": [
    "regr = LinearRegression()\n",
    "regr.fit(X, Y)"
   ]
  },
  {
   "cell_type": "code",
   "execution_count": 127,
   "metadata": {},
   "outputs": [
    {
     "name": "stdout",
     "output_type": "stream",
     "text": [
      "Intercept: \n",
      " 0.5861214197271136\n",
      "Coefficients: \n",
      " [-0.20487223]\n"
     ]
    }
   ],
   "source": [
    "print('Intercept: \\n', regr.intercept_)\n",
    "print('Coefficients: \\n', regr.coef_)"
   ]
  },
  {
   "cell_type": "markdown",
   "metadata": {},
   "source": [
    "#### Plot "
   ]
  },
  {
   "cell_type": "code",
   "execution_count": 128,
   "metadata": {
    "scrolled": false
   },
   "outputs": [
    {
     "data": {
      "image/png": "[encoded data removed]",
      "text/plain": [
       "<Figure size 432x288 with 1 Axes>"
      ]
     },
     "metadata": {
      "needs_background": "light"
     },
     "output_type": "display_data"
    }
   ],
   "source": [
    "predictions = regr.predict(X)\n",
    "# plt.figure(figsize=(16, 8))\n",
    "plt.scatter(\n",
    "    df_meso['Modularity'],\n",
    "    df_dependent_variables['Mean-LocalComponent'],\n",
    "    c='red'\n",
    ")\n",
    "plt.plot(\n",
    "    df_meso['Modularity'],\n",
    "    predictions,\n",
    "    c='black',\n",
    "    linewidth=2\n",
    ")\n",
    "plt.xlabel(\"Modularity\")\n",
    "plt.ylabel(\"Mean-LocalComponent\")\n",
    "plt.show()"
   ]
  },
  {
   "cell_type": "markdown",
   "metadata": {},
   "source": [
    "#### with `statsmodels`"
   ]
  },
  {
   "cell_type": "code",
   "execution_count": 129,
   "metadata": {
    "scrolled": false
   },
   "outputs": [
    {
     "data": {
      "text/html": [
       "<table class=\"simpletable\">\n",
       "<caption>OLS Regression Results</caption>\n",
       "<tr>\n",
       "  <th>Dep. Variable:</th>    <td>Mean-LocalComponent</td> <th>  R-squared:         </th> <td>   0.093</td>\n",
       "</tr>\n",
       "<tr>\n",
       "  <th>Model:</th>                    <td>OLS</td>         <th>  Adj. R-squared:    </th> <td>   0.074</td>\n",
       "</tr>\n",
       "<tr>\n",
       "  <th>Method:</th>              <td>Least Squares</td>    <th>  F-statistic:       </th> <td>   4.929</td>\n",
       "</tr>\n",
       "<tr>\n",
       "  <th>Date:</th>              <td>Tue, 16 Feb 2021</td>   <th>  Prob (F-statistic):</th>  <td>0.0312</td> \n",
       "</tr>\n",
       "<tr>\n",
       "  <th>Time:</th>                  <td>00:14:28</td>       <th>  Log-Likelihood:    </th> <td>  33.425</td>\n",
       "</tr>\n",
       "<tr>\n",
       "  <th>No. Observations:</th>       <td>    50</td>        <th>  AIC:               </th> <td>  -62.85</td>\n",
       "</tr>\n",
       "<tr>\n",
       "  <th>Df Residuals:</th>           <td>    48</td>        <th>  BIC:               </th> <td>  -59.03</td>\n",
       "</tr>\n",
       "<tr>\n",
       "  <th>Df Model:</th>               <td>     1</td>        <th>                     </th>     <td> </td>   \n",
       "</tr>\n",
       "<tr>\n",
       "  <th>Covariance Type:</th>       <td>nonrobust</td>      <th>                     </th>     <td> </td>   \n",
       "</tr>\n",
       "</table>\n",
       "<table class=\"simpletable\">\n",
       "<tr>\n",
       "       <td></td>         <th>coef</th>     <th>std err</th>      <th>t</th>      <th>P>|t|</th>  <th>[0.025</th>    <th>0.975]</th>  \n",
       "</tr>\n",
       "<tr>\n",
       "  <th>const</th>      <td>    0.5861</td> <td>    0.056</td> <td>   10.427</td> <td> 0.000</td> <td>    0.473</td> <td>    0.699</td>\n",
       "</tr>\n",
       "<tr>\n",
       "  <th>Modularity</th> <td>   -0.2049</td> <td>    0.092</td> <td>   -2.220</td> <td> 0.031</td> <td>   -0.390</td> <td>   -0.019</td>\n",
       "</tr>\n",
       "</table>\n",
       "<table class=\"simpletable\">\n",
       "<tr>\n",
       "  <th>Omnibus:</th>       <td> 8.353</td> <th>  Durbin-Watson:     </th> <td>   1.427</td>\n",
       "</tr>\n",
       "<tr>\n",
       "  <th>Prob(Omnibus):</th> <td> 0.015</td> <th>  Jarque-Bera (JB):  </th> <td>   7.942</td>\n",
       "</tr>\n",
       "<tr>\n",
       "  <th>Skew:</th>          <td>-0.964</td> <th>  Prob(JB):          </th> <td>  0.0189</td>\n",
       "</tr>\n",
       "<tr>\n",
       "  <th>Kurtosis:</th>      <td> 3.311</td> <th>  Cond. No.          </th> <td>    6.92</td>\n",
       "</tr>\n",
       "</table><br/><br/>Warnings:<br/>[1] Standard Errors assume that the covariance matrix of the errors is correctly specified."
      ],
      "text/plain": [
       "<class 'statsmodels.iolib.summary.Summary'>\n",
       "\"\"\"\n",
       "                             OLS Regression Results                            \n",
       "===============================================================================\n",
       "Dep. Variable:     Mean-LocalComponent   R-squared:                       0.093\n",
       "Model:                             OLS   Adj. R-squared:                  0.074\n",
       "Method:                  Least Squares   F-statistic:                     4.929\n",
       "Date:                 Tue, 16 Feb 2021   Prob (F-statistic):             0.0312\n",
       "Time:                         00:14:28   Log-Likelihood:                 33.425\n",
       "No. Observations:                   50   AIC:                            -62.85\n",
       "Df Residuals:                       48   BIC:                            -59.03\n",
       "Df Model:                            1                                         \n",
       "Covariance Type:             nonrobust                                         \n",
       "==============================================================================\n",
       "                 coef    std err          t      P>|t|      [0.025      0.975]\n",
       "------------------------------------------------------------------------------\n",
       "const          0.5861      0.056     10.427      0.000       0.473       0.699\n",
       "Modularity    -0.2049      0.092     -2.220      0.031      -0.390      -0.019\n",
       "==============================================================================\n",
       "Omnibus:                        8.353   Durbin-Watson:                   1.427\n",
       "Prob(Omnibus):                  0.015   Jarque-Bera (JB):                7.942\n",
       "Skew:                          -0.964   Prob(JB):                       0.0189\n",
       "Kurtosis:                       3.311   Cond. No.                         6.92\n",
       "==============================================================================\n",
       "\n",
       "Warnings:\n",
       "[1] Standard Errors assume that the covariance matrix of the errors is correctly specified.\n",
       "\"\"\""
      ]
     },
     "execution_count": 129,
     "metadata": {},
     "output_type": "execute_result"
    }
   ],
   "source": [
    "X = sm.add_constant(X) # adding a constant\n",
    " \n",
    "model = sm.OLS(Y, X).fit()\n",
    "predictions = model.predict(X) \n",
    " \n",
    "print_model = model.summary()\n",
    "print_model"
   ]
  },
  {
   "cell_type": "code",
   "execution_count": 130,
   "metadata": {
    "scrolled": false
   },
   "outputs": [
    {
     "data": {
      "text/plain": [
       "const         6.331026e-14\n",
       "Modularity    3.116891e-02\n",
       "dtype: float64"
      ]
     },
     "execution_count": 130,
     "metadata": {},
     "output_type": "execute_result"
    }
   ],
   "source": [
    "model.pvalues[model.pvalues < 0.05]"
   ]
  },
  {
   "cell_type": "code",
   "execution_count": 131,
   "metadata": {},
   "outputs": [
    {
     "data": {
      "text/plain": [
       "const    6.331026e-14\n",
       "dtype: float64"
      ]
     },
     "execution_count": 131,
     "metadata": {},
     "output_type": "execute_result"
    }
   ],
   "source": [
    "model.pvalues[model.pvalues < 0.01]"
   ]
  },
  {
   "cell_type": "markdown",
   "metadata": {},
   "source": [
    "### Indpendent variable: Mixing parameter"
   ]
  },
  {
   "cell_type": "code",
   "execution_count": 132,
   "metadata": {},
   "outputs": [],
   "source": [
    "X = df_meso[['Mixing parameter']]"
   ]
  },
  {
   "cell_type": "code",
   "execution_count": 133,
   "metadata": {
    "scrolled": false
   },
   "outputs": [],
   "source": [
    "Y = df_dependent_variables['Mean-LocalComponent']"
   ]
  },
  {
   "cell_type": "markdown",
   "metadata": {},
   "source": [
    "#### with `sklearn`"
   ]
  },
  {
   "cell_type": "code",
   "execution_count": 134,
   "metadata": {},
   "outputs": [
    {
     "data": {
      "text/plain": [
       "LinearRegression(copy_X=True, fit_intercept=True, n_jobs=None, normalize=False)"
      ]
     },
     "execution_count": 134,
     "metadata": {},
     "output_type": "execute_result"
    }
   ],
   "source": [
    "regr = LinearRegression()\n",
    "regr.fit(X, Y)"
   ]
  },
  {
   "cell_type": "code",
   "execution_count": 135,
   "metadata": {},
   "outputs": [
    {
     "name": "stdout",
     "output_type": "stream",
     "text": [
      "Intercept: \n",
      " 0.5418280621712434\n",
      "Coefficients: \n",
      " [-0.29426665]\n"
     ]
    }
   ],
   "source": [
    "print('Intercept: \\n', regr.intercept_)\n",
    "print('Coefficients: \\n', regr.coef_)"
   ]
  },
  {
   "cell_type": "markdown",
   "metadata": {},
   "source": [
    "#### Plot "
   ]
  },
  {
   "cell_type": "code",
   "execution_count": 136,
   "metadata": {
    "scrolled": false
   },
   "outputs": [
    {
     "data": {
      "image/png": "[encoded data removed]",
      "text/plain": [
       "<Figure size 432x288 with 1 Axes>"
      ]
     },
     "metadata": {
      "needs_background": "light"
     },
     "output_type": "display_data"
    }
   ],
   "source": [
    "predictions = regr.predict(X)\n",
    "# plt.figure(figsize=(16, 8))\n",
    "plt.scatter(\n",
    "    df_meso['Mixing parameter'],\n",
    "    df_dependent_variables['Mean-LocalComponent'],\n",
    "    c='red'\n",
    ")\n",
    "plt.plot(\n",
    "    df_meso['Mixing parameter'],\n",
    "    predictions,\n",
    "    c='black',\n",
    "    linewidth=2\n",
    ")\n",
    "plt.xlabel(\"Mixing parameter\")\n",
    "plt.ylabel(\"Mean-LocalComponent\")\n",
    "plt.show()"
   ]
  },
  {
   "cell_type": "markdown",
   "metadata": {},
   "source": [
    "#### with `statsmodels`"
   ]
  },
  {
   "cell_type": "code",
   "execution_count": 137,
   "metadata": {
    "scrolled": false
   },
   "outputs": [
    {
     "data": {
      "text/html": [
       "<table class=\"simpletable\">\n",
       "<caption>OLS Regression Results</caption>\n",
       "<tr>\n",
       "  <th>Dep. Variable:</th>    <td>Mean-LocalComponent</td> <th>  R-squared:         </th> <td>   0.083</td>\n",
       "</tr>\n",
       "<tr>\n",
       "  <th>Model:</th>                    <td>OLS</td>         <th>  Adj. R-squared:    </th> <td>   0.064</td>\n",
       "</tr>\n",
       "<tr>\n",
       "  <th>Method:</th>              <td>Least Squares</td>    <th>  F-statistic:       </th> <td>   4.369</td>\n",
       "</tr>\n",
       "<tr>\n",
       "  <th>Date:</th>              <td>Tue, 16 Feb 2021</td>   <th>  Prob (F-statistic):</th>  <td>0.0419</td> \n",
       "</tr>\n",
       "<tr>\n",
       "  <th>Time:</th>                  <td>00:14:28</td>       <th>  Log-Likelihood:    </th> <td>  33.159</td>\n",
       "</tr>\n",
       "<tr>\n",
       "  <th>No. Observations:</th>       <td>    50</td>        <th>  AIC:               </th> <td>  -62.32</td>\n",
       "</tr>\n",
       "<tr>\n",
       "  <th>Df Residuals:</th>           <td>    48</td>        <th>  BIC:               </th> <td>  -58.49</td>\n",
       "</tr>\n",
       "<tr>\n",
       "  <th>Df Model:</th>               <td>     1</td>        <th>                     </th>     <td> </td>   \n",
       "</tr>\n",
       "<tr>\n",
       "  <th>Covariance Type:</th>       <td>nonrobust</td>      <th>                     </th>     <td> </td>   \n",
       "</tr>\n",
       "</table>\n",
       "<table class=\"simpletable\">\n",
       "<tr>\n",
       "          <td></td>            <th>coef</th>     <th>std err</th>      <th>t</th>      <th>P>|t|</th>  <th>[0.025</th>    <th>0.975]</th>  \n",
       "</tr>\n",
       "<tr>\n",
       "  <th>const</th>            <td>    0.5418</td> <td>    0.040</td> <td>   13.642</td> <td> 0.000</td> <td>    0.462</td> <td>    0.622</td>\n",
       "</tr>\n",
       "<tr>\n",
       "  <th>Mixing parameter</th> <td>   -0.2943</td> <td>    0.141</td> <td>   -2.090</td> <td> 0.042</td> <td>   -0.577</td> <td>   -0.011</td>\n",
       "</tr>\n",
       "</table>\n",
       "<table class=\"simpletable\">\n",
       "<tr>\n",
       "  <th>Omnibus:</th>       <td> 6.496</td> <th>  Durbin-Watson:     </th> <td>   1.692</td>\n",
       "</tr>\n",
       "<tr>\n",
       "  <th>Prob(Omnibus):</th> <td> 0.039</td> <th>  Jarque-Bera (JB):  </th> <td>   5.464</td>\n",
       "</tr>\n",
       "<tr>\n",
       "  <th>Skew:</th>          <td>-0.764</td> <th>  Prob(JB):          </th> <td>  0.0651</td>\n",
       "</tr>\n",
       "<tr>\n",
       "  <th>Kurtosis:</th>      <td> 3.539</td> <th>  Cond. No.          </th> <td>    8.33</td>\n",
       "</tr>\n",
       "</table><br/><br/>Warnings:<br/>[1] Standard Errors assume that the covariance matrix of the errors is correctly specified."
      ],
      "text/plain": [
       "<class 'statsmodels.iolib.summary.Summary'>\n",
       "\"\"\"\n",
       "                             OLS Regression Results                            \n",
       "===============================================================================\n",
       "Dep. Variable:     Mean-LocalComponent   R-squared:                       0.083\n",
       "Model:                             OLS   Adj. R-squared:                  0.064\n",
       "Method:                  Least Squares   F-statistic:                     4.369\n",
       "Date:                 Tue, 16 Feb 2021   Prob (F-statistic):             0.0419\n",
       "Time:                         00:14:28   Log-Likelihood:                 33.159\n",
       "No. Observations:                   50   AIC:                            -62.32\n",
       "Df Residuals:                       48   BIC:                            -58.49\n",
       "Df Model:                            1                                         \n",
       "Covariance Type:             nonrobust                                         \n",
       "====================================================================================\n",
       "                       coef    std err          t      P>|t|      [0.025      0.975]\n",
       "------------------------------------------------------------------------------------\n",
       "const                0.5418      0.040     13.642      0.000       0.462       0.622\n",
       "Mixing parameter    -0.2943      0.141     -2.090      0.042      -0.577      -0.011\n",
       "==============================================================================\n",
       "Omnibus:                        6.496   Durbin-Watson:                   1.692\n",
       "Prob(Omnibus):                  0.039   Jarque-Bera (JB):                5.464\n",
       "Skew:                          -0.764   Prob(JB):                       0.0651\n",
       "Kurtosis:                       3.539   Cond. No.                         8.33\n",
       "==============================================================================\n",
       "\n",
       "Warnings:\n",
       "[1] Standard Errors assume that the covariance matrix of the errors is correctly specified.\n",
       "\"\"\""
      ]
     },
     "execution_count": 137,
     "metadata": {},
     "output_type": "execute_result"
    }
   ],
   "source": [
    "X = sm.add_constant(X) # adding a constant\n",
    " \n",
    "model = sm.OLS(Y, X).fit()\n",
    "predictions = model.predict(X) \n",
    " \n",
    "print_model = model.summary()\n",
    "print_model"
   ]
  },
  {
   "cell_type": "code",
   "execution_count": 138,
   "metadata": {
    "scrolled": false
   },
   "outputs": [
    {
     "data": {
      "text/plain": [
       "const               3.894349e-18\n",
       "Mixing parameter    4.192092e-02\n",
       "dtype: float64"
      ]
     },
     "execution_count": 138,
     "metadata": {},
     "output_type": "execute_result"
    }
   ],
   "source": [
    "model.pvalues[model.pvalues < 0.05]"
   ]
  },
  {
   "cell_type": "code",
   "execution_count": 139,
   "metadata": {},
   "outputs": [
    {
     "data": {
      "text/plain": [
       "const    3.894349e-18\n",
       "dtype: float64"
      ]
     },
     "execution_count": 139,
     "metadata": {},
     "output_type": "execute_result"
    }
   ],
   "source": [
    "model.pvalues[model.pvalues < 0.01] # Check how much on R"
   ]
  },
  {
   "cell_type": "markdown",
   "metadata": {},
   "source": [
    "### Dependent variable: Avg internal degree"
   ]
  },
  {
   "cell_type": "code",
   "execution_count": 140,
   "metadata": {},
   "outputs": [],
   "source": [
    "X = df_meso[['Avg internal degree']]"
   ]
  },
  {
   "cell_type": "code",
   "execution_count": 141,
   "metadata": {},
   "outputs": [],
   "source": [
    "Y = df_dependent_variables['Mean-LocalComponent']"
   ]
  },
  {
   "cell_type": "code",
   "execution_count": 142,
   "metadata": {},
   "outputs": [],
   "source": [
    "#### with `sklearn`"
   ]
  },
  {
   "cell_type": "code",
   "execution_count": 143,
   "metadata": {},
   "outputs": [
    {
     "data": {
      "text/plain": [
       "LinearRegression(copy_X=True, fit_intercept=True, n_jobs=None, normalize=False)"
      ]
     },
     "execution_count": 143,
     "metadata": {},
     "output_type": "execute_result"
    }
   ],
   "source": [
    "regr = LinearRegression()\n",
    "regr.fit(X, Y)"
   ]
  },
  {
   "cell_type": "code",
   "execution_count": 144,
   "metadata": {},
   "outputs": [
    {
     "name": "stdout",
     "output_type": "stream",
     "text": [
      "Intercept: \n",
      " 0.44870704220441704\n",
      "Coefficients: \n",
      " [0.00301934]\n"
     ]
    }
   ],
   "source": [
    "print('Intercept: \\n', regr.intercept_)\n",
    "print('Coefficients: \\n', regr.coef_)"
   ]
  },
  {
   "cell_type": "code",
   "execution_count": 145,
   "metadata": {},
   "outputs": [],
   "source": [
    "#### Plot "
   ]
  },
  {
   "cell_type": "code",
   "execution_count": 146,
   "metadata": {},
   "outputs": [
    {
     "data": {
      "image/png": "[encoded data removed]",
      "text/plain": [
       "<Figure size 432x288 with 1 Axes>"
      ]
     },
     "metadata": {
      "needs_background": "light"
     },
     "output_type": "display_data"
    }
   ],
   "source": [
    "predictions = regr.predict(X)\n",
    "# plt.figure(figsize=(16, 8))\n",
    "plt.scatter(\n",
    "    df_meso['Avg internal degree'],\n",
    "    df_dependent_variables['Mean-LocalComponent'],\n",
    "    c='red'\n",
    ")\n",
    "plt.plot(\n",
    "    df_meso['Avg internal degree'],\n",
    "    predictions,\n",
    "    c='black',\n",
    "    linewidth=2\n",
    ")\n",
    "plt.xlabel(\"Avg internal degree\")\n",
    "plt.ylabel(\"Mean-LocalComponent\")\n",
    "plt.show()"
   ]
  },
  {
   "cell_type": "code",
   "execution_count": 147,
   "metadata": {},
   "outputs": [],
   "source": [
    "#### with `statsmodels`"
   ]
  },
  {
   "cell_type": "code",
   "execution_count": 148,
   "metadata": {},
   "outputs": [
    {
     "data": {
      "text/html": [
       "<table class=\"simpletable\">\n",
       "<caption>OLS Regression Results</caption>\n",
       "<tr>\n",
       "  <th>Dep. Variable:</th>    <td>Mean-LocalComponent</td> <th>  R-squared:         </th> <td>   0.086</td>\n",
       "</tr>\n",
       "<tr>\n",
       "  <th>Model:</th>                    <td>OLS</td>         <th>  Adj. R-squared:    </th> <td>   0.067</td>\n",
       "</tr>\n",
       "<tr>\n",
       "  <th>Method:</th>              <td>Least Squares</td>    <th>  F-statistic:       </th> <td>   4.528</td>\n",
       "</tr>\n",
       "<tr>\n",
       "  <th>Date:</th>              <td>Tue, 16 Feb 2021</td>   <th>  Prob (F-statistic):</th>  <td>0.0385</td> \n",
       "</tr>\n",
       "<tr>\n",
       "  <th>Time:</th>                  <td>00:14:28</td>       <th>  Log-Likelihood:    </th> <td>  33.235</td>\n",
       "</tr>\n",
       "<tr>\n",
       "  <th>No. Observations:</th>       <td>    50</td>        <th>  AIC:               </th> <td>  -62.47</td>\n",
       "</tr>\n",
       "<tr>\n",
       "  <th>Df Residuals:</th>           <td>    48</td>        <th>  BIC:               </th> <td>  -58.65</td>\n",
       "</tr>\n",
       "<tr>\n",
       "  <th>Df Model:</th>               <td>     1</td>        <th>                     </th>     <td> </td>   \n",
       "</tr>\n",
       "<tr>\n",
       "  <th>Covariance Type:</th>       <td>nonrobust</td>      <th>                     </th>     <td> </td>   \n",
       "</tr>\n",
       "</table>\n",
       "<table class=\"simpletable\">\n",
       "<tr>\n",
       "           <td></td>              <th>coef</th>     <th>std err</th>      <th>t</th>      <th>P>|t|</th>  <th>[0.025</th>    <th>0.975]</th>  \n",
       "</tr>\n",
       "<tr>\n",
       "  <th>const</th>               <td>    0.4487</td> <td>    0.020</td> <td>   22.338</td> <td> 0.000</td> <td>    0.408</td> <td>    0.489</td>\n",
       "</tr>\n",
       "<tr>\n",
       "  <th>Avg internal degree</th> <td>    0.0030</td> <td>    0.001</td> <td>    2.128</td> <td> 0.039</td> <td>    0.000</td> <td>    0.006</td>\n",
       "</tr>\n",
       "</table>\n",
       "<table class=\"simpletable\">\n",
       "<tr>\n",
       "  <th>Omnibus:</th>       <td> 6.744</td> <th>  Durbin-Watson:     </th> <td>   1.751</td>\n",
       "</tr>\n",
       "<tr>\n",
       "  <th>Prob(Omnibus):</th> <td> 0.034</td> <th>  Jarque-Bera (JB):  </th> <td>   5.754</td>\n",
       "</tr>\n",
       "<tr>\n",
       "  <th>Skew:</th>          <td>-0.789</td> <th>  Prob(JB):          </th> <td>  0.0563</td>\n",
       "</tr>\n",
       "<tr>\n",
       "  <th>Kurtosis:</th>      <td> 3.521</td> <th>  Cond. No.          </th> <td>    15.8</td>\n",
       "</tr>\n",
       "</table><br/><br/>Warnings:<br/>[1] Standard Errors assume that the covariance matrix of the errors is correctly specified."
      ],
      "text/plain": [
       "<class 'statsmodels.iolib.summary.Summary'>\n",
       "\"\"\"\n",
       "                             OLS Regression Results                            \n",
       "===============================================================================\n",
       "Dep. Variable:     Mean-LocalComponent   R-squared:                       0.086\n",
       "Model:                             OLS   Adj. R-squared:                  0.067\n",
       "Method:                  Least Squares   F-statistic:                     4.528\n",
       "Date:                 Tue, 16 Feb 2021   Prob (F-statistic):             0.0385\n",
       "Time:                         00:14:28   Log-Likelihood:                 33.235\n",
       "No. Observations:                   50   AIC:                            -62.47\n",
       "Df Residuals:                       48   BIC:                            -58.65\n",
       "Df Model:                            1                                         \n",
       "Covariance Type:             nonrobust                                         \n",
       "=======================================================================================\n",
       "                          coef    std err          t      P>|t|      [0.025      0.975]\n",
       "---------------------------------------------------------------------------------------\n",
       "const                   0.4487      0.020     22.338      0.000       0.408       0.489\n",
       "Avg internal degree     0.0030      0.001      2.128      0.039       0.000       0.006\n",
       "==============================================================================\n",
       "Omnibus:                        6.744   Durbin-Watson:                   1.751\n",
       "Prob(Omnibus):                  0.034   Jarque-Bera (JB):                5.754\n",
       "Skew:                          -0.789   Prob(JB):                       0.0563\n",
       "Kurtosis:                       3.521   Cond. No.                         15.8\n",
       "==============================================================================\n",
       "\n",
       "Warnings:\n",
       "[1] Standard Errors assume that the covariance matrix of the errors is correctly specified.\n",
       "\"\"\""
      ]
     },
     "execution_count": 148,
     "metadata": {},
     "output_type": "execute_result"
    }
   ],
   "source": [
    "X = sm.add_constant(X) # adding a constant\n",
    " \n",
    "model = sm.OLS(Y, X).fit()\n",
    "predictions = model.predict(X) \n",
    " \n",
    "print_model = model.summary()\n",
    "print_model"
   ]
  },
  {
   "cell_type": "code",
   "execution_count": 149,
   "metadata": {},
   "outputs": [
    {
     "data": {
      "text/plain": [
       "const                  5.202705e-27\n",
       "Avg internal degree    3.850734e-02\n",
       "dtype: float64"
      ]
     },
     "execution_count": 149,
     "metadata": {},
     "output_type": "execute_result"
    }
   ],
   "source": [
    "model.pvalues[model.pvalues < 0.05]"
   ]
  },
  {
   "cell_type": "code",
   "execution_count": 150,
   "metadata": {},
   "outputs": [
    {
     "data": {
      "text/plain": [
       "const    5.202705e-27\n",
       "dtype: float64"
      ]
     },
     "execution_count": 150,
     "metadata": {},
     "output_type": "execute_result"
    }
   ],
   "source": [
    "model.pvalues[model.pvalues < 0.01]"
   ]
  },
  {
   "cell_type": "markdown",
   "metadata": {},
   "source": [
    "### Dependent variable: Avg internal density"
   ]
  },
  {
   "cell_type": "code",
   "execution_count": 151,
   "metadata": {},
   "outputs": [],
   "source": [
    "X = df_meso[['Avg internal density']]"
   ]
  },
  {
   "cell_type": "code",
   "execution_count": 152,
   "metadata": {
    "scrolled": false
   },
   "outputs": [],
   "source": [
    "Y = df_dependent_variables['Mean-LocalComponent']"
   ]
  },
  {
   "cell_type": "markdown",
   "metadata": {},
   "source": [
    "#### with `sklearn`"
   ]
  },
  {
   "cell_type": "code",
   "execution_count": 153,
   "metadata": {},
   "outputs": [
    {
     "data": {
      "text/plain": [
       "LinearRegression(copy_X=True, fit_intercept=True, n_jobs=None, normalize=False)"
      ]
     },
     "execution_count": 153,
     "metadata": {},
     "output_type": "execute_result"
    }
   ],
   "source": [
    "regr = LinearRegression()\n",
    "regr.fit(X, Y)"
   ]
  },
  {
   "cell_type": "code",
   "execution_count": 154,
   "metadata": {},
   "outputs": [
    {
     "name": "stdout",
     "output_type": "stream",
     "text": [
      "Intercept: \n",
      " 0.36298283530601344\n",
      "Coefficients: \n",
      " [0.24351288]\n"
     ]
    }
   ],
   "source": [
    "print('Intercept: \\n', regr.intercept_)\n",
    "print('Coefficients: \\n', regr.coef_)"
   ]
  },
  {
   "cell_type": "markdown",
   "metadata": {},
   "source": [
    "#### Plot "
   ]
  },
  {
   "cell_type": "code",
   "execution_count": 155,
   "metadata": {
    "scrolled": false
   },
   "outputs": [
    {
     "data": {
      "image/png": "[encoded data removed]",
      "text/plain": [
       "<Figure size 432x288 with 1 Axes>"
      ]
     },
     "metadata": {
      "needs_background": "light"
     },
     "output_type": "display_data"
    }
   ],
   "source": [
    "predictions = regr.predict(X)\n",
    "# plt.figure(figsize=(16, 8))\n",
    "plt.scatter(\n",
    "    df_meso['Avg internal density'],\n",
    "    df_dependent_variables['Mean-LocalComponent'],\n",
    "    c='red'\n",
    ")\n",
    "plt.plot(\n",
    "    df_meso['Avg internal density'],\n",
    "    predictions,\n",
    "    c='black',\n",
    "    linewidth=2\n",
    ")\n",
    "plt.xlabel(\"Avg internal density\")\n",
    "plt.ylabel(\"Mean-LocalComponent\")\n",
    "plt.show()"
   ]
  },
  {
   "cell_type": "markdown",
   "metadata": {},
   "source": [
    "#### with `statsmodels`"
   ]
  },
  {
   "cell_type": "code",
   "execution_count": 156,
   "metadata": {
    "scrolled": false
   },
   "outputs": [
    {
     "data": {
      "text/html": [
       "<table class=\"simpletable\">\n",
       "<caption>OLS Regression Results</caption>\n",
       "<tr>\n",
       "  <th>Dep. Variable:</th>    <td>Mean-LocalComponent</td> <th>  R-squared:         </th> <td>   0.064</td>\n",
       "</tr>\n",
       "<tr>\n",
       "  <th>Model:</th>                    <td>OLS</td>         <th>  Adj. R-squared:    </th> <td>   0.045</td>\n",
       "</tr>\n",
       "<tr>\n",
       "  <th>Method:</th>              <td>Least Squares</td>    <th>  F-statistic:       </th> <td>   3.309</td>\n",
       "</tr>\n",
       "<tr>\n",
       "  <th>Date:</th>              <td>Tue, 16 Feb 2021</td>   <th>  Prob (F-statistic):</th>  <td>0.0751</td> \n",
       "</tr>\n",
       "<tr>\n",
       "  <th>Time:</th>                  <td>00:14:28</td>       <th>  Log-Likelihood:    </th> <td>  32.648</td>\n",
       "</tr>\n",
       "<tr>\n",
       "  <th>No. Observations:</th>       <td>    50</td>        <th>  AIC:               </th> <td>  -61.30</td>\n",
       "</tr>\n",
       "<tr>\n",
       "  <th>Df Residuals:</th>           <td>    48</td>        <th>  BIC:               </th> <td>  -57.47</td>\n",
       "</tr>\n",
       "<tr>\n",
       "  <th>Df Model:</th>               <td>     1</td>        <th>                     </th>     <td> </td>   \n",
       "</tr>\n",
       "<tr>\n",
       "  <th>Covariance Type:</th>       <td>nonrobust</td>      <th>                     </th>     <td> </td>   \n",
       "</tr>\n",
       "</table>\n",
       "<table class=\"simpletable\">\n",
       "<tr>\n",
       "            <td></td>              <th>coef</th>     <th>std err</th>      <th>t</th>      <th>P>|t|</th>  <th>[0.025</th>    <th>0.975]</th>  \n",
       "</tr>\n",
       "<tr>\n",
       "  <th>const</th>                <td>    0.3630</td> <td>    0.060</td> <td>    6.006</td> <td> 0.000</td> <td>    0.241</td> <td>    0.484</td>\n",
       "</tr>\n",
       "<tr>\n",
       "  <th>Avg internal density</th> <td>    0.2435</td> <td>    0.134</td> <td>    1.819</td> <td> 0.075</td> <td>   -0.026</td> <td>    0.513</td>\n",
       "</tr>\n",
       "</table>\n",
       "<table class=\"simpletable\">\n",
       "<tr>\n",
       "  <th>Omnibus:</th>       <td>11.367</td> <th>  Durbin-Watson:     </th> <td>   1.484</td>\n",
       "</tr>\n",
       "<tr>\n",
       "  <th>Prob(Omnibus):</th> <td> 0.003</td> <th>  Jarque-Bera (JB):  </th> <td>  11.420</td>\n",
       "</tr>\n",
       "<tr>\n",
       "  <th>Skew:</th>          <td>-0.983</td> <th>  Prob(JB):          </th> <td> 0.00331</td>\n",
       "</tr>\n",
       "<tr>\n",
       "  <th>Kurtosis:</th>      <td> 4.270</td> <th>  Cond. No.          </th> <td>    8.75</td>\n",
       "</tr>\n",
       "</table><br/><br/>Warnings:<br/>[1] Standard Errors assume that the covariance matrix of the errors is correctly specified."
      ],
      "text/plain": [
       "<class 'statsmodels.iolib.summary.Summary'>\n",
       "\"\"\"\n",
       "                             OLS Regression Results                            \n",
       "===============================================================================\n",
       "Dep. Variable:     Mean-LocalComponent   R-squared:                       0.064\n",
       "Model:                             OLS   Adj. R-squared:                  0.045\n",
       "Method:                  Least Squares   F-statistic:                     3.309\n",
       "Date:                 Tue, 16 Feb 2021   Prob (F-statistic):             0.0751\n",
       "Time:                         00:14:28   Log-Likelihood:                 32.648\n",
       "No. Observations:                   50   AIC:                            -61.30\n",
       "Df Residuals:                       48   BIC:                            -57.47\n",
       "Df Model:                            1                                         \n",
       "Covariance Type:             nonrobust                                         \n",
       "========================================================================================\n",
       "                           coef    std err          t      P>|t|      [0.025      0.975]\n",
       "----------------------------------------------------------------------------------------\n",
       "const                    0.3630      0.060      6.006      0.000       0.241       0.484\n",
       "Avg internal density     0.2435      0.134      1.819      0.075      -0.026       0.513\n",
       "==============================================================================\n",
       "Omnibus:                       11.367   Durbin-Watson:                   1.484\n",
       "Prob(Omnibus):                  0.003   Jarque-Bera (JB):               11.420\n",
       "Skew:                          -0.983   Prob(JB):                      0.00331\n",
       "Kurtosis:                       4.270   Cond. No.                         8.75\n",
       "==============================================================================\n",
       "\n",
       "Warnings:\n",
       "[1] Standard Errors assume that the covariance matrix of the errors is correctly specified.\n",
       "\"\"\""
      ]
     },
     "execution_count": 156,
     "metadata": {},
     "output_type": "execute_result"
    }
   ],
   "source": [
    "X = sm.add_constant(X) # adding a constant\n",
    " \n",
    "model = sm.OLS(Y, X).fit()\n",
    "predictions = model.predict(X) \n",
    " \n",
    "print_model = model.summary()\n",
    "print_model"
   ]
  },
  {
   "cell_type": "code",
   "execution_count": 157,
   "metadata": {
    "scrolled": false
   },
   "outputs": [
    {
     "data": {
      "text/plain": [
       "const    2.450897e-07\n",
       "dtype: float64"
      ]
     },
     "execution_count": 157,
     "metadata": {},
     "output_type": "execute_result"
    }
   ],
   "source": [
    "model.pvalues[model.pvalues < 0.05]"
   ]
  },
  {
   "cell_type": "code",
   "execution_count": 158,
   "metadata": {},
   "outputs": [
    {
     "data": {
      "text/plain": [
       "const    2.450897e-07\n",
       "dtype: float64"
      ]
     },
     "execution_count": 158,
     "metadata": {},
     "output_type": "execute_result"
    }
   ],
   "source": [
    "model.pvalues[model.pvalues < 0.01]"
   ]
  },
  {
   "cell_type": "markdown",
   "metadata": {},
   "source": [
    "### Dependent variable: Max ODF"
   ]
  },
  {
   "cell_type": "code",
   "execution_count": 159,
   "metadata": {},
   "outputs": [],
   "source": [
    "X = df_meso[['Max ODF']]"
   ]
  },
  {
   "cell_type": "code",
   "execution_count": 160,
   "metadata": {
    "scrolled": false
   },
   "outputs": [],
   "source": [
    "Y = df_dependent_variables['Mean-LocalComponent']"
   ]
  },
  {
   "cell_type": "markdown",
   "metadata": {},
   "source": [
    "#### with `sklearn`"
   ]
  },
  {
   "cell_type": "code",
   "execution_count": 161,
   "metadata": {},
   "outputs": [
    {
     "data": {
      "text/plain": [
       "LinearRegression(copy_X=True, fit_intercept=True, n_jobs=None, normalize=False)"
      ]
     },
     "execution_count": 161,
     "metadata": {},
     "output_type": "execute_result"
    }
   ],
   "source": [
    "regr = LinearRegression()\n",
    "regr.fit(X, Y)"
   ]
  },
  {
   "cell_type": "code",
   "execution_count": 162,
   "metadata": {},
   "outputs": [
    {
     "name": "stdout",
     "output_type": "stream",
     "text": [
      "Intercept: \n",
      " 0.38984109989139726\n",
      "Coefficients: \n",
      " [0.15245142]\n"
     ]
    }
   ],
   "source": [
    "print('Intercept: \\n', regr.intercept_)\n",
    "print('Coefficients: \\n', regr.coef_)"
   ]
  },
  {
   "cell_type": "markdown",
   "metadata": {},
   "source": [
    "#### Plot "
   ]
  },
  {
   "cell_type": "code",
   "execution_count": 163,
   "metadata": {
    "scrolled": false
   },
   "outputs": [
    {
     "data": {
      "image/png": "[encoded data removed]",
      "text/plain": [
       "<Figure size 432x288 with 1 Axes>"
      ]
     },
     "metadata": {
      "needs_background": "light"
     },
     "output_type": "display_data"
    }
   ],
   "source": [
    "predictions = regr.predict(X)\n",
    "# plt.figure(figsize=(16, 8))\n",
    "plt.scatter(\n",
    "    df_meso['Max ODF'],\n",
    "    df_dependent_variables['Mean-LocalComponent'],\n",
    "    c='red'\n",
    ")\n",
    "plt.plot(\n",
    "    df_meso['Max ODF'],\n",
    "    predictions,\n",
    "    c='black',\n",
    "    linewidth=2\n",
    ")\n",
    "plt.xlabel(\"Max ODF\")\n",
    "plt.ylabel(\"Mean-LocalComponent\")\n",
    "plt.show()"
   ]
  },
  {
   "cell_type": "markdown",
   "metadata": {},
   "source": [
    "#### with `statsmodels`"
   ]
  },
  {
   "cell_type": "code",
   "execution_count": 164,
   "metadata": {
    "scrolled": false
   },
   "outputs": [
    {
     "data": {
      "text/html": [
       "<table class=\"simpletable\">\n",
       "<caption>OLS Regression Results</caption>\n",
       "<tr>\n",
       "  <th>Dep. Variable:</th>    <td>Mean-LocalComponent</td> <th>  R-squared:         </th> <td>   0.015</td>\n",
       "</tr>\n",
       "<tr>\n",
       "  <th>Model:</th>                    <td>OLS</td>         <th>  Adj. R-squared:    </th> <td>  -0.006</td>\n",
       "</tr>\n",
       "<tr>\n",
       "  <th>Method:</th>              <td>Least Squares</td>    <th>  F-statistic:       </th> <td>  0.7225</td>\n",
       "</tr>\n",
       "<tr>\n",
       "  <th>Date:</th>              <td>Tue, 16 Feb 2021</td>   <th>  Prob (F-statistic):</th>  <td> 0.400</td> \n",
       "</tr>\n",
       "<tr>\n",
       "  <th>Time:</th>                  <td>00:14:28</td>       <th>  Log-Likelihood:    </th> <td>  31.355</td>\n",
       "</tr>\n",
       "<tr>\n",
       "  <th>No. Observations:</th>       <td>    50</td>        <th>  AIC:               </th> <td>  -58.71</td>\n",
       "</tr>\n",
       "<tr>\n",
       "  <th>Df Residuals:</th>           <td>    48</td>        <th>  BIC:               </th> <td>  -54.89</td>\n",
       "</tr>\n",
       "<tr>\n",
       "  <th>Df Model:</th>               <td>     1</td>        <th>                     </th>     <td> </td>   \n",
       "</tr>\n",
       "<tr>\n",
       "  <th>Covariance Type:</th>       <td>nonrobust</td>      <th>                     </th>     <td> </td>   \n",
       "</tr>\n",
       "</table>\n",
       "<table class=\"simpletable\">\n",
       "<tr>\n",
       "     <td></td>        <th>coef</th>     <th>std err</th>      <th>t</th>      <th>P>|t|</th>  <th>[0.025</th>    <th>0.975]</th>  \n",
       "</tr>\n",
       "<tr>\n",
       "  <th>const</th>   <td>    0.3898</td> <td>    0.094</td> <td>    4.164</td> <td> 0.000</td> <td>    0.202</td> <td>    0.578</td>\n",
       "</tr>\n",
       "<tr>\n",
       "  <th>Max ODF</th> <td>    0.1525</td> <td>    0.179</td> <td>    0.850</td> <td> 0.400</td> <td>   -0.208</td> <td>    0.513</td>\n",
       "</tr>\n",
       "</table>\n",
       "<table class=\"simpletable\">\n",
       "<tr>\n",
       "  <th>Omnibus:</th>       <td> 4.741</td> <th>  Durbin-Watson:     </th> <td>   1.614</td>\n",
       "</tr>\n",
       "<tr>\n",
       "  <th>Prob(Omnibus):</th> <td> 0.093</td> <th>  Jarque-Bera (JB):  </th> <td>   4.081</td>\n",
       "</tr>\n",
       "<tr>\n",
       "  <th>Skew:</th>          <td>-0.698</td> <th>  Prob(JB):          </th> <td>   0.130</td>\n",
       "</tr>\n",
       "<tr>\n",
       "  <th>Kurtosis:</th>      <td> 3.112</td> <th>  Cond. No.          </th> <td>    12.2</td>\n",
       "</tr>\n",
       "</table><br/><br/>Warnings:<br/>[1] Standard Errors assume that the covariance matrix of the errors is correctly specified."
      ],
      "text/plain": [
       "<class 'statsmodels.iolib.summary.Summary'>\n",
       "\"\"\"\n",
       "                             OLS Regression Results                            \n",
       "===============================================================================\n",
       "Dep. Variable:     Mean-LocalComponent   R-squared:                       0.015\n",
       "Model:                             OLS   Adj. R-squared:                 -0.006\n",
       "Method:                  Least Squares   F-statistic:                    0.7225\n",
       "Date:                 Tue, 16 Feb 2021   Prob (F-statistic):              0.400\n",
       "Time:                         00:14:28   Log-Likelihood:                 31.355\n",
       "No. Observations:                   50   AIC:                            -58.71\n",
       "Df Residuals:                       48   BIC:                            -54.89\n",
       "Df Model:                            1                                         \n",
       "Covariance Type:             nonrobust                                         \n",
       "==============================================================================\n",
       "                 coef    std err          t      P>|t|      [0.025      0.975]\n",
       "------------------------------------------------------------------------------\n",
       "const          0.3898      0.094      4.164      0.000       0.202       0.578\n",
       "Max ODF        0.1525      0.179      0.850      0.400      -0.208       0.513\n",
       "==============================================================================\n",
       "Omnibus:                        4.741   Durbin-Watson:                   1.614\n",
       "Prob(Omnibus):                  0.093   Jarque-Bera (JB):                4.081\n",
       "Skew:                          -0.698   Prob(JB):                        0.130\n",
       "Kurtosis:                       3.112   Cond. No.                         12.2\n",
       "==============================================================================\n",
       "\n",
       "Warnings:\n",
       "[1] Standard Errors assume that the covariance matrix of the errors is correctly specified.\n",
       "\"\"\""
      ]
     },
     "execution_count": 164,
     "metadata": {},
     "output_type": "execute_result"
    }
   ],
   "source": [
    "X = sm.add_constant(X) # adding a constant\n",
    " \n",
    "model = sm.OLS(Y, X).fit()\n",
    "predictions = model.predict(X) \n",
    " \n",
    "print_model = model.summary()\n",
    "print_model"
   ]
  },
  {
   "cell_type": "code",
   "execution_count": 165,
   "metadata": {
    "scrolled": true
   },
   "outputs": [
    {
     "data": {
      "text/plain": [
       "const    0.000129\n",
       "dtype: float64"
      ]
     },
     "execution_count": 165,
     "metadata": {},
     "output_type": "execute_result"
    }
   ],
   "source": [
    "model.pvalues[model.pvalues < 0.05]"
   ]
  },
  {
   "cell_type": "markdown",
   "metadata": {},
   "source": [
    "### Dependent variable: Avg ODF"
   ]
  },
  {
   "cell_type": "code",
   "execution_count": 166,
   "metadata": {},
   "outputs": [],
   "source": [
    "X = df_meso[['Avg ODF']]"
   ]
  },
  {
   "cell_type": "code",
   "execution_count": 167,
   "metadata": {
    "scrolled": false
   },
   "outputs": [],
   "source": [
    "Y = df_dependent_variables['Mean-LocalComponent']"
   ]
  },
  {
   "cell_type": "markdown",
   "metadata": {},
   "source": [
    "#### with `sklearn`"
   ]
  },
  {
   "cell_type": "code",
   "execution_count": 168,
   "metadata": {},
   "outputs": [
    {
     "data": {
      "text/plain": [
       "LinearRegression(copy_X=True, fit_intercept=True, n_jobs=None, normalize=False)"
      ]
     },
     "execution_count": 168,
     "metadata": {},
     "output_type": "execute_result"
    }
   ],
   "source": [
    "regr = LinearRegression()\n",
    "regr.fit(X, Y)"
   ]
  },
  {
   "cell_type": "code",
   "execution_count": 169,
   "metadata": {},
   "outputs": [
    {
     "name": "stdout",
     "output_type": "stream",
     "text": [
      "Intercept: \n",
      " 0.4583745783112368\n",
      "Coefficients: \n",
      " [0.03808331]\n"
     ]
    }
   ],
   "source": [
    "print('Intercept: \\n', regr.intercept_)\n",
    "print('Coefficients: \\n', regr.coef_)"
   ]
  },
  {
   "cell_type": "markdown",
   "metadata": {},
   "source": [
    "#### Plot "
   ]
  },
  {
   "cell_type": "code",
   "execution_count": 170,
   "metadata": {
    "scrolled": false
   },
   "outputs": [
    {
     "data": {
      "image/png": "[encoded data removed]",
      "text/plain": [
       "<Figure size 432x288 with 1 Axes>"
      ]
     },
     "metadata": {
      "needs_background": "light"
     },
     "output_type": "display_data"
    }
   ],
   "source": [
    "predictions = regr.predict(X)\n",
    "# plt.figure(figsize=(16, 8))\n",
    "plt.scatter(\n",
    "    df_meso['Avg ODF'],\n",
    "    df_dependent_variables['Mean-LocalComponent'],\n",
    "    c='red'\n",
    ")\n",
    "plt.plot(\n",
    "    df_meso['Avg ODF'],\n",
    "    predictions,\n",
    "    c='black',\n",
    "    linewidth=2\n",
    ")\n",
    "plt.xlabel(\"Avg ODF\")\n",
    "plt.ylabel(\"Mean-LocalComponent\")\n",
    "plt.show()"
   ]
  },
  {
   "cell_type": "markdown",
   "metadata": {},
   "source": [
    "#### with `statsmodels`"
   ]
  },
  {
   "cell_type": "code",
   "execution_count": 171,
   "metadata": {
    "scrolled": false
   },
   "outputs": [
    {
     "data": {
      "text/html": [
       "<table class=\"simpletable\">\n",
       "<caption>OLS Regression Results</caption>\n",
       "<tr>\n",
       "  <th>Dep. Variable:</th>    <td>Mean-LocalComponent</td> <th>  R-squared:         </th> <td>   0.001</td>\n",
       "</tr>\n",
       "<tr>\n",
       "  <th>Model:</th>                    <td>OLS</td>         <th>  Adj. R-squared:    </th> <td>  -0.020</td>\n",
       "</tr>\n",
       "<tr>\n",
       "  <th>Method:</th>              <td>Least Squares</td>    <th>  F-statistic:       </th> <td> 0.05315</td>\n",
       "</tr>\n",
       "<tr>\n",
       "  <th>Date:</th>              <td>Tue, 16 Feb 2021</td>   <th>  Prob (F-statistic):</th>  <td> 0.819</td> \n",
       "</tr>\n",
       "<tr>\n",
       "  <th>Time:</th>                  <td>00:14:29</td>       <th>  Log-Likelihood:    </th> <td>  31.009</td>\n",
       "</tr>\n",
       "<tr>\n",
       "  <th>No. Observations:</th>       <td>    50</td>        <th>  AIC:               </th> <td>  -58.02</td>\n",
       "</tr>\n",
       "<tr>\n",
       "  <th>Df Residuals:</th>           <td>    48</td>        <th>  BIC:               </th> <td>  -54.19</td>\n",
       "</tr>\n",
       "<tr>\n",
       "  <th>Df Model:</th>               <td>     1</td>        <th>                     </th>     <td> </td>   \n",
       "</tr>\n",
       "<tr>\n",
       "  <th>Covariance Type:</th>       <td>nonrobust</td>      <th>                     </th>     <td> </td>   \n",
       "</tr>\n",
       "</table>\n",
       "<table class=\"simpletable\">\n",
       "<tr>\n",
       "     <td></td>        <th>coef</th>     <th>std err</th>      <th>t</th>      <th>P>|t|</th>  <th>[0.025</th>    <th>0.975]</th>  \n",
       "</tr>\n",
       "<tr>\n",
       "  <th>const</th>   <td>    0.4584</td> <td>    0.045</td> <td>   10.170</td> <td> 0.000</td> <td>    0.368</td> <td>    0.549</td>\n",
       "</tr>\n",
       "<tr>\n",
       "  <th>Avg ODF</th> <td>    0.0381</td> <td>    0.165</td> <td>    0.231</td> <td> 0.819</td> <td>   -0.294</td> <td>    0.370</td>\n",
       "</tr>\n",
       "</table>\n",
       "<table class=\"simpletable\">\n",
       "<tr>\n",
       "  <th>Omnibus:</th>       <td> 5.769</td> <th>  Durbin-Watson:     </th> <td>   1.646</td>\n",
       "</tr>\n",
       "<tr>\n",
       "  <th>Prob(Omnibus):</th> <td> 0.056</td> <th>  Jarque-Bera (JB):  </th> <td>   4.932</td>\n",
       "</tr>\n",
       "<tr>\n",
       "  <th>Skew:</th>          <td>-0.755</td> <th>  Prob(JB):          </th> <td>  0.0849</td>\n",
       "</tr>\n",
       "<tr>\n",
       "  <th>Kurtosis:</th>      <td> 3.291</td> <th>  Cond. No.          </th> <td>    9.34</td>\n",
       "</tr>\n",
       "</table><br/><br/>Warnings:<br/>[1] Standard Errors assume that the covariance matrix of the errors is correctly specified."
      ],
      "text/plain": [
       "<class 'statsmodels.iolib.summary.Summary'>\n",
       "\"\"\"\n",
       "                             OLS Regression Results                            \n",
       "===============================================================================\n",
       "Dep. Variable:     Mean-LocalComponent   R-squared:                       0.001\n",
       "Model:                             OLS   Adj. R-squared:                 -0.020\n",
       "Method:                  Least Squares   F-statistic:                   0.05315\n",
       "Date:                 Tue, 16 Feb 2021   Prob (F-statistic):              0.819\n",
       "Time:                         00:14:29   Log-Likelihood:                 31.009\n",
       "No. Observations:                   50   AIC:                            -58.02\n",
       "Df Residuals:                       48   BIC:                            -54.19\n",
       "Df Model:                            1                                         \n",
       "Covariance Type:             nonrobust                                         \n",
       "==============================================================================\n",
       "                 coef    std err          t      P>|t|      [0.025      0.975]\n",
       "------------------------------------------------------------------------------\n",
       "const          0.4584      0.045     10.170      0.000       0.368       0.549\n",
       "Avg ODF        0.0381      0.165      0.231      0.819      -0.294       0.370\n",
       "==============================================================================\n",
       "Omnibus:                        5.769   Durbin-Watson:                   1.646\n",
       "Prob(Omnibus):                  0.056   Jarque-Bera (JB):                4.932\n",
       "Skew:                          -0.755   Prob(JB):                       0.0849\n",
       "Kurtosis:                       3.291   Cond. No.                         9.34\n",
       "==============================================================================\n",
       "\n",
       "Warnings:\n",
       "[1] Standard Errors assume that the covariance matrix of the errors is correctly specified.\n",
       "\"\"\""
      ]
     },
     "execution_count": 171,
     "metadata": {},
     "output_type": "execute_result"
    }
   ],
   "source": [
    "X = sm.add_constant(X) # adding a constant\n",
    " \n",
    "model = sm.OLS(Y, X).fit()\n",
    "predictions = model.predict(X) \n",
    " \n",
    "print_model = model.summary()\n",
    "print_model"
   ]
  },
  {
   "cell_type": "code",
   "execution_count": 172,
   "metadata": {
    "scrolled": true
   },
   "outputs": [
    {
     "data": {
      "text/plain": [
       "const    1.454710e-13\n",
       "dtype: float64"
      ]
     },
     "execution_count": 172,
     "metadata": {},
     "output_type": "execute_result"
    }
   ],
   "source": [
    "model.pvalues[model.pvalues < 0.05]"
   ]
  },
  {
   "cell_type": "markdown",
   "metadata": {},
   "source": [
    "### Dependent variable: Flake-out ODF"
   ]
  },
  {
   "cell_type": "code",
   "execution_count": 173,
   "metadata": {},
   "outputs": [],
   "source": [
    "X = df_meso[['Flake-out ODF']]"
   ]
  },
  {
   "cell_type": "code",
   "execution_count": 174,
   "metadata": {
    "scrolled": false
   },
   "outputs": [],
   "source": [
    "Y = df_dependent_variables['Mean-LocalComponent']"
   ]
  },
  {
   "cell_type": "markdown",
   "metadata": {},
   "source": [
    "#### with `sklearn`"
   ]
  },
  {
   "cell_type": "code",
   "execution_count": 175,
   "metadata": {},
   "outputs": [
    {
     "data": {
      "text/plain": [
       "LinearRegression(copy_X=True, fit_intercept=True, n_jobs=None, normalize=False)"
      ]
     },
     "execution_count": 175,
     "metadata": {},
     "output_type": "execute_result"
    }
   ],
   "source": [
    "regr = LinearRegression()\n",
    "regr.fit(X, Y)"
   ]
  },
  {
   "cell_type": "code",
   "execution_count": 176,
   "metadata": {},
   "outputs": [
    {
     "name": "stdout",
     "output_type": "stream",
     "text": [
      "Intercept: \n",
      " 0.4786520621765689\n",
      "Coefficients: \n",
      " [-0.03705803]\n"
     ]
    }
   ],
   "source": [
    "print('Intercept: \\n', regr.intercept_)\n",
    "print('Coefficients: \\n', regr.coef_)"
   ]
  },
  {
   "cell_type": "markdown",
   "metadata": {},
   "source": [
    "#### Plot "
   ]
  },
  {
   "cell_type": "code",
   "execution_count": 177,
   "metadata": {
    "scrolled": false
   },
   "outputs": [
    {
     "data": {
      "image/png": "[encoded data removed]",
      "text/plain": [
       "<Figure size 432x288 with 1 Axes>"
      ]
     },
     "metadata": {
      "needs_background": "light"
     },
     "output_type": "display_data"
    }
   ],
   "source": [
    "predictions = regr.predict(X)\n",
    "# plt.figure(figsize=(16, 8))\n",
    "plt.scatter(\n",
    "    df_meso['Flake-out ODF'],\n",
    "    df_dependent_variables['Mean-LocalComponent'],\n",
    "    c='red'\n",
    ")\n",
    "plt.plot(\n",
    "    df_meso['Flake-out ODF'],\n",
    "    predictions,\n",
    "    c='black',\n",
    "    linewidth=2\n",
    ")\n",
    "plt.xlabel(\"Flake-out ODF\")\n",
    "plt.ylabel(\"Mean-LocalComponent\")\n",
    "plt.show()"
   ]
  },
  {
   "cell_type": "markdown",
   "metadata": {},
   "source": [
    "#### with `statsmodels`"
   ]
  },
  {
   "cell_type": "code",
   "execution_count": 178,
   "metadata": {
    "scrolled": false
   },
   "outputs": [
    {
     "data": {
      "text/html": [
       "<table class=\"simpletable\">\n",
       "<caption>OLS Regression Results</caption>\n",
       "<tr>\n",
       "  <th>Dep. Variable:</th>    <td>Mean-LocalComponent</td> <th>  R-squared:         </th> <td>   0.003</td>\n",
       "</tr>\n",
       "<tr>\n",
       "  <th>Model:</th>                    <td>OLS</td>         <th>  Adj. R-squared:    </th> <td>  -0.018</td>\n",
       "</tr>\n",
       "<tr>\n",
       "  <th>Method:</th>              <td>Least Squares</td>    <th>  F-statistic:       </th> <td>  0.1283</td>\n",
       "</tr>\n",
       "<tr>\n",
       "  <th>Date:</th>              <td>Tue, 16 Feb 2021</td>   <th>  Prob (F-statistic):</th>  <td> 0.722</td> \n",
       "</tr>\n",
       "<tr>\n",
       "  <th>Time:</th>                  <td>00:14:29</td>       <th>  Log-Likelihood:    </th> <td>  31.048</td>\n",
       "</tr>\n",
       "<tr>\n",
       "  <th>No. Observations:</th>       <td>    50</td>        <th>  AIC:               </th> <td>  -58.10</td>\n",
       "</tr>\n",
       "<tr>\n",
       "  <th>Df Residuals:</th>           <td>    48</td>        <th>  BIC:               </th> <td>  -54.27</td>\n",
       "</tr>\n",
       "<tr>\n",
       "  <th>Df Model:</th>               <td>     1</td>        <th>                     </th>     <td> </td>   \n",
       "</tr>\n",
       "<tr>\n",
       "  <th>Covariance Type:</th>       <td>nonrobust</td>      <th>                     </th>     <td> </td>   \n",
       "</tr>\n",
       "</table>\n",
       "<table class=\"simpletable\">\n",
       "<tr>\n",
       "        <td></td>           <th>coef</th>     <th>std err</th>      <th>t</th>      <th>P>|t|</th>  <th>[0.025</th>    <th>0.975]</th>  \n",
       "</tr>\n",
       "<tr>\n",
       "  <th>const</th>         <td>    0.4787</td> <td>    0.036</td> <td>   13.447</td> <td> 0.000</td> <td>    0.407</td> <td>    0.550</td>\n",
       "</tr>\n",
       "<tr>\n",
       "  <th>Flake-out ODF</th> <td>   -0.0371</td> <td>    0.103</td> <td>   -0.358</td> <td> 0.722</td> <td>   -0.245</td> <td>    0.171</td>\n",
       "</tr>\n",
       "</table>\n",
       "<table class=\"simpletable\">\n",
       "<tr>\n",
       "  <th>Omnibus:</th>       <td> 6.154</td> <th>  Durbin-Watson:     </th> <td>   1.684</td>\n",
       "</tr>\n",
       "<tr>\n",
       "  <th>Prob(Omnibus):</th> <td> 0.046</td> <th>  Jarque-Bera (JB):  </th> <td>   5.241</td>\n",
       "</tr>\n",
       "<tr>\n",
       "  <th>Skew:</th>          <td>-0.770</td> <th>  Prob(JB):          </th> <td>  0.0728</td>\n",
       "</tr>\n",
       "<tr>\n",
       "  <th>Kurtosis:</th>      <td> 3.382</td> <th>  Cond. No.          </th> <td>    6.00</td>\n",
       "</tr>\n",
       "</table><br/><br/>Warnings:<br/>[1] Standard Errors assume that the covariance matrix of the errors is correctly specified."
      ],
      "text/plain": [
       "<class 'statsmodels.iolib.summary.Summary'>\n",
       "\"\"\"\n",
       "                             OLS Regression Results                            \n",
       "===============================================================================\n",
       "Dep. Variable:     Mean-LocalComponent   R-squared:                       0.003\n",
       "Model:                             OLS   Adj. R-squared:                 -0.018\n",
       "Method:                  Least Squares   F-statistic:                    0.1283\n",
       "Date:                 Tue, 16 Feb 2021   Prob (F-statistic):              0.722\n",
       "Time:                         00:14:29   Log-Likelihood:                 31.048\n",
       "No. Observations:                   50   AIC:                            -58.10\n",
       "Df Residuals:                       48   BIC:                            -54.27\n",
       "Df Model:                            1                                         \n",
       "Covariance Type:             nonrobust                                         \n",
       "=================================================================================\n",
       "                    coef    std err          t      P>|t|      [0.025      0.975]\n",
       "---------------------------------------------------------------------------------\n",
       "const             0.4787      0.036     13.447      0.000       0.407       0.550\n",
       "Flake-out ODF    -0.0371      0.103     -0.358      0.722      -0.245       0.171\n",
       "==============================================================================\n",
       "Omnibus:                        6.154   Durbin-Watson:                   1.684\n",
       "Prob(Omnibus):                  0.046   Jarque-Bera (JB):                5.241\n",
       "Skew:                          -0.770   Prob(JB):                       0.0728\n",
       "Kurtosis:                       3.382   Cond. No.                         6.00\n",
       "==============================================================================\n",
       "\n",
       "Warnings:\n",
       "[1] Standard Errors assume that the covariance matrix of the errors is correctly specified.\n",
       "\"\"\""
      ]
     },
     "execution_count": 178,
     "metadata": {},
     "output_type": "execute_result"
    }
   ],
   "source": [
    "X = sm.add_constant(X) # adding a constant\n",
    " \n",
    "model = sm.OLS(Y, X).fit()\n",
    "predictions = model.predict(X) \n",
    " \n",
    "print_model = model.summary()\n",
    "print_model"
   ]
  },
  {
   "cell_type": "code",
   "execution_count": 179,
   "metadata": {
    "scrolled": true
   },
   "outputs": [
    {
     "data": {
      "text/plain": [
       "const    6.759393e-18\n",
       "dtype: float64"
      ]
     },
     "execution_count": 179,
     "metadata": {},
     "output_type": "execute_result"
    }
   ],
   "source": [
    "model.pvalues[model.pvalues < 0.05]"
   ]
  },
  {
   "cell_type": "markdown",
   "metadata": {},
   "source": [
    "### Dependent variable: Avg Embeddedness"
   ]
  },
  {
   "cell_type": "code",
   "execution_count": 180,
   "metadata": {},
   "outputs": [],
   "source": [
    "X = df_meso[['Avg Embeddedness']]"
   ]
  },
  {
   "cell_type": "code",
   "execution_count": 181,
   "metadata": {
    "scrolled": false
   },
   "outputs": [],
   "source": [
    "Y = df_dependent_variables['Mean-LocalComponent']"
   ]
  },
  {
   "cell_type": "markdown",
   "metadata": {},
   "source": [
    "#### with `sklearn`"
   ]
  },
  {
   "cell_type": "code",
   "execution_count": 182,
   "metadata": {},
   "outputs": [
    {
     "data": {
      "text/plain": [
       "LinearRegression(copy_X=True, fit_intercept=True, n_jobs=None, normalize=False)"
      ]
     },
     "execution_count": 182,
     "metadata": {},
     "output_type": "execute_result"
    }
   ],
   "source": [
    "regr = LinearRegression()\n",
    "regr.fit(X, Y)"
   ]
  },
  {
   "cell_type": "code",
   "execution_count": 183,
   "metadata": {},
   "outputs": [
    {
     "name": "stdout",
     "output_type": "stream",
     "text": [
      "Intercept: \n",
      " 0.5558431500185399\n",
      "Coefficients: \n",
      " [-0.11790183]\n"
     ]
    }
   ],
   "source": [
    "print('Intercept: \\n', regr.intercept_)\n",
    "print('Coefficients: \\n', regr.coef_)"
   ]
  },
  {
   "cell_type": "markdown",
   "metadata": {},
   "source": [
    "#### Plot "
   ]
  },
  {
   "cell_type": "code",
   "execution_count": 184,
   "metadata": {
    "scrolled": false
   },
   "outputs": [
    {
     "data": {
      "image/png": "[encoded data removed]",
      "text/plain": [
       "<Figure size 432x288 with 1 Axes>"
      ]
     },
     "metadata": {
      "needs_background": "light"
     },
     "output_type": "display_data"
    }
   ],
   "source": [
    "predictions = regr.predict(X)\n",
    "# plt.figure(figsize=(16, 8))\n",
    "plt.scatter(\n",
    "    df_meso['Avg Embeddedness'],\n",
    "    df_dependent_variables['Mean-LocalComponent'],\n",
    "    c='red'\n",
    ")\n",
    "plt.plot(\n",
    "    df_meso['Avg Embeddedness'],\n",
    "    predictions,\n",
    "    c='black',\n",
    "    linewidth=2\n",
    ")\n",
    "plt.xlabel(\"Avg Embeddedness\")\n",
    "plt.ylabel(\"Mean-LocalComponent\")\n",
    "plt.show()"
   ]
  },
  {
   "cell_type": "markdown",
   "metadata": {},
   "source": [
    "#### with `statsmodels`"
   ]
  },
  {
   "cell_type": "code",
   "execution_count": 185,
   "metadata": {
    "scrolled": false
   },
   "outputs": [
    {
     "data": {
      "text/html": [
       "<table class=\"simpletable\">\n",
       "<caption>OLS Regression Results</caption>\n",
       "<tr>\n",
       "  <th>Dep. Variable:</th>    <td>Mean-LocalComponent</td> <th>  R-squared:         </th> <td>   0.010</td>\n",
       "</tr>\n",
       "<tr>\n",
       "  <th>Model:</th>                    <td>OLS</td>         <th>  Adj. R-squared:    </th> <td>  -0.011</td>\n",
       "</tr>\n",
       "<tr>\n",
       "  <th>Method:</th>              <td>Least Squares</td>    <th>  F-statistic:       </th> <td>  0.4903</td>\n",
       "</tr>\n",
       "<tr>\n",
       "  <th>Date:</th>              <td>Tue, 16 Feb 2021</td>   <th>  Prob (F-statistic):</th>  <td> 0.487</td> \n",
       "</tr>\n",
       "<tr>\n",
       "  <th>Time:</th>                  <td>00:14:29</td>       <th>  Log-Likelihood:    </th> <td>  31.235</td>\n",
       "</tr>\n",
       "<tr>\n",
       "  <th>No. Observations:</th>       <td>    50</td>        <th>  AIC:               </th> <td>  -58.47</td>\n",
       "</tr>\n",
       "<tr>\n",
       "  <th>Df Residuals:</th>           <td>    48</td>        <th>  BIC:               </th> <td>  -54.65</td>\n",
       "</tr>\n",
       "<tr>\n",
       "  <th>Df Model:</th>               <td>     1</td>        <th>                     </th>     <td> </td>   \n",
       "</tr>\n",
       "<tr>\n",
       "  <th>Covariance Type:</th>       <td>nonrobust</td>      <th>                     </th>     <td> </td>   \n",
       "</tr>\n",
       "</table>\n",
       "<table class=\"simpletable\">\n",
       "<tr>\n",
       "          <td></td>            <th>coef</th>     <th>std err</th>      <th>t</th>      <th>P>|t|</th>  <th>[0.025</th>    <th>0.975]</th>  \n",
       "</tr>\n",
       "<tr>\n",
       "  <th>const</th>            <td>    0.5558</td> <td>    0.127</td> <td>    4.373</td> <td> 0.000</td> <td>    0.300</td> <td>    0.811</td>\n",
       "</tr>\n",
       "<tr>\n",
       "  <th>Avg Embeddedness</th> <td>   -0.1179</td> <td>    0.168</td> <td>   -0.700</td> <td> 0.487</td> <td>   -0.456</td> <td>    0.221</td>\n",
       "</tr>\n",
       "</table>\n",
       "<table class=\"simpletable\">\n",
       "<tr>\n",
       "  <th>Omnibus:</th>       <td> 6.046</td> <th>  Durbin-Watson:     </th> <td>   1.631</td>\n",
       "</tr>\n",
       "<tr>\n",
       "  <th>Prob(Omnibus):</th> <td> 0.049</td> <th>  Jarque-Bera (JB):  </th> <td>   5.226</td>\n",
       "</tr>\n",
       "<tr>\n",
       "  <th>Skew:</th>          <td>-0.778</td> <th>  Prob(JB):          </th> <td>  0.0733</td>\n",
       "</tr>\n",
       "<tr>\n",
       "  <th>Kurtosis:</th>      <td> 3.300</td> <th>  Cond. No.          </th> <td>    14.1</td>\n",
       "</tr>\n",
       "</table><br/><br/>Warnings:<br/>[1] Standard Errors assume that the covariance matrix of the errors is correctly specified."
      ],
      "text/plain": [
       "<class 'statsmodels.iolib.summary.Summary'>\n",
       "\"\"\"\n",
       "                             OLS Regression Results                            \n",
       "===============================================================================\n",
       "Dep. Variable:     Mean-LocalComponent   R-squared:                       0.010\n",
       "Model:                             OLS   Adj. R-squared:                 -0.011\n",
       "Method:                  Least Squares   F-statistic:                    0.4903\n",
       "Date:                 Tue, 16 Feb 2021   Prob (F-statistic):              0.487\n",
       "Time:                         00:14:29   Log-Likelihood:                 31.235\n",
       "No. Observations:                   50   AIC:                            -58.47\n",
       "Df Residuals:                       48   BIC:                            -54.65\n",
       "Df Model:                            1                                         \n",
       "Covariance Type:             nonrobust                                         \n",
       "====================================================================================\n",
       "                       coef    std err          t      P>|t|      [0.025      0.975]\n",
       "------------------------------------------------------------------------------------\n",
       "const                0.5558      0.127      4.373      0.000       0.300       0.811\n",
       "Avg Embeddedness    -0.1179      0.168     -0.700      0.487      -0.456       0.221\n",
       "==============================================================================\n",
       "Omnibus:                        6.046   Durbin-Watson:                   1.631\n",
       "Prob(Omnibus):                  0.049   Jarque-Bera (JB):                5.226\n",
       "Skew:                          -0.778   Prob(JB):                       0.0733\n",
       "Kurtosis:                       3.300   Cond. No.                         14.1\n",
       "==============================================================================\n",
       "\n",
       "Warnings:\n",
       "[1] Standard Errors assume that the covariance matrix of the errors is correctly specified.\n",
       "\"\"\""
      ]
     },
     "execution_count": 185,
     "metadata": {},
     "output_type": "execute_result"
    }
   ],
   "source": [
    "X = sm.add_constant(X) # adding a constant\n",
    " \n",
    "model = sm.OLS(Y, X).fit()\n",
    "predictions = model.predict(X) \n",
    " \n",
    "print_model = model.summary()\n",
    "print_model"
   ]
  },
  {
   "cell_type": "code",
   "execution_count": 186,
   "metadata": {
    "scrolled": true
   },
   "outputs": [
    {
     "data": {
      "text/plain": [
       "const    0.000065\n",
       "dtype: float64"
      ]
     },
     "execution_count": 186,
     "metadata": {},
     "output_type": "execute_result"
    }
   ],
   "source": [
    "model.pvalues[model.pvalues < 0.05]"
   ]
  },
  {
   "cell_type": "markdown",
   "metadata": {},
   "source": [
    "### Dependent variable: Avg Distance"
   ]
  },
  {
   "cell_type": "code",
   "execution_count": 187,
   "metadata": {},
   "outputs": [],
   "source": [
    "X = df_meso[['Avg Distance']]"
   ]
  },
  {
   "cell_type": "code",
   "execution_count": 188,
   "metadata": {
    "scrolled": false
   },
   "outputs": [],
   "source": [
    "Y = df_dependent_variables['Mean-LocalComponent']"
   ]
  },
  {
   "cell_type": "markdown",
   "metadata": {},
   "source": [
    "#### with `sklearn`"
   ]
  },
  {
   "cell_type": "code",
   "execution_count": 189,
   "metadata": {
    "scrolled": true
   },
   "outputs": [
    {
     "data": {
      "text/plain": [
       "LinearRegression(copy_X=True, fit_intercept=True, n_jobs=None, normalize=False)"
      ]
     },
     "execution_count": 189,
     "metadata": {},
     "output_type": "execute_result"
    }
   ],
   "source": [
    "regr = LinearRegression()\n",
    "regr.fit(X, Y)"
   ]
  },
  {
   "cell_type": "code",
   "execution_count": 190,
   "metadata": {},
   "outputs": [
    {
     "name": "stdout",
     "output_type": "stream",
     "text": [
      "Intercept: \n",
      " 0.6845133296021858\n",
      "Coefficients: \n",
      " [-0.12057006]\n"
     ]
    }
   ],
   "source": [
    "print('Intercept: \\n', regr.intercept_)\n",
    "print('Coefficients: \\n', regr.coef_)"
   ]
  },
  {
   "cell_type": "markdown",
   "metadata": {},
   "source": [
    "#### Plot "
   ]
  },
  {
   "cell_type": "code",
   "execution_count": 191,
   "metadata": {
    "scrolled": false
   },
   "outputs": [
    {
     "data": {
      "image/png": "[encoded data removed]",
      "text/plain": [
       "<Figure size 432x288 with 1 Axes>"
      ]
     },
     "metadata": {
      "needs_background": "light"
     },
     "output_type": "display_data"
    }
   ],
   "source": [
    "predictions = regr.predict(X)\n",
    "# plt.figure(figsize=(16, 8))\n",
    "plt.scatter(\n",
    "    df_meso['Avg Distance'],\n",
    "    df_dependent_variables['Mean-LocalComponent'],\n",
    "    c='red'\n",
    ")\n",
    "plt.plot(\n",
    "    df_meso['Avg Distance'],\n",
    "    predictions,\n",
    "    c='black',\n",
    "    linewidth=2\n",
    ")\n",
    "plt.xlabel(\"Avg Distance\")\n",
    "plt.ylabel(\"Mean-LocalComponent\")\n",
    "plt.show()"
   ]
  },
  {
   "cell_type": "markdown",
   "metadata": {},
   "source": [
    "#### with `statsmodels`"
   ]
  },
  {
   "cell_type": "code",
   "execution_count": 192,
   "metadata": {
    "scrolled": false
   },
   "outputs": [
    {
     "data": {
      "text/html": [
       "<table class=\"simpletable\">\n",
       "<caption>OLS Regression Results</caption>\n",
       "<tr>\n",
       "  <th>Dep. Variable:</th>    <td>Mean-LocalComponent</td> <th>  R-squared:         </th> <td>   0.092</td>\n",
       "</tr>\n",
       "<tr>\n",
       "  <th>Model:</th>                    <td>OLS</td>         <th>  Adj. R-squared:    </th> <td>   0.073</td>\n",
       "</tr>\n",
       "<tr>\n",
       "  <th>Method:</th>              <td>Least Squares</td>    <th>  F-statistic:       </th> <td>   4.866</td>\n",
       "</tr>\n",
       "<tr>\n",
       "  <th>Date:</th>              <td>Tue, 16 Feb 2021</td>   <th>  Prob (F-statistic):</th>  <td>0.0322</td> \n",
       "</tr>\n",
       "<tr>\n",
       "  <th>Time:</th>                  <td>00:14:29</td>       <th>  Log-Likelihood:    </th> <td>  33.395</td>\n",
       "</tr>\n",
       "<tr>\n",
       "  <th>No. Observations:</th>       <td>    50</td>        <th>  AIC:               </th> <td>  -62.79</td>\n",
       "</tr>\n",
       "<tr>\n",
       "  <th>Df Residuals:</th>           <td>    48</td>        <th>  BIC:               </th> <td>  -58.97</td>\n",
       "</tr>\n",
       "<tr>\n",
       "  <th>Df Model:</th>               <td>     1</td>        <th>                     </th>     <td> </td>   \n",
       "</tr>\n",
       "<tr>\n",
       "  <th>Covariance Type:</th>       <td>nonrobust</td>      <th>                     </th>     <td> </td>   \n",
       "</tr>\n",
       "</table>\n",
       "<table class=\"simpletable\">\n",
       "<tr>\n",
       "        <td></td>          <th>coef</th>     <th>std err</th>      <th>t</th>      <th>P>|t|</th>  <th>[0.025</th>    <th>0.975]</th>  \n",
       "</tr>\n",
       "<tr>\n",
       "  <th>const</th>        <td>    0.6845</td> <td>    0.100</td> <td>    6.855</td> <td> 0.000</td> <td>    0.484</td> <td>    0.885</td>\n",
       "</tr>\n",
       "<tr>\n",
       "  <th>Avg Distance</th> <td>   -0.1206</td> <td>    0.055</td> <td>   -2.206</td> <td> 0.032</td> <td>   -0.230</td> <td>   -0.011</td>\n",
       "</tr>\n",
       "</table>\n",
       "<table class=\"simpletable\">\n",
       "<tr>\n",
       "  <th>Omnibus:</th>       <td>14.710</td> <th>  Durbin-Watson:     </th> <td>   1.520</td>\n",
       "</tr>\n",
       "<tr>\n",
       "  <th>Prob(Omnibus):</th> <td> 0.001</td> <th>  Jarque-Bera (JB):  </th> <td>  16.385</td>\n",
       "</tr>\n",
       "<tr>\n",
       "  <th>Skew:</th>          <td>-1.182</td> <th>  Prob(JB):          </th> <td>0.000277</td>\n",
       "</tr>\n",
       "<tr>\n",
       "  <th>Kurtosis:</th>      <td> 4.510</td> <th>  Cond. No.          </th> <td>    13.2</td>\n",
       "</tr>\n",
       "</table><br/><br/>Warnings:<br/>[1] Standard Errors assume that the covariance matrix of the errors is correctly specified."
      ],
      "text/plain": [
       "<class 'statsmodels.iolib.summary.Summary'>\n",
       "\"\"\"\n",
       "                             OLS Regression Results                            \n",
       "===============================================================================\n",
       "Dep. Variable:     Mean-LocalComponent   R-squared:                       0.092\n",
       "Model:                             OLS   Adj. R-squared:                  0.073\n",
       "Method:                  Least Squares   F-statistic:                     4.866\n",
       "Date:                 Tue, 16 Feb 2021   Prob (F-statistic):             0.0322\n",
       "Time:                         00:14:29   Log-Likelihood:                 33.395\n",
       "No. Observations:                   50   AIC:                            -62.79\n",
       "Df Residuals:                       48   BIC:                            -58.97\n",
       "Df Model:                            1                                         \n",
       "Covariance Type:             nonrobust                                         \n",
       "================================================================================\n",
       "                   coef    std err          t      P>|t|      [0.025      0.975]\n",
       "--------------------------------------------------------------------------------\n",
       "const            0.6845      0.100      6.855      0.000       0.484       0.885\n",
       "Avg Distance    -0.1206      0.055     -2.206      0.032      -0.230      -0.011\n",
       "==============================================================================\n",
       "Omnibus:                       14.710   Durbin-Watson:                   1.520\n",
       "Prob(Omnibus):                  0.001   Jarque-Bera (JB):               16.385\n",
       "Skew:                          -1.182   Prob(JB):                     0.000277\n",
       "Kurtosis:                       4.510   Cond. No.                         13.2\n",
       "==============================================================================\n",
       "\n",
       "Warnings:\n",
       "[1] Standard Errors assume that the covariance matrix of the errors is correctly specified.\n",
       "\"\"\""
      ]
     },
     "execution_count": 192,
     "metadata": {},
     "output_type": "execute_result"
    }
   ],
   "source": [
    "X = sm.add_constant(X) # adding a constant\n",
    " \n",
    "model = sm.OLS(Y, X).fit()\n",
    "predictions = model.predict(X) \n",
    " \n",
    "print_model = model.summary()\n",
    "print_model"
   ]
  },
  {
   "cell_type": "code",
   "execution_count": 193,
   "metadata": {
    "scrolled": false
   },
   "outputs": [
    {
     "data": {
      "text/plain": [
       "const           1.226517e-08\n",
       "Avg Distance    3.221468e-02\n",
       "dtype: float64"
      ]
     },
     "execution_count": 193,
     "metadata": {},
     "output_type": "execute_result"
    }
   ],
   "source": [
    "model.pvalues[model.pvalues < 0.05]"
   ]
  },
  {
   "cell_type": "code",
   "execution_count": 194,
   "metadata": {},
   "outputs": [
    {
     "data": {
      "text/plain": [
       "const    1.226517e-08\n",
       "dtype: float64"
      ]
     },
     "execution_count": 194,
     "metadata": {},
     "output_type": "execute_result"
    }
   ],
   "source": [
    "model.pvalues[model.pvalues < 0.01]"
   ]
  },
  {
   "cell_type": "markdown",
   "metadata": {},
   "source": [
    "### Dependent variable: Avg Hub Dominance"
   ]
  },
  {
   "cell_type": "code",
   "execution_count": 195,
   "metadata": {},
   "outputs": [],
   "source": [
    "X = df_meso[['Avg Hub Dominance']]"
   ]
  },
  {
   "cell_type": "code",
   "execution_count": 196,
   "metadata": {
    "scrolled": false
   },
   "outputs": [],
   "source": [
    "Y = df_dependent_variables['Mean-LocalComponent']"
   ]
  },
  {
   "cell_type": "markdown",
   "metadata": {},
   "source": [
    "#### with `sklearn`"
   ]
  },
  {
   "cell_type": "code",
   "execution_count": 197,
   "metadata": {},
   "outputs": [
    {
     "data": {
      "text/plain": [
       "LinearRegression(copy_X=True, fit_intercept=True, n_jobs=None, normalize=False)"
      ]
     },
     "execution_count": 197,
     "metadata": {},
     "output_type": "execute_result"
    }
   ],
   "source": [
    "regr = LinearRegression()\n",
    "regr.fit(X, Y)"
   ]
  },
  {
   "cell_type": "code",
   "execution_count": 198,
   "metadata": {},
   "outputs": [
    {
     "name": "stdout",
     "output_type": "stream",
     "text": [
      "Intercept: \n",
      " 0.35152245890424183\n",
      "Coefficients: \n",
      " [0.15078511]\n"
     ]
    }
   ],
   "source": [
    "print('Intercept: \\n', regr.intercept_)\n",
    "print('Coefficients: \\n', regr.coef_)"
   ]
  },
  {
   "cell_type": "markdown",
   "metadata": {},
   "source": [
    "#### Plot "
   ]
  },
  {
   "cell_type": "code",
   "execution_count": 199,
   "metadata": {
    "scrolled": false
   },
   "outputs": [
    {
     "data": {
      "image/png": "[encoded data removed]",
      "text/plain": [
       "<Figure size 432x288 with 1 Axes>"
      ]
     },
     "metadata": {
      "needs_background": "light"
     },
     "output_type": "display_data"
    }
   ],
   "source": [
    "predictions = regr.predict(X)\n",
    "# plt.figure(figsize=(16, 8))\n",
    "plt.scatter(\n",
    "    df_meso['Avg Hub Dominance'],\n",
    "    df_dependent_variables['Mean-LocalComponent'],\n",
    "    c='red'\n",
    ")\n",
    "plt.plot(\n",
    "    df_meso['Avg Hub Dominance'],\n",
    "    predictions,\n",
    "    c='black',\n",
    "    linewidth=2\n",
    ")\n",
    "plt.xlabel(\"Avg Hub Dominance\")\n",
    "plt.ylabel(\"Mean-LocalComponent\")\n",
    "plt.show()"
   ]
  },
  {
   "cell_type": "markdown",
   "metadata": {},
   "source": [
    "#### with `statsmodels`"
   ]
  },
  {
   "cell_type": "code",
   "execution_count": 200,
   "metadata": {
    "scrolled": false
   },
   "outputs": [
    {
     "data": {
      "text/html": [
       "<table class=\"simpletable\">\n",
       "<caption>OLS Regression Results</caption>\n",
       "<tr>\n",
       "  <th>Dep. Variable:</th>    <td>Mean-LocalComponent</td> <th>  R-squared:         </th> <td>   0.025</td>\n",
       "</tr>\n",
       "<tr>\n",
       "  <th>Model:</th>                    <td>OLS</td>         <th>  Adj. R-squared:    </th> <td>   0.004</td>\n",
       "</tr>\n",
       "<tr>\n",
       "  <th>Method:</th>              <td>Least Squares</td>    <th>  F-statistic:       </th> <td>   1.209</td>\n",
       "</tr>\n",
       "<tr>\n",
       "  <th>Date:</th>              <td>Tue, 16 Feb 2021</td>   <th>  Prob (F-statistic):</th>  <td> 0.277</td> \n",
       "</tr>\n",
       "<tr>\n",
       "  <th>Time:</th>                  <td>00:14:30</td>       <th>  Log-Likelihood:    </th> <td>  31.603</td>\n",
       "</tr>\n",
       "<tr>\n",
       "  <th>No. Observations:</th>       <td>    50</td>        <th>  AIC:               </th> <td>  -59.21</td>\n",
       "</tr>\n",
       "<tr>\n",
       "  <th>Df Residuals:</th>           <td>    48</td>        <th>  BIC:               </th> <td>  -55.38</td>\n",
       "</tr>\n",
       "<tr>\n",
       "  <th>Df Model:</th>               <td>     1</td>        <th>                     </th>     <td> </td>   \n",
       "</tr>\n",
       "<tr>\n",
       "  <th>Covariance Type:</th>       <td>nonrobust</td>      <th>                     </th>     <td> </td>   \n",
       "</tr>\n",
       "</table>\n",
       "<table class=\"simpletable\">\n",
       "<tr>\n",
       "          <td></td>             <th>coef</th>     <th>std err</th>      <th>t</th>      <th>P>|t|</th>  <th>[0.025</th>    <th>0.975]</th>  \n",
       "</tr>\n",
       "<tr>\n",
       "  <th>const</th>             <td>    0.3515</td> <td>    0.107</td> <td>    3.274</td> <td> 0.002</td> <td>    0.136</td> <td>    0.567</td>\n",
       "</tr>\n",
       "<tr>\n",
       "  <th>Avg Hub Dominance</th> <td>    0.1508</td> <td>    0.137</td> <td>    1.100</td> <td> 0.277</td> <td>   -0.125</td> <td>    0.426</td>\n",
       "</tr>\n",
       "</table>\n",
       "<table class=\"simpletable\">\n",
       "<tr>\n",
       "  <th>Omnibus:</th>       <td> 9.620</td> <th>  Durbin-Watson:     </th> <td>   1.567</td>\n",
       "</tr>\n",
       "<tr>\n",
       "  <th>Prob(Omnibus):</th> <td> 0.008</td> <th>  Jarque-Bera (JB):  </th> <td>   8.992</td>\n",
       "</tr>\n",
       "<tr>\n",
       "  <th>Skew:</th>          <td>-0.959</td> <th>  Prob(JB):          </th> <td>  0.0112</td>\n",
       "</tr>\n",
       "<tr>\n",
       "  <th>Kurtosis:</th>      <td> 3.798</td> <th>  Cond. No.          </th> <td>    11.8</td>\n",
       "</tr>\n",
       "</table><br/><br/>Warnings:<br/>[1] Standard Errors assume that the covariance matrix of the errors is correctly specified."
      ],
      "text/plain": [
       "<class 'statsmodels.iolib.summary.Summary'>\n",
       "\"\"\"\n",
       "                             OLS Regression Results                            \n",
       "===============================================================================\n",
       "Dep. Variable:     Mean-LocalComponent   R-squared:                       0.025\n",
       "Model:                             OLS   Adj. R-squared:                  0.004\n",
       "Method:                  Least Squares   F-statistic:                     1.209\n",
       "Date:                 Tue, 16 Feb 2021   Prob (F-statistic):              0.277\n",
       "Time:                         00:14:30   Log-Likelihood:                 31.603\n",
       "No. Observations:                   50   AIC:                            -59.21\n",
       "Df Residuals:                       48   BIC:                            -55.38\n",
       "Df Model:                            1                                         \n",
       "Covariance Type:             nonrobust                                         \n",
       "=====================================================================================\n",
       "                        coef    std err          t      P>|t|      [0.025      0.975]\n",
       "-------------------------------------------------------------------------------------\n",
       "const                 0.3515      0.107      3.274      0.002       0.136       0.567\n",
       "Avg Hub Dominance     0.1508      0.137      1.100      0.277      -0.125       0.426\n",
       "==============================================================================\n",
       "Omnibus:                        9.620   Durbin-Watson:                   1.567\n",
       "Prob(Omnibus):                  0.008   Jarque-Bera (JB):                8.992\n",
       "Skew:                          -0.959   Prob(JB):                       0.0112\n",
       "Kurtosis:                       3.798   Cond. No.                         11.8\n",
       "==============================================================================\n",
       "\n",
       "Warnings:\n",
       "[1] Standard Errors assume that the covariance matrix of the errors is correctly specified.\n",
       "\"\"\""
      ]
     },
     "execution_count": 200,
     "metadata": {},
     "output_type": "execute_result"
    }
   ],
   "source": [
    "X = sm.add_constant(X) # adding a constant\n",
    " \n",
    "model = sm.OLS(Y, X).fit()\n",
    "predictions = model.predict(X) \n",
    " \n",
    "print_model = model.summary()\n",
    "print_model"
   ]
  },
  {
   "cell_type": "code",
   "execution_count": 201,
   "metadata": {
    "scrolled": true
   },
   "outputs": [
    {
     "data": {
      "text/plain": [
       "const    0.001971\n",
       "dtype: float64"
      ]
     },
     "execution_count": 201,
     "metadata": {},
     "output_type": "execute_result"
    }
   ],
   "source": [
    "model.pvalues[model.pvalues < 0.05]"
   ]
  },
  {
   "cell_type": "markdown",
   "metadata": {},
   "source": [
    "## Independent variable: Global component"
   ]
  },
  {
   "cell_type": "markdown",
   "metadata": {},
   "source": [
    "### Dependent variable: Average Degree"
   ]
  },
  {
   "cell_type": "code",
   "execution_count": 202,
   "metadata": {},
   "outputs": [],
   "source": [
    "X = df_macro[['Average Degree']]"
   ]
  },
  {
   "cell_type": "code",
   "execution_count": 203,
   "metadata": {
    "scrolled": false
   },
   "outputs": [],
   "source": [
    "Y = df_dependent_variables['Mean-GlobalComponent']"
   ]
  },
  {
   "cell_type": "markdown",
   "metadata": {},
   "source": [
    "#### with `sklearn`"
   ]
  },
  {
   "cell_type": "code",
   "execution_count": 204,
   "metadata": {},
   "outputs": [
    {
     "data": {
      "text/plain": [
       "LinearRegression(copy_X=True, fit_intercept=True, n_jobs=None, normalize=False)"
      ]
     },
     "execution_count": 204,
     "metadata": {},
     "output_type": "execute_result"
    }
   ],
   "source": [
    "regr = LinearRegression()\n",
    "regr.fit(X, Y)"
   ]
  },
  {
   "cell_type": "code",
   "execution_count": 205,
   "metadata": {},
   "outputs": [
    {
     "name": "stdout",
     "output_type": "stream",
     "text": [
      "Intercept: \n",
      " 0.4054265792441053\n",
      "Coefficients: \n",
      " [0.00022259]\n"
     ]
    }
   ],
   "source": [
    "print('Intercept: \\n', regr.intercept_)\n",
    "print('Coefficients: \\n', regr.coef_)"
   ]
  },
  {
   "cell_type": "markdown",
   "metadata": {},
   "source": [
    "#### Plot "
   ]
  },
  {
   "cell_type": "code",
   "execution_count": 206,
   "metadata": {
    "scrolled": false
   },
   "outputs": [
    {
     "data": {
      "image/png": "[encoded data removed]",
      "text/plain": [
       "<Figure size 432x288 with 1 Axes>"
      ]
     },
     "metadata": {
      "needs_background": "light"
     },
     "output_type": "display_data"
    }
   ],
   "source": [
    "predictions = regr.predict(X)\n",
    "#plt.figure(figsize=(16, 8))\n",
    "plt.scatter(\n",
    "    df_macro['Average Degree'],\n",
    "    df_dependent_variables['Mean-GlobalComponent'],\n",
    "    c='red'\n",
    ")\n",
    "plt.plot(\n",
    "    df_macro['Average Degree'],\n",
    "    predictions,\n",
    "    c='black',\n",
    "    linewidth=2\n",
    ")\n",
    "plt.xlabel(\"Average Degre\")\n",
    "plt.ylabel(\"Mean-GlobalComponent\")\n",
    "plt.show()"
   ]
  },
  {
   "cell_type": "markdown",
   "metadata": {},
   "source": [
    "#### with `statsmodels`"
   ]
  },
  {
   "cell_type": "code",
   "execution_count": 207,
   "metadata": {
    "scrolled": false
   },
   "outputs": [
    {
     "data": {
      "text/html": [
       "<table class=\"simpletable\">\n",
       "<caption>OLS Regression Results</caption>\n",
       "<tr>\n",
       "  <th>Dep. Variable:</th>    <td>Mean-GlobalComponent</td> <th>  R-squared:         </th> <td>   0.002</td>\n",
       "</tr>\n",
       "<tr>\n",
       "  <th>Model:</th>                     <td>OLS</td>         <th>  Adj. R-squared:    </th> <td>  -0.018</td>\n",
       "</tr>\n",
       "<tr>\n",
       "  <th>Method:</th>               <td>Least Squares</td>    <th>  F-statistic:       </th> <td>  0.1137</td>\n",
       "</tr>\n",
       "<tr>\n",
       "  <th>Date:</th>               <td>Tue, 16 Feb 2021</td>   <th>  Prob (F-statistic):</th>  <td> 0.737</td> \n",
       "</tr>\n",
       "<tr>\n",
       "  <th>Time:</th>                   <td>00:14:30</td>       <th>  Log-Likelihood:    </th> <td>  41.329</td>\n",
       "</tr>\n",
       "<tr>\n",
       "  <th>No. Observations:</th>        <td>    50</td>        <th>  AIC:               </th> <td>  -78.66</td>\n",
       "</tr>\n",
       "<tr>\n",
       "  <th>Df Residuals:</th>            <td>    48</td>        <th>  BIC:               </th> <td>  -74.83</td>\n",
       "</tr>\n",
       "<tr>\n",
       "  <th>Df Model:</th>                <td>     1</td>        <th>                     </th>     <td> </td>   \n",
       "</tr>\n",
       "<tr>\n",
       "  <th>Covariance Type:</th>        <td>nonrobust</td>      <th>                     </th>     <td> </td>   \n",
       "</tr>\n",
       "</table>\n",
       "<table class=\"simpletable\">\n",
       "<tr>\n",
       "         <td></td>           <th>coef</th>     <th>std err</th>      <th>t</th>      <th>P>|t|</th>  <th>[0.025</th>    <th>0.975]</th>  \n",
       "</tr>\n",
       "<tr>\n",
       "  <th>const</th>          <td>    0.4054</td> <td>    0.018</td> <td>   22.513</td> <td> 0.000</td> <td>    0.369</td> <td>    0.442</td>\n",
       "</tr>\n",
       "<tr>\n",
       "  <th>Average Degree</th> <td>    0.0002</td> <td>    0.001</td> <td>    0.337</td> <td> 0.737</td> <td>   -0.001</td> <td>    0.002</td>\n",
       "</tr>\n",
       "</table>\n",
       "<table class=\"simpletable\">\n",
       "<tr>\n",
       "  <th>Omnibus:</th>       <td> 3.106</td> <th>  Durbin-Watson:     </th> <td>   2.336</td>\n",
       "</tr>\n",
       "<tr>\n",
       "  <th>Prob(Omnibus):</th> <td> 0.212</td> <th>  Jarque-Bera (JB):  </th> <td>   1.628</td>\n",
       "</tr>\n",
       "<tr>\n",
       "  <th>Skew:</th>          <td>-0.082</td> <th>  Prob(JB):          </th> <td>   0.443</td>\n",
       "</tr>\n",
       "<tr>\n",
       "  <th>Kurtosis:</th>      <td> 2.131</td> <th>  Cond. No.          </th> <td>    32.2</td>\n",
       "</tr>\n",
       "</table><br/><br/>Warnings:<br/>[1] Standard Errors assume that the covariance matrix of the errors is correctly specified."
      ],
      "text/plain": [
       "<class 'statsmodels.iolib.summary.Summary'>\n",
       "\"\"\"\n",
       "                             OLS Regression Results                             \n",
       "================================================================================\n",
       "Dep. Variable:     Mean-GlobalComponent   R-squared:                       0.002\n",
       "Model:                              OLS   Adj. R-squared:                 -0.018\n",
       "Method:                   Least Squares   F-statistic:                    0.1137\n",
       "Date:                  Tue, 16 Feb 2021   Prob (F-statistic):              0.737\n",
       "Time:                          00:14:30   Log-Likelihood:                 41.329\n",
       "No. Observations:                    50   AIC:                            -78.66\n",
       "Df Residuals:                        48   BIC:                            -74.83\n",
       "Df Model:                             1                                         \n",
       "Covariance Type:              nonrobust                                         \n",
       "==================================================================================\n",
       "                     coef    std err          t      P>|t|      [0.025      0.975]\n",
       "----------------------------------------------------------------------------------\n",
       "const              0.4054      0.018     22.513      0.000       0.369       0.442\n",
       "Average Degree     0.0002      0.001      0.337      0.737      -0.001       0.002\n",
       "==============================================================================\n",
       "Omnibus:                        3.106   Durbin-Watson:                   2.336\n",
       "Prob(Omnibus):                  0.212   Jarque-Bera (JB):                1.628\n",
       "Skew:                          -0.082   Prob(JB):                        0.443\n",
       "Kurtosis:                       2.131   Cond. No.                         32.2\n",
       "==============================================================================\n",
       "\n",
       "Warnings:\n",
       "[1] Standard Errors assume that the covariance matrix of the errors is correctly specified.\n",
       "\"\"\""
      ]
     },
     "execution_count": 207,
     "metadata": {},
     "output_type": "execute_result"
    }
   ],
   "source": [
    "X = sm.add_constant(X) # adding a constant\n",
    " \n",
    "model = sm.OLS(Y, X).fit()\n",
    "predictions = model.predict(X) \n",
    " \n",
    "print_model = model.summary()\n",
    "print_model"
   ]
  },
  {
   "cell_type": "code",
   "execution_count": 208,
   "metadata": {
    "scrolled": true
   },
   "outputs": [
    {
     "data": {
      "text/plain": [
       "const    3.694841e-27\n",
       "dtype: float64"
      ]
     },
     "execution_count": 208,
     "metadata": {},
     "output_type": "execute_result"
    }
   ],
   "source": [
    "model.pvalues[model.pvalues < 0.05]"
   ]
  },
  {
   "cell_type": "markdown",
   "metadata": {},
   "source": [
    "### Dependent variable: Average Distance"
   ]
  },
  {
   "cell_type": "code",
   "execution_count": 209,
   "metadata": {},
   "outputs": [],
   "source": [
    "X = df_macro[['Average Distance']]"
   ]
  },
  {
   "cell_type": "code",
   "execution_count": 210,
   "metadata": {
    "scrolled": false
   },
   "outputs": [],
   "source": [
    "Y = df_dependent_variables['Mean-GlobalComponent']"
   ]
  },
  {
   "cell_type": "markdown",
   "metadata": {},
   "source": [
    "#### with `sklearn`"
   ]
  },
  {
   "cell_type": "code",
   "execution_count": 211,
   "metadata": {},
   "outputs": [
    {
     "data": {
      "text/plain": [
       "LinearRegression(copy_X=True, fit_intercept=True, n_jobs=None, normalize=False)"
      ]
     },
     "execution_count": 211,
     "metadata": {},
     "output_type": "execute_result"
    }
   ],
   "source": [
    "regr = LinearRegression()\n",
    "regr.fit(X, Y)"
   ]
  },
  {
   "cell_type": "code",
   "execution_count": 212,
   "metadata": {},
   "outputs": [
    {
     "name": "stdout",
     "output_type": "stream",
     "text": [
      "Intercept: \n",
      " 0.4372744612006329\n",
      "Coefficients: \n",
      " [-0.00561049]\n"
     ]
    }
   ],
   "source": [
    "print('Intercept: \\n', regr.intercept_)\n",
    "print('Coefficients: \\n', regr.coef_)"
   ]
  },
  {
   "cell_type": "markdown",
   "metadata": {},
   "source": [
    "#### Plot "
   ]
  },
  {
   "cell_type": "code",
   "execution_count": 213,
   "metadata": {
    "scrolled": false
   },
   "outputs": [
    {
     "data": {
      "image/png": "[encoded data removed]",
      "text/plain": [
       "<Figure size 432x288 with 1 Axes>"
      ]
     },
     "metadata": {
      "needs_background": "light"
     },
     "output_type": "display_data"
    }
   ],
   "source": [
    "predictions = regr.predict(X)\n",
    "# plt.figure(figsize=(16, 8))\n",
    "plt.scatter(\n",
    "    df_macro['Average Distance'],\n",
    "    df_dependent_variables['Mean-GlobalComponent'],\n",
    "    c='red'\n",
    ")\n",
    "plt.plot(\n",
    "    df_macro['Average Distance'],\n",
    "    predictions,\n",
    "    c='black',\n",
    "    linewidth=2\n",
    ")\n",
    "plt.xlabel(\"Average Distance\")\n",
    "plt.ylabel(\"Mean-GlobalComponent\")\n",
    "plt.show()"
   ]
  },
  {
   "cell_type": "markdown",
   "metadata": {},
   "source": [
    "#### with `statsmodels`"
   ]
  },
  {
   "cell_type": "code",
   "execution_count": 214,
   "metadata": {
    "scrolled": false
   },
   "outputs": [
    {
     "data": {
      "text/html": [
       "<table class=\"simpletable\">\n",
       "<caption>OLS Regression Results</caption>\n",
       "<tr>\n",
       "  <th>Dep. Variable:</th>    <td>Mean-GlobalComponent</td> <th>  R-squared:         </th> <td>   0.038</td>\n",
       "</tr>\n",
       "<tr>\n",
       "  <th>Model:</th>                     <td>OLS</td>         <th>  Adj. R-squared:    </th> <td>   0.018</td>\n",
       "</tr>\n",
       "<tr>\n",
       "  <th>Method:</th>               <td>Least Squares</td>    <th>  F-statistic:       </th> <td>   1.908</td>\n",
       "</tr>\n",
       "<tr>\n",
       "  <th>Date:</th>               <td>Tue, 16 Feb 2021</td>   <th>  Prob (F-statistic):</th>  <td> 0.174</td> \n",
       "</tr>\n",
       "<tr>\n",
       "  <th>Time:</th>                   <td>00:14:30</td>       <th>  Log-Likelihood:    </th> <td>  42.245</td>\n",
       "</tr>\n",
       "<tr>\n",
       "  <th>No. Observations:</th>        <td>    50</td>        <th>  AIC:               </th> <td>  -80.49</td>\n",
       "</tr>\n",
       "<tr>\n",
       "  <th>Df Residuals:</th>            <td>    48</td>        <th>  BIC:               </th> <td>  -76.67</td>\n",
       "</tr>\n",
       "<tr>\n",
       "  <th>Df Model:</th>                <td>     1</td>        <th>                     </th>     <td> </td>   \n",
       "</tr>\n",
       "<tr>\n",
       "  <th>Covariance Type:</th>        <td>nonrobust</td>      <th>                     </th>     <td> </td>   \n",
       "</tr>\n",
       "</table>\n",
       "<table class=\"simpletable\">\n",
       "<tr>\n",
       "          <td></td>            <th>coef</th>     <th>std err</th>      <th>t</th>      <th>P>|t|</th>  <th>[0.025</th>    <th>0.975]</th>  \n",
       "</tr>\n",
       "<tr>\n",
       "  <th>const</th>            <td>    0.4373</td> <td>    0.026</td> <td>   17.088</td> <td> 0.000</td> <td>    0.386</td> <td>    0.489</td>\n",
       "</tr>\n",
       "<tr>\n",
       "  <th>Average Distance</th> <td>   -0.0056</td> <td>    0.004</td> <td>   -1.381</td> <td> 0.174</td> <td>   -0.014</td> <td>    0.003</td>\n",
       "</tr>\n",
       "</table>\n",
       "<table class=\"simpletable\">\n",
       "<tr>\n",
       "  <th>Omnibus:</th>       <td> 1.716</td> <th>  Durbin-Watson:     </th> <td>   2.462</td>\n",
       "</tr>\n",
       "<tr>\n",
       "  <th>Prob(Omnibus):</th> <td> 0.424</td> <th>  Jarque-Bera (JB):  </th> <td>   1.550</td>\n",
       "</tr>\n",
       "<tr>\n",
       "  <th>Skew:</th>          <td>-0.307</td> <th>  Prob(JB):          </th> <td>   0.461</td>\n",
       "</tr>\n",
       "<tr>\n",
       "  <th>Kurtosis:</th>      <td> 2.394</td> <th>  Cond. No.          </th> <td>    10.9</td>\n",
       "</tr>\n",
       "</table><br/><br/>Warnings:<br/>[1] Standard Errors assume that the covariance matrix of the errors is correctly specified."
      ],
      "text/plain": [
       "<class 'statsmodels.iolib.summary.Summary'>\n",
       "\"\"\"\n",
       "                             OLS Regression Results                             \n",
       "================================================================================\n",
       "Dep. Variable:     Mean-GlobalComponent   R-squared:                       0.038\n",
       "Model:                              OLS   Adj. R-squared:                  0.018\n",
       "Method:                   Least Squares   F-statistic:                     1.908\n",
       "Date:                  Tue, 16 Feb 2021   Prob (F-statistic):              0.174\n",
       "Time:                          00:14:30   Log-Likelihood:                 42.245\n",
       "No. Observations:                    50   AIC:                            -80.49\n",
       "Df Residuals:                        48   BIC:                            -76.67\n",
       "Df Model:                             1                                         \n",
       "Covariance Type:              nonrobust                                         \n",
       "====================================================================================\n",
       "                       coef    std err          t      P>|t|      [0.025      0.975]\n",
       "------------------------------------------------------------------------------------\n",
       "const                0.4373      0.026     17.088      0.000       0.386       0.489\n",
       "Average Distance    -0.0056      0.004     -1.381      0.174      -0.014       0.003\n",
       "==============================================================================\n",
       "Omnibus:                        1.716   Durbin-Watson:                   2.462\n",
       "Prob(Omnibus):                  0.424   Jarque-Bera (JB):                1.550\n",
       "Skew:                          -0.307   Prob(JB):                        0.461\n",
       "Kurtosis:                       2.394   Cond. No.                         10.9\n",
       "==============================================================================\n",
       "\n",
       "Warnings:\n",
       "[1] Standard Errors assume that the covariance matrix of the errors is correctly specified.\n",
       "\"\"\""
      ]
     },
     "execution_count": 214,
     "metadata": {},
     "output_type": "execute_result"
    }
   ],
   "source": [
    "X = sm.add_constant(X) # adding a constant\n",
    " \n",
    "model = sm.OLS(Y, X).fit()\n",
    "predictions = model.predict(X) \n",
    " \n",
    "print_model = model.summary()\n",
    "print_model"
   ]
  },
  {
   "cell_type": "code",
   "execution_count": 215,
   "metadata": {
    "scrolled": true
   },
   "outputs": [
    {
     "data": {
      "text/plain": [
       "const    4.842843e-22\n",
       "dtype: float64"
      ]
     },
     "execution_count": 215,
     "metadata": {},
     "output_type": "execute_result"
    }
   ],
   "source": [
    "model.pvalues[model.pvalues < 0.05]"
   ]
  },
  {
   "cell_type": "markdown",
   "metadata": {},
   "source": [
    "### Dependent variable: Density"
   ]
  },
  {
   "cell_type": "code",
   "execution_count": 216,
   "metadata": {},
   "outputs": [],
   "source": [
    "X = df_macro[['Density']]"
   ]
  },
  {
   "cell_type": "code",
   "execution_count": 217,
   "metadata": {
    "scrolled": false
   },
   "outputs": [],
   "source": [
    "Y = df_dependent_variables['Mean-GlobalComponent']"
   ]
  },
  {
   "cell_type": "markdown",
   "metadata": {},
   "source": [
    "#### with `sklearn`"
   ]
  },
  {
   "cell_type": "code",
   "execution_count": 218,
   "metadata": {},
   "outputs": [
    {
     "data": {
      "text/plain": [
       "LinearRegression(copy_X=True, fit_intercept=True, n_jobs=None, normalize=False)"
      ]
     },
     "execution_count": 218,
     "metadata": {},
     "output_type": "execute_result"
    }
   ],
   "source": [
    "regr = LinearRegression()\n",
    "regr.fit(X, Y)"
   ]
  },
  {
   "cell_type": "code",
   "execution_count": 219,
   "metadata": {},
   "outputs": [
    {
     "name": "stdout",
     "output_type": "stream",
     "text": [
      "Intercept: \n",
      " 0.41986186568267764\n",
      "Coefficients: \n",
      " [-0.35928366]\n"
     ]
    }
   ],
   "source": [
    "print('Intercept: \\n', regr.intercept_)\n",
    "print('Coefficients: \\n', regr.coef_)"
   ]
  },
  {
   "cell_type": "markdown",
   "metadata": {},
   "source": [
    "#### Plot "
   ]
  },
  {
   "cell_type": "code",
   "execution_count": 220,
   "metadata": {
    "scrolled": false
   },
   "outputs": [
    {
     "data": {
      "image/png": "[encoded data removed]",
      "text/plain": [
       "<Figure size 432x288 with 1 Axes>"
      ]
     },
     "metadata": {
      "needs_background": "light"
     },
     "output_type": "display_data"
    }
   ],
   "source": [
    "predictions = regr.predict(X)\n",
    "# plt.figure(figsize=(16, 8))\n",
    "plt.scatter(\n",
    "    df_macro['Density'],\n",
    "    df_dependent_variables['Mean-GlobalComponent'],\n",
    "    c='red'\n",
    ")\n",
    "plt.plot(\n",
    "    df_macro['Density'],\n",
    "    predictions,\n",
    "    c='black',\n",
    "    linewidth=2\n",
    ")\n",
    "plt.xlabel(\"Density\")\n",
    "plt.ylabel(\"Mean-GlobalComponent\")\n",
    "plt.show()"
   ]
  },
  {
   "cell_type": "markdown",
   "metadata": {},
   "source": [
    "#### with `statsmodels`"
   ]
  },
  {
   "cell_type": "code",
   "execution_count": 221,
   "metadata": {
    "scrolled": false
   },
   "outputs": [
    {
     "data": {
      "text/html": [
       "<table class=\"simpletable\">\n",
       "<caption>OLS Regression Results</caption>\n",
       "<tr>\n",
       "  <th>Dep. Variable:</th>    <td>Mean-GlobalComponent</td> <th>  R-squared:         </th> <td>   0.019</td>\n",
       "</tr>\n",
       "<tr>\n",
       "  <th>Model:</th>                     <td>OLS</td>         <th>  Adj. R-squared:    </th> <td>  -0.001</td>\n",
       "</tr>\n",
       "<tr>\n",
       "  <th>Method:</th>               <td>Least Squares</td>    <th>  F-statistic:       </th> <td>  0.9463</td>\n",
       "</tr>\n",
       "<tr>\n",
       "  <th>Date:</th>               <td>Tue, 16 Feb 2021</td>   <th>  Prob (F-statistic):</th>  <td> 0.336</td> \n",
       "</tr>\n",
       "<tr>\n",
       "  <th>Time:</th>                   <td>00:14:30</td>       <th>  Log-Likelihood:    </th> <td>  41.758</td>\n",
       "</tr>\n",
       "<tr>\n",
       "  <th>No. Observations:</th>        <td>    50</td>        <th>  AIC:               </th> <td>  -79.52</td>\n",
       "</tr>\n",
       "<tr>\n",
       "  <th>Df Residuals:</th>            <td>    48</td>        <th>  BIC:               </th> <td>  -75.69</td>\n",
       "</tr>\n",
       "<tr>\n",
       "  <th>Df Model:</th>                <td>     1</td>        <th>                     </th>     <td> </td>   \n",
       "</tr>\n",
       "<tr>\n",
       "  <th>Covariance Type:</th>        <td>nonrobust</td>      <th>                     </th>     <td> </td>   \n",
       "</tr>\n",
       "</table>\n",
       "<table class=\"simpletable\">\n",
       "<tr>\n",
       "     <td></td>        <th>coef</th>     <th>std err</th>      <th>t</th>      <th>P>|t|</th>  <th>[0.025</th>    <th>0.975]</th>  \n",
       "</tr>\n",
       "<tr>\n",
       "  <th>const</th>   <td>    0.4199</td> <td>    0.019</td> <td>   22.048</td> <td> 0.000</td> <td>    0.382</td> <td>    0.458</td>\n",
       "</tr>\n",
       "<tr>\n",
       "  <th>Density</th> <td>   -0.3593</td> <td>    0.369</td> <td>   -0.973</td> <td> 0.336</td> <td>   -1.102</td> <td>    0.383</td>\n",
       "</tr>\n",
       "</table>\n",
       "<table class=\"simpletable\">\n",
       "<tr>\n",
       "  <th>Omnibus:</th>       <td> 4.398</td> <th>  Durbin-Watson:     </th> <td>   2.368</td>\n",
       "</tr>\n",
       "<tr>\n",
       "  <th>Prob(Omnibus):</th> <td> 0.111</td> <th>  Jarque-Bera (JB):  </th> <td>   1.911</td>\n",
       "</tr>\n",
       "<tr>\n",
       "  <th>Skew:</th>          <td> 0.045</td> <th>  Prob(JB):          </th> <td>   0.385</td>\n",
       "</tr>\n",
       "<tr>\n",
       "  <th>Kurtosis:</th>      <td> 2.046</td> <th>  Cond. No.          </th> <td>    24.4</td>\n",
       "</tr>\n",
       "</table><br/><br/>Warnings:<br/>[1] Standard Errors assume that the covariance matrix of the errors is correctly specified."
      ],
      "text/plain": [
       "<class 'statsmodels.iolib.summary.Summary'>\n",
       "\"\"\"\n",
       "                             OLS Regression Results                             \n",
       "================================================================================\n",
       "Dep. Variable:     Mean-GlobalComponent   R-squared:                       0.019\n",
       "Model:                              OLS   Adj. R-squared:                 -0.001\n",
       "Method:                   Least Squares   F-statistic:                    0.9463\n",
       "Date:                  Tue, 16 Feb 2021   Prob (F-statistic):              0.336\n",
       "Time:                          00:14:30   Log-Likelihood:                 41.758\n",
       "No. Observations:                    50   AIC:                            -79.52\n",
       "Df Residuals:                        48   BIC:                            -75.69\n",
       "Df Model:                             1                                         \n",
       "Covariance Type:              nonrobust                                         \n",
       "==============================================================================\n",
       "                 coef    std err          t      P>|t|      [0.025      0.975]\n",
       "------------------------------------------------------------------------------\n",
       "const          0.4199      0.019     22.048      0.000       0.382       0.458\n",
       "Density       -0.3593      0.369     -0.973      0.336      -1.102       0.383\n",
       "==============================================================================\n",
       "Omnibus:                        4.398   Durbin-Watson:                   2.368\n",
       "Prob(Omnibus):                  0.111   Jarque-Bera (JB):                1.911\n",
       "Skew:                           0.045   Prob(JB):                        0.385\n",
       "Kurtosis:                       2.046   Cond. No.                         24.4\n",
       "==============================================================================\n",
       "\n",
       "Warnings:\n",
       "[1] Standard Errors assume that the covariance matrix of the errors is correctly specified.\n",
       "\"\"\""
      ]
     },
     "execution_count": 221,
     "metadata": {},
     "output_type": "execute_result"
    }
   ],
   "source": [
    "X = sm.add_constant(X) # adding a constant\n",
    " \n",
    "model = sm.OLS(Y, X).fit()\n",
    "predictions = model.predict(X) \n",
    " \n",
    "print_model = model.summary()\n",
    "print_model"
   ]
  },
  {
   "cell_type": "code",
   "execution_count": 222,
   "metadata": {
    "scrolled": true
   },
   "outputs": [
    {
     "data": {
      "text/plain": [
       "const    9.224350e-27\n",
       "dtype: float64"
      ]
     },
     "execution_count": 222,
     "metadata": {},
     "output_type": "execute_result"
    }
   ],
   "source": [
    "model.pvalues[model.pvalues < 0.05]"
   ]
  },
  {
   "cell_type": "markdown",
   "metadata": {},
   "source": [
    "### Dependent variable: Transitivity"
   ]
  },
  {
   "cell_type": "code",
   "execution_count": 223,
   "metadata": {},
   "outputs": [],
   "source": [
    "X = df_macro[['Transitivity']]"
   ]
  },
  {
   "cell_type": "code",
   "execution_count": 224,
   "metadata": {
    "scrolled": false
   },
   "outputs": [],
   "source": [
    "Y = df_dependent_variables['Mean-GlobalComponent']"
   ]
  },
  {
   "cell_type": "markdown",
   "metadata": {},
   "source": [
    "#### with `sklearn`"
   ]
  },
  {
   "cell_type": "code",
   "execution_count": 225,
   "metadata": {},
   "outputs": [
    {
     "data": {
      "text/plain": [
       "LinearRegression(copy_X=True, fit_intercept=True, n_jobs=None, normalize=False)"
      ]
     },
     "execution_count": 225,
     "metadata": {},
     "output_type": "execute_result"
    }
   ],
   "source": [
    "regr = LinearRegression()\n",
    "regr.fit(X, Y)"
   ]
  },
  {
   "cell_type": "code",
   "execution_count": 226,
   "metadata": {},
   "outputs": [
    {
     "name": "stdout",
     "output_type": "stream",
     "text": [
      "Intercept: \n",
      " 0.46210973779133213\n",
      "Coefficients: \n",
      " [-0.20517935]\n"
     ]
    }
   ],
   "source": [
    "print('Intercept: \\n', regr.intercept_)\n",
    "print('Coefficients: \\n', regr.coef_)"
   ]
  },
  {
   "cell_type": "markdown",
   "metadata": {},
   "source": [
    "#### Plot "
   ]
  },
  {
   "cell_type": "code",
   "execution_count": 227,
   "metadata": {
    "scrolled": false
   },
   "outputs": [
    {
     "data": {
      "image/png": "[encoded data removed]",
      "text/plain": [
       "<Figure size 432x288 with 1 Axes>"
      ]
     },
     "metadata": {
      "needs_background": "light"
     },
     "output_type": "display_data"
    }
   ],
   "source": [
    "predictions = regr.predict(X)\n",
    "# plt.figure(figsize=(16, 8))\n",
    "plt.scatter(\n",
    "    df_macro['Transitivity'],\n",
    "    df_dependent_variables['Mean-GlobalComponent'],\n",
    "    c='red'\n",
    ")\n",
    "plt.plot(\n",
    "    df_macro['Transitivity'],\n",
    "    predictions,\n",
    "    c='black',\n",
    "    linewidth=2\n",
    ")\n",
    "plt.xlabel(\"Transitivity\")\n",
    "plt.ylabel(\"Mean-GlobalComponent\")\n",
    "plt.show()"
   ]
  },
  {
   "cell_type": "markdown",
   "metadata": {},
   "source": [
    "#### with `statsmodels`"
   ]
  },
  {
   "cell_type": "code",
   "execution_count": 228,
   "metadata": {
    "scrolled": false
   },
   "outputs": [
    {
     "data": {
      "text/html": [
       "<table class=\"simpletable\">\n",
       "<caption>OLS Regression Results</caption>\n",
       "<tr>\n",
       "  <th>Dep. Variable:</th>    <td>Mean-GlobalComponent</td> <th>  R-squared:         </th> <td>   0.155</td>\n",
       "</tr>\n",
       "<tr>\n",
       "  <th>Model:</th>                     <td>OLS</td>         <th>  Adj. R-squared:    </th> <td>   0.137</td>\n",
       "</tr>\n",
       "<tr>\n",
       "  <th>Method:</th>               <td>Least Squares</td>    <th>  F-statistic:       </th> <td>   8.798</td>\n",
       "</tr>\n",
       "<tr>\n",
       "  <th>Date:</th>               <td>Tue, 16 Feb 2021</td>   <th>  Prob (F-statistic):</th>  <td>0.00469</td>\n",
       "</tr>\n",
       "<tr>\n",
       "  <th>Time:</th>                   <td>00:14:31</td>       <th>  Log-Likelihood:    </th> <td>  45.478</td>\n",
       "</tr>\n",
       "<tr>\n",
       "  <th>No. Observations:</th>        <td>    50</td>        <th>  AIC:               </th> <td>  -86.96</td>\n",
       "</tr>\n",
       "<tr>\n",
       "  <th>Df Residuals:</th>            <td>    48</td>        <th>  BIC:               </th> <td>  -83.13</td>\n",
       "</tr>\n",
       "<tr>\n",
       "  <th>Df Model:</th>                <td>     1</td>        <th>                     </th>     <td> </td>   \n",
       "</tr>\n",
       "<tr>\n",
       "  <th>Covariance Type:</th>        <td>nonrobust</td>      <th>                     </th>     <td> </td>   \n",
       "</tr>\n",
       "</table>\n",
       "<table class=\"simpletable\">\n",
       "<tr>\n",
       "        <td></td>          <th>coef</th>     <th>std err</th>      <th>t</th>      <th>P>|t|</th>  <th>[0.025</th>    <th>0.975]</th>  \n",
       "</tr>\n",
       "<tr>\n",
       "  <th>const</th>        <td>    0.4621</td> <td>    0.023</td> <td>   20.211</td> <td> 0.000</td> <td>    0.416</td> <td>    0.508</td>\n",
       "</tr>\n",
       "<tr>\n",
       "  <th>Transitivity</th> <td>   -0.2052</td> <td>    0.069</td> <td>   -2.966</td> <td> 0.005</td> <td>   -0.344</td> <td>   -0.066</td>\n",
       "</tr>\n",
       "</table>\n",
       "<table class=\"simpletable\">\n",
       "<tr>\n",
       "  <th>Omnibus:</th>       <td> 2.449</td> <th>  Durbin-Watson:     </th> <td>   2.234</td>\n",
       "</tr>\n",
       "<tr>\n",
       "  <th>Prob(Omnibus):</th> <td> 0.294</td> <th>  Jarque-Bera (JB):  </th> <td>   2.063</td>\n",
       "</tr>\n",
       "<tr>\n",
       "  <th>Skew:</th>          <td> 0.371</td> <th>  Prob(JB):          </th> <td>   0.356</td>\n",
       "</tr>\n",
       "<tr>\n",
       "  <th>Kurtosis:</th>      <td> 2.338</td> <th>  Cond. No.          </th> <td>    5.27</td>\n",
       "</tr>\n",
       "</table><br/><br/>Warnings:<br/>[1] Standard Errors assume that the covariance matrix of the errors is correctly specified."
      ],
      "text/plain": [
       "<class 'statsmodels.iolib.summary.Summary'>\n",
       "\"\"\"\n",
       "                             OLS Regression Results                             \n",
       "================================================================================\n",
       "Dep. Variable:     Mean-GlobalComponent   R-squared:                       0.155\n",
       "Model:                              OLS   Adj. R-squared:                  0.137\n",
       "Method:                   Least Squares   F-statistic:                     8.798\n",
       "Date:                  Tue, 16 Feb 2021   Prob (F-statistic):            0.00469\n",
       "Time:                          00:14:31   Log-Likelihood:                 45.478\n",
       "No. Observations:                    50   AIC:                            -86.96\n",
       "Df Residuals:                        48   BIC:                            -83.13\n",
       "Df Model:                             1                                         \n",
       "Covariance Type:              nonrobust                                         \n",
       "================================================================================\n",
       "                   coef    std err          t      P>|t|      [0.025      0.975]\n",
       "--------------------------------------------------------------------------------\n",
       "const            0.4621      0.023     20.211      0.000       0.416       0.508\n",
       "Transitivity    -0.2052      0.069     -2.966      0.005      -0.344      -0.066\n",
       "==============================================================================\n",
       "Omnibus:                        2.449   Durbin-Watson:                   2.234\n",
       "Prob(Omnibus):                  0.294   Jarque-Bera (JB):                2.063\n",
       "Skew:                           0.371   Prob(JB):                        0.356\n",
       "Kurtosis:                       2.338   Cond. No.                         5.27\n",
       "==============================================================================\n",
       "\n",
       "Warnings:\n",
       "[1] Standard Errors assume that the covariance matrix of the errors is correctly specified.\n",
       "\"\"\""
      ]
     },
     "execution_count": 228,
     "metadata": {},
     "output_type": "execute_result"
    }
   ],
   "source": [
    "X = sm.add_constant(X) # adding a constant\n",
    " \n",
    "model = sm.OLS(Y, X).fit()\n",
    "predictions = model.predict(X) \n",
    " \n",
    "print_model = model.summary()\n",
    "print_model"
   ]
  },
  {
   "cell_type": "code",
   "execution_count": 229,
   "metadata": {
    "scrolled": true
   },
   "outputs": [
    {
     "data": {
      "text/plain": [
       "const           4.033387e-25\n",
       "Transitivity    4.688097e-03\n",
       "dtype: float64"
      ]
     },
     "execution_count": 229,
     "metadata": {},
     "output_type": "execute_result"
    }
   ],
   "source": [
    "model.pvalues[model.pvalues < 0.05]"
   ]
  },
  {
   "cell_type": "code",
   "execution_count": 230,
   "metadata": {},
   "outputs": [
    {
     "data": {
      "text/plain": [
       "const           4.033387e-25\n",
       "Transitivity    4.688097e-03\n",
       "dtype: float64"
      ]
     },
     "execution_count": 230,
     "metadata": {},
     "output_type": "execute_result"
    }
   ],
   "source": [
    "model.pvalues[model.pvalues < 0.01]"
   ]
  },
  {
   "cell_type": "markdown",
   "metadata": {},
   "source": [
    "### Dependent variable: Assortativity"
   ]
  },
  {
   "cell_type": "code",
   "execution_count": 231,
   "metadata": {},
   "outputs": [],
   "source": [
    "X = df_macro[['Assortativity']]"
   ]
  },
  {
   "cell_type": "code",
   "execution_count": 232,
   "metadata": {
    "scrolled": false
   },
   "outputs": [],
   "source": [
    "Y = df_dependent_variables['Mean-GlobalComponent']"
   ]
  },
  {
   "cell_type": "markdown",
   "metadata": {},
   "source": [
    "#### with `sklearn`"
   ]
  },
  {
   "cell_type": "code",
   "execution_count": 233,
   "metadata": {},
   "outputs": [
    {
     "data": {
      "text/plain": [
       "LinearRegression(copy_X=True, fit_intercept=True, n_jobs=None, normalize=False)"
      ]
     },
     "execution_count": 233,
     "metadata": {},
     "output_type": "execute_result"
    }
   ],
   "source": [
    "regr = LinearRegression()\n",
    "regr.fit(X, Y)"
   ]
  },
  {
   "cell_type": "code",
   "execution_count": 234,
   "metadata": {},
   "outputs": [
    {
     "name": "stdout",
     "output_type": "stream",
     "text": [
      "Intercept: \n",
      " 0.4046002375054945\n",
      "Coefficients: \n",
      " [-0.14026953]\n"
     ]
    }
   ],
   "source": [
    "print('Intercept: \\n', regr.intercept_)\n",
    "print('Coefficients: \\n', regr.coef_)"
   ]
  },
  {
   "cell_type": "markdown",
   "metadata": {},
   "source": [
    "#### Plot "
   ]
  },
  {
   "cell_type": "code",
   "execution_count": 235,
   "metadata": {
    "scrolled": false
   },
   "outputs": [
    {
     "data": {
      "image/png": "[encoded data removed]",
      "text/plain": [
       "<Figure size 432x288 with 1 Axes>"
      ]
     },
     "metadata": {
      "needs_background": "light"
     },
     "output_type": "display_data"
    }
   ],
   "source": [
    "predictions = regr.predict(X)\n",
    "# plt.figure(figsize=(16, 8))\n",
    "plt.scatter(\n",
    "    df_macro['Assortativity'],\n",
    "    df_dependent_variables['Mean-GlobalComponent'],\n",
    "    c='red'\n",
    ")\n",
    "plt.plot(\n",
    "    df_macro['Assortativity'],\n",
    "    predictions,\n",
    "    c='black',\n",
    "    linewidth=2\n",
    ")\n",
    "plt.xlabel(\"Assortativity\")\n",
    "plt.ylabel(\"Mean-GlobalComponent\")\n",
    "plt.show()"
   ]
  },
  {
   "cell_type": "markdown",
   "metadata": {},
   "source": [
    "#### with `statsmodels`"
   ]
  },
  {
   "cell_type": "code",
   "execution_count": 236,
   "metadata": {
    "scrolled": false
   },
   "outputs": [
    {
     "data": {
      "text/html": [
       "<table class=\"simpletable\">\n",
       "<caption>OLS Regression Results</caption>\n",
       "<tr>\n",
       "  <th>Dep. Variable:</th>    <td>Mean-GlobalComponent</td> <th>  R-squared:         </th> <td>   0.120</td>\n",
       "</tr>\n",
       "<tr>\n",
       "  <th>Model:</th>                     <td>OLS</td>         <th>  Adj. R-squared:    </th> <td>   0.102</td>\n",
       "</tr>\n",
       "<tr>\n",
       "  <th>Method:</th>               <td>Least Squares</td>    <th>  F-statistic:       </th> <td>   6.575</td>\n",
       "</tr>\n",
       "<tr>\n",
       "  <th>Date:</th>               <td>Tue, 16 Feb 2021</td>   <th>  Prob (F-statistic):</th>  <td>0.0135</td> \n",
       "</tr>\n",
       "<tr>\n",
       "  <th>Time:</th>                   <td>00:14:31</td>       <th>  Log-Likelihood:    </th> <td>  44.479</td>\n",
       "</tr>\n",
       "<tr>\n",
       "  <th>No. Observations:</th>        <td>    50</td>        <th>  AIC:               </th> <td>  -84.96</td>\n",
       "</tr>\n",
       "<tr>\n",
       "  <th>Df Residuals:</th>            <td>    48</td>        <th>  BIC:               </th> <td>  -81.13</td>\n",
       "</tr>\n",
       "<tr>\n",
       "  <th>Df Model:</th>                <td>     1</td>        <th>                     </th>     <td> </td>   \n",
       "</tr>\n",
       "<tr>\n",
       "  <th>Covariance Type:</th>        <td>nonrobust</td>      <th>                     </th>     <td> </td>   \n",
       "</tr>\n",
       "</table>\n",
       "<table class=\"simpletable\">\n",
       "<tr>\n",
       "        <td></td>           <th>coef</th>     <th>std err</th>      <th>t</th>      <th>P>|t|</th>  <th>[0.025</th>    <th>0.975]</th>  \n",
       "</tr>\n",
       "<tr>\n",
       "  <th>const</th>         <td>    0.4046</td> <td>    0.014</td> <td>   28.030</td> <td> 0.000</td> <td>    0.376</td> <td>    0.434</td>\n",
       "</tr>\n",
       "<tr>\n",
       "  <th>Assortativity</th> <td>   -0.1403</td> <td>    0.055</td> <td>   -2.564</td> <td> 0.014</td> <td>   -0.250</td> <td>   -0.030</td>\n",
       "</tr>\n",
       "</table>\n",
       "<table class=\"simpletable\">\n",
       "<tr>\n",
       "  <th>Omnibus:</th>       <td> 0.848</td> <th>  Durbin-Watson:     </th> <td>   2.438</td>\n",
       "</tr>\n",
       "<tr>\n",
       "  <th>Prob(Omnibus):</th> <td> 0.654</td> <th>  Jarque-Bera (JB):  </th> <td>   0.811</td>\n",
       "</tr>\n",
       "<tr>\n",
       "  <th>Skew:</th>          <td> 0.044</td> <th>  Prob(JB):          </th> <td>   0.667</td>\n",
       "</tr>\n",
       "<tr>\n",
       "  <th>Kurtosis:</th>      <td> 2.382</td> <th>  Cond. No.          </th> <td>    3.82</td>\n",
       "</tr>\n",
       "</table><br/><br/>Warnings:<br/>[1] Standard Errors assume that the covariance matrix of the errors is correctly specified."
      ],
      "text/plain": [
       "<class 'statsmodels.iolib.summary.Summary'>\n",
       "\"\"\"\n",
       "                             OLS Regression Results                             \n",
       "================================================================================\n",
       "Dep. Variable:     Mean-GlobalComponent   R-squared:                       0.120\n",
       "Model:                              OLS   Adj. R-squared:                  0.102\n",
       "Method:                   Least Squares   F-statistic:                     6.575\n",
       "Date:                  Tue, 16 Feb 2021   Prob (F-statistic):             0.0135\n",
       "Time:                          00:14:31   Log-Likelihood:                 44.479\n",
       "No. Observations:                    50   AIC:                            -84.96\n",
       "Df Residuals:                        48   BIC:                            -81.13\n",
       "Df Model:                             1                                         \n",
       "Covariance Type:              nonrobust                                         \n",
       "=================================================================================\n",
       "                    coef    std err          t      P>|t|      [0.025      0.975]\n",
       "---------------------------------------------------------------------------------\n",
       "const             0.4046      0.014     28.030      0.000       0.376       0.434\n",
       "Assortativity    -0.1403      0.055     -2.564      0.014      -0.250      -0.030\n",
       "==============================================================================\n",
       "Omnibus:                        0.848   Durbin-Watson:                   2.438\n",
       "Prob(Omnibus):                  0.654   Jarque-Bera (JB):                0.811\n",
       "Skew:                           0.044   Prob(JB):                        0.667\n",
       "Kurtosis:                       2.382   Cond. No.                         3.82\n",
       "==============================================================================\n",
       "\n",
       "Warnings:\n",
       "[1] Standard Errors assume that the covariance matrix of the errors is correctly specified.\n",
       "\"\"\""
      ]
     },
     "execution_count": 236,
     "metadata": {},
     "output_type": "execute_result"
    }
   ],
   "source": [
    "X = sm.add_constant(X) # adding a constant\n",
    " \n",
    "model = sm.OLS(Y, X).fit()\n",
    "predictions = model.predict(X) \n",
    " \n",
    "print_model = model.summary()\n",
    "print_model"
   ]
  },
  {
   "cell_type": "code",
   "execution_count": 237,
   "metadata": {
    "scrolled": true
   },
   "outputs": [
    {
     "data": {
      "text/plain": [
       "const            2.075791e-31\n",
       "Assortativity    1.352839e-02\n",
       "dtype: float64"
      ]
     },
     "execution_count": 237,
     "metadata": {},
     "output_type": "execute_result"
    }
   ],
   "source": [
    "model.pvalues[model.pvalues < 0.05]"
   ]
  },
  {
   "cell_type": "code",
   "execution_count": 238,
   "metadata": {},
   "outputs": [
    {
     "data": {
      "text/plain": [
       "const    2.075791e-31\n",
       "dtype: float64"
      ]
     },
     "execution_count": 238,
     "metadata": {},
     "output_type": "execute_result"
    }
   ],
   "source": [
    "model.pvalues[model.pvalues < 0.01]"
   ]
  },
  {
   "cell_type": "markdown",
   "metadata": {},
   "source": [
    "### Independent variable: Diameter"
   ]
  },
  {
   "cell_type": "code",
   "execution_count": 239,
   "metadata": {},
   "outputs": [],
   "source": [
    "X = df_macro[['Diameter']]"
   ]
  },
  {
   "cell_type": "code",
   "execution_count": 240,
   "metadata": {
    "scrolled": false
   },
   "outputs": [],
   "source": [
    "Y = df_dependent_variables['Mean-GlobalComponent']"
   ]
  },
  {
   "cell_type": "markdown",
   "metadata": {},
   "source": [
    "#### with `sklearn`"
   ]
  },
  {
   "cell_type": "code",
   "execution_count": 241,
   "metadata": {},
   "outputs": [
    {
     "data": {
      "text/plain": [
       "LinearRegression(copy_X=True, fit_intercept=True, n_jobs=None, normalize=False)"
      ]
     },
     "execution_count": 241,
     "metadata": {},
     "output_type": "execute_result"
    }
   ],
   "source": [
    "regr = LinearRegression()\n",
    "regr.fit(X, Y)"
   ]
  },
  {
   "cell_type": "code",
   "execution_count": 242,
   "metadata": {},
   "outputs": [
    {
     "name": "stdout",
     "output_type": "stream",
     "text": [
      "Intercept: \n",
      " 0.4290913475664308\n",
      "Coefficients: \n",
      " [-0.00150599]\n"
     ]
    }
   ],
   "source": [
    "print('Intercept: \\n', regr.intercept_)\n",
    "print('Coefficients: \\n', regr.coef_)"
   ]
  },
  {
   "cell_type": "markdown",
   "metadata": {},
   "source": [
    "#### Plot "
   ]
  },
  {
   "cell_type": "code",
   "execution_count": 243,
   "metadata": {
    "scrolled": true
   },
   "outputs": [
    {
     "data": {
      "image/png": "[encoded data removed]",
      "text/plain": [
       "<Figure size 432x288 with 1 Axes>"
      ]
     },
     "metadata": {
      "needs_background": "light"
     },
     "output_type": "display_data"
    }
   ],
   "source": [
    "predictions = regr.predict(X)\n",
    "# plt.figure(figsize=(16, 8))\n",
    "plt.scatter(\n",
    "    df_macro['Diameter'],\n",
    "    df_dependent_variables['Mean-GlobalComponent'],\n",
    "    c='red'\n",
    ")\n",
    "plt.plot(\n",
    "    df_macro['Diameter'],\n",
    "    predictions,\n",
    "    c='black',\n",
    "    linewidth=2\n",
    ")\n",
    "plt.xlabel(\"Diameter\")\n",
    "plt.ylabel(\"Mean-GlobalComponent\")\n",
    "plt.show()"
   ]
  },
  {
   "cell_type": "markdown",
   "metadata": {},
   "source": [
    "#### with `statsmodels`"
   ]
  },
  {
   "cell_type": "code",
   "execution_count": 244,
   "metadata": {
    "scrolled": false
   },
   "outputs": [
    {
     "data": {
      "text/html": [
       "<table class=\"simpletable\">\n",
       "<caption>OLS Regression Results</caption>\n",
       "<tr>\n",
       "  <th>Dep. Variable:</th>    <td>Mean-GlobalComponent</td> <th>  R-squared:         </th> <td>   0.024</td>\n",
       "</tr>\n",
       "<tr>\n",
       "  <th>Model:</th>                     <td>OLS</td>         <th>  Adj. R-squared:    </th> <td>   0.004</td>\n",
       "</tr>\n",
       "<tr>\n",
       "  <th>Method:</th>               <td>Least Squares</td>    <th>  F-statistic:       </th> <td>   1.203</td>\n",
       "</tr>\n",
       "<tr>\n",
       "  <th>Date:</th>               <td>Tue, 16 Feb 2021</td>   <th>  Prob (F-statistic):</th>  <td> 0.278</td> \n",
       "</tr>\n",
       "<tr>\n",
       "  <th>Time:</th>                   <td>00:14:31</td>       <th>  Log-Likelihood:    </th> <td>  41.889</td>\n",
       "</tr>\n",
       "<tr>\n",
       "  <th>No. Observations:</th>        <td>    50</td>        <th>  AIC:               </th> <td>  -79.78</td>\n",
       "</tr>\n",
       "<tr>\n",
       "  <th>Df Residuals:</th>            <td>    48</td>        <th>  BIC:               </th> <td>  -75.95</td>\n",
       "</tr>\n",
       "<tr>\n",
       "  <th>Df Model:</th>                <td>     1</td>        <th>                     </th>     <td> </td>   \n",
       "</tr>\n",
       "<tr>\n",
       "  <th>Covariance Type:</th>        <td>nonrobust</td>      <th>                     </th>     <td> </td>   \n",
       "</tr>\n",
       "</table>\n",
       "<table class=\"simpletable\">\n",
       "<tr>\n",
       "      <td></td>        <th>coef</th>     <th>std err</th>      <th>t</th>      <th>P>|t|</th>  <th>[0.025</th>    <th>0.975]</th>  \n",
       "</tr>\n",
       "<tr>\n",
       "  <th>const</th>    <td>    0.4291</td> <td>    0.024</td> <td>   17.880</td> <td> 0.000</td> <td>    0.381</td> <td>    0.477</td>\n",
       "</tr>\n",
       "<tr>\n",
       "  <th>Diameter</th> <td>   -0.0015</td> <td>    0.001</td> <td>   -1.097</td> <td> 0.278</td> <td>   -0.004</td> <td>    0.001</td>\n",
       "</tr>\n",
       "</table>\n",
       "<table class=\"simpletable\">\n",
       "<tr>\n",
       "  <th>Omnibus:</th>       <td> 1.538</td> <th>  Durbin-Watson:     </th> <td>   2.452</td>\n",
       "</tr>\n",
       "<tr>\n",
       "  <th>Prob(Omnibus):</th> <td> 0.463</td> <th>  Jarque-Bera (JB):  </th> <td>   1.357</td>\n",
       "</tr>\n",
       "<tr>\n",
       "  <th>Skew:</th>          <td>-0.252</td> <th>  Prob(JB):          </th> <td>   0.507</td>\n",
       "</tr>\n",
       "<tr>\n",
       "  <th>Kurtosis:</th>      <td> 2.370</td> <th>  Cond. No.          </th> <td>    27.8</td>\n",
       "</tr>\n",
       "</table><br/><br/>Warnings:<br/>[1] Standard Errors assume that the covariance matrix of the errors is correctly specified."
      ],
      "text/plain": [
       "<class 'statsmodels.iolib.summary.Summary'>\n",
       "\"\"\"\n",
       "                             OLS Regression Results                             \n",
       "================================================================================\n",
       "Dep. Variable:     Mean-GlobalComponent   R-squared:                       0.024\n",
       "Model:                              OLS   Adj. R-squared:                  0.004\n",
       "Method:                   Least Squares   F-statistic:                     1.203\n",
       "Date:                  Tue, 16 Feb 2021   Prob (F-statistic):              0.278\n",
       "Time:                          00:14:31   Log-Likelihood:                 41.889\n",
       "No. Observations:                    50   AIC:                            -79.78\n",
       "Df Residuals:                        48   BIC:                            -75.95\n",
       "Df Model:                             1                                         \n",
       "Covariance Type:              nonrobust                                         \n",
       "==============================================================================\n",
       "                 coef    std err          t      P>|t|      [0.025      0.975]\n",
       "------------------------------------------------------------------------------\n",
       "const          0.4291      0.024     17.880      0.000       0.381       0.477\n",
       "Diameter      -0.0015      0.001     -1.097      0.278      -0.004       0.001\n",
       "==============================================================================\n",
       "Omnibus:                        1.538   Durbin-Watson:                   2.452\n",
       "Prob(Omnibus):                  0.463   Jarque-Bera (JB):                1.357\n",
       "Skew:                          -0.252   Prob(JB):                        0.507\n",
       "Kurtosis:                       2.370   Cond. No.                         27.8\n",
       "==============================================================================\n",
       "\n",
       "Warnings:\n",
       "[1] Standard Errors assume that the covariance matrix of the errors is correctly specified.\n",
       "\"\"\""
      ]
     },
     "execution_count": 244,
     "metadata": {},
     "output_type": "execute_result"
    }
   ],
   "source": [
    "X = sm.add_constant(X) # adding a constant\n",
    " \n",
    "model = sm.OLS(Y, X).fit()\n",
    "predictions = model.predict(X) \n",
    " \n",
    "print_model = model.summary()\n",
    "print_model"
   ]
  },
  {
   "cell_type": "code",
   "execution_count": 245,
   "metadata": {
    "scrolled": false
   },
   "outputs": [
    {
     "data": {
      "text/plain": [
       "const    7.344153e-23\n",
       "dtype: float64"
      ]
     },
     "execution_count": 245,
     "metadata": {},
     "output_type": "execute_result"
    }
   ],
   "source": [
    "model.pvalues[model.pvalues < 0.05]"
   ]
  },
  {
   "cell_type": "code",
   "execution_count": 246,
   "metadata": {},
   "outputs": [
    {
     "data": {
      "text/plain": [
       "const    7.344153e-23\n",
       "dtype: float64"
      ]
     },
     "execution_count": 246,
     "metadata": {},
     "output_type": "execute_result"
    }
   ],
   "source": [
    "model.pvalues[model.pvalues < 0.01]"
   ]
  },
  {
   "cell_type": "markdown",
   "metadata": {},
   "source": [
    "### Dependent variable: Efficiency"
   ]
  },
  {
   "cell_type": "code",
   "execution_count": 247,
   "metadata": {},
   "outputs": [],
   "source": [
    "X = df_macro[['Efficiency']]"
   ]
  },
  {
   "cell_type": "code",
   "execution_count": 248,
   "metadata": {
    "scrolled": false
   },
   "outputs": [],
   "source": [
    "Y = df_dependent_variables['Mean-GlobalComponent']"
   ]
  },
  {
   "cell_type": "markdown",
   "metadata": {},
   "source": [
    "#### with `sklearn`"
   ]
  },
  {
   "cell_type": "code",
   "execution_count": 249,
   "metadata": {},
   "outputs": [
    {
     "data": {
      "text/plain": [
       "LinearRegression(copy_X=True, fit_intercept=True, n_jobs=None, normalize=False)"
      ]
     },
     "execution_count": 249,
     "metadata": {},
     "output_type": "execute_result"
    }
   ],
   "source": [
    "regr = LinearRegression()\n",
    "regr.fit(X, Y)"
   ]
  },
  {
   "cell_type": "code",
   "execution_count": 250,
   "metadata": {},
   "outputs": [
    {
     "name": "stdout",
     "output_type": "stream",
     "text": [
      "Intercept: \n",
      " 0.3697904342678589\n",
      "Coefficients: \n",
      " [0.13115017]\n"
     ]
    }
   ],
   "source": [
    "print('Intercept: \\n', regr.intercept_)\n",
    "print('Coefficients: \\n', regr.coef_)"
   ]
  },
  {
   "cell_type": "markdown",
   "metadata": {},
   "source": [
    "#### Plot "
   ]
  },
  {
   "cell_type": "code",
   "execution_count": 251,
   "metadata": {
    "scrolled": false
   },
   "outputs": [
    {
     "data": {
      "image/png": "[encoded data removed]",
      "text/plain": [
       "<Figure size 432x288 with 1 Axes>"
      ]
     },
     "metadata": {
      "needs_background": "light"
     },
     "output_type": "display_data"
    }
   ],
   "source": [
    "predictions = regr.predict(X)\n",
    "# plt.figure(figsize=(16, 8))\n",
    "plt.scatter(\n",
    "    df_macro['Efficiency'],\n",
    "    df_dependent_variables['Mean-GlobalComponent'],\n",
    "    c='red'\n",
    ")\n",
    "plt.plot(\n",
    "    df_macro['Efficiency'],\n",
    "    predictions,\n",
    "    c='black',\n",
    "    linewidth=2\n",
    ")\n",
    "plt.xlabel(\"Efficiency\")\n",
    "plt.ylabel(\"Mean-GlobalComponent\")\n",
    "plt.show()"
   ]
  },
  {
   "cell_type": "markdown",
   "metadata": {},
   "source": [
    "#### with `statsmodels`"
   ]
  },
  {
   "cell_type": "code",
   "execution_count": 252,
   "metadata": {
    "scrolled": false
   },
   "outputs": [
    {
     "data": {
      "text/html": [
       "<table class=\"simpletable\">\n",
       "<caption>OLS Regression Results</caption>\n",
       "<tr>\n",
       "  <th>Dep. Variable:</th>    <td>Mean-GlobalComponent</td> <th>  R-squared:         </th> <td>   0.022</td>\n",
       "</tr>\n",
       "<tr>\n",
       "  <th>Model:</th>                     <td>OLS</td>         <th>  Adj. R-squared:    </th> <td>   0.002</td>\n",
       "</tr>\n",
       "<tr>\n",
       "  <th>Method:</th>               <td>Least Squares</td>    <th>  F-statistic:       </th> <td>   1.098</td>\n",
       "</tr>\n",
       "<tr>\n",
       "  <th>Date:</th>               <td>Tue, 16 Feb 2021</td>   <th>  Prob (F-statistic):</th>  <td> 0.300</td> \n",
       "</tr>\n",
       "<tr>\n",
       "  <th>Time:</th>                   <td>00:14:31</td>       <th>  Log-Likelihood:    </th> <td>  41.836</td>\n",
       "</tr>\n",
       "<tr>\n",
       "  <th>No. Observations:</th>        <td>    50</td>        <th>  AIC:               </th> <td>  -79.67</td>\n",
       "</tr>\n",
       "<tr>\n",
       "  <th>Df Residuals:</th>            <td>    48</td>        <th>  BIC:               </th> <td>  -75.85</td>\n",
       "</tr>\n",
       "<tr>\n",
       "  <th>Df Model:</th>                <td>     1</td>        <th>                     </th>     <td> </td>   \n",
       "</tr>\n",
       "<tr>\n",
       "  <th>Covariance Type:</th>        <td>nonrobust</td>      <th>                     </th>     <td> </td>   \n",
       "</tr>\n",
       "</table>\n",
       "<table class=\"simpletable\">\n",
       "<tr>\n",
       "       <td></td>         <th>coef</th>     <th>std err</th>      <th>t</th>      <th>P>|t|</th>  <th>[0.025</th>    <th>0.975]</th>  \n",
       "</tr>\n",
       "<tr>\n",
       "  <th>const</th>      <td>    0.3698</td> <td>    0.040</td> <td>    9.236</td> <td> 0.000</td> <td>    0.289</td> <td>    0.450</td>\n",
       "</tr>\n",
       "<tr>\n",
       "  <th>Efficiency</th> <td>    0.1312</td> <td>    0.125</td> <td>    1.048</td> <td> 0.300</td> <td>   -0.120</td> <td>    0.383</td>\n",
       "</tr>\n",
       "</table>\n",
       "<table class=\"simpletable\">\n",
       "<tr>\n",
       "  <th>Omnibus:</th>       <td> 1.505</td> <th>  Durbin-Watson:     </th> <td>   2.334</td>\n",
       "</tr>\n",
       "<tr>\n",
       "  <th>Prob(Omnibus):</th> <td> 0.471</td> <th>  Jarque-Bera (JB):  </th> <td>   1.354</td>\n",
       "</tr>\n",
       "<tr>\n",
       "  <th>Skew:</th>          <td>-0.260</td> <th>  Prob(JB):          </th> <td>   0.508</td>\n",
       "</tr>\n",
       "<tr>\n",
       "  <th>Kurtosis:</th>      <td> 2.383</td> <th>  Cond. No.          </th> <td>    9.01</td>\n",
       "</tr>\n",
       "</table><br/><br/>Warnings:<br/>[1] Standard Errors assume that the covariance matrix of the errors is correctly specified."
      ],
      "text/plain": [
       "<class 'statsmodels.iolib.summary.Summary'>\n",
       "\"\"\"\n",
       "                             OLS Regression Results                             \n",
       "================================================================================\n",
       "Dep. Variable:     Mean-GlobalComponent   R-squared:                       0.022\n",
       "Model:                              OLS   Adj. R-squared:                  0.002\n",
       "Method:                   Least Squares   F-statistic:                     1.098\n",
       "Date:                  Tue, 16 Feb 2021   Prob (F-statistic):              0.300\n",
       "Time:                          00:14:31   Log-Likelihood:                 41.836\n",
       "No. Observations:                    50   AIC:                            -79.67\n",
       "Df Residuals:                        48   BIC:                            -75.85\n",
       "Df Model:                             1                                         \n",
       "Covariance Type:              nonrobust                                         \n",
       "==============================================================================\n",
       "                 coef    std err          t      P>|t|      [0.025      0.975]\n",
       "------------------------------------------------------------------------------\n",
       "const          0.3698      0.040      9.236      0.000       0.289       0.450\n",
       "Efficiency     0.1312      0.125      1.048      0.300      -0.120       0.383\n",
       "==============================================================================\n",
       "Omnibus:                        1.505   Durbin-Watson:                   2.334\n",
       "Prob(Omnibus):                  0.471   Jarque-Bera (JB):                1.354\n",
       "Skew:                          -0.260   Prob(JB):                        0.508\n",
       "Kurtosis:                       2.383   Cond. No.                         9.01\n",
       "==============================================================================\n",
       "\n",
       "Warnings:\n",
       "[1] Standard Errors assume that the covariance matrix of the errors is correctly specified.\n",
       "\"\"\""
      ]
     },
     "execution_count": 252,
     "metadata": {},
     "output_type": "execute_result"
    }
   ],
   "source": [
    "X = sm.add_constant(X) # adding a constant\n",
    " \n",
    "model = sm.OLS(Y, X).fit()\n",
    "predictions = model.predict(X) \n",
    " \n",
    "print_model = model.summary()\n",
    "print_model"
   ]
  },
  {
   "cell_type": "code",
   "execution_count": 253,
   "metadata": {
    "scrolled": true
   },
   "outputs": [
    {
     "data": {
      "text/plain": [
       "const    3.193129e-12\n",
       "dtype: float64"
      ]
     },
     "execution_count": 253,
     "metadata": {},
     "output_type": "execute_result"
    }
   ],
   "source": [
    "model.pvalues[model.pvalues < 0.05]"
   ]
  },
  {
   "cell_type": "raw",
   "metadata": {},
   "source": [
    "### Independent variable: Degree Distribution Exp"
   ]
  },
  {
   "cell_type": "raw",
   "metadata": {},
   "source": [
    "X = df_macro[['DegreeDistributionExp']]"
   ]
  },
  {
   "cell_type": "raw",
   "metadata": {},
   "source": [
    "Y = df_dependent_variables['Mean-GlobalComponent']"
   ]
  },
  {
   "cell_type": "raw",
   "metadata": {},
   "source": [
    "#### with `sklearn`"
   ]
  },
  {
   "cell_type": "raw",
   "metadata": {},
   "source": [
    "regr = LinearRegression()\n",
    "regr.fit(X, Y)"
   ]
  },
  {
   "cell_type": "raw",
   "metadata": {},
   "source": [
    "print('Intercept: \\n', regr.intercept_)\n",
    "print('Coefficients: \\n', regr.coef_)"
   ]
  },
  {
   "cell_type": "raw",
   "metadata": {},
   "source": [
    "#### Plot "
   ]
  },
  {
   "cell_type": "raw",
   "metadata": {},
   "source": [
    "predictions = regr.predict(X)\n",
    "#plt.figure(figsize=(16, 8))\n",
    "plt.scatter(\n",
    "    df_macro['DegreeDistributionExp'],\n",
    "    df_dependent_variables['Mean-GlobalComponent'],\n",
    "    c='red'\n",
    ")\n",
    "plt.plot(\n",
    "    df_macro['DegreeDistributionExp'],\n",
    "    predictions,\n",
    "    c='black',\n",
    "    linewidth=2\n",
    ")\n",
    "plt.xlabel(\"DegreeDistributionExp\")\n",
    "plt.ylabel(\"Mean-LocalComponent\")\n",
    "plt.show()"
   ]
  },
  {
   "cell_type": "raw",
   "metadata": {},
   "source": [
    "#### with `statsmodels`"
   ]
  },
  {
   "cell_type": "raw",
   "metadata": {},
   "source": [
    "X = sm.add_constant(X) # adding a constant\n",
    " \n",
    "model = sm.OLS(Y, X).fit()\n",
    "predictions = model.predict(X) \n",
    " \n",
    "print_model = model.summary()\n",
    "print_model"
   ]
  },
  {
   "cell_type": "raw",
   "metadata": {},
   "source": [
    "model.pvalues[model.pvalues < 0.05]"
   ]
  },
  {
   "cell_type": "raw",
   "metadata": {},
   "source": [
    "model.pvalues[model.pvalues < 0.01]"
   ]
  },
  {
   "cell_type": "raw",
   "metadata": {},
   "source": []
  },
  {
   "cell_type": "markdown",
   "metadata": {},
   "source": [
    "### Dependent variable: Modularity"
   ]
  },
  {
   "cell_type": "code",
   "execution_count": 254,
   "metadata": {},
   "outputs": [],
   "source": [
    "X = df_meso[['Modularity']]"
   ]
  },
  {
   "cell_type": "code",
   "execution_count": 255,
   "metadata": {
    "scrolled": false
   },
   "outputs": [],
   "source": [
    "Y = df_dependent_variables['Mean-GlobalComponent']"
   ]
  },
  {
   "cell_type": "markdown",
   "metadata": {},
   "source": [
    "#### with `sklearn`"
   ]
  },
  {
   "cell_type": "code",
   "execution_count": 256,
   "metadata": {},
   "outputs": [
    {
     "data": {
      "text/plain": [
       "LinearRegression(copy_X=True, fit_intercept=True, n_jobs=None, normalize=False)"
      ]
     },
     "execution_count": 256,
     "metadata": {},
     "output_type": "execute_result"
    }
   ],
   "source": [
    "regr = LinearRegression()\n",
    "regr.fit(X, Y)"
   ]
  },
  {
   "cell_type": "code",
   "execution_count": 257,
   "metadata": {},
   "outputs": [
    {
     "name": "stdout",
     "output_type": "stream",
     "text": [
      "Intercept: \n",
      " 0.4862832569314101\n",
      "Coefficients: \n",
      " [-0.13446117]\n"
     ]
    }
   ],
   "source": [
    "print('Intercept: \\n', regr.intercept_)\n",
    "print('Coefficients: \\n', regr.coef_)"
   ]
  },
  {
   "cell_type": "markdown",
   "metadata": {},
   "source": [
    "#### Plot "
   ]
  },
  {
   "cell_type": "code",
   "execution_count": 258,
   "metadata": {
    "scrolled": true
   },
   "outputs": [
    {
     "data": {
      "image/png": "[encoded data removed]",
      "text/plain": [
       "<Figure size 432x288 with 1 Axes>"
      ]
     },
     "metadata": {
      "needs_background": "light"
     },
     "output_type": "display_data"
    }
   ],
   "source": [
    "predictions = regr.predict(X)\n",
    "# plt.figure(figsize=(16, 8))\n",
    "plt.scatter(\n",
    "    df_meso['Modularity'],\n",
    "    df_dependent_variables['Mean-GlobalComponent'],\n",
    "    c='red'\n",
    ")\n",
    "plt.plot(\n",
    "    df_meso['Modularity'],\n",
    "    predictions,\n",
    "    c='black',\n",
    "    linewidth=2\n",
    ")\n",
    "plt.xlabel(\"Modularity\")\n",
    "plt.ylabel(\"Mean-GlobalComponent\")\n",
    "plt.show()"
   ]
  },
  {
   "cell_type": "markdown",
   "metadata": {},
   "source": [
    "#### with `statsmodels`"
   ]
  },
  {
   "cell_type": "code",
   "execution_count": 259,
   "metadata": {
    "scrolled": false
   },
   "outputs": [
    {
     "data": {
      "text/html": [
       "<table class=\"simpletable\">\n",
       "<caption>OLS Regression Results</caption>\n",
       "<tr>\n",
       "  <th>Dep. Variable:</th>    <td>Mean-GlobalComponent</td> <th>  R-squared:         </th> <td>   0.061</td>\n",
       "</tr>\n",
       "<tr>\n",
       "  <th>Model:</th>                     <td>OLS</td>         <th>  Adj. R-squared:    </th> <td>   0.041</td>\n",
       "</tr>\n",
       "<tr>\n",
       "  <th>Method:</th>               <td>Least Squares</td>    <th>  F-statistic:       </th> <td>   3.093</td>\n",
       "</tr>\n",
       "<tr>\n",
       "  <th>Date:</th>               <td>Tue, 16 Feb 2021</td>   <th>  Prob (F-statistic):</th>  <td>0.0850</td> \n",
       "</tr>\n",
       "<tr>\n",
       "  <th>Time:</th>                   <td>00:14:32</td>       <th>  Log-Likelihood:    </th> <td>  42.831</td>\n",
       "</tr>\n",
       "<tr>\n",
       "  <th>No. Observations:</th>        <td>    50</td>        <th>  AIC:               </th> <td>  -81.66</td>\n",
       "</tr>\n",
       "<tr>\n",
       "  <th>Df Residuals:</th>            <td>    48</td>        <th>  BIC:               </th> <td>  -77.84</td>\n",
       "</tr>\n",
       "<tr>\n",
       "  <th>Df Model:</th>                <td>     1</td>        <th>                     </th>     <td> </td>   \n",
       "</tr>\n",
       "<tr>\n",
       "  <th>Covariance Type:</th>        <td>nonrobust</td>      <th>                     </th>     <td> </td>   \n",
       "</tr>\n",
       "</table>\n",
       "<table class=\"simpletable\">\n",
       "<tr>\n",
       "       <td></td>         <th>coef</th>     <th>std err</th>      <th>t</th>      <th>P>|t|</th>  <th>[0.025</th>    <th>0.975]</th>  \n",
       "</tr>\n",
       "<tr>\n",
       "  <th>const</th>      <td>    0.4863</td> <td>    0.047</td> <td>   10.441</td> <td> 0.000</td> <td>    0.393</td> <td>    0.580</td>\n",
       "</tr>\n",
       "<tr>\n",
       "  <th>Modularity</th> <td>   -0.1345</td> <td>    0.076</td> <td>   -1.759</td> <td> 0.085</td> <td>   -0.288</td> <td>    0.019</td>\n",
       "</tr>\n",
       "</table>\n",
       "<table class=\"simpletable\">\n",
       "<tr>\n",
       "  <th>Omnibus:</th>       <td> 2.114</td> <th>  Durbin-Watson:     </th> <td>   2.261</td>\n",
       "</tr>\n",
       "<tr>\n",
       "  <th>Prob(Omnibus):</th> <td> 0.347</td> <th>  Jarque-Bera (JB):  </th> <td>   1.772</td>\n",
       "</tr>\n",
       "<tr>\n",
       "  <th>Skew:</th>          <td>-0.321</td> <th>  Prob(JB):          </th> <td>   0.412</td>\n",
       "</tr>\n",
       "<tr>\n",
       "  <th>Kurtosis:</th>      <td> 2.337</td> <th>  Cond. No.          </th> <td>    6.92</td>\n",
       "</tr>\n",
       "</table><br/><br/>Warnings:<br/>[1] Standard Errors assume that the covariance matrix of the errors is correctly specified."
      ],
      "text/plain": [
       "<class 'statsmodels.iolib.summary.Summary'>\n",
       "\"\"\"\n",
       "                             OLS Regression Results                             \n",
       "================================================================================\n",
       "Dep. Variable:     Mean-GlobalComponent   R-squared:                       0.061\n",
       "Model:                              OLS   Adj. R-squared:                  0.041\n",
       "Method:                   Least Squares   F-statistic:                     3.093\n",
       "Date:                  Tue, 16 Feb 2021   Prob (F-statistic):             0.0850\n",
       "Time:                          00:14:32   Log-Likelihood:                 42.831\n",
       "No. Observations:                    50   AIC:                            -81.66\n",
       "Df Residuals:                        48   BIC:                            -77.84\n",
       "Df Model:                             1                                         \n",
       "Covariance Type:              nonrobust                                         \n",
       "==============================================================================\n",
       "                 coef    std err          t      P>|t|      [0.025      0.975]\n",
       "------------------------------------------------------------------------------\n",
       "const          0.4863      0.047     10.441      0.000       0.393       0.580\n",
       "Modularity    -0.1345      0.076     -1.759      0.085      -0.288       0.019\n",
       "==============================================================================\n",
       "Omnibus:                        2.114   Durbin-Watson:                   2.261\n",
       "Prob(Omnibus):                  0.347   Jarque-Bera (JB):                1.772\n",
       "Skew:                          -0.321   Prob(JB):                        0.412\n",
       "Kurtosis:                       2.337   Cond. No.                         6.92\n",
       "==============================================================================\n",
       "\n",
       "Warnings:\n",
       "[1] Standard Errors assume that the covariance matrix of the errors is correctly specified.\n",
       "\"\"\""
      ]
     },
     "execution_count": 259,
     "metadata": {},
     "output_type": "execute_result"
    }
   ],
   "source": [
    "X = sm.add_constant(X) # adding a constant\n",
    " \n",
    "model = sm.OLS(Y, X).fit()\n",
    "predictions = model.predict(X) \n",
    " \n",
    "print_model = model.summary()\n",
    "print_model"
   ]
  },
  {
   "cell_type": "code",
   "execution_count": 260,
   "metadata": {
    "scrolled": true
   },
   "outputs": [
    {
     "data": {
      "text/plain": [
       "const    6.041520e-14\n",
       "dtype: float64"
      ]
     },
     "execution_count": 260,
     "metadata": {},
     "output_type": "execute_result"
    }
   ],
   "source": [
    "model.pvalues[model.pvalues < 0.05]"
   ]
  },
  {
   "cell_type": "code",
   "execution_count": 261,
   "metadata": {},
   "outputs": [
    {
     "data": {
      "text/plain": [
       "const    6.041520e-14\n",
       "dtype: float64"
      ]
     },
     "execution_count": 261,
     "metadata": {},
     "output_type": "execute_result"
    }
   ],
   "source": [
    "model.pvalues[model.pvalues < 0.01]"
   ]
  },
  {
   "cell_type": "markdown",
   "metadata": {},
   "source": [
    "### Dependent variable: Mixing parameter"
   ]
  },
  {
   "cell_type": "code",
   "execution_count": 262,
   "metadata": {},
   "outputs": [],
   "source": [
    "X = df_meso[['Mixing parameter']]"
   ]
  },
  {
   "cell_type": "code",
   "execution_count": 263,
   "metadata": {
    "scrolled": false
   },
   "outputs": [],
   "source": [
    "Y = df_dependent_variables['Mean-GlobalComponent']"
   ]
  },
  {
   "cell_type": "markdown",
   "metadata": {},
   "source": [
    "#### with `sklearn`"
   ]
  },
  {
   "cell_type": "code",
   "execution_count": 264,
   "metadata": {},
   "outputs": [
    {
     "data": {
      "text/plain": [
       "LinearRegression(copy_X=True, fit_intercept=True, n_jobs=None, normalize=False)"
      ]
     },
     "execution_count": 264,
     "metadata": {},
     "output_type": "execute_result"
    }
   ],
   "source": [
    "regr = LinearRegression()\n",
    "regr.fit(X, Y)"
   ]
  },
  {
   "cell_type": "code",
   "execution_count": 265,
   "metadata": {},
   "outputs": [
    {
     "name": "stdout",
     "output_type": "stream",
     "text": [
      "Intercept: \n",
      " 0.2646888468227252\n",
      "Coefficients: \n",
      " [0.57237039]\n"
     ]
    }
   ],
   "source": [
    "print('Intercept: \\n', regr.intercept_)\n",
    "print('Coefficients: \\n', regr.coef_)"
   ]
  },
  {
   "cell_type": "markdown",
   "metadata": {},
   "source": [
    "#### Plot "
   ]
  },
  {
   "cell_type": "code",
   "execution_count": 266,
   "metadata": {
    "scrolled": false
   },
   "outputs": [
    {
     "data": {
      "image/png": "[encoded data removed]",
      "text/plain": [
       "<Figure size 432x288 with 1 Axes>"
      ]
     },
     "metadata": {
      "needs_background": "light"
     },
     "output_type": "display_data"
    }
   ],
   "source": [
    "predictions = regr.predict(X)\n",
    "# plt.figure(figsize=(16, 8))\n",
    "plt.scatter(\n",
    "    df_meso['Mixing parameter'],\n",
    "    df_dependent_variables['Mean-GlobalComponent'],\n",
    "    c='red'\n",
    ")\n",
    "plt.plot(\n",
    "    df_meso['Mixing parameter'],\n",
    "    predictions,\n",
    "    c='black',\n",
    "    linewidth=2\n",
    ")\n",
    "plt.xlabel(\"Mixing parameter\")\n",
    "plt.ylabel(\"Mean-GlobalComponent\")\n",
    "plt.show()"
   ]
  },
  {
   "cell_type": "markdown",
   "metadata": {},
   "source": [
    "#### with `statsmodels`"
   ]
  },
  {
   "cell_type": "code",
   "execution_count": 267,
   "metadata": {
    "scrolled": false
   },
   "outputs": [
    {
     "data": {
      "text/html": [
       "<table class=\"simpletable\">\n",
       "<caption>OLS Regression Results</caption>\n",
       "<tr>\n",
       "  <th>Dep. Variable:</th>    <td>Mean-GlobalComponent</td> <th>  R-squared:         </th> <td>   0.476</td>\n",
       "</tr>\n",
       "<tr>\n",
       "  <th>Model:</th>                     <td>OLS</td>         <th>  Adj. R-squared:    </th> <td>   0.465</td>\n",
       "</tr>\n",
       "<tr>\n",
       "  <th>Method:</th>               <td>Least Squares</td>    <th>  F-statistic:       </th> <td>   43.66</td>\n",
       "</tr>\n",
       "<tr>\n",
       "  <th>Date:</th>               <td>Tue, 16 Feb 2021</td>   <th>  Prob (F-statistic):</th> <td>2.94e-08</td>\n",
       "</tr>\n",
       "<tr>\n",
       "  <th>Time:</th>                   <td>00:14:32</td>       <th>  Log-Likelihood:    </th> <td>  57.443</td>\n",
       "</tr>\n",
       "<tr>\n",
       "  <th>No. Observations:</th>        <td>    50</td>        <th>  AIC:               </th> <td>  -110.9</td>\n",
       "</tr>\n",
       "<tr>\n",
       "  <th>Df Residuals:</th>            <td>    48</td>        <th>  BIC:               </th> <td>  -107.1</td>\n",
       "</tr>\n",
       "<tr>\n",
       "  <th>Df Model:</th>                <td>     1</td>        <th>                     </th>     <td> </td>   \n",
       "</tr>\n",
       "<tr>\n",
       "  <th>Covariance Type:</th>        <td>nonrobust</td>      <th>                     </th>     <td> </td>   \n",
       "</tr>\n",
       "</table>\n",
       "<table class=\"simpletable\">\n",
       "<tr>\n",
       "          <td></td>            <th>coef</th>     <th>std err</th>      <th>t</th>      <th>P>|t|</th>  <th>[0.025</th>    <th>0.975]</th>  \n",
       "</tr>\n",
       "<tr>\n",
       "  <th>const</th>            <td>    0.2647</td> <td>    0.024</td> <td>   10.831</td> <td> 0.000</td> <td>    0.216</td> <td>    0.314</td>\n",
       "</tr>\n",
       "<tr>\n",
       "  <th>Mixing parameter</th> <td>    0.5724</td> <td>    0.087</td> <td>    6.608</td> <td> 0.000</td> <td>    0.398</td> <td>    0.747</td>\n",
       "</tr>\n",
       "</table>\n",
       "<table class=\"simpletable\">\n",
       "<tr>\n",
       "  <th>Omnibus:</th>       <td> 2.866</td> <th>  Durbin-Watson:     </th> <td>   1.913</td>\n",
       "</tr>\n",
       "<tr>\n",
       "  <th>Prob(Omnibus):</th> <td> 0.239</td> <th>  Jarque-Bera (JB):  </th> <td>   1.923</td>\n",
       "</tr>\n",
       "<tr>\n",
       "  <th>Skew:</th>          <td>-0.294</td> <th>  Prob(JB):          </th> <td>   0.382</td>\n",
       "</tr>\n",
       "<tr>\n",
       "  <th>Kurtosis:</th>      <td> 3.760</td> <th>  Cond. No.          </th> <td>    8.33</td>\n",
       "</tr>\n",
       "</table><br/><br/>Warnings:<br/>[1] Standard Errors assume that the covariance matrix of the errors is correctly specified."
      ],
      "text/plain": [
       "<class 'statsmodels.iolib.summary.Summary'>\n",
       "\"\"\"\n",
       "                             OLS Regression Results                             \n",
       "================================================================================\n",
       "Dep. Variable:     Mean-GlobalComponent   R-squared:                       0.476\n",
       "Model:                              OLS   Adj. R-squared:                  0.465\n",
       "Method:                   Least Squares   F-statistic:                     43.66\n",
       "Date:                  Tue, 16 Feb 2021   Prob (F-statistic):           2.94e-08\n",
       "Time:                          00:14:32   Log-Likelihood:                 57.443\n",
       "No. Observations:                    50   AIC:                            -110.9\n",
       "Df Residuals:                        48   BIC:                            -107.1\n",
       "Df Model:                             1                                         \n",
       "Covariance Type:              nonrobust                                         \n",
       "====================================================================================\n",
       "                       coef    std err          t      P>|t|      [0.025      0.975]\n",
       "------------------------------------------------------------------------------------\n",
       "const                0.2647      0.024     10.831      0.000       0.216       0.314\n",
       "Mixing parameter     0.5724      0.087      6.608      0.000       0.398       0.747\n",
       "==============================================================================\n",
       "Omnibus:                        2.866   Durbin-Watson:                   1.913\n",
       "Prob(Omnibus):                  0.239   Jarque-Bera (JB):                1.923\n",
       "Skew:                          -0.294   Prob(JB):                        0.382\n",
       "Kurtosis:                       3.760   Cond. No.                         8.33\n",
       "==============================================================================\n",
       "\n",
       "Warnings:\n",
       "[1] Standard Errors assume that the covariance matrix of the errors is correctly specified.\n",
       "\"\"\""
      ]
     },
     "execution_count": 267,
     "metadata": {},
     "output_type": "execute_result"
    }
   ],
   "source": [
    "X = sm.add_constant(X) # adding a constant\n",
    " \n",
    "model = sm.OLS(Y, X).fit()\n",
    "predictions = model.predict(X) \n",
    " \n",
    "print_model = model.summary()\n",
    "print_model"
   ]
  },
  {
   "cell_type": "code",
   "execution_count": 268,
   "metadata": {
    "scrolled": true
   },
   "outputs": [
    {
     "data": {
      "text/plain": [
       "const               1.738337e-14\n",
       "Mixing parameter    2.939753e-08\n",
       "dtype: float64"
      ]
     },
     "execution_count": 268,
     "metadata": {},
     "output_type": "execute_result"
    }
   ],
   "source": [
    "model.pvalues[model.pvalues < 0.05]"
   ]
  },
  {
   "cell_type": "code",
   "execution_count": 269,
   "metadata": {},
   "outputs": [
    {
     "data": {
      "text/plain": [
       "const               1.738337e-14\n",
       "Mixing parameter    2.939753e-08\n",
       "dtype: float64"
      ]
     },
     "execution_count": 269,
     "metadata": {},
     "output_type": "execute_result"
    }
   ],
   "source": [
    "model.pvalues[model.pvalues < 0.05]"
   ]
  },
  {
   "cell_type": "markdown",
   "metadata": {},
   "source": [
    "### Dependent variable: Avg internal degree"
   ]
  },
  {
   "cell_type": "code",
   "execution_count": 270,
   "metadata": {},
   "outputs": [],
   "source": [
    "X = df_meso[['Avg internal degree']]"
   ]
  },
  {
   "cell_type": "code",
   "execution_count": 271,
   "metadata": {
    "scrolled": false
   },
   "outputs": [],
   "source": [
    "Y = df_dependent_variables['Mean-GlobalComponent']"
   ]
  },
  {
   "cell_type": "markdown",
   "metadata": {},
   "source": [
    "#### with `sklearn`"
   ]
  },
  {
   "cell_type": "code",
   "execution_count": 272,
   "metadata": {},
   "outputs": [
    {
     "data": {
      "text/plain": [
       "LinearRegression(copy_X=True, fit_intercept=True, n_jobs=None, normalize=False)"
      ]
     },
     "execution_count": 272,
     "metadata": {},
     "output_type": "execute_result"
    }
   ],
   "source": [
    "regr = LinearRegression()\n",
    "regr.fit(X, Y)"
   ]
  },
  {
   "cell_type": "code",
   "execution_count": 273,
   "metadata": {},
   "outputs": [
    {
     "name": "stdout",
     "output_type": "stream",
     "text": [
      "Intercept: \n",
      " 0.4139132447351245\n",
      "Coefficients: \n",
      " [-0.00083303]\n"
     ]
    }
   ],
   "source": [
    "print('Intercept: \\n', regr.intercept_)\n",
    "print('Coefficients: \\n', regr.coef_)"
   ]
  },
  {
   "cell_type": "markdown",
   "metadata": {},
   "source": [
    "#### Plot "
   ]
  },
  {
   "cell_type": "code",
   "execution_count": 274,
   "metadata": {
    "scrolled": false
   },
   "outputs": [
    {
     "data": {
      "image/png": "[encoded data removed]",
      "text/plain": [
       "<Figure size 432x288 with 1 Axes>"
      ]
     },
     "metadata": {
      "needs_background": "light"
     },
     "output_type": "display_data"
    }
   ],
   "source": [
    "predictions = regr.predict(X)\n",
    "# plt.figure(figsize=(16, 8))\n",
    "plt.scatter(\n",
    "    df_meso['Avg internal degree'],\n",
    "    df_dependent_variables['Mean-GlobalComponent'],\n",
    "    c='red'\n",
    ")\n",
    "plt.plot(\n",
    "    df_meso['Avg internal degree'],\n",
    "    predictions,\n",
    "    c='black',\n",
    "    linewidth=2\n",
    ")\n",
    "plt.xlabel(\"Avg internal degree\")\n",
    "plt.ylabel(\"Mean-GlobalComponent\")\n",
    "plt.show()"
   ]
  },
  {
   "cell_type": "markdown",
   "metadata": {},
   "source": [
    "#### with `statsmodels`"
   ]
  },
  {
   "cell_type": "code",
   "execution_count": 275,
   "metadata": {
    "scrolled": false
   },
   "outputs": [
    {
     "data": {
      "text/html": [
       "<table class=\"simpletable\">\n",
       "<caption>OLS Regression Results</caption>\n",
       "<tr>\n",
       "  <th>Dep. Variable:</th>    <td>Mean-GlobalComponent</td> <th>  R-squared:         </th> <td>   0.010</td>\n",
       "</tr>\n",
       "<tr>\n",
       "  <th>Model:</th>                     <td>OLS</td>         <th>  Adj. R-squared:    </th> <td>  -0.011</td>\n",
       "</tr>\n",
       "<tr>\n",
       "  <th>Method:</th>               <td>Least Squares</td>    <th>  F-statistic:       </th> <td>  0.4801</td>\n",
       "</tr>\n",
       "<tr>\n",
       "  <th>Date:</th>               <td>Tue, 16 Feb 2021</td>   <th>  Prob (F-statistic):</th>  <td> 0.492</td> \n",
       "</tr>\n",
       "<tr>\n",
       "  <th>Time:</th>                   <td>00:14:32</td>       <th>  Log-Likelihood:    </th> <td>  41.519</td>\n",
       "</tr>\n",
       "<tr>\n",
       "  <th>No. Observations:</th>        <td>    50</td>        <th>  AIC:               </th> <td>  -79.04</td>\n",
       "</tr>\n",
       "<tr>\n",
       "  <th>Df Residuals:</th>            <td>    48</td>        <th>  BIC:               </th> <td>  -75.21</td>\n",
       "</tr>\n",
       "<tr>\n",
       "  <th>Df Model:</th>                <td>     1</td>        <th>                     </th>     <td> </td>   \n",
       "</tr>\n",
       "<tr>\n",
       "  <th>Covariance Type:</th>        <td>nonrobust</td>      <th>                     </th>     <td> </td>   \n",
       "</tr>\n",
       "</table>\n",
       "<table class=\"simpletable\">\n",
       "<tr>\n",
       "           <td></td>              <th>coef</th>     <th>std err</th>      <th>t</th>      <th>P>|t|</th>  <th>[0.025</th>    <th>0.975]</th>  \n",
       "</tr>\n",
       "<tr>\n",
       "  <th>const</th>               <td>    0.4139</td> <td>    0.017</td> <td>   24.319</td> <td> 0.000</td> <td>    0.380</td> <td>    0.448</td>\n",
       "</tr>\n",
       "<tr>\n",
       "  <th>Avg internal degree</th> <td>   -0.0008</td> <td>    0.001</td> <td>   -0.693</td> <td> 0.492</td> <td>   -0.003</td> <td>    0.002</td>\n",
       "</tr>\n",
       "</table>\n",
       "<table class=\"simpletable\">\n",
       "<tr>\n",
       "  <th>Omnibus:</th>       <td> 1.807</td> <th>  Durbin-Watson:     </th> <td>   2.312</td>\n",
       "</tr>\n",
       "<tr>\n",
       "  <th>Prob(Omnibus):</th> <td> 0.405</td> <th>  Jarque-Bera (JB):  </th> <td>   1.202</td>\n",
       "</tr>\n",
       "<tr>\n",
       "  <th>Skew:</th>          <td>-0.029</td> <th>  Prob(JB):          </th> <td>   0.548</td>\n",
       "</tr>\n",
       "<tr>\n",
       "  <th>Kurtosis:</th>      <td> 2.243</td> <th>  Cond. No.          </th> <td>    15.8</td>\n",
       "</tr>\n",
       "</table><br/><br/>Warnings:<br/>[1] Standard Errors assume that the covariance matrix of the errors is correctly specified."
      ],
      "text/plain": [
       "<class 'statsmodels.iolib.summary.Summary'>\n",
       "\"\"\"\n",
       "                             OLS Regression Results                             \n",
       "================================================================================\n",
       "Dep. Variable:     Mean-GlobalComponent   R-squared:                       0.010\n",
       "Model:                              OLS   Adj. R-squared:                 -0.011\n",
       "Method:                   Least Squares   F-statistic:                    0.4801\n",
       "Date:                  Tue, 16 Feb 2021   Prob (F-statistic):              0.492\n",
       "Time:                          00:14:32   Log-Likelihood:                 41.519\n",
       "No. Observations:                    50   AIC:                            -79.04\n",
       "Df Residuals:                        48   BIC:                            -75.21\n",
       "Df Model:                             1                                         \n",
       "Covariance Type:              nonrobust                                         \n",
       "=======================================================================================\n",
       "                          coef    std err          t      P>|t|      [0.025      0.975]\n",
       "---------------------------------------------------------------------------------------\n",
       "const                   0.4139      0.017     24.319      0.000       0.380       0.448\n",
       "Avg internal degree    -0.0008      0.001     -0.693      0.492      -0.003       0.002\n",
       "==============================================================================\n",
       "Omnibus:                        1.807   Durbin-Watson:                   2.312\n",
       "Prob(Omnibus):                  0.405   Jarque-Bera (JB):                1.202\n",
       "Skew:                          -0.029   Prob(JB):                        0.548\n",
       "Kurtosis:                       2.243   Cond. No.                         15.8\n",
       "==============================================================================\n",
       "\n",
       "Warnings:\n",
       "[1] Standard Errors assume that the covariance matrix of the errors is correctly specified.\n",
       "\"\"\""
      ]
     },
     "execution_count": 275,
     "metadata": {},
     "output_type": "execute_result"
    }
   ],
   "source": [
    "X = sm.add_constant(X) # adding a constant\n",
    " \n",
    "model = sm.OLS(Y, X).fit()\n",
    "predictions = model.predict(X) \n",
    " \n",
    "print_model = model.summary()\n",
    "print_model"
   ]
  },
  {
   "cell_type": "code",
   "execution_count": 276,
   "metadata": {
    "scrolled": true
   },
   "outputs": [
    {
     "data": {
      "text/plain": [
       "const    1.219049e-28\n",
       "dtype: float64"
      ]
     },
     "execution_count": 276,
     "metadata": {},
     "output_type": "execute_result"
    }
   ],
   "source": [
    "model.pvalues[model.pvalues < 0.05]"
   ]
  },
  {
   "cell_type": "markdown",
   "metadata": {},
   "source": [
    "### Dependent variable: Avg internal density"
   ]
  },
  {
   "cell_type": "code",
   "execution_count": 277,
   "metadata": {},
   "outputs": [],
   "source": [
    "X = df_meso[['Avg internal density']]"
   ]
  },
  {
   "cell_type": "code",
   "execution_count": 278,
   "metadata": {
    "scrolled": false
   },
   "outputs": [],
   "source": [
    "Y = df_dependent_variables['Mean-GlobalComponent']"
   ]
  },
  {
   "cell_type": "markdown",
   "metadata": {},
   "source": [
    "#### with `sklearn`"
   ]
  },
  {
   "cell_type": "code",
   "execution_count": 279,
   "metadata": {},
   "outputs": [
    {
     "data": {
      "text/plain": [
       "LinearRegression(copy_X=True, fit_intercept=True, n_jobs=None, normalize=False)"
      ]
     },
     "execution_count": 279,
     "metadata": {},
     "output_type": "execute_result"
    }
   ],
   "source": [
    "regr = LinearRegression()\n",
    "regr.fit(X, Y)"
   ]
  },
  {
   "cell_type": "code",
   "execution_count": 280,
   "metadata": {},
   "outputs": [
    {
     "name": "stdout",
     "output_type": "stream",
     "text": [
      "Intercept: \n",
      " 0.5354665965069428\n",
      "Coefficients: \n",
      " [-0.29458933]\n"
     ]
    }
   ],
   "source": [
    "print('Intercept: \\n', regr.intercept_)\n",
    "print('Coefficients: \\n', regr.coef_)"
   ]
  },
  {
   "cell_type": "markdown",
   "metadata": {},
   "source": [
    "#### Plot "
   ]
  },
  {
   "cell_type": "code",
   "execution_count": 281,
   "metadata": {
    "scrolled": false
   },
   "outputs": [
    {
     "data": {
      "image/png": "[encoded data removed]",
      "text/plain": [
       "<Figure size 432x288 with 1 Axes>"
      ]
     },
     "metadata": {
      "needs_background": "light"
     },
     "output_type": "display_data"
    }
   ],
   "source": [
    "predictions = regr.predict(X)\n",
    "# plt.figure(figsize=(16, 8))\n",
    "plt.scatter(\n",
    "    df_meso['Avg internal density'],\n",
    "    df_dependent_variables['Mean-GlobalComponent'],\n",
    "    c='red'\n",
    ")\n",
    "plt.plot(\n",
    "    df_meso['Avg internal density'],\n",
    "    predictions,\n",
    "    c='black',\n",
    "    linewidth=2\n",
    ")\n",
    "plt.xlabel(\"Avg internal density\")\n",
    "plt.ylabel(\"Mean-GlobalComponent\")\n",
    "plt.show()"
   ]
  },
  {
   "cell_type": "markdown",
   "metadata": {},
   "source": [
    "#### with `statsmodels`"
   ]
  },
  {
   "cell_type": "code",
   "execution_count": 282,
   "metadata": {
    "scrolled": false
   },
   "outputs": [
    {
     "data": {
      "text/html": [
       "<table class=\"simpletable\">\n",
       "<caption>OLS Regression Results</caption>\n",
       "<tr>\n",
       "  <th>Dep. Variable:</th>    <td>Mean-GlobalComponent</td> <th>  R-squared:         </th> <td>   0.142</td>\n",
       "</tr>\n",
       "<tr>\n",
       "  <th>Model:</th>                     <td>OLS</td>         <th>  Adj. R-squared:    </th> <td>   0.125</td>\n",
       "</tr>\n",
       "<tr>\n",
       "  <th>Method:</th>               <td>Least Squares</td>    <th>  F-statistic:       </th> <td>   7.973</td>\n",
       "</tr>\n",
       "<tr>\n",
       "  <th>Date:</th>               <td>Tue, 16 Feb 2021</td>   <th>  Prob (F-statistic):</th>  <td>0.00689</td>\n",
       "</tr>\n",
       "<tr>\n",
       "  <th>Time:</th>                   <td>00:14:32</td>       <th>  Log-Likelihood:    </th> <td>  45.112</td>\n",
       "</tr>\n",
       "<tr>\n",
       "  <th>No. Observations:</th>        <td>    50</td>        <th>  AIC:               </th> <td>  -86.22</td>\n",
       "</tr>\n",
       "<tr>\n",
       "  <th>Df Residuals:</th>            <td>    48</td>        <th>  BIC:               </th> <td>  -82.40</td>\n",
       "</tr>\n",
       "<tr>\n",
       "  <th>Df Model:</th>                <td>     1</td>        <th>                     </th>     <td> </td>   \n",
       "</tr>\n",
       "<tr>\n",
       "  <th>Covariance Type:</th>        <td>nonrobust</td>      <th>                     </th>     <td> </td>   \n",
       "</tr>\n",
       "</table>\n",
       "<table class=\"simpletable\">\n",
       "<tr>\n",
       "            <td></td>              <th>coef</th>     <th>std err</th>      <th>t</th>      <th>P>|t|</th>  <th>[0.025</th>    <th>0.975]</th>  \n",
       "</tr>\n",
       "<tr>\n",
       "  <th>const</th>                <td>    0.5355</td> <td>    0.047</td> <td>   11.369</td> <td> 0.000</td> <td>    0.441</td> <td>    0.630</td>\n",
       "</tr>\n",
       "<tr>\n",
       "  <th>Avg internal density</th> <td>   -0.2946</td> <td>    0.104</td> <td>   -2.824</td> <td> 0.007</td> <td>   -0.504</td> <td>   -0.085</td>\n",
       "</tr>\n",
       "</table>\n",
       "<table class=\"simpletable\">\n",
       "<tr>\n",
       "  <th>Omnibus:</th>       <td> 2.418</td> <th>  Durbin-Watson:     </th> <td>   2.251</td>\n",
       "</tr>\n",
       "<tr>\n",
       "  <th>Prob(Omnibus):</th> <td> 0.298</td> <th>  Jarque-Bera (JB):  </th> <td>   2.297</td>\n",
       "</tr>\n",
       "<tr>\n",
       "  <th>Skew:</th>          <td> 0.462</td> <th>  Prob(JB):          </th> <td>   0.317</td>\n",
       "</tr>\n",
       "<tr>\n",
       "  <th>Kurtosis:</th>      <td> 2.502</td> <th>  Cond. No.          </th> <td>    8.75</td>\n",
       "</tr>\n",
       "</table><br/><br/>Warnings:<br/>[1] Standard Errors assume that the covariance matrix of the errors is correctly specified."
      ],
      "text/plain": [
       "<class 'statsmodels.iolib.summary.Summary'>\n",
       "\"\"\"\n",
       "                             OLS Regression Results                             \n",
       "================================================================================\n",
       "Dep. Variable:     Mean-GlobalComponent   R-squared:                       0.142\n",
       "Model:                              OLS   Adj. R-squared:                  0.125\n",
       "Method:                   Least Squares   F-statistic:                     7.973\n",
       "Date:                  Tue, 16 Feb 2021   Prob (F-statistic):            0.00689\n",
       "Time:                          00:14:32   Log-Likelihood:                 45.112\n",
       "No. Observations:                    50   AIC:                            -86.22\n",
       "Df Residuals:                        48   BIC:                            -82.40\n",
       "Df Model:                             1                                         \n",
       "Covariance Type:              nonrobust                                         \n",
       "========================================================================================\n",
       "                           coef    std err          t      P>|t|      [0.025      0.975]\n",
       "----------------------------------------------------------------------------------------\n",
       "const                    0.5355      0.047     11.369      0.000       0.441       0.630\n",
       "Avg internal density    -0.2946      0.104     -2.824      0.007      -0.504      -0.085\n",
       "==============================================================================\n",
       "Omnibus:                        2.418   Durbin-Watson:                   2.251\n",
       "Prob(Omnibus):                  0.298   Jarque-Bera (JB):                2.297\n",
       "Skew:                           0.462   Prob(JB):                        0.317\n",
       "Kurtosis:                       2.502   Cond. No.                         8.75\n",
       "==============================================================================\n",
       "\n",
       "Warnings:\n",
       "[1] Standard Errors assume that the covariance matrix of the errors is correctly specified.\n",
       "\"\"\""
      ]
     },
     "execution_count": 282,
     "metadata": {},
     "output_type": "execute_result"
    }
   ],
   "source": [
    "X = sm.add_constant(X) # adding a constant\n",
    " \n",
    "model = sm.OLS(Y, X).fit()\n",
    "predictions = model.predict(X) \n",
    " \n",
    "print_model = model.summary()\n",
    "print_model"
   ]
  },
  {
   "cell_type": "code",
   "execution_count": 283,
   "metadata": {
    "scrolled": true
   },
   "outputs": [
    {
     "data": {
      "text/plain": [
       "const                   3.219672e-15\n",
       "Avg internal density    6.894285e-03\n",
       "dtype: float64"
      ]
     },
     "execution_count": 283,
     "metadata": {},
     "output_type": "execute_result"
    }
   ],
   "source": [
    "model.pvalues[model.pvalues < 0.05]"
   ]
  },
  {
   "cell_type": "code",
   "execution_count": 284,
   "metadata": {},
   "outputs": [
    {
     "data": {
      "text/plain": [
       "const                   3.219672e-15\n",
       "Avg internal density    6.894285e-03\n",
       "dtype: float64"
      ]
     },
     "execution_count": 284,
     "metadata": {},
     "output_type": "execute_result"
    }
   ],
   "source": [
    "model.pvalues[model.pvalues < 0.01]"
   ]
  },
  {
   "cell_type": "markdown",
   "metadata": {},
   "source": [
    "### Dependent variable: Max ODF"
   ]
  },
  {
   "cell_type": "code",
   "execution_count": 285,
   "metadata": {},
   "outputs": [],
   "source": [
    "X = df_meso[['Max ODF']]"
   ]
  },
  {
   "cell_type": "code",
   "execution_count": 286,
   "metadata": {
    "scrolled": false
   },
   "outputs": [],
   "source": [
    "Y = df_dependent_variables['Mean-GlobalComponent']"
   ]
  },
  {
   "cell_type": "markdown",
   "metadata": {},
   "source": [
    "#### with `sklearn`"
   ]
  },
  {
   "cell_type": "code",
   "execution_count": 287,
   "metadata": {},
   "outputs": [
    {
     "data": {
      "text/plain": [
       "LinearRegression(copy_X=True, fit_intercept=True, n_jobs=None, normalize=False)"
      ]
     },
     "execution_count": 287,
     "metadata": {},
     "output_type": "execute_result"
    }
   ],
   "source": [
    "regr = LinearRegression()\n",
    "regr.fit(X, Y)"
   ]
  },
  {
   "cell_type": "code",
   "execution_count": 288,
   "metadata": {},
   "outputs": [
    {
     "name": "stdout",
     "output_type": "stream",
     "text": [
      "Intercept: \n",
      " 0.20290819234235266\n",
      "Coefficients: \n",
      " [0.40221272]\n"
     ]
    }
   ],
   "source": [
    "print('Intercept: \\n', regr.intercept_)\n",
    "print('Coefficients: \\n', regr.coef_)"
   ]
  },
  {
   "cell_type": "markdown",
   "metadata": {},
   "source": [
    "#### Plot "
   ]
  },
  {
   "cell_type": "code",
   "execution_count": 289,
   "metadata": {
    "scrolled": false
   },
   "outputs": [
    {
     "data": {
      "image/png": "[encoded data removed]",
      "text/plain": [
       "<Figure size 432x288 with 1 Axes>"
      ]
     },
     "metadata": {
      "needs_background": "light"
     },
     "output_type": "display_data"
    }
   ],
   "source": [
    "predictions = regr.predict(X)\n",
    "# plt.figure(figsize=(16, 8))\n",
    "plt.scatter(\n",
    "    df_meso['Max ODF'],\n",
    "    df_dependent_variables['Mean-GlobalComponent'],\n",
    "    c='red'\n",
    ")\n",
    "plt.plot(\n",
    "    df_meso['Max ODF'],\n",
    "    predictions,\n",
    "    c='black',\n",
    "    linewidth=2\n",
    ")\n",
    "plt.xlabel(\"Max ODF\")\n",
    "plt.ylabel(\"Mean-GlobalComponent\")\n",
    "plt.show()"
   ]
  },
  {
   "cell_type": "markdown",
   "metadata": {},
   "source": [
    "#### with `statsmodels`"
   ]
  },
  {
   "cell_type": "code",
   "execution_count": 290,
   "metadata": {
    "scrolled": false
   },
   "outputs": [
    {
     "data": {
      "text/html": [
       "<table class=\"simpletable\">\n",
       "<caption>OLS Regression Results</caption>\n",
       "<tr>\n",
       "  <th>Dep. Variable:</th>    <td>Mean-GlobalComponent</td> <th>  R-squared:         </th> <td>   0.156</td>\n",
       "</tr>\n",
       "<tr>\n",
       "  <th>Model:</th>                     <td>OLS</td>         <th>  Adj. R-squared:    </th> <td>   0.138</td>\n",
       "</tr>\n",
       "<tr>\n",
       "  <th>Method:</th>               <td>Least Squares</td>    <th>  F-statistic:       </th> <td>   8.857</td>\n",
       "</tr>\n",
       "<tr>\n",
       "  <th>Date:</th>               <td>Tue, 16 Feb 2021</td>   <th>  Prob (F-statistic):</th>  <td>0.00456</td>\n",
       "</tr>\n",
       "<tr>\n",
       "  <th>Time:</th>                   <td>00:14:33</td>       <th>  Log-Likelihood:    </th> <td>  45.504</td>\n",
       "</tr>\n",
       "<tr>\n",
       "  <th>No. Observations:</th>        <td>    50</td>        <th>  AIC:               </th> <td>  -87.01</td>\n",
       "</tr>\n",
       "<tr>\n",
       "  <th>Df Residuals:</th>            <td>    48</td>        <th>  BIC:               </th> <td>  -83.18</td>\n",
       "</tr>\n",
       "<tr>\n",
       "  <th>Df Model:</th>                <td>     1</td>        <th>                     </th>     <td> </td>   \n",
       "</tr>\n",
       "<tr>\n",
       "  <th>Covariance Type:</th>        <td>nonrobust</td>      <th>                     </th>     <td> </td>   \n",
       "</tr>\n",
       "</table>\n",
       "<table class=\"simpletable\">\n",
       "<tr>\n",
       "     <td></td>        <th>coef</th>     <th>std err</th>      <th>t</th>      <th>P>|t|</th>  <th>[0.025</th>    <th>0.975]</th>  \n",
       "</tr>\n",
       "<tr>\n",
       "  <th>const</th>   <td>    0.2029</td> <td>    0.071</td> <td>    2.876</td> <td> 0.006</td> <td>    0.061</td> <td>    0.345</td>\n",
       "</tr>\n",
       "<tr>\n",
       "  <th>Max ODF</th> <td>    0.4022</td> <td>    0.135</td> <td>    2.976</td> <td> 0.005</td> <td>    0.130</td> <td>    0.674</td>\n",
       "</tr>\n",
       "</table>\n",
       "<table class=\"simpletable\">\n",
       "<tr>\n",
       "  <th>Omnibus:</th>       <td> 3.878</td> <th>  Durbin-Watson:     </th> <td>   2.268</td>\n",
       "</tr>\n",
       "<tr>\n",
       "  <th>Prob(Omnibus):</th> <td> 0.144</td> <th>  Jarque-Bera (JB):  </th> <td>   2.235</td>\n",
       "</tr>\n",
       "<tr>\n",
       "  <th>Skew:</th>          <td>-0.279</td> <th>  Prob(JB):          </th> <td>   0.327</td>\n",
       "</tr>\n",
       "<tr>\n",
       "  <th>Kurtosis:</th>      <td> 2.127</td> <th>  Cond. No.          </th> <td>    12.2</td>\n",
       "</tr>\n",
       "</table><br/><br/>Warnings:<br/>[1] Standard Errors assume that the covariance matrix of the errors is correctly specified."
      ],
      "text/plain": [
       "<class 'statsmodels.iolib.summary.Summary'>\n",
       "\"\"\"\n",
       "                             OLS Regression Results                             \n",
       "================================================================================\n",
       "Dep. Variable:     Mean-GlobalComponent   R-squared:                       0.156\n",
       "Model:                              OLS   Adj. R-squared:                  0.138\n",
       "Method:                   Least Squares   F-statistic:                     8.857\n",
       "Date:                  Tue, 16 Feb 2021   Prob (F-statistic):            0.00456\n",
       "Time:                          00:14:33   Log-Likelihood:                 45.504\n",
       "No. Observations:                    50   AIC:                            -87.01\n",
       "Df Residuals:                        48   BIC:                            -83.18\n",
       "Df Model:                             1                                         \n",
       "Covariance Type:              nonrobust                                         \n",
       "==============================================================================\n",
       "                 coef    std err          t      P>|t|      [0.025      0.975]\n",
       "------------------------------------------------------------------------------\n",
       "const          0.2029      0.071      2.876      0.006       0.061       0.345\n",
       "Max ODF        0.4022      0.135      2.976      0.005       0.130       0.674\n",
       "==============================================================================\n",
       "Omnibus:                        3.878   Durbin-Watson:                   2.268\n",
       "Prob(Omnibus):                  0.144   Jarque-Bera (JB):                2.235\n",
       "Skew:                          -0.279   Prob(JB):                        0.327\n",
       "Kurtosis:                       2.127   Cond. No.                         12.2\n",
       "==============================================================================\n",
       "\n",
       "Warnings:\n",
       "[1] Standard Errors assume that the covariance matrix of the errors is correctly specified.\n",
       "\"\"\""
      ]
     },
     "execution_count": 290,
     "metadata": {},
     "output_type": "execute_result"
    }
   ],
   "source": [
    "X = sm.add_constant(X) # adding a constant\n",
    " \n",
    "model = sm.OLS(Y, X).fit()\n",
    "predictions = model.predict(X) \n",
    " \n",
    "print_model = model.summary()\n",
    "print_model"
   ]
  },
  {
   "cell_type": "code",
   "execution_count": 291,
   "metadata": {
    "scrolled": true
   },
   "outputs": [
    {
     "data": {
      "text/plain": [
       "const      0.005984\n",
       "Max ODF    0.004562\n",
       "dtype: float64"
      ]
     },
     "execution_count": 291,
     "metadata": {},
     "output_type": "execute_result"
    }
   ],
   "source": [
    "model.pvalues[model.pvalues < 0.05]"
   ]
  },
  {
   "cell_type": "code",
   "execution_count": 292,
   "metadata": {},
   "outputs": [
    {
     "data": {
      "text/plain": [
       "const      0.005984\n",
       "Max ODF    0.004562\n",
       "dtype: float64"
      ]
     },
     "execution_count": 292,
     "metadata": {},
     "output_type": "execute_result"
    }
   ],
   "source": [
    "model.pvalues[model.pvalues < 0.01]"
   ]
  },
  {
   "cell_type": "markdown",
   "metadata": {},
   "source": [
    "### Dependent variable: Avg ODF"
   ]
  },
  {
   "cell_type": "code",
   "execution_count": 293,
   "metadata": {},
   "outputs": [],
   "source": [
    "X = df_meso[['Avg ODF']]"
   ]
  },
  {
   "cell_type": "code",
   "execution_count": 294,
   "metadata": {
    "scrolled": false
   },
   "outputs": [],
   "source": [
    "Y = df_dependent_variables['Mean-GlobalComponent']"
   ]
  },
  {
   "cell_type": "markdown",
   "metadata": {},
   "source": [
    "#### with `sklearn`"
   ]
  },
  {
   "cell_type": "code",
   "execution_count": 295,
   "metadata": {},
   "outputs": [
    {
     "data": {
      "text/plain": [
       "LinearRegression(copy_X=True, fit_intercept=True, n_jobs=None, normalize=False)"
      ]
     },
     "execution_count": 295,
     "metadata": {},
     "output_type": "execute_result"
    }
   ],
   "source": [
    "regr = LinearRegression()\n",
    "regr.fit(X, Y)"
   ]
  },
  {
   "cell_type": "code",
   "execution_count": 296,
   "metadata": {},
   "outputs": [
    {
     "name": "stdout",
     "output_type": "stream",
     "text": [
      "Intercept: \n",
      " 0.34358803081497424\n",
      "Coefficients: \n",
      " [0.26228518]\n"
     ]
    }
   ],
   "source": [
    "print('Intercept: \\n', regr.intercept_)\n",
    "print('Coefficients: \\n', regr.coef_)"
   ]
  },
  {
   "cell_type": "markdown",
   "metadata": {},
   "source": [
    "#### Plot "
   ]
  },
  {
   "cell_type": "code",
   "execution_count": 297,
   "metadata": {
    "scrolled": false
   },
   "outputs": [
    {
     "data": {
      "image/png": "[encoded data removed]",
      "text/plain": [
       "<Figure size 432x288 with 1 Axes>"
      ]
     },
     "metadata": {
      "needs_background": "light"
     },
     "output_type": "display_data"
    }
   ],
   "source": [
    "predictions = regr.predict(X)\n",
    "# plt.figure(figsize=(16, 8))\n",
    "plt.scatter(\n",
    "    df_meso['Avg ODF'],\n",
    "    df_dependent_variables['Mean-GlobalComponent'],\n",
    "    c='red'\n",
    ")\n",
    "plt.plot(\n",
    "    df_meso['Avg ODF'],\n",
    "    predictions,\n",
    "    c='black',\n",
    "    linewidth=2\n",
    ")\n",
    "plt.xlabel(\"Avg ODF\")\n",
    "plt.ylabel(\"Mean-GlobalComponent\")\n",
    "plt.show()"
   ]
  },
  {
   "cell_type": "markdown",
   "metadata": {},
   "source": [
    "#### with `statsmodels`"
   ]
  },
  {
   "cell_type": "code",
   "execution_count": 298,
   "metadata": {
    "scrolled": false
   },
   "outputs": [
    {
     "data": {
      "text/html": [
       "<table class=\"simpletable\">\n",
       "<caption>OLS Regression Results</caption>\n",
       "<tr>\n",
       "  <th>Dep. Variable:</th>    <td>Mean-GlobalComponent</td> <th>  R-squared:         </th> <td>   0.079</td>\n",
       "</tr>\n",
       "<tr>\n",
       "  <th>Model:</th>                     <td>OLS</td>         <th>  Adj. R-squared:    </th> <td>   0.060</td>\n",
       "</tr>\n",
       "<tr>\n",
       "  <th>Method:</th>               <td>Least Squares</td>    <th>  F-statistic:       </th> <td>   4.127</td>\n",
       "</tr>\n",
       "<tr>\n",
       "  <th>Date:</th>               <td>Tue, 16 Feb 2021</td>   <th>  Prob (F-statistic):</th>  <td>0.0478</td> \n",
       "</tr>\n",
       "<tr>\n",
       "  <th>Time:</th>                   <td>00:14:33</td>       <th>  Log-Likelihood:    </th> <td>  43.332</td>\n",
       "</tr>\n",
       "<tr>\n",
       "  <th>No. Observations:</th>        <td>    50</td>        <th>  AIC:               </th> <td>  -82.66</td>\n",
       "</tr>\n",
       "<tr>\n",
       "  <th>Df Residuals:</th>            <td>    48</td>        <th>  BIC:               </th> <td>  -78.84</td>\n",
       "</tr>\n",
       "<tr>\n",
       "  <th>Df Model:</th>                <td>     1</td>        <th>                     </th>     <td> </td>   \n",
       "</tr>\n",
       "<tr>\n",
       "  <th>Covariance Type:</th>        <td>nonrobust</td>      <th>                     </th>     <td> </td>   \n",
       "</tr>\n",
       "</table>\n",
       "<table class=\"simpletable\">\n",
       "<tr>\n",
       "     <td></td>        <th>coef</th>     <th>std err</th>      <th>t</th>      <th>P>|t|</th>  <th>[0.025</th>    <th>0.975]</th>  \n",
       "</tr>\n",
       "<tr>\n",
       "  <th>const</th>   <td>    0.3436</td> <td>    0.035</td> <td>    9.754</td> <td> 0.000</td> <td>    0.273</td> <td>    0.414</td>\n",
       "</tr>\n",
       "<tr>\n",
       "  <th>Avg ODF</th> <td>    0.2623</td> <td>    0.129</td> <td>    2.032</td> <td> 0.048</td> <td>    0.003</td> <td>    0.522</td>\n",
       "</tr>\n",
       "</table>\n",
       "<table class=\"simpletable\">\n",
       "<tr>\n",
       "  <th>Omnibus:</th>       <td> 3.103</td> <th>  Durbin-Watson:     </th> <td>   2.244</td>\n",
       "</tr>\n",
       "<tr>\n",
       "  <th>Prob(Omnibus):</th> <td> 0.212</td> <th>  Jarque-Bera (JB):  </th> <td>   2.130</td>\n",
       "</tr>\n",
       "<tr>\n",
       "  <th>Skew:</th>          <td>-0.316</td> <th>  Prob(JB):          </th> <td>   0.345</td>\n",
       "</tr>\n",
       "<tr>\n",
       "  <th>Kurtosis:</th>      <td> 2.211</td> <th>  Cond. No.          </th> <td>    9.34</td>\n",
       "</tr>\n",
       "</table><br/><br/>Warnings:<br/>[1] Standard Errors assume that the covariance matrix of the errors is correctly specified."
      ],
      "text/plain": [
       "<class 'statsmodels.iolib.summary.Summary'>\n",
       "\"\"\"\n",
       "                             OLS Regression Results                             \n",
       "================================================================================\n",
       "Dep. Variable:     Mean-GlobalComponent   R-squared:                       0.079\n",
       "Model:                              OLS   Adj. R-squared:                  0.060\n",
       "Method:                   Least Squares   F-statistic:                     4.127\n",
       "Date:                  Tue, 16 Feb 2021   Prob (F-statistic):             0.0478\n",
       "Time:                          00:14:33   Log-Likelihood:                 43.332\n",
       "No. Observations:                    50   AIC:                            -82.66\n",
       "Df Residuals:                        48   BIC:                            -78.84\n",
       "Df Model:                             1                                         \n",
       "Covariance Type:              nonrobust                                         \n",
       "==============================================================================\n",
       "                 coef    std err          t      P>|t|      [0.025      0.975]\n",
       "------------------------------------------------------------------------------\n",
       "const          0.3436      0.035      9.754      0.000       0.273       0.414\n",
       "Avg ODF        0.2623      0.129      2.032      0.048       0.003       0.522\n",
       "==============================================================================\n",
       "Omnibus:                        3.103   Durbin-Watson:                   2.244\n",
       "Prob(Omnibus):                  0.212   Jarque-Bera (JB):                2.130\n",
       "Skew:                          -0.316   Prob(JB):                        0.345\n",
       "Kurtosis:                       2.211   Cond. No.                         9.34\n",
       "==============================================================================\n",
       "\n",
       "Warnings:\n",
       "[1] Standard Errors assume that the covariance matrix of the errors is correctly specified.\n",
       "\"\"\""
      ]
     },
     "execution_count": 298,
     "metadata": {},
     "output_type": "execute_result"
    }
   ],
   "source": [
    "X = sm.add_constant(X) # adding a constant\n",
    " \n",
    "model = sm.OLS(Y, X).fit()\n",
    "predictions = model.predict(X) \n",
    " \n",
    "print_model = model.summary()\n",
    "print_model"
   ]
  },
  {
   "cell_type": "code",
   "execution_count": 299,
   "metadata": {
    "scrolled": true
   },
   "outputs": [
    {
     "data": {
      "text/plain": [
       "const      5.691093e-13\n",
       "Avg ODF    4.775440e-02\n",
       "dtype: float64"
      ]
     },
     "execution_count": 299,
     "metadata": {},
     "output_type": "execute_result"
    }
   ],
   "source": [
    "model.pvalues[model.pvalues < 0.05]"
   ]
  },
  {
   "cell_type": "code",
   "execution_count": 300,
   "metadata": {},
   "outputs": [
    {
     "data": {
      "text/plain": [
       "const    5.691093e-13\n",
       "dtype: float64"
      ]
     },
     "execution_count": 300,
     "metadata": {},
     "output_type": "execute_result"
    }
   ],
   "source": [
    "model.pvalues[model.pvalues < 0.01]"
   ]
  },
  {
   "cell_type": "markdown",
   "metadata": {},
   "source": [
    "### Dependent variable: Flake-out ODF"
   ]
  },
  {
   "cell_type": "code",
   "execution_count": 301,
   "metadata": {},
   "outputs": [],
   "source": [
    "X = df_meso[['Flake-out ODF']]"
   ]
  },
  {
   "cell_type": "code",
   "execution_count": 302,
   "metadata": {
    "scrolled": false
   },
   "outputs": [],
   "source": [
    "Y = df_dependent_variables['Mean-GlobalComponent']"
   ]
  },
  {
   "cell_type": "markdown",
   "metadata": {},
   "source": [
    "#### with `sklearn`"
   ]
  },
  {
   "cell_type": "code",
   "execution_count": 303,
   "metadata": {},
   "outputs": [
    {
     "data": {
      "text/plain": [
       "LinearRegression(copy_X=True, fit_intercept=True, n_jobs=None, normalize=False)"
      ]
     },
     "execution_count": 303,
     "metadata": {},
     "output_type": "execute_result"
    }
   ],
   "source": [
    "regr = LinearRegression()\n",
    "regr.fit(X, Y)"
   ]
  },
  {
   "cell_type": "code",
   "execution_count": 304,
   "metadata": {},
   "outputs": [
    {
     "name": "stdout",
     "output_type": "stream",
     "text": [
      "Intercept: \n",
      " 0.3505084617981683\n",
      "Coefficients: \n",
      " [0.19887629]\n"
     ]
    }
   ],
   "source": [
    "print('Intercept: \\n', regr.intercept_)\n",
    "print('Coefficients: \\n', regr.coef_)"
   ]
  },
  {
   "cell_type": "markdown",
   "metadata": {},
   "source": [
    "#### Plot "
   ]
  },
  {
   "cell_type": "code",
   "execution_count": 305,
   "metadata": {
    "scrolled": false
   },
   "outputs": [
    {
     "data": {
      "image/png": "[encoded data removed]",
      "text/plain": [
       "<Figure size 432x288 with 1 Axes>"
      ]
     },
     "metadata": {
      "needs_background": "light"
     },
     "output_type": "display_data"
    }
   ],
   "source": [
    "predictions = regr.predict(X)\n",
    "# plt.figure(figsize=(16, 8))\n",
    "plt.scatter(\n",
    "    df_meso['Flake-out ODF'],\n",
    "    df_dependent_variables['Mean-GlobalComponent'],\n",
    "    c='red'\n",
    ")\n",
    "plt.plot(\n",
    "    df_meso['Flake-out ODF'],\n",
    "    predictions,\n",
    "    c='black',\n",
    "    linewidth=2\n",
    ")\n",
    "plt.xlabel(\"Flake-out ODF\")\n",
    "plt.ylabel(\"Mean-GlobalComponent\")\n",
    "plt.show()"
   ]
  },
  {
   "cell_type": "markdown",
   "metadata": {},
   "source": [
    "#### with `statsmodels`"
   ]
  },
  {
   "cell_type": "code",
   "execution_count": 306,
   "metadata": {
    "scrolled": false
   },
   "outputs": [
    {
     "data": {
      "text/html": [
       "<table class=\"simpletable\">\n",
       "<caption>OLS Regression Results</caption>\n",
       "<tr>\n",
       "  <th>Dep. Variable:</th>    <td>Mean-GlobalComponent</td> <th>  R-squared:         </th> <td>   0.116</td>\n",
       "</tr>\n",
       "<tr>\n",
       "  <th>Model:</th>                     <td>OLS</td>         <th>  Adj. R-squared:    </th> <td>   0.097</td>\n",
       "</tr>\n",
       "<tr>\n",
       "  <th>Method:</th>               <td>Least Squares</td>    <th>  F-statistic:       </th> <td>   6.289</td>\n",
       "</tr>\n",
       "<tr>\n",
       "  <th>Date:</th>               <td>Tue, 16 Feb 2021</td>   <th>  Prob (F-statistic):</th>  <td>0.0156</td> \n",
       "</tr>\n",
       "<tr>\n",
       "  <th>Time:</th>                   <td>00:14:33</td>       <th>  Log-Likelihood:    </th> <td>  44.348</td>\n",
       "</tr>\n",
       "<tr>\n",
       "  <th>No. Observations:</th>        <td>    50</td>        <th>  AIC:               </th> <td>  -84.70</td>\n",
       "</tr>\n",
       "<tr>\n",
       "  <th>Df Residuals:</th>            <td>    48</td>        <th>  BIC:               </th> <td>  -80.87</td>\n",
       "</tr>\n",
       "<tr>\n",
       "  <th>Df Model:</th>                <td>     1</td>        <th>                     </th>     <td> </td>   \n",
       "</tr>\n",
       "<tr>\n",
       "  <th>Covariance Type:</th>        <td>nonrobust</td>      <th>                     </th>     <td> </td>   \n",
       "</tr>\n",
       "</table>\n",
       "<table class=\"simpletable\">\n",
       "<tr>\n",
       "        <td></td>           <th>coef</th>     <th>std err</th>      <th>t</th>      <th>P>|t|</th>  <th>[0.025</th>    <th>0.975]</th>  \n",
       "</tr>\n",
       "<tr>\n",
       "  <th>const</th>         <td>    0.3505</td> <td>    0.027</td> <td>   12.848</td> <td> 0.000</td> <td>    0.296</td> <td>    0.405</td>\n",
       "</tr>\n",
       "<tr>\n",
       "  <th>Flake-out ODF</th> <td>    0.1989</td> <td>    0.079</td> <td>    2.508</td> <td> 0.016</td> <td>    0.039</td> <td>    0.358</td>\n",
       "</tr>\n",
       "</table>\n",
       "<table class=\"simpletable\">\n",
       "<tr>\n",
       "  <th>Omnibus:</th>       <td> 4.462</td> <th>  Durbin-Watson:     </th> <td>   2.232</td>\n",
       "</tr>\n",
       "<tr>\n",
       "  <th>Prob(Omnibus):</th> <td> 0.107</td> <th>  Jarque-Bera (JB):  </th> <td>   2.258</td>\n",
       "</tr>\n",
       "<tr>\n",
       "  <th>Skew:</th>          <td>-0.239</td> <th>  Prob(JB):          </th> <td>   0.323</td>\n",
       "</tr>\n",
       "<tr>\n",
       "  <th>Kurtosis:</th>      <td> 2.075</td> <th>  Cond. No.          </th> <td>    6.00</td>\n",
       "</tr>\n",
       "</table><br/><br/>Warnings:<br/>[1] Standard Errors assume that the covariance matrix of the errors is correctly specified."
      ],
      "text/plain": [
       "<class 'statsmodels.iolib.summary.Summary'>\n",
       "\"\"\"\n",
       "                             OLS Regression Results                             \n",
       "================================================================================\n",
       "Dep. Variable:     Mean-GlobalComponent   R-squared:                       0.116\n",
       "Model:                              OLS   Adj. R-squared:                  0.097\n",
       "Method:                   Least Squares   F-statistic:                     6.289\n",
       "Date:                  Tue, 16 Feb 2021   Prob (F-statistic):             0.0156\n",
       "Time:                          00:14:33   Log-Likelihood:                 44.348\n",
       "No. Observations:                    50   AIC:                            -84.70\n",
       "Df Residuals:                        48   BIC:                            -80.87\n",
       "Df Model:                             1                                         \n",
       "Covariance Type:              nonrobust                                         \n",
       "=================================================================================\n",
       "                    coef    std err          t      P>|t|      [0.025      0.975]\n",
       "---------------------------------------------------------------------------------\n",
       "const             0.3505      0.027     12.848      0.000       0.296       0.405\n",
       "Flake-out ODF     0.1989      0.079      2.508      0.016       0.039       0.358\n",
       "==============================================================================\n",
       "Omnibus:                        4.462   Durbin-Watson:                   2.232\n",
       "Prob(Omnibus):                  0.107   Jarque-Bera (JB):                2.258\n",
       "Skew:                          -0.239   Prob(JB):                        0.323\n",
       "Kurtosis:                       2.075   Cond. No.                         6.00\n",
       "==============================================================================\n",
       "\n",
       "Warnings:\n",
       "[1] Standard Errors assume that the covariance matrix of the errors is correctly specified.\n",
       "\"\"\""
      ]
     },
     "execution_count": 306,
     "metadata": {},
     "output_type": "execute_result"
    }
   ],
   "source": [
    "X = sm.add_constant(X) # adding a constant\n",
    " \n",
    "model = sm.OLS(Y, X).fit()\n",
    "predictions = model.predict(X) \n",
    " \n",
    "print_model = model.summary()\n",
    "print_model"
   ]
  },
  {
   "cell_type": "code",
   "execution_count": 307,
   "metadata": {
    "scrolled": false
   },
   "outputs": [
    {
     "data": {
      "text/plain": [
       "const            3.781183e-17\n",
       "Flake-out ODF    1.558544e-02\n",
       "dtype: float64"
      ]
     },
     "execution_count": 307,
     "metadata": {},
     "output_type": "execute_result"
    }
   ],
   "source": [
    "model.pvalues[model.pvalues < 0.05]"
   ]
  },
  {
   "cell_type": "code",
   "execution_count": 308,
   "metadata": {},
   "outputs": [
    {
     "data": {
      "text/plain": [
       "const    3.781183e-17\n",
       "dtype: float64"
      ]
     },
     "execution_count": 308,
     "metadata": {},
     "output_type": "execute_result"
    }
   ],
   "source": [
    "model.pvalues[model.pvalues < 0.01]"
   ]
  },
  {
   "cell_type": "markdown",
   "metadata": {},
   "source": [
    "### Dependent variable: Avg Embeddedness"
   ]
  },
  {
   "cell_type": "code",
   "execution_count": 309,
   "metadata": {},
   "outputs": [],
   "source": [
    "X = df_meso[['Avg Embeddedness']]"
   ]
  },
  {
   "cell_type": "code",
   "execution_count": 310,
   "metadata": {
    "scrolled": false
   },
   "outputs": [],
   "source": [
    "Y = df_dependent_variables['Mean-GlobalComponent']"
   ]
  },
  {
   "cell_type": "markdown",
   "metadata": {},
   "source": [
    "#### with `sklearn`"
   ]
  },
  {
   "cell_type": "code",
   "execution_count": 311,
   "metadata": {},
   "outputs": [
    {
     "data": {
      "text/plain": [
       "LinearRegression(copy_X=True, fit_intercept=True, n_jobs=None, normalize=False)"
      ]
     },
     "execution_count": 311,
     "metadata": {},
     "output_type": "execute_result"
    }
   ],
   "source": [
    "regr = LinearRegression()\n",
    "regr.fit(X, Y)"
   ]
  },
  {
   "cell_type": "code",
   "execution_count": 312,
   "metadata": {},
   "outputs": [
    {
     "name": "stdout",
     "output_type": "stream",
     "text": [
      "Intercept: \n",
      " 0.5902323309606734\n",
      "Coefficients: \n",
      " [-0.24323225]\n"
     ]
    }
   ],
   "source": [
    "print('Intercept: \\n', regr.intercept_)\n",
    "print('Coefficients: \\n', regr.coef_)"
   ]
  },
  {
   "cell_type": "markdown",
   "metadata": {},
   "source": [
    "#### Plot "
   ]
  },
  {
   "cell_type": "code",
   "execution_count": 313,
   "metadata": {
    "scrolled": false
   },
   "outputs": [
    {
     "data": {
      "image/png": "[encoded data removed]",
      "text/plain": [
       "<Figure size 432x288 with 1 Axes>"
      ]
     },
     "metadata": {
      "needs_background": "light"
     },
     "output_type": "display_data"
    }
   ],
   "source": [
    "predictions = regr.predict(X)\n",
    "# plt.figure(figsize=(16, 8))\n",
    "plt.scatter(\n",
    "    df_meso['Avg Embeddedness'],\n",
    "    df_dependent_variables['Mean-GlobalComponent'],\n",
    "    c='red'\n",
    ")\n",
    "plt.plot(\n",
    "    df_meso['Avg Embeddedness'],\n",
    "    predictions,\n",
    "    c='black',\n",
    "    linewidth=2\n",
    ")\n",
    "plt.xlabel(\"Avg Embeddedness\")\n",
    "plt.ylabel(\"Mean-GlobalComponent\")\n",
    "plt.show()"
   ]
  },
  {
   "cell_type": "markdown",
   "metadata": {},
   "source": [
    "#### with `statsmodels`"
   ]
  },
  {
   "cell_type": "code",
   "execution_count": 314,
   "metadata": {
    "scrolled": false
   },
   "outputs": [
    {
     "data": {
      "text/html": [
       "<table class=\"simpletable\">\n",
       "<caption>OLS Regression Results</caption>\n",
       "<tr>\n",
       "  <th>Dep. Variable:</th>    <td>Mean-GlobalComponent</td> <th>  R-squared:         </th> <td>   0.065</td>\n",
       "</tr>\n",
       "<tr>\n",
       "  <th>Model:</th>                     <td>OLS</td>         <th>  Adj. R-squared:    </th> <td>   0.045</td>\n",
       "</tr>\n",
       "<tr>\n",
       "  <th>Method:</th>               <td>Least Squares</td>    <th>  F-statistic:       </th> <td>   3.334</td>\n",
       "</tr>\n",
       "<tr>\n",
       "  <th>Date:</th>               <td>Tue, 16 Feb 2021</td>   <th>  Prob (F-statistic):</th>  <td>0.0741</td> \n",
       "</tr>\n",
       "<tr>\n",
       "  <th>Time:</th>                   <td>00:14:33</td>       <th>  Log-Likelihood:    </th> <td>  42.949</td>\n",
       "</tr>\n",
       "<tr>\n",
       "  <th>No. Observations:</th>        <td>    50</td>        <th>  AIC:               </th> <td>  -81.90</td>\n",
       "</tr>\n",
       "<tr>\n",
       "  <th>Df Residuals:</th>            <td>    48</td>        <th>  BIC:               </th> <td>  -78.07</td>\n",
       "</tr>\n",
       "<tr>\n",
       "  <th>Df Model:</th>                <td>     1</td>        <th>                     </th>     <td> </td>   \n",
       "</tr>\n",
       "<tr>\n",
       "  <th>Covariance Type:</th>        <td>nonrobust</td>      <th>                     </th>     <td> </td>   \n",
       "</tr>\n",
       "</table>\n",
       "<table class=\"simpletable\">\n",
       "<tr>\n",
       "          <td></td>            <th>coef</th>     <th>std err</th>      <th>t</th>      <th>P>|t|</th>  <th>[0.025</th>    <th>0.975]</th>  \n",
       "</tr>\n",
       "<tr>\n",
       "  <th>const</th>            <td>    0.5902</td> <td>    0.101</td> <td>    5.870</td> <td> 0.000</td> <td>    0.388</td> <td>    0.792</td>\n",
       "</tr>\n",
       "<tr>\n",
       "  <th>Avg Embeddedness</th> <td>   -0.2432</td> <td>    0.133</td> <td>   -1.826</td> <td> 0.074</td> <td>   -0.511</td> <td>    0.025</td>\n",
       "</tr>\n",
       "</table>\n",
       "<table class=\"simpletable\">\n",
       "<tr>\n",
       "  <th>Omnibus:</th>       <td> 3.608</td> <th>  Durbin-Watson:     </th> <td>   2.262</td>\n",
       "</tr>\n",
       "<tr>\n",
       "  <th>Prob(Omnibus):</th> <td> 0.165</td> <th>  Jarque-Bera (JB):  </th> <td>   2.136</td>\n",
       "</tr>\n",
       "<tr>\n",
       "  <th>Skew:</th>          <td>-0.270</td> <th>  Prob(JB):          </th> <td>   0.344</td>\n",
       "</tr>\n",
       "<tr>\n",
       "  <th>Kurtosis:</th>      <td> 2.144</td> <th>  Cond. No.          </th> <td>    14.1</td>\n",
       "</tr>\n",
       "</table><br/><br/>Warnings:<br/>[1] Standard Errors assume that the covariance matrix of the errors is correctly specified."
      ],
      "text/plain": [
       "<class 'statsmodels.iolib.summary.Summary'>\n",
       "\"\"\"\n",
       "                             OLS Regression Results                             \n",
       "================================================================================\n",
       "Dep. Variable:     Mean-GlobalComponent   R-squared:                       0.065\n",
       "Model:                              OLS   Adj. R-squared:                  0.045\n",
       "Method:                   Least Squares   F-statistic:                     3.334\n",
       "Date:                  Tue, 16 Feb 2021   Prob (F-statistic):             0.0741\n",
       "Time:                          00:14:33   Log-Likelihood:                 42.949\n",
       "No. Observations:                    50   AIC:                            -81.90\n",
       "Df Residuals:                        48   BIC:                            -78.07\n",
       "Df Model:                             1                                         \n",
       "Covariance Type:              nonrobust                                         \n",
       "====================================================================================\n",
       "                       coef    std err          t      P>|t|      [0.025      0.975]\n",
       "------------------------------------------------------------------------------------\n",
       "const                0.5902      0.101      5.870      0.000       0.388       0.792\n",
       "Avg Embeddedness    -0.2432      0.133     -1.826      0.074      -0.511       0.025\n",
       "==============================================================================\n",
       "Omnibus:                        3.608   Durbin-Watson:                   2.262\n",
       "Prob(Omnibus):                  0.165   Jarque-Bera (JB):                2.136\n",
       "Skew:                          -0.270   Prob(JB):                        0.344\n",
       "Kurtosis:                       2.144   Cond. No.                         14.1\n",
       "==============================================================================\n",
       "\n",
       "Warnings:\n",
       "[1] Standard Errors assume that the covariance matrix of the errors is correctly specified.\n",
       "\"\"\""
      ]
     },
     "execution_count": 314,
     "metadata": {},
     "output_type": "execute_result"
    }
   ],
   "source": [
    "X = sm.add_constant(X) # adding a constant\n",
    " \n",
    "model = sm.OLS(Y, X).fit()\n",
    "predictions = model.predict(X) \n",
    " \n",
    "print_model = model.summary()\n",
    "print_model"
   ]
  },
  {
   "cell_type": "code",
   "execution_count": 315,
   "metadata": {
    "scrolled": true
   },
   "outputs": [
    {
     "data": {
      "text/plain": [
       "const    3.957507e-07\n",
       "dtype: float64"
      ]
     },
     "execution_count": 315,
     "metadata": {},
     "output_type": "execute_result"
    }
   ],
   "source": [
    "model.pvalues[model.pvalues < 0.05]"
   ]
  },
  {
   "cell_type": "markdown",
   "metadata": {},
   "source": [
    "### Dependent variable: Avg Distance"
   ]
  },
  {
   "cell_type": "code",
   "execution_count": 316,
   "metadata": {},
   "outputs": [],
   "source": [
    "X = df_meso[['Avg Distance']]"
   ]
  },
  {
   "cell_type": "code",
   "execution_count": 317,
   "metadata": {
    "scrolled": false
   },
   "outputs": [],
   "source": [
    "Y = df_dependent_variables['Mean-GlobalComponent']"
   ]
  },
  {
   "cell_type": "markdown",
   "metadata": {},
   "source": [
    "#### with `sklearn`"
   ]
  },
  {
   "cell_type": "code",
   "execution_count": 318,
   "metadata": {},
   "outputs": [
    {
     "data": {
      "text/plain": [
       "LinearRegression(copy_X=True, fit_intercept=True, n_jobs=None, normalize=False)"
      ]
     },
     "execution_count": 318,
     "metadata": {},
     "output_type": "execute_result"
    }
   ],
   "source": [
    "regr = LinearRegression()\n",
    "regr.fit(X, Y)"
   ]
  },
  {
   "cell_type": "code",
   "execution_count": 319,
   "metadata": {},
   "outputs": [
    {
     "name": "stdout",
     "output_type": "stream",
     "text": [
      "Intercept: \n",
      " 0.27700697353136705\n",
      "Coefficients: \n",
      " [0.07324176]\n"
     ]
    }
   ],
   "source": [
    "print('Intercept: \\n', regr.intercept_)\n",
    "print('Coefficients: \\n', regr.coef_)"
   ]
  },
  {
   "cell_type": "markdown",
   "metadata": {},
   "source": [
    "#### Plot "
   ]
  },
  {
   "cell_type": "code",
   "execution_count": 320,
   "metadata": {
    "scrolled": false
   },
   "outputs": [
    {
     "data": {
      "image/png": "[encoded data removed]",
      "text/plain": [
       "<Figure size 432x288 with 1 Axes>"
      ]
     },
     "metadata": {
      "needs_background": "light"
     },
     "output_type": "display_data"
    }
   ],
   "source": [
    "predictions = regr.predict(X)\n",
    "# plt.figure(figsize=(16, 8))\n",
    "plt.scatter(\n",
    "    df_meso['Avg Distance'],\n",
    "    df_dependent_variables['Mean-GlobalComponent'],\n",
    "    c='red'\n",
    ")\n",
    "plt.plot(\n",
    "    df_meso['Avg Distance'],\n",
    "    predictions,\n",
    "    c='black',\n",
    "    linewidth=2\n",
    ")\n",
    "plt.xlabel(\"Avg Distance\")\n",
    "plt.ylabel(\"Mean-GlobalComponent\")\n",
    "plt.show()"
   ]
  },
  {
   "cell_type": "markdown",
   "metadata": {},
   "source": [
    "#### with `statsmodels`"
   ]
  },
  {
   "cell_type": "code",
   "execution_count": 321,
   "metadata": {
    "scrolled": false
   },
   "outputs": [
    {
     "data": {
      "text/html": [
       "<table class=\"simpletable\">\n",
       "<caption>OLS Regression Results</caption>\n",
       "<tr>\n",
       "  <th>Dep. Variable:</th>    <td>Mean-GlobalComponent</td> <th>  R-squared:         </th> <td>   0.051</td>\n",
       "</tr>\n",
       "<tr>\n",
       "  <th>Model:</th>                     <td>OLS</td>         <th>  Adj. R-squared:    </th> <td>   0.031</td>\n",
       "</tr>\n",
       "<tr>\n",
       "  <th>Method:</th>               <td>Least Squares</td>    <th>  F-statistic:       </th> <td>   2.593</td>\n",
       "</tr>\n",
       "<tr>\n",
       "  <th>Date:</th>               <td>Tue, 16 Feb 2021</td>   <th>  Prob (F-statistic):</th>  <td> 0.114</td> \n",
       "</tr>\n",
       "<tr>\n",
       "  <th>Time:</th>                   <td>00:14:34</td>       <th>  Log-Likelihood:    </th> <td>  42.585</td>\n",
       "</tr>\n",
       "<tr>\n",
       "  <th>No. Observations:</th>        <td>    50</td>        <th>  AIC:               </th> <td>  -81.17</td>\n",
       "</tr>\n",
       "<tr>\n",
       "  <th>Df Residuals:</th>            <td>    48</td>        <th>  BIC:               </th> <td>  -77.35</td>\n",
       "</tr>\n",
       "<tr>\n",
       "  <th>Df Model:</th>                <td>     1</td>        <th>                     </th>     <td> </td>   \n",
       "</tr>\n",
       "<tr>\n",
       "  <th>Covariance Type:</th>        <td>nonrobust</td>      <th>                     </th>     <td> </td>   \n",
       "</tr>\n",
       "</table>\n",
       "<table class=\"simpletable\">\n",
       "<tr>\n",
       "        <td></td>          <th>coef</th>     <th>std err</th>      <th>t</th>      <th>P>|t|</th>  <th>[0.025</th>    <th>0.975]</th>  \n",
       "</tr>\n",
       "<tr>\n",
       "  <th>const</th>        <td>    0.2770</td> <td>    0.083</td> <td>    3.334</td> <td> 0.002</td> <td>    0.110</td> <td>    0.444</td>\n",
       "</tr>\n",
       "<tr>\n",
       "  <th>Avg Distance</th> <td>    0.0732</td> <td>    0.045</td> <td>    1.610</td> <td> 0.114</td> <td>   -0.018</td> <td>    0.165</td>\n",
       "</tr>\n",
       "</table>\n",
       "<table class=\"simpletable\">\n",
       "<tr>\n",
       "  <th>Omnibus:</th>       <td> 4.346</td> <th>  Durbin-Watson:     </th> <td>   2.141</td>\n",
       "</tr>\n",
       "<tr>\n",
       "  <th>Prob(Omnibus):</th> <td> 0.114</td> <th>  Jarque-Bera (JB):  </th> <td>   2.093</td>\n",
       "</tr>\n",
       "<tr>\n",
       "  <th>Skew:</th>          <td> 0.184</td> <th>  Prob(JB):          </th> <td>   0.351</td>\n",
       "</tr>\n",
       "<tr>\n",
       "  <th>Kurtosis:</th>      <td> 2.068</td> <th>  Cond. No.          </th> <td>    13.2</td>\n",
       "</tr>\n",
       "</table><br/><br/>Warnings:<br/>[1] Standard Errors assume that the covariance matrix of the errors is correctly specified."
      ],
      "text/plain": [
       "<class 'statsmodels.iolib.summary.Summary'>\n",
       "\"\"\"\n",
       "                             OLS Regression Results                             \n",
       "================================================================================\n",
       "Dep. Variable:     Mean-GlobalComponent   R-squared:                       0.051\n",
       "Model:                              OLS   Adj. R-squared:                  0.031\n",
       "Method:                   Least Squares   F-statistic:                     2.593\n",
       "Date:                  Tue, 16 Feb 2021   Prob (F-statistic):              0.114\n",
       "Time:                          00:14:34   Log-Likelihood:                 42.585\n",
       "No. Observations:                    50   AIC:                            -81.17\n",
       "Df Residuals:                        48   BIC:                            -77.35\n",
       "Df Model:                             1                                         \n",
       "Covariance Type:              nonrobust                                         \n",
       "================================================================================\n",
       "                   coef    std err          t      P>|t|      [0.025      0.975]\n",
       "--------------------------------------------------------------------------------\n",
       "const            0.2770      0.083      3.334      0.002       0.110       0.444\n",
       "Avg Distance     0.0732      0.045      1.610      0.114      -0.018       0.165\n",
       "==============================================================================\n",
       "Omnibus:                        4.346   Durbin-Watson:                   2.141\n",
       "Prob(Omnibus):                  0.114   Jarque-Bera (JB):                2.093\n",
       "Skew:                           0.184   Prob(JB):                        0.351\n",
       "Kurtosis:                       2.068   Cond. No.                         13.2\n",
       "==============================================================================\n",
       "\n",
       "Warnings:\n",
       "[1] Standard Errors assume that the covariance matrix of the errors is correctly specified.\n",
       "\"\"\""
      ]
     },
     "execution_count": 321,
     "metadata": {},
     "output_type": "execute_result"
    }
   ],
   "source": [
    "X = sm.add_constant(X) # adding a constant\n",
    " \n",
    "model = sm.OLS(Y, X).fit()\n",
    "predictions = model.predict(X) \n",
    " \n",
    "print_model = model.summary()\n",
    "print_model"
   ]
  },
  {
   "cell_type": "code",
   "execution_count": 322,
   "metadata": {
    "scrolled": true
   },
   "outputs": [
    {
     "data": {
      "text/plain": [
       "const    0.001657\n",
       "dtype: float64"
      ]
     },
     "execution_count": 322,
     "metadata": {},
     "output_type": "execute_result"
    }
   ],
   "source": [
    "model.pvalues[model.pvalues < 0.05]"
   ]
  },
  {
   "cell_type": "code",
   "execution_count": 323,
   "metadata": {},
   "outputs": [
    {
     "data": {
      "text/plain": [
       "const    0.001657\n",
       "dtype: float64"
      ]
     },
     "execution_count": 323,
     "metadata": {},
     "output_type": "execute_result"
    }
   ],
   "source": [
    "model.pvalues[model.pvalues < 0.01]"
   ]
  },
  {
   "cell_type": "markdown",
   "metadata": {},
   "source": [
    "### Dependent variable: Avg Hub Dominance"
   ]
  },
  {
   "cell_type": "code",
   "execution_count": 324,
   "metadata": {},
   "outputs": [],
   "source": [
    "X = df_meso[['Avg Hub Dominance']]"
   ]
  },
  {
   "cell_type": "code",
   "execution_count": 325,
   "metadata": {
    "scrolled": false
   },
   "outputs": [],
   "source": [
    "Y = df_dependent_variables['Mean-GlobalComponent']"
   ]
  },
  {
   "cell_type": "markdown",
   "metadata": {},
   "source": [
    "#### with `sklearn`"
   ]
  },
  {
   "cell_type": "code",
   "execution_count": 326,
   "metadata": {},
   "outputs": [
    {
     "data": {
      "text/plain": [
       "LinearRegression(copy_X=True, fit_intercept=True, n_jobs=None, normalize=False)"
      ]
     },
     "execution_count": 326,
     "metadata": {},
     "output_type": "execute_result"
    }
   ],
   "source": [
    "regr = LinearRegression()\n",
    "regr.fit(X, Y)"
   ]
  },
  {
   "cell_type": "code",
   "execution_count": 327,
   "metadata": {},
   "outputs": [
    {
     "name": "stdout",
     "output_type": "stream",
     "text": [
      "Intercept: \n",
      " 0.40311988310245\n",
      "Coefficients: \n",
      " [0.00715709]\n"
     ]
    }
   ],
   "source": [
    "print('Intercept: \\n', regr.intercept_)\n",
    "print('Coefficients: \\n', regr.coef_)"
   ]
  },
  {
   "cell_type": "markdown",
   "metadata": {},
   "source": [
    "#### Plot "
   ]
  },
  {
   "cell_type": "code",
   "execution_count": 328,
   "metadata": {
    "scrolled": false
   },
   "outputs": [
    {
     "data": {
      "image/png": "[encoded data removed]",
      "text/plain": [
       "<Figure size 432x288 with 1 Axes>"
      ]
     },
     "metadata": {
      "needs_background": "light"
     },
     "output_type": "display_data"
    }
   ],
   "source": [
    "predictions = regr.predict(X)\n",
    "# plt.figure(figsize=(16, 8))\n",
    "plt.scatter(\n",
    "    df_meso['Avg Hub Dominance'],\n",
    "    df_dependent_variables['Mean-GlobalComponent'],\n",
    "    c='red'\n",
    ")\n",
    "plt.plot(\n",
    "    df_meso['Avg Hub Dominance'],\n",
    "    predictions,\n",
    "    c='black',\n",
    "    linewidth=2\n",
    ")\n",
    "plt.xlabel(\"Avg Hub Dominance\")\n",
    "plt.ylabel(\"Mean-GlobalComponent\")\n",
    "plt.show()"
   ]
  },
  {
   "cell_type": "markdown",
   "metadata": {},
   "source": [
    "#### with `statsmodels`"
   ]
  },
  {
   "cell_type": "code",
   "execution_count": 329,
   "metadata": {
    "scrolled": false
   },
   "outputs": [
    {
     "data": {
      "text/html": [
       "<table class=\"simpletable\">\n",
       "<caption>OLS Regression Results</caption>\n",
       "<tr>\n",
       "  <th>Dep. Variable:</th>    <td>Mean-GlobalComponent</td> <th>  R-squared:         </th> <td>   0.000</td>\n",
       "</tr>\n",
       "<tr>\n",
       "  <th>Model:</th>                     <td>OLS</td>         <th>  Adj. R-squared:    </th> <td>  -0.021</td>\n",
       "</tr>\n",
       "<tr>\n",
       "  <th>Method:</th>               <td>Least Squares</td>    <th>  F-statistic:       </th> <td>0.004011</td>\n",
       "</tr>\n",
       "<tr>\n",
       "  <th>Date:</th>               <td>Tue, 16 Feb 2021</td>   <th>  Prob (F-statistic):</th>  <td> 0.950</td> \n",
       "</tr>\n",
       "<tr>\n",
       "  <th>Time:</th>                   <td>00:14:34</td>       <th>  Log-Likelihood:    </th> <td>  41.272</td>\n",
       "</tr>\n",
       "<tr>\n",
       "  <th>No. Observations:</th>        <td>    50</td>        <th>  AIC:               </th> <td>  -78.54</td>\n",
       "</tr>\n",
       "<tr>\n",
       "  <th>Df Residuals:</th>            <td>    48</td>        <th>  BIC:               </th> <td>  -74.72</td>\n",
       "</tr>\n",
       "<tr>\n",
       "  <th>Df Model:</th>                <td>     1</td>        <th>                     </th>     <td> </td>   \n",
       "</tr>\n",
       "<tr>\n",
       "  <th>Covariance Type:</th>        <td>nonrobust</td>      <th>                     </th>     <td> </td>   \n",
       "</tr>\n",
       "</table>\n",
       "<table class=\"simpletable\">\n",
       "<tr>\n",
       "          <td></td>             <th>coef</th>     <th>std err</th>      <th>t</th>      <th>P>|t|</th>  <th>[0.025</th>    <th>0.975]</th>  \n",
       "</tr>\n",
       "<tr>\n",
       "  <th>const</th>             <td>    0.4031</td> <td>    0.088</td> <td>    4.556</td> <td> 0.000</td> <td>    0.225</td> <td>    0.581</td>\n",
       "</tr>\n",
       "<tr>\n",
       "  <th>Avg Hub Dominance</th> <td>    0.0072</td> <td>    0.113</td> <td>    0.063</td> <td> 0.950</td> <td>   -0.220</td> <td>    0.234</td>\n",
       "</tr>\n",
       "</table>\n",
       "<table class=\"simpletable\">\n",
       "<tr>\n",
       "  <th>Omnibus:</th>       <td> 2.259</td> <th>  Durbin-Watson:     </th> <td>   2.336</td>\n",
       "</tr>\n",
       "<tr>\n",
       "  <th>Prob(Omnibus):</th> <td> 0.323</td> <th>  Jarque-Bera (JB):  </th> <td>   1.359</td>\n",
       "</tr>\n",
       "<tr>\n",
       "  <th>Skew:</th>          <td>-0.048</td> <th>  Prob(JB):          </th> <td>   0.507</td>\n",
       "</tr>\n",
       "<tr>\n",
       "  <th>Kurtosis:</th>      <td> 2.198</td> <th>  Cond. No.          </th> <td>    11.8</td>\n",
       "</tr>\n",
       "</table><br/><br/>Warnings:<br/>[1] Standard Errors assume that the covariance matrix of the errors is correctly specified."
      ],
      "text/plain": [
       "<class 'statsmodels.iolib.summary.Summary'>\n",
       "\"\"\"\n",
       "                             OLS Regression Results                             \n",
       "================================================================================\n",
       "Dep. Variable:     Mean-GlobalComponent   R-squared:                       0.000\n",
       "Model:                              OLS   Adj. R-squared:                 -0.021\n",
       "Method:                   Least Squares   F-statistic:                  0.004011\n",
       "Date:                  Tue, 16 Feb 2021   Prob (F-statistic):              0.950\n",
       "Time:                          00:14:34   Log-Likelihood:                 41.272\n",
       "No. Observations:                    50   AIC:                            -78.54\n",
       "Df Residuals:                        48   BIC:                            -74.72\n",
       "Df Model:                             1                                         \n",
       "Covariance Type:              nonrobust                                         \n",
       "=====================================================================================\n",
       "                        coef    std err          t      P>|t|      [0.025      0.975]\n",
       "-------------------------------------------------------------------------------------\n",
       "const                 0.4031      0.088      4.556      0.000       0.225       0.581\n",
       "Avg Hub Dominance     0.0072      0.113      0.063      0.950      -0.220       0.234\n",
       "==============================================================================\n",
       "Omnibus:                        2.259   Durbin-Watson:                   2.336\n",
       "Prob(Omnibus):                  0.323   Jarque-Bera (JB):                1.359\n",
       "Skew:                          -0.048   Prob(JB):                        0.507\n",
       "Kurtosis:                       2.198   Cond. No.                         11.8\n",
       "==============================================================================\n",
       "\n",
       "Warnings:\n",
       "[1] Standard Errors assume that the covariance matrix of the errors is correctly specified.\n",
       "\"\"\""
      ]
     },
     "execution_count": 329,
     "metadata": {},
     "output_type": "execute_result"
    }
   ],
   "source": [
    "X = sm.add_constant(X) # adding a constant\n",
    " \n",
    "model = sm.OLS(Y, X).fit()\n",
    "predictions = model.predict(X) \n",
    " \n",
    "print_model = model.summary()\n",
    "print_model"
   ]
  },
  {
   "cell_type": "code",
   "execution_count": 330,
   "metadata": {
    "scrolled": true
   },
   "outputs": [
    {
     "data": {
      "text/plain": [
       "const    0.000036\n",
       "dtype: float64"
      ]
     },
     "execution_count": 330,
     "metadata": {},
     "output_type": "execute_result"
    }
   ],
   "source": [
    "model.pvalues[model.pvalues < 0.05]"
   ]
  }
 ],
 "metadata": {
  "kernelspec": {
   "display_name": "Python 3",
   "language": "python",
   "name": "python3"
  },
  "language_info": {
   "codemirror_mode": {
    "name": "ipython",
    "version": 3
   },
   "file_extension": ".py",
   "mimetype": "text/x-python",
   "name": "python",
   "nbconvert_exporter": "python",
   "pygments_lexer": "ipython3",
   "version": "3.7.3"
  },
  "toc": {
   "base_numbering": 1,
   "nav_menu": {},
   "number_sections": true,
   "sideBar": true,
   "skip_h1_title": false,
   "title_cell": "Table of Contents",
   "title_sidebar": "Contents",
   "toc_cell": false,
   "toc_position": {
    "height": "723px",
    "left": "36px",
    "top": "134px",
    "width": "385px"
   },
   "toc_section_display": true,
   "toc_window_display": true
  }
 },
 "nbformat": 4,
 "nbformat_minor": 4
}
